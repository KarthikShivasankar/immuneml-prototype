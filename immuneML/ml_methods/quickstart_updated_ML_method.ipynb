{
 "cells": [
  {
   "cell_type": "code",
   "execution_count": 2,
   "metadata": {},
   "outputs": [
    {
     "name": "stderr",
     "output_type": "stream",
     "text": [
      "C:\\Users\\karth\\anaconda3\\envs\\immuneml\\lib\\site-packages\\tqdm\\auto.py:22: TqdmWarning: IProgress not found. Please update jupyter and ipywidgets. See https://ipywidgets.readthedocs.io/en/stable/user_install.html\n",
      "  from .autonotebook import tqdm as notebook_tqdm\n"
     ]
    }
   ],
   "source": [
    "import logging\n",
    "import os\n",
    "import shutil\n",
    "import sys\n",
    "import warnings\n",
    "from pathlib import Path\n",
    "\n",
    "import yaml\n",
    "\n",
    "from immuneML.app.ImmuneMLApp import ImmuneMLApp\n",
    "from immuneML.environment.EnvironmentSettings import EnvironmentSettings\n",
    "from immuneML.util.PathBuilder import PathBuilder\n"
   ]
  },
  {
   "cell_type": "code",
   "execution_count": null,
   "metadata": {},
   "outputs": [],
   "source": []
  },
  {
   "cell_type": "code",
   "execution_count": 5,
   "metadata": {},
   "outputs": [],
   "source": [
    "path = EnvironmentSettings.root_path / \"quickstart/\"\n"
   ]
  },
  {
   "cell_type": "code",
   "execution_count": 6,
   "metadata": {},
   "outputs": [
    {
     "data": {
      "text/plain": [
       "WindowsPath('C:/Users/karth/Desktop/PhD projects/immuneML/immuneML/quickstart')"
      ]
     },
     "execution_count": 6,
     "metadata": {},
     "output_type": "execute_result"
    }
   ],
   "source": [
    "path"
   ]
  },
  {
   "cell_type": "code",
   "execution_count": 7,
   "metadata": {},
   "outputs": [],
   "source": [
    "specs = {\n",
    "    \"definitions\": {\n",
    "        \"datasets\": {\n",
    "            \"d1\": {\n",
    "                \"format\": \"AIRR\",\n",
    "                \"params\": {\n",
    "                    \"path\": str(path / \"result1/simulation_instruction/exported_dataset/airr/\"),\n",
    "                    \"metadata_file\": str(path / \"result1/simulation_instruction/exported_dataset/airr/metadata.csv\")\n",
    "                }\n",
    "            }\n",
    "        },\n",
    "        \"encodings\": {\n",
    "            \"e1\": {\n",
    "                \"KmerFrequency\": {\n",
    "                    \"k\": 3\n",
    "                }\n",
    "            },\n",
    "            \"e2\": {\n",
    "                \"KmerFrequency\": {\n",
    "                    \"k\": 2\n",
    "                }\n",
    "            }\n",
    "        },\n",
    "        \"ml_methods\": {\n",
    "            \"simpleLR\": {\n",
    "                \"LogisticRegression\": {\n",
    "                    \"C\": 0.1,\n",
    "                    \"penalty\": \"l1\",\n",
    "                    \"max_iter\": 200\n",
    "                }}\n",
    "        },\n",
    "        \"reports\": {\n",
    "            \"rep1\": {\n",
    "                \"SequenceLengthDistribution\": {\n",
    "                    \"batch_size\": 3\n",
    "                }\n",
    "            },\n",
    "            \"hprep\": \"MLSettingsPerformance\",\n",
    "            \"coef\": \"Coefficients\"\n",
    "        }\n",
    "    },\n",
    "    \"instructions\": {\n",
    "        \"machine_learning_instruction\": {\n",
    "            \"type\": \"TrainMLModel\",\n",
    "            \"settings\": [\n",
    "                {\n",
    "                    \"encoding\": \"e1\",\n",
    "                    \"ml_method\": \"simpleLR\"\n",
    "                },\n",
    "                {\n",
    "                    \"encoding\": \"e2\",\n",
    "                    \"ml_method\": \"simpleLR\"\n",
    "                }\n",
    "            ],\n",
    "            \"assessment\": {\n",
    "                \"split_strategy\": \"random\",\n",
    "                \"split_count\": 1,\n",
    "                \"training_percentage\": 0.7,\n",
    "                \"reports\": {\n",
    "                    \"data_splits\": [\"rep1\"],\n",
    "                    'models': [\"coef\"]\n",
    "                }\n",
    "            },\n",
    "            \"selection\": {\n",
    "                \"split_strategy\": \"random\",\n",
    "                \"split_count\": 1,\n",
    "                \"training_percentage\": 0.7,\n",
    "                \"reports\": {\n",
    "                    \"data_splits\": [\"rep1\"],\n",
    "                    \"models\": [],\n",
    "                }\n",
    "            },\n",
    "            \"labels\": [\"my_signal\"],\n",
    "            \"dataset\": \"d1\",\n",
    "            \"strategy\": \"GridSearch\",\n",
    "            \"metrics\": [\"accuracy\"],\n",
    "            \"reports\": [\"hprep\"],\n",
    "            \"number_of_processes\": 3,\n",
    "            \"optimization_metric\": \"balanced_accuracy\",\n",
    "            \"refit_optimal_model\": False\n",
    "        }\n",
    "    }\n",
    "}\n"
   ]
  },
  {
   "cell_type": "code",
   "execution_count": null,
   "metadata": {},
   "outputs": [],
   "source": []
  },
  {
   "cell_type": "code",
   "execution_count": 8,
   "metadata": {},
   "outputs": [],
   "source": [
    "PathBuilder.build(path)\n",
    "specs_file = path / \"machine_learning_analysis/specs.yaml\"\n",
    "with specs_file.open(\"w\") as file:\n",
    "    yaml.dump(specs, file)\n"
   ]
  },
  {
   "cell_type": "code",
   "execution_count": 9,
   "metadata": {},
   "outputs": [
    {
     "data": {
      "text/plain": [
       "WindowsPath('C:/Users/karth/Desktop/PhD projects/immuneML/immuneML/quickstart/machine_learning_analysis/specs.yaml')"
      ]
     },
     "execution_count": 9,
     "metadata": {},
     "output_type": "execute_result"
    }
   ],
   "source": [
    "specs_file"
   ]
  },
  {
   "cell_type": "code",
   "execution_count": 10,
   "metadata": {},
   "outputs": [],
   "source": [
    "resultpath = path / \"machine_learning_analysis/result\"\n"
   ]
  },
  {
   "cell_type": "code",
   "execution_count": 11,
   "metadata": {},
   "outputs": [
    {
     "data": {
      "text/plain": [
       "WindowsPath('C:/Users/karth/Desktop/PhD projects/immuneML/immuneML/quickstart/machine_learning_analysis/result')"
      ]
     },
     "execution_count": 11,
     "metadata": {},
     "output_type": "execute_result"
    }
   ],
   "source": [
    "PathBuilder.build(resultpath)"
   ]
  },
  {
   "cell_type": "code",
   "execution_count": 12,
   "metadata": {},
   "outputs": [
    {
     "data": {
      "text/plain": [
       "WindowsPath('C:/Users/karth/Desktop/PhD projects/immuneML/immuneML/quickstart/machine_learning_analysis/result')"
      ]
     },
     "execution_count": 12,
     "metadata": {},
     "output_type": "execute_result"
    }
   ],
   "source": [
    "resultpath"
   ]
  },
  {
   "cell_type": "code",
   "execution_count": 13,
   "metadata": {},
   "outputs": [
    {
     "data": {
      "text/plain": [
       "{'definitions': {'datasets': {'d1': {'format': 'AIRR',\n",
       "    'params': {'path': 'C:\\\\Users\\\\karth\\\\Desktop\\\\PhD projects\\\\immuneML\\\\immuneML\\\\quickstart\\\\result1\\\\simulation_instruction\\\\exported_dataset\\\\airr',\n",
       "     'metadata_file': 'C:\\\\Users\\\\karth\\\\Desktop\\\\PhD projects\\\\immuneML\\\\immuneML\\\\quickstart\\\\result1\\\\simulation_instruction\\\\exported_dataset\\\\airr\\\\metadata.csv'}}},\n",
       "  'encodings': {'e1': {'KmerFrequency': {'k': 3}},\n",
       "   'e2': {'KmerFrequency': {'k': 2}}},\n",
       "  'ml_methods': {'simpleLR': {'LogisticRegression': {'C': 0.1,\n",
       "     'penalty': 'l1',\n",
       "     'max_iter': 200}}},\n",
       "  'reports': {'rep1': {'SequenceLengthDistribution': {'batch_size': 3}},\n",
       "   'hprep': 'MLSettingsPerformance',\n",
       "   'coef': 'Coefficients'}},\n",
       " 'instructions': {'machine_learning_instruction': {'type': 'TrainMLModel',\n",
       "   'settings': [{'encoding': 'e1', 'ml_method': 'simpleLR'},\n",
       "    {'encoding': 'e2', 'ml_method': 'simpleLR'}],\n",
       "   'assessment': {'split_strategy': 'random',\n",
       "    'split_count': 1,\n",
       "    'training_percentage': 0.7,\n",
       "    'reports': {'data_splits': ['rep1'], 'models': ['coef']}},\n",
       "   'selection': {'split_strategy': 'random',\n",
       "    'split_count': 1,\n",
       "    'training_percentage': 0.7,\n",
       "    'reports': {'data_splits': ['rep1'], 'models': []}},\n",
       "   'labels': ['my_signal'],\n",
       "   'dataset': 'd1',\n",
       "   'strategy': 'GridSearch',\n",
       "   'metrics': ['accuracy'],\n",
       "   'reports': ['hprep'],\n",
       "   'number_of_processes': 3,\n",
       "   'optimization_metric': 'balanced_accuracy',\n",
       "   'refit_optimal_model': False}}}"
      ]
     },
     "execution_count": 13,
     "metadata": {},
     "output_type": "execute_result"
    }
   ],
   "source": [
    "specs"
   ]
  },
  {
   "cell_type": "code",
   "execution_count": 14,
   "metadata": {},
   "outputs": [
    {
     "name": "stdout",
     "output_type": "stream",
     "text": [
      "2022-04-22 11:43:45.384578: Setting temporary cache path to ..\\..\\quickstart\\machine_learning_analysis\\result\\machine_learning_analysis\\result\\cache\n",
      "2022-04-22 11:43:45.385559: ImmuneML: parsing the specification...\n",
      "\n",
      "2022-04-22 11:44:02.707797: Full specification is available at ..\\..\\quickstart\\machine_learning_analysis\\result\\machine_learning_analysis\\result\\full_specs.yaml.\n",
      "\n",
      "2022-04-22 11:44:02.707797: ImmuneML: starting the analysis...\n",
      "\n",
      "2022-04-22 11:44:02.708812: Instruction 1/1 has started.\n",
      "2022-04-22 11:44:02.764800: Training ML model: running outer CV loop: started split 1/1.\n",
      "\n",
      "2022-04-22 11:44:02.819802: Hyperparameter optimization: running the inner loop of nested CV: selection for label my_signal (label 1 / 1).\n",
      "\n",
      "2022-04-22 11:44:02.822806: Evaluating hyperparameter setting: e1_simpleLR...\n",
      "2022-04-22 11:44:02.825804: Encoding started...\n",
      "2022-04-22 11:44:06.829835: Encoding finished.\n",
      "2022-04-22 11:44:06.830835: ML model training started...\n"
     ]
    },
    {
     "ename": "FileNotFoundError",
     "evalue": "[Errno 2] No such file or directory: '..\\\\..\\\\quickstart\\\\machine_learning_analysis\\\\result\\\\machine_learning_analysis\\\\result\\\\machine_learning_instruction\\\\split_1\\\\selection_random\\\\split_1\\\\my_signal_e1_simpleLR\\\\ml_method\\\\logistic_regression.pickle'",
     "output_type": "error",
     "traceback": [
      "\u001b[1;31m---------------------------------------------------------------------------\u001b[0m",
      "\u001b[1;31mFileNotFoundError\u001b[0m                         Traceback (most recent call last)",
      "\u001b[1;32mc:\\Users\\karth\\Desktop\\PhD projects\\immuneML\\immuneML\\Notebook\\Tutorial\\quickstart_updated_ML_method.ipynb Cell 13'\u001b[0m in \u001b[0;36m<cell line: 3>\u001b[1;34m()\u001b[0m\n\u001b[0;32m      <a href='vscode-notebook-cell:/c%3A/Users/karth/Desktop/PhD%20projects/immuneML/immuneML/Notebook/Tutorial/quickstart_updated_ML_method.ipynb#ch0000012?line=0'>1</a>\u001b[0m app \u001b[39m=\u001b[39m ImmuneMLApp(specs_file, resultpath \u001b[39m/\u001b[39m\n\u001b[0;32m      <a href='vscode-notebook-cell:/c%3A/Users/karth/Desktop/PhD%20projects/immuneML/immuneML/Notebook/Tutorial/quickstart_updated_ML_method.ipynb#ch0000012?line=1'>2</a>\u001b[0m                   \u001b[39m\"\u001b[39m\u001b[39mmachine_learning_analysis/result\u001b[39m\u001b[39m\"\u001b[39m)\n\u001b[1;32m----> <a href='vscode-notebook-cell:/c%3A/Users/karth/Desktop/PhD%20projects/immuneML/immuneML/Notebook/Tutorial/quickstart_updated_ML_method.ipynb#ch0000012?line=2'>3</a>\u001b[0m app\u001b[39m.\u001b[39;49mrun()\n",
      "File \u001b[1;32m~\\Desktop\\PhD projects\\immuneML\\immuneML\\immuneML\\app\\ImmuneMLApp.py:51\u001b[0m, in \u001b[0;36mImmuneMLApp.run\u001b[1;34m(self)\u001b[0m\n\u001b[0;32m     <a href='file:///c%3A/Users/karth/Desktop/PhD%20projects/immuneML/immuneML/immuneML/app/ImmuneMLApp.py?line=48'>49</a>\u001b[0m output \u001b[39m=\u001b[39m symbol_table\u001b[39m.\u001b[39mget(\u001b[39m\"\u001b[39m\u001b[39moutput\u001b[39m\u001b[39m\"\u001b[39m)\n\u001b[0;32m     <a href='file:///c%3A/Users/karth/Desktop/PhD%20projects/immuneML/immuneML/immuneML/app/ImmuneMLApp.py?line=49'>50</a>\u001b[0m model \u001b[39m=\u001b[39m SemanticModel([instruction\u001b[39m.\u001b[39mitem \u001b[39mfor\u001b[39;00m instruction \u001b[39min\u001b[39;00m instructions], \u001b[39mself\u001b[39m\u001b[39m.\u001b[39m_result_path, output)\n\u001b[1;32m---> <a href='file:///c%3A/Users/karth/Desktop/PhD%20projects/immuneML/immuneML/immuneML/app/ImmuneMLApp.py?line=50'>51</a>\u001b[0m result \u001b[39m=\u001b[39m model\u001b[39m.\u001b[39;49mrun()\n\u001b[0;32m     <a href='file:///c%3A/Users/karth/Desktop/PhD%20projects/immuneML/immuneML/immuneML/app/ImmuneMLApp.py?line=52'>53</a>\u001b[0m \u001b[39mself\u001b[39m\u001b[39m.\u001b[39mclear_cache()\n\u001b[0;32m     <a href='file:///c%3A/Users/karth/Desktop/PhD%20projects/immuneML/immuneML/immuneML/app/ImmuneMLApp.py?line=54'>55</a>\u001b[0m \u001b[39mprint\u001b[39m(\u001b[39mf\u001b[39m\u001b[39m\"\u001b[39m\u001b[39m{\u001b[39;00mdatetime\u001b[39m.\u001b[39mdatetime\u001b[39m.\u001b[39mnow()\u001b[39m}\u001b[39;00m\u001b[39m: ImmuneML: finished analysis.\u001b[39m\u001b[39m\\n\u001b[39;00m\u001b[39m\"\u001b[39m, flush\u001b[39m=\u001b[39m\u001b[39mTrue\u001b[39;00m)\n",
      "File \u001b[1;32m~\\Desktop\\PhD projects\\immuneML\\immuneML\\immuneML\\dsl\\semantic_model\\SemanticModel.py:18\u001b[0m, in \u001b[0;36mSemanticModel.run\u001b[1;34m(self)\u001b[0m\n\u001b[0;32m     <a href='file:///c%3A/Users/karth/Desktop/PhD%20projects/immuneML/immuneML/immuneML/dsl/semantic_model/SemanticModel.py?line=16'>17</a>\u001b[0m \u001b[39mdef\u001b[39;00m \u001b[39mrun\u001b[39m(\u001b[39mself\u001b[39m):\n\u001b[1;32m---> <a href='file:///c%3A/Users/karth/Desktop/PhD%20projects/immuneML/immuneML/immuneML/dsl/semantic_model/SemanticModel.py?line=17'>18</a>\u001b[0m     instruction_states \u001b[39m=\u001b[39m \u001b[39mself\u001b[39;49m\u001b[39m.\u001b[39;49mrun_instructions()\n\u001b[0;32m     <a href='file:///c%3A/Users/karth/Desktop/PhD%20projects/immuneML/immuneML/immuneML/dsl/semantic_model/SemanticModel.py?line=18'>19</a>\u001b[0m     \u001b[39mif\u001b[39;00m \u001b[39mself\u001b[39m\u001b[39m.\u001b[39moutput \u001b[39mis\u001b[39;00m \u001b[39mnot\u001b[39;00m \u001b[39mNone\u001b[39;00m:\n\u001b[0;32m     <a href='file:///c%3A/Users/karth/Desktop/PhD%20projects/immuneML/immuneML/immuneML/dsl/semantic_model/SemanticModel.py?line=19'>20</a>\u001b[0m         \u001b[39mself\u001b[39m\u001b[39m.\u001b[39mbuild_reports(instruction_states)\n",
      "File \u001b[1;32m~\\Desktop\\PhD projects\\immuneML\\immuneML\\immuneML\\dsl\\semantic_model\\SemanticModel.py:34\u001b[0m, in \u001b[0;36mSemanticModel.run_instructions\u001b[1;34m(self)\u001b[0m\n\u001b[0;32m     <a href='file:///c%3A/Users/karth/Desktop/PhD%20projects/immuneML/immuneML/immuneML/dsl/semantic_model/SemanticModel.py?line=31'>32</a>\u001b[0m \u001b[39mfor\u001b[39;00m index, instruction \u001b[39min\u001b[39;00m \u001b[39menumerate\u001b[39m(\u001b[39mself\u001b[39m\u001b[39m.\u001b[39minstructions):\n\u001b[0;32m     <a href='file:///c%3A/Users/karth/Desktop/PhD%20projects/immuneML/immuneML/immuneML/dsl/semantic_model/SemanticModel.py?line=32'>33</a>\u001b[0m     \u001b[39mprint\u001b[39m(\u001b[39m\"\u001b[39m\u001b[39m{}\u001b[39;00m\u001b[39m: Instruction \u001b[39m\u001b[39m{}\u001b[39;00m\u001b[39m/\u001b[39m\u001b[39m{}\u001b[39;00m\u001b[39m has started.\u001b[39m\u001b[39m\"\u001b[39m\u001b[39m.\u001b[39mformat(datetime\u001b[39m.\u001b[39mdatetime\u001b[39m.\u001b[39mnow(), index\u001b[39m+\u001b[39m\u001b[39m1\u001b[39m, \u001b[39mlen\u001b[39m(\u001b[39mself\u001b[39m\u001b[39m.\u001b[39minstructions)), flush\u001b[39m=\u001b[39m\u001b[39mTrue\u001b[39;00m)\n\u001b[1;32m---> <a href='file:///c%3A/Users/karth/Desktop/PhD%20projects/immuneML/immuneML/immuneML/dsl/semantic_model/SemanticModel.py?line=33'>34</a>\u001b[0m     result \u001b[39m=\u001b[39m instruction\u001b[39m.\u001b[39;49mrun(result_path\u001b[39m=\u001b[39;49m\u001b[39mself\u001b[39;49m\u001b[39m.\u001b[39;49mresult_path)\n\u001b[0;32m     <a href='file:///c%3A/Users/karth/Desktop/PhD%20projects/immuneML/immuneML/immuneML/dsl/semantic_model/SemanticModel.py?line=34'>35</a>\u001b[0m     instruction_states\u001b[39m.\u001b[39mappend(result)\n\u001b[0;32m     <a href='file:///c%3A/Users/karth/Desktop/PhD%20projects/immuneML/immuneML/immuneML/dsl/semantic_model/SemanticModel.py?line=35'>36</a>\u001b[0m     \u001b[39mprint\u001b[39m(\u001b[39m\"\u001b[39m\u001b[39m{}\u001b[39;00m\u001b[39m: Instruction \u001b[39m\u001b[39m{}\u001b[39;00m\u001b[39m/\u001b[39m\u001b[39m{}\u001b[39;00m\u001b[39m has finished.\u001b[39m\u001b[39m\"\u001b[39m\u001b[39m.\u001b[39mformat(datetime\u001b[39m.\u001b[39mdatetime\u001b[39m.\u001b[39mnow(), index\u001b[39m+\u001b[39m\u001b[39m1\u001b[39m, \u001b[39mlen\u001b[39m(\u001b[39mself\u001b[39m\u001b[39m.\u001b[39minstructions)), flush\u001b[39m=\u001b[39m\u001b[39mTrue\u001b[39;00m)\n",
      "File \u001b[1;32m~\\Desktop\\PhD projects\\immuneML\\immuneML\\immuneML\\workflows\\instructions\\TrainMLModelInstruction.py:131\u001b[0m, in \u001b[0;36mTrainMLModelInstruction.run\u001b[1;34m(self, result_path)\u001b[0m\n\u001b[0;32m    <a href='file:///c%3A/Users/karth/Desktop/PhD%20projects/immuneML/immuneML/immuneML/workflows/instructions/TrainMLModelInstruction.py?line=128'>129</a>\u001b[0m \u001b[39mdef\u001b[39;00m \u001b[39mrun\u001b[39m(\u001b[39mself\u001b[39m, result_path: Path):\n\u001b[0;32m    <a href='file:///c%3A/Users/karth/Desktop/PhD%20projects/immuneML/immuneML/immuneML/workflows/instructions/TrainMLModelInstruction.py?line=129'>130</a>\u001b[0m     \u001b[39mself\u001b[39m\u001b[39m.\u001b[39mstate\u001b[39m.\u001b[39mpath \u001b[39m=\u001b[39m result_path\n\u001b[1;32m--> <a href='file:///c%3A/Users/karth/Desktop/PhD%20projects/immuneML/immuneML/immuneML/workflows/instructions/TrainMLModelInstruction.py?line=130'>131</a>\u001b[0m     \u001b[39mself\u001b[39m\u001b[39m.\u001b[39mstate \u001b[39m=\u001b[39m HPAssessment\u001b[39m.\u001b[39;49mrun_assessment(\u001b[39mself\u001b[39;49m\u001b[39m.\u001b[39;49mstate)\n\u001b[0;32m    <a href='file:///c%3A/Users/karth/Desktop/PhD%20projects/immuneML/immuneML/immuneML/workflows/instructions/TrainMLModelInstruction.py?line=131'>132</a>\u001b[0m     \u001b[39mself\u001b[39m\u001b[39m.\u001b[39m_compute_optimal_hp_item_per_label()\n\u001b[0;32m    <a href='file:///c%3A/Users/karth/Desktop/PhD%20projects/immuneML/immuneML/immuneML/workflows/instructions/TrainMLModelInstruction.py?line=132'>133</a>\u001b[0m     \u001b[39mself\u001b[39m\u001b[39m.\u001b[39mstate\u001b[39m.\u001b[39mreport_results \u001b[39m=\u001b[39m HPUtil\u001b[39m.\u001b[39mrun_hyperparameter_reports(\u001b[39mself\u001b[39m\u001b[39m.\u001b[39mstate, \u001b[39mself\u001b[39m\u001b[39m.\u001b[39mstate\u001b[39m.\u001b[39mpath \u001b[39m/\u001b[39m \u001b[39m\"\u001b[39m\u001b[39mreports\u001b[39m\u001b[39m\"\u001b[39m)\n",
      "File \u001b[1;32m~\\Desktop\\PhD projects\\immuneML\\immuneML\\immuneML\\hyperparameter_optimization\\core\\HPAssessment.py:28\u001b[0m, in \u001b[0;36mHPAssessment.run_assessment\u001b[1;34m(state)\u001b[0m\n\u001b[0;32m     <a href='file:///c%3A/Users/karth/Desktop/PhD%20projects/immuneML/immuneML/immuneML/hyperparameter_optimization/core/HPAssessment.py?line=24'>25</a>\u001b[0m n_splits \u001b[39m=\u001b[39m \u001b[39mlen\u001b[39m(train_val_datasets)\n\u001b[0;32m     <a href='file:///c%3A/Users/karth/Desktop/PhD%20projects/immuneML/immuneML/immuneML/hyperparameter_optimization/core/HPAssessment.py?line=26'>27</a>\u001b[0m \u001b[39mfor\u001b[39;00m index \u001b[39min\u001b[39;00m \u001b[39mrange\u001b[39m(n_splits):\n\u001b[1;32m---> <a href='file:///c%3A/Users/karth/Desktop/PhD%20projects/immuneML/immuneML/immuneML/hyperparameter_optimization/core/HPAssessment.py?line=27'>28</a>\u001b[0m     state \u001b[39m=\u001b[39m HPAssessment\u001b[39m.\u001b[39;49mrun_assessment_split(state, train_val_datasets[index], test_datasets[index], index, n_splits)\n\u001b[0;32m     <a href='file:///c%3A/Users/karth/Desktop/PhD%20projects/immuneML/immuneML/immuneML/hyperparameter_optimization/core/HPAssessment.py?line=29'>30</a>\u001b[0m \u001b[39mreturn\u001b[39;00m state\n",
      "File \u001b[1;32m~\\Desktop\\PhD projects\\immuneML\\immuneML\\immuneML\\hyperparameter_optimization\\core\\HPAssessment.py:49\u001b[0m, in \u001b[0;36mHPAssessment.run_assessment_split\u001b[1;34m(state, train_val_dataset, test_dataset, split_index, n_splits)\u001b[0m\n\u001b[0;32m     <a href='file:///c%3A/Users/karth/Desktop/PhD%20projects/immuneML/immuneML/immuneML/hyperparameter_optimization/core/HPAssessment.py?line=45'>46</a>\u001b[0m assessment_state \u001b[39m=\u001b[39m HPAssessmentState(split_index, train_val_dataset, test_dataset, current_path, state\u001b[39m.\u001b[39mlabel_configuration)\n\u001b[0;32m     <a href='file:///c%3A/Users/karth/Desktop/PhD%20projects/immuneML/immuneML/immuneML/hyperparameter_optimization/core/HPAssessment.py?line=46'>47</a>\u001b[0m state\u001b[39m.\u001b[39massessment_states\u001b[39m.\u001b[39mappend(assessment_state)\n\u001b[1;32m---> <a href='file:///c%3A/Users/karth/Desktop/PhD%20projects/immuneML/immuneML/immuneML/hyperparameter_optimization/core/HPAssessment.py?line=48'>49</a>\u001b[0m state \u001b[39m=\u001b[39m HPSelection\u001b[39m.\u001b[39;49mrun_selection(state, train_val_dataset, current_path, split_index)\n\u001b[0;32m     <a href='file:///c%3A/Users/karth/Desktop/PhD%20projects/immuneML/immuneML/immuneML/hyperparameter_optimization/core/HPAssessment.py?line=49'>50</a>\u001b[0m state \u001b[39m=\u001b[39m HPAssessment\u001b[39m.\u001b[39mrun_assessment_split_per_label(state, split_index)\n\u001b[0;32m     <a href='file:///c%3A/Users/karth/Desktop/PhD%20projects/immuneML/immuneML/immuneML/hyperparameter_optimization/core/HPAssessment.py?line=51'>52</a>\u001b[0m assessment_state\u001b[39m.\u001b[39mtrain_val_data_reports \u001b[39m=\u001b[39m ReportUtil\u001b[39m.\u001b[39mrun_data_reports(train_val_dataset, state\u001b[39m.\u001b[39massessment\u001b[39m.\u001b[39mreports\u001b[39m.\u001b[39mdata_split_reports\u001b[39m.\u001b[39mvalues(),\n\u001b[0;32m     <a href='file:///c%3A/Users/karth/Desktop/PhD%20projects/immuneML/immuneML/immuneML/hyperparameter_optimization/core/HPAssessment.py?line=52'>53</a>\u001b[0m                                                                       current_path \u001b[39m/\u001b[39m \u001b[39m\"\u001b[39m\u001b[39mdata_report_train\u001b[39m\u001b[39m\"\u001b[39m, state\u001b[39m.\u001b[39mnumber_of_processes, state\u001b[39m.\u001b[39mcontext)\n",
      "File \u001b[1;32m~\\Desktop\\PhD projects\\immuneML\\immuneML\\immuneML\\hyperparameter_optimization\\core\\HPSelection.py:43\u001b[0m, in \u001b[0;36mHPSelection.run_selection\u001b[1;34m(state, train_val_dataset, current_path, split_index)\u001b[0m\n\u001b[0;32m     <a href='file:///c%3A/Users/karth/Desktop/PhD%20projects/immuneML/immuneML/immuneML/hyperparameter_optimization/core/HPSelection.py?line=40'>41</a>\u001b[0m hp_setting \u001b[39m=\u001b[39m selection_state\u001b[39m.\u001b[39mhp_strategy\u001b[39m.\u001b[39mgenerate_next_setting()\n\u001b[0;32m     <a href='file:///c%3A/Users/karth/Desktop/PhD%20projects/immuneML/immuneML/immuneML/hyperparameter_optimization/core/HPSelection.py?line=41'>42</a>\u001b[0m \u001b[39mwhile\u001b[39;00m hp_setting \u001b[39mis\u001b[39;00m \u001b[39mnot\u001b[39;00m \u001b[39mNone\u001b[39;00m:\n\u001b[1;32m---> <a href='file:///c%3A/Users/karth/Desktop/PhD%20projects/immuneML/immuneML/immuneML/hyperparameter_optimization/core/HPSelection.py?line=42'>43</a>\u001b[0m     performance \u001b[39m=\u001b[39m HPSelection\u001b[39m.\u001b[39;49mevaluate_hp_setting(state, hp_setting, train_datasets, val_datasets,\n\u001b[0;32m     <a href='file:///c%3A/Users/karth/Desktop/PhD%20projects/immuneML/immuneML/immuneML/hyperparameter_optimization/core/HPSelection.py?line=43'>44</a>\u001b[0m                                                   path, label, split_index)\n\u001b[0;32m     <a href='file:///c%3A/Users/karth/Desktop/PhD%20projects/immuneML/immuneML/immuneML/hyperparameter_optimization/core/HPSelection.py?line=44'>45</a>\u001b[0m     hp_setting \u001b[39m=\u001b[39m selection_state\u001b[39m.\u001b[39mhp_strategy\u001b[39m.\u001b[39mgenerate_next_setting(hp_setting, performance)\n\u001b[0;32m     <a href='file:///c%3A/Users/karth/Desktop/PhD%20projects/immuneML/immuneML/immuneML/hyperparameter_optimization/core/HPSelection.py?line=46'>47</a>\u001b[0m HPUtil\u001b[39m.\u001b[39mrun_selection_reports(state, train_val_dataset, train_datasets, val_datasets, selection_state)\n",
      "File \u001b[1;32m~\\Desktop\\PhD projects\\immuneML\\immuneML\\immuneML\\hyperparameter_optimization\\core\\HPSelection.py:60\u001b[0m, in \u001b[0;36mHPSelection.evaluate_hp_setting\u001b[1;34m(state, hp_setting, train_datasets, val_datasets, current_path, label, assessment_split_index)\u001b[0m\n\u001b[0;32m     <a href='file:///c%3A/Users/karth/Desktop/PhD%20projects/immuneML/immuneML/immuneML/hyperparameter_optimization/core/HPSelection.py?line=57'>58</a>\u001b[0m performances \u001b[39m=\u001b[39m []\n\u001b[0;32m     <a href='file:///c%3A/Users/karth/Desktop/PhD%20projects/immuneML/immuneML/immuneML/hyperparameter_optimization/core/HPSelection.py?line=58'>59</a>\u001b[0m \u001b[39mfor\u001b[39;00m index \u001b[39min\u001b[39;00m \u001b[39mrange\u001b[39m(state\u001b[39m.\u001b[39mselection\u001b[39m.\u001b[39msplit_count):\n\u001b[1;32m---> <a href='file:///c%3A/Users/karth/Desktop/PhD%20projects/immuneML/immuneML/immuneML/hyperparameter_optimization/core/HPSelection.py?line=59'>60</a>\u001b[0m     performance \u001b[39m=\u001b[39m HPSelection\u001b[39m.\u001b[39;49mrun_setting(state, hp_setting, train_datasets[index], val_datasets[index], index \u001b[39m+\u001b[39;49m \u001b[39m1\u001b[39;49m,\n\u001b[0;32m     <a href='file:///c%3A/Users/karth/Desktop/PhD%20projects/immuneML/immuneML/immuneML/hyperparameter_optimization/core/HPSelection.py?line=60'>61</a>\u001b[0m                                           current_path \u001b[39m/\u001b[39;49m \u001b[39mf\u001b[39;49m\u001b[39m\"\u001b[39;49m\u001b[39msplit_\u001b[39;49m\u001b[39m{\u001b[39;49;00mindex \u001b[39m+\u001b[39;49m \u001b[39m1\u001b[39;49m\u001b[39m}\u001b[39;49;00m\u001b[39m\"\u001b[39;49m \u001b[39m/\u001b[39;49m \u001b[39mf\u001b[39;49m\u001b[39m\"\u001b[39;49m\u001b[39m{\u001b[39;49;00mlabel\u001b[39m.\u001b[39;49mname\u001b[39m}\u001b[39;49;00m\u001b[39m_\u001b[39;49m\u001b[39m{\u001b[39;49;00mhp_setting\u001b[39m.\u001b[39;49mget_key()\u001b[39m}\u001b[39;49;00m\u001b[39m\"\u001b[39;49m,\n\u001b[0;32m     <a href='file:///c%3A/Users/karth/Desktop/PhD%20projects/immuneML/immuneML/immuneML/hyperparameter_optimization/core/HPSelection.py?line=61'>62</a>\u001b[0m                                           label, assessment_split_index)\n\u001b[0;32m     <a href='file:///c%3A/Users/karth/Desktop/PhD%20projects/immuneML/immuneML/immuneML/hyperparameter_optimization/core/HPSelection.py?line=62'>63</a>\u001b[0m     performances\u001b[39m.\u001b[39mappend(performance)\n\u001b[0;32m     <a href='file:///c%3A/Users/karth/Desktop/PhD%20projects/immuneML/immuneML/immuneML/hyperparameter_optimization/core/HPSelection.py?line=64'>65</a>\u001b[0m \u001b[39mreturn\u001b[39;00m HPUtil\u001b[39m.\u001b[39mget_average_performance(performances)\n",
      "File \u001b[1;32m~\\Desktop\\PhD projects\\immuneML\\immuneML\\immuneML\\hyperparameter_optimization\\core\\HPSelection.py:71\u001b[0m, in \u001b[0;36mHPSelection.run_setting\u001b[1;34m(state, hp_setting, train_dataset, val_dataset, split_index, current_path, label, assessment_index)\u001b[0m\n\u001b[0;32m     <a href='file:///c%3A/Users/karth/Desktop/PhD%20projects/immuneML/immuneML/immuneML/hyperparameter_optimization/core/HPSelection.py?line=66'>67</a>\u001b[0m \u001b[39m@staticmethod\u001b[39m\n\u001b[0;32m     <a href='file:///c%3A/Users/karth/Desktop/PhD%20projects/immuneML/immuneML/immuneML/hyperparameter_optimization/core/HPSelection.py?line=67'>68</a>\u001b[0m \u001b[39mdef\u001b[39;00m \u001b[39mrun_setting\u001b[39m(state: TrainMLModelState, hp_setting, train_dataset, val_dataset, split_index: \u001b[39mint\u001b[39m,\n\u001b[0;32m     <a href='file:///c%3A/Users/karth/Desktop/PhD%20projects/immuneML/immuneML/immuneML/hyperparameter_optimization/core/HPSelection.py?line=68'>69</a>\u001b[0m                 current_path: Path, label: Label, assessment_index: \u001b[39mint\u001b[39m):\n\u001b[1;32m---> <a href='file:///c%3A/Users/karth/Desktop/PhD%20projects/immuneML/immuneML/immuneML/hyperparameter_optimization/core/HPSelection.py?line=70'>71</a>\u001b[0m     hp_item \u001b[39m=\u001b[39m MLProcess(train_dataset\u001b[39m=\u001b[39;49mtrain_dataset, test_dataset\u001b[39m=\u001b[39;49mval_dataset, encoding_reports\u001b[39m=\u001b[39;49mstate\u001b[39m.\u001b[39;49mselection\u001b[39m.\u001b[39;49mreports\u001b[39m.\u001b[39;49mencoding_reports\u001b[39m.\u001b[39;49mvalues(),\n\u001b[0;32m     <a href='file:///c%3A/Users/karth/Desktop/PhD%20projects/immuneML/immuneML/immuneML/hyperparameter_optimization/core/HPSelection.py?line=71'>72</a>\u001b[0m                         label_config\u001b[39m=\u001b[39;49mLabelConfiguration([label]), report_context\u001b[39m=\u001b[39;49mstate\u001b[39m.\u001b[39;49mcontext,\n\u001b[0;32m     <a href='file:///c%3A/Users/karth/Desktop/PhD%20projects/immuneML/immuneML/immuneML/hyperparameter_optimization/core/HPSelection.py?line=72'>73</a>\u001b[0m                         number_of_processes\u001b[39m=\u001b[39;49mstate\u001b[39m.\u001b[39;49mnumber_of_processes, metrics\u001b[39m=\u001b[39;49mstate\u001b[39m.\u001b[39;49mmetrics, optimization_metric\u001b[39m=\u001b[39;49mstate\u001b[39m.\u001b[39;49moptimization_metric,\n\u001b[0;32m     <a href='file:///c%3A/Users/karth/Desktop/PhD%20projects/immuneML/immuneML/immuneML/hyperparameter_optimization/core/HPSelection.py?line=73'>74</a>\u001b[0m                         ml_reports\u001b[39m=\u001b[39;49mstate\u001b[39m.\u001b[39;49mselection\u001b[39m.\u001b[39;49mreports\u001b[39m.\u001b[39;49mmodel_reports\u001b[39m.\u001b[39;49mvalues(), label\u001b[39m=\u001b[39;49mlabel, path\u001b[39m=\u001b[39;49mcurrent_path, hp_setting\u001b[39m=\u001b[39;49mhp_setting)\\\n\u001b[0;32m     <a href='file:///c%3A/Users/karth/Desktop/PhD%20projects/immuneML/immuneML/immuneML/hyperparameter_optimization/core/HPSelection.py?line=74'>75</a>\u001b[0m         \u001b[39m.\u001b[39;49mrun(split_index)\n\u001b[0;32m     <a href='file:///c%3A/Users/karth/Desktop/PhD%20projects/immuneML/immuneML/immuneML/hyperparameter_optimization/core/HPSelection.py?line=76'>77</a>\u001b[0m     state\u001b[39m.\u001b[39massessment_states[assessment_index]\u001b[39m.\u001b[39mlabel_states[label\u001b[39m.\u001b[39mname]\u001b[39m.\u001b[39mselection_state\u001b[39m.\u001b[39mhp_items[hp_setting\u001b[39m.\u001b[39mget_key()]\u001b[39m.\u001b[39mappend(hp_item)\n\u001b[0;32m     <a href='file:///c%3A/Users/karth/Desktop/PhD%20projects/immuneML/immuneML/immuneML/hyperparameter_optimization/core/HPSelection.py?line=78'>79</a>\u001b[0m     \u001b[39mreturn\u001b[39;00m hp_item\u001b[39m.\u001b[39mperformance[state\u001b[39m.\u001b[39moptimization_metric\u001b[39m.\u001b[39mname\u001b[39m.\u001b[39mlower()] \u001b[39mif\u001b[39;00m hp_item\u001b[39m.\u001b[39mperformance \u001b[39mis\u001b[39;00m \u001b[39mnot\u001b[39;00m \u001b[39mNone\u001b[39;00m \u001b[39melse\u001b[39;00m \u001b[39mNone\u001b[39;00m\n",
      "File \u001b[1;32m~\\Desktop\\PhD projects\\immuneML\\immuneML\\immuneML\\workflows\\instructions\\MLProcess.py:78\u001b[0m, in \u001b[0;36mMLProcess.run\u001b[1;34m(self, split_index)\u001b[0m\n\u001b[0;32m     <a href='file:///c%3A/Users/karth/Desktop/PhD%20projects/immuneML/immuneML/immuneML/workflows/instructions/MLProcess.py?line=70'>71</a>\u001b[0m processed_dataset \u001b[39m=\u001b[39m HPUtil\u001b[39m.\u001b[39mpreprocess_dataset(\u001b[39mself\u001b[39m\u001b[39m.\u001b[39mtrain_dataset, \u001b[39mself\u001b[39m\u001b[39m.\u001b[39mhp_setting\u001b[39m.\u001b[39mpreproc_sequence, \u001b[39mself\u001b[39m\u001b[39m.\u001b[39mpath \u001b[39m/\u001b[39m \u001b[39m\"\u001b[39m\u001b[39mpreprocessed_train_dataset\u001b[39m\u001b[39m\"\u001b[39m,\n\u001b[0;32m     <a href='file:///c%3A/Users/karth/Desktop/PhD%20projects/immuneML/immuneML/immuneML/workflows/instructions/MLProcess.py?line=71'>72</a>\u001b[0m                                               \u001b[39mself\u001b[39m\u001b[39m.\u001b[39mreport_context)\n\u001b[0;32m     <a href='file:///c%3A/Users/karth/Desktop/PhD%20projects/immuneML/immuneML/immuneML/workflows/instructions/MLProcess.py?line=73'>74</a>\u001b[0m encoded_train_dataset \u001b[39m=\u001b[39m HPUtil\u001b[39m.\u001b[39mencode_dataset(processed_dataset, \u001b[39mself\u001b[39m\u001b[39m.\u001b[39mhp_setting, \u001b[39mself\u001b[39m\u001b[39m.\u001b[39mpath \u001b[39m/\u001b[39m \u001b[39m\"\u001b[39m\u001b[39mencoded_datasets\u001b[39m\u001b[39m\"\u001b[39m, learn_model\u001b[39m=\u001b[39m\u001b[39mTrue\u001b[39;00m,\n\u001b[0;32m     <a href='file:///c%3A/Users/karth/Desktop/PhD%20projects/immuneML/immuneML/immuneML/workflows/instructions/MLProcess.py?line=74'>75</a>\u001b[0m                                               context\u001b[39m=\u001b[39m\u001b[39mself\u001b[39m\u001b[39m.\u001b[39mreport_context, number_of_processes\u001b[39m=\u001b[39m\u001b[39mself\u001b[39m\u001b[39m.\u001b[39mnumber_of_processes,\n\u001b[0;32m     <a href='file:///c%3A/Users/karth/Desktop/PhD%20projects/immuneML/immuneML/immuneML/workflows/instructions/MLProcess.py?line=75'>76</a>\u001b[0m                                               label_configuration\u001b[39m=\u001b[39m\u001b[39mself\u001b[39m\u001b[39m.\u001b[39mlabel_config)\n\u001b[1;32m---> <a href='file:///c%3A/Users/karth/Desktop/PhD%20projects/immuneML/immuneML/immuneML/workflows/instructions/MLProcess.py?line=77'>78</a>\u001b[0m method \u001b[39m=\u001b[39m HPUtil\u001b[39m.\u001b[39;49mtrain_method(\u001b[39mself\u001b[39;49m\u001b[39m.\u001b[39;49mlabel, encoded_train_dataset, \u001b[39mself\u001b[39;49m\u001b[39m.\u001b[39;49mhp_setting, \u001b[39mself\u001b[39;49m\u001b[39m.\u001b[39;49mpath, \u001b[39mself\u001b[39;49m\u001b[39m.\u001b[39;49mtrain_predictions_path, \u001b[39mself\u001b[39;49m\u001b[39m.\u001b[39;49mml_details_path, \u001b[39mself\u001b[39;49m\u001b[39m.\u001b[39;49mnumber_of_processes, \u001b[39mself\u001b[39;49m\u001b[39m.\u001b[39;49moptimization_metric)\n\u001b[0;32m     <a href='file:///c%3A/Users/karth/Desktop/PhD%20projects/immuneML/immuneML/immuneML/workflows/instructions/MLProcess.py?line=79'>80</a>\u001b[0m encoding_train_results \u001b[39m=\u001b[39m ReportUtil\u001b[39m.\u001b[39mrun_encoding_reports(encoded_train_dataset, \u001b[39mself\u001b[39m\u001b[39m.\u001b[39mencoding_reports, \u001b[39mself\u001b[39m\u001b[39m.\u001b[39mreport_path \u001b[39m/\u001b[39m \u001b[39m\"\u001b[39m\u001b[39mencoding_train\u001b[39m\u001b[39m\"\u001b[39m, \u001b[39mself\u001b[39m\u001b[39m.\u001b[39mnumber_of_processes)\n\u001b[0;32m     <a href='file:///c%3A/Users/karth/Desktop/PhD%20projects/immuneML/immuneML/immuneML/workflows/instructions/MLProcess.py?line=81'>82</a>\u001b[0m hp_item \u001b[39m=\u001b[39m \u001b[39mself\u001b[39m\u001b[39m.\u001b[39m_assess_on_test_dataset(encoded_train_dataset, encoding_train_results, method, split_index)\n",
      "File \u001b[1;32m~\\Desktop\\PhD projects\\immuneML\\immuneML\\immuneML\\hyperparameter_optimization\\core\\HPUtil.py:75\u001b[0m, in \u001b[0;36mHPUtil.train_method\u001b[1;34m(label, dataset, hp_setting, path, train_predictions_path, ml_details_path, cores_for_training, optimization_metric)\u001b[0m\n\u001b[0;32m     <a href='file:///c%3A/Users/karth/Desktop/PhD%20projects/immuneML/immuneML/immuneML/hyperparameter_optimization/core/HPUtil.py?line=72'>73</a>\u001b[0m \u001b[39m@staticmethod\u001b[39m\n\u001b[0;32m     <a href='file:///c%3A/Users/karth/Desktop/PhD%20projects/immuneML/immuneML/immuneML/hyperparameter_optimization/core/HPUtil.py?line=73'>74</a>\u001b[0m \u001b[39mdef\u001b[39;00m \u001b[39mtrain_method\u001b[39m(label: Label, dataset, hp_setting: HPSetting, path: Path, train_predictions_path, ml_details_path, cores_for_training, optimization_metric) \u001b[39m-\u001b[39m\u001b[39m>\u001b[39m MLMethod:\n\u001b[1;32m---> <a href='file:///c%3A/Users/karth/Desktop/PhD%20projects/immuneML/immuneML/immuneML/hyperparameter_optimization/core/HPUtil.py?line=74'>75</a>\u001b[0m     method \u001b[39m=\u001b[39m MLMethodTrainer\u001b[39m.\u001b[39;49mrun(MLMethodTrainerParams(\n\u001b[0;32m     <a href='file:///c%3A/Users/karth/Desktop/PhD%20projects/immuneML/immuneML/immuneML/hyperparameter_optimization/core/HPUtil.py?line=75'>76</a>\u001b[0m         method\u001b[39m=\u001b[39;49mcopy\u001b[39m.\u001b[39;49mdeepcopy(hp_setting\u001b[39m.\u001b[39;49mml_method),\n\u001b[0;32m     <a href='file:///c%3A/Users/karth/Desktop/PhD%20projects/immuneML/immuneML/immuneML/hyperparameter_optimization/core/HPUtil.py?line=76'>77</a>\u001b[0m         result_path\u001b[39m=\u001b[39;49mpath \u001b[39m/\u001b[39;49m \u001b[39m\"\u001b[39;49m\u001b[39mml_method\u001b[39;49m\u001b[39m\"\u001b[39;49m,\n\u001b[0;32m     <a href='file:///c%3A/Users/karth/Desktop/PhD%20projects/immuneML/immuneML/immuneML/hyperparameter_optimization/core/HPUtil.py?line=77'>78</a>\u001b[0m         dataset\u001b[39m=\u001b[39;49mdataset,\n\u001b[0;32m     <a href='file:///c%3A/Users/karth/Desktop/PhD%20projects/immuneML/immuneML/immuneML/hyperparameter_optimization/core/HPUtil.py?line=78'>79</a>\u001b[0m         label\u001b[39m=\u001b[39;49mlabel,\n\u001b[0;32m     <a href='file:///c%3A/Users/karth/Desktop/PhD%20projects/immuneML/immuneML/immuneML/hyperparameter_optimization/core/HPUtil.py?line=79'>80</a>\u001b[0m         train_predictions_path\u001b[39m=\u001b[39;49mtrain_predictions_path,\n\u001b[0;32m     <a href='file:///c%3A/Users/karth/Desktop/PhD%20projects/immuneML/immuneML/immuneML/hyperparameter_optimization/core/HPUtil.py?line=80'>81</a>\u001b[0m         ml_details_path\u001b[39m=\u001b[39;49mml_details_path,\n\u001b[0;32m     <a href='file:///c%3A/Users/karth/Desktop/PhD%20projects/immuneML/immuneML/immuneML/hyperparameter_optimization/core/HPUtil.py?line=81'>82</a>\u001b[0m         model_selection_cv\u001b[39m=\u001b[39;49mhp_setting\u001b[39m.\u001b[39;49mml_params[\u001b[39m\"\u001b[39;49m\u001b[39mmodel_selection_cv\u001b[39;49m\u001b[39m\"\u001b[39;49m],\n\u001b[0;32m     <a href='file:///c%3A/Users/karth/Desktop/PhD%20projects/immuneML/immuneML/immuneML/hyperparameter_optimization/core/HPUtil.py?line=82'>83</a>\u001b[0m         model_selection_n_folds\u001b[39m=\u001b[39;49mhp_setting\u001b[39m.\u001b[39;49mml_params[\u001b[39m\"\u001b[39;49m\u001b[39mmodel_selection_n_folds\u001b[39;49m\u001b[39m\"\u001b[39;49m],\n\u001b[0;32m     <a href='file:///c%3A/Users/karth/Desktop/PhD%20projects/immuneML/immuneML/immuneML/hyperparameter_optimization/core/HPUtil.py?line=83'>84</a>\u001b[0m         cores_for_training\u001b[39m=\u001b[39;49mcores_for_training,\n\u001b[0;32m     <a href='file:///c%3A/Users/karth/Desktop/PhD%20projects/immuneML/immuneML/immuneML/hyperparameter_optimization/core/HPUtil.py?line=84'>85</a>\u001b[0m         optimization_metric\u001b[39m=\u001b[39;49moptimization_metric\u001b[39m.\u001b[39;49mname\u001b[39m.\u001b[39;49mlower()\n\u001b[0;32m     <a href='file:///c%3A/Users/karth/Desktop/PhD%20projects/immuneML/immuneML/immuneML/hyperparameter_optimization/core/HPUtil.py?line=85'>86</a>\u001b[0m     ))\n\u001b[0;32m     <a href='file:///c%3A/Users/karth/Desktop/PhD%20projects/immuneML/immuneML/immuneML/hyperparameter_optimization/core/HPUtil.py?line=86'>87</a>\u001b[0m     \u001b[39mreturn\u001b[39;00m method\n",
      "File \u001b[1;32m~\\Desktop\\PhD projects\\immuneML\\immuneML\\immuneML\\workflows\\steps\\MLMethodTrainer.py:19\u001b[0m, in \u001b[0;36mMLMethodTrainer.run\u001b[1;34m(input_params)\u001b[0m\n\u001b[0;32m     <a href='file:///c%3A/Users/karth/Desktop/PhD%20projects/immuneML/immuneML/immuneML/workflows/steps/MLMethodTrainer.py?line=15'>16</a>\u001b[0m \u001b[39mprint\u001b[39m(\u001b[39mf\u001b[39m\u001b[39m\"\u001b[39m\u001b[39m{\u001b[39;00mdatetime\u001b[39m.\u001b[39mdatetime\u001b[39m.\u001b[39mnow()\u001b[39m}\u001b[39;00m\u001b[39m: ML model training started...\u001b[39m\u001b[39m\"\u001b[39m, flush\u001b[39m=\u001b[39m\u001b[39mTrue\u001b[39;00m)\n\u001b[0;32m     <a href='file:///c%3A/Users/karth/Desktop/PhD%20projects/immuneML/immuneML/immuneML/workflows/steps/MLMethodTrainer.py?line=17'>18</a>\u001b[0m method \u001b[39m=\u001b[39m MLMethodTrainer\u001b[39m.\u001b[39m_fit_method(input_params)\n\u001b[1;32m---> <a href='file:///c%3A/Users/karth/Desktop/PhD%20projects/immuneML/immuneML/immuneML/workflows/steps/MLMethodTrainer.py?line=18'>19</a>\u001b[0m MLMethodTrainer\u001b[39m.\u001b[39;49mstore(method, input_params)\n\u001b[0;32m     <a href='file:///c%3A/Users/karth/Desktop/PhD%20projects/immuneML/immuneML/immuneML/workflows/steps/MLMethodTrainer.py?line=20'>21</a>\u001b[0m \u001b[39mprint\u001b[39m(\u001b[39mf\u001b[39m\u001b[39m\"\u001b[39m\u001b[39m{\u001b[39;00mdatetime\u001b[39m.\u001b[39mdatetime\u001b[39m.\u001b[39mnow()\u001b[39m}\u001b[39;00m\u001b[39m: ML model training finished.\u001b[39m\u001b[39m\"\u001b[39m, flush\u001b[39m=\u001b[39m\u001b[39mTrue\u001b[39;00m)\n\u001b[0;32m     <a href='file:///c%3A/Users/karth/Desktop/PhD%20projects/immuneML/immuneML/immuneML/workflows/steps/MLMethodTrainer.py?line=22'>23</a>\u001b[0m \u001b[39mreturn\u001b[39;00m method\n",
      "File \u001b[1;32m~\\Desktop\\PhD projects\\immuneML\\immuneML\\immuneML\\workflows\\steps\\MLMethodTrainer.py:43\u001b[0m, in \u001b[0;36mMLMethodTrainer.store\u001b[1;34m(method, input_params)\u001b[0m\n\u001b[0;32m     <a href='file:///c%3A/Users/karth/Desktop/PhD%20projects/immuneML/immuneML/immuneML/workflows/steps/MLMethodTrainer.py?line=40'>41</a>\u001b[0m \u001b[39m@staticmethod\u001b[39m\n\u001b[0;32m     <a href='file:///c%3A/Users/karth/Desktop/PhD%20projects/immuneML/immuneML/immuneML/workflows/steps/MLMethodTrainer.py?line=41'>42</a>\u001b[0m \u001b[39mdef\u001b[39;00m \u001b[39mstore\u001b[39m(method: MLMethod, input_params: MLMethodTrainerParams):\n\u001b[1;32m---> <a href='file:///c%3A/Users/karth/Desktop/PhD%20projects/immuneML/immuneML/immuneML/workflows/steps/MLMethodTrainer.py?line=42'>43</a>\u001b[0m     method\u001b[39m.\u001b[39;49mstore(input_params\u001b[39m.\u001b[39;49mresult_path, input_params\u001b[39m.\u001b[39;49mdataset\u001b[39m.\u001b[39;49mencoded_data\u001b[39m.\u001b[39;49mfeature_names, input_params\u001b[39m.\u001b[39;49mml_details_path)\n\u001b[0;32m     <a href='file:///c%3A/Users/karth/Desktop/PhD%20projects/immuneML/immuneML/immuneML/workflows/steps/MLMethodTrainer.py?line=43'>44</a>\u001b[0m     train_predictions \u001b[39m=\u001b[39m method\u001b[39m.\u001b[39mpredict(input_params\u001b[39m.\u001b[39mdataset\u001b[39m.\u001b[39mencoded_data, input_params\u001b[39m.\u001b[39mlabel)\n\u001b[0;32m     <a href='file:///c%3A/Users/karth/Desktop/PhD%20projects/immuneML/immuneML/immuneML/workflows/steps/MLMethodTrainer.py?line=44'>45</a>\u001b[0m     train_proba_predictions \u001b[39m=\u001b[39m method\u001b[39m.\u001b[39mpredict_proba(input_params\u001b[39m.\u001b[39mdataset\u001b[39m.\u001b[39mencoded_data, input_params\u001b[39m.\u001b[39mlabel)\n",
      "File \u001b[1;32m~\\Desktop\\PhD projects\\immuneML\\immuneML\\immuneML\\ml_methods\\SklearnMethod.py:173\u001b[0m, in \u001b[0;36mSklearnMethod.store\u001b[1;34m(self, path, feature_names, details_path)\u001b[0m\n\u001b[0;32m    <a href='file:///c%3A/Users/karth/Desktop/PhD%20projects/immuneML/immuneML/immuneML/ml_methods/SklearnMethod.py?line=170'>171</a>\u001b[0m PathBuilder\u001b[39m.\u001b[39mbuild(path)\n\u001b[0;32m    <a href='file:///c%3A/Users/karth/Desktop/PhD%20projects/immuneML/immuneML/immuneML/ml_methods/SklearnMethod.py?line=171'>172</a>\u001b[0m file_path \u001b[39m=\u001b[39m path \u001b[39m/\u001b[39m \u001b[39mf\u001b[39m\u001b[39m\"\u001b[39m\u001b[39m{\u001b[39;00m\u001b[39mself\u001b[39m\u001b[39m.\u001b[39m_get_model_filename()\u001b[39m}\u001b[39;00m\u001b[39m.pickle\u001b[39m\u001b[39m\"\u001b[39m\n\u001b[1;32m--> <a href='file:///c%3A/Users/karth/Desktop/PhD%20projects/immuneML/immuneML/immuneML/ml_methods/SklearnMethod.py?line=172'>173</a>\u001b[0m \u001b[39mwith\u001b[39;00m file_path\u001b[39m.\u001b[39;49mopen(\u001b[39m\"\u001b[39;49m\u001b[39mwb\u001b[39;49m\u001b[39m\"\u001b[39;49m) \u001b[39mas\u001b[39;00m file:\n\u001b[0;32m    <a href='file:///c%3A/Users/karth/Desktop/PhD%20projects/immuneML/immuneML/immuneML/ml_methods/SklearnMethod.py?line=173'>174</a>\u001b[0m     dill\u001b[39m.\u001b[39mdump(\u001b[39mself\u001b[39m\u001b[39m.\u001b[39mmodel, file)\n\u001b[0;32m    <a href='file:///c%3A/Users/karth/Desktop/PhD%20projects/immuneML/immuneML/immuneML/ml_methods/SklearnMethod.py?line=175'>176</a>\u001b[0m \u001b[39mif\u001b[39;00m details_path \u001b[39mis\u001b[39;00m \u001b[39mNone\u001b[39;00m:\n",
      "File \u001b[1;32m~\\anaconda3\\envs\\immuneml\\lib\\pathlib.py:1222\u001b[0m, in \u001b[0;36mPath.open\u001b[1;34m(self, mode, buffering, encoding, errors, newline)\u001b[0m\n\u001b[0;32m   <a href='file:///c%3A/Users/karth/anaconda3/envs/immuneml/lib/pathlib.py?line=1219'>1220</a>\u001b[0m \u001b[39mif\u001b[39;00m \u001b[39mself\u001b[39m\u001b[39m.\u001b[39m_closed:\n\u001b[0;32m   <a href='file:///c%3A/Users/karth/anaconda3/envs/immuneml/lib/pathlib.py?line=1220'>1221</a>\u001b[0m     \u001b[39mself\u001b[39m\u001b[39m.\u001b[39m_raise_closed()\n\u001b[1;32m-> <a href='file:///c%3A/Users/karth/anaconda3/envs/immuneml/lib/pathlib.py?line=1221'>1222</a>\u001b[0m \u001b[39mreturn\u001b[39;00m io\u001b[39m.\u001b[39;49mopen(\u001b[39mself\u001b[39;49m, mode, buffering, encoding, errors, newline,\n\u001b[0;32m   <a href='file:///c%3A/Users/karth/anaconda3/envs/immuneml/lib/pathlib.py?line=1222'>1223</a>\u001b[0m                opener\u001b[39m=\u001b[39;49m\u001b[39mself\u001b[39;49m\u001b[39m.\u001b[39;49m_opener)\n",
      "File \u001b[1;32m~\\anaconda3\\envs\\immuneml\\lib\\pathlib.py:1078\u001b[0m, in \u001b[0;36mPath._opener\u001b[1;34m(self, name, flags, mode)\u001b[0m\n\u001b[0;32m   <a href='file:///c%3A/Users/karth/anaconda3/envs/immuneml/lib/pathlib.py?line=1075'>1076</a>\u001b[0m \u001b[39mdef\u001b[39;00m \u001b[39m_opener\u001b[39m(\u001b[39mself\u001b[39m, name, flags, mode\u001b[39m=\u001b[39m\u001b[39m0o666\u001b[39m):\n\u001b[0;32m   <a href='file:///c%3A/Users/karth/anaconda3/envs/immuneml/lib/pathlib.py?line=1076'>1077</a>\u001b[0m     \u001b[39m# A stub for the opener argument to built-in open()\u001b[39;00m\n\u001b[1;32m-> <a href='file:///c%3A/Users/karth/anaconda3/envs/immuneml/lib/pathlib.py?line=1077'>1078</a>\u001b[0m     \u001b[39mreturn\u001b[39;00m \u001b[39mself\u001b[39;49m\u001b[39m.\u001b[39;49m_accessor\u001b[39m.\u001b[39;49mopen(\u001b[39mself\u001b[39;49m, flags, mode)\n",
      "\u001b[1;31mFileNotFoundError\u001b[0m: [Errno 2] No such file or directory: '..\\\\..\\\\quickstart\\\\machine_learning_analysis\\\\result\\\\machine_learning_analysis\\\\result\\\\machine_learning_instruction\\\\split_1\\\\selection_random\\\\split_1\\\\my_signal_e1_simpleLR\\\\ml_method\\\\logistic_regression.pickle'"
     ]
    }
   ],
   "source": [
    "app = ImmuneMLApp(specs_file, resultpath /\n",
    "                  \"machine_learning_analysis/result\")\n",
    "app.run()\n"
   ]
  },
  {
   "cell_type": "markdown",
   "metadata": {},
   "source": [
    "### ImmuneMLAPP"
   ]
  },
  {
   "cell_type": "markdown",
   "metadata": {},
   "source": [
    "##### Set path and cache"
   ]
  },
  {
   "cell_type": "code",
   "execution_count": null,
   "metadata": {},
   "outputs": [],
   "source": [
    "from immuneML.caching.CacheType import CacheType\n",
    "from immuneML.environment.Constants import Constants\n"
   ]
  },
  {
   "cell_type": "code",
   "execution_count": 56,
   "metadata": {},
   "outputs": [
    {
     "name": "stdout",
     "output_type": "stream",
     "text": [
      "machine_learning_instruction\n"
     ]
    }
   ],
   "source": [
    "for key in specs[\"instructions\"]:\n",
    "    print(key)\n"
   ]
  },
  {
   "cell_type": "code",
   "execution_count": 57,
   "metadata": {},
   "outputs": [],
   "source": [
    "from immuneML.dsl.DefaultParamsLoader import DefaultParamsLoader\n"
   ]
  },
  {
   "cell_type": "code",
   "execution_count": 61,
   "metadata": {},
   "outputs": [
    {
     "data": {
      "text/plain": [
       "'machine_learning_instruction'"
      ]
     },
     "execution_count": 61,
     "metadata": {},
     "output_type": "execute_result"
    }
   ],
   "source": [
    "key"
   ]
  },
  {
   "cell_type": "code",
   "execution_count": 60,
   "metadata": {},
   "outputs": [
    {
     "data": {
      "text/plain": [
       "{'reports': [],\n",
       " 'strategy': 'GridSearch',\n",
       " 'number_of_processes': 4,\n",
       " 'refit_optimal_model': False,\n",
       " 'metrics': [],\n",
       " 'assessment': {'split_strategy': 'random',\n",
       "  'split_count': 1,\n",
       "  'training_percentage': 0.7},\n",
       " 'selection': {'split_strategy': 'random',\n",
       "  'split_count': 1,\n",
       "  'training_percentage': 0.7}}"
      ]
     },
     "execution_count": 60,
     "metadata": {},
     "output_type": "execute_result"
    }
   ],
   "source": [
    "default_params = DefaultParamsLoader.load(\n",
    "    \"instructions/\", specs[\"instructions\"][key][\"type\"])\n",
    "\n",
    "default_params"
   ]
  },
  {
   "cell_type": "code",
   "execution_count": 64,
   "metadata": {},
   "outputs": [],
   "source": [
    "parser = ReflectionHandler.get_class_by_name(\"{}Parser\".format(specs[\"instructions\"][key][\"type\"]), \"instruction_parsers/\")()\n"
   ]
  },
  {
   "cell_type": "code",
   "execution_count": 65,
   "metadata": {},
   "outputs": [
    {
     "data": {
      "text/plain": [
       "<immuneML.dsl.instruction_parsers.TrainMLModelParser.TrainMLModelParser at 0x23ff3e0fcd0>"
      ]
     },
     "execution_count": 65,
     "metadata": {},
     "output_type": "execute_result"
    }
   ],
   "source": []
  },
  {
   "cell_type": "markdown",
   "metadata": {},
   "source": [
    "### Instruction Parsers"
   ]
  },
  {
   "cell_type": "code",
   "execution_count": 66,
   "metadata": {},
   "outputs": [],
   "source": [
    "key = \"machine_learning_instruction\"\n"
   ]
  },
  {
   "cell_type": "code",
   "execution_count": 70,
   "metadata": {},
   "outputs": [
    {
     "data": {
      "text/plain": [
       "WindowsPath('../../quickstart/machine_learning_analysis/result')"
      ]
     },
     "execution_count": 70,
     "metadata": {},
     "output_type": "execute_result"
    }
   ],
   "source": [
    "instruction = {**default_params, **specs[\"instructions\"][key]}\n",
    "\n",
    "\n",
    "result_path\n"
   ]
  },
  {
   "cell_type": "code",
   "execution_count": 1,
   "metadata": {},
   "outputs": [
    {
     "ename": "NameError",
     "evalue": "name 'instruction' is not defined",
     "output_type": "error",
     "traceback": [
      "\u001b[1;31m---------------------------------------------------------------------------\u001b[0m",
      "\u001b[1;31mNameError\u001b[0m                                 Traceback (most recent call last)",
      "\u001b[1;32mc:\\Users\\karth\\Desktop\\PhD projects\\immuneML\\immuneML\\Notebook\\Tutorial\\quickstart_updated_ML_method.ipynb Cell 26'\u001b[0m in \u001b[0;36m<cell line: 1>\u001b[1;34m()\u001b[0m\n\u001b[1;32m----> <a href='vscode-notebook-cell:/c%3A/Users/karth/Desktop/PhD%20projects/immuneML/immuneML/Notebook/Tutorial/quickstart_updated_ML_method.ipynb#ch0000025?line=0'>1</a>\u001b[0m instruction\n",
      "\u001b[1;31mNameError\u001b[0m: name 'instruction' is not defined"
     ]
    }
   ],
   "source": [
    "instruction"
   ]
  },
  {
   "cell_type": "code",
   "execution_count": 69,
   "metadata": {},
   "outputs": [
    {
     "data": {
      "text/plain": [
       "{'_items': {'e1': <immuneML.dsl.symbol_table.SymbolTableEntry.SymbolTableEntry at 0x23ff47faf40>,\n",
       "  'e2': <immuneML.dsl.symbol_table.SymbolTableEntry.SymbolTableEntry at 0x23ff45c4040>,\n",
       "  'simpleLR': <immuneML.dsl.symbol_table.SymbolTableEntry.SymbolTableEntry at 0x23ff45c4100>,\n",
       "  'coef': <immuneML.dsl.symbol_table.SymbolTableEntry.SymbolTableEntry at 0x23ff55a9100>,\n",
       "  'hprep': <immuneML.dsl.symbol_table.SymbolTableEntry.SymbolTableEntry at 0x23ff74c6e80>,\n",
       "  'rep1': <immuneML.dsl.symbol_table.SymbolTableEntry.SymbolTableEntry at 0x23ff55a91f0>,\n",
       "  'd1': <immuneML.dsl.symbol_table.SymbolTableEntry.SymbolTableEntry at 0x23ff74d1070>,\n",
       "  'machine_learning_instruction': <immuneML.dsl.symbol_table.SymbolTableEntry.SymbolTableEntry at 0x23ff74e6eb0>,\n",
       "  'output': <immuneML.dsl.symbol_table.SymbolTableEntry.SymbolTableEntry at 0x23ff74e65b0>}}"
      ]
     },
     "execution_count": 69,
     "metadata": {},
     "output_type": "execute_result"
    }
   ],
   "source": [
    "symbol_table.__dict__"
   ]
  },
  {
   "cell_type": "code",
   "execution_count": 77,
   "metadata": {},
   "outputs": [
    {
     "data": {
      "text/plain": [
       "{'format': 'HTML'}"
      ]
     },
     "execution_count": 77,
     "metadata": {},
     "output_type": "execute_result"
    }
   ],
   "source": [
    "symbol_table.get('output')"
   ]
  },
  {
   "cell_type": "markdown",
   "metadata": {},
   "source": [
    "### TrainML Model parser"
   ]
  },
  {
   "cell_type": "code",
   "execution_count": null,
   "metadata": {},
   "outputs": [],
   "source": []
  },
  {
   "cell_type": "code",
   "execution_count": 71,
   "metadata": {},
   "outputs": [],
   "source": [
    "instructions_object = parser.parse(key, instruction, symbol_table, result_path)\n"
   ]
  },
  {
   "cell_type": "code",
   "execution_count": null,
   "metadata": {},
   "outputs": [],
   "source": [
    "class TrainMLModelParser:\n",
    "\n",
    "    def parse(self, key: str, instruction: dict, symbol_table: SymbolTable, path: Path = None) -> TrainMLModelInstruction:\n",
    "\n",
    "        valid_keys = [\"assessment\", \"selection\", \"dataset\", \"strategy\", \"labels\", \"metrics\", \"settings\", \"number_of_processes\", \"type\", \"reports\",\n",
    "                      \"optimization_metric\", 'refit_optimal_model']\n",
    "        ParameterValidator.assert_type_and_value(\n",
    "            instruction['settings'], list, TrainMLModelParser.__name__, 'settings')\n",
    "        ParameterValidator.assert_keys(list(\n",
    "            instruction.keys()), valid_keys, TrainMLModelParser.__name__, \"TrainMLModel\")\n",
    "        ParameterValidator.assert_type_and_value(\n",
    "            instruction['refit_optimal_model'], bool, TrainMLModelParser.__name__, 'refit_optimal_model')\n",
    "        ParameterValidator.assert_type_and_value(\n",
    "            instruction['metrics'], list, TrainMLModelParser.__name__, 'metrics')\n",
    "        ParameterValidator.assert_type_and_value(\n",
    "            instruction['optimization_metric'], str, TrainMLModelParser.__name__, 'optimization_metric')\n",
    "        ParameterValidator.assert_type_and_value(\n",
    "            instruction['number_of_processes'], int, TrainMLModelParser.__name__, 'number_of_processes')\n",
    "        ParameterValidator.assert_type_and_value(\n",
    "            instruction['strategy'], str, TrainMLModelParser.__name__, 'strategy')\n",
    "        if instruction[\"reports\"] is not None:\n",
    "            ParameterValidator.assert_type_and_value(\n",
    "                instruction['reports'], list, TrainMLModelParser.__name__, 'reports')\n",
    "\n",
    "        settings = self._parse_settings(instruction, symbol_table)\n",
    "        dataset = symbol_table.get(instruction[\"dataset\"])\n",
    "        label_config = LabelHelper.create_label_config(\n",
    "            instruction[\"labels\"], dataset, TrainMLModelParser.__name__, key)\n",
    "        assessment = self._parse_split_config(\n",
    "            key, instruction, \"assessment\", symbol_table, len(settings), label_config)\n",
    "        selection = self._parse_split_config(\n",
    "            key, instruction, \"selection\", symbol_table, len(settings), label_config)\n",
    "        assessment, selection = self._update_split_configs(\n",
    "            assessment, selection, dataset)\n",
    "        strategy = ReflectionHandler.get_class_by_name(\n",
    "            instruction[\"strategy\"], \"hyperparameter_optimization/\")\n",
    "        metrics = {Metric[metric.upper()] for metric in instruction[\"metrics\"]}\n",
    "        optimization_metric = Metric[instruction[\"optimization_metric\"].upper(\n",
    "        )]\n",
    "        metric_search_criterion = Metric.get_search_criterion(\n",
    "            optimization_metric)\n",
    "        path = self._prepare_path(instruction)\n",
    "        context = self._prepare_context(instruction, symbol_table)\n",
    "        reports = self._prepare_reports(instruction[\"reports\"], symbol_table)\n",
    "\n",
    "        hp_instruction = TrainMLModelInstruction(dataset=dataset, hp_strategy=strategy(settings, metric_search_criterion),\n",
    "                                                 hp_settings=settings, assessment=assessment, selection=selection, metrics=metrics,\n",
    "                                                 optimization_metric=optimization_metric, refit_optimal_model=instruction[\n",
    "                                                     'refit_optimal_model'],\n",
    "                                                 label_configuration=label_config, path=path, context=context,\n",
    "                                                 number_of_processes=instruction[\"number_of_processes\"], reports=reports, name=key)\n",
    "\n",
    "        return hp_instruction\n"
   ]
  },
  {
   "cell_type": "code",
   "execution_count": 73,
   "metadata": {},
   "outputs": [
    {
     "data": {
      "text/plain": [
       "{'state': TrainMLModelState(dataset=<immuneML.data_model.dataset.RepertoireDataset.RepertoireDataset object at 0x0000023FF7526FA0>, hp_strategy=<immuneML.hyperparameter_optimization.strategy.GridSearch.GridSearch object at 0x0000023FF75009D0>, hp_settings=[<immuneML.hyperparameter_optimization.HPSetting.HPSetting object at 0x0000023FF55A9700>, <immuneML.hyperparameter_optimization.HPSetting.HPSetting object at 0x0000023FF3DF26D0>], assessment=<immuneML.hyperparameter_optimization.config.SplitConfig.SplitConfig object at 0x0000023FF7500DF0>, selection=<immuneML.hyperparameter_optimization.config.SplitConfig.SplitConfig object at 0x0000023FF75004F0>, metrics={<Metric.ACCURACY: 'accuracy_score'>}, optimization_metric=<Metric.BALANCED_ACCURACY: 'balanced_accuracy_score'>, label_configuration=<immuneML.environment.LabelConfiguration.LabelConfiguration object at 0x0000023FF75000D0>, path=WindowsPath('C:/Users/karth/Desktop/PhD projects/immuneML/immuneML/analysis_runs/7445dd22466e58dfe647730a635b0547'), context={'dataset': <immuneML.data_model.dataset.RepertoireDataset.RepertoireDataset object at 0x0000023FF7526FA0>}, number_of_processes=3, reports={'hprep': <immuneML.reports.train_ml_model_reports.MLSettingsPerformance.MLSettingsPerformance object at 0x0000023FF74A3A00>}, name='machine_learning_instruction', refit_optimal_model=False, optimal_hp_items={}, optimal_hp_item_paths={}, assessment_states=[], report_results=[])}"
      ]
     },
     "execution_count": 73,
     "metadata": {},
     "output_type": "execute_result"
    }
   ],
   "source": [
    "instructions_object.__dict__"
   ]
  },
  {
   "cell_type": "code",
   "execution_count": 39,
   "metadata": {},
   "outputs": [],
   "source": [
    "specification_path = Path(specs_file)\n",
    "result_path = Path(os.path.relpath(resultpath))\n",
    "PathBuilder.build(result_path)\n",
    "\n",
    "cache_path = result_path / \"cache\"\n",
    "\n"
   ]
  },
  {
   "cell_type": "code",
   "execution_count": 44,
   "metadata": {},
   "outputs": [],
   "source": [
    "def set_cache( ):\n",
    "    os.environ[\"cache_type\"] = \"production\"\n",
    "    EnvironmentSettings.set_cache_path(cache_path)\n",
    "\n",
    "def clear_cache( ):\n",
    "        shutil.rmtree(cache_path, ignore_errors=True)\n",
    "        EnvironmentSettings.reset_cache_path()\n",
    "        del os.environ[Constants.CACHE_TYPE]"
   ]
  },
  {
   "cell_type": "code",
   "execution_count": 45,
   "metadata": {},
   "outputs": [
    {
     "name": "stdout",
     "output_type": "stream",
     "text": [
      "2022-04-20 13:41:03.513241: Setting temporary cache path to ..\\..\\quickstart\\machine_learning_analysis\\result\\cache\n"
     ]
    }
   ],
   "source": [
    "set_cache()"
   ]
  },
  {
   "cell_type": "markdown",
   "metadata": {},
   "source": [
    "### ImmuneMLPraser"
   ]
  },
  {
   "cell_type": "code",
   "execution_count": 63,
   "metadata": {},
   "outputs": [],
   "source": [
    "\n",
    "from immuneML.dsl.ImmuneMLParser import ImmuneMLParser\n",
    "\n",
    "from immuneML.caching.CacheType import CacheType\n",
    "from immuneML.dsl.ImmuneMLParser import ImmuneMLParser\n",
    "from immuneML.dsl.semantic_model.SemanticModel import SemanticModel\n",
    "from immuneML.dsl.symbol_table.SymbolType import SymbolType\n",
    "from immuneML.environment.Constants import Constants\n",
    "from immuneML.environment.EnvironmentSettings import EnvironmentSettings\n",
    "from immuneML.util.PathBuilder import PathBuilder\n",
    "from immuneML.util.ReflectionHandler import ReflectionHandler\n"
   ]
  },
  {
   "cell_type": "code",
   "execution_count": 47,
   "metadata": {},
   "outputs": [
    {
     "name": "stdout",
     "output_type": "stream",
     "text": [
      "2022-04-20 13:44:05.708609: Full specification is available at ..\\..\\quickstart\\machine_learning_analysis\\result\\full_specs.yaml.\n",
      "\n"
     ]
    }
   ],
   "source": [
    "symbol_table, specification_path = ImmuneMLParser.parse_yaml_file(\n",
    "    specification_path, result_path)\n"
   ]
  },
  {
   "cell_type": "code",
   "execution_count": 49,
   "metadata": {},
   "outputs": [],
   "source": [
    "instructions = symbol_table.get_by_type(SymbolType.INSTRUCTION)\n"
   ]
  },
  {
   "cell_type": "code",
   "execution_count": 54,
   "metadata": {},
   "outputs": [
    {
     "data": {
      "text/plain": [
       "{'symbol': 'machine_learning_instruction',\n",
       " 'symbol_type': <SymbolType.INSTRUCTION: 8>,\n",
       " 'item': <immuneML.workflows.instructions.TrainMLModelInstruction.TrainMLModelInstruction at 0x23ff74e6df0>,\n",
       " 'config': None}"
      ]
     },
     "execution_count": 54,
     "metadata": {},
     "output_type": "execute_result"
    }
   ],
   "source": [
    "instructions[0].__dict__"
   ]
  },
  {
   "cell_type": "code",
   "execution_count": 55,
   "metadata": {},
   "outputs": [],
   "source": [
    "output = symbol_table.get(\"output\")\n"
   ]
  },
  {
   "cell_type": "code",
   "execution_count": 79,
   "metadata": {},
   "outputs": [
    {
     "data": {
      "text/plain": [
       "{'reports': ['hprep'],\n",
       " 'strategy': 'GridSearch',\n",
       " 'number_of_processes': 3,\n",
       " 'refit_optimal_model': False,\n",
       " 'metrics': ['accuracy'],\n",
       " 'assessment': {'split_strategy': 'random',\n",
       "  'split_count': 1,\n",
       "  'training_percentage': 0.7,\n",
       "  'reports': {'data_splits': ['rep1'], 'models': ['coef']}},\n",
       " 'selection': {'split_strategy': 'random',\n",
       "  'split_count': 1,\n",
       "  'training_percentage': 0.7,\n",
       "  'reports': {'data_splits': ['rep1'], 'models': []}},\n",
       " 'type': 'TrainMLModel',\n",
       " 'settings': [{'encoding': 'e1',\n",
       "   'ml_method': 'simpleLR',\n",
       "   'preprocessing': None},\n",
       "  {'encoding': 'e2', 'ml_method': 'simpleLR', 'preprocessing': None}],\n",
       " 'labels': ['my_signal'],\n",
       " 'dataset': 'd1',\n",
       " 'optimization_metric': 'balanced_accuracy'}"
      ]
     },
     "execution_count": 79,
     "metadata": {},
     "output_type": "execute_result"
    }
   ],
   "source": [
    "instruction"
   ]
  },
  {
   "cell_type": "code",
   "execution_count": 80,
   "metadata": {},
   "outputs": [
    {
     "data": {
      "text/plain": [
       "{'state': TrainMLModelState(dataset=<immuneML.data_model.dataset.RepertoireDataset.RepertoireDataset object at 0x0000023FF7526FA0>, hp_strategy=<immuneML.hyperparameter_optimization.strategy.GridSearch.GridSearch object at 0x0000023FF75009D0>, hp_settings=[<immuneML.hyperparameter_optimization.HPSetting.HPSetting object at 0x0000023FF55A9700>, <immuneML.hyperparameter_optimization.HPSetting.HPSetting object at 0x0000023FF3DF26D0>], assessment=<immuneML.hyperparameter_optimization.config.SplitConfig.SplitConfig object at 0x0000023FF7500DF0>, selection=<immuneML.hyperparameter_optimization.config.SplitConfig.SplitConfig object at 0x0000023FF75004F0>, metrics={<Metric.ACCURACY: 'accuracy_score'>}, optimization_metric=<Metric.BALANCED_ACCURACY: 'balanced_accuracy_score'>, label_configuration=<immuneML.environment.LabelConfiguration.LabelConfiguration object at 0x0000023FF75000D0>, path=WindowsPath('C:/Users/karth/Desktop/PhD projects/immuneML/immuneML/analysis_runs/7445dd22466e58dfe647730a635b0547'), context={'dataset': <immuneML.data_model.dataset.RepertoireDataset.RepertoireDataset object at 0x0000023FF7526FA0>}, number_of_processes=3, reports={'hprep': <immuneML.reports.train_ml_model_reports.MLSettingsPerformance.MLSettingsPerformance object at 0x0000023FF74A3A00>}, name='machine_learning_instruction', refit_optimal_model=False, optimal_hp_items={}, optimal_hp_item_paths={}, assessment_states=[], report_results=[])}"
      ]
     },
     "execution_count": 80,
     "metadata": {},
     "output_type": "execute_result"
    }
   ],
   "source": [
    "instructions_object.__dict__\n"
   ]
  },
  {
   "cell_type": "markdown",
   "metadata": {},
   "source": [
    "### Sematic Model"
   ]
  },
  {
   "cell_type": "code",
   "execution_count": 81,
   "metadata": {},
   "outputs": [],
   "source": [
    "instructions1 = symbol_table.get_by_type(SymbolType.INSTRUCTION)\n"
   ]
  },
  {
   "cell_type": "code",
   "execution_count": 83,
   "metadata": {},
   "outputs": [
    {
     "data": {
      "text/plain": [
       "{'symbol': 'machine_learning_instruction',\n",
       " 'symbol_type': <SymbolType.INSTRUCTION: 8>,\n",
       " 'item': <immuneML.workflows.instructions.TrainMLModelInstruction.TrainMLModelInstruction at 0x23ff74e6df0>,\n",
       " 'config': None}"
      ]
     },
     "execution_count": 83,
     "metadata": {},
     "output_type": "execute_result"
    }
   ],
   "source": [
    "instructions1[0].__dict__"
   ]
  },
  {
   "cell_type": "code",
   "execution_count": 85,
   "metadata": {},
   "outputs": [
    {
     "name": "stdout",
     "output_type": "stream",
     "text": [
      "<immuneML.workflows.instructions.TrainMLModelInstruction.TrainMLModelInstruction object at 0x0000023FF74E6DF0>\n"
     ]
    }
   ],
   "source": [
    "for instruction in instructions1:\n",
    "\n",
    "    print(instruction.item)\n"
   ]
  },
  {
   "cell_type": "code",
   "execution_count": 87,
   "metadata": {},
   "outputs": [
    {
     "data": {
      "text/plain": [
       "{'format': 'HTML'}"
      ]
     },
     "execution_count": 87,
     "metadata": {},
     "output_type": "execute_result"
    }
   ],
   "source": [
    "output = symbol_table.get(\"output\")\n",
    "\n",
    "output"
   ]
  },
  {
   "cell_type": "code",
   "execution_count": 92,
   "metadata": {},
   "outputs": [],
   "source": [
    "report_builder = ReflectionHandler.get_class_by_name(\n",
    "    f\"{output['format']}Builder\", \"presentation/\")\n"
   ]
  },
  {
   "cell_type": "code",
   "execution_count": 93,
   "metadata": {},
   "outputs": [
    {
     "data": {
      "text/plain": [
       "immuneML.presentation.html.HTMLBuilder.HTMLBuilder"
      ]
     },
     "execution_count": 93,
     "metadata": {},
     "output_type": "execute_result"
    }
   ],
   "source": [
    "report_builder"
   ]
  },
  {
   "cell_type": "code",
   "execution_count": 89,
   "metadata": {},
   "outputs": [
    {
     "name": "stdout",
     "output_type": "stream",
     "text": [
      "0 <immuneML.workflows.instructions.TrainMLModelInstruction.TrainMLModelInstruction object at 0x0000023FF74E6DF0>\n"
     ]
    }
   ],
   "source": [
    "for index, instruction in enumerate([instruction.item]):\n",
    "\n",
    "    print(index, instruction)"
   ]
  },
  {
   "cell_type": "code",
   "execution_count": 99,
   "metadata": {},
   "outputs": [
    {
     "data": {
      "text/plain": [
       "[<immuneML.dsl.symbol_table.SymbolTableEntry.SymbolTableEntry at 0x23ff74e6eb0>]"
      ]
     },
     "execution_count": 99,
     "metadata": {},
     "output_type": "execute_result"
    }
   ],
   "source": [
    "instructions"
   ]
  },
  {
   "cell_type": "code",
   "execution_count": 100,
   "metadata": {},
   "outputs": [],
   "source": [
    "model = SemanticModel(\n",
    "    [instruction.item for instruction in instructions], result_path, output)\n"
   ]
  },
  {
   "cell_type": "markdown",
   "metadata": {},
   "source": [
    "#### TrainMLModelinstruction"
   ]
  },
  {
   "cell_type": "code",
   "execution_count": 106,
   "metadata": {},
   "outputs": [],
   "source": [
    " state = instruction.__dict__['state']"
   ]
  },
  {
   "cell_type": "code",
   "execution_count": 108,
   "metadata": {},
   "outputs": [
    {
     "data": {
      "text/plain": [
       "WindowsPath('C:/Users/karth/Desktop/PhD projects/immuneML/immuneML/quickstart/machine_learning_analysis/result')"
      ]
     },
     "execution_count": 108,
     "metadata": {},
     "output_type": "execute_result"
    }
   ],
   "source": []
  },
  {
   "cell_type": "code",
   "execution_count": 109,
   "metadata": {},
   "outputs": [],
   "source": [
    "state.path = resultpath"
   ]
  },
  {
   "cell_type": "code",
   "execution_count": 110,
   "metadata": {},
   "outputs": [
    {
     "data": {
      "text/plain": [
       "TrainMLModelState(dataset=<immuneML.data_model.dataset.RepertoireDataset.RepertoireDataset object at 0x0000023FF7526FA0>, hp_strategy=<immuneML.hyperparameter_optimization.strategy.GridSearch.GridSearch object at 0x0000023FF74E6880>, hp_settings=[<immuneML.hyperparameter_optimization.HPSetting.HPSetting object at 0x0000023FF74E6CA0>, <immuneML.hyperparameter_optimization.HPSetting.HPSetting object at 0x0000023FF74E6820>], assessment=<immuneML.hyperparameter_optimization.config.SplitConfig.SplitConfig object at 0x0000023FF74E6A60>, selection=<immuneML.hyperparameter_optimization.config.SplitConfig.SplitConfig object at 0x0000023FF74E68B0>, metrics={<Metric.ACCURACY: 'accuracy_score'>}, optimization_metric=<Metric.BALANCED_ACCURACY: 'balanced_accuracy_score'>, label_configuration=<immuneML.environment.LabelConfiguration.LabelConfiguration object at 0x0000023FF74E6A90>, path=WindowsPath('C:/Users/karth/Desktop/PhD projects/immuneML/immuneML/quickstart/machine_learning_analysis/result'), context={'dataset': <immuneML.data_model.dataset.RepertoireDataset.RepertoireDataset object at 0x0000023FF7526FA0>}, number_of_processes=3, reports={'hprep': <immuneML.reports.train_ml_model_reports.MLSettingsPerformance.MLSettingsPerformance object at 0x0000023FF74A3A00>}, name='machine_learning_instruction', refit_optimal_model=False, optimal_hp_items={}, optimal_hp_item_paths={}, assessment_states=[], report_results=[])"
      ]
     },
     "execution_count": 110,
     "metadata": {},
     "output_type": "execute_result"
    }
   ],
   "source": [
    "state"
   ]
  },
  {
   "cell_type": "code",
   "execution_count": null,
   "metadata": {},
   "outputs": [],
   "source": [
    "{'reports': ['hprep'],\n",
    " 'strategy': 'GridSearch',\n",
    " 'number_of_processes': 3,\n",
    " 'refit_optimal_model': False,\n",
    " 'metrics': ['accuracy'],\n",
    " 'assessment': {'split_strategy': 'random',\n",
    "                'split_count': 1,\n",
    "                'training_percentage': 0.7,\n",
    "                'reports': {'data_splits': ['rep1'], 'models': ['coef']}},\n",
    " 'selection': {'split_strategy': 'random',\n",
    "               'split_count': 1,\n",
    "               'training_percentage': 0.7,\n",
    "               'reports': {'data_splits': ['rep1'], 'models': []}},\n",
    " 'type': 'TrainMLModel',\n",
    " 'settings': [{'encoding': 'e1',\n",
    "               'ml_method': 'simpleLR',\n",
    "               'preprocessing': None},\n",
    "              {'encoding': 'e2', 'ml_method': 'simpleLR', 'preprocessing': None}],\n",
    " 'labels': ['my_signal'],\n",
    " 'dataset': 'd1',\n",
    " 'optimization_metric': 'balanced_accuracy'}\n"
   ]
  },
  {
   "cell_type": "markdown",
   "metadata": {},
   "source": [
    "##### HPA Assement"
   ]
  },
  {
   "cell_type": "code",
   "execution_count": null,
   "metadata": {},
   "outputs": [],
   "source": [
    "from immuneML.hyperparameter_optimization.core.HPAssessment import HPAssessment\n"
   ]
  },
  {
   "cell_type": "code",
   "execution_count": null,
   "metadata": {},
   "outputs": [],
   "source": []
  }
 ],
 "metadata": {
  "interpreter": {
   "hash": "1a28987eca5708c035ec285d3c097a97712b2aecd6610027640435f309d6605e"
  },
  "kernelspec": {
   "display_name": "Python 3.8.13 ('immuneml')",
   "language": "python",
   "name": "python3"
  },
  "language_info": {
   "codemirror_mode": {
    "name": "ipython",
    "version": 3
   },
   "file_extension": ".py",
   "mimetype": "text/x-python",
   "name": "python",
   "nbconvert_exporter": "python",
   "pygments_lexer": "ipython3",
   "version": "3.8.13"
  },
  "orig_nbformat": 4
 },
 "nbformat": 4,
 "nbformat_minor": 2
}
