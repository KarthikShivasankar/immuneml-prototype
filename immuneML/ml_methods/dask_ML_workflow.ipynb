{
 "cells": [
  {
   "cell_type": "code",
   "execution_count": 31,
   "metadata": {},
   "outputs": [],
   "source": [
    "import os\n",
    "import pickle\n",
    "import shutil\n",
    "import numpy as np\n",
    "from immuneML.data_model.encoded_data.EncodedData import EncodedData\n",
    "from DaskLogisticRegression import DaskLogisticRegression\n",
    "from DaskLogisticRegressioncluster import DaskLogisticRegressioncluster\n",
    "from immuneML.analysis.data_manipulation.NormalizationType import NormalizationType\n",
    "from immuneML.caching.CacheType import CacheType\n",
    "from immuneML.encodings.EncoderParams import EncoderParams\n",
    "from immuneML.encodings.kmer_frequency.KmerFreqRepertoireEncoder import KmerFreqRepertoireEncoder\n",
    "from immuneML.util.ReadsType import ReadsType\n",
    "from immuneML.encodings.kmer_frequency.sequence_encoding.SequenceEncodingType import SequenceEncodingType\n",
    "from immuneML.environment.Constants import Constants\n",
    "from immuneML.environment.EnvironmentSettings import EnvironmentSettings\n",
    "from immuneML.environment.Label import Label\n",
    "from immuneML.environment.LabelConfiguration import LabelConfiguration\n",
    "from immuneML.hyperparameter_optimization.HPSetting import HPSetting\n",
    "from immuneML.simulation.dataset_generation.RandomDatasetGenerator import RandomDatasetGenerator\n",
    "from immuneML.util.PathBuilder import PathBuilder\n",
    "from immuneML.workflows.instructions.ml_model_application.MLApplicationInstruction import MLApplicationInstruction\n",
    "from immuneML.hyperparameter_optimization.core.HPUtil import HPUtil\n",
    "from immuneML.hyperparameter_optimization.config.SplitConfig import SplitConfig\n"
   ]
  },
  {
   "cell_type": "code",
   "execution_count": 18,
   "metadata": {},
   "outputs": [],
   "source": [
    "# from immuneML.hyperparameter_optimization.config.ReportConfig import ReportConfig\n",
    "# datasplits = {\n",
    "#     \"SequenceLengthDistribution\": {\n",
    "#         \"batch_size\": 3\n",
    "#     }\n",
    "# }\n",
    "# models1 = {\"coef\": \"Coefficients\"}\n"
   ]
  },
  {
   "cell_type": "code",
   "execution_count": 19,
   "metadata": {},
   "outputs": [],
   "source": [
    "# from immuneML.hyperparameter_optimization.config.SplitType import SplitType\n"
   ]
  },
  {
   "cell_type": "code",
   "execution_count": 20,
   "metadata": {},
   "outputs": [],
   "source": [
    "# reportconfig1 = ReportConfig(\n",
    "#     data_splits=datasplits, models=models1)\n"
   ]
  },
  {
   "cell_type": "code",
   "execution_count": 21,
   "metadata": {},
   "outputs": [],
   "source": [
    "# split_config_assesment = SplitConfig(\n",
    "#     split_strategy=SplitType.RANDOM, split_count=1, training_percentage=0.7, reports=reportconfig1)\n"
   ]
  },
  {
   "cell_type": "code",
   "execution_count": 32,
   "metadata": {},
   "outputs": [],
   "source": [
    "path = EnvironmentSettings.tmp_test_path / \"mlapplicationtest/\"\n",
    "PathBuilder.build(path)\n",
    "\n",
    "dataset = RandomDatasetGenerator.generate_repertoire_dataset(\n",
    "    50, {5: 1}, {5: 1}, {\"l1\": {1: 0.5, 2: 0.5}}, path / 'dataset/')\n",
    "label = Label(\"l1\", [1, 2])\n",
    "label_config = LabelConfiguration([label])"
   ]
  },
  {
   "cell_type": "code",
   "execution_count": 23,
   "metadata": {},
   "outputs": [],
   "source": [
    "# train_val_datasets, test_datasets = HPUtil.split_data(\n",
    "#     dataset, split_config_assesment, path, label)\n"
   ]
  },
  {
   "cell_type": "code",
   "execution_count": 33,
   "metadata": {},
   "outputs": [
    {
     "data": {
      "text/plain": [
       "<immuneML.data_model.dataset.RepertoireDataset.RepertoireDataset at 0x23b5863ec10>"
      ]
     },
     "execution_count": 33,
     "metadata": {},
     "output_type": "execute_result"
    }
   ],
   "source": [
    "dataset"
   ]
  },
  {
   "cell_type": "code",
   "execution_count": 25,
   "metadata": {},
   "outputs": [
    {
     "data": {
      "text/plain": [
       "{'encoded_data': None,\n",
       " 'identifier': 'b7a0fd6c-e28b-11ec-96b8-9cb6d0fe1bec',\n",
       " 'name': 'b7a0fd6c-e28b-11ec-96b8-9cb6d0fe1bec',\n",
       " 'labels': {'l1': [1, 2]},\n",
       " 'metadata_file': WindowsPath('C:/Users/karth/Desktop/PhD projects/immuneML/immuneML/test/tmp/mlapplicationtest/split_1/datasets/train_metadata.csv'),\n",
       " 'metadata_fields': None,\n",
       " 'repertoire_ids': None,\n",
       " 'repertoires': [<immuneML.data_model.repertoire.Repertoire.Repertoire at 0x23b5cf4fdf0>,\n",
       "  <immuneML.data_model.repertoire.Repertoire.Repertoire at 0x23b5df7cca0>,\n",
       "  <immuneML.data_model.repertoire.Repertoire.Repertoire at 0x23b5cf4f970>,\n",
       "  <immuneML.data_model.repertoire.Repertoire.Repertoire at 0x23b5cf4fc70>,\n",
       "  <immuneML.data_model.repertoire.Repertoire.Repertoire at 0x23b5cf4f8e0>,\n",
       "  <immuneML.data_model.repertoire.Repertoire.Repertoire at 0x23b5df7cf10>,\n",
       "  <immuneML.data_model.repertoire.Repertoire.Repertoire at 0x23b5cf4feb0>,\n",
       "  <immuneML.data_model.repertoire.Repertoire.Repertoire at 0x23b5df7c460>,\n",
       "  <immuneML.data_model.repertoire.Repertoire.Repertoire at 0x23b5df7ce20>,\n",
       "  <immuneML.data_model.repertoire.Repertoire.Repertoire at 0x23b5cf4fe50>,\n",
       "  <immuneML.data_model.repertoire.Repertoire.Repertoire at 0x23b5cf4f9d0>,\n",
       "  <immuneML.data_model.repertoire.Repertoire.Repertoire at 0x23b5df7cd60>,\n",
       "  <immuneML.data_model.repertoire.Repertoire.Repertoire at 0x23b5cf4ff40>,\n",
       "  <immuneML.data_model.repertoire.Repertoire.Repertoire at 0x23b5cf4fd00>,\n",
       "  <immuneML.data_model.repertoire.Repertoire.Repertoire at 0x23b5df96880>,\n",
       "  <immuneML.data_model.repertoire.Repertoire.Repertoire at 0x23b5df7ceb0>,\n",
       "  <immuneML.data_model.repertoire.Repertoire.Repertoire at 0x23b5df7c850>,\n",
       "  <immuneML.data_model.repertoire.Repertoire.Repertoire at 0x23b5cf13d60>,\n",
       "  <immuneML.data_model.repertoire.Repertoire.Repertoire at 0x23b5df7c340>,\n",
       "  <immuneML.data_model.repertoire.Repertoire.Repertoire at 0x23b5c07ad00>,\n",
       "  <immuneML.data_model.repertoire.Repertoire.Repertoire at 0x23b5cf4fa00>,\n",
       "  <immuneML.data_model.repertoire.Repertoire.Repertoire at 0x23b5df7c490>,\n",
       "  <immuneML.data_model.repertoire.Repertoire.Repertoire at 0x23b5cf4f940>,\n",
       "  <immuneML.data_model.repertoire.Repertoire.Repertoire at 0x23b5cf4fa90>,\n",
       "  <immuneML.data_model.repertoire.Repertoire.Repertoire at 0x23b5c07a190>,\n",
       "  <immuneML.data_model.repertoire.Repertoire.Repertoire at 0x23b5df7c580>,\n",
       "  <immuneML.data_model.repertoire.Repertoire.Repertoire at 0x23b5cf4fa60>,\n",
       "  <immuneML.data_model.repertoire.Repertoire.Repertoire at 0x23b5df7c760>,\n",
       "  <immuneML.data_model.repertoire.Repertoire.Repertoire at 0x23b5cf4f9a0>,\n",
       "  <immuneML.data_model.repertoire.Repertoire.Repertoire at 0x23b5ceb4c40>,\n",
       "  <immuneML.data_model.repertoire.Repertoire.Repertoire at 0x23b5df7c310>,\n",
       "  <immuneML.data_model.repertoire.Repertoire.Repertoire at 0x23b5df96e80>,\n",
       "  <immuneML.data_model.repertoire.Repertoire.Repertoire at 0x23b5cf4fb20>,\n",
       "  <immuneML.data_model.repertoire.Repertoire.Repertoire at 0x23b5df7cb80>,\n",
       "  <immuneML.data_model.repertoire.Repertoire.Repertoire at 0x23b5df96700>]}"
      ]
     },
     "execution_count": 25,
     "metadata": {},
     "output_type": "execute_result"
    }
   ],
   "source": [
    "# train_val_datasets[0].__dict__"
   ]
  },
  {
   "cell_type": "code",
   "execution_count": 34,
   "metadata": {},
   "outputs": [],
   "source": [
    "from immuneML.ml_methods.util.Util import Util\n"
   ]
  },
  {
   "cell_type": "code",
   "execution_count": 35,
   "metadata": {},
   "outputs": [
    {
     "name": "stderr",
     "output_type": "stream",
     "text": [
      "c:\\Users\\karth\\anaconda3\\envs\\test\\lib\\site-packages\\sklearn\\utils\\validation.py:593: FutureWarning: np.matrix usage is deprecated in 1.0 and will raise a TypeError in 1.2. Please convert to a numpy array with np.asarray. For more information see: https://numpy.org/doc/stable/reference/generated/numpy.matrix.html\n",
      "  warnings.warn(\n",
      "c:\\Users\\karth\\anaconda3\\envs\\test\\lib\\site-packages\\sklearn\\utils\\validation.py:593: FutureWarning: np.matrix usage is deprecated in 1.0 and will raise a TypeError in 1.2. Please convert to a numpy array with np.asarray. For more information see: https://numpy.org/doc/stable/reference/generated/numpy.matrix.html\n",
      "  warnings.warn(\n"
     ]
    }
   ],
   "source": [
    "\n",
    "\n",
    "ml_method = DaskLogisticRegressioncluster()\n",
    "\n",
    "# ml_method = DaskLogisticRegression()\n",
    "encoder = KmerFreqRepertoireEncoder(NormalizationType.RELATIVE_FREQUENCY, ReadsType.UNIQUE, SequenceEncodingType.CONTINUOUS_KMER, 3,\n",
    "                                    scale_to_zero_mean=True, scale_to_unit_variance=True)\n",
    "\n",
    "\n",
    "enc_dataset = encoder.encode(dataset, EncoderParams(\n",
    "    result_path=path, label_config=label_config, filename=\"tmp_enc_dataset.pickle\", pool_size=4))\n"
   ]
  },
  {
   "cell_type": "code",
   "execution_count": null,
   "metadata": {},
   "outputs": [],
   "source": [
    "\n",
    "# train_enc_dataset = encoder.encode(train_val_datasets[0], EncoderParams(\n",
    "#     result_path=path, label_config=label_config, filename=\"tmp_enc_dataset.pickle\", pool_size=4))\n"
   ]
  },
  {
   "cell_type": "code",
   "execution_count": 28,
   "metadata": {},
   "outputs": [
    {
     "name": "stderr",
     "output_type": "stream",
     "text": [
      "c:\\Users\\karth\\anaconda3\\envs\\test\\lib\\site-packages\\sklearn\\utils\\validation.py:593: FutureWarning: np.matrix usage is deprecated in 1.0 and will raise a TypeError in 1.2. Please convert to a numpy array with np.asarray. For more information see: https://numpy.org/doc/stable/reference/generated/numpy.matrix.html\n",
      "  warnings.warn(\n",
      "c:\\Users\\karth\\anaconda3\\envs\\test\\lib\\site-packages\\sklearn\\utils\\validation.py:593: FutureWarning: np.matrix usage is deprecated in 1.0 and will raise a TypeError in 1.2. Please convert to a numpy array with np.asarray. For more information see: https://numpy.org/doc/stable/reference/generated/numpy.matrix.html\n",
      "  warnings.warn(\n"
     ]
    }
   ],
   "source": [
    "# test_enc_dataset = encoder.encode(test_datasets[0], EncoderParams(\n",
    "#     result_path=path, label_config=label_config, filename=\"tmp_test_enc_dataset.pickle\", pool_size=4))\n"
   ]
  },
  {
   "cell_type": "code",
   "execution_count": 36,
   "metadata": {},
   "outputs": [
    {
     "name": "stdout",
     "output_type": "stream",
     "text": [
      "{'max_iter': 1000, 'solver': 'lbfgs'}\n",
      "<bound method DaskMlMethod._get_model_filename of <DaskLogisticRegressioncluster.DaskLogisticRegressioncluster object at 0x0000023B5FC2E5B0>>\n",
      "{'penalty': 'l2', 'dual': False, 'tol': 0.0001, 'C': 1.0, 'fit_intercept': True, 'intercept_scaling': 1.0, 'class_weight': None, 'random_state': None, 'solver': 'lbfgs', 'max_iter': 1000, 'multi_class': 'ovr', 'verbose': 0, 'warm_start': False, 'n_jobs': 1, 'solver_kwargs': None}\n",
      "DASK workflow\n"
     ]
    },
    {
     "name": "stderr",
     "output_type": "stream",
     "text": [
      "c:\\Users\\karth\\anaconda3\\envs\\test\\lib\\site-packages\\dask\\config.py:643: UserWarning: Configuration key \"fuse_ave_width\" has been deprecated. Please use \"optimization.fuse.ave-width\" instead\n",
      "  warnings.warn(\n"
     ]
    },
    {
     "data": {
      "text/plain": [
       "WindowsPath('C:/Users/karth/Desktop/PhD projects/immuneML/immuneML/test/tmp/mlapplicationtest/result/instr1')"
      ]
     },
     "execution_count": 36,
     "metadata": {},
     "output_type": "execute_result"
    }
   ],
   "source": [
    "ml_method.fit(enc_dataset.encoded_data, label)\n",
    "\n",
    "hp_setting = HPSetting(encoder, {\"normalization_type\": \"relative_frequency\", \"reads\": \"unique\", \"sequence_encoding\": \"continuous_kmer\",\n",
    "                                 \"k\": 3, \"scale_to_zero_mean\": True, \"scale_to_unit_variance\": True}, ml_method, {}, [], 'enc1', 'ml1')\n",
    "\n",
    "PathBuilder.build(path / 'result/instr1/')\n"
   ]
  },
  {
   "cell_type": "code",
   "execution_count": 37,
   "metadata": {},
   "outputs": [
    {
     "name": "stdout",
     "output_type": "stream",
     "text": [
      "2022-06-02 17:56:19.241092: Encoding started...\n",
      "2022-06-02 17:56:25.143450: Encoding finished.\n"
     ]
    },
    {
     "name": "stderr",
     "output_type": "stream",
     "text": [
      "c:\\Users\\karth\\anaconda3\\envs\\test\\lib\\site-packages\\sklearn\\utils\\validation.py:593: FutureWarning: np.matrix usage is deprecated in 1.0 and will raise a TypeError in 1.2. Please convert to a numpy array with np.asarray. For more information see: https://numpy.org/doc/stable/reference/generated/numpy.matrix.html\n",
      "  warnings.warn(\n"
     ]
    }
   ],
   "source": [
    "ml_app = MLApplicationInstruction(\n",
    "    dataset, label_config, hp_setting, 4, \"instr1\")\n",
    "ml_app.run(path / 'result/')\n",
    "\n",
    "predictions_path = path / \"result/instr1/predictions.csv\"\n"
   ]
  },
  {
   "cell_type": "code",
   "execution_count": 38,
   "metadata": {},
   "outputs": [
    {
     "data": {
      "text/plain": [
       "<DaskLogisticRegressioncluster.DaskLogisticRegressioncluster at 0x23b5fc2e5b0>"
      ]
     },
     "execution_count": 38,
     "metadata": {},
     "output_type": "execute_result"
    }
   ],
   "source": [
    "ml_method"
   ]
  },
  {
   "cell_type": "code",
   "execution_count": 39,
   "metadata": {},
   "outputs": [],
   "source": [
    "import pandas as pd"
   ]
  },
  {
   "cell_type": "code",
   "execution_count": 40,
   "metadata": {},
   "outputs": [],
   "source": [
    "data_re = pd.read_csv(predictions_path)"
   ]
  },
  {
   "cell_type": "code",
   "execution_count": 41,
   "metadata": {},
   "outputs": [
    {
     "data": {
      "text/html": [
       "<div>\n",
       "<style scoped>\n",
       "    .dataframe tbody tr th:only-of-type {\n",
       "        vertical-align: middle;\n",
       "    }\n",
       "\n",
       "    .dataframe tbody tr th {\n",
       "        vertical-align: top;\n",
       "    }\n",
       "\n",
       "    .dataframe thead th {\n",
       "        text-align: right;\n",
       "    }\n",
       "</style>\n",
       "<table border=\"1\" class=\"dataframe\">\n",
       "  <thead>\n",
       "    <tr style=\"text-align: right;\">\n",
       "      <th></th>\n",
       "      <th>repertoire_file</th>\n",
       "      <th>example_id</th>\n",
       "      <th>l1</th>\n",
       "      <th>l1_1_proba</th>\n",
       "      <th>l1_2_proba</th>\n",
       "    </tr>\n",
       "  </thead>\n",
       "  <tbody>\n",
       "    <tr>\n",
       "      <th>0</th>\n",
       "      <td>rep_0.npy</td>\n",
       "      <td>a9be255436cc4ab999763602fdb14ecf</td>\n",
       "      <td>2</td>\n",
       "      <td>0.003433</td>\n",
       "      <td>0.996567</td>\n",
       "    </tr>\n",
       "    <tr>\n",
       "      <th>1</th>\n",
       "      <td>rep_1.npy</td>\n",
       "      <td>9115936265f74ba5a6949d9027f8360e</td>\n",
       "      <td>1</td>\n",
       "      <td>0.989584</td>\n",
       "      <td>0.010416</td>\n",
       "    </tr>\n",
       "    <tr>\n",
       "      <th>2</th>\n",
       "      <td>rep_2.npy</td>\n",
       "      <td>2ad2f4f72ab94b96bceb93f156029fc5</td>\n",
       "      <td>1</td>\n",
       "      <td>0.989160</td>\n",
       "      <td>0.010840</td>\n",
       "    </tr>\n",
       "    <tr>\n",
       "      <th>3</th>\n",
       "      <td>rep_3.npy</td>\n",
       "      <td>d99e78e94ba7447ca9f9dc087e57d491</td>\n",
       "      <td>2</td>\n",
       "      <td>0.003787</td>\n",
       "      <td>0.996213</td>\n",
       "    </tr>\n",
       "    <tr>\n",
       "      <th>4</th>\n",
       "      <td>rep_4.npy</td>\n",
       "      <td>c008d6e332f24b3d9ec343d267975983</td>\n",
       "      <td>1</td>\n",
       "      <td>0.988669</td>\n",
       "      <td>0.011331</td>\n",
       "    </tr>\n",
       "    <tr>\n",
       "      <th>5</th>\n",
       "      <td>rep_5.npy</td>\n",
       "      <td>165f233453824b368220006c9aa495db</td>\n",
       "      <td>2</td>\n",
       "      <td>0.003426</td>\n",
       "      <td>0.996574</td>\n",
       "    </tr>\n",
       "    <tr>\n",
       "      <th>6</th>\n",
       "      <td>rep_6.npy</td>\n",
       "      <td>23e5d575ce3c4ec98e8701f26ad830ae</td>\n",
       "      <td>1</td>\n",
       "      <td>0.988694</td>\n",
       "      <td>0.011306</td>\n",
       "    </tr>\n",
       "    <tr>\n",
       "      <th>7</th>\n",
       "      <td>rep_7.npy</td>\n",
       "      <td>68908aa1a9624c0596c8a52d6a4fc0c5</td>\n",
       "      <td>2</td>\n",
       "      <td>0.004209</td>\n",
       "      <td>0.995791</td>\n",
       "    </tr>\n",
       "    <tr>\n",
       "      <th>8</th>\n",
       "      <td>rep_8.npy</td>\n",
       "      <td>a2bae21247af44debf4eed09b5967e96</td>\n",
       "      <td>2</td>\n",
       "      <td>0.003425</td>\n",
       "      <td>0.996575</td>\n",
       "    </tr>\n",
       "    <tr>\n",
       "      <th>9</th>\n",
       "      <td>rep_9.npy</td>\n",
       "      <td>93a244cc8a524ffe95ffad692c6d1096</td>\n",
       "      <td>1</td>\n",
       "      <td>0.989134</td>\n",
       "      <td>0.010866</td>\n",
       "    </tr>\n",
       "    <tr>\n",
       "      <th>10</th>\n",
       "      <td>rep_10.npy</td>\n",
       "      <td>eae1ea390bed4299b06b8e8208a343b7</td>\n",
       "      <td>1</td>\n",
       "      <td>0.989134</td>\n",
       "      <td>0.010866</td>\n",
       "    </tr>\n",
       "    <tr>\n",
       "      <th>11</th>\n",
       "      <td>rep_11.npy</td>\n",
       "      <td>56f6a7352e9047c68e76f4df9d42a67f</td>\n",
       "      <td>2</td>\n",
       "      <td>0.003051</td>\n",
       "      <td>0.996949</td>\n",
       "    </tr>\n",
       "    <tr>\n",
       "      <th>12</th>\n",
       "      <td>rep_12.npy</td>\n",
       "      <td>94b00d157d594e4cb02a6033d1ad168d</td>\n",
       "      <td>1</td>\n",
       "      <td>0.988694</td>\n",
       "      <td>0.011306</td>\n",
       "    </tr>\n",
       "    <tr>\n",
       "      <th>13</th>\n",
       "      <td>rep_13.npy</td>\n",
       "      <td>2e0ac01a2c414244a55160eedd12e66e</td>\n",
       "      <td>1</td>\n",
       "      <td>0.988694</td>\n",
       "      <td>0.011306</td>\n",
       "    </tr>\n",
       "    <tr>\n",
       "      <th>14</th>\n",
       "      <td>rep_14.npy</td>\n",
       "      <td>32d8a397a5d54371a28d5073a7165b46</td>\n",
       "      <td>2</td>\n",
       "      <td>0.003067</td>\n",
       "      <td>0.996933</td>\n",
       "    </tr>\n",
       "    <tr>\n",
       "      <th>15</th>\n",
       "      <td>rep_15.npy</td>\n",
       "      <td>eec26591770a4d7bb8a88b71cf5d3c7d</td>\n",
       "      <td>1</td>\n",
       "      <td>0.989584</td>\n",
       "      <td>0.010416</td>\n",
       "    </tr>\n",
       "    <tr>\n",
       "      <th>16</th>\n",
       "      <td>rep_16.npy</td>\n",
       "      <td>5577c6f021ac4c3fbae46845bbe572a4</td>\n",
       "      <td>1</td>\n",
       "      <td>0.989605</td>\n",
       "      <td>0.010395</td>\n",
       "    </tr>\n",
       "    <tr>\n",
       "      <th>17</th>\n",
       "      <td>rep_17.npy</td>\n",
       "      <td>931317ae5eda4aec99fad720dbf9fb34</td>\n",
       "      <td>1</td>\n",
       "      <td>0.989140</td>\n",
       "      <td>0.010860</td>\n",
       "    </tr>\n",
       "    <tr>\n",
       "      <th>18</th>\n",
       "      <td>rep_18.npy</td>\n",
       "      <td>057c86980c5542a5b3145d12cbe002d9</td>\n",
       "      <td>2</td>\n",
       "      <td>0.003424</td>\n",
       "      <td>0.996576</td>\n",
       "    </tr>\n",
       "    <tr>\n",
       "      <th>19</th>\n",
       "      <td>rep_19.npy</td>\n",
       "      <td>40b2472db25f431aa08b68356d187232</td>\n",
       "      <td>2</td>\n",
       "      <td>0.003068</td>\n",
       "      <td>0.996932</td>\n",
       "    </tr>\n",
       "    <tr>\n",
       "      <th>20</th>\n",
       "      <td>rep_20.npy</td>\n",
       "      <td>3129fdbfd46147b6bbe4f9a6d5fa75a7</td>\n",
       "      <td>2</td>\n",
       "      <td>0.003811</td>\n",
       "      <td>0.996189</td>\n",
       "    </tr>\n",
       "    <tr>\n",
       "      <th>21</th>\n",
       "      <td>rep_21.npy</td>\n",
       "      <td>320ec8c3db27472c996b3b67394d8a4b</td>\n",
       "      <td>2</td>\n",
       "      <td>0.003083</td>\n",
       "      <td>0.996917</td>\n",
       "    </tr>\n",
       "    <tr>\n",
       "      <th>22</th>\n",
       "      <td>rep_22.npy</td>\n",
       "      <td>8fd1c54038cb4ac59600fd9b852e41b2</td>\n",
       "      <td>1</td>\n",
       "      <td>0.989184</td>\n",
       "      <td>0.010816</td>\n",
       "    </tr>\n",
       "    <tr>\n",
       "      <th>23</th>\n",
       "      <td>rep_23.npy</td>\n",
       "      <td>946782dde62c46f68af1c2fbbd703feb</td>\n",
       "      <td>2</td>\n",
       "      <td>0.003083</td>\n",
       "      <td>0.996917</td>\n",
       "    </tr>\n",
       "    <tr>\n",
       "      <th>24</th>\n",
       "      <td>rep_24.npy</td>\n",
       "      <td>2cfb380bac3842c9b9e67476c52e8625</td>\n",
       "      <td>1</td>\n",
       "      <td>0.989591</td>\n",
       "      <td>0.010409</td>\n",
       "    </tr>\n",
       "    <tr>\n",
       "      <th>25</th>\n",
       "      <td>rep_25.npy</td>\n",
       "      <td>56d3a1328f16424b9b57a793fec332fc</td>\n",
       "      <td>2</td>\n",
       "      <td>0.003433</td>\n",
       "      <td>0.996567</td>\n",
       "    </tr>\n",
       "    <tr>\n",
       "      <th>26</th>\n",
       "      <td>rep_26.npy</td>\n",
       "      <td>78630f90192547d09f889c662dbe72a9</td>\n",
       "      <td>1</td>\n",
       "      <td>0.989584</td>\n",
       "      <td>0.010416</td>\n",
       "    </tr>\n",
       "    <tr>\n",
       "      <th>27</th>\n",
       "      <td>rep_27.npy</td>\n",
       "      <td>caf2baf18128464f96b4569bed670900</td>\n",
       "      <td>2</td>\n",
       "      <td>0.003083</td>\n",
       "      <td>0.996917</td>\n",
       "    </tr>\n",
       "    <tr>\n",
       "      <th>28</th>\n",
       "      <td>rep_28.npy</td>\n",
       "      <td>530570403780472bb06871edad0d25f1</td>\n",
       "      <td>1</td>\n",
       "      <td>0.989591</td>\n",
       "      <td>0.010409</td>\n",
       "    </tr>\n",
       "    <tr>\n",
       "      <th>29</th>\n",
       "      <td>rep_29.npy</td>\n",
       "      <td>2f3a35650fb74773ab463d964ed52500</td>\n",
       "      <td>1</td>\n",
       "      <td>0.989147</td>\n",
       "      <td>0.010853</td>\n",
       "    </tr>\n",
       "    <tr>\n",
       "      <th>30</th>\n",
       "      <td>rep_30.npy</td>\n",
       "      <td>aa566774411b435fab898968e2bc27dc</td>\n",
       "      <td>2</td>\n",
       "      <td>0.003800</td>\n",
       "      <td>0.996200</td>\n",
       "    </tr>\n",
       "    <tr>\n",
       "      <th>31</th>\n",
       "      <td>rep_31.npy</td>\n",
       "      <td>5169a7e02354472586682000bdc9db07</td>\n",
       "      <td>2</td>\n",
       "      <td>0.003382</td>\n",
       "      <td>0.996618</td>\n",
       "    </tr>\n",
       "    <tr>\n",
       "      <th>32</th>\n",
       "      <td>rep_32.npy</td>\n",
       "      <td>8b9bdcfec9d949228129a44b40ae582e</td>\n",
       "      <td>2</td>\n",
       "      <td>0.003076</td>\n",
       "      <td>0.996924</td>\n",
       "    </tr>\n",
       "    <tr>\n",
       "      <th>33</th>\n",
       "      <td>rep_33.npy</td>\n",
       "      <td>a37cf6bee2d74948bedebb8e81365676</td>\n",
       "      <td>2</td>\n",
       "      <td>0.003076</td>\n",
       "      <td>0.996924</td>\n",
       "    </tr>\n",
       "    <tr>\n",
       "      <th>34</th>\n",
       "      <td>rep_34.npy</td>\n",
       "      <td>2a0949df2d9d4324852f9b3a7cc584c6</td>\n",
       "      <td>2</td>\n",
       "      <td>0.003803</td>\n",
       "      <td>0.996197</td>\n",
       "    </tr>\n",
       "    <tr>\n",
       "      <th>35</th>\n",
       "      <td>rep_35.npy</td>\n",
       "      <td>64a4a6a123d340eead013b687bd1122b</td>\n",
       "      <td>1</td>\n",
       "      <td>0.989591</td>\n",
       "      <td>0.010409</td>\n",
       "    </tr>\n",
       "    <tr>\n",
       "      <th>36</th>\n",
       "      <td>rep_36.npy</td>\n",
       "      <td>d7dcb3a1aa3243c0ac8b46e4adaf8157</td>\n",
       "      <td>1</td>\n",
       "      <td>0.989584</td>\n",
       "      <td>0.010416</td>\n",
       "    </tr>\n",
       "    <tr>\n",
       "      <th>37</th>\n",
       "      <td>rep_37.npy</td>\n",
       "      <td>7a642c0952f54e788260f715b6f52201</td>\n",
       "      <td>1</td>\n",
       "      <td>0.989591</td>\n",
       "      <td>0.010409</td>\n",
       "    </tr>\n",
       "    <tr>\n",
       "      <th>38</th>\n",
       "      <td>rep_38.npy</td>\n",
       "      <td>4887d352cff444b2815643d34e7d4054</td>\n",
       "      <td>1</td>\n",
       "      <td>0.989605</td>\n",
       "      <td>0.010395</td>\n",
       "    </tr>\n",
       "    <tr>\n",
       "      <th>39</th>\n",
       "      <td>rep_39.npy</td>\n",
       "      <td>e7461350cd8f42eb8ecc7f389e2a0b05</td>\n",
       "      <td>1</td>\n",
       "      <td>0.988675</td>\n",
       "      <td>0.011325</td>\n",
       "    </tr>\n",
       "    <tr>\n",
       "      <th>40</th>\n",
       "      <td>rep_40.npy</td>\n",
       "      <td>652ca669cf884613918437ad35991f3b</td>\n",
       "      <td>1</td>\n",
       "      <td>0.989591</td>\n",
       "      <td>0.010409</td>\n",
       "    </tr>\n",
       "    <tr>\n",
       "      <th>41</th>\n",
       "      <td>rep_41.npy</td>\n",
       "      <td>6a8474ac92d64c8b8e075f78a6a2a8fe</td>\n",
       "      <td>1</td>\n",
       "      <td>0.989621</td>\n",
       "      <td>0.010379</td>\n",
       "    </tr>\n",
       "    <tr>\n",
       "      <th>42</th>\n",
       "      <td>rep_42.npy</td>\n",
       "      <td>dfe0d9b5911a498fb7b22c8df485afae</td>\n",
       "      <td>1</td>\n",
       "      <td>0.989584</td>\n",
       "      <td>0.010416</td>\n",
       "    </tr>\n",
       "    <tr>\n",
       "      <th>43</th>\n",
       "      <td>rep_43.npy</td>\n",
       "      <td>e54b8c541d6d4344aaa9436daa8ceb12</td>\n",
       "      <td>1</td>\n",
       "      <td>0.989139</td>\n",
       "      <td>0.010861</td>\n",
       "    </tr>\n",
       "    <tr>\n",
       "      <th>44</th>\n",
       "      <td>rep_44.npy</td>\n",
       "      <td>63fd15360c2e40b995ad37a9cb42ef8f</td>\n",
       "      <td>2</td>\n",
       "      <td>0.003790</td>\n",
       "      <td>0.996210</td>\n",
       "    </tr>\n",
       "    <tr>\n",
       "      <th>45</th>\n",
       "      <td>rep_45.npy</td>\n",
       "      <td>10dde63adc58405f907218a796b57b5f</td>\n",
       "      <td>1</td>\n",
       "      <td>0.989612</td>\n",
       "      <td>0.010388</td>\n",
       "    </tr>\n",
       "    <tr>\n",
       "      <th>46</th>\n",
       "      <td>rep_46.npy</td>\n",
       "      <td>6788414fd98042c98daa498d6b7c15c6</td>\n",
       "      <td>1</td>\n",
       "      <td>0.989140</td>\n",
       "      <td>0.010860</td>\n",
       "    </tr>\n",
       "    <tr>\n",
       "      <th>47</th>\n",
       "      <td>rep_47.npy</td>\n",
       "      <td>016eee871681441d9bc7fc18ad39d9b7</td>\n",
       "      <td>2</td>\n",
       "      <td>0.003421</td>\n",
       "      <td>0.996579</td>\n",
       "    </tr>\n",
       "    <tr>\n",
       "      <th>48</th>\n",
       "      <td>rep_48.npy</td>\n",
       "      <td>881079f99873416bb7ce8bdcd97fc46b</td>\n",
       "      <td>1</td>\n",
       "      <td>0.988685</td>\n",
       "      <td>0.011315</td>\n",
       "    </tr>\n",
       "    <tr>\n",
       "      <th>49</th>\n",
       "      <td>rep_49.npy</td>\n",
       "      <td>881f63d56d9544a09da06e674aa39e9f</td>\n",
       "      <td>1</td>\n",
       "      <td>0.989584</td>\n",
       "      <td>0.010416</td>\n",
       "    </tr>\n",
       "  </tbody>\n",
       "</table>\n",
       "</div>"
      ],
      "text/plain": [
       "   repertoire_file                        example_id  l1  l1_1_proba  \\\n",
       "0        rep_0.npy  a9be255436cc4ab999763602fdb14ecf   2    0.003433   \n",
       "1        rep_1.npy  9115936265f74ba5a6949d9027f8360e   1    0.989584   \n",
       "2        rep_2.npy  2ad2f4f72ab94b96bceb93f156029fc5   1    0.989160   \n",
       "3        rep_3.npy  d99e78e94ba7447ca9f9dc087e57d491   2    0.003787   \n",
       "4        rep_4.npy  c008d6e332f24b3d9ec343d267975983   1    0.988669   \n",
       "5        rep_5.npy  165f233453824b368220006c9aa495db   2    0.003426   \n",
       "6        rep_6.npy  23e5d575ce3c4ec98e8701f26ad830ae   1    0.988694   \n",
       "7        rep_7.npy  68908aa1a9624c0596c8a52d6a4fc0c5   2    0.004209   \n",
       "8        rep_8.npy  a2bae21247af44debf4eed09b5967e96   2    0.003425   \n",
       "9        rep_9.npy  93a244cc8a524ffe95ffad692c6d1096   1    0.989134   \n",
       "10      rep_10.npy  eae1ea390bed4299b06b8e8208a343b7   1    0.989134   \n",
       "11      rep_11.npy  56f6a7352e9047c68e76f4df9d42a67f   2    0.003051   \n",
       "12      rep_12.npy  94b00d157d594e4cb02a6033d1ad168d   1    0.988694   \n",
       "13      rep_13.npy  2e0ac01a2c414244a55160eedd12e66e   1    0.988694   \n",
       "14      rep_14.npy  32d8a397a5d54371a28d5073a7165b46   2    0.003067   \n",
       "15      rep_15.npy  eec26591770a4d7bb8a88b71cf5d3c7d   1    0.989584   \n",
       "16      rep_16.npy  5577c6f021ac4c3fbae46845bbe572a4   1    0.989605   \n",
       "17      rep_17.npy  931317ae5eda4aec99fad720dbf9fb34   1    0.989140   \n",
       "18      rep_18.npy  057c86980c5542a5b3145d12cbe002d9   2    0.003424   \n",
       "19      rep_19.npy  40b2472db25f431aa08b68356d187232   2    0.003068   \n",
       "20      rep_20.npy  3129fdbfd46147b6bbe4f9a6d5fa75a7   2    0.003811   \n",
       "21      rep_21.npy  320ec8c3db27472c996b3b67394d8a4b   2    0.003083   \n",
       "22      rep_22.npy  8fd1c54038cb4ac59600fd9b852e41b2   1    0.989184   \n",
       "23      rep_23.npy  946782dde62c46f68af1c2fbbd703feb   2    0.003083   \n",
       "24      rep_24.npy  2cfb380bac3842c9b9e67476c52e8625   1    0.989591   \n",
       "25      rep_25.npy  56d3a1328f16424b9b57a793fec332fc   2    0.003433   \n",
       "26      rep_26.npy  78630f90192547d09f889c662dbe72a9   1    0.989584   \n",
       "27      rep_27.npy  caf2baf18128464f96b4569bed670900   2    0.003083   \n",
       "28      rep_28.npy  530570403780472bb06871edad0d25f1   1    0.989591   \n",
       "29      rep_29.npy  2f3a35650fb74773ab463d964ed52500   1    0.989147   \n",
       "30      rep_30.npy  aa566774411b435fab898968e2bc27dc   2    0.003800   \n",
       "31      rep_31.npy  5169a7e02354472586682000bdc9db07   2    0.003382   \n",
       "32      rep_32.npy  8b9bdcfec9d949228129a44b40ae582e   2    0.003076   \n",
       "33      rep_33.npy  a37cf6bee2d74948bedebb8e81365676   2    0.003076   \n",
       "34      rep_34.npy  2a0949df2d9d4324852f9b3a7cc584c6   2    0.003803   \n",
       "35      rep_35.npy  64a4a6a123d340eead013b687bd1122b   1    0.989591   \n",
       "36      rep_36.npy  d7dcb3a1aa3243c0ac8b46e4adaf8157   1    0.989584   \n",
       "37      rep_37.npy  7a642c0952f54e788260f715b6f52201   1    0.989591   \n",
       "38      rep_38.npy  4887d352cff444b2815643d34e7d4054   1    0.989605   \n",
       "39      rep_39.npy  e7461350cd8f42eb8ecc7f389e2a0b05   1    0.988675   \n",
       "40      rep_40.npy  652ca669cf884613918437ad35991f3b   1    0.989591   \n",
       "41      rep_41.npy  6a8474ac92d64c8b8e075f78a6a2a8fe   1    0.989621   \n",
       "42      rep_42.npy  dfe0d9b5911a498fb7b22c8df485afae   1    0.989584   \n",
       "43      rep_43.npy  e54b8c541d6d4344aaa9436daa8ceb12   1    0.989139   \n",
       "44      rep_44.npy  63fd15360c2e40b995ad37a9cb42ef8f   2    0.003790   \n",
       "45      rep_45.npy  10dde63adc58405f907218a796b57b5f   1    0.989612   \n",
       "46      rep_46.npy  6788414fd98042c98daa498d6b7c15c6   1    0.989140   \n",
       "47      rep_47.npy  016eee871681441d9bc7fc18ad39d9b7   2    0.003421   \n",
       "48      rep_48.npy  881079f99873416bb7ce8bdcd97fc46b   1    0.988685   \n",
       "49      rep_49.npy  881f63d56d9544a09da06e674aa39e9f   1    0.989584   \n",
       "\n",
       "    l1_2_proba  \n",
       "0     0.996567  \n",
       "1     0.010416  \n",
       "2     0.010840  \n",
       "3     0.996213  \n",
       "4     0.011331  \n",
       "5     0.996574  \n",
       "6     0.011306  \n",
       "7     0.995791  \n",
       "8     0.996575  \n",
       "9     0.010866  \n",
       "10    0.010866  \n",
       "11    0.996949  \n",
       "12    0.011306  \n",
       "13    0.011306  \n",
       "14    0.996933  \n",
       "15    0.010416  \n",
       "16    0.010395  \n",
       "17    0.010860  \n",
       "18    0.996576  \n",
       "19    0.996932  \n",
       "20    0.996189  \n",
       "21    0.996917  \n",
       "22    0.010816  \n",
       "23    0.996917  \n",
       "24    0.010409  \n",
       "25    0.996567  \n",
       "26    0.010416  \n",
       "27    0.996917  \n",
       "28    0.010409  \n",
       "29    0.010853  \n",
       "30    0.996200  \n",
       "31    0.996618  \n",
       "32    0.996924  \n",
       "33    0.996924  \n",
       "34    0.996197  \n",
       "35    0.010409  \n",
       "36    0.010416  \n",
       "37    0.010409  \n",
       "38    0.010395  \n",
       "39    0.011325  \n",
       "40    0.010409  \n",
       "41    0.010379  \n",
       "42    0.010416  \n",
       "43    0.010861  \n",
       "44    0.996210  \n",
       "45    0.010388  \n",
       "46    0.010860  \n",
       "47    0.996579  \n",
       "48    0.011315  \n",
       "49    0.010416  "
      ]
     },
     "execution_count": 41,
     "metadata": {},
     "output_type": "execute_result"
    }
   ],
   "source": [
    "data_re"
   ]
  },
  {
   "cell_type": "code",
   "execution_count": 11,
   "metadata": {},
   "outputs": [
    {
     "data": {
      "text/plain": [
       "True"
      ]
     },
     "execution_count": 11,
     "metadata": {},
     "output_type": "execute_result"
    }
   ],
   "source": [
    "import hashlib\n",
    "import hmac\n",
    "import secrets\n",
    "from skl2onnx import to_onnx\n",
    "\n",
    "from dotenv import load_dotenv\n",
    "import os\n",
    "\n",
    "load_dotenv()\n"
   ]
  },
  {
   "cell_type": "code",
   "execution_count": 31,
   "metadata": {},
   "outputs": [
    {
     "data": {
      "text/plain": [
       "LogisticRegression(max_iter=1000, solver='saga')"
      ]
     },
     "execution_count": 31,
     "metadata": {},
     "output_type": "execute_result"
    }
   ],
   "source": [
    "ml_method.model"
   ]
  },
  {
   "cell_type": "code",
   "execution_count": 47,
   "metadata": {},
   "outputs": [],
   "source": [
    "def convert_to_onnx( model,training_data, path):\n",
    "\n",
    "        if model is not None:\n",
    "\n",
    "            onx = to_onnx(model, training_data[:10].astype(numpy.float32))\n",
    "\n",
    "        PathBuilder.build(path)\n",
    "        file_path = path / f\"{type(model).__name__}.onnx\"\n",
    "\n",
    "        with open(file_path, \"wb\") as f:\n",
    "            f.write(onx.SerializeToString())\n"
   ]
  },
  {
   "cell_type": "code",
   "execution_count": 48,
   "metadata": {},
   "outputs": [],
   "source": [
    "onnx_path = path / \"result\"\n"
   ]
  },
  {
   "cell_type": "code",
   "execution_count": 22,
   "metadata": {},
   "outputs": [
    {
     "data": {
      "text/plain": [
       "<DaskLogisticRegression.DaskLogisticRegression at 0x27d3e5fe2e0>"
      ]
     },
     "execution_count": 22,
     "metadata": {},
     "output_type": "execute_result"
    }
   ],
   "source": [
    "ml_method"
   ]
  },
  {
   "cell_type": "code",
   "execution_count": 49,
   "metadata": {},
   "outputs": [],
   "source": [
    "training_data = enc_dataset.encoded_data.examples\n"
   ]
  },
  {
   "cell_type": "code",
   "execution_count": 50,
   "metadata": {},
   "outputs": [
    {
     "data": {
      "text/plain": [
       "array([[-0.20412415, -0.14285714, -0.14285714, ..., -0.14285714,\n",
       "        -0.14285714, -0.14285714],\n",
       "       [-0.20412415, -0.14285714, -0.14285714, ..., -0.14285714,\n",
       "        -0.14285714,  7.        ],\n",
       "       [-0.20412415, -0.14285714, -0.14285714, ..., -0.14285714,\n",
       "        -0.14285714, -0.14285714],\n",
       "       [-0.20412415, -0.14285714, -0.14285714, ...,  7.        ,\n",
       "        -0.14285714, -0.14285714]])"
      ]
     },
     "execution_count": 50,
     "metadata": {},
     "output_type": "execute_result"
    }
   ],
   "source": [
    "training_data[:4]"
   ]
  },
  {
   "cell_type": "code",
   "execution_count": 51,
   "metadata": {},
   "outputs": [],
   "source": [
    "convert_to_onnx(ml_method.model, training_data , onnx_path)"
   ]
  },
  {
   "cell_type": "code",
   "execution_count": 37,
   "metadata": {},
   "outputs": [],
   "source": [
    "onnx_path_model = onnx_path / \"LogisticRegression.onnx\""
   ]
  },
  {
   "cell_type": "code",
   "execution_count": 52,
   "metadata": {},
   "outputs": [],
   "source": [
    "onx = to_onnx(ml_method.model, training_data[:10].astype(numpy.float32))\n"
   ]
  },
  {
   "cell_type": "code",
   "execution_count": 54,
   "metadata": {},
   "outputs": [
    {
     "name": "stdout",
     "output_type": "stream",
     "text": [
      "[0 0 1 0 0 1 1 1 0 1 0 0 1 0 0 0 1 0 0 1 0 1 0 0 1 0 0 0 0 1 1 1 1 0 1 1 0\n",
      " 0 0 1 0 1 1 0 1 0 0 0 1 0]\n"
     ]
    }
   ],
   "source": [
    "\n",
    "import numpy\n",
    "import onnxruntime as rt\n",
    "\n",
    "sess = rt.InferenceSession(onx.SerializeToString())\n",
    "input_name = sess.get_inputs()[0].name\n",
    "pred_onx = sess.run(None, {input_name: training_data.astype(numpy.float32)})[0]\n",
    "print(pred_onx)\n"
   ]
  },
  {
   "cell_type": "code",
   "execution_count": 56,
   "metadata": {},
   "outputs": [],
   "source": [
    "model = ml_method.model"
   ]
  },
  {
   "cell_type": "code",
   "execution_count": 57,
   "metadata": {},
   "outputs": [
    {
     "name": "stdout",
     "output_type": "stream",
     "text": [
      "7adf9e73165b41260977c4f16a22d3f587445df9d0495ee0417bf01b33307f50\n"
     ]
    }
   ],
   "source": [
    "from dotenv import load_dotenv\n",
    "import os\n",
    "\n",
    "load_dotenv()\n",
    "print(os.environ.get('secret'))\n"
   ]
  },
  {
   "cell_type": "code",
   "execution_count": 59,
   "metadata": {},
   "outputs": [
    {
     "name": "stdout",
     "output_type": "stream",
     "text": [
      "caed5b672400e0099bbd60c0b628b8c3d09faef380851fdcde67b9a2f41d97ba9a791f805bc8c0e65d4e2733310178d9b36d038f1445c866863b95fd6a31fbab\n",
      "<class 'str'>\n"
     ]
    }
   ],
   "source": [
    "import hashlib\n",
    "import hmac\n",
    "import dill\n",
    "\n",
    "\n",
    "data = dill.dumps(model)\n",
    "digest = hmac.new(str.encode(os.environ.get('secret')),\n",
    "                  data, hashlib.blake2b).hexdigest()\n",
    "print(digest)\n",
    "print(type(digest))\n",
    "\n",
    "path = PathBuilder.build(\"../ml_methods\")\n",
    "\n",
    "file_path = path / \\\n",
    "    f\"{str(digest)}-{type(model).__name__}.pickle\"\n",
    "\n",
    "with file_path.open(\"wb\") as file:\n",
    "    dill.dump(model, file)\n"
   ]
  },
  {
   "cell_type": "code",
   "execution_count": 60,
   "metadata": {},
   "outputs": [
    {
     "name": "stdout",
     "output_type": "stream",
     "text": [
      "caed5b672400e0099bbd60c0b628b8c3d09faef380851fdcde67b9a2f41d97ba9a791f805bc8c0e65d4e2733310178d9b36d038f1445c866863b95fd6a31fbab\n"
     ]
    }
   ],
   "source": [
    "filename = file_path.name\n",
    "\n",
    "with open(filename, \"rb\") as f:\n",
    "    read_data = f.read()\n",
    "\n",
    "\n",
    "print(filename.split('-')[0])"
   ]
  },
  {
   "cell_type": "code",
   "execution_count": 62,
   "metadata": {},
   "outputs": [
    {
     "name": "stdout",
     "output_type": "stream",
     "text": [
      "caed5b672400e0099bbd60c0b628b8c3d09faef380851fdcde67b9a2f41d97ba9a791f805bc8c0e65d4e2733310178d9b36d038f1445c866863b95fd6a31fbab\n"
     ]
    }
   ],
   "source": [
    "filename = file_path.name\n",
    "digest, pickle_data = filename.split('-')\n",
    "\n",
    "expected_digest = hmac.new(\n",
    "    str.encode(os.environ.get('secret')), read_data, hashlib.blake2b).hexdigest()\n",
    "print(expected_digest)\n",
    "if not secrets.compare_digest(digest, expected_digest):\n",
    "    raise SystemExit(\"Invalid Signature\")\n",
    "    exit(1)\n",
    "else:\n",
    "    obj = dill.loads(data)\n"
   ]
  },
  {
   "cell_type": "code",
   "execution_count": null,
   "metadata": {},
   "outputs": [],
   "source": []
  }
 ],
 "metadata": {
  "interpreter": {
   "hash": "a64f21293159cd9c4e596ef7fd6c17a9c99d13712885c299cb3370e7a4d97830"
  },
  "kernelspec": {
   "display_name": "Python 3.8.12 ('test')",
   "language": "python",
   "name": "python3"
  },
  "language_info": {
   "codemirror_mode": {
    "name": "ipython",
    "version": 3
   },
   "file_extension": ".py",
   "mimetype": "text/x-python",
   "name": "python",
   "nbconvert_exporter": "python",
   "pygments_lexer": "ipython3",
   "version": "3.8.12"
  },
  "orig_nbformat": 4
 },
 "nbformat": 4,
 "nbformat_minor": 2
}
