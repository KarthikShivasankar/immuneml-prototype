{
 "cells": [
  {
   "cell_type": "code",
   "execution_count": 2,
   "metadata": {},
   "outputs": [
    {
     "data": {
      "text/plain": [
       "True"
      ]
     },
     "execution_count": 2,
     "metadata": {},
     "output_type": "execute_result"
    }
   ],
   "source": [
    "\n",
    "from immuneML.util.PathBuilder import PathBuilder\n",
    "import hashlib\n",
    "import hmac\n",
    "import secrets\n",
    "from skl2onnx import to_onnx\n",
    "\n",
    "from dotenv import load_dotenv\n",
    "import os\n",
    "\n",
    "load_dotenv()\n"
   ]
  },
  {
   "cell_type": "code",
   "execution_count": null,
   "metadata": {},
   "outputs": [],
   "source": [
    "def convert_to_onnx(self, training_data: EncodedData, path: Path):\n",
    "\n",
    "        if self.model is not None:\n",
    "\n",
    "            onx = to_onnx(self.model, training_data[:10])\n",
    "\n",
    "        PathBuilder.build(path)\n",
    "        file_path = path / f\"{self._get_model_filename()}.onnx\"\n",
    "\n",
    "        with open(file_path, \"wb\") as f:\n",
    "            f.write(onx.SerlizeToString())\n"
   ]
  }
 ],
 "metadata": {
  "interpreter": {
   "hash": "a64f21293159cd9c4e596ef7fd6c17a9c99d13712885c299cb3370e7a4d97830"
  },
  "kernelspec": {
   "display_name": "Python 3.8.12 ('test')",
   "language": "python",
   "name": "python3"
  },
  "language_info": {
   "codemirror_mode": {
    "name": "ipython",
    "version": 3
   },
   "file_extension": ".py",
   "mimetype": "text/x-python",
   "name": "python",
   "nbconvert_exporter": "python",
   "pygments_lexer": "ipython3",
   "version": "3.8.12"
  },
  "orig_nbformat": 4
 },
 "nbformat": 4,
 "nbformat_minor": 2
}
