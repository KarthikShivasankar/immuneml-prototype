{
 "cells": [
  {
   "cell_type": "code",
   "execution_count": 1,
   "metadata": {},
   "outputs": [],
   "source": [
    "\n",
    "from immuneML.data_model.dataset.ReceptorDataset import ReceptorDataset\n",
    "from immuneML.data_model.dataset.RepertoireDataset import RepertoireDataset\n",
    "from immuneML.data_model.dataset.SequenceDataset import SequenceDataset\n",
    "from immuneML.environment.EnvironmentSettings import EnvironmentSettings\n",
    "from immuneML.simulation.dataset_generation.RandomDatasetGenerator import RandomDatasetGenerator\n"
   ]
  },
  {
   "cell_type": "code",
   "execution_count": 2,
   "metadata": {},
   "outputs": [],
   "source": [
    "path = EnvironmentSettings.tmp_test_path / \\\n",
    "    \"random_repertoire_dataset_generation/\"\n"
   ]
  },
  {
   "cell_type": "code",
   "execution_count": 3,
   "metadata": {},
   "outputs": [],
   "source": [
    "dataset = RandomDatasetGenerator.generate_repertoire_dataset(repertoire_count=100,\n",
    "                                                             sequence_count_probabilities={\n",
    "                                                                 100: 0.5, 120: 0.5},\n",
    "                                                             sequence_length_probabilities={12: 0.33, 14: 0.33, 15: 0.33}, labels={}, path=path)\n"
   ]
  },
  {
   "cell_type": "code",
   "execution_count": 4,
   "metadata": {},
   "outputs": [
    {
     "data": {
      "text/plain": [
       "WindowsPath('C:/Users/Karthik/.conda/envs/uni/lib/site-packages/test/tmp/random_repertoire_dataset_generation')"
      ]
     },
     "execution_count": 4,
     "metadata": {},
     "output_type": "execute_result"
    }
   ],
   "source": [
    "type(dataset)\n",
    "path\n"
   ]
  },
  {
   "cell_type": "code",
   "execution_count": 5,
   "metadata": {},
   "outputs": [],
   "source": [
    "from immuneML.workflows.steps.SignalImplanter import SignalImplanter\n",
    "from immuneML.simulation.SimulationState import SimulationState\n",
    "from immuneML.simulation.Implanting import Implanting\n",
    "from immuneML.simulation.Simulation import Simulation\n",
    "\n",
    "from immuneML.simulation.implants.Motif import Motif\n",
    "from immuneML.simulation.implants.Signal import Signal\n",
    "from immuneML.simulation.motif_instantiation_strategy.GappedKmerInstantiation import GappedKmerInstantiation\n",
    "from immuneML.simulation.sequence_implanting.GappedMotifImplanting import GappedMotifImplanting\n",
    "from immuneML.simulation.signal_implanting_strategy.HealthySequenceImplanting import HealthySequenceImplanting\n",
    "from immuneML.simulation.signal_implanting_strategy.ImplantingComputation import ImplantingComputation\n"
   ]
  },
  {
   "cell_type": "code",
   "execution_count": 6,
   "metadata": {},
   "outputs": [],
   "source": [
    "result_path = path  /  \"simulation_data\""
   ]
  },
  {
   "cell_type": "code",
   "execution_count": 7,
   "metadata": {},
   "outputs": [],
   "source": [
    "signal = Signal(\"my_signal\", [Motif(\n",
    "    \"my_motif\", GappedKmerInstantiation(), \"AA\")],   implanting_strategy=HealthySequenceImplanting(GappedMotifImplanting(), implanting_computation=ImplantingComputation.ROUND))\n"
   ]
  },
  {
   "cell_type": "code",
   "execution_count": 8,
   "metadata": {},
   "outputs": [],
   "source": [
    "simulation = Simulation([Implanting(dataset_implanting_rate=0.5,\n",
    "                        repertoire_implanting_rate=0.1, signals=[signal], name=\"my_simulation\")])\n"
   ]
  },
  {
   "cell_type": "code",
   "execution_count": 9,
   "metadata": {},
   "outputs": [],
   "source": [
    "input_params = SimulationState(dataset=dataset, result_path=result_path,\n",
    "                               simulation=simulation, signals=[signal], formats=[\"AIRR\"])\n"
   ]
  },
  {
   "cell_type": "code",
   "execution_count": 11,
   "metadata": {},
   "outputs": [
    {
     "name": "stderr",
     "output_type": "stream",
     "text": [
      "WARNING:root:Position weights are not defined. Randomly choosing position to implant motif_instance instead.\n",
      "WARNING:root:Position weights are not defined. Randomly choosing position to implant motif_instance instead.\n",
      "WARNING:root:Position weights are not defined. Randomly choosing position to implant motif_instance instead.\n",
      "WARNING:root:Position weights are not defined. Randomly choosing position to implant motif_instance instead.\n",
      "WARNING:root:Position weights are not defined. Randomly choosing position to implant motif_instance instead.\n",
      "WARNING:root:Position weights are not defined. Randomly choosing position to implant motif_instance instead.\n",
      "WARNING:root:Position weights are not defined. Randomly choosing position to implant motif_instance instead.\n",
      "WARNING:root:Position weights are not defined. Randomly choosing position to implant motif_instance instead.\n",
      "WARNING:root:Position weights are not defined. Randomly choosing position to implant motif_instance instead.\n",
      "WARNING:root:Position weights are not defined. Randomly choosing position to implant motif_instance instead.\n",
      "WARNING:root:Position weights are not defined. Randomly choosing position to implant motif_instance instead.\n",
      "WARNING:root:Position weights are not defined. Randomly choosing position to implant motif_instance instead.\n",
      "WARNING:root:Position weights are not defined. Randomly choosing position to implant motif_instance instead.\n",
      "WARNING:root:Position weights are not defined. Randomly choosing position to implant motif_instance instead.\n",
      "WARNING:root:Position weights are not defined. Randomly choosing position to implant motif_instance instead.\n",
      "WARNING:root:Position weights are not defined. Randomly choosing position to implant motif_instance instead.\n",
      "WARNING:root:Position weights are not defined. Randomly choosing position to implant motif_instance instead.\n",
      "WARNING:root:Position weights are not defined. Randomly choosing position to implant motif_instance instead.\n",
      "WARNING:root:Position weights are not defined. Randomly choosing position to implant motif_instance instead.\n",
      "WARNING:root:Position weights are not defined. Randomly choosing position to implant motif_instance instead.\n",
      "WARNING:root:Position weights are not defined. Randomly choosing position to implant motif_instance instead.\n",
      "WARNING:root:Position weights are not defined. Randomly choosing position to implant motif_instance instead.\n",
      "WARNING:root:Position weights are not defined. Randomly choosing position to implant motif_instance instead.\n",
      "WARNING:root:Position weights are not defined. Randomly choosing position to implant motif_instance instead.\n",
      "WARNING:root:Position weights are not defined. Randomly choosing position to implant motif_instance instead.\n",
      "WARNING:root:Position weights are not defined. Randomly choosing position to implant motif_instance instead.\n",
      "WARNING:root:Position weights are not defined. Randomly choosing position to implant motif_instance instead.\n",
      "WARNING:root:Position weights are not defined. Randomly choosing position to implant motif_instance instead.\n",
      "WARNING:root:Position weights are not defined. Randomly choosing position to implant motif_instance instead.\n",
      "WARNING:root:Position weights are not defined. Randomly choosing position to implant motif_instance instead.\n",
      "WARNING:root:Position weights are not defined. Randomly choosing position to implant motif_instance instead.\n",
      "WARNING:root:Position weights are not defined. Randomly choosing position to implant motif_instance instead.\n",
      "WARNING:root:Position weights are not defined. Randomly choosing position to implant motif_instance instead.\n",
      "WARNING:root:Position weights are not defined. Randomly choosing position to implant motif_instance instead.\n",
      "WARNING:root:Position weights are not defined. Randomly choosing position to implant motif_instance instead.\n",
      "WARNING:root:Position weights are not defined. Randomly choosing position to implant motif_instance instead.\n",
      "WARNING:root:Position weights are not defined. Randomly choosing position to implant motif_instance instead.\n",
      "WARNING:root:Position weights are not defined. Randomly choosing position to implant motif_instance instead.\n",
      "WARNING:root:Position weights are not defined. Randomly choosing position to implant motif_instance instead.\n",
      "WARNING:root:Position weights are not defined. Randomly choosing position to implant motif_instance instead.\n",
      "WARNING:root:Position weights are not defined. Randomly choosing position to implant motif_instance instead.\n",
      "WARNING:root:Position weights are not defined. Randomly choosing position to implant motif_instance instead.\n",
      "WARNING:root:Position weights are not defined. Randomly choosing position to implant motif_instance instead.\n",
      "WARNING:root:Position weights are not defined. Randomly choosing position to implant motif_instance instead.\n",
      "WARNING:root:Position weights are not defined. Randomly choosing position to implant motif_instance instead.\n",
      "WARNING:root:Position weights are not defined. Randomly choosing position to implant motif_instance instead.\n",
      "WARNING:root:Position weights are not defined. Randomly choosing position to implant motif_instance instead.\n",
      "WARNING:root:Position weights are not defined. Randomly choosing position to implant motif_instance instead.\n",
      "WARNING:root:Position weights are not defined. Randomly choosing position to implant motif_instance instead.\n",
      "WARNING:root:Position weights are not defined. Randomly choosing position to implant motif_instance instead.\n",
      "WARNING:root:Position weights are not defined. Randomly choosing position to implant motif_instance instead.\n",
      "WARNING:root:Position weights are not defined. Randomly choosing position to implant motif_instance instead.\n",
      "WARNING:root:Position weights are not defined. Randomly choosing position to implant motif_instance instead.\n",
      "WARNING:root:Position weights are not defined. Randomly choosing position to implant motif_instance instead.\n",
      "WARNING:root:Position weights are not defined. Randomly choosing position to implant motif_instance instead.\n",
      "WARNING:root:Position weights are not defined. Randomly choosing position to implant motif_instance instead.\n",
      "WARNING:root:Position weights are not defined. Randomly choosing position to implant motif_instance instead.\n",
      "WARNING:root:Position weights are not defined. Randomly choosing position to implant motif_instance instead.\n",
      "WARNING:root:Position weights are not defined. Randomly choosing position to implant motif_instance instead.\n",
      "WARNING:root:Position weights are not defined. Randomly choosing position to implant motif_instance instead.\n",
      "WARNING:root:Position weights are not defined. Randomly choosing position to implant motif_instance instead.\n",
      "WARNING:root:Position weights are not defined. Randomly choosing position to implant motif_instance instead.\n",
      "WARNING:root:Position weights are not defined. Randomly choosing position to implant motif_instance instead.\n",
      "WARNING:root:Position weights are not defined. Randomly choosing position to implant motif_instance instead.\n",
      "WARNING:root:Position weights are not defined. Randomly choosing position to implant motif_instance instead.\n",
      "WARNING:root:Position weights are not defined. Randomly choosing position to implant motif_instance instead.\n",
      "WARNING:root:Position weights are not defined. Randomly choosing position to implant motif_instance instead.\n",
      "WARNING:root:Position weights are not defined. Randomly choosing position to implant motif_instance instead.\n",
      "WARNING:root:Position weights are not defined. Randomly choosing position to implant motif_instance instead.\n",
      "WARNING:root:Position weights are not defined. Randomly choosing position to implant motif_instance instead.\n",
      "WARNING:root:Position weights are not defined. Randomly choosing position to implant motif_instance instead.\n",
      "WARNING:root:Position weights are not defined. Randomly choosing position to implant motif_instance instead.\n",
      "WARNING:root:Position weights are not defined. Randomly choosing position to implant motif_instance instead.\n",
      "WARNING:root:Position weights are not defined. Randomly choosing position to implant motif_instance instead.\n",
      "WARNING:root:Position weights are not defined. Randomly choosing position to implant motif_instance instead.\n",
      "WARNING:root:Position weights are not defined. Randomly choosing position to implant motif_instance instead.\n",
      "WARNING:root:Position weights are not defined. Randomly choosing position to implant motif_instance instead.\n",
      "WARNING:root:Position weights are not defined. Randomly choosing position to implant motif_instance instead.\n",
      "WARNING:root:Position weights are not defined. Randomly choosing position to implant motif_instance instead.\n",
      "WARNING:root:Position weights are not defined. Randomly choosing position to implant motif_instance instead.\n",
      "WARNING:root:Position weights are not defined. Randomly choosing position to implant motif_instance instead.\n",
      "WARNING:root:Position weights are not defined. Randomly choosing position to implant motif_instance instead.\n",
      "WARNING:root:Position weights are not defined. Randomly choosing position to implant motif_instance instead.\n",
      "WARNING:root:Position weights are not defined. Randomly choosing position to implant motif_instance instead.\n",
      "WARNING:root:Position weights are not defined. Randomly choosing position to implant motif_instance instead.\n",
      "WARNING:root:Position weights are not defined. Randomly choosing position to implant motif_instance instead.\n",
      "WARNING:root:Position weights are not defined. Randomly choosing position to implant motif_instance instead.\n",
      "WARNING:root:Position weights are not defined. Randomly choosing position to implant motif_instance instead.\n",
      "WARNING:root:Position weights are not defined. Randomly choosing position to implant motif_instance instead.\n",
      "WARNING:root:Position weights are not defined. Randomly choosing position to implant motif_instance instead.\n",
      "WARNING:root:Position weights are not defined. Randomly choosing position to implant motif_instance instead.\n",
      "WARNING:root:Position weights are not defined. Randomly choosing position to implant motif_instance instead.\n",
      "WARNING:root:Position weights are not defined. Randomly choosing position to implant motif_instance instead.\n",
      "WARNING:root:Position weights are not defined. Randomly choosing position to implant motif_instance instead.\n",
      "WARNING:root:Position weights are not defined. Randomly choosing position to implant motif_instance instead.\n",
      "WARNING:root:Position weights are not defined. Randomly choosing position to implant motif_instance instead.\n",
      "WARNING:root:Position weights are not defined. Randomly choosing position to implant motif_instance instead.\n",
      "WARNING:root:Position weights are not defined. Randomly choosing position to implant motif_instance instead.\n",
      "WARNING:root:Position weights are not defined. Randomly choosing position to implant motif_instance instead.\n",
      "WARNING:root:Position weights are not defined. Randomly choosing position to implant motif_instance instead.\n",
      "WARNING:root:Position weights are not defined. Randomly choosing position to implant motif_instance instead.\n",
      "WARNING:root:Position weights are not defined. Randomly choosing position to implant motif_instance instead.\n",
      "WARNING:root:Position weights are not defined. Randomly choosing position to implant motif_instance instead.\n",
      "WARNING:root:Position weights are not defined. Randomly choosing position to implant motif_instance instead.\n",
      "WARNING:root:Position weights are not defined. Randomly choosing position to implant motif_instance instead.\n",
      "WARNING:root:Position weights are not defined. Randomly choosing position to implant motif_instance instead.\n",
      "WARNING:root:Position weights are not defined. Randomly choosing position to implant motif_instance instead.\n",
      "WARNING:root:Position weights are not defined. Randomly choosing position to implant motif_instance instead.\n",
      "WARNING:root:Position weights are not defined. Randomly choosing position to implant motif_instance instead.\n",
      "WARNING:root:Position weights are not defined. Randomly choosing position to implant motif_instance instead.\n",
      "WARNING:root:Position weights are not defined. Randomly choosing position to implant motif_instance instead.\n",
      "WARNING:root:Position weights are not defined. Randomly choosing position to implant motif_instance instead.\n",
      "WARNING:root:Position weights are not defined. Randomly choosing position to implant motif_instance instead.\n",
      "WARNING:root:Position weights are not defined. Randomly choosing position to implant motif_instance instead.\n",
      "WARNING:root:Position weights are not defined. Randomly choosing position to implant motif_instance instead.\n",
      "WARNING:root:Position weights are not defined. Randomly choosing position to implant motif_instance instead.\n",
      "WARNING:root:Position weights are not defined. Randomly choosing position to implant motif_instance instead.\n",
      "WARNING:root:Position weights are not defined. Randomly choosing position to implant motif_instance instead.\n",
      "WARNING:root:Position weights are not defined. Randomly choosing position to implant motif_instance instead.\n",
      "WARNING:root:Position weights are not defined. Randomly choosing position to implant motif_instance instead.\n",
      "WARNING:root:Position weights are not defined. Randomly choosing position to implant motif_instance instead.\n",
      "WARNING:root:Position weights are not defined. Randomly choosing position to implant motif_instance instead.\n",
      "WARNING:root:Position weights are not defined. Randomly choosing position to implant motif_instance instead.\n",
      "WARNING:root:Position weights are not defined. Randomly choosing position to implant motif_instance instead.\n",
      "WARNING:root:Position weights are not defined. Randomly choosing position to implant motif_instance instead.\n",
      "WARNING:root:Position weights are not defined. Randomly choosing position to implant motif_instance instead.\n",
      "WARNING:root:Position weights are not defined. Randomly choosing position to implant motif_instance instead.\n",
      "WARNING:root:Position weights are not defined. Randomly choosing position to implant motif_instance instead.\n",
      "WARNING:root:Position weights are not defined. Randomly choosing position to implant motif_instance instead.\n",
      "WARNING:root:Position weights are not defined. Randomly choosing position to implant motif_instance instead.\n",
      "WARNING:root:Position weights are not defined. Randomly choosing position to implant motif_instance instead.\n",
      "WARNING:root:Position weights are not defined. Randomly choosing position to implant motif_instance instead.\n",
      "WARNING:root:Position weights are not defined. Randomly choosing position to implant motif_instance instead.\n",
      "WARNING:root:Position weights are not defined. Randomly choosing position to implant motif_instance instead.\n",
      "WARNING:root:Position weights are not defined. Randomly choosing position to implant motif_instance instead.\n",
      "WARNING:root:Position weights are not defined. Randomly choosing position to implant motif_instance instead.\n",
      "WARNING:root:Position weights are not defined. Randomly choosing position to implant motif_instance instead.\n",
      "WARNING:root:Position weights are not defined. Randomly choosing position to implant motif_instance instead.\n",
      "WARNING:root:Position weights are not defined. Randomly choosing position to implant motif_instance instead.\n",
      "WARNING:root:Position weights are not defined. Randomly choosing position to implant motif_instance instead.\n",
      "WARNING:root:Position weights are not defined. Randomly choosing position to implant motif_instance instead.\n",
      "WARNING:root:Position weights are not defined. Randomly choosing position to implant motif_instance instead.\n",
      "WARNING:root:Position weights are not defined. Randomly choosing position to implant motif_instance instead.\n",
      "WARNING:root:Position weights are not defined. Randomly choosing position to implant motif_instance instead.\n",
      "WARNING:root:Position weights are not defined. Randomly choosing position to implant motif_instance instead.\n",
      "WARNING:root:Position weights are not defined. Randomly choosing position to implant motif_instance instead.\n",
      "WARNING:root:Position weights are not defined. Randomly choosing position to implant motif_instance instead.\n",
      "WARNING:root:Position weights are not defined. Randomly choosing position to implant motif_instance instead.\n",
      "WARNING:root:Position weights are not defined. Randomly choosing position to implant motif_instance instead.\n",
      "WARNING:root:Position weights are not defined. Randomly choosing position to implant motif_instance instead.\n",
      "WARNING:root:Position weights are not defined. Randomly choosing position to implant motif_instance instead.\n",
      "WARNING:root:Position weights are not defined. Randomly choosing position to implant motif_instance instead.\n",
      "WARNING:root:Position weights are not defined. Randomly choosing position to implant motif_instance instead.\n",
      "WARNING:root:Position weights are not defined. Randomly choosing position to implant motif_instance instead.\n",
      "WARNING:root:Position weights are not defined. Randomly choosing position to implant motif_instance instead.\n",
      "WARNING:root:Position weights are not defined. Randomly choosing position to implant motif_instance instead.\n",
      "WARNING:root:Position weights are not defined. Randomly choosing position to implant motif_instance instead.\n",
      "WARNING:root:Position weights are not defined. Randomly choosing position to implant motif_instance instead.\n",
      "WARNING:root:Position weights are not defined. Randomly choosing position to implant motif_instance instead.\n",
      "WARNING:root:Position weights are not defined. Randomly choosing position to implant motif_instance instead.\n",
      "WARNING:root:Position weights are not defined. Randomly choosing position to implant motif_instance instead.\n",
      "WARNING:root:Position weights are not defined. Randomly choosing position to implant motif_instance instead.\n",
      "WARNING:root:Position weights are not defined. Randomly choosing position to implant motif_instance instead.\n",
      "WARNING:root:Position weights are not defined. Randomly choosing position to implant motif_instance instead.\n",
      "WARNING:root:Position weights are not defined. Randomly choosing position to implant motif_instance instead.\n",
      "WARNING:root:Position weights are not defined. Randomly choosing position to implant motif_instance instead.\n",
      "WARNING:root:Position weights are not defined. Randomly choosing position to implant motif_instance instead.\n",
      "WARNING:root:Position weights are not defined. Randomly choosing position to implant motif_instance instead.\n",
      "WARNING:root:Position weights are not defined. Randomly choosing position to implant motif_instance instead.\n",
      "WARNING:root:Position weights are not defined. Randomly choosing position to implant motif_instance instead.\n",
      "WARNING:root:Position weights are not defined. Randomly choosing position to implant motif_instance instead.\n",
      "WARNING:root:Position weights are not defined. Randomly choosing position to implant motif_instance instead.\n",
      "WARNING:root:Position weights are not defined. Randomly choosing position to implant motif_instance instead.\n",
      "WARNING:root:Position weights are not defined. Randomly choosing position to implant motif_instance instead.\n",
      "WARNING:root:Position weights are not defined. Randomly choosing position to implant motif_instance instead.\n",
      "WARNING:root:Position weights are not defined. Randomly choosing position to implant motif_instance instead.\n",
      "WARNING:root:Position weights are not defined. Randomly choosing position to implant motif_instance instead.\n",
      "WARNING:root:Position weights are not defined. Randomly choosing position to implant motif_instance instead.\n",
      "WARNING:root:Position weights are not defined. Randomly choosing position to implant motif_instance instead.\n",
      "WARNING:root:Position weights are not defined. Randomly choosing position to implant motif_instance instead.\n",
      "WARNING:root:Position weights are not defined. Randomly choosing position to implant motif_instance instead.\n",
      "WARNING:root:Position weights are not defined. Randomly choosing position to implant motif_instance instead.\n",
      "WARNING:root:Position weights are not defined. Randomly choosing position to implant motif_instance instead.\n",
      "WARNING:root:Position weights are not defined. Randomly choosing position to implant motif_instance instead.\n",
      "WARNING:root:Position weights are not defined. Randomly choosing position to implant motif_instance instead.\n",
      "WARNING:root:Position weights are not defined. Randomly choosing position to implant motif_instance instead.\n",
      "WARNING:root:Position weights are not defined. Randomly choosing position to implant motif_instance instead.\n",
      "WARNING:root:Position weights are not defined. Randomly choosing position to implant motif_instance instead.\n",
      "WARNING:root:Position weights are not defined. Randomly choosing position to implant motif_instance instead.\n",
      "WARNING:root:Position weights are not defined. Randomly choosing position to implant motif_instance instead.\n",
      "WARNING:root:Position weights are not defined. Randomly choosing position to implant motif_instance instead.\n",
      "WARNING:root:Position weights are not defined. Randomly choosing position to implant motif_instance instead.\n",
      "WARNING:root:Position weights are not defined. Randomly choosing position to implant motif_instance instead.\n",
      "WARNING:root:Position weights are not defined. Randomly choosing position to implant motif_instance instead.\n",
      "WARNING:root:Position weights are not defined. Randomly choosing position to implant motif_instance instead.\n",
      "WARNING:root:Position weights are not defined. Randomly choosing position to implant motif_instance instead.\n",
      "WARNING:root:Position weights are not defined. Randomly choosing position to implant motif_instance instead.\n",
      "WARNING:root:Position weights are not defined. Randomly choosing position to implant motif_instance instead.\n",
      "WARNING:root:Position weights are not defined. Randomly choosing position to implant motif_instance instead.\n",
      "WARNING:root:Position weights are not defined. Randomly choosing position to implant motif_instance instead.\n",
      "WARNING:root:Position weights are not defined. Randomly choosing position to implant motif_instance instead.\n",
      "WARNING:root:Position weights are not defined. Randomly choosing position to implant motif_instance instead.\n",
      "WARNING:root:Position weights are not defined. Randomly choosing position to implant motif_instance instead.\n",
      "WARNING:root:Position weights are not defined. Randomly choosing position to implant motif_instance instead.\n",
      "WARNING:root:Position weights are not defined. Randomly choosing position to implant motif_instance instead.\n",
      "WARNING:root:Position weights are not defined. Randomly choosing position to implant motif_instance instead.\n",
      "WARNING:root:Position weights are not defined. Randomly choosing position to implant motif_instance instead.\n",
      "WARNING:root:Position weights are not defined. Randomly choosing position to implant motif_instance instead.\n",
      "WARNING:root:Position weights are not defined. Randomly choosing position to implant motif_instance instead.\n",
      "WARNING:root:Position weights are not defined. Randomly choosing position to implant motif_instance instead.\n",
      "WARNING:root:Position weights are not defined. Randomly choosing position to implant motif_instance instead.\n",
      "WARNING:root:Position weights are not defined. Randomly choosing position to implant motif_instance instead.\n",
      "WARNING:root:Position weights are not defined. Randomly choosing position to implant motif_instance instead.\n",
      "WARNING:root:Position weights are not defined. Randomly choosing position to implant motif_instance instead.\n",
      "WARNING:root:Position weights are not defined. Randomly choosing position to implant motif_instance instead.\n",
      "WARNING:root:Position weights are not defined. Randomly choosing position to implant motif_instance instead.\n",
      "WARNING:root:Position weights are not defined. Randomly choosing position to implant motif_instance instead.\n",
      "WARNING:root:Position weights are not defined. Randomly choosing position to implant motif_instance instead.\n",
      "WARNING:root:Position weights are not defined. Randomly choosing position to implant motif_instance instead.\n",
      "WARNING:root:Position weights are not defined. Randomly choosing position to implant motif_instance instead.\n",
      "WARNING:root:Position weights are not defined. Randomly choosing position to implant motif_instance instead.\n",
      "WARNING:root:Position weights are not defined. Randomly choosing position to implant motif_instance instead.\n",
      "WARNING:root:Position weights are not defined. Randomly choosing position to implant motif_instance instead.\n",
      "WARNING:root:Position weights are not defined. Randomly choosing position to implant motif_instance instead.\n",
      "WARNING:root:Position weights are not defined. Randomly choosing position to implant motif_instance instead.\n",
      "WARNING:root:Position weights are not defined. Randomly choosing position to implant motif_instance instead.\n",
      "WARNING:root:Position weights are not defined. Randomly choosing position to implant motif_instance instead.\n",
      "WARNING:root:Position weights are not defined. Randomly choosing position to implant motif_instance instead.\n",
      "WARNING:root:Position weights are not defined. Randomly choosing position to implant motif_instance instead.\n",
      "WARNING:root:Position weights are not defined. Randomly choosing position to implant motif_instance instead.\n",
      "WARNING:root:Position weights are not defined. Randomly choosing position to implant motif_instance instead.\n",
      "WARNING:root:Position weights are not defined. Randomly choosing position to implant motif_instance instead.\n",
      "WARNING:root:Position weights are not defined. Randomly choosing position to implant motif_instance instead.\n",
      "WARNING:root:Position weights are not defined. Randomly choosing position to implant motif_instance instead.\n",
      "WARNING:root:Position weights are not defined. Randomly choosing position to implant motif_instance instead.\n",
      "WARNING:root:Position weights are not defined. Randomly choosing position to implant motif_instance instead.\n",
      "WARNING:root:Position weights are not defined. Randomly choosing position to implant motif_instance instead.\n",
      "WARNING:root:Position weights are not defined. Randomly choosing position to implant motif_instance instead.\n",
      "WARNING:root:Position weights are not defined. Randomly choosing position to implant motif_instance instead.\n",
      "WARNING:root:Position weights are not defined. Randomly choosing position to implant motif_instance instead.\n",
      "WARNING:root:Position weights are not defined. Randomly choosing position to implant motif_instance instead.\n",
      "WARNING:root:Position weights are not defined. Randomly choosing position to implant motif_instance instead.\n",
      "WARNING:root:Position weights are not defined. Randomly choosing position to implant motif_instance instead.\n",
      "WARNING:root:Position weights are not defined. Randomly choosing position to implant motif_instance instead.\n",
      "WARNING:root:Position weights are not defined. Randomly choosing position to implant motif_instance instead.\n",
      "WARNING:root:Position weights are not defined. Randomly choosing position to implant motif_instance instead.\n",
      "WARNING:root:Position weights are not defined. Randomly choosing position to implant motif_instance instead.\n",
      "WARNING:root:Position weights are not defined. Randomly choosing position to implant motif_instance instead.\n",
      "WARNING:root:Position weights are not defined. Randomly choosing position to implant motif_instance instead.\n",
      "WARNING:root:Position weights are not defined. Randomly choosing position to implant motif_instance instead.\n",
      "WARNING:root:Position weights are not defined. Randomly choosing position to implant motif_instance instead.\n",
      "WARNING:root:Position weights are not defined. Randomly choosing position to implant motif_instance instead.\n",
      "WARNING:root:Position weights are not defined. Randomly choosing position to implant motif_instance instead.\n",
      "WARNING:root:Position weights are not defined. Randomly choosing position to implant motif_instance instead.\n",
      "WARNING:root:Position weights are not defined. Randomly choosing position to implant motif_instance instead.\n",
      "WARNING:root:Position weights are not defined. Randomly choosing position to implant motif_instance instead.\n",
      "WARNING:root:Position weights are not defined. Randomly choosing position to implant motif_instance instead.\n",
      "WARNING:root:Position weights are not defined. Randomly choosing position to implant motif_instance instead.\n",
      "WARNING:root:Position weights are not defined. Randomly choosing position to implant motif_instance instead.\n",
      "WARNING:root:Position weights are not defined. Randomly choosing position to implant motif_instance instead.\n",
      "WARNING:root:Position weights are not defined. Randomly choosing position to implant motif_instance instead.\n",
      "WARNING:root:Position weights are not defined. Randomly choosing position to implant motif_instance instead.\n",
      "WARNING:root:Position weights are not defined. Randomly choosing position to implant motif_instance instead.\n",
      "WARNING:root:Position weights are not defined. Randomly choosing position to implant motif_instance instead.\n",
      "WARNING:root:Position weights are not defined. Randomly choosing position to implant motif_instance instead.\n",
      "WARNING:root:Position weights are not defined. Randomly choosing position to implant motif_instance instead.\n",
      "WARNING:root:Position weights are not defined. Randomly choosing position to implant motif_instance instead.\n",
      "WARNING:root:Position weights are not defined. Randomly choosing position to implant motif_instance instead.\n",
      "WARNING:root:Position weights are not defined. Randomly choosing position to implant motif_instance instead.\n",
      "WARNING:root:Position weights are not defined. Randomly choosing position to implant motif_instance instead.\n",
      "WARNING:root:Position weights are not defined. Randomly choosing position to implant motif_instance instead.\n",
      "WARNING:root:Position weights are not defined. Randomly choosing position to implant motif_instance instead.\n",
      "WARNING:root:Position weights are not defined. Randomly choosing position to implant motif_instance instead.\n",
      "WARNING:root:Position weights are not defined. Randomly choosing position to implant motif_instance instead.\n",
      "WARNING:root:Position weights are not defined. Randomly choosing position to implant motif_instance instead.\n",
      "WARNING:root:Position weights are not defined. Randomly choosing position to implant motif_instance instead.\n",
      "WARNING:root:Position weights are not defined. Randomly choosing position to implant motif_instance instead.\n",
      "WARNING:root:Position weights are not defined. Randomly choosing position to implant motif_instance instead.\n",
      "WARNING:root:Position weights are not defined. Randomly choosing position to implant motif_instance instead.\n",
      "WARNING:root:Position weights are not defined. Randomly choosing position to implant motif_instance instead.\n",
      "WARNING:root:Position weights are not defined. Randomly choosing position to implant motif_instance instead.\n",
      "WARNING:root:Position weights are not defined. Randomly choosing position to implant motif_instance instead.\n",
      "WARNING:root:Position weights are not defined. Randomly choosing position to implant motif_instance instead.\n",
      "WARNING:root:Position weights are not defined. Randomly choosing position to implant motif_instance instead.\n",
      "WARNING:root:Position weights are not defined. Randomly choosing position to implant motif_instance instead.\n",
      "WARNING:root:Position weights are not defined. Randomly choosing position to implant motif_instance instead.\n",
      "WARNING:root:Position weights are not defined. Randomly choosing position to implant motif_instance instead.\n",
      "WARNING:root:Position weights are not defined. Randomly choosing position to implant motif_instance instead.\n",
      "WARNING:root:Position weights are not defined. Randomly choosing position to implant motif_instance instead.\n",
      "WARNING:root:Position weights are not defined. Randomly choosing position to implant motif_instance instead.\n",
      "WARNING:root:Position weights are not defined. Randomly choosing position to implant motif_instance instead.\n",
      "WARNING:root:Position weights are not defined. Randomly choosing position to implant motif_instance instead.\n",
      "WARNING:root:Position weights are not defined. Randomly choosing position to implant motif_instance instead.\n",
      "WARNING:root:Position weights are not defined. Randomly choosing position to implant motif_instance instead.\n",
      "WARNING:root:Position weights are not defined. Randomly choosing position to implant motif_instance instead.\n",
      "WARNING:root:Position weights are not defined. Randomly choosing position to implant motif_instance instead.\n",
      "WARNING:root:Position weights are not defined. Randomly choosing position to implant motif_instance instead.\n",
      "WARNING:root:Position weights are not defined. Randomly choosing position to implant motif_instance instead.\n",
      "WARNING:root:Position weights are not defined. Randomly choosing position to implant motif_instance instead.\n",
      "WARNING:root:Position weights are not defined. Randomly choosing position to implant motif_instance instead.\n",
      "WARNING:root:Position weights are not defined. Randomly choosing position to implant motif_instance instead.\n",
      "WARNING:root:Position weights are not defined. Randomly choosing position to implant motif_instance instead.\n",
      "WARNING:root:Position weights are not defined. Randomly choosing position to implant motif_instance instead.\n",
      "WARNING:root:Position weights are not defined. Randomly choosing position to implant motif_instance instead.\n",
      "WARNING:root:Position weights are not defined. Randomly choosing position to implant motif_instance instead.\n",
      "WARNING:root:Position weights are not defined. Randomly choosing position to implant motif_instance instead.\n",
      "WARNING:root:Position weights are not defined. Randomly choosing position to implant motif_instance instead.\n",
      "WARNING:root:Position weights are not defined. Randomly choosing position to implant motif_instance instead.\n",
      "WARNING:root:Position weights are not defined. Randomly choosing position to implant motif_instance instead.\n",
      "WARNING:root:Position weights are not defined. Randomly choosing position to implant motif_instance instead.\n",
      "WARNING:root:Position weights are not defined. Randomly choosing position to implant motif_instance instead.\n",
      "WARNING:root:Position weights are not defined. Randomly choosing position to implant motif_instance instead.\n",
      "WARNING:root:Position weights are not defined. Randomly choosing position to implant motif_instance instead.\n",
      "WARNING:root:Position weights are not defined. Randomly choosing position to implant motif_instance instead.\n",
      "WARNING:root:Position weights are not defined. Randomly choosing position to implant motif_instance instead.\n",
      "WARNING:root:Position weights are not defined. Randomly choosing position to implant motif_instance instead.\n",
      "WARNING:root:Position weights are not defined. Randomly choosing position to implant motif_instance instead.\n",
      "WARNING:root:Position weights are not defined. Randomly choosing position to implant motif_instance instead.\n",
      "WARNING:root:Position weights are not defined. Randomly choosing position to implant motif_instance instead.\n",
      "WARNING:root:Position weights are not defined. Randomly choosing position to implant motif_instance instead.\n",
      "WARNING:root:Position weights are not defined. Randomly choosing position to implant motif_instance instead.\n",
      "WARNING:root:Position weights are not defined. Randomly choosing position to implant motif_instance instead.\n",
      "WARNING:root:Position weights are not defined. Randomly choosing position to implant motif_instance instead.\n",
      "WARNING:root:Position weights are not defined. Randomly choosing position to implant motif_instance instead.\n",
      "WARNING:root:Position weights are not defined. Randomly choosing position to implant motif_instance instead.\n",
      "WARNING:root:Position weights are not defined. Randomly choosing position to implant motif_instance instead.\n",
      "WARNING:root:Position weights are not defined. Randomly choosing position to implant motif_instance instead.\n",
      "WARNING:root:Position weights are not defined. Randomly choosing position to implant motif_instance instead.\n",
      "WARNING:root:Position weights are not defined. Randomly choosing position to implant motif_instance instead.\n",
      "WARNING:root:Position weights are not defined. Randomly choosing position to implant motif_instance instead.\n",
      "WARNING:root:Position weights are not defined. Randomly choosing position to implant motif_instance instead.\n",
      "WARNING:root:Position weights are not defined. Randomly choosing position to implant motif_instance instead.\n",
      "WARNING:root:Position weights are not defined. Randomly choosing position to implant motif_instance instead.\n",
      "WARNING:root:Position weights are not defined. Randomly choosing position to implant motif_instance instead.\n",
      "WARNING:root:Position weights are not defined. Randomly choosing position to implant motif_instance instead.\n",
      "WARNING:root:Position weights are not defined. Randomly choosing position to implant motif_instance instead.\n",
      "WARNING:root:Position weights are not defined. Randomly choosing position to implant motif_instance instead.\n",
      "WARNING:root:Position weights are not defined. Randomly choosing position to implant motif_instance instead.\n",
      "WARNING:root:Position weights are not defined. Randomly choosing position to implant motif_instance instead.\n",
      "WARNING:root:Position weights are not defined. Randomly choosing position to implant motif_instance instead.\n",
      "WARNING:root:Position weights are not defined. Randomly choosing position to implant motif_instance instead.\n",
      "WARNING:root:Position weights are not defined. Randomly choosing position to implant motif_instance instead.\n",
      "WARNING:root:Position weights are not defined. Randomly choosing position to implant motif_instance instead.\n",
      "WARNING:root:Position weights are not defined. Randomly choosing position to implant motif_instance instead.\n",
      "WARNING:root:Position weights are not defined. Randomly choosing position to implant motif_instance instead.\n",
      "WARNING:root:Position weights are not defined. Randomly choosing position to implant motif_instance instead.\n",
      "WARNING:root:Position weights are not defined. Randomly choosing position to implant motif_instance instead.\n",
      "WARNING:root:Position weights are not defined. Randomly choosing position to implant motif_instance instead.\n",
      "WARNING:root:Position weights are not defined. Randomly choosing position to implant motif_instance instead.\n",
      "WARNING:root:Position weights are not defined. Randomly choosing position to implant motif_instance instead.\n",
      "WARNING:root:Position weights are not defined. Randomly choosing position to implant motif_instance instead.\n",
      "WARNING:root:Position weights are not defined. Randomly choosing position to implant motif_instance instead.\n",
      "WARNING:root:Position weights are not defined. Randomly choosing position to implant motif_instance instead.\n",
      "WARNING:root:Position weights are not defined. Randomly choosing position to implant motif_instance instead.\n",
      "WARNING:root:Position weights are not defined. Randomly choosing position to implant motif_instance instead.\n",
      "WARNING:root:Position weights are not defined. Randomly choosing position to implant motif_instance instead.\n",
      "WARNING:root:Position weights are not defined. Randomly choosing position to implant motif_instance instead.\n",
      "WARNING:root:Position weights are not defined. Randomly choosing position to implant motif_instance instead.\n",
      "WARNING:root:Position weights are not defined. Randomly choosing position to implant motif_instance instead.\n",
      "WARNING:root:Position weights are not defined. Randomly choosing position to implant motif_instance instead.\n",
      "WARNING:root:Position weights are not defined. Randomly choosing position to implant motif_instance instead.\n",
      "WARNING:root:Position weights are not defined. Randomly choosing position to implant motif_instance instead.\n",
      "WARNING:root:Position weights are not defined. Randomly choosing position to implant motif_instance instead.\n",
      "WARNING:root:Position weights are not defined. Randomly choosing position to implant motif_instance instead.\n",
      "WARNING:root:Position weights are not defined. Randomly choosing position to implant motif_instance instead.\n",
      "WARNING:root:Position weights are not defined. Randomly choosing position to implant motif_instance instead.\n",
      "WARNING:root:Position weights are not defined. Randomly choosing position to implant motif_instance instead.\n",
      "WARNING:root:Position weights are not defined. Randomly choosing position to implant motif_instance instead.\n",
      "WARNING:root:Position weights are not defined. Randomly choosing position to implant motif_instance instead.\n",
      "WARNING:root:Position weights are not defined. Randomly choosing position to implant motif_instance instead.\n",
      "WARNING:root:Position weights are not defined. Randomly choosing position to implant motif_instance instead.\n",
      "WARNING:root:Position weights are not defined. Randomly choosing position to implant motif_instance instead.\n",
      "WARNING:root:Position weights are not defined. Randomly choosing position to implant motif_instance instead.\n",
      "WARNING:root:Position weights are not defined. Randomly choosing position to implant motif_instance instead.\n",
      "WARNING:root:Position weights are not defined. Randomly choosing position to implant motif_instance instead.\n",
      "WARNING:root:Position weights are not defined. Randomly choosing position to implant motif_instance instead.\n",
      "WARNING:root:Position weights are not defined. Randomly choosing position to implant motif_instance instead.\n",
      "WARNING:root:Position weights are not defined. Randomly choosing position to implant motif_instance instead.\n",
      "WARNING:root:Position weights are not defined. Randomly choosing position to implant motif_instance instead.\n",
      "WARNING:root:Position weights are not defined. Randomly choosing position to implant motif_instance instead.\n",
      "WARNING:root:Position weights are not defined. Randomly choosing position to implant motif_instance instead.\n",
      "WARNING:root:Position weights are not defined. Randomly choosing position to implant motif_instance instead.\n",
      "WARNING:root:Position weights are not defined. Randomly choosing position to implant motif_instance instead.\n",
      "WARNING:root:Position weights are not defined. Randomly choosing position to implant motif_instance instead.\n",
      "WARNING:root:Position weights are not defined. Randomly choosing position to implant motif_instance instead.\n",
      "WARNING:root:Position weights are not defined. Randomly choosing position to implant motif_instance instead.\n",
      "WARNING:root:Position weights are not defined. Randomly choosing position to implant motif_instance instead.\n",
      "WARNING:root:Position weights are not defined. Randomly choosing position to implant motif_instance instead.\n",
      "WARNING:root:Position weights are not defined. Randomly choosing position to implant motif_instance instead.\n",
      "WARNING:root:Position weights are not defined. Randomly choosing position to implant motif_instance instead.\n",
      "WARNING:root:Position weights are not defined. Randomly choosing position to implant motif_instance instead.\n",
      "WARNING:root:Position weights are not defined. Randomly choosing position to implant motif_instance instead.\n",
      "WARNING:root:Position weights are not defined. Randomly choosing position to implant motif_instance instead.\n",
      "WARNING:root:Position weights are not defined. Randomly choosing position to implant motif_instance instead.\n",
      "WARNING:root:Position weights are not defined. Randomly choosing position to implant motif_instance instead.\n",
      "WARNING:root:Position weights are not defined. Randomly choosing position to implant motif_instance instead.\n",
      "WARNING:root:Position weights are not defined. Randomly choosing position to implant motif_instance instead.\n",
      "WARNING:root:Position weights are not defined. Randomly choosing position to implant motif_instance instead.\n",
      "WARNING:root:Position weights are not defined. Randomly choosing position to implant motif_instance instead.\n",
      "WARNING:root:Position weights are not defined. Randomly choosing position to implant motif_instance instead.\n",
      "WARNING:root:Position weights are not defined. Randomly choosing position to implant motif_instance instead.\n",
      "WARNING:root:Position weights are not defined. Randomly choosing position to implant motif_instance instead.\n",
      "WARNING:root:Position weights are not defined. Randomly choosing position to implant motif_instance instead.\n",
      "WARNING:root:Position weights are not defined. Randomly choosing position to implant motif_instance instead.\n",
      "WARNING:root:Position weights are not defined. Randomly choosing position to implant motif_instance instead.\n",
      "WARNING:root:Position weights are not defined. Randomly choosing position to implant motif_instance instead.\n",
      "WARNING:root:Position weights are not defined. Randomly choosing position to implant motif_instance instead.\n",
      "WARNING:root:Position weights are not defined. Randomly choosing position to implant motif_instance instead.\n",
      "WARNING:root:Position weights are not defined. Randomly choosing position to implant motif_instance instead.\n",
      "WARNING:root:Position weights are not defined. Randomly choosing position to implant motif_instance instead.\n",
      "WARNING:root:Position weights are not defined. Randomly choosing position to implant motif_instance instead.\n",
      "WARNING:root:Position weights are not defined. Randomly choosing position to implant motif_instance instead.\n",
      "WARNING:root:Position weights are not defined. Randomly choosing position to implant motif_instance instead.\n",
      "WARNING:root:Position weights are not defined. Randomly choosing position to implant motif_instance instead.\n",
      "WARNING:root:Position weights are not defined. Randomly choosing position to implant motif_instance instead.\n",
      "WARNING:root:Position weights are not defined. Randomly choosing position to implant motif_instance instead.\n",
      "WARNING:root:Position weights are not defined. Randomly choosing position to implant motif_instance instead.\n",
      "WARNING:root:Position weights are not defined. Randomly choosing position to implant motif_instance instead.\n",
      "WARNING:root:Position weights are not defined. Randomly choosing position to implant motif_instance instead.\n",
      "WARNING:root:Position weights are not defined. Randomly choosing position to implant motif_instance instead.\n",
      "WARNING:root:Position weights are not defined. Randomly choosing position to implant motif_instance instead.\n",
      "WARNING:root:Position weights are not defined. Randomly choosing position to implant motif_instance instead.\n",
      "WARNING:root:Position weights are not defined. Randomly choosing position to implant motif_instance instead.\n",
      "WARNING:root:Position weights are not defined. Randomly choosing position to implant motif_instance instead.\n",
      "WARNING:root:Position weights are not defined. Randomly choosing position to implant motif_instance instead.\n",
      "WARNING:root:Position weights are not defined. Randomly choosing position to implant motif_instance instead.\n",
      "WARNING:root:Position weights are not defined. Randomly choosing position to implant motif_instance instead.\n",
      "WARNING:root:Position weights are not defined. Randomly choosing position to implant motif_instance instead.\n",
      "WARNING:root:Position weights are not defined. Randomly choosing position to implant motif_instance instead.\n",
      "WARNING:root:Position weights are not defined. Randomly choosing position to implant motif_instance instead.\n",
      "WARNING:root:Position weights are not defined. Randomly choosing position to implant motif_instance instead.\n",
      "WARNING:root:Position weights are not defined. Randomly choosing position to implant motif_instance instead.\n",
      "WARNING:root:Position weights are not defined. Randomly choosing position to implant motif_instance instead.\n",
      "WARNING:root:Position weights are not defined. Randomly choosing position to implant motif_instance instead.\n",
      "WARNING:root:Position weights are not defined. Randomly choosing position to implant motif_instance instead.\n",
      "WARNING:root:Position weights are not defined. Randomly choosing position to implant motif_instance instead.\n",
      "WARNING:root:Position weights are not defined. Randomly choosing position to implant motif_instance instead.\n",
      "WARNING:root:Position weights are not defined. Randomly choosing position to implant motif_instance instead.\n",
      "WARNING:root:Position weights are not defined. Randomly choosing position to implant motif_instance instead.\n",
      "WARNING:root:Position weights are not defined. Randomly choosing position to implant motif_instance instead.\n",
      "WARNING:root:Position weights are not defined. Randomly choosing position to implant motif_instance instead.\n",
      "WARNING:root:Position weights are not defined. Randomly choosing position to implant motif_instance instead.\n",
      "WARNING:root:Position weights are not defined. Randomly choosing position to implant motif_instance instead.\n",
      "WARNING:root:Position weights are not defined. Randomly choosing position to implant motif_instance instead.\n",
      "WARNING:root:Position weights are not defined. Randomly choosing position to implant motif_instance instead.\n",
      "WARNING:root:Position weights are not defined. Randomly choosing position to implant motif_instance instead.\n",
      "WARNING:root:Position weights are not defined. Randomly choosing position to implant motif_instance instead.\n",
      "WARNING:root:Position weights are not defined. Randomly choosing position to implant motif_instance instead.\n",
      "WARNING:root:Position weights are not defined. Randomly choosing position to implant motif_instance instead.\n",
      "WARNING:root:Position weights are not defined. Randomly choosing position to implant motif_instance instead.\n",
      "WARNING:root:Position weights are not defined. Randomly choosing position to implant motif_instance instead.\n",
      "WARNING:root:Position weights are not defined. Randomly choosing position to implant motif_instance instead.\n",
      "WARNING:root:Position weights are not defined. Randomly choosing position to implant motif_instance instead.\n",
      "WARNING:root:Position weights are not defined. Randomly choosing position to implant motif_instance instead.\n",
      "WARNING:root:Position weights are not defined. Randomly choosing position to implant motif_instance instead.\n",
      "WARNING:root:Position weights are not defined. Randomly choosing position to implant motif_instance instead.\n",
      "WARNING:root:Position weights are not defined. Randomly choosing position to implant motif_instance instead.\n",
      "WARNING:root:Position weights are not defined. Randomly choosing position to implant motif_instance instead.\n",
      "WARNING:root:Position weights are not defined. Randomly choosing position to implant motif_instance instead.\n",
      "WARNING:root:Position weights are not defined. Randomly choosing position to implant motif_instance instead.\n",
      "WARNING:root:Position weights are not defined. Randomly choosing position to implant motif_instance instead.\n",
      "WARNING:root:Position weights are not defined. Randomly choosing position to implant motif_instance instead.\n",
      "WARNING:root:Position weights are not defined. Randomly choosing position to implant motif_instance instead.\n",
      "WARNING:root:Position weights are not defined. Randomly choosing position to implant motif_instance instead.\n",
      "WARNING:root:Position weights are not defined. Randomly choosing position to implant motif_instance instead.\n",
      "WARNING:root:Position weights are not defined. Randomly choosing position to implant motif_instance instead.\n",
      "WARNING:root:Position weights are not defined. Randomly choosing position to implant motif_instance instead.\n",
      "WARNING:root:Position weights are not defined. Randomly choosing position to implant motif_instance instead.\n",
      "WARNING:root:Position weights are not defined. Randomly choosing position to implant motif_instance instead.\n",
      "WARNING:root:Position weights are not defined. Randomly choosing position to implant motif_instance instead.\n",
      "WARNING:root:Position weights are not defined. Randomly choosing position to implant motif_instance instead.\n",
      "WARNING:root:Position weights are not defined. Randomly choosing position to implant motif_instance instead.\n",
      "WARNING:root:Position weights are not defined. Randomly choosing position to implant motif_instance instead.\n",
      "WARNING:root:Position weights are not defined. Randomly choosing position to implant motif_instance instead.\n",
      "WARNING:root:Position weights are not defined. Randomly choosing position to implant motif_instance instead.\n",
      "WARNING:root:Position weights are not defined. Randomly choosing position to implant motif_instance instead.\n",
      "WARNING:root:Position weights are not defined. Randomly choosing position to implant motif_instance instead.\n",
      "WARNING:root:Position weights are not defined. Randomly choosing position to implant motif_instance instead.\n",
      "WARNING:root:Position weights are not defined. Randomly choosing position to implant motif_instance instead.\n",
      "WARNING:root:Position weights are not defined. Randomly choosing position to implant motif_instance instead.\n",
      "WARNING:root:Position weights are not defined. Randomly choosing position to implant motif_instance instead.\n",
      "WARNING:root:Position weights are not defined. Randomly choosing position to implant motif_instance instead.\n",
      "WARNING:root:Position weights are not defined. Randomly choosing position to implant motif_instance instead.\n",
      "WARNING:root:Position weights are not defined. Randomly choosing position to implant motif_instance instead.\n",
      "WARNING:root:Position weights are not defined. Randomly choosing position to implant motif_instance instead.\n",
      "WARNING:root:Position weights are not defined. Randomly choosing position to implant motif_instance instead.\n",
      "WARNING:root:Position weights are not defined. Randomly choosing position to implant motif_instance instead.\n",
      "WARNING:root:Position weights are not defined. Randomly choosing position to implant motif_instance instead.\n",
      "WARNING:root:Position weights are not defined. Randomly choosing position to implant motif_instance instead.\n",
      "WARNING:root:Position weights are not defined. Randomly choosing position to implant motif_instance instead.\n",
      "WARNING:root:Position weights are not defined. Randomly choosing position to implant motif_instance instead.\n",
      "WARNING:root:Position weights are not defined. Randomly choosing position to implant motif_instance instead.\n",
      "WARNING:root:Position weights are not defined. Randomly choosing position to implant motif_instance instead.\n",
      "WARNING:root:Position weights are not defined. Randomly choosing position to implant motif_instance instead.\n",
      "WARNING:root:Position weights are not defined. Randomly choosing position to implant motif_instance instead.\n",
      "WARNING:root:Position weights are not defined. Randomly choosing position to implant motif_instance instead.\n",
      "WARNING:root:Position weights are not defined. Randomly choosing position to implant motif_instance instead.\n",
      "WARNING:root:Position weights are not defined. Randomly choosing position to implant motif_instance instead.\n",
      "WARNING:root:Position weights are not defined. Randomly choosing position to implant motif_instance instead.\n",
      "WARNING:root:Position weights are not defined. Randomly choosing position to implant motif_instance instead.\n",
      "WARNING:root:Position weights are not defined. Randomly choosing position to implant motif_instance instead.\n",
      "WARNING:root:Position weights are not defined. Randomly choosing position to implant motif_instance instead.\n",
      "WARNING:root:Position weights are not defined. Randomly choosing position to implant motif_instance instead.\n",
      "WARNING:root:Position weights are not defined. Randomly choosing position to implant motif_instance instead.\n",
      "WARNING:root:Position weights are not defined. Randomly choosing position to implant motif_instance instead.\n",
      "WARNING:root:Position weights are not defined. Randomly choosing position to implant motif_instance instead.\n",
      "WARNING:root:Position weights are not defined. Randomly choosing position to implant motif_instance instead.\n",
      "WARNING:root:Position weights are not defined. Randomly choosing position to implant motif_instance instead.\n",
      "WARNING:root:Position weights are not defined. Randomly choosing position to implant motif_instance instead.\n",
      "WARNING:root:Position weights are not defined. Randomly choosing position to implant motif_instance instead.\n",
      "WARNING:root:Position weights are not defined. Randomly choosing position to implant motif_instance instead.\n",
      "WARNING:root:Position weights are not defined. Randomly choosing position to implant motif_instance instead.\n",
      "WARNING:root:Position weights are not defined. Randomly choosing position to implant motif_instance instead.\n",
      "WARNING:root:Position weights are not defined. Randomly choosing position to implant motif_instance instead.\n",
      "WARNING:root:Position weights are not defined. Randomly choosing position to implant motif_instance instead.\n",
      "WARNING:root:Position weights are not defined. Randomly choosing position to implant motif_instance instead.\n",
      "WARNING:root:Position weights are not defined. Randomly choosing position to implant motif_instance instead.\n",
      "WARNING:root:Position weights are not defined. Randomly choosing position to implant motif_instance instead.\n",
      "WARNING:root:Position weights are not defined. Randomly choosing position to implant motif_instance instead.\n",
      "WARNING:root:Position weights are not defined. Randomly choosing position to implant motif_instance instead.\n",
      "WARNING:root:Position weights are not defined. Randomly choosing position to implant motif_instance instead.\n",
      "WARNING:root:Position weights are not defined. Randomly choosing position to implant motif_instance instead.\n",
      "WARNING:root:Position weights are not defined. Randomly choosing position to implant motif_instance instead.\n",
      "WARNING:root:Position weights are not defined. Randomly choosing position to implant motif_instance instead.\n",
      "WARNING:root:Position weights are not defined. Randomly choosing position to implant motif_instance instead.\n",
      "WARNING:root:Position weights are not defined. Randomly choosing position to implant motif_instance instead.\n",
      "WARNING:root:Position weights are not defined. Randomly choosing position to implant motif_instance instead.\n",
      "WARNING:root:Position weights are not defined. Randomly choosing position to implant motif_instance instead.\n",
      "WARNING:root:Position weights are not defined. Randomly choosing position to implant motif_instance instead.\n",
      "WARNING:root:Position weights are not defined. Randomly choosing position to implant motif_instance instead.\n",
      "WARNING:root:Position weights are not defined. Randomly choosing position to implant motif_instance instead.\n",
      "WARNING:root:Position weights are not defined. Randomly choosing position to implant motif_instance instead.\n",
      "WARNING:root:Position weights are not defined. Randomly choosing position to implant motif_instance instead.\n",
      "WARNING:root:Position weights are not defined. Randomly choosing position to implant motif_instance instead.\n",
      "WARNING:root:Position weights are not defined. Randomly choosing position to implant motif_instance instead.\n",
      "WARNING:root:Position weights are not defined. Randomly choosing position to implant motif_instance instead.\n",
      "WARNING:root:Position weights are not defined. Randomly choosing position to implant motif_instance instead.\n",
      "WARNING:root:Position weights are not defined. Randomly choosing position to implant motif_instance instead.\n",
      "WARNING:root:Position weights are not defined. Randomly choosing position to implant motif_instance instead.\n",
      "WARNING:root:Position weights are not defined. Randomly choosing position to implant motif_instance instead.\n",
      "WARNING:root:Position weights are not defined. Randomly choosing position to implant motif_instance instead.\n",
      "WARNING:root:Position weights are not defined. Randomly choosing position to implant motif_instance instead.\n",
      "WARNING:root:Position weights are not defined. Randomly choosing position to implant motif_instance instead.\n",
      "WARNING:root:Position weights are not defined. Randomly choosing position to implant motif_instance instead.\n",
      "WARNING:root:Position weights are not defined. Randomly choosing position to implant motif_instance instead.\n",
      "WARNING:root:Position weights are not defined. Randomly choosing position to implant motif_instance instead.\n",
      "WARNING:root:Position weights are not defined. Randomly choosing position to implant motif_instance instead.\n",
      "WARNING:root:Position weights are not defined. Randomly choosing position to implant motif_instance instead.\n"
     ]
    }
   ],
   "source": [
    "new_dataset = SignalImplanter.run(input_params)\n"
   ]
  },
  {
   "cell_type": "code",
   "execution_count": 12,
   "metadata": {},
   "outputs": [],
   "source": [
    "from immuneML.IO.dataset_export.AIRRExporter import AIRRExporter\n"
   ]
  },
  {
   "cell_type": "code",
   "execution_count": 13,
   "metadata": {},
   "outputs": [],
   "source": [
    "path_exported = path / \"exported\"\n"
   ]
  },
  {
   "cell_type": "code",
   "execution_count": 14,
   "metadata": {},
   "outputs": [
    {
     "data": {
      "text/plain": [
       "WindowsPath('C:/Users/Karthik/.conda/envs/uni/lib/site-packages/test/tmp/random_repertoire_dataset_generation/exported')"
      ]
     },
     "execution_count": 14,
     "metadata": {},
     "output_type": "execute_result"
    }
   ],
   "source": [
    "path_exported"
   ]
  },
  {
   "cell_type": "code",
   "execution_count": 15,
   "metadata": {},
   "outputs": [],
   "source": [
    "exported_dataset = AIRRExporter.export(new_dataset, path_exported)\n"
   ]
  },
  {
   "cell_type": "code",
   "execution_count": 16,
   "metadata": {},
   "outputs": [
    {
     "data": {
      "text/plain": [
       "NoneType"
      ]
     },
     "execution_count": 16,
     "metadata": {},
     "output_type": "execute_result"
    }
   ],
   "source": [
    "type(exported_dataset)"
   ]
  },
  {
   "cell_type": "code",
   "execution_count": null,
   "metadata": {},
   "outputs": [],
   "source": []
  },
  {
   "cell_type": "code",
   "execution_count": 17,
   "metadata": {},
   "outputs": [],
   "source": [
    "from immuneML.IO.dataset_import.AIRRImport import AIRRImport\n"
   ]
  },
  {
   "cell_type": "code",
   "execution_count": 18,
   "metadata": {},
   "outputs": [],
   "source": [
    "column_mapping = {\n",
    "    \"junction\": \"sequences\",\n",
    "    \"junction_aa\": \"sequence_aas\",\n",
    "    \"v_call\": \"v_alleles\",\n",
    "    \"j_call\": \"j_alleles\",\n",
    "    \"locus\": \"chains\",\n",
    "    \"duplicate_count\": \"counts\",\n",
    "    \"sequence_id\": \"sequence_identifiers\"\n",
    "}\n"
   ]
  },
  {
   "cell_type": "code",
   "execution_count": 19,
   "metadata": {},
   "outputs": [],
   "source": [
    "params = {\"is_repertoire\": True, \"result_path\": path_exported / \"results\", \"path\": path_exported, \"metadata_file\": path_exported / \"metadata.csv\",\n",
    "          \"import_out_of_frame\": False, \"import_with_stop_codon\": False, \"import_illegal_characters\": False,\n",
    "          \"import_productive\": True, \"region_type\": \"IMGT_CDR3\", \"import_empty_nt_sequences\": True, \"import_empty_aa_sequences\": False,\n",
    "          \"column_mapping\": column_mapping,\n",
    "          \"separator\": \"\\t\"}\n"
   ]
  },
  {
   "cell_type": "code",
   "execution_count": 20,
   "metadata": {},
   "outputs": [],
   "source": [
    "dataset = AIRRImport.import_dataset(params, \"airr_repertoire_dataset_1\")\n"
   ]
  },
  {
   "cell_type": "code",
   "execution_count": 21,
   "metadata": {},
   "outputs": [
    {
     "data": {
      "text/plain": [
       "immuneML.data_model.dataset.RepertoireDataset.RepertoireDataset"
      ]
     },
     "execution_count": 21,
     "metadata": {},
     "output_type": "execute_result"
    }
   ],
   "source": [
    "type(dataset)"
   ]
  },
  {
   "cell_type": "code",
   "execution_count": 22,
   "metadata": {},
   "outputs": [],
   "source": [
    "path_ml = path / \"ML\""
   ]
  },
  {
   "cell_type": "code",
   "execution_count": 23,
   "metadata": {},
   "outputs": [],
   "source": [
    "from immuneML.util.PathBuilder import PathBuilder\n"
   ]
  },
  {
   "cell_type": "code",
   "execution_count": 24,
   "metadata": {},
   "outputs": [],
   "source": [
    "path = PathBuilder.build(path_ml)\n"
   ]
  },
  {
   "cell_type": "markdown",
   "metadata": {},
   "source": [
    "    \"\"\"\n",
    "    ML process\n",
    "    Class that implements the machine learning process:\n",
    "        1. encodes the training dataset\n",
    "        2. encodes the test dataset (using parameters learnt in step 1 if there are any such parameters)\n",
    "        3. trains the ML method on encoded training dataset\n",
    "        4. assesses the method's performance on encoded test dataset\n",
    "    It performs the task for a given label configuration, and given list of metrics (used only in the assessment step).\n",
    "    \"\"\""
   ]
  },
  {
   "cell_type": "code",
   "execution_count": null,
   "metadata": {},
   "outputs": [],
   "source": []
  },
  {
   "cell_type": "code",
   "execution_count": 25,
   "metadata": {},
   "outputs": [],
   "source": [
    "from immuneML.hyperparameter_optimization.core.HPUtil import HPUtil\n"
   ]
  },
  {
   "cell_type": "code",
   "execution_count": 26,
   "metadata": {},
   "outputs": [
    {
     "data": {
      "text/plain": [
       "WindowsPath('C:/Users/Karthik/.conda/envs/uni/lib/site-packages/test/tmp/random_repertoire_dataset_generation/ML')"
      ]
     },
     "execution_count": 26,
     "metadata": {},
     "output_type": "execute_result"
    }
   ],
   "source": [
    "path"
   ]
  },
  {
   "cell_type": "code",
   "execution_count": 27,
   "metadata": {},
   "outputs": [],
   "source": [
    "processed_dataset = HPUtil.preprocess_dataset(dataset= dataset , preproc_sequence= [] ,path = path / \"preprocessed_train_data\" )"
   ]
  },
  {
   "cell_type": "code",
   "execution_count": 28,
   "metadata": {},
   "outputs": [
    {
     "data": {
      "text/plain": [
       "100"
      ]
     },
     "execution_count": 28,
     "metadata": {},
     "output_type": "execute_result"
    }
   ],
   "source": [
    "processed_dataset.get_example_count()"
   ]
  },
  {
   "cell_type": "code",
   "execution_count": 29,
   "metadata": {},
   "outputs": [],
   "source": [
    "import datetime\n",
    "from collections import Counter\n",
    "from pathlib import Path\n",
    "\n",
    "import pandas as pd\n",
    "\n",
    "from immuneML.IO.ml_method.MLExporter import MLExporter\n",
    "from immuneML.environment.LabelConfiguration import LabelConfiguration\n",
    "from immuneML.hyperparameter_optimization.config.SplitConfig import SplitConfig\n",
    "from immuneML.hyperparameter_optimization.config.SplitType import SplitType\n",
    "from immuneML.hyperparameter_optimization.core.HPAssessment import HPAssessment\n",
    "from immuneML.hyperparameter_optimization.core.HPUtil import HPUtil\n",
    "from immuneML.hyperparameter_optimization.states.TrainMLModelState import TrainMLModelState\n",
    "from immuneML.hyperparameter_optimization.strategy.HPOptimizationStrategy import HPOptimizationStrategy\n",
    "from immuneML.ml_metrics.Metric import Metric\n",
    "from immuneML.reports.train_ml_model_reports.TrainMLModelReport import TrainMLModelReport\n",
    "from immuneML.util.ReflectionHandler import ReflectionHandler\n",
    "from immuneML.workflows.instructions.Instruction import Instruction\n",
    "from immuneML.workflows.instructions.MLProcess import MLProcess\n",
    "import os\n",
    "import shutil\n",
    "from unittest import TestCase\n",
    "\n",
    "import numpy as np\n",
    "\n",
    "from immuneML.caching.CacheType import CacheType\n",
    "from immuneML.data_model.dataset.RepertoireDataset import RepertoireDataset\n",
    "from immuneML.data_model.encoded_data.EncodedData import EncodedData\n",
    "from immuneML.environment.Constants import Constants\n",
    "from immuneML.environment.EnvironmentSettings import EnvironmentSettings\n",
    "from immuneML.ml_methods.LogisticRegression import LogisticRegression\n",
    "from immuneML.workflows.steps.MLMethodTrainer import MLMethodTrainer\n",
    "from immuneML.workflows.steps.MLMethodTrainerParams import MLMethodTrainerParams\n",
    "from immuneML.encodings.kmer_frequency.KmerFrequencyEncoder import KmerFrequencyEncoder\n",
    "from immuneML.encodings.kmer_frequency.KmerFreqRepertoireEncoder import KmerFreqRepertoireEncoder\n"
   ]
  },
  {
   "cell_type": "code",
   "execution_count": null,
   "metadata": {},
   "outputs": [],
   "source": [
    "ml_method = LogisticRegression({\"C\": 0.1,\n",
    "                               \"penalty\": \"l1\",\n",
    "                                \"max_iter\": 200})\n",
    "\n",
    "dataset = dataset\n",
    "\n",
    "encoder = KmerFrequencyEncoder\n"
   ]
  },
  {
   "cell_type": "code",
   "execution_count": 72,
   "metadata": {},
   "outputs": [],
   "source": [
    "from immuneML.hyperparameter_optimization.HPSetting import HPSetting\n",
    "from immuneML.encodings.kmer_frequency.KmerFreqRepertoireEncoder import KmerFreqRepertoireEncoder\n",
    "from immuneML.encodings.kmer_frequency.KmerFrequencyEncoder import KmerFrequencyEncoder\n",
    "\n",
    "from immuneML.encodings.kmer_frequency.ReadsType import ReadsType\n",
    "from immuneML.encodings.kmer_frequency.sequence_encoding.SequenceEncodingType import SequenceEncodingType\n",
    "from immuneML.analysis.data_manipulation.NormalizationType import NormalizationType\n",
    "Hpsetting1 = HPSetting(encoder=KmerFreqRepertoireEncoder(reads=ReadsType.UNIQUE, sequence_encoding=SequenceEncodingType.GAPPED_KMER, normalization_type=NormalizationType.RELATIVE_FREQUENCY), encoder_params={\"k\": 2, \"reads\": ReadsType.UNIQUE, \"sequence_encoding\": SequenceEncodingType.GAPPED_KMER, \"normalization_type\": NormalizationType.RELATIVE_FREQUENCY}, ml_method=LogisticRegression(\n",
    "    {\"C\": 0.1, \"penalty\": \"l1\", \"max_iter\": 200}), ml_params={\"model_selection_cv\": False,\n",
    "                                                              \"model_selection_n_folds\": 0}, preproc_sequence=[], encoder_name=\"e1\", ml_method_name=\"simpleLR\")\n"
   ]
  },
  {
   "cell_type": "code",
   "execution_count": 70,
   "metadata": {},
   "outputs": [],
   "source": [
    "Hpsetting2 = HPSetting(encoder=KmerFreqRepertoireEncoder(reads=ReadsType.UNIQUE, sequence_encoding=SequenceEncodingType.GAPPED_KMER, normalization_type=NormalizationType.RELATIVE_FREQUENCY), encoder_params={\n",
    "                       \"k\": 2, \"reads\": ReadsType.UNIQUE, \"sequence_encoding\": SequenceEncodingType.GAPPED_KMER, \"normalization_type\": NormalizationType.RELATIVE_FREQUENCY}, ml_method=LogisticRegression({\"C\": 0.1, \"penalty\": \"l1\", \"max_iter\": 200}), ml_params={\"model_selection_cv\": True,\n",
    "                                                                                                                                                                                                                                                                     \"model_selection_n_folds\": 5}, preproc_sequence=[], encoder_name=\"e2\", ml_method_name=\"simpleLR\")\n"
   ]
  },
  {
   "cell_type": "code",
   "execution_count": 34,
   "metadata": {},
   "outputs": [],
   "source": [
    "from immuneML.hyperparameter_optimization.core.HPUtil import HPUtil\n",
    "from immuneML.hyperparameter_optimization.strategy.GridSearch import GridSearch\n",
    "\n",
    "HPStrategy = GridSearch(hp_settings=[Hpsetting1, Hpsetting2])\n"
   ]
  },
  {
   "cell_type": "code",
   "execution_count": 35,
   "metadata": {},
   "outputs": [],
   "source": [
    "from immuneML.hyperparameter_optimization.config.ReportConfig import ReportConfig\n"
   ]
  },
  {
   "cell_type": "code",
   "execution_count": 36,
   "metadata": {},
   "outputs": [],
   "source": [
    "datasplits = {\n",
    "    \"SequenceLengthDistribution\": {\n",
    "        \"batch_size\": 3\n",
    "    }\n",
    "}\n",
    "models1 = {\"coef\": \"Coefficients\"}\n"
   ]
  },
  {
   "cell_type": "code",
   "execution_count": null,
   "metadata": {},
   "outputs": [],
   "source": []
  },
  {
   "cell_type": "code",
   "execution_count": 37,
   "metadata": {},
   "outputs": [],
   "source": [
    "reportconfig1 = ReportConfig(\n",
    "    data_splits=datasplits, models=models1)\n"
   ]
  },
  {
   "cell_type": "code",
   "execution_count": null,
   "metadata": {},
   "outputs": [],
   "source": []
  },
  {
   "cell_type": "code",
   "execution_count": 38,
   "metadata": {},
   "outputs": [],
   "source": []
  },
  {
   "cell_type": "code",
   "execution_count": 39,
   "metadata": {},
   "outputs": [],
   "source": [
    "from immuneML.hyperparameter_optimization.config.SplitConfig import SplitConfig\n"
   ]
  },
  {
   "cell_type": "code",
   "execution_count": 40,
   "metadata": {},
   "outputs": [],
   "source": [
    "split_config_assesment = SplitConfig(\n",
    "    split_strategy=SplitType.RANDOM, split_count=1, training_percentage=0.7, reports=reportconfig1)\n"
   ]
  },
  {
   "cell_type": "code",
   "execution_count": 41,
   "metadata": {},
   "outputs": [],
   "source": [
    "split_config_selection = SplitConfig(\n",
    "    split_strategy=SplitType.RANDOM, split_count=1, training_percentage=.07, reports=reportconfig2)\n"
   ]
  },
  {
   "cell_type": "code",
   "execution_count": 42,
   "metadata": {},
   "outputs": [],
   "source": [
    "from immuneML.environment.LabelConfiguration import LabelConfiguration\n",
    "from immuneML.environment.Label import Label\n",
    "label = LabelConfiguration(labels=[Label(\"my_signal\")])\n"
   ]
  },
  {
   "cell_type": "code",
   "execution_count": 43,
   "metadata": {},
   "outputs": [],
   "source": [
    "from immuneML.ml_metrics.Metric import Metric\n",
    "metrics = Metric.ACCURACY\n",
    "optimisatization_metric = Metric.BALANCED_ACCURACY\n"
   ]
  },
  {
   "cell_type": "code",
   "execution_count": 44,
   "metadata": {},
   "outputs": [],
   "source": [
    "from immuneML.reports.train_ml_model_reports.MLSettingsPerformance import MLSettingsPerformance\n",
    "reports = [MLSettingsPerformance]\n",
    "number_of_processes = 3\n",
    "\n",
    "refit_optimal_model = True\n"
   ]
  },
  {
   "cell_type": "code",
   "execution_count": 45,
   "metadata": {},
   "outputs": [],
   "source": [
    "train_val_datasets, test_datasets = HPUtil.split_data(\n",
    "    processed_dataset, split_config_assesment, path, label)\n"
   ]
  },
  {
   "cell_type": "code",
   "execution_count": 46,
   "metadata": {},
   "outputs": [
    {
     "data": {
      "text/plain": [
       "1"
      ]
     },
     "execution_count": 46,
     "metadata": {},
     "output_type": "execute_result"
    }
   ],
   "source": [
    "len(train_val_datasets)"
   ]
  },
  {
   "cell_type": "code",
   "execution_count": 47,
   "metadata": {},
   "outputs": [
    {
     "data": {
      "text/plain": [
       "100"
      ]
     },
     "execution_count": 47,
     "metadata": {},
     "output_type": "execute_result"
    }
   ],
   "source": [
    "processed_dataset.get_example_count()"
   ]
  },
  {
   "cell_type": "code",
   "execution_count": 48,
   "metadata": {},
   "outputs": [],
   "source": [
    "processed_dataset = HPUtil.preprocess_dataset(\n",
    "    dataset=processed_dataset, preproc_sequence=[], path=path / \"preprocessed_train_data\")\n"
   ]
  },
  {
   "cell_type": "code",
   "execution_count": 49,
   "metadata": {},
   "outputs": [
    {
     "data": {
      "text/plain": [
       "{'k': 2,\n",
       " 'reads': <ReadsType.UNIQUE: 'unique'>,\n",
       " 'sequence_encoding': <SequenceEncodingType.GAPPED_KMER: 'GappedKmerSequenceEncoder'>,\n",
       " 'normalization_type': <NormalizationType.RELATIVE_FREQUENCY: 'l1'>}"
      ]
     },
     "execution_count": 49,
     "metadata": {},
     "output_type": "execute_result"
    }
   ],
   "source": [
    "Hpsetting1.encoder_params"
   ]
  },
  {
   "cell_type": "code",
   "execution_count": 50,
   "metadata": {},
   "outputs": [
    {
     "name": "stdout",
     "output_type": "stream",
     "text": [
      "2022-01-11 18:32:14.298089: Encoding started...\n",
      "2022-01-11 18:32:16.660777: Encoding finished.\n"
     ]
    }
   ],
   "source": [
    "encoded_train_dataset = HPUtil.encode_dataset(processed_dataset , hp_setting= Hpsetting1 , path= path / \"encoded_datasets\" , learn_model = True , context= {} , number_of_processes= number_of_processes , label_configuration= label)"
   ]
  },
  {
   "cell_type": "code",
   "execution_count": 51,
   "metadata": {},
   "outputs": [
    {
     "data": {
      "text/plain": [
       "<immuneML.encodings.kmer_frequency.KmerFreqRepertoireEncoder.KmerFreqRepertoireEncoder at 0x22a5f7e94c0>"
      ]
     },
     "execution_count": 51,
     "metadata": {},
     "output_type": "execute_result"
    }
   ],
   "source": [
    "Hpsetting1.encoder"
   ]
  },
  {
   "cell_type": "code",
   "execution_count": 52,
   "metadata": {},
   "outputs": [
    {
     "data": {
      "text/plain": [
       "{'k': 2,\n",
       " 'reads': <ReadsType.UNIQUE: 'unique'>,\n",
       " 'sequence_encoding': <SequenceEncodingType.GAPPED_KMER: 'GappedKmerSequenceEncoder'>,\n",
       " 'normalization_type': <NormalizationType.RELATIVE_FREQUENCY: 'l1'>}"
      ]
     },
     "execution_count": 52,
     "metadata": {},
     "output_type": "execute_result"
    }
   ],
   "source": [
    "Hpsetting1.encoder_params"
   ]
  },
  {
   "cell_type": "code",
   "execution_count": 53,
   "metadata": {},
   "outputs": [
    {
     "data": {
      "text/plain": [
       "<immuneML.data_model.dataset.RepertoireDataset.RepertoireDataset at 0x22a4c00d070>"
      ]
     },
     "execution_count": 53,
     "metadata": {},
     "output_type": "execute_result"
    }
   ],
   "source": [
    "processed_dataset"
   ]
  },
  {
   "cell_type": "code",
   "execution_count": 55,
   "metadata": {},
   "outputs": [],
   "source": [
    "from immuneML.workflows.steps.DataEncoder import DataEncoder\n",
    "from immuneML.workflows.steps.DataEncoderParams import DataEncoderParams\n",
    "from immuneML.encodings.EncoderParams import EncoderParams\n"
   ]
  },
  {
   "cell_type": "code",
   "execution_count": 56,
   "metadata": {},
   "outputs": [
    {
     "ename": "TypeError",
     "evalue": "get_label_values() missing 1 required positional argument: 'label'",
     "output_type": "error",
     "traceback": [
      "\u001b[1;31m---------------------------------------------------------------------------\u001b[0m",
      "\u001b[1;31mTypeError\u001b[0m                                 Traceback (most recent call last)",
      "\u001b[1;32m~\\AppData\\Local\\Temp/ipykernel_6292/290911469.py\u001b[0m in \u001b[0;36m<module>\u001b[1;34m\u001b[0m\n\u001b[1;32m----> 1\u001b[1;33m \u001b[0mlabel\u001b[0m\u001b[1;33m.\u001b[0m\u001b[0mget_label_values\u001b[0m\u001b[1;33m(\u001b[0m\u001b[1;33m)\u001b[0m\u001b[1;33m\u001b[0m\u001b[1;33m\u001b[0m\u001b[0m\n\u001b[0m",
      "\u001b[1;31mTypeError\u001b[0m: get_label_values() missing 1 required positional argument: 'label'"
     ]
    }
   ],
   "source": [
    "label.get_label_values()"
   ]
  },
  {
   "cell_type": "code",
   "execution_count": 57,
   "metadata": {},
   "outputs": [],
   "source": [
    "encoded_path = path / \"encoded_datasets\""
   ]
  },
  {
   "cell_type": "code",
   "execution_count": null,
   "metadata": {},
   "outputs": [],
   "source": [
    "encoded_path"
   ]
  },
  {
   "cell_type": "code",
   "execution_count": null,
   "metadata": {},
   "outputs": [],
   "source": [
    "type(label)"
   ]
  },
  {
   "cell_type": "code",
   "execution_count": null,
   "metadata": {},
   "outputs": [],
   "source": [
    "learn_model = True\n",
    "encode_labels = True"
   ]
  },
  {
   "cell_type": "code",
   "execution_count": null,
   "metadata": {},
   "outputs": [],
   "source": [
    "Hpsetting1.encoder"
   ]
  },
  {
   "cell_type": "code",
   "execution_count": null,
   "metadata": {},
   "outputs": [],
   "source": []
  },
  {
   "cell_type": "code",
   "execution_count": null,
   "metadata": {},
   "outputs": [],
   "source": [
    "Hpsetting1.encoder_params"
   ]
  },
  {
   "cell_type": "code",
   "execution_count": null,
   "metadata": {},
   "outputs": [],
   "source": [
    "encoded_datasets = DataEncoder.run(DataEncoderParams(\n",
    "    dataset=processed_dataset,\n",
    "    encoder=Hpsetting1.encoder,\n",
    "    encoder_params=EncoderParams(\n",
    "        model = Hpsetting1.encoder_params,\n",
    "        result_path = encoded_path,\n",
    "        pool_size = number_of_processes,\n",
    "        label_config = label,\n",
    "        learn_model=learn_model,\n",
    "        filename=\"train_dataset.pkl\" if learn_model else \"test_dataset.pkl\",\n",
    "        encode_labels=encode_labels\n",
    "\n",
    "    \n",
    "    )\n",
    "))\n"
   ]
  },
  {
   "cell_type": "code",
   "execution_count": null,
   "metadata": {},
   "outputs": [],
   "source": [
    "ml_method = LogisticRegression()"
   ]
  },
  {
   "cell_type": "code",
   "execution_count": null,
   "metadata": {},
   "outputs": [],
   "source": [
    "dataset"
   ]
  },
  {
   "cell_type": "code",
   "execution_count": null,
   "metadata": {},
   "outputs": [],
   "source": [
    "encoder = KmerFreqRepertoireEncoder(NormalizationType.RELATIVE_FREQUENCY, ReadsType.UNIQUE, SequenceEncodingType.CONTINUOUS_KMER, 3,\n",
    "                                    scale_to_zero_mean=True, scale_to_unit_variance=True)\n"
   ]
  },
  {
   "cell_type": "code",
   "execution_count": null,
   "metadata": {},
   "outputs": [],
   "source": [
    "label_config = LabelConfiguration([Label(\"my_signal\")])\n"
   ]
  },
  {
   "cell_type": "code",
   "execution_count": null,
   "metadata": {},
   "outputs": [],
   "source": [
    "enc_dataset = encoder.encode(processed_dataset, EncoderParams(\n",
    "    result_path=encoded_path, label_config=label_config, filename=\"tmp_enc_dataset.pkl\", pool_size=4))\n"
   ]
  },
  {
   "cell_type": "code",
   "execution_count": null,
   "metadata": {},
   "outputs": [],
   "source": [
    "ml_method.fit(enc_dataset.encoded_data, 'my_signal')\n"
   ]
  },
  {
   "cell_type": "code",
   "execution_count": null,
   "metadata": {},
   "outputs": [],
   "source": [
    "hp_setting = HPSetting(encoder, {\"normalization_type\": \"relative_frequency\", \"reads\": \"unique\", \"sequence_encoding\": \"continuous_kmer\",\n",
    "                                 \"k\": 3, \"scale_to_zero_mean\": True, \"scale_to_unit_variance\": True}, ml_method, {}, [], 'enc1', 'ml1')\n"
   ]
  },
  {
   "cell_type": "code",
   "execution_count": null,
   "metadata": {},
   "outputs": [],
   "source": [
    "path"
   ]
  },
  {
   "cell_type": "code",
   "execution_count": null,
   "metadata": {},
   "outputs": [],
   "source": [
    "PathBuilder.build(path / 'result/instr1/')\n"
   ]
  },
  {
   "cell_type": "code",
   "execution_count": null,
   "metadata": {},
   "outputs": [],
   "source": [
    "from immuneML.workflows.instructions.ml_model_application.MLApplicationInstruction import MLApplicationInstruction\n"
   ]
  },
  {
   "cell_type": "code",
   "execution_count": null,
   "metadata": {},
   "outputs": [],
   "source": [
    "ml_app = MLApplicationInstruction(\n",
    "    dataset, label_config, hp_setting, 4, \"instr1\")\n"
   ]
  },
  {
   "cell_type": "code",
   "execution_count": null,
   "metadata": {},
   "outputs": [],
   "source": [
    "ml_app.run(path / 'result/')\n"
   ]
  },
  {
   "cell_type": "code",
   "execution_count": 1,
   "metadata": {},
   "outputs": [
    {
     "name": "stdout",
     "output_type": "stream",
     "text": [
      "Collecting snoop\n",
      "  Downloading snoop-0.4.1-py2.py3-none-any.whl (27 kB)\n",
      "Collecting cheap-repr>=0.4.0\n",
      "  Downloading cheap_repr-0.5.1-py2.py3-none-any.whl (12 kB)\n",
      "Requirement already satisfied: six in c:\\users\\karthik\\.conda\\envs\\uni\\lib\\site-packages (from snoop) (1.16.0)\n",
      "Requirement already satisfied: pygments in c:\\users\\karthik\\.conda\\envs\\uni\\lib\\site-packages (from snoop) (2.10.0)\n",
      "Collecting asttokens\n",
      "  Downloading asttokens-2.0.5-py2.py3-none-any.whl (20 kB)\n",
      "Collecting executing\n",
      "  Downloading executing-0.8.2-py2.py3-none-any.whl (16 kB)\n",
      "Installing collected packages: executing, cheap-repr, asttokens, snoop\n",
      "Successfully installed asttokens-2.0.5 cheap-repr-0.5.1 executing-0.8.2 snoop-0.4.1\n"
     ]
    }
   ],
   "source": [
    "!pip install snoop"
   ]
  },
  {
   "cell_type": "code",
   "execution_count": 9,
   "metadata": {},
   "outputs": [],
   "source": [
    "import logging\n",
    "import os\n",
    "import shutil\n",
    "import sys\n",
    "import warnings\n",
    "from pathlib import Path\n",
    "import snoop\n",
    "\n",
    "import yaml\n",
    "\n",
    "from immuneML.app.ImmuneMLApp import ImmuneMLApp\n",
    "from immuneML.environment.EnvironmentSettings import EnvironmentSettings\n",
    "from immuneML.util.PathBuilder import PathBuilder\n",
    "import traceback\n",
    "\n",
    "class Quickstart:\n",
    "\n",
    "    def create_specfication(self, path: Path):\n",
    "\n",
    "        specs = {\n",
    "            \"definitions\": {\n",
    "                \"datasets\": {\n",
    "                    \"d1\": {\n",
    "                        \"format\": \"AIRR\",\n",
    "                        \"params\": {\n",
    "                            \"path\": str(path / \"../synthetic_dataset/result/simulation_instruction/exported_dataset/airr/\"),\n",
    "                            \"metadata_file\": str(path / \"../synthetic_dataset/result/simulation_instruction/exported_dataset/airr/metadata.csv\")\n",
    "                        }\n",
    "                    }\n",
    "                },\n",
    "                \"encodings\": {\n",
    "                    \"e1\": {\n",
    "                        \"KmerFrequency\": {\n",
    "                            \"k\": 3\n",
    "                        }\n",
    "                    },\n",
    "                    \"e2\": {\n",
    "                        \"KmerFrequency\": {\n",
    "                            \"k\": 2\n",
    "                        }\n",
    "                    }\n",
    "                },\n",
    "                \"ml_methods\": {\n",
    "                    \"simpleLR\": {\n",
    "                        \"LogisticRegression\": {\n",
    "                            \"C\": 0.1,\n",
    "                            \"penalty\": \"l1\",\n",
    "                            \"max_iter\": 200\n",
    "                        }}\n",
    "                },\n",
    "                \"reports\": {\n",
    "                    \"rep1\": {\n",
    "                        \"SequenceLengthDistribution\": {\n",
    "                            \"batch_size\": 3\n",
    "                        }\n",
    "                    },\n",
    "                    \"hprep\": \"MLSettingsPerformance\",\n",
    "                    \"coef\": \"Coefficients\"\n",
    "                }\n",
    "            },\n",
    "            \"instructions\": {\n",
    "                \"machine_learning_instruction\": {\n",
    "                    \"type\": \"TrainMLModel\",\n",
    "                    \"settings\": [\n",
    "                        {\n",
    "                            \"encoding\": \"e1\",\n",
    "                            \"ml_method\": \"simpleLR\"\n",
    "                        },\n",
    "                        {\n",
    "                            \"encoding\": \"e2\",\n",
    "                            \"ml_method\": \"simpleLR\"\n",
    "                        }\n",
    "                    ],\n",
    "                    \"assessment\": {\n",
    "                        \"split_strategy\": \"random\",\n",
    "                        \"split_count\": 1,\n",
    "                        \"training_percentage\": 0.7,\n",
    "                        \"reports\": {\n",
    "                            \"data_splits\": [\"rep1\"],\n",
    "                            'models': [\"coef\"]\n",
    "                        }\n",
    "                    },\n",
    "                    \"selection\": {\n",
    "                        \"split_strategy\": \"random\",\n",
    "                        \"split_count\": 1,\n",
    "                        \"training_percentage\": 0.7,\n",
    "                        \"reports\": {\n",
    "                            \"data_splits\": [\"rep1\"],\n",
    "                            \"models\": [],\n",
    "                        }\n",
    "                    },\n",
    "                    \"labels\": [\"my_signal\"],\n",
    "                    \"dataset\": \"d1\",\n",
    "                    \"strategy\": \"GridSearch\",\n",
    "                    \"metrics\": [\"accuracy\"],\n",
    "                    \"reports\": [\"hprep\"],\n",
    "                    \"number_of_processes\": 3,\n",
    "                    \"optimization_metric\": \"balanced_accuracy\",\n",
    "                    \"refit_optimal_model\": False\n",
    "                }\n",
    "            }\n",
    "        }\n",
    "        PathBuilder.build(path)\n",
    "        specs_file = path / \"specs.yaml\"\n",
    "        with specs_file.open(\"w\") as file:\n",
    "            yaml.dump(specs, file)\n",
    "\n",
    "        return specs_file\n",
    "\n",
    "    def build_path(self, path: str = None):\n",
    "        if path is None:\n",
    "            path = EnvironmentSettings.root_path / \"quickstart/\"\n",
    "            if os.path.isdir(path):\n",
    "                shutil.rmtree(path)\n",
    "            PathBuilder.build(path)\n",
    "        else:\n",
    "            path = PathBuilder.build(path)\n",
    "        return path\n",
    "\n",
    "    def _simulate_dataset_with_signals(self, path: Path):\n",
    "\n",
    "        print(\"immuneML quickstart: generating a synthetic dataset...\")\n",
    "\n",
    "        PathBuilder.build(path)\n",
    "\n",
    "        specs = {\n",
    "            \"definitions\": {\n",
    "                \"datasets\": {\n",
    "                    \"my_synthetic_dataset\": {\"format\": \"RandomRepertoireDataset\", \"params\": {\"labels\": {}}}\n",
    "                },\n",
    "                \"motifs\": {\"my_motif\": {\"seed\": \"AA\", \"instantiation\": \"GappedKmer\"}},\n",
    "                \"signals\": {\"my_signal\": {\"motifs\": [\"my_motif\"], \"implanting\": \"HealthySequence\"}},\n",
    "                \"simulations\": {\"my_simulation\": {\"my_implantng\": {\"signals\": [\"my_signal\"], \"dataset_implanting_rate\": 0.5,\n",
    "                                                                   \"repertoire_implanting_rate\": 0.1}}}\n",
    "            },\n",
    "            \"instructions\": {\"simulation_instruction\": {\"type\": \"Simulation\", \"dataset\": \"my_synthetic_dataset\", \"simulation\": \"my_simulation\",\n",
    "                                                        \"export_formats\": [\"AIRR\"]}}\n",
    "        }\n",
    "\n",
    "        specs_file = path / \"simulation_specs.yaml\"\n",
    "        with specs_file.open(\"w\") as file:\n",
    "            yaml.dump(specs, file)\n",
    "\n",
    "        app = ImmuneMLApp(specs_file, path / \"result\")\n",
    "        app.run()\n",
    "\n",
    "        print(\"immuneML quickstart: finished generating a synthetic dataset.\")\n",
    "\n",
    "    def run(self, result_path: str):\n",
    "\n",
    "        result_path = self.build_path(result_path)\n",
    "\n",
    "        logging.basicConfig(filename=Path(result_path) / \"log.txt\",\n",
    "                            level=logging.ERROR, format='%(asctime)s %(levelname)s: %(message)s')\n",
    "        warnings.showwarning = lambda message, category, filename, lineno, file=None, line=None: logging.warning(\n",
    "            message)\n",
    "\n",
    "        self._simulate_dataset_with_signals(result_path / \"synthetic_dataset\")\n",
    "\n",
    "        print(\"immuneML quickstart: training a machine learning model...\")\n",
    "        specs_file = self.create_specfication(\n",
    "            result_path / \"machine_learning_analysis\")\n",
    "        app = ImmuneMLApp(specs_file, result_path /\n",
    "                          \"machine_learning_analysis/result\")\n",
    "        app.run()\n",
    "\n",
    "        print(\"immuneML quickstart: finished training a machine learning model.\")\n",
    "\n",
    "\n",
    "def main():\n",
    "    path = EnvironmentSettings.tmp_test_path / \\\n",
    "        \"random_repertoire_dataset_generation/\"\n",
    "\n",
    "    quickstart = Quickstart()\n",
    " \n",
    "    quickstart.run(path)\n",
    "    \n",
    "\n",
    "\n",
    "\n",
    "\n",
    "\n"
   ]
  },
  {
   "cell_type": "code",
   "execution_count": 10,
   "metadata": {},
   "outputs": [
    {
     "ename": "NameError",
     "evalue": "name 'path' is not defined",
     "output_type": "error",
     "traceback": [
      "\u001b[1;31m---------------------------------------------------------------------------\u001b[0m",
      "\u001b[1;31mNameError\u001b[0m                                 Traceback (most recent call last)",
      "\u001b[1;32m~\\AppData\\Local\\Temp/ipykernel_25168/177386211.py\u001b[0m in \u001b[0;36m<module>\u001b[1;34m\u001b[0m\n\u001b[1;32m----> 1\u001b[1;33m \u001b[0mpath\u001b[0m\u001b[1;33m\u001b[0m\u001b[1;33m\u001b[0m\u001b[0m\n\u001b[0m",
      "\u001b[1;31mNameError\u001b[0m: name 'path' is not defined"
     ]
    }
   ],
   "source": [
    "path"
   ]
  },
  {
   "cell_type": "code",
   "execution_count": 11,
   "metadata": {},
   "outputs": [
    {
     "ename": "SyntaxError",
     "evalue": "invalid syntax (Temp/ipykernel_25168/596146001.py, line 2)",
     "output_type": "error",
     "traceback": [
      "\u001b[1;36m  File \u001b[1;32m\"C:\\Users\\Karthik\\AppData\\Local\\Temp/ipykernel_25168/596146001.py\"\u001b[1;36m, line \u001b[1;32m2\u001b[0m\n\u001b[1;33m    main()\u001b[0m\n\u001b[1;37m    ^\u001b[0m\n\u001b[1;31mSyntaxError\u001b[0m\u001b[1;31m:\u001b[0m invalid syntax\n"
     ]
    }
   ],
   "source": [
    "\n",
    "main()\n",
    "    "
   ]
  },
  {
   "cell_type": "code",
   "execution_count": null,
   "metadata": {},
   "outputs": [],
   "source": [
    "%run quickstart.py"
   ]
  },
  {
   "cell_type": "code",
   "execution_count": null,
   "metadata": {},
   "outputs": [],
   "source": [
    "encoded_train_dataset\n"
   ]
  },
  {
   "cell_type": "code",
   "execution_count": 59,
   "metadata": {},
   "outputs": [
    {
     "data": {
      "text/plain": [
       "{'my_signal': <immuneML.environment.Label.Label at 0x22a61624b50>}"
      ]
     },
     "execution_count": 59,
     "metadata": {},
     "output_type": "execute_result"
    }
   ],
   "source": [
    "label._labels"
   ]
  },
  {
   "cell_type": "code",
   "execution_count": 60,
   "metadata": {},
   "outputs": [
    {
     "data": {
      "text/plain": [
       "WindowsPath('C:/Users/Karthik/.conda/envs/uni/lib/site-packages/test/tmp/random_repertoire_dataset_generation/ML')"
      ]
     },
     "execution_count": 60,
     "metadata": {},
     "output_type": "execute_result"
    }
   ],
   "source": [
    "path"
   ]
  },
  {
   "cell_type": "code",
   "execution_count": 62,
   "metadata": {},
   "outputs": [
    {
     "data": {
      "text/plain": [
       "<Metric.BALANCED_ACCURACY: 'balanced_accuracy_score'>"
      ]
     },
     "execution_count": 62,
     "metadata": {},
     "output_type": "execute_result"
    }
   ],
   "source": [
    "optimisatization_metric"
   ]
  },
  {
   "cell_type": "code",
   "execution_count": 79,
   "metadata": {},
   "outputs": [
    {
     "name": "stdout",
     "output_type": "stream",
     "text": [
      "2022-01-11 18:51:59.432865: ML model training started...\n"
     ]
    },
    {
     "ename": "KeyError",
     "evalue": "<immuneML.environment.LabelConfiguration.LabelConfiguration object at 0x0000022A61624490>",
     "output_type": "error",
     "traceback": [
      "\u001b[1;31m---------------------------------------------------------------------------\u001b[0m",
      "\u001b[1;31mKeyError\u001b[0m                                  Traceback (most recent call last)",
      "\u001b[1;32m~\\AppData\\Local\\Temp/ipykernel_6292/471470866.py\u001b[0m in \u001b[0;36m<module>\u001b[1;34m\u001b[0m\n\u001b[1;32m----> 1\u001b[1;33m method = HPUtil.train_method(\n\u001b[0m\u001b[0;32m      2\u001b[0m     label,encoded_train_dataset, Hpsetting1, path, path / \"train_predictions.csv\", path / \"ml_details.yaml\" , number_of_processes , optimisatization_metric)\n",
      "\u001b[1;32m~\\.conda\\envs\\uni\\lib\\site-packages\\immuneML\\hyperparameter_optimization\\core\\HPUtil.py\u001b[0m in \u001b[0;36mtrain_method\u001b[1;34m(label, dataset, hp_setting, path, train_predictions_path, ml_details_path, cores_for_training, optimization_metric)\u001b[0m\n\u001b[0;32m     72\u001b[0m     \u001b[1;33m@\u001b[0m\u001b[0mstaticmethod\u001b[0m\u001b[1;33m\u001b[0m\u001b[1;33m\u001b[0m\u001b[0m\n\u001b[0;32m     73\u001b[0m     \u001b[1;32mdef\u001b[0m \u001b[0mtrain_method\u001b[0m\u001b[1;33m(\u001b[0m\u001b[0mlabel\u001b[0m\u001b[1;33m:\u001b[0m \u001b[0mstr\u001b[0m\u001b[1;33m,\u001b[0m \u001b[0mdataset\u001b[0m\u001b[1;33m,\u001b[0m \u001b[0mhp_setting\u001b[0m\u001b[1;33m:\u001b[0m \u001b[0mHPSetting\u001b[0m\u001b[1;33m,\u001b[0m \u001b[0mpath\u001b[0m\u001b[1;33m:\u001b[0m \u001b[0mPath\u001b[0m\u001b[1;33m,\u001b[0m \u001b[0mtrain_predictions_path\u001b[0m\u001b[1;33m,\u001b[0m \u001b[0mml_details_path\u001b[0m\u001b[1;33m,\u001b[0m \u001b[0mcores_for_training\u001b[0m\u001b[1;33m,\u001b[0m \u001b[0moptimization_metric\u001b[0m\u001b[1;33m)\u001b[0m \u001b[1;33m->\u001b[0m \u001b[0mMLMethod\u001b[0m\u001b[1;33m:\u001b[0m\u001b[1;33m\u001b[0m\u001b[1;33m\u001b[0m\u001b[0m\n\u001b[1;32m---> 74\u001b[1;33m         method = MLMethodTrainer.run(MLMethodTrainerParams(\n\u001b[0m\u001b[0;32m     75\u001b[0m             \u001b[0mmethod\u001b[0m\u001b[1;33m=\u001b[0m\u001b[0mcopy\u001b[0m\u001b[1;33m.\u001b[0m\u001b[0mdeepcopy\u001b[0m\u001b[1;33m(\u001b[0m\u001b[0mhp_setting\u001b[0m\u001b[1;33m.\u001b[0m\u001b[0mml_method\u001b[0m\u001b[1;33m)\u001b[0m\u001b[1;33m,\u001b[0m\u001b[1;33m\u001b[0m\u001b[1;33m\u001b[0m\u001b[0m\n\u001b[0;32m     76\u001b[0m             \u001b[0mresult_path\u001b[0m\u001b[1;33m=\u001b[0m\u001b[0mpath\u001b[0m \u001b[1;33m/\u001b[0m \u001b[1;34m\"ml_method\"\u001b[0m\u001b[1;33m,\u001b[0m\u001b[1;33m\u001b[0m\u001b[1;33m\u001b[0m\u001b[0m\n",
      "\u001b[1;32m~\\.conda\\envs\\uni\\lib\\site-packages\\immuneML\\workflows\\steps\\MLMethodTrainer.py\u001b[0m in \u001b[0;36mrun\u001b[1;34m(input_params)\u001b[0m\n\u001b[0;32m     16\u001b[0m         \u001b[0mprint\u001b[0m\u001b[1;33m(\u001b[0m\u001b[1;34mf\"{datetime.datetime.now()}: ML model training started...\"\u001b[0m\u001b[1;33m,\u001b[0m \u001b[0mflush\u001b[0m\u001b[1;33m=\u001b[0m\u001b[1;32mTrue\u001b[0m\u001b[1;33m)\u001b[0m\u001b[1;33m\u001b[0m\u001b[1;33m\u001b[0m\u001b[0m\n\u001b[0;32m     17\u001b[0m \u001b[1;33m\u001b[0m\u001b[0m\n\u001b[1;32m---> 18\u001b[1;33m         \u001b[0mmethod\u001b[0m \u001b[1;33m=\u001b[0m \u001b[0mMLMethodTrainer\u001b[0m\u001b[1;33m.\u001b[0m\u001b[0m_fit_method\u001b[0m\u001b[1;33m(\u001b[0m\u001b[0minput_params\u001b[0m\u001b[1;33m)\u001b[0m\u001b[1;33m\u001b[0m\u001b[1;33m\u001b[0m\u001b[0m\n\u001b[0m\u001b[0;32m     19\u001b[0m         \u001b[0mMLMethodTrainer\u001b[0m\u001b[1;33m.\u001b[0m\u001b[0mstore\u001b[0m\u001b[1;33m(\u001b[0m\u001b[0mmethod\u001b[0m\u001b[1;33m,\u001b[0m \u001b[0minput_params\u001b[0m\u001b[1;33m)\u001b[0m\u001b[1;33m\u001b[0m\u001b[1;33m\u001b[0m\u001b[0m\n\u001b[0;32m     20\u001b[0m \u001b[1;33m\u001b[0m\u001b[0m\n",
      "\u001b[1;32m~\\.conda\\envs\\uni\\lib\\site-packages\\immuneML\\workflows\\steps\\MLMethodTrainer.py\u001b[0m in \u001b[0;36m_fit_method\u001b[1;34m(input_params)\u001b[0m\n\u001b[0;32m     35\u001b[0m                                            optimization_metric=input_params.optimization_metric)\n\u001b[0;32m     36\u001b[0m         \u001b[1;32melse\u001b[0m\u001b[1;33m:\u001b[0m\u001b[1;33m\u001b[0m\u001b[1;33m\u001b[0m\u001b[0m\n\u001b[1;32m---> 37\u001b[1;33m             \u001b[0mmethod\u001b[0m\u001b[1;33m.\u001b[0m\u001b[0mfit\u001b[0m\u001b[1;33m(\u001b[0m\u001b[0mencoded_data\u001b[0m\u001b[1;33m=\u001b[0m\u001b[0minput_params\u001b[0m\u001b[1;33m.\u001b[0m\u001b[0mdataset\u001b[0m\u001b[1;33m.\u001b[0m\u001b[0mencoded_data\u001b[0m\u001b[1;33m,\u001b[0m \u001b[0mlabel_name\u001b[0m\u001b[1;33m=\u001b[0m\u001b[0minput_params\u001b[0m\u001b[1;33m.\u001b[0m\u001b[0mlabel\u001b[0m\u001b[1;33m,\u001b[0m \u001b[0mcores_for_training\u001b[0m\u001b[1;33m=\u001b[0m\u001b[0minput_params\u001b[0m\u001b[1;33m.\u001b[0m\u001b[0mcores_for_training\u001b[0m\u001b[1;33m)\u001b[0m\u001b[1;33m\u001b[0m\u001b[1;33m\u001b[0m\u001b[0m\n\u001b[0m\u001b[0;32m     38\u001b[0m \u001b[1;33m\u001b[0m\u001b[0m\n\u001b[0;32m     39\u001b[0m         \u001b[1;32mreturn\u001b[0m \u001b[0mmethod\u001b[0m\u001b[1;33m\u001b[0m\u001b[1;33m\u001b[0m\u001b[0m\n",
      "\u001b[1;32m~\\.conda\\envs\\uni\\lib\\site-packages\\immuneML\\ml_methods\\SklearnMethod.py\u001b[0m in \u001b[0;36mfit\u001b[1;34m(self, encoded_data, label_name, cores_for_training)\u001b[0m\n\u001b[0;32m     88\u001b[0m     \u001b[1;32mdef\u001b[0m \u001b[0mfit\u001b[0m\u001b[1;33m(\u001b[0m\u001b[0mself\u001b[0m\u001b[1;33m,\u001b[0m \u001b[0mencoded_data\u001b[0m\u001b[1;33m:\u001b[0m \u001b[0mEncodedData\u001b[0m\u001b[1;33m,\u001b[0m \u001b[0mlabel_name\u001b[0m\u001b[1;33m:\u001b[0m \u001b[0mstr\u001b[0m\u001b[1;33m,\u001b[0m \u001b[0mcores_for_training\u001b[0m\u001b[1;33m:\u001b[0m \u001b[0mint\u001b[0m \u001b[1;33m=\u001b[0m \u001b[1;36m2\u001b[0m\u001b[1;33m)\u001b[0m\u001b[1;33m:\u001b[0m\u001b[1;33m\u001b[0m\u001b[1;33m\u001b[0m\u001b[0m\n\u001b[0;32m     89\u001b[0m \u001b[1;33m\u001b[0m\u001b[0m\n\u001b[1;32m---> 90\u001b[1;33m         \u001b[0mself\u001b[0m\u001b[1;33m.\u001b[0m\u001b[0mclass_mapping\u001b[0m \u001b[1;33m=\u001b[0m \u001b[0mUtil\u001b[0m\u001b[1;33m.\u001b[0m\u001b[0mmake_class_mapping\u001b[0m\u001b[1;33m(\u001b[0m\u001b[0mencoded_data\u001b[0m\u001b[1;33m.\u001b[0m\u001b[0mlabels\u001b[0m\u001b[1;33m[\u001b[0m\u001b[0mlabel_name\u001b[0m\u001b[1;33m]\u001b[0m\u001b[1;33m)\u001b[0m\u001b[1;33m\u001b[0m\u001b[1;33m\u001b[0m\u001b[0m\n\u001b[0m\u001b[0;32m     91\u001b[0m         \u001b[0mself\u001b[0m\u001b[1;33m.\u001b[0m\u001b[0mfeature_names\u001b[0m \u001b[1;33m=\u001b[0m \u001b[0mencoded_data\u001b[0m\u001b[1;33m.\u001b[0m\u001b[0mfeature_names\u001b[0m\u001b[1;33m\u001b[0m\u001b[1;33m\u001b[0m\u001b[0m\n\u001b[0;32m     92\u001b[0m         \u001b[0mself\u001b[0m\u001b[1;33m.\u001b[0m\u001b[0mlabel_name\u001b[0m \u001b[1;33m=\u001b[0m \u001b[0mlabel_name\u001b[0m\u001b[1;33m\u001b[0m\u001b[1;33m\u001b[0m\u001b[0m\n",
      "\u001b[1;31mKeyError\u001b[0m: <immuneML.environment.LabelConfiguration.LabelConfiguration object at 0x0000022A61624490>"
     ]
    }
   ],
   "source": [
    "method = HPUtil.train_method(\n",
    "    label,encoded_train_dataset, Hpsetting1, path, path / \"train_predictions.csv\", path / \"ml_details.yaml\" , number_of_processes , optimisatization_metric)\n"
   ]
  },
  {
   "cell_type": "code",
   "execution_count": 68,
   "metadata": {},
   "outputs": [
    {
     "data": {
      "text/plain": [
       "{}"
      ]
     },
     "execution_count": 68,
     "metadata": {},
     "output_type": "execute_result"
    }
   ],
   "source": [
    "Hpsetting1.ml_params"
   ]
  },
  {
   "cell_type": "code",
   "execution_count": 78,
   "metadata": {},
   "outputs": [
    {
     "data": {
      "text/plain": [
       "[False, True]"
      ]
     },
     "execution_count": 78,
     "metadata": {},
     "output_type": "execute_result"
    }
   ],
   "source": [
    "encoded_train_dataset.labels[\"my_signal\"]"
   ]
  },
  {
   "cell_type": "code",
   "execution_count": null,
   "metadata": {},
   "outputs": [],
   "source": []
  }
 ],
 "metadata": {
  "interpreter": {
   "hash": "aa08a4594b0e70cba90c7a9b037a7f904a29451ca700576c0039f57c1feaba5d"
  },
  "kernelspec": {
   "display_name": "Python 3.8.12 64-bit ('uni': conda)",
   "language": "python",
   "name": "python3"
  },
  "language_info": {
   "codemirror_mode": {
    "name": "ipython",
    "version": 3
   },
   "file_extension": ".py",
   "mimetype": "text/x-python",
   "name": "python",
   "nbconvert_exporter": "python",
   "pygments_lexer": "ipython3",
   "version": "3.8.12"
  },
  "orig_nbformat": 4
 },
 "nbformat": 4,
 "nbformat_minor": 2
}
