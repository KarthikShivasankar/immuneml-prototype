{
 "cells": [
  {
   "cell_type": "code",
   "execution_count": 19,
   "metadata": {},
   "outputs": [],
   "source": [
    "\n",
    "import numpy\n",
    "from onnxruntime import InferenceSession\n",
    "from sklearn.datasets import load_diabetes\n",
    "from sklearn.ensemble import (\n",
    "    GradientBoostingRegressor, RandomForestRegressor,\n",
    "    VotingRegressor)\n",
    "from sklearn.linear_model import LinearRegression\n",
    "from sklearn.model_selection import train_test_split\n",
    "from sklearn.pipeline import Pipeline\n",
    "from skl2onnx import to_onnx\n",
    "from mlprodict.onnxrt import OnnxInference\n"
   ]
  },
  {
   "cell_type": "code",
   "execution_count": 20,
   "metadata": {},
   "outputs": [
    {
     "data": {
      "text/plain": [
       "Pipeline(steps=[('voting',\n",
       "                 VotingRegressor(estimators=[('gb',\n",
       "                                              GradientBoostingRegressor(n_estimators=5,\n",
       "                                                                        random_state=1)),\n",
       "                                             ('rf',\n",
       "                                              RandomForestRegressor(n_estimators=5,\n",
       "                                                                    random_state=1)),\n",
       "                                             ('lr', LinearRegression())]))])"
      ]
     },
     "execution_count": 20,
     "metadata": {},
     "output_type": "execute_result"
    }
   ],
   "source": [
    "\n",
    "X, y = load_diabetes(return_X_y=True)\n",
    "X_train, X_test, y_train, y_test = train_test_split(X, y)\n",
    "\n",
    "# Train classifiers\n",
    "reg1 = GradientBoostingRegressor(random_state=1, n_estimators=5)\n",
    "reg2 = RandomForestRegressor(random_state=1, n_estimators=5)\n",
    "reg3 = LinearRegression()\n",
    "\n",
    "ereg = Pipeline(steps=[\n",
    "    ('voting', VotingRegressor([('gb', reg1), ('rf', reg2), ('lr', reg3)])),\n",
    "])\n",
    "ereg.fit(X_train, y_train)\n"
   ]
  },
  {
   "cell_type": "code",
   "execution_count": 61,
   "metadata": {},
   "outputs": [
    {
     "ename": "AttributeError",
     "evalue": "'Pipeline' object has no attribute 'best_'",
     "output_type": "error",
     "traceback": [
      "\u001b[1;31m---------------------------------------------------------------------------\u001b[0m",
      "\u001b[1;31mAttributeError\u001b[0m                            Traceback (most recent call last)",
      "\u001b[1;32mc:\\Users\\karth\\Desktop\\PhD projects\\immuneML\\dev_immuneML\\immuneML\\immuneML\\ml_methods\\Sklearn_jupyter.ipynb Cell 3'\u001b[0m in \u001b[0;36m<cell line: 1>\u001b[1;34m()\u001b[0m\n\u001b[1;32m----> <a href='vscode-notebook-cell:/c%3A/Users/karth/Desktop/PhD%20projects/immuneML/dev_immuneML/immuneML/immuneML/ml_methods/Sklearn_jupyter.ipynb#ch0000002?line=0'>1</a>\u001b[0m ereg\u001b[39m.\u001b[39;49mbest_\n",
      "\u001b[1;31mAttributeError\u001b[0m: 'Pipeline' object has no attribute 'best_'"
     ]
    }
   ],
   "source": [
    "ereg.best_"
   ]
  },
  {
   "cell_type": "code",
   "execution_count": 81,
   "metadata": {},
   "outputs": [],
   "source": [
    "dataset = data"
   ]
  },
  {
   "cell_type": "code",
   "execution_count": 82,
   "metadata": {},
   "outputs": [
    {
     "data": {
      "text/plain": [
       "sequence_id             int64\n",
       "sequence              float64\n",
       "rev_comp              float64\n",
       "productive             object\n",
       "v_call                 object\n",
       "d_call                float64\n",
       "j_call                 object\n",
       "sequence_alignment    float64\n",
       "germline_alignment    float64\n",
       "junction              float64\n",
       "junction_aa           float64\n",
       "v_cigar               float64\n",
       "d_cigar               float64\n",
       "j_cigar               float64\n",
       "cdr3_aa                object\n",
       "locus                  object\n",
       "duplicate_count         int64\n",
       "vj_in_frame            object\n",
       "stop_codon             object\n",
       "my_signal              object\n",
       "v_genes                object\n",
       "j_genes                object\n",
       "v_subgroups            object\n",
       "j_subgroups            object\n",
       "region_types           object\n",
       "frame_types            object\n",
       "dtype: object"
      ]
     },
     "execution_count": 82,
     "metadata": {},
     "output_type": "execute_result"
    }
   ],
   "source": [
    "dataset.dtypes"
   ]
  },
  {
   "cell_type": "code",
   "execution_count": 83,
   "metadata": {},
   "outputs": [
    {
     "data": {
      "text/html": [
       "<div>\n",
       "<style scoped>\n",
       "    .dataframe tbody tr th:only-of-type {\n",
       "        vertical-align: middle;\n",
       "    }\n",
       "\n",
       "    .dataframe tbody tr th {\n",
       "        vertical-align: top;\n",
       "    }\n",
       "\n",
       "    .dataframe thead th {\n",
       "        text-align: right;\n",
       "    }\n",
       "</style>\n",
       "<table border=\"1\" class=\"dataframe\">\n",
       "  <thead>\n",
       "    <tr style=\"text-align: right;\">\n",
       "      <th></th>\n",
       "      <th>sequence_id</th>\n",
       "      <th>sequence</th>\n",
       "      <th>rev_comp</th>\n",
       "      <th>productive</th>\n",
       "      <th>v_call</th>\n",
       "      <th>d_call</th>\n",
       "      <th>j_call</th>\n",
       "      <th>sequence_alignment</th>\n",
       "      <th>germline_alignment</th>\n",
       "      <th>junction</th>\n",
       "      <th>...</th>\n",
       "      <th>locus</th>\n",
       "      <th>duplicate_count</th>\n",
       "      <th>vj_in_frame</th>\n",
       "      <th>stop_codon</th>\n",
       "      <th>v_genes</th>\n",
       "      <th>j_genes</th>\n",
       "      <th>v_subgroups</th>\n",
       "      <th>j_subgroups</th>\n",
       "      <th>region_types</th>\n",
       "      <th>frame_types</th>\n",
       "    </tr>\n",
       "  </thead>\n",
       "  <tbody>\n",
       "    <tr>\n",
       "      <th>0</th>\n",
       "      <td>0</td>\n",
       "      <td>NaN</td>\n",
       "      <td>NaN</td>\n",
       "      <td>T</td>\n",
       "      <td>TRBV1-1*01</td>\n",
       "      <td>NaN</td>\n",
       "      <td>TRBJ1-1*01</td>\n",
       "      <td>NaN</td>\n",
       "      <td>NaN</td>\n",
       "      <td>NaN</td>\n",
       "      <td>...</td>\n",
       "      <td>TRB</td>\n",
       "      <td>1</td>\n",
       "      <td>T</td>\n",
       "      <td>F</td>\n",
       "      <td>TRBV1-1</td>\n",
       "      <td>TRBJ1-1</td>\n",
       "      <td>TRBV1</td>\n",
       "      <td>TRBJ1</td>\n",
       "      <td>IMGT_CDR3</td>\n",
       "      <td>IN</td>\n",
       "    </tr>\n",
       "    <tr>\n",
       "      <th>1</th>\n",
       "      <td>1</td>\n",
       "      <td>NaN</td>\n",
       "      <td>NaN</td>\n",
       "      <td>T</td>\n",
       "      <td>TRBV1-1*01</td>\n",
       "      <td>NaN</td>\n",
       "      <td>TRBJ1-1*01</td>\n",
       "      <td>NaN</td>\n",
       "      <td>NaN</td>\n",
       "      <td>NaN</td>\n",
       "      <td>...</td>\n",
       "      <td>TRB</td>\n",
       "      <td>1</td>\n",
       "      <td>T</td>\n",
       "      <td>F</td>\n",
       "      <td>TRBV1-1</td>\n",
       "      <td>TRBJ1-1</td>\n",
       "      <td>TRBV1</td>\n",
       "      <td>TRBJ1</td>\n",
       "      <td>IMGT_CDR3</td>\n",
       "      <td>IN</td>\n",
       "    </tr>\n",
       "    <tr>\n",
       "      <th>2</th>\n",
       "      <td>2</td>\n",
       "      <td>NaN</td>\n",
       "      <td>NaN</td>\n",
       "      <td>T</td>\n",
       "      <td>TRBV1-1*01</td>\n",
       "      <td>NaN</td>\n",
       "      <td>TRBJ1-1*01</td>\n",
       "      <td>NaN</td>\n",
       "      <td>NaN</td>\n",
       "      <td>NaN</td>\n",
       "      <td>...</td>\n",
       "      <td>TRB</td>\n",
       "      <td>1</td>\n",
       "      <td>T</td>\n",
       "      <td>F</td>\n",
       "      <td>TRBV1-1</td>\n",
       "      <td>TRBJ1-1</td>\n",
       "      <td>TRBV1</td>\n",
       "      <td>TRBJ1</td>\n",
       "      <td>IMGT_CDR3</td>\n",
       "      <td>IN</td>\n",
       "    </tr>\n",
       "    <tr>\n",
       "      <th>3</th>\n",
       "      <td>3</td>\n",
       "      <td>NaN</td>\n",
       "      <td>NaN</td>\n",
       "      <td>T</td>\n",
       "      <td>TRBV1-1*01</td>\n",
       "      <td>NaN</td>\n",
       "      <td>TRBJ1-1*01</td>\n",
       "      <td>NaN</td>\n",
       "      <td>NaN</td>\n",
       "      <td>NaN</td>\n",
       "      <td>...</td>\n",
       "      <td>TRB</td>\n",
       "      <td>1</td>\n",
       "      <td>T</td>\n",
       "      <td>F</td>\n",
       "      <td>TRBV1-1</td>\n",
       "      <td>TRBJ1-1</td>\n",
       "      <td>TRBV1</td>\n",
       "      <td>TRBJ1</td>\n",
       "      <td>IMGT_CDR3</td>\n",
       "      <td>IN</td>\n",
       "    </tr>\n",
       "    <tr>\n",
       "      <th>4</th>\n",
       "      <td>4</td>\n",
       "      <td>NaN</td>\n",
       "      <td>NaN</td>\n",
       "      <td>T</td>\n",
       "      <td>TRBV1-1*01</td>\n",
       "      <td>NaN</td>\n",
       "      <td>TRBJ1-1*01</td>\n",
       "      <td>NaN</td>\n",
       "      <td>NaN</td>\n",
       "      <td>NaN</td>\n",
       "      <td>...</td>\n",
       "      <td>TRB</td>\n",
       "      <td>1</td>\n",
       "      <td>T</td>\n",
       "      <td>F</td>\n",
       "      <td>TRBV1-1</td>\n",
       "      <td>TRBJ1-1</td>\n",
       "      <td>TRBV1</td>\n",
       "      <td>TRBJ1</td>\n",
       "      <td>IMGT_CDR3</td>\n",
       "      <td>IN</td>\n",
       "    </tr>\n",
       "    <tr>\n",
       "      <th>5</th>\n",
       "      <td>5</td>\n",
       "      <td>NaN</td>\n",
       "      <td>NaN</td>\n",
       "      <td>T</td>\n",
       "      <td>TRBV1-1*01</td>\n",
       "      <td>NaN</td>\n",
       "      <td>TRBJ1-1*01</td>\n",
       "      <td>NaN</td>\n",
       "      <td>NaN</td>\n",
       "      <td>NaN</td>\n",
       "      <td>...</td>\n",
       "      <td>TRB</td>\n",
       "      <td>1</td>\n",
       "      <td>T</td>\n",
       "      <td>F</td>\n",
       "      <td>TRBV1-1</td>\n",
       "      <td>TRBJ1-1</td>\n",
       "      <td>TRBV1</td>\n",
       "      <td>TRBJ1</td>\n",
       "      <td>IMGT_CDR3</td>\n",
       "      <td>IN</td>\n",
       "    </tr>\n",
       "    <tr>\n",
       "      <th>6</th>\n",
       "      <td>6</td>\n",
       "      <td>NaN</td>\n",
       "      <td>NaN</td>\n",
       "      <td>T</td>\n",
       "      <td>TRBV1-1*01</td>\n",
       "      <td>NaN</td>\n",
       "      <td>TRBJ1-1*01</td>\n",
       "      <td>NaN</td>\n",
       "      <td>NaN</td>\n",
       "      <td>NaN</td>\n",
       "      <td>...</td>\n",
       "      <td>TRB</td>\n",
       "      <td>1</td>\n",
       "      <td>T</td>\n",
       "      <td>F</td>\n",
       "      <td>TRBV1-1</td>\n",
       "      <td>TRBJ1-1</td>\n",
       "      <td>TRBV1</td>\n",
       "      <td>TRBJ1</td>\n",
       "      <td>IMGT_CDR3</td>\n",
       "      <td>IN</td>\n",
       "    </tr>\n",
       "    <tr>\n",
       "      <th>7</th>\n",
       "      <td>7</td>\n",
       "      <td>NaN</td>\n",
       "      <td>NaN</td>\n",
       "      <td>T</td>\n",
       "      <td>TRBV1-1*01</td>\n",
       "      <td>NaN</td>\n",
       "      <td>TRBJ1-1*01</td>\n",
       "      <td>NaN</td>\n",
       "      <td>NaN</td>\n",
       "      <td>NaN</td>\n",
       "      <td>...</td>\n",
       "      <td>TRB</td>\n",
       "      <td>1</td>\n",
       "      <td>T</td>\n",
       "      <td>F</td>\n",
       "      <td>TRBV1-1</td>\n",
       "      <td>TRBJ1-1</td>\n",
       "      <td>TRBV1</td>\n",
       "      <td>TRBJ1</td>\n",
       "      <td>IMGT_CDR3</td>\n",
       "      <td>IN</td>\n",
       "    </tr>\n",
       "    <tr>\n",
       "      <th>8</th>\n",
       "      <td>8</td>\n",
       "      <td>NaN</td>\n",
       "      <td>NaN</td>\n",
       "      <td>T</td>\n",
       "      <td>TRBV1-1*01</td>\n",
       "      <td>NaN</td>\n",
       "      <td>TRBJ1-1*01</td>\n",
       "      <td>NaN</td>\n",
       "      <td>NaN</td>\n",
       "      <td>NaN</td>\n",
       "      <td>...</td>\n",
       "      <td>TRB</td>\n",
       "      <td>1</td>\n",
       "      <td>T</td>\n",
       "      <td>F</td>\n",
       "      <td>TRBV1-1</td>\n",
       "      <td>TRBJ1-1</td>\n",
       "      <td>TRBV1</td>\n",
       "      <td>TRBJ1</td>\n",
       "      <td>IMGT_CDR3</td>\n",
       "      <td>IN</td>\n",
       "    </tr>\n",
       "    <tr>\n",
       "      <th>9</th>\n",
       "      <td>9</td>\n",
       "      <td>NaN</td>\n",
       "      <td>NaN</td>\n",
       "      <td>T</td>\n",
       "      <td>TRBV1-1*01</td>\n",
       "      <td>NaN</td>\n",
       "      <td>TRBJ1-1*01</td>\n",
       "      <td>NaN</td>\n",
       "      <td>NaN</td>\n",
       "      <td>NaN</td>\n",
       "      <td>...</td>\n",
       "      <td>TRB</td>\n",
       "      <td>1</td>\n",
       "      <td>T</td>\n",
       "      <td>F</td>\n",
       "      <td>TRBV1-1</td>\n",
       "      <td>TRBJ1-1</td>\n",
       "      <td>TRBV1</td>\n",
       "      <td>TRBJ1</td>\n",
       "      <td>IMGT_CDR3</td>\n",
       "      <td>IN</td>\n",
       "    </tr>\n",
       "  </tbody>\n",
       "</table>\n",
       "<p>10 rows × 25 columns</p>\n",
       "</div>"
      ],
      "text/plain": [
       "   sequence_id  sequence  rev_comp productive      v_call  d_call      j_call  \\\n",
       "0            0       NaN       NaN          T  TRBV1-1*01     NaN  TRBJ1-1*01   \n",
       "1            1       NaN       NaN          T  TRBV1-1*01     NaN  TRBJ1-1*01   \n",
       "2            2       NaN       NaN          T  TRBV1-1*01     NaN  TRBJ1-1*01   \n",
       "3            3       NaN       NaN          T  TRBV1-1*01     NaN  TRBJ1-1*01   \n",
       "4            4       NaN       NaN          T  TRBV1-1*01     NaN  TRBJ1-1*01   \n",
       "5            5       NaN       NaN          T  TRBV1-1*01     NaN  TRBJ1-1*01   \n",
       "6            6       NaN       NaN          T  TRBV1-1*01     NaN  TRBJ1-1*01   \n",
       "7            7       NaN       NaN          T  TRBV1-1*01     NaN  TRBJ1-1*01   \n",
       "8            8       NaN       NaN          T  TRBV1-1*01     NaN  TRBJ1-1*01   \n",
       "9            9       NaN       NaN          T  TRBV1-1*01     NaN  TRBJ1-1*01   \n",
       "\n",
       "   sequence_alignment  germline_alignment  junction  ...  locus  \\\n",
       "0                 NaN                 NaN       NaN  ...    TRB   \n",
       "1                 NaN                 NaN       NaN  ...    TRB   \n",
       "2                 NaN                 NaN       NaN  ...    TRB   \n",
       "3                 NaN                 NaN       NaN  ...    TRB   \n",
       "4                 NaN                 NaN       NaN  ...    TRB   \n",
       "5                 NaN                 NaN       NaN  ...    TRB   \n",
       "6                 NaN                 NaN       NaN  ...    TRB   \n",
       "7                 NaN                 NaN       NaN  ...    TRB   \n",
       "8                 NaN                 NaN       NaN  ...    TRB   \n",
       "9                 NaN                 NaN       NaN  ...    TRB   \n",
       "\n",
       "   duplicate_count  vj_in_frame  stop_codon  v_genes  j_genes  v_subgroups  \\\n",
       "0                1            T           F  TRBV1-1  TRBJ1-1        TRBV1   \n",
       "1                1            T           F  TRBV1-1  TRBJ1-1        TRBV1   \n",
       "2                1            T           F  TRBV1-1  TRBJ1-1        TRBV1   \n",
       "3                1            T           F  TRBV1-1  TRBJ1-1        TRBV1   \n",
       "4                1            T           F  TRBV1-1  TRBJ1-1        TRBV1   \n",
       "5                1            T           F  TRBV1-1  TRBJ1-1        TRBV1   \n",
       "6                1            T           F  TRBV1-1  TRBJ1-1        TRBV1   \n",
       "7                1            T           F  TRBV1-1  TRBJ1-1        TRBV1   \n",
       "8                1            T           F  TRBV1-1  TRBJ1-1        TRBV1   \n",
       "9                1            T           F  TRBV1-1  TRBJ1-1        TRBV1   \n",
       "\n",
       "  j_subgroups region_types frame_types  \n",
       "0       TRBJ1    IMGT_CDR3          IN  \n",
       "1       TRBJ1    IMGT_CDR3          IN  \n",
       "2       TRBJ1    IMGT_CDR3          IN  \n",
       "3       TRBJ1    IMGT_CDR3          IN  \n",
       "4       TRBJ1    IMGT_CDR3          IN  \n",
       "5       TRBJ1    IMGT_CDR3          IN  \n",
       "6       TRBJ1    IMGT_CDR3          IN  \n",
       "7       TRBJ1    IMGT_CDR3          IN  \n",
       "8       TRBJ1    IMGT_CDR3          IN  \n",
       "9       TRBJ1    IMGT_CDR3          IN  \n",
       "\n",
       "[10 rows x 25 columns]"
      ]
     },
     "execution_count": 83,
     "metadata": {},
     "output_type": "execute_result"
    }
   ],
   "source": [
    "datasetx"
   ]
  },
  {
   "cell_type": "code",
   "execution_count": 84,
   "metadata": {},
   "outputs": [],
   "source": [
    "datasetx = dataset.drop([\"my_signal\"], axis = 1)"
   ]
  },
  {
   "cell_type": "code",
   "execution_count": 85,
   "metadata": {},
   "outputs": [],
   "source": [
    "datasety = dataset[[\"my_signal\"]]"
   ]
  },
  {
   "cell_type": "code",
   "execution_count": 80,
   "metadata": {},
   "outputs": [],
   "source": []
  },
  {
   "cell_type": "code",
   "execution_count": 73,
   "metadata": {},
   "outputs": [],
   "source": [
    "datasety = datasety.notna()\n"
   ]
  },
  {
   "cell_type": "code",
   "execution_count": 86,
   "metadata": {},
   "outputs": [],
   "source": [
    "datasety = datasety.to_numpy()"
   ]
  },
  {
   "cell_type": "code",
   "execution_count": 87,
   "metadata": {},
   "outputs": [],
   "source": [
    "datasetx = datasetx.to_numpy()"
   ]
  },
  {
   "cell_type": "code",
   "execution_count": 74,
   "metadata": {},
   "outputs": [
    {
     "data": {
      "text/html": [
       "<div>\n",
       "<style scoped>\n",
       "    .dataframe tbody tr th:only-of-type {\n",
       "        vertical-align: middle;\n",
       "    }\n",
       "\n",
       "    .dataframe tbody tr th {\n",
       "        vertical-align: top;\n",
       "    }\n",
       "\n",
       "    .dataframe thead th {\n",
       "        text-align: right;\n",
       "    }\n",
       "</style>\n",
       "<table border=\"1\" class=\"dataframe\">\n",
       "  <thead>\n",
       "    <tr style=\"text-align: right;\">\n",
       "      <th></th>\n",
       "      <th>my_signal</th>\n",
       "    </tr>\n",
       "  </thead>\n",
       "  <tbody>\n",
       "    <tr>\n",
       "      <th>0</th>\n",
       "      <td>False</td>\n",
       "    </tr>\n",
       "    <tr>\n",
       "      <th>1</th>\n",
       "      <td>False</td>\n",
       "    </tr>\n",
       "    <tr>\n",
       "      <th>2</th>\n",
       "      <td>False</td>\n",
       "    </tr>\n",
       "    <tr>\n",
       "      <th>3</th>\n",
       "      <td>False</td>\n",
       "    </tr>\n",
       "    <tr>\n",
       "      <th>4</th>\n",
       "      <td>False</td>\n",
       "    </tr>\n",
       "    <tr>\n",
       "      <th>5</th>\n",
       "      <td>False</td>\n",
       "    </tr>\n",
       "    <tr>\n",
       "      <th>6</th>\n",
       "      <td>False</td>\n",
       "    </tr>\n",
       "    <tr>\n",
       "      <th>7</th>\n",
       "      <td>False</td>\n",
       "    </tr>\n",
       "    <tr>\n",
       "      <th>8</th>\n",
       "      <td>False</td>\n",
       "    </tr>\n",
       "    <tr>\n",
       "      <th>9</th>\n",
       "      <td>True</td>\n",
       "    </tr>\n",
       "  </tbody>\n",
       "</table>\n",
       "</div>"
      ],
      "text/plain": [
       "   my_signal\n",
       "0      False\n",
       "1      False\n",
       "2      False\n",
       "3      False\n",
       "4      False\n",
       "5      False\n",
       "6      False\n",
       "7      False\n",
       "8      False\n",
       "9       True"
      ]
     },
     "execution_count": 74,
     "metadata": {},
     "output_type": "execute_result"
    }
   ],
   "source": [
    "datasety"
   ]
  },
  {
   "cell_type": "code",
   "execution_count": 88,
   "metadata": {},
   "outputs": [],
   "source": [
    "X_train, X_test, y_train, y_test = train_test_split(datasetx, datasety)\n"
   ]
  },
  {
   "cell_type": "code",
   "execution_count": 89,
   "metadata": {},
   "outputs": [
    {
     "data": {
      "text/plain": [
       "array([[5, nan, nan, 'T', 'TRBV1-1*01', nan, 'TRBJ1-1*01', nan, nan, nan,\n",
       "        nan, nan, nan, nan, 'EAKVEVGACL', 'TRB', 1, 'T', 'F', 'TRBV1-1',\n",
       "        'TRBJ1-1', 'TRBV1', 'TRBJ1', 'IMGT_CDR3', 'IN'],\n",
       "       [7, nan, nan, 'T', 'TRBV1-1*01', nan, 'TRBJ1-1*01', nan, nan, nan,\n",
       "        nan, nan, nan, nan, 'EPYFANGQGAVD', 'TRB', 1, 'T', 'F',\n",
       "        'TRBV1-1', 'TRBJ1-1', 'TRBV1', 'TRBJ1', 'IMGT_CDR3', 'IN'],\n",
       "       [8, nan, nan, 'T', 'TRBV1-1*01', nan, 'TRBJ1-1*01', nan, nan, nan,\n",
       "        nan, nan, nan, nan, 'EEFYTFARRT', 'TRB', 1, 'T', 'F', 'TRBV1-1',\n",
       "        'TRBJ1-1', 'TRBV1', 'TRBJ1', 'IMGT_CDR3', 'IN'],\n",
       "       [1, nan, nan, 'T', 'TRBV1-1*01', nan, 'TRBJ1-1*01', nan, nan, nan,\n",
       "        nan, nan, nan, nan, 'CTWLACGQPL', 'TRB', 1, 'T', 'F', 'TRBV1-1',\n",
       "        'TRBJ1-1', 'TRBV1', 'TRBJ1', 'IMGT_CDR3', 'IN'],\n",
       "       [0, nan, nan, 'T', 'TRBV1-1*01', nan, 'TRBJ1-1*01', nan, nan, nan,\n",
       "        nan, nan, nan, nan, 'IEAKIYSGQVIG', 'TRB', 1, 'T', 'F',\n",
       "        'TRBV1-1', 'TRBJ1-1', 'TRBV1', 'TRBJ1', 'IMGT_CDR3', 'IN'],\n",
       "       [6, nan, nan, 'T', 'TRBV1-1*01', nan, 'TRBJ1-1*01', nan, nan, nan,\n",
       "        nan, nan, nan, nan, 'STIIVQWISTVG', 'TRB', 1, 'T', 'F',\n",
       "        'TRBV1-1', 'TRBJ1-1', 'TRBV1', 'TRBJ1', 'IMGT_CDR3', 'IN'],\n",
       "       [3, nan, nan, 'T', 'TRBV1-1*01', nan, 'TRBJ1-1*01', nan, nan, nan,\n",
       "        nan, nan, nan, nan, 'KCGDYFIRVSME', 'TRB', 1, 'T', 'F',\n",
       "        'TRBV1-1', 'TRBJ1-1', 'TRBV1', 'TRBJ1', 'IMGT_CDR3', 'IN']],\n",
       "      dtype=object)"
      ]
     },
     "execution_count": 89,
     "metadata": {},
     "output_type": "execute_result"
    }
   ],
   "source": [
    "X_train"
   ]
  },
  {
   "cell_type": "code",
   "execution_count": 78,
   "metadata": {},
   "outputs": [],
   "source": [
    "iris = load_iris()\n",
    "X, y = iris.data, iris.target\n"
   ]
  },
  {
   "cell_type": "code",
   "execution_count": 79,
   "metadata": {},
   "outputs": [
    {
     "data": {
      "text/plain": [
       "array([[5.1, 3.5, 1.4, 0.2],\n",
       "       [4.9, 3. , 1.4, 0.2],\n",
       "       [4.7, 3.2, 1.3, 0.2],\n",
       "       [4.6, 3.1, 1.5, 0.2],\n",
       "       [5. , 3.6, 1.4, 0.2],\n",
       "       [5.4, 3.9, 1.7, 0.4],\n",
       "       [4.6, 3.4, 1.4, 0.3],\n",
       "       [5. , 3.4, 1.5, 0.2],\n",
       "       [4.4, 2.9, 1.4, 0.2],\n",
       "       [4.9, 3.1, 1.5, 0.1],\n",
       "       [5.4, 3.7, 1.5, 0.2],\n",
       "       [4.8, 3.4, 1.6, 0.2],\n",
       "       [4.8, 3. , 1.4, 0.1],\n",
       "       [4.3, 3. , 1.1, 0.1],\n",
       "       [5.8, 4. , 1.2, 0.2],\n",
       "       [5.7, 4.4, 1.5, 0.4],\n",
       "       [5.4, 3.9, 1.3, 0.4],\n",
       "       [5.1, 3.5, 1.4, 0.3],\n",
       "       [5.7, 3.8, 1.7, 0.3],\n",
       "       [5.1, 3.8, 1.5, 0.3],\n",
       "       [5.4, 3.4, 1.7, 0.2],\n",
       "       [5.1, 3.7, 1.5, 0.4],\n",
       "       [4.6, 3.6, 1. , 0.2],\n",
       "       [5.1, 3.3, 1.7, 0.5],\n",
       "       [4.8, 3.4, 1.9, 0.2],\n",
       "       [5. , 3. , 1.6, 0.2],\n",
       "       [5. , 3.4, 1.6, 0.4],\n",
       "       [5.2, 3.5, 1.5, 0.2],\n",
       "       [5.2, 3.4, 1.4, 0.2],\n",
       "       [4.7, 3.2, 1.6, 0.2],\n",
       "       [4.8, 3.1, 1.6, 0.2],\n",
       "       [5.4, 3.4, 1.5, 0.4],\n",
       "       [5.2, 4.1, 1.5, 0.1],\n",
       "       [5.5, 4.2, 1.4, 0.2],\n",
       "       [4.9, 3.1, 1.5, 0.2],\n",
       "       [5. , 3.2, 1.2, 0.2],\n",
       "       [5.5, 3.5, 1.3, 0.2],\n",
       "       [4.9, 3.6, 1.4, 0.1],\n",
       "       [4.4, 3. , 1.3, 0.2],\n",
       "       [5.1, 3.4, 1.5, 0.2],\n",
       "       [5. , 3.5, 1.3, 0.3],\n",
       "       [4.5, 2.3, 1.3, 0.3],\n",
       "       [4.4, 3.2, 1.3, 0.2],\n",
       "       [5. , 3.5, 1.6, 0.6],\n",
       "       [5.1, 3.8, 1.9, 0.4],\n",
       "       [4.8, 3. , 1.4, 0.3],\n",
       "       [5.1, 3.8, 1.6, 0.2],\n",
       "       [4.6, 3.2, 1.4, 0.2],\n",
       "       [5.3, 3.7, 1.5, 0.2],\n",
       "       [5. , 3.3, 1.4, 0.2],\n",
       "       [7. , 3.2, 4.7, 1.4],\n",
       "       [6.4, 3.2, 4.5, 1.5],\n",
       "       [6.9, 3.1, 4.9, 1.5],\n",
       "       [5.5, 2.3, 4. , 1.3],\n",
       "       [6.5, 2.8, 4.6, 1.5],\n",
       "       [5.7, 2.8, 4.5, 1.3],\n",
       "       [6.3, 3.3, 4.7, 1.6],\n",
       "       [4.9, 2.4, 3.3, 1. ],\n",
       "       [6.6, 2.9, 4.6, 1.3],\n",
       "       [5.2, 2.7, 3.9, 1.4],\n",
       "       [5. , 2. , 3.5, 1. ],\n",
       "       [5.9, 3. , 4.2, 1.5],\n",
       "       [6. , 2.2, 4. , 1. ],\n",
       "       [6.1, 2.9, 4.7, 1.4],\n",
       "       [5.6, 2.9, 3.6, 1.3],\n",
       "       [6.7, 3.1, 4.4, 1.4],\n",
       "       [5.6, 3. , 4.5, 1.5],\n",
       "       [5.8, 2.7, 4.1, 1. ],\n",
       "       [6.2, 2.2, 4.5, 1.5],\n",
       "       [5.6, 2.5, 3.9, 1.1],\n",
       "       [5.9, 3.2, 4.8, 1.8],\n",
       "       [6.1, 2.8, 4. , 1.3],\n",
       "       [6.3, 2.5, 4.9, 1.5],\n",
       "       [6.1, 2.8, 4.7, 1.2],\n",
       "       [6.4, 2.9, 4.3, 1.3],\n",
       "       [6.6, 3. , 4.4, 1.4],\n",
       "       [6.8, 2.8, 4.8, 1.4],\n",
       "       [6.7, 3. , 5. , 1.7],\n",
       "       [6. , 2.9, 4.5, 1.5],\n",
       "       [5.7, 2.6, 3.5, 1. ],\n",
       "       [5.5, 2.4, 3.8, 1.1],\n",
       "       [5.5, 2.4, 3.7, 1. ],\n",
       "       [5.8, 2.7, 3.9, 1.2],\n",
       "       [6. , 2.7, 5.1, 1.6],\n",
       "       [5.4, 3. , 4.5, 1.5],\n",
       "       [6. , 3.4, 4.5, 1.6],\n",
       "       [6.7, 3.1, 4.7, 1.5],\n",
       "       [6.3, 2.3, 4.4, 1.3],\n",
       "       [5.6, 3. , 4.1, 1.3],\n",
       "       [5.5, 2.5, 4. , 1.3],\n",
       "       [5.5, 2.6, 4.4, 1.2],\n",
       "       [6.1, 3. , 4.6, 1.4],\n",
       "       [5.8, 2.6, 4. , 1.2],\n",
       "       [5. , 2.3, 3.3, 1. ],\n",
       "       [5.6, 2.7, 4.2, 1.3],\n",
       "       [5.7, 3. , 4.2, 1.2],\n",
       "       [5.7, 2.9, 4.2, 1.3],\n",
       "       [6.2, 2.9, 4.3, 1.3],\n",
       "       [5.1, 2.5, 3. , 1.1],\n",
       "       [5.7, 2.8, 4.1, 1.3],\n",
       "       [6.3, 3.3, 6. , 2.5],\n",
       "       [5.8, 2.7, 5.1, 1.9],\n",
       "       [7.1, 3. , 5.9, 2.1],\n",
       "       [6.3, 2.9, 5.6, 1.8],\n",
       "       [6.5, 3. , 5.8, 2.2],\n",
       "       [7.6, 3. , 6.6, 2.1],\n",
       "       [4.9, 2.5, 4.5, 1.7],\n",
       "       [7.3, 2.9, 6.3, 1.8],\n",
       "       [6.7, 2.5, 5.8, 1.8],\n",
       "       [7.2, 3.6, 6.1, 2.5],\n",
       "       [6.5, 3.2, 5.1, 2. ],\n",
       "       [6.4, 2.7, 5.3, 1.9],\n",
       "       [6.8, 3. , 5.5, 2.1],\n",
       "       [5.7, 2.5, 5. , 2. ],\n",
       "       [5.8, 2.8, 5.1, 2.4],\n",
       "       [6.4, 3.2, 5.3, 2.3],\n",
       "       [6.5, 3. , 5.5, 1.8],\n",
       "       [7.7, 3.8, 6.7, 2.2],\n",
       "       [7.7, 2.6, 6.9, 2.3],\n",
       "       [6. , 2.2, 5. , 1.5],\n",
       "       [6.9, 3.2, 5.7, 2.3],\n",
       "       [5.6, 2.8, 4.9, 2. ],\n",
       "       [7.7, 2.8, 6.7, 2. ],\n",
       "       [6.3, 2.7, 4.9, 1.8],\n",
       "       [6.7, 3.3, 5.7, 2.1],\n",
       "       [7.2, 3.2, 6. , 1.8],\n",
       "       [6.2, 2.8, 4.8, 1.8],\n",
       "       [6.1, 3. , 4.9, 1.8],\n",
       "       [6.4, 2.8, 5.6, 2.1],\n",
       "       [7.2, 3. , 5.8, 1.6],\n",
       "       [7.4, 2.8, 6.1, 1.9],\n",
       "       [7.9, 3.8, 6.4, 2. ],\n",
       "       [6.4, 2.8, 5.6, 2.2],\n",
       "       [6.3, 2.8, 5.1, 1.5],\n",
       "       [6.1, 2.6, 5.6, 1.4],\n",
       "       [7.7, 3. , 6.1, 2.3],\n",
       "       [6.3, 3.4, 5.6, 2.4],\n",
       "       [6.4, 3.1, 5.5, 1.8],\n",
       "       [6. , 3. , 4.8, 1.8],\n",
       "       [6.9, 3.1, 5.4, 2.1],\n",
       "       [6.7, 3.1, 5.6, 2.4],\n",
       "       [6.9, 3.1, 5.1, 2.3],\n",
       "       [5.8, 2.7, 5.1, 1.9],\n",
       "       [6.8, 3.2, 5.9, 2.3],\n",
       "       [6.7, 3.3, 5.7, 2.5],\n",
       "       [6.7, 3. , 5.2, 2.3],\n",
       "       [6.3, 2.5, 5. , 1.9],\n",
       "       [6.5, 3. , 5.2, 2. ],\n",
       "       [6.2, 3.4, 5.4, 2.3],\n",
       "       [5.9, 3. , 5.1, 1.8]])"
      ]
     },
     "execution_count": 79,
     "metadata": {},
     "output_type": "execute_result"
    }
   ],
   "source": [
    "X"
   ]
  },
  {
   "cell_type": "code",
   "execution_count": 37,
   "metadata": {},
   "outputs": [
    {
     "data": {
      "text/plain": [
       "array([[-0.04910502, -0.04464164,  0.16085492, -0.04698506, -0.02908802,\n",
       "        -0.01978964, -0.04708248,  0.03430886,  0.02801651,  0.01134862]])"
      ]
     },
     "execution_count": 37,
     "metadata": {},
     "output_type": "execute_result"
    }
   ],
   "source": [
    "X_train[:1]"
   ]
  },
  {
   "cell_type": "code",
   "execution_count": 33,
   "metadata": {},
   "outputs": [],
   "source": [
    "xtrain1 = Xtrain.to_numpy()"
   ]
  },
  {
   "cell_type": "code",
   "execution_count": 43,
   "metadata": {},
   "outputs": [],
   "source": [
    "xtest1 = data.to_numpy()\n"
   ]
  },
  {
   "cell_type": "code",
   "execution_count": null,
   "metadata": {},
   "outputs": [],
   "source": []
  },
  {
   "cell_type": "code",
   "execution_count": 44,
   "metadata": {},
   "outputs": [
    {
     "data": {
      "text/plain": [
       "array([[0, nan, nan, 'T', 'TRBV1-1*01', nan, 'TRBJ1-1*01', nan, nan, nan,\n",
       "        nan, nan, nan, nan, 'IEAKIYSGQVIG', 'TRB', 1, 'T', 'F', nan,\n",
       "        'TRBV1-1', 'TRBJ1-1', 'TRBV1', 'TRBJ1', 'IMGT_CDR3', 'IN'],\n",
       "       [1, nan, nan, 'T', 'TRBV1-1*01', nan, 'TRBJ1-1*01', nan, nan, nan,\n",
       "        nan, nan, nan, nan, 'CTWLACGQPL', 'TRB', 1, 'T', 'F', nan,\n",
       "        'TRBV1-1', 'TRBJ1-1', 'TRBV1', 'TRBJ1', 'IMGT_CDR3', 'IN'],\n",
       "       [2, nan, nan, 'T', 'TRBV1-1*01', nan, 'TRBJ1-1*01', nan, nan, nan,\n",
       "        nan, nan, nan, nan, 'GTINQHAPFP', 'TRB', 1, 'T', 'F', nan,\n",
       "        'TRBV1-1', 'TRBJ1-1', 'TRBV1', 'TRBJ1', 'IMGT_CDR3', 'IN'],\n",
       "       [3, nan, nan, 'T', 'TRBV1-1*01', nan, 'TRBJ1-1*01', nan, nan, nan,\n",
       "        nan, nan, nan, nan, 'KCGDYFIRVSME', 'TRB', 1, 'T', 'F', nan,\n",
       "        'TRBV1-1', 'TRBJ1-1', 'TRBV1', 'TRBJ1', 'IMGT_CDR3', 'IN'],\n",
       "       [4, nan, nan, 'T', 'TRBV1-1*01', nan, 'TRBJ1-1*01', nan, nan, nan,\n",
       "        nan, nan, nan, nan, 'QICWHEDAPH', 'TRB', 1, 'T', 'F', nan,\n",
       "        'TRBV1-1', 'TRBJ1-1', 'TRBV1', 'TRBJ1', 'IMGT_CDR3', 'IN'],\n",
       "       [5, nan, nan, 'T', 'TRBV1-1*01', nan, 'TRBJ1-1*01', nan, nan, nan,\n",
       "        nan, nan, nan, nan, 'EAKVEVGACL', 'TRB', 1, 'T', 'F', nan,\n",
       "        'TRBV1-1', 'TRBJ1-1', 'TRBV1', 'TRBJ1', 'IMGT_CDR3', 'IN'],\n",
       "       [6, nan, nan, 'T', 'TRBV1-1*01', nan, 'TRBJ1-1*01', nan, nan, nan,\n",
       "        nan, nan, nan, nan, 'STIIVQWISTVG', 'TRB', 1, 'T', 'F', nan,\n",
       "        'TRBV1-1', 'TRBJ1-1', 'TRBV1', 'TRBJ1', 'IMGT_CDR3', 'IN'],\n",
       "       [7, nan, nan, 'T', 'TRBV1-1*01', nan, 'TRBJ1-1*01', nan, nan, nan,\n",
       "        nan, nan, nan, nan, 'EPYFANGQGAVD', 'TRB', 1, 'T', 'F', nan,\n",
       "        'TRBV1-1', 'TRBJ1-1', 'TRBV1', 'TRBJ1', 'IMGT_CDR3', 'IN'],\n",
       "       [8, nan, nan, 'T', 'TRBV1-1*01', nan, 'TRBJ1-1*01', nan, nan, nan,\n",
       "        nan, nan, nan, nan, 'EEFYTFARRT', 'TRB', 1, 'T', 'F', nan,\n",
       "        'TRBV1-1', 'TRBJ1-1', 'TRBV1', 'TRBJ1', 'IMGT_CDR3', 'IN'],\n",
       "       [9, nan, nan, 'T', 'TRBV1-1*01', nan, 'TRBJ1-1*01', nan, nan, nan,\n",
       "        nan, nan, nan, nan, 'VIYAAVHDTK', 'TRB', 1, 'T', 'F',\n",
       "        \"ImplantAnnotation(signal_id='my_signal', motif_id='my_motif', motif_instance=<immuneML.simulation.implants.MotifInstance.MotifInstance object at 0x00000280F3276460>, position=3)\",\n",
       "        'TRBV1-1', 'TRBJ1-1', 'TRBV1', 'TRBJ1', 'IMGT_CDR3', 'IN']],\n",
       "      dtype=object)"
      ]
     },
     "execution_count": 44,
     "metadata": {},
     "output_type": "execute_result"
    }
   ],
   "source": [
    "xtest1"
   ]
  },
  {
   "cell_type": "code",
   "execution_count": 39,
   "metadata": {},
   "outputs": [
    {
     "data": {
      "text/plain": [
       "array([[0, nan, nan, 'T', 'TRBV1-1*01', nan, 'TRBJ1-1*01', nan, nan, nan,\n",
       "        nan, nan, nan, nan, 'IEAKIYSGQVIG', 'TRB', 1, 'T', 'F', nan,\n",
       "        'TRBV1-1', 'TRBJ1-1', 'TRBV1', 'TRBJ1', 'IMGT_CDR3', 'IN']],\n",
       "      dtype=object)"
      ]
     },
     "execution_count": 39,
     "metadata": {},
     "output_type": "execute_result"
    }
   ],
   "source": [
    "xtrain1[:1]"
   ]
  },
  {
   "cell_type": "code",
   "execution_count": 92,
   "metadata": {},
   "outputs": [
    {
     "data": {
      "text/plain": [
       "array([[5, nan, nan, 'T', 'TRBV1-1*01', nan, 'TRBJ1-1*01', nan, nan, nan,\n",
       "        nan, nan, nan, nan, 'EAKVEVGACL', 'TRB', 1, 'T', 'F', 'TRBV1-1',\n",
       "        'TRBJ1-1', 'TRBV1', 'TRBJ1', 'IMGT_CDR3', 'IN'],\n",
       "       [7, nan, nan, 'T', 'TRBV1-1*01', nan, 'TRBJ1-1*01', nan, nan, nan,\n",
       "        nan, nan, nan, nan, 'EPYFANGQGAVD', 'TRB', 1, 'T', 'F',\n",
       "        'TRBV1-1', 'TRBJ1-1', 'TRBV1', 'TRBJ1', 'IMGT_CDR3', 'IN'],\n",
       "       [8, nan, nan, 'T', 'TRBV1-1*01', nan, 'TRBJ1-1*01', nan, nan, nan,\n",
       "        nan, nan, nan, nan, 'EEFYTFARRT', 'TRB', 1, 'T', 'F', 'TRBV1-1',\n",
       "        'TRBJ1-1', 'TRBV1', 'TRBJ1', 'IMGT_CDR3', 'IN'],\n",
       "       [1, nan, nan, 'T', 'TRBV1-1*01', nan, 'TRBJ1-1*01', nan, nan, nan,\n",
       "        nan, nan, nan, nan, 'CTWLACGQPL', 'TRB', 1, 'T', 'F', 'TRBV1-1',\n",
       "        'TRBJ1-1', 'TRBV1', 'TRBJ1', 'IMGT_CDR3', 'IN'],\n",
       "       [0, nan, nan, 'T', 'TRBV1-1*01', nan, 'TRBJ1-1*01', nan, nan, nan,\n",
       "        nan, nan, nan, nan, 'IEAKIYSGQVIG', 'TRB', 1, 'T', 'F',\n",
       "        'TRBV1-1', 'TRBJ1-1', 'TRBV1', 'TRBJ1', 'IMGT_CDR3', 'IN'],\n",
       "       [6, nan, nan, 'T', 'TRBV1-1*01', nan, 'TRBJ1-1*01', nan, nan, nan,\n",
       "        nan, nan, nan, nan, 'STIIVQWISTVG', 'TRB', 1, 'T', 'F',\n",
       "        'TRBV1-1', 'TRBJ1-1', 'TRBV1', 'TRBJ1', 'IMGT_CDR3', 'IN'],\n",
       "       [3, nan, nan, 'T', 'TRBV1-1*01', nan, 'TRBJ1-1*01', nan, nan, nan,\n",
       "        nan, nan, nan, nan, 'KCGDYFIRVSME', 'TRB', 1, 'T', 'F',\n",
       "        'TRBV1-1', 'TRBJ1-1', 'TRBV1', 'TRBJ1', 'IMGT_CDR3', 'IN']],\n",
       "      dtype=object)"
      ]
     },
     "execution_count": 92,
     "metadata": {},
     "output_type": "execute_result"
    }
   ],
   "source": [
    "X_train"
   ]
  },
  {
   "cell_type": "code",
   "execution_count": 91,
   "metadata": {},
   "outputs": [
    {
     "ename": "ValueError",
     "evalue": "could not convert string to float: 'T'",
     "output_type": "error",
     "traceback": [
      "\u001b[1;31m---------------------------------------------------------------------------\u001b[0m",
      "\u001b[1;31mValueError\u001b[0m                                Traceback (most recent call last)",
      "\u001b[1;32mc:\\Users\\karth\\Desktop\\PhD projects\\immuneML\\dev_immuneML\\immuneML\\immuneML\\ml_methods\\Sklearn_jupyter.ipynb Cell 24'\u001b[0m in \u001b[0;36m<cell line: 3>\u001b[1;34m()\u001b[0m\n\u001b[0;32m      <a href='vscode-notebook-cell:/c%3A/Users/karth/Desktop/PhD%20projects/immuneML/dev_immuneML/immuneML/immuneML/ml_methods/Sklearn_jupyter.ipynb#ch0000095?line=0'>1</a>\u001b[0m \u001b[39mfrom\u001b[39;00m \u001b[39msklearn\u001b[39;00m\u001b[39m.\u001b[39;00m\u001b[39mlinear_model\u001b[39;00m \u001b[39mimport\u001b[39;00m LogisticRegression\n\u001b[0;32m      <a href='vscode-notebook-cell:/c%3A/Users/karth/Desktop/PhD%20projects/immuneML/dev_immuneML/immuneML/immuneML/ml_methods/Sklearn_jupyter.ipynb#ch0000095?line=1'>2</a>\u001b[0m clr \u001b[39m=\u001b[39m LogisticRegression()\n\u001b[1;32m----> <a href='vscode-notebook-cell:/c%3A/Users/karth/Desktop/PhD%20projects/immuneML/dev_immuneML/immuneML/immuneML/ml_methods/Sklearn_jupyter.ipynb#ch0000095?line=2'>3</a>\u001b[0m clr\u001b[39m.\u001b[39;49mfit(X_train, y_train)\n",
      "File \u001b[1;32m~\\anaconda3\\envs\\test\\lib\\site-packages\\sklearn\\linear_model\\_logistic.py:1508\u001b[0m, in \u001b[0;36mLogisticRegression.fit\u001b[1;34m(self, X, y, sample_weight)\u001b[0m\n\u001b[0;32m   <a href='file:///c%3A/Users/karth/anaconda3/envs/test/lib/site-packages/sklearn/linear_model/_logistic.py?line=1504'>1505</a>\u001b[0m \u001b[39melse\u001b[39;00m:\n\u001b[0;32m   <a href='file:///c%3A/Users/karth/anaconda3/envs/test/lib/site-packages/sklearn/linear_model/_logistic.py?line=1505'>1506</a>\u001b[0m     _dtype \u001b[39m=\u001b[39m [np\u001b[39m.\u001b[39mfloat64, np\u001b[39m.\u001b[39mfloat32]\n\u001b[1;32m-> <a href='file:///c%3A/Users/karth/anaconda3/envs/test/lib/site-packages/sklearn/linear_model/_logistic.py?line=1507'>1508</a>\u001b[0m X, y \u001b[39m=\u001b[39m \u001b[39mself\u001b[39;49m\u001b[39m.\u001b[39;49m_validate_data(\n\u001b[0;32m   <a href='file:///c%3A/Users/karth/anaconda3/envs/test/lib/site-packages/sklearn/linear_model/_logistic.py?line=1508'>1509</a>\u001b[0m     X,\n\u001b[0;32m   <a href='file:///c%3A/Users/karth/anaconda3/envs/test/lib/site-packages/sklearn/linear_model/_logistic.py?line=1509'>1510</a>\u001b[0m     y,\n\u001b[0;32m   <a href='file:///c%3A/Users/karth/anaconda3/envs/test/lib/site-packages/sklearn/linear_model/_logistic.py?line=1510'>1511</a>\u001b[0m     accept_sparse\u001b[39m=\u001b[39;49m\u001b[39m\"\u001b[39;49m\u001b[39mcsr\u001b[39;49m\u001b[39m\"\u001b[39;49m,\n\u001b[0;32m   <a href='file:///c%3A/Users/karth/anaconda3/envs/test/lib/site-packages/sklearn/linear_model/_logistic.py?line=1511'>1512</a>\u001b[0m     dtype\u001b[39m=\u001b[39;49m_dtype,\n\u001b[0;32m   <a href='file:///c%3A/Users/karth/anaconda3/envs/test/lib/site-packages/sklearn/linear_model/_logistic.py?line=1512'>1513</a>\u001b[0m     order\u001b[39m=\u001b[39;49m\u001b[39m\"\u001b[39;49m\u001b[39mC\u001b[39;49m\u001b[39m\"\u001b[39;49m,\n\u001b[0;32m   <a href='file:///c%3A/Users/karth/anaconda3/envs/test/lib/site-packages/sklearn/linear_model/_logistic.py?line=1513'>1514</a>\u001b[0m     accept_large_sparse\u001b[39m=\u001b[39;49msolver \u001b[39mnot\u001b[39;49;00m \u001b[39min\u001b[39;49;00m [\u001b[39m\"\u001b[39;49m\u001b[39mliblinear\u001b[39;49m\u001b[39m\"\u001b[39;49m, \u001b[39m\"\u001b[39;49m\u001b[39msag\u001b[39;49m\u001b[39m\"\u001b[39;49m, \u001b[39m\"\u001b[39;49m\u001b[39msaga\u001b[39;49m\u001b[39m\"\u001b[39;49m],\n\u001b[0;32m   <a href='file:///c%3A/Users/karth/anaconda3/envs/test/lib/site-packages/sklearn/linear_model/_logistic.py?line=1514'>1515</a>\u001b[0m )\n\u001b[0;32m   <a href='file:///c%3A/Users/karth/anaconda3/envs/test/lib/site-packages/sklearn/linear_model/_logistic.py?line=1515'>1516</a>\u001b[0m check_classification_targets(y)\n\u001b[0;32m   <a href='file:///c%3A/Users/karth/anaconda3/envs/test/lib/site-packages/sklearn/linear_model/_logistic.py?line=1516'>1517</a>\u001b[0m \u001b[39mself\u001b[39m\u001b[39m.\u001b[39mclasses_ \u001b[39m=\u001b[39m np\u001b[39m.\u001b[39munique(y)\n",
      "File \u001b[1;32m~\\anaconda3\\envs\\test\\lib\\site-packages\\sklearn\\base.py:581\u001b[0m, in \u001b[0;36mBaseEstimator._validate_data\u001b[1;34m(self, X, y, reset, validate_separately, **check_params)\u001b[0m\n\u001b[0;32m    <a href='file:///c%3A/Users/karth/anaconda3/envs/test/lib/site-packages/sklearn/base.py?line=578'>579</a>\u001b[0m         y \u001b[39m=\u001b[39m check_array(y, \u001b[39m*\u001b[39m\u001b[39m*\u001b[39mcheck_y_params)\n\u001b[0;32m    <a href='file:///c%3A/Users/karth/anaconda3/envs/test/lib/site-packages/sklearn/base.py?line=579'>580</a>\u001b[0m     \u001b[39melse\u001b[39;00m:\n\u001b[1;32m--> <a href='file:///c%3A/Users/karth/anaconda3/envs/test/lib/site-packages/sklearn/base.py?line=580'>581</a>\u001b[0m         X, y \u001b[39m=\u001b[39m check_X_y(X, y, \u001b[39m*\u001b[39;49m\u001b[39m*\u001b[39;49mcheck_params)\n\u001b[0;32m    <a href='file:///c%3A/Users/karth/anaconda3/envs/test/lib/site-packages/sklearn/base.py?line=581'>582</a>\u001b[0m     out \u001b[39m=\u001b[39m X, y\n\u001b[0;32m    <a href='file:///c%3A/Users/karth/anaconda3/envs/test/lib/site-packages/sklearn/base.py?line=583'>584</a>\u001b[0m \u001b[39mif\u001b[39;00m \u001b[39mnot\u001b[39;00m no_val_X \u001b[39mand\u001b[39;00m check_params\u001b[39m.\u001b[39mget(\u001b[39m\"\u001b[39m\u001b[39mensure_2d\u001b[39m\u001b[39m\"\u001b[39m, \u001b[39mTrue\u001b[39;00m):\n",
      "File \u001b[1;32m~\\anaconda3\\envs\\test\\lib\\site-packages\\sklearn\\utils\\validation.py:964\u001b[0m, in \u001b[0;36mcheck_X_y\u001b[1;34m(X, y, accept_sparse, accept_large_sparse, dtype, order, copy, force_all_finite, ensure_2d, allow_nd, multi_output, ensure_min_samples, ensure_min_features, y_numeric, estimator)\u001b[0m\n\u001b[0;32m    <a href='file:///c%3A/Users/karth/anaconda3/envs/test/lib/site-packages/sklearn/utils/validation.py?line=960'>961</a>\u001b[0m \u001b[39mif\u001b[39;00m y \u001b[39mis\u001b[39;00m \u001b[39mNone\u001b[39;00m:\n\u001b[0;32m    <a href='file:///c%3A/Users/karth/anaconda3/envs/test/lib/site-packages/sklearn/utils/validation.py?line=961'>962</a>\u001b[0m     \u001b[39mraise\u001b[39;00m \u001b[39mValueError\u001b[39;00m(\u001b[39m\"\u001b[39m\u001b[39my cannot be None\u001b[39m\u001b[39m\"\u001b[39m)\n\u001b[1;32m--> <a href='file:///c%3A/Users/karth/anaconda3/envs/test/lib/site-packages/sklearn/utils/validation.py?line=963'>964</a>\u001b[0m X \u001b[39m=\u001b[39m check_array(\n\u001b[0;32m    <a href='file:///c%3A/Users/karth/anaconda3/envs/test/lib/site-packages/sklearn/utils/validation.py?line=964'>965</a>\u001b[0m     X,\n\u001b[0;32m    <a href='file:///c%3A/Users/karth/anaconda3/envs/test/lib/site-packages/sklearn/utils/validation.py?line=965'>966</a>\u001b[0m     accept_sparse\u001b[39m=\u001b[39;49maccept_sparse,\n\u001b[0;32m    <a href='file:///c%3A/Users/karth/anaconda3/envs/test/lib/site-packages/sklearn/utils/validation.py?line=966'>967</a>\u001b[0m     accept_large_sparse\u001b[39m=\u001b[39;49maccept_large_sparse,\n\u001b[0;32m    <a href='file:///c%3A/Users/karth/anaconda3/envs/test/lib/site-packages/sklearn/utils/validation.py?line=967'>968</a>\u001b[0m     dtype\u001b[39m=\u001b[39;49mdtype,\n\u001b[0;32m    <a href='file:///c%3A/Users/karth/anaconda3/envs/test/lib/site-packages/sklearn/utils/validation.py?line=968'>969</a>\u001b[0m     order\u001b[39m=\u001b[39;49morder,\n\u001b[0;32m    <a href='file:///c%3A/Users/karth/anaconda3/envs/test/lib/site-packages/sklearn/utils/validation.py?line=969'>970</a>\u001b[0m     copy\u001b[39m=\u001b[39;49mcopy,\n\u001b[0;32m    <a href='file:///c%3A/Users/karth/anaconda3/envs/test/lib/site-packages/sklearn/utils/validation.py?line=970'>971</a>\u001b[0m     force_all_finite\u001b[39m=\u001b[39;49mforce_all_finite,\n\u001b[0;32m    <a href='file:///c%3A/Users/karth/anaconda3/envs/test/lib/site-packages/sklearn/utils/validation.py?line=971'>972</a>\u001b[0m     ensure_2d\u001b[39m=\u001b[39;49mensure_2d,\n\u001b[0;32m    <a href='file:///c%3A/Users/karth/anaconda3/envs/test/lib/site-packages/sklearn/utils/validation.py?line=972'>973</a>\u001b[0m     allow_nd\u001b[39m=\u001b[39;49mallow_nd,\n\u001b[0;32m    <a href='file:///c%3A/Users/karth/anaconda3/envs/test/lib/site-packages/sklearn/utils/validation.py?line=973'>974</a>\u001b[0m     ensure_min_samples\u001b[39m=\u001b[39;49mensure_min_samples,\n\u001b[0;32m    <a href='file:///c%3A/Users/karth/anaconda3/envs/test/lib/site-packages/sklearn/utils/validation.py?line=974'>975</a>\u001b[0m     ensure_min_features\u001b[39m=\u001b[39;49mensure_min_features,\n\u001b[0;32m    <a href='file:///c%3A/Users/karth/anaconda3/envs/test/lib/site-packages/sklearn/utils/validation.py?line=975'>976</a>\u001b[0m     estimator\u001b[39m=\u001b[39;49mestimator,\n\u001b[0;32m    <a href='file:///c%3A/Users/karth/anaconda3/envs/test/lib/site-packages/sklearn/utils/validation.py?line=976'>977</a>\u001b[0m )\n\u001b[0;32m    <a href='file:///c%3A/Users/karth/anaconda3/envs/test/lib/site-packages/sklearn/utils/validation.py?line=978'>979</a>\u001b[0m y \u001b[39m=\u001b[39m _check_y(y, multi_output\u001b[39m=\u001b[39mmulti_output, y_numeric\u001b[39m=\u001b[39my_numeric)\n\u001b[0;32m    <a href='file:///c%3A/Users/karth/anaconda3/envs/test/lib/site-packages/sklearn/utils/validation.py?line=980'>981</a>\u001b[0m check_consistent_length(X, y)\n",
      "File \u001b[1;32m~\\anaconda3\\envs\\test\\lib\\site-packages\\sklearn\\utils\\validation.py:746\u001b[0m, in \u001b[0;36mcheck_array\u001b[1;34m(array, accept_sparse, accept_large_sparse, dtype, order, copy, force_all_finite, ensure_2d, allow_nd, ensure_min_samples, ensure_min_features, estimator)\u001b[0m\n\u001b[0;32m    <a href='file:///c%3A/Users/karth/anaconda3/envs/test/lib/site-packages/sklearn/utils/validation.py?line=743'>744</a>\u001b[0m         array \u001b[39m=\u001b[39m array\u001b[39m.\u001b[39mastype(dtype, casting\u001b[39m=\u001b[39m\u001b[39m\"\u001b[39m\u001b[39munsafe\u001b[39m\u001b[39m\"\u001b[39m, copy\u001b[39m=\u001b[39m\u001b[39mFalse\u001b[39;00m)\n\u001b[0;32m    <a href='file:///c%3A/Users/karth/anaconda3/envs/test/lib/site-packages/sklearn/utils/validation.py?line=744'>745</a>\u001b[0m     \u001b[39melse\u001b[39;00m:\n\u001b[1;32m--> <a href='file:///c%3A/Users/karth/anaconda3/envs/test/lib/site-packages/sklearn/utils/validation.py?line=745'>746</a>\u001b[0m         array \u001b[39m=\u001b[39m np\u001b[39m.\u001b[39;49masarray(array, order\u001b[39m=\u001b[39;49morder, dtype\u001b[39m=\u001b[39;49mdtype)\n\u001b[0;32m    <a href='file:///c%3A/Users/karth/anaconda3/envs/test/lib/site-packages/sklearn/utils/validation.py?line=746'>747</a>\u001b[0m \u001b[39mexcept\u001b[39;00m ComplexWarning \u001b[39mas\u001b[39;00m complex_warning:\n\u001b[0;32m    <a href='file:///c%3A/Users/karth/anaconda3/envs/test/lib/site-packages/sklearn/utils/validation.py?line=747'>748</a>\u001b[0m     \u001b[39mraise\u001b[39;00m \u001b[39mValueError\u001b[39;00m(\n\u001b[0;32m    <a href='file:///c%3A/Users/karth/anaconda3/envs/test/lib/site-packages/sklearn/utils/validation.py?line=748'>749</a>\u001b[0m         \u001b[39m\"\u001b[39m\u001b[39mComplex data not supported\u001b[39m\u001b[39m\\n\u001b[39;00m\u001b[39m{}\u001b[39;00m\u001b[39m\\n\u001b[39;00m\u001b[39m\"\u001b[39m\u001b[39m.\u001b[39mformat(array)\n\u001b[0;32m    <a href='file:///c%3A/Users/karth/anaconda3/envs/test/lib/site-packages/sklearn/utils/validation.py?line=749'>750</a>\u001b[0m     ) \u001b[39mfrom\u001b[39;00m \u001b[39mcomplex_warning\u001b[39;00m\n",
      "\u001b[1;31mValueError\u001b[0m: could not convert string to float: 'T'"
     ]
    }
   ],
   "source": [
    "from sklearn.linear_model import LogisticRegression\n",
    "clr = LogisticRegression()\n",
    "clr.fit(X_train, y_train)\n"
   ]
  },
  {
   "cell_type": "code",
   "execution_count": 95,
   "metadata": {},
   "outputs": [],
   "source": [
    "onx = to_onnx(ereg, X_train[:3])\n"
   ]
  },
  {
   "cell_type": "code",
   "execution_count": 94,
   "metadata": {},
   "outputs": [
    {
     "ename": "InvalidArgument",
     "evalue": "[ONNXRuntimeError] : 2 : INVALID_ARGUMENT : Got invalid dimensions for input: X for the following indices\n index: 1 Got: 26 Expected: 25\n Please fix either the inputs or the model.",
     "output_type": "error",
     "traceback": [
      "\u001b[1;31m---------------------------------------------------------------------------\u001b[0m",
      "\u001b[1;31mInvalidArgument\u001b[0m                           Traceback (most recent call last)",
      "\u001b[1;32mc:\\Users\\karth\\Desktop\\PhD projects\\immuneML\\dev_immuneML\\immuneML\\immuneML\\ml_methods\\Sklearn_jupyter.ipynb Cell 27'\u001b[0m in \u001b[0;36m<cell line: 3>\u001b[1;34m()\u001b[0m\n\u001b[0;32m      <a href='vscode-notebook-cell:/c%3A/Users/karth/Desktop/PhD%20projects/immuneML/dev_immuneML/immuneML/immuneML/ml_methods/Sklearn_jupyter.ipynb#ch0000078?line=0'>1</a>\u001b[0m sess \u001b[39m=\u001b[39m InferenceSession(onx\u001b[39m.\u001b[39mSerializeToString(),\n\u001b[0;32m      <a href='vscode-notebook-cell:/c%3A/Users/karth/Desktop/PhD%20projects/immuneML/dev_immuneML/immuneML/immuneML/ml_methods/Sklearn_jupyter.ipynb#ch0000078?line=1'>2</a>\u001b[0m                         providers\u001b[39m=\u001b[39m[\u001b[39m'\u001b[39m\u001b[39mCPUExecutionProvider\u001b[39m\u001b[39m'\u001b[39m])\n\u001b[1;32m----> <a href='vscode-notebook-cell:/c%3A/Users/karth/Desktop/PhD%20projects/immuneML/dev_immuneML/immuneML/immuneML/ml_methods/Sklearn_jupyter.ipynb#ch0000078?line=2'>3</a>\u001b[0m pred_ort \u001b[39m=\u001b[39m sess\u001b[39m.\u001b[39;49mrun(\u001b[39mNone\u001b[39;49;00m, {\u001b[39m'\u001b[39;49m\u001b[39mX\u001b[39;49m\u001b[39m'\u001b[39;49m: xtest1})[\u001b[39m0\u001b[39m]\n\u001b[0;32m      <a href='vscode-notebook-cell:/c%3A/Users/karth/Desktop/PhD%20projects/immuneML/dev_immuneML/immuneML/immuneML/ml_methods/Sklearn_jupyter.ipynb#ch0000078?line=4'>5</a>\u001b[0m pred_skl \u001b[39m=\u001b[39m ereg\u001b[39m.\u001b[39mpredict(xtest1[:\u001b[39m10\u001b[39m])\n\u001b[0;32m      <a href='vscode-notebook-cell:/c%3A/Users/karth/Desktop/PhD%20projects/immuneML/dev_immuneML/immuneML/immuneML/ml_methods/Sklearn_jupyter.ipynb#ch0000078?line=6'>7</a>\u001b[0m \u001b[39mprint\u001b[39m(\u001b[39m\"\u001b[39m\u001b[39mOnnx Runtime prediction:\u001b[39m\u001b[39m\\n\u001b[39;00m\u001b[39m\"\u001b[39m, pred_ort[:\u001b[39m5\u001b[39m])\n",
      "File \u001b[1;32m~\\AppData\\Roaming\\Python\\Python38\\site-packages\\onnxruntime\\capi\\onnxruntime_inference_collection.py:192\u001b[0m, in \u001b[0;36mSession.run\u001b[1;34m(self, output_names, input_feed, run_options)\u001b[0m\n\u001b[0;32m    <a href='file:///c%3A/Users/karth/AppData/Roaming/Python/Python38/site-packages/onnxruntime/capi/onnxruntime_inference_collection.py?line=189'>190</a>\u001b[0m     output_names \u001b[39m=\u001b[39m [output\u001b[39m.\u001b[39mname \u001b[39mfor\u001b[39;00m output \u001b[39min\u001b[39;00m \u001b[39mself\u001b[39m\u001b[39m.\u001b[39m_outputs_meta]\n\u001b[0;32m    <a href='file:///c%3A/Users/karth/AppData/Roaming/Python/Python38/site-packages/onnxruntime/capi/onnxruntime_inference_collection.py?line=190'>191</a>\u001b[0m \u001b[39mtry\u001b[39;00m:\n\u001b[1;32m--> <a href='file:///c%3A/Users/karth/AppData/Roaming/Python/Python38/site-packages/onnxruntime/capi/onnxruntime_inference_collection.py?line=191'>192</a>\u001b[0m     \u001b[39mreturn\u001b[39;00m \u001b[39mself\u001b[39;49m\u001b[39m.\u001b[39;49m_sess\u001b[39m.\u001b[39;49mrun(output_names, input_feed, run_options)\n\u001b[0;32m    <a href='file:///c%3A/Users/karth/AppData/Roaming/Python/Python38/site-packages/onnxruntime/capi/onnxruntime_inference_collection.py?line=192'>193</a>\u001b[0m \u001b[39mexcept\u001b[39;00m C\u001b[39m.\u001b[39mEPFail \u001b[39mas\u001b[39;00m err:\n\u001b[0;32m    <a href='file:///c%3A/Users/karth/AppData/Roaming/Python/Python38/site-packages/onnxruntime/capi/onnxruntime_inference_collection.py?line=193'>194</a>\u001b[0m     \u001b[39mif\u001b[39;00m \u001b[39mself\u001b[39m\u001b[39m.\u001b[39m_enable_fallback:\n",
      "\u001b[1;31mInvalidArgument\u001b[0m: [ONNXRuntimeError] : 2 : INVALID_ARGUMENT : Got invalid dimensions for input: X for the following indices\n index: 1 Got: 26 Expected: 25\n Please fix either the inputs or the model."
     ]
    }
   ],
   "source": [
    "sess = InferenceSession(onx.SerializeToString(),\n",
    "                        providers=['CPUExecutionProvider'])\n",
    "pred_ort = sess.run(None, {'X': xtest1})[0]\n",
    "\n",
    "pred_skl = ereg.predict(xtest1[:10])\n",
    "\n",
    "print(\"Onnx Runtime prediction:\\n\", pred_ort[:5])\n",
    "print(\"Sklearn rediction:\\n\", pred_skl[:5])\n"
   ]
  },
  {
   "cell_type": "code",
   "execution_count": null,
   "metadata": {},
   "outputs": [],
   "source": []
  },
  {
   "cell_type": "code",
   "execution_count": 13,
   "metadata": {},
   "outputs": [
    {
     "data": {
      "text/plain": [
       "onnx.onnx_ml_pb2.ModelProto"
      ]
     },
     "execution_count": 13,
     "metadata": {},
     "output_type": "execute_result"
    }
   ],
   "source": [
    "type(onx)\n"
   ]
  },
  {
   "cell_type": "code",
   "execution_count": 15,
   "metadata": {},
   "outputs": [
    {
     "data": {
      "text/plain": [
       "<function ModelProto.__dir__()>"
      ]
     },
     "execution_count": 15,
     "metadata": {},
     "output_type": "execute_result"
    }
   ],
   "source": [
    "onx.__dir__"
   ]
  },
  {
   "cell_type": "code",
   "execution_count": null,
   "metadata": {},
   "outputs": [],
   "source": [
    "with open(\"logreg_iris.onnx\", \"wb\") as f:\n",
    "    f.write(onx.SerializeToString())"
   ]
  },
  {
   "cell_type": "code",
   "execution_count": null,
   "metadata": {},
   "outputs": [],
   "source": [
    "InferenceSession(onx.SerializeToString)"
   ]
  },
  {
   "cell_type": "code",
   "execution_count": 6,
   "metadata": {},
   "outputs": [
    {
     "name": "stdout",
     "output_type": "stream",
     "text": [
      "Onnx Runtime prediction:\n",
      " [[101.45924 ]\n",
      " [120.61491 ]\n",
      " [110.804276]\n",
      " [135.3427  ]\n",
      " [118.72113 ]]\n",
      "Sklearn rediction:\n",
      " [101.45924054 120.61489674 110.80427325 135.34268593 118.72112888]\n"
     ]
    }
   ],
   "source": [
    "sess = InferenceSession(onx.SerializeToString(),\n",
    "                        providers=['CPUExecutionProvider'])\n",
    "pred_ort = sess.run(None, {'X': X_test.astype(numpy.float32)})[0]\n",
    "\n",
    "pred_skl = ereg.predict(X_test.astype(numpy.float32))\n",
    "\n",
    "print(\"Onnx Runtime prediction:\\n\", pred_ort[:5])\n",
    "print(\"Sklearn rediction:\\n\", pred_skl[:5])\n"
   ]
  },
  {
   "cell_type": "code",
   "execution_count": 7,
   "metadata": {},
   "outputs": [
    {
     "name": "stdout",
     "output_type": "stream",
     "text": [
      "(2.7230415383883155e-05, 1.5714640605370315e-07)\n"
     ]
    }
   ],
   "source": [
    "def diff(p1, p2):\n",
    "    p1 = p1.ravel()\n",
    "    p2 = p2.ravel()\n",
    "    d = numpy.abs(p2 - p1)\n",
    "    return d.max(), (d / numpy.abs(p1)).max()\n",
    "\n",
    "\n",
    "print(diff(pred_skl, pred_ort))\n"
   ]
  },
  {
   "cell_type": "markdown",
   "metadata": {},
   "source": [
    "##### A python runtime can be used as well to compute the prediction. It is not meant to be used into production (it still relies on python), but it is useful to investigate why the conversion went wrong. It uses module mlprodict.\n",
    "\n"
   ]
  },
  {
   "cell_type": "code",
   "execution_count": 17,
   "metadata": {},
   "outputs": [
    {
     "name": "stdout",
     "output_type": "stream",
     "text": [
      "OnnxInference(...)\n",
      "    def compiled_run(dict_inputs, yield_ops=None):\n",
      "        if yield_ops is not None:\n",
      "            raise NotImplementedError('yields_ops should be None.')\n",
      "        # init: w0 (w0)\n",
      "        # inputs\n",
      "        X = dict_inputs['X']\n",
      "        (var_0, ) = n0_treeensembleregressor(X)\n",
      "        (var_2, ) = n1_linearregressor(X)\n",
      "        (var_1, ) = n2_treeensembleregressor(X)\n",
      "        (wvar_1, ) = n3_mul(var_1, w0)\n",
      "        (wvar_0, ) = n4_mul(var_0, w0)\n",
      "        (wvar_2, ) = n5_mul(var_2, w0)\n",
      "        (fvar_0, ) = n6_flatten(wvar_0)\n",
      "        (fvar_1, ) = n7_flatten(wvar_1)\n",
      "        (fvar_2, ) = n8_flatten(wvar_2)\n",
      "        (variable, ) = n9_sum(fvar_0, fvar_1, fvar_2)\n",
      "        return {\n",
      "            'variable': variable,\n",
      "        }\n"
     ]
    }
   ],
   "source": [
    "oinf = OnnxInference(onx, runtime=\"python_compiled\")\n",
    "print(oinf)\n"
   ]
  },
  {
   "cell_type": "code",
   "execution_count": 18,
   "metadata": {},
   "outputs": [
    {
     "name": "stdout",
     "output_type": "stream",
     "text": [
      "(2.7230415383883155e-05, 1.5714640605370315e-07)\n"
     ]
    }
   ],
   "source": [
    "pred_pyrt = oinf.run({'X': X_test.astype(numpy.float32)})['variable']\n",
    "print(diff(pred_skl, pred_pyrt))\n"
   ]
  },
  {
   "cell_type": "code",
   "execution_count": 30,
   "metadata": {},
   "outputs": [],
   "source": [
    "import graphviz\n",
    "from IPython.display import display\n",
    "gvz=graphviz.Source(oinf.to_dot())"
   ]
  },
  {
   "cell_type": "code",
   "execution_count": 31,
   "metadata": {},
   "outputs": [
    {
     "data": {
      "image/svg+xml": "<?xml version=\"1.0\" encoding=\"UTF-8\" standalone=\"no\"?>\r\n<!DOCTYPE svg PUBLIC \"-//W3C//DTD SVG 1.1//EN\"\r\n \"http://www.w3.org/Graphics/SVG/1.1/DTD/svg11.dtd\">\r\n<!-- Generated by graphviz version 2.38.0 (20140413.2041)\r\n -->\r\n<!-- Title: %3 Pages: 1 -->\r\n<svg width=\"431pt\" height=\"504pt\"\r\n viewBox=\"0.00 0.00 431.23 504.00\" xmlns=\"http://www.w3.org/2000/svg\" xmlns:xlink=\"http://www.w3.org/1999/xlink\">\r\n<g id=\"graph0\" class=\"graph\" transform=\"scale(0.774194 0.774194) rotate(0) translate(4 647)\">\r\n<title>%3</title>\r\n<polygon fill=\"white\" stroke=\"none\" points=\"-4,4 -4,-647 553,-647 553,4 -4,4\"/>\r\n<!-- X -->\r\n<g id=\"node1\" class=\"node\"><title>X</title>\r\n<polygon fill=\"none\" stroke=\"red\" points=\"336,-643 271,-643 271,-607 336,-607 336,-643\"/>\r\n<text text-anchor=\"middle\" x=\"303.5\" y=\"-628\" font-family=\"Times New Roman,serif\" font-size=\"10.00\">X</text>\r\n<text text-anchor=\"middle\" x=\"303.5\" y=\"-617\" font-family=\"Times New Roman,serif\" font-size=\"10.00\">float((0, 10))</text>\r\n</g>\r\n<!-- TreeEnsembleRegressor -->\r\n<g id=\"node5\" class=\"node\"><title>TreeEnsembleRegressor</title>\r\n<path fill=\"orange\" stroke=\"orange\" d=\"M189,-589C189,-589 12,-589 12,-589 6,-589 0,-583 0,-577 0,-577 0,-395 0,-395 0,-389 6,-383 12,-383 12,-383 189,-383 189,-383 195,-383 201,-389 201,-395 201,-395 201,-577 201,-577 201,-583 195,-589 189,-589\"/>\r\n<text text-anchor=\"middle\" x=\"100.5\" y=\"-577\" font-family=\"Times New Roman,serif\" font-size=\"10.00\">TreeEnsembleRegressor</text>\r\n<text text-anchor=\"middle\" x=\"100.5\" y=\"-566\" font-family=\"Times New Roman,serif\" font-size=\"10.00\">(TreeEnsembleRegressor)</text>\r\n<text text-anchor=\"middle\" x=\"100.5\" y=\"-555\" font-family=\"Times New Roman,serif\" font-size=\"10.00\">base_values=[154.13898]</text>\r\n<text text-anchor=\"middle\" x=\"100.5\" y=\"-544\" font-family=\"Times New Roman,serif\" font-size=\"10.00\">n_targets=1</text>\r\n<text text-anchor=\"middle\" x=\"100.5\" y=\"-533\" font-family=\"Times New Roman,serif\" font-size=\"10.00\">nodes_falsenodeids=[ 8 &#160;5 &#160;4 &#160;0...</text>\r\n<text text-anchor=\"middle\" x=\"100.5\" y=\"-522\" font-family=\"Times New Roman,serif\" font-size=\"10.00\">nodes_featureids=[8 2 7 0 0 2 0...</text>\r\n<text text-anchor=\"middle\" x=\"100.5\" y=\"-511\" font-family=\"Times New Roman,serif\" font-size=\"10.00\">nodes_hitrates=[1. 1. 1. 1. 1. ...</text>\r\n<text text-anchor=\"middle\" x=\"100.5\" y=\"-500\" font-family=\"Times New Roman,serif\" font-size=\"10.00\">nodes_missing_value_tracks_true=[0 0 0 0 0...</text>\r\n<text text-anchor=\"middle\" x=\"100.5\" y=\"-489\" font-family=\"Times New Roman,serif\" font-size=\"10.00\">nodes_modes=[b&#39;BRANCH_LEQ&#39; b&#39;BR...</text>\r\n<text text-anchor=\"middle\" x=\"100.5\" y=\"-478\" font-family=\"Times New Roman,serif\" font-size=\"10.00\">nodes_nodeids=[ 0 &#160;1 &#160;2 &#160;3 &#160;4 &#160;...</text>\r\n<text text-anchor=\"middle\" x=\"100.5\" y=\"-467\" font-family=\"Times New Roman,serif\" font-size=\"10.00\">nodes_treeids=[0 0 0 0 0 0 0 0 ...</text>\r\n<text text-anchor=\"middle\" x=\"100.5\" y=\"-456\" font-family=\"Times New Roman,serif\" font-size=\"10.00\">nodes_truenodeids=[ 1 &#160;2 &#160;3 &#160;0 ...</text>\r\n<text text-anchor=\"middle\" x=\"100.5\" y=\"-445\" font-family=\"Times New Roman,serif\" font-size=\"10.00\">nodes_values=[ 0.01293456 &#160;0.00...</text>\r\n<text text-anchor=\"middle\" x=\"100.5\" y=\"-434\" font-family=\"Times New Roman,serif\" font-size=\"10.00\">post_transform=b&#39;NONE&#39;</text>\r\n<text text-anchor=\"middle\" x=\"100.5\" y=\"-423\" font-family=\"Times New Roman,serif\" font-size=\"10.00\">target_ids=[0 0 0 0 0 0 0 0 0 0...</text>\r\n<text text-anchor=\"middle\" x=\"100.5\" y=\"-412\" font-family=\"Times New Roman,serif\" font-size=\"10.00\">target_nodeids=[ 3 &#160;4 &#160;6 &#160;7 10 ...</text>\r\n<text text-anchor=\"middle\" x=\"100.5\" y=\"-401\" font-family=\"Times New Roman,serif\" font-size=\"10.00\">target_treeids=[0 0 0 0 0 0 0 0...</text>\r\n<text text-anchor=\"middle\" x=\"100.5\" y=\"-390\" font-family=\"Times New Roman,serif\" font-size=\"10.00\">target_weights=[&#45;5.4707317 &#160;&#160;3....</text>\r\n</g>\r\n<!-- X&#45;&gt;TreeEnsembleRegressor -->\r\n<g id=\"edge1\" class=\"edge\"><title>X&#45;&gt;TreeEnsembleRegressor</title>\r\n<path fill=\"none\" stroke=\"black\" d=\"M270.69,-616.285C253.032,-611.327 231.055,-603.846 209.949,-592.071\"/>\r\n<polygon fill=\"black\" stroke=\"black\" points=\"211.679,-589.027 201.288,-586.955 208.118,-595.054 211.679,-589.027\"/>\r\n</g>\r\n<!-- LinearRegressor -->\r\n<g id=\"node7\" class=\"node\"><title>LinearRegressor</title>\r\n<path fill=\"orange\" stroke=\"orange\" d=\"M537,-512C537,-512 418,-512 418,-512 412,-512 406,-506 406,-500 406,-500 406,-472 406,-472 406,-466 412,-460 418,-460 418,-460 537,-460 537,-460 543,-460 549,-466 549,-472 549,-472 549,-500 549,-500 549,-506 543,-512 537,-512\"/>\r\n<text text-anchor=\"middle\" x=\"477.5\" y=\"-500\" font-family=\"Times New Roman,serif\" font-size=\"10.00\">LinearRegressor</text>\r\n<text text-anchor=\"middle\" x=\"477.5\" y=\"-489\" font-family=\"Times New Roman,serif\" font-size=\"10.00\">(LinearRegressor)</text>\r\n<text text-anchor=\"middle\" x=\"477.5\" y=\"-478\" font-family=\"Times New Roman,serif\" font-size=\"10.00\">coefficients=[ &#160;&#45;6.3789477 &#45;221...</text>\r\n<text text-anchor=\"middle\" x=\"477.5\" y=\"-467\" font-family=\"Times New Roman,serif\" font-size=\"10.00\">intercepts=[152.01575]</text>\r\n</g>\r\n<!-- X&#45;&gt;LinearRegressor -->\r\n<g id=\"edge3\" class=\"edge\"><title>X&#45;&gt;LinearRegressor</title>\r\n<path fill=\"none\" stroke=\"black\" d=\"M336.155,-617.646C356.676,-612.462 382.881,-603.555 402.5,-589 426.703,-571.044 446.495,-543.063 459.657,-520.946\"/>\r\n<polygon fill=\"black\" stroke=\"black\" points=\"462.749,-522.591 464.714,-512.18 456.685,-519.093 462.749,-522.591\"/>\r\n</g>\r\n<!-- TreeEnsembleRegressor1 -->\r\n<g id=\"node9\" class=\"node\"><title>TreeEnsembleRegressor1</title>\r\n<path fill=\"orange\" stroke=\"orange\" d=\"M390,-583.5C390,-583.5 217,-583.5 217,-583.5 211,-583.5 205,-577.5 205,-571.5 205,-571.5 205,-400.5 205,-400.5 205,-394.5 211,-388.5 217,-388.5 217,-388.5 390,-388.5 390,-388.5 396,-388.5 402,-394.5 402,-400.5 402,-400.5 402,-571.5 402,-571.5 402,-577.5 396,-583.5 390,-583.5\"/>\r\n<text text-anchor=\"middle\" x=\"303.5\" y=\"-571.5\" font-family=\"Times New Roman,serif\" font-size=\"10.00\">TreeEnsembleRegressor</text>\r\n<text text-anchor=\"middle\" x=\"303.5\" y=\"-560.5\" font-family=\"Times New Roman,serif\" font-size=\"10.00\">(TreeEnsembleRegressor1)</text>\r\n<text text-anchor=\"middle\" x=\"303.5\" y=\"-549.5\" font-family=\"Times New Roman,serif\" font-size=\"10.00\">n_targets=1</text>\r\n<text text-anchor=\"middle\" x=\"303.5\" y=\"-538.5\" font-family=\"Times New Roman,serif\" font-size=\"10.00\">nodes_falsenodeids=[254 167 154...</text>\r\n<text text-anchor=\"middle\" x=\"303.5\" y=\"-527.5\" font-family=\"Times New Roman,serif\" font-size=\"10.00\">nodes_featureids=[8 2 3 ... 0 0...</text>\r\n<text text-anchor=\"middle\" x=\"303.5\" y=\"-516.5\" font-family=\"Times New Roman,serif\" font-size=\"10.00\">nodes_hitrates=[1. 1. 1. ... 1....</text>\r\n<text text-anchor=\"middle\" x=\"303.5\" y=\"-505.5\" font-family=\"Times New Roman,serif\" font-size=\"10.00\">nodes_missing_value_tracks_true=[0 0 0 ......</text>\r\n<text text-anchor=\"middle\" x=\"303.5\" y=\"-494.5\" font-family=\"Times New Roman,serif\" font-size=\"10.00\">nodes_modes=[b&#39;BRANCH_LEQ&#39; b&#39;BR...</text>\r\n<text text-anchor=\"middle\" x=\"303.5\" y=\"-483.5\" font-family=\"Times New Roman,serif\" font-size=\"10.00\">nodes_nodeids=[ &#160;0 &#160;&#160;1 &#160;&#160;2 ... ...</text>\r\n<text text-anchor=\"middle\" x=\"303.5\" y=\"-472.5\" font-family=\"Times New Roman,serif\" font-size=\"10.00\">nodes_treeids=[0 0 0 ... 4 4 4]</text>\r\n<text text-anchor=\"middle\" x=\"303.5\" y=\"-461.5\" font-family=\"Times New Roman,serif\" font-size=\"10.00\">nodes_truenodeids=[ &#160;1 &#160;&#160;2 &#160;&#160;3 ...</text>\r\n<text text-anchor=\"middle\" x=\"303.5\" y=\"-450.5\" font-family=\"Times New Roman,serif\" font-size=\"10.00\">nodes_values=[ 0.01667104 &#45;0.00...</text>\r\n<text text-anchor=\"middle\" x=\"303.5\" y=\"-439.5\" font-family=\"Times New Roman,serif\" font-size=\"10.00\">post_transform=b&#39;NONE&#39;</text>\r\n<text text-anchor=\"middle\" x=\"303.5\" y=\"-428.5\" font-family=\"Times New Roman,serif\" font-size=\"10.00\">target_ids=[0 0 0 ... 0 0 0]</text>\r\n<text text-anchor=\"middle\" x=\"303.5\" y=\"-417.5\" font-family=\"Times New Roman,serif\" font-size=\"10.00\">target_nodeids=[ &#160;7 &#160;10 &#160;11 ......</text>\r\n<text text-anchor=\"middle\" x=\"303.5\" y=\"-406.5\" font-family=\"Times New Roman,serif\" font-size=\"10.00\">target_treeids=[0 0 0 ... 4 4 4...</text>\r\n<text text-anchor=\"middle\" x=\"303.5\" y=\"-395.5\" font-family=\"Times New Roman,serif\" font-size=\"10.00\">target_weights=[22.6 27.4 28. &#160;...</text>\r\n</g>\r\n<!-- X&#45;&gt;TreeEnsembleRegressor1 -->\r\n<g id=\"edge5\" class=\"edge\"><title>X&#45;&gt;TreeEnsembleRegressor1</title>\r\n<path fill=\"none\" stroke=\"black\" d=\"M303.5,-606.926C303.5,-603.05 303.5,-598.657 303.5,-593.899\"/>\r\n<polygon fill=\"black\" stroke=\"black\" points=\"307,-593.667 303.5,-583.668 300,-593.668 307,-593.667\"/>\r\n</g>\r\n<!-- variable -->\r\n<g id=\"node2\" class=\"node\"><title>variable</title>\r\n<polygon fill=\"none\" stroke=\"green\" points=\"298.5,-36 238.5,-36 238.5,-0 298.5,-0 298.5,-36\"/>\r\n<text text-anchor=\"middle\" x=\"268.5\" y=\"-21\" font-family=\"Times New Roman,serif\" font-size=\"10.00\">variable</text>\r\n<text text-anchor=\"middle\" x=\"268.5\" y=\"-10\" font-family=\"Times New Roman,serif\" font-size=\"10.00\">float((0, 1))</text>\r\n</g>\r\n<!-- w0 -->\r\n<g id=\"node3\" class=\"node\"><title>w0</title>\r\n<polygon fill=\"none\" stroke=\"black\" points=\"272,-365 207,-365 207,-324 272,-324 272,-365\"/>\r\n<text text-anchor=\"middle\" x=\"239.5\" y=\"-353\" font-family=\"Times New Roman,serif\" font-size=\"10.00\">w0</text>\r\n<text text-anchor=\"middle\" x=\"239.5\" y=\"-342\" font-family=\"Times New Roman,serif\" font-size=\"10.00\">float32((1,))</text>\r\n<text text-anchor=\"middle\" x=\"239.5\" y=\"-331\" font-family=\"Times New Roman,serif\" font-size=\"10.00\">[0.33333334]</text>\r\n</g>\r\n<!-- Mul1 -->\r\n<g id=\"node11\" class=\"node\"><title>Mul1</title>\r\n<path fill=\"orange\" stroke=\"orange\" d=\"M283.5,-306C283.5,-306 253.5,-306 253.5,-306 247.5,-306 241.5,-300 241.5,-294 241.5,-294 241.5,-282 241.5,-282 241.5,-276 247.5,-270 253.5,-270 253.5,-270 283.5,-270 283.5,-270 289.5,-270 295.5,-276 295.5,-282 295.5,-282 295.5,-294 295.5,-294 295.5,-300 289.5,-306 283.5,-306\"/>\r\n<text text-anchor=\"middle\" x=\"268.5\" y=\"-291\" font-family=\"Times New Roman,serif\" font-size=\"10.00\">Mul</text>\r\n<text text-anchor=\"middle\" x=\"268.5\" y=\"-280\" font-family=\"Times New Roman,serif\" font-size=\"10.00\">(Mul1)</text>\r\n</g>\r\n<!-- w0&#45;&gt;Mul1 -->\r\n<g id=\"edge8\" class=\"edge\"><title>w0&#45;&gt;Mul1</title>\r\n<path fill=\"none\" stroke=\"black\" d=\"M249.97,-323.824C251.447,-321.048 252.985,-318.157 254.515,-315.281\"/>\r\n<polygon fill=\"black\" stroke=\"black\" points=\"257.687,-316.772 259.294,-306.3 251.507,-313.484 257.687,-316.772\"/>\r\n</g>\r\n<!-- Mul -->\r\n<g id=\"node13\" class=\"node\"><title>Mul</title>\r\n<path fill=\"orange\" stroke=\"orange\" d=\"M225.5,-306C225.5,-306 195.5,-306 195.5,-306 189.5,-306 183.5,-300 183.5,-294 183.5,-294 183.5,-282 183.5,-282 183.5,-276 189.5,-270 195.5,-270 195.5,-270 225.5,-270 225.5,-270 231.5,-270 237.5,-276 237.5,-282 237.5,-282 237.5,-294 237.5,-294 237.5,-300 231.5,-306 225.5,-306\"/>\r\n<text text-anchor=\"middle\" x=\"210.5\" y=\"-291\" font-family=\"Times New Roman,serif\" font-size=\"10.00\">Mul</text>\r\n<text text-anchor=\"middle\" x=\"210.5\" y=\"-280\" font-family=\"Times New Roman,serif\" font-size=\"10.00\">(Mul)</text>\r\n</g>\r\n<!-- w0&#45;&gt;Mul -->\r\n<g id=\"edge11\" class=\"edge\"><title>w0&#45;&gt;Mul</title>\r\n<path fill=\"none\" stroke=\"black\" d=\"M229.03,-323.824C227.553,-321.048 226.015,-318.157 224.485,-315.281\"/>\r\n<polygon fill=\"black\" stroke=\"black\" points=\"227.493,-313.484 219.706,-306.3 221.313,-316.772 227.493,-313.484\"/>\r\n</g>\r\n<!-- Mul2 -->\r\n<g id=\"node15\" class=\"node\"><title>Mul2</title>\r\n<path fill=\"orange\" stroke=\"orange\" d=\"M341.5,-306C341.5,-306 311.5,-306 311.5,-306 305.5,-306 299.5,-300 299.5,-294 299.5,-294 299.5,-282 299.5,-282 299.5,-276 305.5,-270 311.5,-270 311.5,-270 341.5,-270 341.5,-270 347.5,-270 353.5,-276 353.5,-282 353.5,-282 353.5,-294 353.5,-294 353.5,-300 347.5,-306 341.5,-306\"/>\r\n<text text-anchor=\"middle\" x=\"326.5\" y=\"-291\" font-family=\"Times New Roman,serif\" font-size=\"10.00\">Mul</text>\r\n<text text-anchor=\"middle\" x=\"326.5\" y=\"-280\" font-family=\"Times New Roman,serif\" font-size=\"10.00\">(Mul2)</text>\r\n</g>\r\n<!-- w0&#45;&gt;Mul2 -->\r\n<g id=\"edge14\" class=\"edge\"><title>w0&#45;&gt;Mul2</title>\r\n<path fill=\"none\" stroke=\"black\" d=\"M270.909,-323.824C277.334,-319.8 284.141,-315.535 290.706,-311.423\"/>\r\n<polygon fill=\"black\" stroke=\"black\" points=\"292.833,-314.22 299.45,-305.945 289.117,-308.288 292.833,-314.22\"/>\r\n</g>\r\n<!-- var_0 -->\r\n<g id=\"node4\" class=\"node\"><title>var_0</title>\r\n<polygon fill=\"none\" stroke=\"black\" points=\"164.5,-362.5 110.5,-362.5 110.5,-326.5 164.5,-326.5 164.5,-362.5\"/>\r\n<text text-anchor=\"middle\" x=\"137.5\" y=\"-342\" font-family=\"Times New Roman,serif\" font-size=\"10.00\">var_0</text>\r\n</g>\r\n<!-- var_0&#45;&gt;Mul -->\r\n<g id=\"edge10\" class=\"edge\"><title>var_0&#45;&gt;Mul</title>\r\n<path fill=\"none\" stroke=\"black\" d=\"M160.598,-326.256C166.513,-321.839 172.975,-317.015 179.227,-312.348\"/>\r\n<polygon fill=\"black\" stroke=\"black\" points=\"181.633,-314.919 187.553,-306.132 177.446,-309.31 181.633,-314.919\"/>\r\n</g>\r\n<!-- TreeEnsembleRegressor&#45;&gt;var_0 -->\r\n<g id=\"edge2\" class=\"edge\"><title>TreeEnsembleRegressor&#45;&gt;var_0</title>\r\n<path fill=\"none\" stroke=\"black\" d=\"M127.585,-382.883C128.545,-379.261 129.467,-375.788 130.334,-372.519\"/>\r\n<polygon fill=\"black\" stroke=\"black\" points=\"133.721,-373.401 132.902,-362.837 126.955,-371.606 133.721,-373.401\"/>\r\n</g>\r\n<!-- var_2 -->\r\n<g id=\"node6\" class=\"node\"><title>var_2</title>\r\n<polygon fill=\"none\" stroke=\"black\" points=\"446.5,-362.5 392.5,-362.5 392.5,-326.5 446.5,-326.5 446.5,-362.5\"/>\r\n<text text-anchor=\"middle\" x=\"419.5\" y=\"-342\" font-family=\"Times New Roman,serif\" font-size=\"10.00\">var_2</text>\r\n</g>\r\n<!-- var_2&#45;&gt;Mul2 -->\r\n<g id=\"edge13\" class=\"edge\"><title>var_2&#45;&gt;Mul2</title>\r\n<path fill=\"none\" stroke=\"black\" d=\"M392.1,-327.443C382.829,-322.01 372.332,-315.859 362.497,-310.095\"/>\r\n<polygon fill=\"black\" stroke=\"black\" points=\"364.102,-306.979 353.704,-304.942 360.562,-313.018 364.102,-306.979\"/>\r\n</g>\r\n<!-- LinearRegressor&#45;&gt;var_2 -->\r\n<g id=\"edge4\" class=\"edge\"><title>LinearRegressor&#45;&gt;var_2</title>\r\n<path fill=\"none\" stroke=\"black\" d=\"M466.997,-459.738C456.679,-434.923 441.002,-397.215 430.512,-371.987\"/>\r\n<polygon fill=\"black\" stroke=\"black\" points=\"433.705,-370.549 426.634,-362.659 427.242,-373.236 433.705,-370.549\"/>\r\n</g>\r\n<!-- var_1 -->\r\n<g id=\"node8\" class=\"node\"><title>var_1</title>\r\n<polygon fill=\"none\" stroke=\"black\" points=\"330.5,-362.5 276.5,-362.5 276.5,-326.5 330.5,-326.5 330.5,-362.5\"/>\r\n<text text-anchor=\"middle\" x=\"303.5\" y=\"-342\" font-family=\"Times New Roman,serif\" font-size=\"10.00\">var_1</text>\r\n</g>\r\n<!-- var_1&#45;&gt;Mul1 -->\r\n<g id=\"edge7\" class=\"edge\"><title>var_1&#45;&gt;Mul1</title>\r\n<path fill=\"none\" stroke=\"black\" d=\"M292.426,-326.256C290.128,-322.677 287.658,-318.832 285.209,-315.018\"/>\r\n<polygon fill=\"black\" stroke=\"black\" points=\"287.971,-312.842 279.622,-306.319 282.081,-316.625 287.971,-312.842\"/>\r\n</g>\r\n<!-- TreeEnsembleRegressor1&#45;&gt;var_1 -->\r\n<g id=\"edge6\" class=\"edge\"><title>TreeEnsembleRegressor1&#45;&gt;var_1</title>\r\n<path fill=\"none\" stroke=\"black\" d=\"M303.5,-388.493C303.5,-383.012 303.5,-377.791 303.5,-372.998\"/>\r\n<polygon fill=\"black\" stroke=\"black\" points=\"307,-372.667 303.5,-362.667 300,-372.667 307,-372.667\"/>\r\n</g>\r\n<!-- wvar_1 -->\r\n<g id=\"node10\" class=\"node\"><title>wvar_1</title>\r\n<polygon fill=\"none\" stroke=\"black\" points=\"295.5,-252 241.5,-252 241.5,-216 295.5,-216 295.5,-252\"/>\r\n<text text-anchor=\"middle\" x=\"268.5\" y=\"-231.5\" font-family=\"Times New Roman,serif\" font-size=\"10.00\">wvar_1</text>\r\n</g>\r\n<!-- N4 -->\r\n<g id=\"node19\" class=\"node\"><title>N4</title>\r\n<path fill=\"orange\" stroke=\"orange\" d=\"M283.5,-198C283.5,-198 253.5,-198 253.5,-198 247.5,-198 241.5,-192 241.5,-186 241.5,-186 241.5,-174 241.5,-174 241.5,-168 247.5,-162 253.5,-162 253.5,-162 283.5,-162 283.5,-162 289.5,-162 295.5,-168 295.5,-174 295.5,-174 295.5,-186 295.5,-186 295.5,-192 289.5,-198 283.5,-198\"/>\r\n<text text-anchor=\"middle\" x=\"268.5\" y=\"-183\" font-family=\"Times New Roman,serif\" font-size=\"10.00\">Flatten</text>\r\n<text text-anchor=\"middle\" x=\"268.5\" y=\"-172\" font-family=\"Times New Roman,serif\" font-size=\"10.00\">(N4)</text>\r\n</g>\r\n<!-- wvar_1&#45;&gt;N4 -->\r\n<g id=\"edge18\" class=\"edge\"><title>wvar_1&#45;&gt;N4</title>\r\n<path fill=\"none\" stroke=\"black\" d=\"M268.5,-215.973C268.5,-213.574 268.5,-211.059 268.5,-208.524\"/>\r\n<polygon fill=\"black\" stroke=\"black\" points=\"272,-208.243 268.5,-198.243 265,-208.243 272,-208.243\"/>\r\n</g>\r\n<!-- Mul1&#45;&gt;wvar_1 -->\r\n<g id=\"edge9\" class=\"edge\"><title>Mul1&#45;&gt;wvar_1</title>\r\n<path fill=\"none\" stroke=\"black\" d=\"M268.5,-269.973C268.5,-267.574 268.5,-265.059 268.5,-262.524\"/>\r\n<polygon fill=\"black\" stroke=\"black\" points=\"272,-262.243 268.5,-252.243 265,-262.243 272,-262.243\"/>\r\n</g>\r\n<!-- wvar_0 -->\r\n<g id=\"node12\" class=\"node\"><title>wvar_0</title>\r\n<polygon fill=\"none\" stroke=\"black\" points=\"237.5,-252 183.5,-252 183.5,-216 237.5,-216 237.5,-252\"/>\r\n<text text-anchor=\"middle\" x=\"210.5\" y=\"-231.5\" font-family=\"Times New Roman,serif\" font-size=\"10.00\">wvar_0</text>\r\n</g>\r\n<!-- N1 -->\r\n<g id=\"node17\" class=\"node\"><title>N1</title>\r\n<path fill=\"orange\" stroke=\"orange\" d=\"M225.5,-198C225.5,-198 195.5,-198 195.5,-198 189.5,-198 183.5,-192 183.5,-186 183.5,-186 183.5,-174 183.5,-174 183.5,-168 189.5,-162 195.5,-162 195.5,-162 225.5,-162 225.5,-162 231.5,-162 237.5,-168 237.5,-174 237.5,-174 237.5,-186 237.5,-186 237.5,-192 231.5,-198 225.5,-198\"/>\r\n<text text-anchor=\"middle\" x=\"210.5\" y=\"-183\" font-family=\"Times New Roman,serif\" font-size=\"10.00\">Flatten</text>\r\n<text text-anchor=\"middle\" x=\"210.5\" y=\"-172\" font-family=\"Times New Roman,serif\" font-size=\"10.00\">(N1)</text>\r\n</g>\r\n<!-- wvar_0&#45;&gt;N1 -->\r\n<g id=\"edge16\" class=\"edge\"><title>wvar_0&#45;&gt;N1</title>\r\n<path fill=\"none\" stroke=\"black\" d=\"M210.5,-215.973C210.5,-213.574 210.5,-211.059 210.5,-208.524\"/>\r\n<polygon fill=\"black\" stroke=\"black\" points=\"214,-208.243 210.5,-198.243 207,-208.243 214,-208.243\"/>\r\n</g>\r\n<!-- Mul&#45;&gt;wvar_0 -->\r\n<g id=\"edge12\" class=\"edge\"><title>Mul&#45;&gt;wvar_0</title>\r\n<path fill=\"none\" stroke=\"black\" d=\"M210.5,-269.973C210.5,-267.574 210.5,-265.059 210.5,-262.524\"/>\r\n<polygon fill=\"black\" stroke=\"black\" points=\"214,-262.243 210.5,-252.243 207,-262.243 214,-262.243\"/>\r\n</g>\r\n<!-- wvar_2 -->\r\n<g id=\"node14\" class=\"node\"><title>wvar_2</title>\r\n<polygon fill=\"none\" stroke=\"black\" points=\"353.5,-252 299.5,-252 299.5,-216 353.5,-216 353.5,-252\"/>\r\n<text text-anchor=\"middle\" x=\"326.5\" y=\"-231.5\" font-family=\"Times New Roman,serif\" font-size=\"10.00\">wvar_2</text>\r\n</g>\r\n<!-- N7 -->\r\n<g id=\"node21\" class=\"node\"><title>N7</title>\r\n<path fill=\"orange\" stroke=\"orange\" d=\"M341.5,-198C341.5,-198 311.5,-198 311.5,-198 305.5,-198 299.5,-192 299.5,-186 299.5,-186 299.5,-174 299.5,-174 299.5,-168 305.5,-162 311.5,-162 311.5,-162 341.5,-162 341.5,-162 347.5,-162 353.5,-168 353.5,-174 353.5,-174 353.5,-186 353.5,-186 353.5,-192 347.5,-198 341.5,-198\"/>\r\n<text text-anchor=\"middle\" x=\"326.5\" y=\"-183\" font-family=\"Times New Roman,serif\" font-size=\"10.00\">Flatten</text>\r\n<text text-anchor=\"middle\" x=\"326.5\" y=\"-172\" font-family=\"Times New Roman,serif\" font-size=\"10.00\">(N7)</text>\r\n</g>\r\n<!-- wvar_2&#45;&gt;N7 -->\r\n<g id=\"edge20\" class=\"edge\"><title>wvar_2&#45;&gt;N7</title>\r\n<path fill=\"none\" stroke=\"black\" d=\"M326.5,-215.973C326.5,-213.574 326.5,-211.059 326.5,-208.524\"/>\r\n<polygon fill=\"black\" stroke=\"black\" points=\"330,-208.243 326.5,-198.243 323,-208.243 330,-208.243\"/>\r\n</g>\r\n<!-- Mul2&#45;&gt;wvar_2 -->\r\n<g id=\"edge15\" class=\"edge\"><title>Mul2&#45;&gt;wvar_2</title>\r\n<path fill=\"none\" stroke=\"black\" d=\"M326.5,-269.973C326.5,-267.574 326.5,-265.059 326.5,-262.524\"/>\r\n<polygon fill=\"black\" stroke=\"black\" points=\"330,-262.243 326.5,-252.243 323,-262.243 330,-262.243\"/>\r\n</g>\r\n<!-- fvar_0 -->\r\n<g id=\"node16\" class=\"node\"><title>fvar_0</title>\r\n<polygon fill=\"none\" stroke=\"black\" points=\"237.5,-144 183.5,-144 183.5,-108 237.5,-108 237.5,-144\"/>\r\n<text text-anchor=\"middle\" x=\"210.5\" y=\"-123.5\" font-family=\"Times New Roman,serif\" font-size=\"10.00\">fvar_0</text>\r\n</g>\r\n<!-- Sum -->\r\n<g id=\"node22\" class=\"node\"><title>Sum</title>\r\n<path fill=\"orange\" stroke=\"orange\" d=\"M283.5,-90C283.5,-90 253.5,-90 253.5,-90 247.5,-90 241.5,-84 241.5,-78 241.5,-78 241.5,-66 241.5,-66 241.5,-60 247.5,-54 253.5,-54 253.5,-54 283.5,-54 283.5,-54 289.5,-54 295.5,-60 295.5,-66 295.5,-66 295.5,-78 295.5,-78 295.5,-84 289.5,-90 283.5,-90\"/>\r\n<text text-anchor=\"middle\" x=\"268.5\" y=\"-75\" font-family=\"Times New Roman,serif\" font-size=\"10.00\">Sum</text>\r\n<text text-anchor=\"middle\" x=\"268.5\" y=\"-64\" font-family=\"Times New Roman,serif\" font-size=\"10.00\">(Sum)</text>\r\n</g>\r\n<!-- fvar_0&#45;&gt;Sum -->\r\n<g id=\"edge22\" class=\"edge\"><title>fvar_0&#45;&gt;Sum</title>\r\n<path fill=\"none\" stroke=\"black\" d=\"M229.491,-107.973C233.357,-104.508 237.493,-100.8 241.573,-97.1412\"/>\r\n<polygon fill=\"black\" stroke=\"black\" points=\"244.158,-99.5245 249.267,-90.243 239.485,-94.3125 244.158,-99.5245\"/>\r\n</g>\r\n<!-- N1&#45;&gt;fvar_0 -->\r\n<g id=\"edge17\" class=\"edge\"><title>N1&#45;&gt;fvar_0</title>\r\n<path fill=\"none\" stroke=\"black\" d=\"M210.5,-161.973C210.5,-159.574 210.5,-157.059 210.5,-154.524\"/>\r\n<polygon fill=\"black\" stroke=\"black\" points=\"214,-154.243 210.5,-144.243 207,-154.243 214,-154.243\"/>\r\n</g>\r\n<!-- fvar_1 -->\r\n<g id=\"node18\" class=\"node\"><title>fvar_1</title>\r\n<polygon fill=\"none\" stroke=\"black\" points=\"295.5,-144 241.5,-144 241.5,-108 295.5,-108 295.5,-144\"/>\r\n<text text-anchor=\"middle\" x=\"268.5\" y=\"-123.5\" font-family=\"Times New Roman,serif\" font-size=\"10.00\">fvar_1</text>\r\n</g>\r\n<!-- fvar_1&#45;&gt;Sum -->\r\n<g id=\"edge23\" class=\"edge\"><title>fvar_1&#45;&gt;Sum</title>\r\n<path fill=\"none\" stroke=\"black\" d=\"M268.5,-107.973C268.5,-105.574 268.5,-103.059 268.5,-100.524\"/>\r\n<polygon fill=\"black\" stroke=\"black\" points=\"272,-100.243 268.5,-90.243 265,-100.243 272,-100.243\"/>\r\n</g>\r\n<!-- N4&#45;&gt;fvar_1 -->\r\n<g id=\"edge19\" class=\"edge\"><title>N4&#45;&gt;fvar_1</title>\r\n<path fill=\"none\" stroke=\"black\" d=\"M268.5,-161.973C268.5,-159.574 268.5,-157.059 268.5,-154.524\"/>\r\n<polygon fill=\"black\" stroke=\"black\" points=\"272,-154.243 268.5,-144.243 265,-154.243 272,-154.243\"/>\r\n</g>\r\n<!-- fvar_2 -->\r\n<g id=\"node20\" class=\"node\"><title>fvar_2</title>\r\n<polygon fill=\"none\" stroke=\"black\" points=\"353.5,-144 299.5,-144 299.5,-108 353.5,-108 353.5,-144\"/>\r\n<text text-anchor=\"middle\" x=\"326.5\" y=\"-123.5\" font-family=\"Times New Roman,serif\" font-size=\"10.00\">fvar_2</text>\r\n</g>\r\n<!-- fvar_2&#45;&gt;Sum -->\r\n<g id=\"edge24\" class=\"edge\"><title>fvar_2&#45;&gt;Sum</title>\r\n<path fill=\"none\" stroke=\"black\" d=\"M307.509,-107.973C303.643,-104.508 299.507,-100.8 295.427,-97.1412\"/>\r\n<polygon fill=\"black\" stroke=\"black\" points=\"297.515,-94.3125 287.733,-90.243 292.842,-99.5245 297.515,-94.3125\"/>\r\n</g>\r\n<!-- N7&#45;&gt;fvar_2 -->\r\n<g id=\"edge21\" class=\"edge\"><title>N7&#45;&gt;fvar_2</title>\r\n<path fill=\"none\" stroke=\"black\" d=\"M326.5,-161.973C326.5,-159.574 326.5,-157.059 326.5,-154.524\"/>\r\n<polygon fill=\"black\" stroke=\"black\" points=\"330,-154.243 326.5,-144.243 323,-154.243 330,-154.243\"/>\r\n</g>\r\n<!-- Sum&#45;&gt;variable -->\r\n<g id=\"edge25\" class=\"edge\"><title>Sum&#45;&gt;variable</title>\r\n<path fill=\"none\" stroke=\"black\" d=\"M268.5,-53.9733C268.5,-51.574 268.5,-49.0586 268.5,-46.5239\"/>\r\n<polygon fill=\"black\" stroke=\"black\" points=\"272,-46.243 268.5,-36.243 265,-46.2431 272,-46.243\"/>\r\n</g>\r\n</g>\r\n</svg>\r\n",
      "text/plain": [
       "<graphviz.files.Source at 0x1b758a34f10>"
      ]
     },
     "metadata": {},
     "output_type": "display_data"
    }
   ],
   "source": [
    "display(gvz)\n"
   ]
  },
  {
   "cell_type": "code",
   "execution_count": null,
   "metadata": {},
   "outputs": [],
   "source": []
  },
  {
   "cell_type": "markdown",
   "metadata": {},
   "source": []
  },
  {
   "cell_type": "code",
   "execution_count": 5,
   "metadata": {},
   "outputs": [
    {
     "name": "stdout",
     "output_type": "stream",
     "text": [
      "b'fe04b709899554a3764d22516a8b55e2c1296f0ad24c891ff171330253d6a43d'\n"
     ]
    }
   ],
   "source": [
    "import hashlib, hmac, binascii\n",
    "\n",
    "mac = hmac.new(b'061ba89f50bd126735ae721efdf4754fc28bbabd426337377d0f7cd0bdb39cb5', b'some msg', hashlib.sha256).digest()\n",
    "print(binascii.hexlify(mac))"
   ]
  },
  {
   "cell_type": "code",
   "execution_count": 6,
   "metadata": {},
   "outputs": [
    {
     "ename": "NameError",
     "evalue": "name 'ereg' is not defined",
     "output_type": "error",
     "traceback": [
      "\u001b[1;31m---------------------------------------------------------------------------\u001b[0m",
      "\u001b[1;31mNameError\u001b[0m                                 Traceback (most recent call last)",
      "\u001b[1;32mc:\\Users\\karth\\Desktop\\PhD projects\\immuneML\\dev_immuneML\\immuneML\\immuneML\\ml_methods\\Sklearn_jupyter.ipynb Cell 17'\u001b[0m in \u001b[0;36m<cell line: 1>\u001b[1;34m()\u001b[0m\n\u001b[1;32m----> <a href='vscode-notebook-cell:/c%3A/Users/karth/Desktop/PhD%20projects/immuneML/dev_immuneML/immuneML/immuneML/ml_methods/Sklearn_jupyter.ipynb#ch0000019?line=0'>1</a>\u001b[0m ereg\u001b[39m.\u001b[39m_final_estimator\n",
      "\u001b[1;31mNameError\u001b[0m: name 'ereg' is not defined"
     ]
    }
   ],
   "source": [
    "ereg._final_estimator"
   ]
  },
  {
   "cell_type": "code",
   "execution_count": 2,
   "metadata": {},
   "outputs": [],
   "source": [
    "import secrets"
   ]
  },
  {
   "cell_type": "code",
   "execution_count": 3,
   "metadata": {},
   "outputs": [
    {
     "data": {
      "text/plain": [
       "'061ba89f50bd126735ae721efdf4754fc28bbabd426337377d0f7cd0bdb39cb5'"
      ]
     },
     "execution_count": 3,
     "metadata": {},
     "output_type": "execute_result"
    }
   ],
   "source": [
    "secrets.token_hex(32)"
   ]
  },
  {
   "cell_type": "code",
   "execution_count": 5,
   "metadata": {},
   "outputs": [
    {
     "data": {
      "text/plain": [
       "{'C': 2.195254015709299, 'penalty': 'l1'}"
      ]
     },
     "execution_count": 5,
     "metadata": {},
     "output_type": "execute_result"
    }
   ],
   "source": [
    "from sklearn.datasets import load_iris\n",
    "from sklearn.linear_model import LogisticRegression\n",
    "from sklearn.model_selection import RandomizedSearchCV\n",
    "from scipy.stats import uniform\n",
    "iris = load_iris()\n",
    "logistic = LogisticRegression(solver='saga', tol=1e-2, max_iter=200,\n",
    "                              random_state=0)\n",
    "distributions = dict(C=uniform(loc=0, scale=4),\n",
    "                     penalty=['l2', 'l1'])\n",
    "clf = RandomizedSearchCV(logistic, distributions, random_state=0)\n",
    "search = clf.fit(iris.data, iris.target)\n",
    "search.best_params_\n"
   ]
  },
  {
   "cell_type": "code",
   "execution_count": 23,
   "metadata": {},
   "outputs": [
    {
     "data": {
      "text/plain": [
       "'LogisticRegression'"
      ]
     },
     "execution_count": 23,
     "metadata": {},
     "output_type": "execute_result"
    }
   ],
   "source": [
    "search.best_estimator_.__class__.__name__"
   ]
  },
  {
   "cell_type": "code",
   "execution_count": 15,
   "metadata": {},
   "outputs": [
    {
     "data": {
      "text/plain": [
       "LogisticRegression(C=2.195254015709299, max_iter=200, penalty='l1',\n",
       "                   random_state=0, solver='saga', tol=0.01)"
      ]
     },
     "execution_count": 15,
     "metadata": {},
     "output_type": "execute_result"
    }
   ],
   "source": [
    "search.best_estimator_"
   ]
  },
  {
   "cell_type": "code",
   "execution_count": 26,
   "metadata": {},
   "outputs": [],
   "source": [
    "import dill"
   ]
  },
  {
   "cell_type": "code",
   "execution_count": 27,
   "metadata": {},
   "outputs": [
    {
     "data": {
      "text/plain": [
       "'7adf9e73165b41260977c4f16a22d3f587445df9d0495ee0417bf01b33307f50'"
      ]
     },
     "execution_count": 27,
     "metadata": {},
     "output_type": "execute_result"
    }
   ],
   "source": [
    "secrets.token_hex(32)\n"
   ]
  },
  {
   "cell_type": "code",
   "execution_count": 24,
   "metadata": {},
   "outputs": [
    {
     "ename": "AttributeError",
     "evalue": "'str' object has no attribute 'open'",
     "output_type": "error",
     "traceback": [
      "\u001b[1;31m---------------------------------------------------------------------------\u001b[0m",
      "\u001b[1;31mAttributeError\u001b[0m                            Traceback (most recent call last)",
      "\u001b[1;32mc:\\Users\\karth\\Desktop\\PhD projects\\immuneML\\dev_immuneML\\immuneML\\immuneML\\ml_methods\\Sklearn_jupyter.ipynb Cell 25'\u001b[0m in \u001b[0;36m<cell line: 2>\u001b[1;34m()\u001b[0m\n\u001b[0;32m      <a href='vscode-notebook-cell:/c%3A/Users/karth/Desktop/PhD%20projects/immuneML/dev_immuneML/immuneML/immuneML/ml_methods/Sklearn_jupyter.ipynb#ch0000023?line=0'>1</a>\u001b[0m file_path \u001b[39m=\u001b[39m \u001b[39mf\u001b[39m\u001b[39m\"\u001b[39m\u001b[39m{\u001b[39;00msearch\u001b[39m.\u001b[39mbest_estimator_\u001b[39m.\u001b[39m\u001b[39m__class__\u001b[39m\u001b[39m.\u001b[39m\u001b[39m__name__\u001b[39m\u001b[39m}\u001b[39;00m\u001b[39m.pickle\u001b[39m\u001b[39m\"\u001b[39m\n\u001b[1;32m----> <a href='vscode-notebook-cell:/c%3A/Users/karth/Desktop/PhD%20projects/immuneML/dev_immuneML/immuneML/immuneML/ml_methods/Sklearn_jupyter.ipynb#ch0000023?line=1'>2</a>\u001b[0m \u001b[39mwith\u001b[39;00m file_path\u001b[39m.\u001b[39;49mopen(\u001b[39m\"\u001b[39m\u001b[39mwb\u001b[39m\u001b[39m\"\u001b[39m) \u001b[39mas\u001b[39;00m file:\n\u001b[0;32m      <a href='vscode-notebook-cell:/c%3A/Users/karth/Desktop/PhD%20projects/immuneML/dev_immuneML/immuneML/immuneML/ml_methods/Sklearn_jupyter.ipynb#ch0000023?line=2'>3</a>\u001b[0m     dill\u001b[39m.\u001b[39mdump(search, file)\n",
      "\u001b[1;31mAttributeError\u001b[0m: 'str' object has no attribute 'open'"
     ]
    }
   ],
   "source": [
    "file_path = f\"{search.best_estimator_.__class__.__name__}.pickle\"\n",
    "with file_path.open(\"wb\") as file:\n",
    "    dill.dump(search, file)\n"
   ]
  },
  {
   "cell_type": "code",
   "execution_count": 11,
   "metadata": {},
   "outputs": [],
   "source": [
    "from immuneML.util.PathBuilder import PathBuilder\n"
   ]
  },
  {
   "cell_type": "code",
   "execution_count": 36,
   "metadata": {},
   "outputs": [
    {
     "data": {
      "text/plain": [
       "WindowsPath('../ml_methods')"
      ]
     },
     "execution_count": 36,
     "metadata": {},
     "output_type": "execute_result"
    }
   ],
   "source": [
    "path = PathBuilder.build(\"../ml_methods\")\n",
    "path\n"
   ]
  },
  {
   "cell_type": "code",
   "execution_count": 38,
   "metadata": {},
   "outputs": [],
   "source": [
    "import hashlib\n",
    "import hmac\n",
    "import dill\n",
    "\n",
    "data = dill.dumps(search)\n",
    "digest = hmac.new(b'7adf9e73165b41260977c4f16a22d3f587445df9d0495ee0417bf01b33307f50',\n",
    "                  data, hashlib.blake2b).hexdigest()\n",
    "\n",
    "path = PathBuilder.build(\"../ml_methods\")\n",
    "\n",
    "file_path = path / \\\n",
    "    f\"{str(digest)}-{search.best_estimator_.__class__.__name__}.pickle\"\n",
    "\n",
    "with file_path.open(\"wb\") as file:\n",
    "    dill.dump(search, file)\n",
    "                 \n",
    "\n"
   ]
  },
  {
   "cell_type": "code",
   "execution_count": 51,
   "metadata": {},
   "outputs": [
    {
     "data": {
      "text/plain": [
       "bytes"
      ]
     },
     "execution_count": 51,
     "metadata": {},
     "output_type": "execute_result"
    }
   ],
   "source": [
    "type(data)"
   ]
  },
  {
   "cell_type": "code",
   "execution_count": null,
   "metadata": {},
   "outputs": [],
   "source": [
    "file.read()"
   ]
  },
  {
   "cell_type": "code",
   "execution_count": 55,
   "metadata": {},
   "outputs": [],
   "source": [
    "pickle_in = open(filename,\"rb\")"
   ]
  },
  {
   "cell_type": "code",
   "execution_count": 56,
   "metadata": {},
   "outputs": [
    {
     "data": {
      "text/plain": [
       "<_io.BufferedReader name='9ae070f604aa6c54817db3d0719276d7c1f02682e3a18966b1f92d2c04fd678371386d7587ea0521b12acf36aa22dd573e9be111263d57098fee3699211fe3e3-LogisticRegression.pickle'>"
      ]
     },
     "execution_count": 56,
     "metadata": {},
     "output_type": "execute_result"
    }
   ],
   "source": [
    "pickle_in"
   ]
  },
  {
   "cell_type": "code",
   "execution_count": 10,
   "metadata": {},
   "outputs": [
    {
     "ename": "NameError",
     "evalue": "name 'dat' is not defined",
     "output_type": "error",
     "traceback": [
      "\u001b[1;31m---------------------------------------------------------------------------\u001b[0m",
      "\u001b[1;31mNameError\u001b[0m                                 Traceback (most recent call last)",
      "\u001b[1;32mc:\\Users\\karth\\Desktop\\PhD projects\\immuneML\\dev_immuneML\\immuneML\\immuneML\\ml_methods\\Sklearn_jupyter.ipynb Cell 34'\u001b[0m in \u001b[0;36m<cell line: 1>\u001b[1;34m()\u001b[0m\n\u001b[1;32m----> <a href='vscode-notebook-cell:/c%3A/Users/karth/Desktop/PhD%20projects/immuneML/dev_immuneML/immuneML/immuneML/ml_methods/Sklearn_jupyter.ipynb#ch0000033?line=0'>1</a>\u001b[0m dat\n",
      "\u001b[1;31mNameError\u001b[0m: name 'dat' is not defined"
     ]
    }
   ],
   "source": [
    "dat"
   ]
  },
  {
   "cell_type": "code",
   "execution_count": 58,
   "metadata": {},
   "outputs": [],
   "source": [
    "with open(filename, \"rb\") as f:\n",
    "    read_data = f.read()\n"
   ]
  },
  {
   "cell_type": "code",
   "execution_count": 9,
   "metadata": {},
   "outputs": [
    {
     "ename": "NameError",
     "evalue": "name 'read_dat' is not defined",
     "output_type": "error",
     "traceback": [
      "\u001b[1;31m---------------------------------------------------------------------------\u001b[0m",
      "\u001b[1;31mNameError\u001b[0m                                 Traceback (most recent call last)",
      "\u001b[1;32mc:\\Users\\karth\\Desktop\\PhD projects\\immuneML\\dev_immuneML\\immuneML\\immuneML\\ml_methods\\Sklearn_jupyter.ipynb Cell 36'\u001b[0m in \u001b[0;36m<cell line: 1>\u001b[1;34m()\u001b[0m\n\u001b[1;32m----> <a href='vscode-notebook-cell:/c%3A/Users/karth/Desktop/PhD%20projects/immuneML/dev_immuneML/immuneML/immuneML/ml_methods/Sklearn_jupyter.ipynb#ch0000035?line=0'>1</a>\u001b[0m read_dat\n",
      "\u001b[1;31mNameError\u001b[0m: name 'read_dat' is not defined"
     ]
    }
   ],
   "source": [
    "read_dat"
   ]
  },
  {
   "cell_type": "code",
   "execution_count": 60,
   "metadata": {},
   "outputs": [
    {
     "data": {
      "text/plain": [
       "bytes"
      ]
     },
     "execution_count": 60,
     "metadata": {},
     "output_type": "execute_result"
    }
   ],
   "source": [
    "type(read_data)"
   ]
  },
  {
   "cell_type": "code",
   "execution_count": 57,
   "metadata": {},
   "outputs": [
    {
     "ename": "UnsupportedOperation",
     "evalue": "read",
     "output_type": "error",
     "traceback": [
      "\u001b[1;31m---------------------------------------------------------------------------\u001b[0m",
      "\u001b[1;31mUnsupportedOperation\u001b[0m                      Traceback (most recent call last)",
      "\u001b[1;32mc:\\Users\\karth\\Desktop\\PhD projects\\immuneML\\dev_immuneML\\immuneML\\immuneML\\ml_methods\\Sklearn_jupyter.ipynb Cell 34'\u001b[0m in \u001b[0;36m<cell line: 1>\u001b[1;34m()\u001b[0m\n\u001b[1;32m----> <a href='vscode-notebook-cell:/c%3A/Users/karth/Desktop/PhD%20projects/immuneML/dev_immuneML/immuneML/immuneML/ml_methods/Sklearn_jupyter.ipynb#ch0000037?line=0'>1</a>\u001b[0m bytes_data \u001b[39m=\u001b[39m file\u001b[39m.\u001b[39;49mread(pickle_in)\n",
      "\u001b[1;31mUnsupportedOperation\u001b[0m: read"
     ]
    }
   ],
   "source": [
    "bytes_data = file.read(pickle_in)"
   ]
  },
  {
   "cell_type": "code",
   "execution_count": 39,
   "metadata": {},
   "outputs": [
    {
     "data": {
      "text/plain": [
       "WindowsPath('../ml_methods/9ae070f604aa6c54817db3d0719276d7c1f02682e3a18966b1f92d2c04fd678371386d7587ea0521b12acf36aa22dd573e9be111263d57098fee3699211fe3e3-LogisticRegression.pickle')"
      ]
     },
     "execution_count": 39,
     "metadata": {},
     "output_type": "execute_result"
    }
   ],
   "source": [
    "file_path"
   ]
  },
  {
   "cell_type": "code",
   "execution_count": 42,
   "metadata": {},
   "outputs": [
    {
     "data": {
      "text/plain": [
       "'9ae070f604aa6c54817db3d0719276d7c1f02682e3a18966b1f92d2c04fd678371386d7587ea0521b12acf36aa22dd573e9be111263d57098fee3699211fe3e3-LogisticRegression.pickle'"
      ]
     },
     "execution_count": 42,
     "metadata": {},
     "output_type": "execute_result"
    }
   ],
   "source": [
    "file_path.name"
   ]
  },
  {
   "cell_type": "code",
   "execution_count": 43,
   "metadata": {},
   "outputs": [],
   "source": [
    "filename = file_path.name\n",
    "digest, pickle_data = filename.split('-')\n"
   ]
  },
  {
   "cell_type": "code",
   "execution_count": 44,
   "metadata": {},
   "outputs": [
    {
     "data": {
      "text/plain": [
       "'9ae070f604aa6c54817db3d0719276d7c1f02682e3a18966b1f92d2c04fd678371386d7587ea0521b12acf36aa22dd573e9be111263d57098fee3699211fe3e3'"
      ]
     },
     "execution_count": 44,
     "metadata": {},
     "output_type": "execute_result"
    }
   ],
   "source": [
    "digest"
   ]
  },
  {
   "cell_type": "code",
   "execution_count": 45,
   "metadata": {},
   "outputs": [
    {
     "data": {
      "text/plain": [
       "'LogisticRegression.pickle'"
      ]
     },
     "execution_count": 45,
     "metadata": {},
     "output_type": "execute_result"
    }
   ],
   "source": [
    "pickle_data"
   ]
  },
  {
   "cell_type": "code",
   "execution_count": 63,
   "metadata": {},
   "outputs": [
    {
     "name": "stdout",
     "output_type": "stream",
     "text": [
      "9ae070f604aa6c54817db3d0719276d7c1f02682e3a18966b1f92d2c04fd678371386d7587ea0521b12acf36aa22dd573e9be111263d57098fee3699211fe3e3\n"
     ]
    }
   ],
   "source": [
    "import hashlib\n",
    "import hmac\n",
    "import pickle\n",
    "import secrets\n",
    "\n",
    "filename = file_path.name\n",
    "digest, pickle_data = filename.split('-')\n",
    "\n",
    "expected_digest = hmac.new(\n",
    "    b'7adf9e73165b41260977c4f16a22d3f587445df9d0495ee0417bf01b33307f50', read_data, hashlib.blake2b).hexdigest()\n",
    "print(expected_digest)\n",
    "if not secrets.compare_digest(digest, expected_digest):\n",
    "    print('Invalid signature')\n",
    "    exit(1)\n",
    "\n",
    "obj = pickle.loads(data)\n"
   ]
  },
  {
   "cell_type": "code",
   "execution_count": 52,
   "metadata": {},
   "outputs": [
    {
     "data": {
      "text/plain": [
       "sklearn.model_selection._search.RandomizedSearchCV"
      ]
     },
     "execution_count": 52,
     "metadata": {},
     "output_type": "execute_result"
    }
   ],
   "source": [
    "type(obj)"
   ]
  },
  {
   "cell_type": "code",
   "execution_count": 7,
   "metadata": {},
   "outputs": [
    {
     "name": "stdout",
     "output_type": "stream",
     "text": [
      "7adf9e73165b41260977c4f16a22d3f587445df9d0495ee0417bf01b33307f50\n"
     ]
    }
   ],
   "source": [
    "from dotenv import load_dotenv\n",
    "import os\n",
    "\n",
    "load_dotenv()\n",
    "print(os.environ.get('secret'))\n"
   ]
  },
  {
   "cell_type": "code",
   "execution_count": 12,
   "metadata": {},
   "outputs": [
    {
     "name": "stdout",
     "output_type": "stream",
     "text": [
      "984b044f04feda9e270e9080f16c2bc9c4341fa3e88ff508f3572e847ad22a4faeff52bbd90718bcf1314585782a5c193203623fec20959fe19fab37508d141f\n",
      "<class 'str'>\n"
     ]
    }
   ],
   "source": [
    "import hashlib\n",
    "import hmac\n",
    "import dill\n",
    "\n",
    "data = dill.dumps(search)\n",
    "digest = hmac.new(str.encode(os.environ.get('secret')),\n",
    "                  data, hashlib.blake2b).hexdigest()\n",
    "print(digest)\n",
    "print(type(digest))\n",
    "\n",
    "path = PathBuilder.build(\"../ml_methods\")\n",
    "\n",
    "file_path = path / \\\n",
    "    f\"{str(digest)}-{search.best_estimator_.__class__.__name__}.pickle\"\n",
    "\n",
    "with file_path.open(\"wb\") as file:\n",
    "    dill.dump(search, file)\n"
   ]
  },
  {
   "cell_type": "code",
   "execution_count": 14,
   "metadata": {},
   "outputs": [],
   "source": [
    "filename = file_path.name"
   ]
  },
  {
   "cell_type": "code",
   "execution_count": 15,
   "metadata": {},
   "outputs": [],
   "source": [
    "with open(filename, \"rb\") as f:\n",
    "    read_data = f.read()\n"
   ]
  },
  {
   "cell_type": "code",
   "execution_count": 17,
   "metadata": {},
   "outputs": [
    {
     "data": {
      "text/plain": [
       "'984b044f04feda9e270e9080f16c2bc9c4341fa3e88ff508f3572e847ad22a4faeff52bbd90718bcf1314585782a5c193203623fec20959fe19fab37508d141f'"
      ]
     },
     "execution_count": 17,
     "metadata": {},
     "output_type": "execute_result"
    }
   ],
   "source": [
    "filename.split('-')[0]"
   ]
  },
  {
   "cell_type": "code",
   "execution_count": 18,
   "metadata": {},
   "outputs": [
    {
     "name": "stdout",
     "output_type": "stream",
     "text": [
      "30535785f03a5c28ab9157726c6273964d0a55c97a6f15e30e17314b2049a731416e98f8a85a37aa051a5218d79ae206325f09766b71b04af3850a34a5241003\n"
     ]
    },
    {
     "ename": "SystemExit",
     "evalue": "Invalid Signature",
     "output_type": "error",
     "traceback": [
      "An exception has occurred, use %tb to see the full traceback.\n",
      "\u001b[1;31mSystemExit\u001b[0m\u001b[1;31m:\u001b[0m Invalid Signature\n"
     ]
    }
   ],
   "source": [
    "import hashlib\n",
    "import hmac\n",
    "import pickle\n",
    "import secrets\n",
    "\n",
    "filename = file_path.name\n",
    "digest, pickle_data = filename.split('-')\n",
    "\n",
    "expected_digest = hmac.new(\n",
    "    b'secret', read_data, hashlib.blake2b).hexdigest()\n",
    "print(expected_digest)\n",
    "if not secrets.compare_digest(digest, expected_digest):\n",
    "    raise SystemExit(\"Invalid Signature\")\n",
    "    exit(1)\n",
    "\n",
    "obj = dill.loads(data)\n"
   ]
  },
  {
   "cell_type": "code",
   "execution_count": 89,
   "metadata": {},
   "outputs": [
    {
     "data": {
      "text/plain": [
       "RandomizedSearchCV(estimator=LogisticRegression(max_iter=200, random_state=0,\n",
       "                                                solver='saga', tol=0.01),\n",
       "                   param_distributions={'C': <scipy.stats._distn_infrastructure.rv_frozen object at 0x00000285B5619C40>,\n",
       "                                        'penalty': ['l2', 'l1']},\n",
       "                   random_state=0)"
      ]
     },
     "execution_count": 89,
     "metadata": {},
     "output_type": "execute_result"
    }
   ],
   "source": [
    "obj"
   ]
  },
  {
   "cell_type": "code",
   "execution_count": 80,
   "metadata": {},
   "outputs": [],
   "source": [
    "model = search.best_estimator_"
   ]
  },
  {
   "cell_type": "code",
   "execution_count": 108,
   "metadata": {},
   "outputs": [
    {
     "ename": "ValueError",
     "evalue": "Initial types are required. See usage of convert(...) in skl2onnx.convert for details",
     "output_type": "error",
     "traceback": [
      "\u001b[1;31m---------------------------------------------------------------------------\u001b[0m",
      "\u001b[1;31mValueError\u001b[0m                                Traceback (most recent call last)",
      "\u001b[1;32mc:\\Users\\karth\\Desktop\\PhD projects\\immuneML\\dev_immuneML\\immuneML\\immuneML\\ml_methods\\Sklearn_jupyter.ipynb Cell 52'\u001b[0m in \u001b[0;36m<cell line: 5>\u001b[1;34m()\u001b[0m\n\u001b[0;32m      <a href='vscode-notebook-cell:/c%3A/Users/karth/Desktop/PhD%20projects/immuneML/dev_immuneML/immuneML/immuneML/ml_methods/Sklearn_jupyter.ipynb#ch0000050?line=1'>2</a>\u001b[0m \u001b[39mfrom\u001b[39;00m \u001b[39mskl2onnx\u001b[39;00m\u001b[39m.\u001b[39;00m\u001b[39mcommon\u001b[39;00m\u001b[39m.\u001b[39;00m\u001b[39mdata_types\u001b[39;00m \u001b[39mimport\u001b[39;00m FloatTensorType\n\u001b[0;32m      <a href='vscode-notebook-cell:/c%3A/Users/karth/Desktop/PhD%20projects/immuneML/dev_immuneML/immuneML/immuneML/ml_methods/Sklearn_jupyter.ipynb#ch0000050?line=3'>4</a>\u001b[0m \u001b[39m# initial_type = [('float_input', FloatTensorType([None, 10]))]\u001b[39;00m\n\u001b[1;32m----> <a href='vscode-notebook-cell:/c%3A/Users/karth/Desktop/PhD%20projects/immuneML/dev_immuneML/immuneML/immuneML/ml_methods/Sklearn_jupyter.ipynb#ch0000050?line=4'>5</a>\u001b[0m onx \u001b[39m=\u001b[39m convert_sklearn(model, initial_types\u001b[39m=\u001b[39;49m\u001b[39mNone\u001b[39;49;00m)\n\u001b[0;32m      <a href='vscode-notebook-cell:/c%3A/Users/karth/Desktop/PhD%20projects/immuneML/dev_immuneML/immuneML/immuneML/ml_methods/Sklearn_jupyter.ipynb#ch0000050?line=5'>6</a>\u001b[0m \u001b[39mwith\u001b[39;00m \u001b[39mopen\u001b[39m(\u001b[39m\"\u001b[39m\u001b[39mlogreg_iris.onnx\u001b[39m\u001b[39m\"\u001b[39m, \u001b[39m\"\u001b[39m\u001b[39mwb\u001b[39m\u001b[39m\"\u001b[39m) \u001b[39mas\u001b[39;00m f:\n\u001b[0;32m      <a href='vscode-notebook-cell:/c%3A/Users/karth/Desktop/PhD%20projects/immuneML/dev_immuneML/immuneML/immuneML/ml_methods/Sklearn_jupyter.ipynb#ch0000050?line=6'>7</a>\u001b[0m     f\u001b[39m.\u001b[39mwrite(onx\u001b[39m.\u001b[39mSerializeToString())\n",
      "File \u001b[1;32m~\\anaconda3\\envs\\test\\lib\\site-packages\\skl2onnx\\convert.py:157\u001b[0m, in \u001b[0;36mconvert_sklearn\u001b[1;34m(model, name, initial_types, doc_string, target_opset, custom_conversion_functions, custom_shape_calculators, custom_parsers, options, intermediate, white_op, black_op, final_types, dtype, naming, verbose)\u001b[0m\n\u001b[0;32m    <a href='file:///c%3A/Users/karth/anaconda3/envs/test/lib/site-packages/skl2onnx/convert.py?line=154'>155</a>\u001b[0m         initial_types \u001b[39m=\u001b[39m model\u001b[39m.\u001b[39minfer_initial_types()\n\u001b[0;32m    <a href='file:///c%3A/Users/karth/anaconda3/envs/test/lib/site-packages/skl2onnx/convert.py?line=155'>156</a>\u001b[0m     \u001b[39melse\u001b[39;00m:\n\u001b[1;32m--> <a href='file:///c%3A/Users/karth/anaconda3/envs/test/lib/site-packages/skl2onnx/convert.py?line=156'>157</a>\u001b[0m         \u001b[39mraise\u001b[39;00m \u001b[39mValueError\u001b[39;00m(\u001b[39m'\u001b[39m\u001b[39mInitial types are required. See usage of \u001b[39m\u001b[39m'\u001b[39m\n\u001b[0;32m    <a href='file:///c%3A/Users/karth/anaconda3/envs/test/lib/site-packages/skl2onnx/convert.py?line=157'>158</a>\u001b[0m                          \u001b[39m'\u001b[39m\u001b[39mconvert(...) in skl2onnx.convert for details\u001b[39m\u001b[39m'\u001b[39m)\n\u001b[0;32m    <a href='file:///c%3A/Users/karth/anaconda3/envs/test/lib/site-packages/skl2onnx/convert.py?line=159'>160</a>\u001b[0m \u001b[39mif\u001b[39;00m name \u001b[39mis\u001b[39;00m \u001b[39mNone\u001b[39;00m:\n\u001b[0;32m    <a href='file:///c%3A/Users/karth/anaconda3/envs/test/lib/site-packages/skl2onnx/convert.py?line=160'>161</a>\u001b[0m     name \u001b[39m=\u001b[39m \u001b[39mstr\u001b[39m(uuid4()\u001b[39m.\u001b[39mhex)\n",
      "\u001b[1;31mValueError\u001b[0m: Initial types are required. See usage of convert(...) in skl2onnx.convert for details"
     ]
    }
   ],
   "source": [
    "from skl2onnx import convert_sklearn\n",
    "from skl2onnx.common.data_types import FloatTensorType\n",
    "\n",
    "initial_type = [('float_input', FloatTensorType([None, 10]))]\n",
    "onx = convert_sklearn(model, initial_types=initial_type)\n",
    "with open(\"logreg_iris.onnx\", \"wb\") as f:\n",
    "    f.write(onx.SerializeToString())\n"
   ]
  },
  {
   "cell_type": "code",
   "execution_count": 99,
   "metadata": {},
   "outputs": [
    {
     "data": {
      "text/plain": [
       "array([-0.00551456, -0.04464164,  0.04229559,  0.04941532,  0.02457414,\n",
       "       -0.02386057,  0.07441156, -0.03949338,  0.05228   ,  0.02791705],\n",
       "      dtype=float32)"
      ]
     },
     "execution_count": 99,
     "metadata": {},
     "output_type": "execute_result"
    }
   ],
   "source": [
    "X_test.astype(numpy.float32)[0]\n"
   ]
  },
  {
   "cell_type": "code",
   "execution_count": null,
   "metadata": {},
   "outputs": [],
   "source": [
    "sess.run()"
   ]
  },
  {
   "cell_type": "code",
   "execution_count": 100,
   "metadata": {},
   "outputs": [],
   "source": [
    "import numpy\n",
    "import onnxruntime as rt"
   ]
  },
  {
   "cell_type": "code",
   "execution_count": 101,
   "metadata": {},
   "outputs": [],
   "source": [
    "X_train, X_test, y_train, y_test = train_test_split(X, y)\n"
   ]
  },
  {
   "cell_type": "code",
   "execution_count": 102,
   "metadata": {},
   "outputs": [
    {
     "name": "stdout",
     "output_type": "stream",
     "text": [
      "float_input\n",
      "[0 0 1 1 0 0 0 0 0 0 0 1 0 0 1 1 0 0 1 1 0 0 1 0 1 1 0 0 1 0 0 1 1 0 1 0 1\n",
      " 1 1 0 1 1 1 1 0 1 1 0 0 1 1 0 0 1 1 1 0 0 0 1 1 0 0 1 1 0 1 1 0 1 1 1 1 0\n",
      " 1 1 0 0 0 1 1 0 1 1 1 1 1 1 0 0 1 1 0 0 1 0 1 1 1 1 0 0 1 1 1 0 1 1 1 1 0]\n"
     ]
    }
   ],
   "source": [
    "sess = rt.InferenceSession(\"logreg_iris.onnx\" , providers=[ 'CUDAExecutionProvider', 'CPUExecutionProvider'])\n",
    "input_name = sess.get_inputs()[0].name\n",
    "print(input_name)\n",
    "pred_onx = sess.run(None, {input_name: X_test.astype(numpy.float32)})[0]\n",
    "print(pred_onx)\n"
   ]
  },
  {
   "cell_type": "code",
   "execution_count": 104,
   "metadata": {},
   "outputs": [
    {
     "name": "stdout",
     "output_type": "stream",
     "text": [
      "NodeArg(name='float_input', type='tensor(float)', shape=[None, 10])\n",
      "NodeArg(name='output_label', type='tensor(int64)', shape=[None])\n",
      "[0 0 1 2 0 0 1 0 0 1 0 1 1 0 1 1 0 0 0 1 0 0 1 1 0 1 1 0 2 1 0 1 2 1 1 0 0\n",
      " 1 1 2 1 2 1 2 1 2 1 2 1 1 1 0 0 2 1 1 2 0 0 1 1 1 0 0 1 0 1 1 1 1 0 1 1 1\n",
      " 2 1 2 0 0 1 1 0 1 1 1 2 0 1 1 0 0 2 1 1 0 0 0 1 1 1 2 1 0 2 1 1 0 1 2 1 1]\n"
     ]
    }
   ],
   "source": [
    "import numpy\n",
    "import onnxruntime as rt\n",
    "\n",
    "sess = rt.InferenceSession(\"logreg_iris.onnx\", providers=[ 'CUDAExecutionProvider', 'CPUExecutionProvider'])\n",
    "input_name = sess.get_inputs()[0].name\n",
    "print(sess.get_inputs()[0])\n",
    "label_name = sess.get_outputs()[0].name\n",
    "print(sess.get_outputs()[0])\n",
    "pred_onx = sess.run(\n",
    "    [label_name], {input_name: X_test.astype(numpy.float32)})[0]\n",
    "print(pred_onx)\n"
   ]
  },
  {
   "cell_type": "code",
   "execution_count": 109,
   "metadata": {},
   "outputs": [
    {
     "name": "stderr",
     "output_type": "stream",
     "text": [
      "C:\\Users\\karth\\anaconda3\\envs\\test\\lib\\site-packages\\tqdm\\auto.py:22: TqdmWarning: IProgress not found. Please update jupyter and ipywidgets. See https://ipywidgets.readthedocs.io/en/stable/user_install.html\n",
      "  from .autonotebook import tqdm as notebook_tqdm\n"
     ]
    }
   ],
   "source": [
    "import os\n",
    "import pickle\n",
    "import shutil\n",
    "from unittest import TestCase\n",
    "\n",
    "import numpy as np\n",
    "from scipy import sparse\n",
    "from sklearn.neighbors import KNeighborsClassifier\n",
    "from sklearn.svm import SVC\n",
    "\n",
    "from immuneML.IO.ml_method.MLMethodConfiguration import MLMethodConfiguration\n",
    "from immuneML.data_model.encoded_data.EncodedData import EncodedData\n",
    "from immuneML.environment.EnvironmentSettings import EnvironmentSettings\n",
    "from immuneML.environment.Label import Label\n",
    "from immuneML.ml_methods.KNN import KNN\n",
    "from immuneML.ml_methods.SVM import SVM\n",
    "from immuneML.util.PathBuilder import PathBuilder\n"
   ]
  },
  {
   "cell_type": "code",
   "execution_count": null,
   "metadata": {},
   "outputs": [],
   "source": [
    "def test_load():\n",
    "    x = np.array([[1, 0, 0], [0, 1, 1], [1, 1, 1], [0, 1, 1]])\n",
    "    y = {\"default\": np.array([1, 0, 2, 0])}\n",
    "    x = np.array([[1, 0, 0], [0, 1, 1], [1, 1, 1], [0, 1, 1]])\n",
    "\n",
    "\n",
    "    knn = KNN()\n",
    "    knn.fit(EncodedData(examples=sparse.csr_matrix(\n",
    "         x), labels=y), Label(\"default\"))\n",
    "\n",
    "     path = EnvironmentSettings.root_path / \"test/tmp/loadtestsklearn/\"\n",
    "        PathBuilder.build(path)\n",
    "\n",
    "       with open(path / \"knn.pickle\", \"wb\") as file:\n",
    "            pickle.dump(knn.model, file)\n",
    "        \n",
    "\n",
    "        config = MLMethodConfiguration()\n",
    "        config.labels_with_values = {\"default\": [0, 1, 2]}\n",
    "        config.store(path / \"config.json\")\n",
    "\n",
    "        knn2 = KNN()\n",
    "        knn2.load(path)\n",
    "\n",
    "        self.assertTrue(isinstance(knn2.model, KNeighborsClassifier))\n",
    "\n",
    "        shutil.rmtree(path)\n"
   ]
  },
  {
   "cell_type": "code",
   "execution_count": 113,
   "metadata": {},
   "outputs": [],
   "source": [
    "data = np.load(r\"C:\\Users\\karth\\Desktop\\PhD projects\\immuneML\\dev_immuneML\\immuneML\\output_dir1\\synthetic_dataset\\result\\datasets\\my_synthetic_dataset\\repertoires\\rep_0.npy\")\n"
   ]
  },
  {
   "cell_type": "code",
   "execution_count": null,
   "metadata": {},
   "outputs": [],
   "source": []
  },
  {
   "cell_type": "code",
   "execution_count": 22,
   "metadata": {},
   "outputs": [],
   "source": [
    "import pandas as pd"
   ]
  },
  {
   "cell_type": "code",
   "execution_count": 23,
   "metadata": {},
   "outputs": [],
   "source": [
    "meta_data = pd.read_csv(r\"C:\\Users\\karth\\Desktop\\PhD projects\\immuneML\\dev_immuneML\\immuneML\\output_dir1\\synthetic_dataset\\result\\simulation_instruction\\exported_dataset\\airr\\metadata.csv\")\n"
   ]
  },
  {
   "cell_type": "code",
   "execution_count": 24,
   "metadata": {},
   "outputs": [
    {
     "data": {
      "text/html": [
       "<div>\n",
       "<style scoped>\n",
       "    .dataframe tbody tr th:only-of-type {\n",
       "        vertical-align: middle;\n",
       "    }\n",
       "\n",
       "    .dataframe tbody tr th {\n",
       "        vertical-align: top;\n",
       "    }\n",
       "\n",
       "    .dataframe thead th {\n",
       "        text-align: right;\n",
       "    }\n",
       "</style>\n",
       "<table border=\"1\" class=\"dataframe\">\n",
       "  <thead>\n",
       "    <tr style=\"text-align: right;\">\n",
       "      <th></th>\n",
       "      <th>my_signal</th>\n",
       "      <th>subject_id</th>\n",
       "      <th>identifier</th>\n",
       "      <th>filename</th>\n",
       "    </tr>\n",
       "  </thead>\n",
       "  <tbody>\n",
       "    <tr>\n",
       "      <th>0</th>\n",
       "      <td>True</td>\n",
       "      <td>rep_0</td>\n",
       "      <td>db5692335878412aaf4101f032ab5ad2</td>\n",
       "      <td>repertoires\\db5692335878412aaf4101f032ab5ad2.tsv</td>\n",
       "    </tr>\n",
       "    <tr>\n",
       "      <th>1</th>\n",
       "      <td>True</td>\n",
       "      <td>rep_1</td>\n",
       "      <td>5e99bfa08fa8420f8e74799411db0412</td>\n",
       "      <td>repertoires\\5e99bfa08fa8420f8e74799411db0412.tsv</td>\n",
       "    </tr>\n",
       "    <tr>\n",
       "      <th>2</th>\n",
       "      <td>True</td>\n",
       "      <td>rep_2</td>\n",
       "      <td>5cc98ccfdb534c4a87b6bf7a8e0c6b91</td>\n",
       "      <td>repertoires\\5cc98ccfdb534c4a87b6bf7a8e0c6b91.tsv</td>\n",
       "    </tr>\n",
       "    <tr>\n",
       "      <th>3</th>\n",
       "      <td>True</td>\n",
       "      <td>rep_3</td>\n",
       "      <td>d500763518ee441cacfedc45a3c50078</td>\n",
       "      <td>repertoires\\d500763518ee441cacfedc45a3c50078.tsv</td>\n",
       "    </tr>\n",
       "    <tr>\n",
       "      <th>4</th>\n",
       "      <td>True</td>\n",
       "      <td>rep_4</td>\n",
       "      <td>37c963b40e2349bbaed9371021319042</td>\n",
       "      <td>repertoires\\37c963b40e2349bbaed9371021319042.tsv</td>\n",
       "    </tr>\n",
       "    <tr>\n",
       "      <th>...</th>\n",
       "      <td>...</td>\n",
       "      <td>...</td>\n",
       "      <td>...</td>\n",
       "      <td>...</td>\n",
       "    </tr>\n",
       "    <tr>\n",
       "      <th>95</th>\n",
       "      <td>False</td>\n",
       "      <td>rep_95</td>\n",
       "      <td>ae68359707ba44ada1628f6546f461ba</td>\n",
       "      <td>repertoires\\ae68359707ba44ada1628f6546f461ba.tsv</td>\n",
       "    </tr>\n",
       "    <tr>\n",
       "      <th>96</th>\n",
       "      <td>False</td>\n",
       "      <td>rep_96</td>\n",
       "      <td>e533cd6da607438f88b846535b6c0c08</td>\n",
       "      <td>repertoires\\e533cd6da607438f88b846535b6c0c08.tsv</td>\n",
       "    </tr>\n",
       "    <tr>\n",
       "      <th>97</th>\n",
       "      <td>False</td>\n",
       "      <td>rep_97</td>\n",
       "      <td>5d28b0c662cf4a8fbb830ba032631652</td>\n",
       "      <td>repertoires\\5d28b0c662cf4a8fbb830ba032631652.tsv</td>\n",
       "    </tr>\n",
       "    <tr>\n",
       "      <th>98</th>\n",
       "      <td>False</td>\n",
       "      <td>rep_98</td>\n",
       "      <td>93063c96c8bf4adfbc74cd2d25fdf2df</td>\n",
       "      <td>repertoires\\93063c96c8bf4adfbc74cd2d25fdf2df.tsv</td>\n",
       "    </tr>\n",
       "    <tr>\n",
       "      <th>99</th>\n",
       "      <td>False</td>\n",
       "      <td>rep_99</td>\n",
       "      <td>0e61180e312c4c5bada8de576092aa4e</td>\n",
       "      <td>repertoires\\0e61180e312c4c5bada8de576092aa4e.tsv</td>\n",
       "    </tr>\n",
       "  </tbody>\n",
       "</table>\n",
       "<p>100 rows × 4 columns</p>\n",
       "</div>"
      ],
      "text/plain": [
       "    my_signal subject_id                        identifier  \\\n",
       "0        True      rep_0  db5692335878412aaf4101f032ab5ad2   \n",
       "1        True      rep_1  5e99bfa08fa8420f8e74799411db0412   \n",
       "2        True      rep_2  5cc98ccfdb534c4a87b6bf7a8e0c6b91   \n",
       "3        True      rep_3  d500763518ee441cacfedc45a3c50078   \n",
       "4        True      rep_4  37c963b40e2349bbaed9371021319042   \n",
       "..        ...        ...                               ...   \n",
       "95      False     rep_95  ae68359707ba44ada1628f6546f461ba   \n",
       "96      False     rep_96  e533cd6da607438f88b846535b6c0c08   \n",
       "97      False     rep_97  5d28b0c662cf4a8fbb830ba032631652   \n",
       "98      False     rep_98  93063c96c8bf4adfbc74cd2d25fdf2df   \n",
       "99      False     rep_99  0e61180e312c4c5bada8de576092aa4e   \n",
       "\n",
       "                                            filename  \n",
       "0   repertoires\\db5692335878412aaf4101f032ab5ad2.tsv  \n",
       "1   repertoires\\5e99bfa08fa8420f8e74799411db0412.tsv  \n",
       "2   repertoires\\5cc98ccfdb534c4a87b6bf7a8e0c6b91.tsv  \n",
       "3   repertoires\\d500763518ee441cacfedc45a3c50078.tsv  \n",
       "4   repertoires\\37c963b40e2349bbaed9371021319042.tsv  \n",
       "..                                               ...  \n",
       "95  repertoires\\ae68359707ba44ada1628f6546f461ba.tsv  \n",
       "96  repertoires\\e533cd6da607438f88b846535b6c0c08.tsv  \n",
       "97  repertoires\\5d28b0c662cf4a8fbb830ba032631652.tsv  \n",
       "98  repertoires\\93063c96c8bf4adfbc74cd2d25fdf2df.tsv  \n",
       "99  repertoires\\0e61180e312c4c5bada8de576092aa4e.tsv  \n",
       "\n",
       "[100 rows x 4 columns]"
      ]
     },
     "execution_count": 24,
     "metadata": {},
     "output_type": "execute_result"
    }
   ],
   "source": [
    "meta_data"
   ]
  },
  {
   "cell_type": "code",
   "execution_count": 65,
   "metadata": {},
   "outputs": [],
   "source": [
    "data = pd.read_csv(r\"C:\\Users\\karth\\Desktop\\PhD projects\\immuneML\\dev_immuneML\\immuneML\\output_dir1\\synthetic_dataset\\result\\simulation_instruction\\exported_dataset\\airr\\repertoires\\741c9519c70d4b2c8f29bc15c5e63fb2.tsv\", sep=\"\\t\")\n"
   ]
  },
  {
   "cell_type": "code",
   "execution_count": 66,
   "metadata": {},
   "outputs": [
    {
     "data": {
      "text/plain": [
       "sequence_id             int64\n",
       "sequence              float64\n",
       "rev_comp              float64\n",
       "productive             object\n",
       "v_call                 object\n",
       "d_call                float64\n",
       "j_call                 object\n",
       "sequence_alignment    float64\n",
       "germline_alignment    float64\n",
       "junction              float64\n",
       "junction_aa           float64\n",
       "v_cigar               float64\n",
       "d_cigar               float64\n",
       "j_cigar               float64\n",
       "cdr3_aa                object\n",
       "locus                  object\n",
       "duplicate_count         int64\n",
       "vj_in_frame            object\n",
       "stop_codon             object\n",
       "my_signal              object\n",
       "v_genes                object\n",
       "j_genes                object\n",
       "v_subgroups            object\n",
       "j_subgroups            object\n",
       "region_types           object\n",
       "frame_types            object\n",
       "dtype: object"
      ]
     },
     "execution_count": 66,
     "metadata": {},
     "output_type": "execute_result"
    }
   ],
   "source": [
    "data.dtypes"
   ]
  },
  {
   "cell_type": "code",
   "execution_count": 29,
   "metadata": {},
   "outputs": [
    {
     "data": {
      "text/plain": [
       "array([[0, nan, nan, 'T', 'TRBV1-1*01', nan, 'TRBJ1-1*01', nan, nan, nan,\n",
       "        nan, nan, nan, nan, 'IEAKIYSGQVIG', 'TRB', 1, 'T', 'F', nan,\n",
       "        'TRBV1-1', 'TRBJ1-1', 'TRBV1', 'TRBJ1', 'IMGT_CDR3', 'IN'],\n",
       "       [1, nan, nan, 'T', 'TRBV1-1*01', nan, 'TRBJ1-1*01', nan, nan, nan,\n",
       "        nan, nan, nan, nan, 'CTWLACGQPL', 'TRB', 1, 'T', 'F', nan,\n",
       "        'TRBV1-1', 'TRBJ1-1', 'TRBV1', 'TRBJ1', 'IMGT_CDR3', 'IN'],\n",
       "       [2, nan, nan, 'T', 'TRBV1-1*01', nan, 'TRBJ1-1*01', nan, nan, nan,\n",
       "        nan, nan, nan, nan, 'GTINQHAPFP', 'TRB', 1, 'T', 'F', nan,\n",
       "        'TRBV1-1', 'TRBJ1-1', 'TRBV1', 'TRBJ1', 'IMGT_CDR3', 'IN'],\n",
       "       [3, nan, nan, 'T', 'TRBV1-1*01', nan, 'TRBJ1-1*01', nan, nan, nan,\n",
       "        nan, nan, nan, nan, 'KCGDYFIRVSME', 'TRB', 1, 'T', 'F', nan,\n",
       "        'TRBV1-1', 'TRBJ1-1', 'TRBV1', 'TRBJ1', 'IMGT_CDR3', 'IN'],\n",
       "       [4, nan, nan, 'T', 'TRBV1-1*01', nan, 'TRBJ1-1*01', nan, nan, nan,\n",
       "        nan, nan, nan, nan, 'QICWHEDAPH', 'TRB', 1, 'T', 'F', nan,\n",
       "        'TRBV1-1', 'TRBJ1-1', 'TRBV1', 'TRBJ1', 'IMGT_CDR3', 'IN'],\n",
       "       [5, nan, nan, 'T', 'TRBV1-1*01', nan, 'TRBJ1-1*01', nan, nan, nan,\n",
       "        nan, nan, nan, nan, 'EAKVEVGACL', 'TRB', 1, 'T', 'F', nan,\n",
       "        'TRBV1-1', 'TRBJ1-1', 'TRBV1', 'TRBJ1', 'IMGT_CDR3', 'IN'],\n",
       "       [6, nan, nan, 'T', 'TRBV1-1*01', nan, 'TRBJ1-1*01', nan, nan, nan,\n",
       "        nan, nan, nan, nan, 'STIIVQWISTVG', 'TRB', 1, 'T', 'F', nan,\n",
       "        'TRBV1-1', 'TRBJ1-1', 'TRBV1', 'TRBJ1', 'IMGT_CDR3', 'IN'],\n",
       "       [7, nan, nan, 'T', 'TRBV1-1*01', nan, 'TRBJ1-1*01', nan, nan, nan,\n",
       "        nan, nan, nan, nan, 'EPYFANGQGAVD', 'TRB', 1, 'T', 'F', nan,\n",
       "        'TRBV1-1', 'TRBJ1-1', 'TRBV1', 'TRBJ1', 'IMGT_CDR3', 'IN'],\n",
       "       [8, nan, nan, 'T', 'TRBV1-1*01', nan, 'TRBJ1-1*01', nan, nan, nan,\n",
       "        nan, nan, nan, nan, 'EEFYTFARRT', 'TRB', 1, 'T', 'F', nan,\n",
       "        'TRBV1-1', 'TRBJ1-1', 'TRBV1', 'TRBJ1', 'IMGT_CDR3', 'IN'],\n",
       "       [9, nan, nan, 'T', 'TRBV1-1*01', nan, 'TRBJ1-1*01', nan, nan, nan,\n",
       "        nan, nan, nan, nan, 'VIYAAVHDTK', 'TRB', 1, 'T', 'F',\n",
       "        \"ImplantAnnotation(signal_id='my_signal', motif_id='my_motif', motif_instance=<immuneML.simulation.implants.MotifInstance.MotifInstance object at 0x00000280F3276460>, position=3)\",\n",
       "        'TRBV1-1', 'TRBJ1-1', 'TRBV1', 'TRBJ1', 'IMGT_CDR3', 'IN']],\n",
       "      dtype=object)"
      ]
     },
     "execution_count": 29,
     "metadata": {},
     "output_type": "execute_result"
    }
   ],
   "source": [
    "data.to_numpy()\n"
   ]
  },
  {
   "cell_type": "code",
   "execution_count": 117,
   "metadata": {},
   "outputs": [
    {
     "data": {
      "text/html": [
       "<div>\n",
       "<style scoped>\n",
       "    .dataframe tbody tr th:only-of-type {\n",
       "        vertical-align: middle;\n",
       "    }\n",
       "\n",
       "    .dataframe tbody tr th {\n",
       "        vertical-align: top;\n",
       "    }\n",
       "\n",
       "    .dataframe thead th {\n",
       "        text-align: right;\n",
       "    }\n",
       "</style>\n",
       "<table border=\"1\" class=\"dataframe\">\n",
       "  <thead>\n",
       "    <tr style=\"text-align: right;\">\n",
       "      <th></th>\n",
       "      <th>sequence_aas</th>\n",
       "      <th>v_genes</th>\n",
       "      <th>j_genes</th>\n",
       "      <th>v_subgroups</th>\n",
       "      <th>j_subgroups</th>\n",
       "      <th>v_alleles</th>\n",
       "      <th>j_alleles</th>\n",
       "      <th>chains</th>\n",
       "      <th>counts</th>\n",
       "      <th>region_types</th>\n",
       "      <th>frame_types</th>\n",
       "      <th>sequence_identifiers</th>\n",
       "    </tr>\n",
       "  </thead>\n",
       "  <tbody>\n",
       "    <tr>\n",
       "      <th>0</th>\n",
       "      <td>QKTRKGSIYR</td>\n",
       "      <td>TRBV1-1</td>\n",
       "      <td>TRBJ1-1</td>\n",
       "      <td>TRBV1</td>\n",
       "      <td>TRBJ1</td>\n",
       "      <td>TRBV1-1*01</td>\n",
       "      <td>TRBJ1-1*01</td>\n",
       "      <td>BETA</td>\n",
       "      <td>1</td>\n",
       "      <td>IMGT_CDR3</td>\n",
       "      <td>IN</td>\n",
       "      <td>0</td>\n",
       "    </tr>\n",
       "    <tr>\n",
       "      <th>1</th>\n",
       "      <td>KIMYAAPYTL</td>\n",
       "      <td>TRBV1-1</td>\n",
       "      <td>TRBJ1-1</td>\n",
       "      <td>TRBV1</td>\n",
       "      <td>TRBJ1</td>\n",
       "      <td>TRBV1-1*01</td>\n",
       "      <td>TRBJ1-1*01</td>\n",
       "      <td>BETA</td>\n",
       "      <td>1</td>\n",
       "      <td>IMGT_CDR3</td>\n",
       "      <td>IN</td>\n",
       "      <td>1</td>\n",
       "    </tr>\n",
       "    <tr>\n",
       "      <th>2</th>\n",
       "      <td>LHSHPYTYCC</td>\n",
       "      <td>TRBV1-1</td>\n",
       "      <td>TRBJ1-1</td>\n",
       "      <td>TRBV1</td>\n",
       "      <td>TRBJ1</td>\n",
       "      <td>TRBV1-1*01</td>\n",
       "      <td>TRBJ1-1*01</td>\n",
       "      <td>BETA</td>\n",
       "      <td>1</td>\n",
       "      <td>IMGT_CDR3</td>\n",
       "      <td>IN</td>\n",
       "      <td>2</td>\n",
       "    </tr>\n",
       "    <tr>\n",
       "      <th>3</th>\n",
       "      <td>HCMTHLTTYD</td>\n",
       "      <td>TRBV1-1</td>\n",
       "      <td>TRBJ1-1</td>\n",
       "      <td>TRBV1</td>\n",
       "      <td>TRBJ1</td>\n",
       "      <td>TRBV1-1*01</td>\n",
       "      <td>TRBJ1-1*01</td>\n",
       "      <td>BETA</td>\n",
       "      <td>1</td>\n",
       "      <td>IMGT_CDR3</td>\n",
       "      <td>IN</td>\n",
       "      <td>3</td>\n",
       "    </tr>\n",
       "    <tr>\n",
       "      <th>4</th>\n",
       "      <td>HYSPCHGDVFVN</td>\n",
       "      <td>TRBV1-1</td>\n",
       "      <td>TRBJ1-1</td>\n",
       "      <td>TRBV1</td>\n",
       "      <td>TRBJ1</td>\n",
       "      <td>TRBV1-1*01</td>\n",
       "      <td>TRBJ1-1*01</td>\n",
       "      <td>BETA</td>\n",
       "      <td>1</td>\n",
       "      <td>IMGT_CDR3</td>\n",
       "      <td>IN</td>\n",
       "      <td>4</td>\n",
       "    </tr>\n",
       "    <tr>\n",
       "      <th>5</th>\n",
       "      <td>GIVALACFKR</td>\n",
       "      <td>TRBV1-1</td>\n",
       "      <td>TRBJ1-1</td>\n",
       "      <td>TRBV1</td>\n",
       "      <td>TRBJ1</td>\n",
       "      <td>TRBV1-1*01</td>\n",
       "      <td>TRBJ1-1*01</td>\n",
       "      <td>BETA</td>\n",
       "      <td>1</td>\n",
       "      <td>IMGT_CDR3</td>\n",
       "      <td>IN</td>\n",
       "      <td>5</td>\n",
       "    </tr>\n",
       "    <tr>\n",
       "      <th>6</th>\n",
       "      <td>QMNLKPQDVSEY</td>\n",
       "      <td>TRBV1-1</td>\n",
       "      <td>TRBJ1-1</td>\n",
       "      <td>TRBV1</td>\n",
       "      <td>TRBJ1</td>\n",
       "      <td>TRBV1-1*01</td>\n",
       "      <td>TRBJ1-1*01</td>\n",
       "      <td>BETA</td>\n",
       "      <td>1</td>\n",
       "      <td>IMGT_CDR3</td>\n",
       "      <td>IN</td>\n",
       "      <td>6</td>\n",
       "    </tr>\n",
       "    <tr>\n",
       "      <th>7</th>\n",
       "      <td>VYLRNLVHIVPY</td>\n",
       "      <td>TRBV1-1</td>\n",
       "      <td>TRBJ1-1</td>\n",
       "      <td>TRBV1</td>\n",
       "      <td>TRBJ1</td>\n",
       "      <td>TRBV1-1*01</td>\n",
       "      <td>TRBJ1-1*01</td>\n",
       "      <td>BETA</td>\n",
       "      <td>1</td>\n",
       "      <td>IMGT_CDR3</td>\n",
       "      <td>IN</td>\n",
       "      <td>7</td>\n",
       "    </tr>\n",
       "    <tr>\n",
       "      <th>8</th>\n",
       "      <td>VPVTCDNMMDWP</td>\n",
       "      <td>TRBV1-1</td>\n",
       "      <td>TRBJ1-1</td>\n",
       "      <td>TRBV1</td>\n",
       "      <td>TRBJ1</td>\n",
       "      <td>TRBV1-1*01</td>\n",
       "      <td>TRBJ1-1*01</td>\n",
       "      <td>BETA</td>\n",
       "      <td>1</td>\n",
       "      <td>IMGT_CDR3</td>\n",
       "      <td>IN</td>\n",
       "      <td>8</td>\n",
       "    </tr>\n",
       "    <tr>\n",
       "      <th>9</th>\n",
       "      <td>WRFTMFIHTDMH</td>\n",
       "      <td>TRBV1-1</td>\n",
       "      <td>TRBJ1-1</td>\n",
       "      <td>TRBV1</td>\n",
       "      <td>TRBJ1</td>\n",
       "      <td>TRBV1-1*01</td>\n",
       "      <td>TRBJ1-1*01</td>\n",
       "      <td>BETA</td>\n",
       "      <td>1</td>\n",
       "      <td>IMGT_CDR3</td>\n",
       "      <td>IN</td>\n",
       "      <td>9</td>\n",
       "    </tr>\n",
       "    <tr>\n",
       "      <th>10</th>\n",
       "      <td>FATDYSRMDS</td>\n",
       "      <td>TRBV1-1</td>\n",
       "      <td>TRBJ1-1</td>\n",
       "      <td>TRBV1</td>\n",
       "      <td>TRBJ1</td>\n",
       "      <td>TRBV1-1*01</td>\n",
       "      <td>TRBJ1-1*01</td>\n",
       "      <td>BETA</td>\n",
       "      <td>1</td>\n",
       "      <td>IMGT_CDR3</td>\n",
       "      <td>IN</td>\n",
       "      <td>10</td>\n",
       "    </tr>\n",
       "    <tr>\n",
       "      <th>11</th>\n",
       "      <td>LNKQWNPSAHRS</td>\n",
       "      <td>TRBV1-1</td>\n",
       "      <td>TRBJ1-1</td>\n",
       "      <td>TRBV1</td>\n",
       "      <td>TRBJ1</td>\n",
       "      <td>TRBV1-1*01</td>\n",
       "      <td>TRBJ1-1*01</td>\n",
       "      <td>BETA</td>\n",
       "      <td>1</td>\n",
       "      <td>IMGT_CDR3</td>\n",
       "      <td>IN</td>\n",
       "      <td>11</td>\n",
       "    </tr>\n",
       "    <tr>\n",
       "      <th>12</th>\n",
       "      <td>ECENMTQFEEVV</td>\n",
       "      <td>TRBV1-1</td>\n",
       "      <td>TRBJ1-1</td>\n",
       "      <td>TRBV1</td>\n",
       "      <td>TRBJ1</td>\n",
       "      <td>TRBV1-1*01</td>\n",
       "      <td>TRBJ1-1*01</td>\n",
       "      <td>BETA</td>\n",
       "      <td>1</td>\n",
       "      <td>IMGT_CDR3</td>\n",
       "      <td>IN</td>\n",
       "      <td>12</td>\n",
       "    </tr>\n",
       "    <tr>\n",
       "      <th>13</th>\n",
       "      <td>KKEFWFYNFRDC</td>\n",
       "      <td>TRBV1-1</td>\n",
       "      <td>TRBJ1-1</td>\n",
       "      <td>TRBV1</td>\n",
       "      <td>TRBJ1</td>\n",
       "      <td>TRBV1-1*01</td>\n",
       "      <td>TRBJ1-1*01</td>\n",
       "      <td>BETA</td>\n",
       "      <td>1</td>\n",
       "      <td>IMGT_CDR3</td>\n",
       "      <td>IN</td>\n",
       "      <td>13</td>\n",
       "    </tr>\n",
       "    <tr>\n",
       "      <th>14</th>\n",
       "      <td>PSSISCCHCYNM</td>\n",
       "      <td>TRBV1-1</td>\n",
       "      <td>TRBJ1-1</td>\n",
       "      <td>TRBV1</td>\n",
       "      <td>TRBJ1</td>\n",
       "      <td>TRBV1-1*01</td>\n",
       "      <td>TRBJ1-1*01</td>\n",
       "      <td>BETA</td>\n",
       "      <td>1</td>\n",
       "      <td>IMGT_CDR3</td>\n",
       "      <td>IN</td>\n",
       "      <td>14</td>\n",
       "    </tr>\n",
       "    <tr>\n",
       "      <th>15</th>\n",
       "      <td>MSNIWKRTVKLR</td>\n",
       "      <td>TRBV1-1</td>\n",
       "      <td>TRBJ1-1</td>\n",
       "      <td>TRBV1</td>\n",
       "      <td>TRBJ1</td>\n",
       "      <td>TRBV1-1*01</td>\n",
       "      <td>TRBJ1-1*01</td>\n",
       "      <td>BETA</td>\n",
       "      <td>1</td>\n",
       "      <td>IMGT_CDR3</td>\n",
       "      <td>IN</td>\n",
       "      <td>15</td>\n",
       "    </tr>\n",
       "    <tr>\n",
       "      <th>16</th>\n",
       "      <td>GTPQEPCRFWPG</td>\n",
       "      <td>TRBV1-1</td>\n",
       "      <td>TRBJ1-1</td>\n",
       "      <td>TRBV1</td>\n",
       "      <td>TRBJ1</td>\n",
       "      <td>TRBV1-1*01</td>\n",
       "      <td>TRBJ1-1*01</td>\n",
       "      <td>BETA</td>\n",
       "      <td>1</td>\n",
       "      <td>IMGT_CDR3</td>\n",
       "      <td>IN</td>\n",
       "      <td>16</td>\n",
       "    </tr>\n",
       "    <tr>\n",
       "      <th>17</th>\n",
       "      <td>QGCWVGAICLYM</td>\n",
       "      <td>TRBV1-1</td>\n",
       "      <td>TRBJ1-1</td>\n",
       "      <td>TRBV1</td>\n",
       "      <td>TRBJ1</td>\n",
       "      <td>TRBV1-1*01</td>\n",
       "      <td>TRBJ1-1*01</td>\n",
       "      <td>BETA</td>\n",
       "      <td>1</td>\n",
       "      <td>IMGT_CDR3</td>\n",
       "      <td>IN</td>\n",
       "      <td>17</td>\n",
       "    </tr>\n",
       "    <tr>\n",
       "      <th>18</th>\n",
       "      <td>WQSVNLSTMQ</td>\n",
       "      <td>TRBV1-1</td>\n",
       "      <td>TRBJ1-1</td>\n",
       "      <td>TRBV1</td>\n",
       "      <td>TRBJ1</td>\n",
       "      <td>TRBV1-1*01</td>\n",
       "      <td>TRBJ1-1*01</td>\n",
       "      <td>BETA</td>\n",
       "      <td>1</td>\n",
       "      <td>IMGT_CDR3</td>\n",
       "      <td>IN</td>\n",
       "      <td>18</td>\n",
       "    </tr>\n",
       "    <tr>\n",
       "      <th>19</th>\n",
       "      <td>PLCLDIPDDT</td>\n",
       "      <td>TRBV1-1</td>\n",
       "      <td>TRBJ1-1</td>\n",
       "      <td>TRBV1</td>\n",
       "      <td>TRBJ1</td>\n",
       "      <td>TRBV1-1*01</td>\n",
       "      <td>TRBJ1-1*01</td>\n",
       "      <td>BETA</td>\n",
       "      <td>1</td>\n",
       "      <td>IMGT_CDR3</td>\n",
       "      <td>IN</td>\n",
       "      <td>19</td>\n",
       "    </tr>\n",
       "  </tbody>\n",
       "</table>\n",
       "</div>"
      ],
      "text/plain": [
       "    sequence_aas  v_genes  j_genes v_subgroups j_subgroups   v_alleles  \\\n",
       "0     QKTRKGSIYR  TRBV1-1  TRBJ1-1       TRBV1       TRBJ1  TRBV1-1*01   \n",
       "1     KIMYAAPYTL  TRBV1-1  TRBJ1-1       TRBV1       TRBJ1  TRBV1-1*01   \n",
       "2     LHSHPYTYCC  TRBV1-1  TRBJ1-1       TRBV1       TRBJ1  TRBV1-1*01   \n",
       "3     HCMTHLTTYD  TRBV1-1  TRBJ1-1       TRBV1       TRBJ1  TRBV1-1*01   \n",
       "4   HYSPCHGDVFVN  TRBV1-1  TRBJ1-1       TRBV1       TRBJ1  TRBV1-1*01   \n",
       "5     GIVALACFKR  TRBV1-1  TRBJ1-1       TRBV1       TRBJ1  TRBV1-1*01   \n",
       "6   QMNLKPQDVSEY  TRBV1-1  TRBJ1-1       TRBV1       TRBJ1  TRBV1-1*01   \n",
       "7   VYLRNLVHIVPY  TRBV1-1  TRBJ1-1       TRBV1       TRBJ1  TRBV1-1*01   \n",
       "8   VPVTCDNMMDWP  TRBV1-1  TRBJ1-1       TRBV1       TRBJ1  TRBV1-1*01   \n",
       "9   WRFTMFIHTDMH  TRBV1-1  TRBJ1-1       TRBV1       TRBJ1  TRBV1-1*01   \n",
       "10    FATDYSRMDS  TRBV1-1  TRBJ1-1       TRBV1       TRBJ1  TRBV1-1*01   \n",
       "11  LNKQWNPSAHRS  TRBV1-1  TRBJ1-1       TRBV1       TRBJ1  TRBV1-1*01   \n",
       "12  ECENMTQFEEVV  TRBV1-1  TRBJ1-1       TRBV1       TRBJ1  TRBV1-1*01   \n",
       "13  KKEFWFYNFRDC  TRBV1-1  TRBJ1-1       TRBV1       TRBJ1  TRBV1-1*01   \n",
       "14  PSSISCCHCYNM  TRBV1-1  TRBJ1-1       TRBV1       TRBJ1  TRBV1-1*01   \n",
       "15  MSNIWKRTVKLR  TRBV1-1  TRBJ1-1       TRBV1       TRBJ1  TRBV1-1*01   \n",
       "16  GTPQEPCRFWPG  TRBV1-1  TRBJ1-1       TRBV1       TRBJ1  TRBV1-1*01   \n",
       "17  QGCWVGAICLYM  TRBV1-1  TRBJ1-1       TRBV1       TRBJ1  TRBV1-1*01   \n",
       "18    WQSVNLSTMQ  TRBV1-1  TRBJ1-1       TRBV1       TRBJ1  TRBV1-1*01   \n",
       "19    PLCLDIPDDT  TRBV1-1  TRBJ1-1       TRBV1       TRBJ1  TRBV1-1*01   \n",
       "\n",
       "     j_alleles chains  counts region_types frame_types sequence_identifiers  \n",
       "0   TRBJ1-1*01   BETA       1    IMGT_CDR3          IN                    0  \n",
       "1   TRBJ1-1*01   BETA       1    IMGT_CDR3          IN                    1  \n",
       "2   TRBJ1-1*01   BETA       1    IMGT_CDR3          IN                    2  \n",
       "3   TRBJ1-1*01   BETA       1    IMGT_CDR3          IN                    3  \n",
       "4   TRBJ1-1*01   BETA       1    IMGT_CDR3          IN                    4  \n",
       "5   TRBJ1-1*01   BETA       1    IMGT_CDR3          IN                    5  \n",
       "6   TRBJ1-1*01   BETA       1    IMGT_CDR3          IN                    6  \n",
       "7   TRBJ1-1*01   BETA       1    IMGT_CDR3          IN                    7  \n",
       "8   TRBJ1-1*01   BETA       1    IMGT_CDR3          IN                    8  \n",
       "9   TRBJ1-1*01   BETA       1    IMGT_CDR3          IN                    9  \n",
       "10  TRBJ1-1*01   BETA       1    IMGT_CDR3          IN                   10  \n",
       "11  TRBJ1-1*01   BETA       1    IMGT_CDR3          IN                   11  \n",
       "12  TRBJ1-1*01   BETA       1    IMGT_CDR3          IN                   12  \n",
       "13  TRBJ1-1*01   BETA       1    IMGT_CDR3          IN                   13  \n",
       "14  TRBJ1-1*01   BETA       1    IMGT_CDR3          IN                   14  \n",
       "15  TRBJ1-1*01   BETA       1    IMGT_CDR3          IN                   15  \n",
       "16  TRBJ1-1*01   BETA       1    IMGT_CDR3          IN                   16  \n",
       "17  TRBJ1-1*01   BETA       1    IMGT_CDR3          IN                   17  \n",
       "18  TRBJ1-1*01   BETA       1    IMGT_CDR3          IN                   18  \n",
       "19  TRBJ1-1*01   BETA       1    IMGT_CDR3          IN                   19  "
      ]
     },
     "execution_count": 117,
     "metadata": {},
     "output_type": "execute_result"
    }
   ],
   "source": [
    "pd.DataFrame(data)"
   ]
  },
  {
   "cell_type": "code",
   "execution_count": 3,
   "metadata": {},
   "outputs": [],
   "source": [
    "import os\n",
    "import shutil\n",
    "from unittest import TestCase\n",
    "\n",
    "import pandas as pd\n",
    "\n",
    "from immuneML.analysis.data_manipulation.NormalizationType import NormalizationType\n",
    "from immuneML.caching.CacheType import CacheType\n",
    "from immuneML.encodings.EncoderParams import EncoderParams\n",
    "from immuneML.encodings.kmer_frequency.KmerFreqRepertoireEncoder import KmerFreqRepertoireEncoder\n",
    "from immuneML.util.ReadsType import ReadsType\n",
    "from immuneML.encodings.kmer_frequency.sequence_encoding.SequenceEncodingType import SequenceEncodingType\n",
    "from immuneML.environment.Constants import Constants\n",
    "from immuneML.environment.EnvironmentSettings import EnvironmentSettings\n",
    "from immuneML.environment.Label import Label\n",
    "from immuneML.environment.LabelConfiguration import LabelConfiguration\n",
    "from immuneML.hyperparameter_optimization.HPSetting import HPSetting\n",
    "from immuneML.simulation.dataset_generation.RandomDatasetGenerator import RandomDatasetGenerator\n",
    "from immuneML.util.PathBuilder import PathBuilder\n",
    "from immuneML.workflows.instructions.ml_model_application.MLApplicationInstruction import MLApplicationInstruction"
   ]
  },
  {
   "cell_type": "code",
   "execution_count": 1,
   "metadata": {},
   "outputs": [
    {
     "name": "stderr",
     "output_type": "stream",
     "text": [
      "c:\\Users\\karth\\anaconda3\\envs\\test\\lib\\site-packages\\tqdm\\auto.py:22: TqdmWarning: IProgress not found. Please update jupyter and ipywidgets. See https://ipywidgets.readthedocs.io/en/stable/user_install.html\n",
      "  from .autonotebook import tqdm as notebook_tqdm\n"
     ]
    }
   ],
   "source": [
    "import os\n",
    "import pickle\n",
    "import shutil\n",
    "import numpy as np\n",
    "from sklearn.linear_model import LogisticRegression as SklearnLogisticRegression\n",
    "from immuneML.caching.CacheType import CacheType\n",
    "from immuneML.data_model.encoded_data.EncodedData import EncodedData\n",
    "from immuneML.environment.Constants import Constants\n",
    "from immuneML.environment.EnvironmentSettings import EnvironmentSettings\n",
    "from immuneML.environment.Label import Label\n",
    "from DaskLogisticRegression import DaskLogisticRegression\n",
    "from immuneML.util.PathBuilder import PathBuilder\n",
    "from immuneML.simulation.dataset_generation.RandomDatasetGenerator import RandomDatasetGenerator\n"
   ]
  },
  {
   "cell_type": "code",
   "execution_count": 4,
   "metadata": {},
   "outputs": [
    {
     "name": "stderr",
     "output_type": "stream",
     "text": [
      "c:\\Users\\karth\\anaconda3\\envs\\test\\lib\\site-packages\\sklearn\\utils\\validation.py:593: FutureWarning: np.matrix usage is deprecated in 1.0 and will raise a TypeError in 1.2. Please convert to a numpy array with np.asarray. For more information see: https://numpy.org/doc/stable/reference/generated/numpy.matrix.html\n",
      "  warnings.warn(\n",
      "c:\\Users\\karth\\anaconda3\\envs\\test\\lib\\site-packages\\sklearn\\utils\\validation.py:593: FutureWarning: np.matrix usage is deprecated in 1.0 and will raise a TypeError in 1.2. Please convert to a numpy array with np.asarray. For more information see: https://numpy.org/doc/stable/reference/generated/numpy.matrix.html\n",
      "  warnings.warn(\n"
     ]
    }
   ],
   "source": [
    "path = EnvironmentSettings.tmp_test_path / \"mlapplicationtest/\"\n",
    "PathBuilder.build(path)\n",
    "\n",
    "dataset = RandomDatasetGenerator.generate_repertoire_dataset(\n",
    "    50, {5: 1}, {5: 1}, {\"l1\": {1: 0.5, 2: 0.5}}, path / 'dataset/')\n",
    "ml_method = DaskLogisticRegression()\n",
    "encoder = KmerFreqRepertoireEncoder(NormalizationType.RELATIVE_FREQUENCY, ReadsType.UNIQUE, SequenceEncodingType.CONTINUOUS_KMER, 3,\n",
    "                                    scale_to_zero_mean=True, scale_to_unit_variance=True)\n",
    "label = Label(\"l1\", [1, 2])\n",
    "label_config = LabelConfiguration([label])\n",
    "\n",
    "enc_dataset = encoder.encode(dataset, EncoderParams(\n",
    "    result_path=path, label_config=label_config, filename=\"tmp_enc_dataset.pickle\", pool_size=4))\n"
   ]
  },
  {
   "cell_type": "code",
   "execution_count": null,
   "metadata": {},
   "outputs": [],
   "source": []
  },
  {
   "cell_type": "code",
   "execution_count": 5,
   "metadata": {},
   "outputs": [
    {
     "name": "stdout",
     "output_type": "stream",
     "text": [
      "{'max_iter': 1000, 'solver': 'saga'}\n",
      "<bound method DaskSklearnMethod._get_model_filename of <DaskLogisticRegression.DaskLogisticRegression object at 0x000001B211409070>>\n",
      "{'penalty': 'l2', 'dual': False, 'tol': 0.0001, 'C': 1.0, 'fit_intercept': True, 'intercept_scaling': 1, 'class_weight': None, 'random_state': None, 'solver': 'saga', 'max_iter': 1000, 'multi_class': 'auto', 'verbose': 0, 'warm_start': False, 'n_jobs': None, 'l1_ratio': None}\n",
      "DASK workflow\n"
     ]
    },
    {
     "data": {
      "text/plain": [
       "WindowsPath('C:/Users/karth/Desktop/PhD projects/immuneML/immuneML/test/tmp/mlapplicationtest/result/instr1')"
      ]
     },
     "execution_count": 5,
     "metadata": {},
     "output_type": "execute_result"
    }
   ],
   "source": [
    "ml_method.fit(enc_dataset.encoded_data, label)\n",
    "\n",
    "hp_setting = HPSetting(encoder, {\"normalization_type\": \"relative_frequency\", \"reads\": \"unique\", \"sequence_encoding\": \"continuous_kmer\",\n",
    "                                 \"k\": 3, \"scale_to_zero_mean\": True, \"scale_to_unit_variance\": True}, ml_method, {}, [], 'enc1', 'ml1')\n",
    "\n",
    "PathBuilder.build(path / 'result/instr1/')\n"
   ]
  },
  {
   "cell_type": "code",
   "execution_count": 11,
   "metadata": {},
   "outputs": [
    {
     "data": {
      "text/plain": [
       "WindowsPath('C:/Users/karth/Desktop/PhD projects/immuneML/immuneML/test/tmp/mlapplicationtest')"
      ]
     },
     "execution_count": 11,
     "metadata": {},
     "output_type": "execute_result"
    }
   ],
   "source": [
    "path"
   ]
  },
  {
   "cell_type": "code",
   "execution_count": 12,
   "metadata": {},
   "outputs": [
    {
     "name": "stdout",
     "output_type": "stream",
     "text": [
      "2022-05-27 10:12:43.490637: Encoding started...\n",
      "2022-05-27 10:12:47.759962: Encoding finished.\n"
     ]
    },
    {
     "name": "stderr",
     "output_type": "stream",
     "text": [
      "c:\\Users\\karth\\anaconda3\\envs\\test\\lib\\site-packages\\sklearn\\utils\\validation.py:593: FutureWarning: np.matrix usage is deprecated in 1.0 and will raise a TypeError in 1.2. Please convert to a numpy array with np.asarray. For more information see: https://numpy.org/doc/stable/reference/generated/numpy.matrix.html\n",
      "  warnings.warn(\n"
     ]
    }
   ],
   "source": [
    "ml_app = MLApplicationInstruction(dataset, label_config, hp_setting, 4, \"instr1\")\n",
    "ml_app.run(path / 'result/')\n",
    "\n",
    "predictions_path = path / \"result/instr1/predictions.csv\""
   ]
  },
  {
   "cell_type": "code",
   "execution_count": 13,
   "metadata": {},
   "outputs": [],
   "source": [
    "        df = pd.read_csv(predictions_path)\n"
   ]
  },
  {
   "cell_type": "code",
   "execution_count": 14,
   "metadata": {},
   "outputs": [
    {
     "data": {
      "text/html": [
       "<div>\n",
       "<style scoped>\n",
       "    .dataframe tbody tr th:only-of-type {\n",
       "        vertical-align: middle;\n",
       "    }\n",
       "\n",
       "    .dataframe tbody tr th {\n",
       "        vertical-align: top;\n",
       "    }\n",
       "\n",
       "    .dataframe thead th {\n",
       "        text-align: right;\n",
       "    }\n",
       "</style>\n",
       "<table border=\"1\" class=\"dataframe\">\n",
       "  <thead>\n",
       "    <tr style=\"text-align: right;\">\n",
       "      <th></th>\n",
       "      <th>repertoire_file</th>\n",
       "      <th>example_id</th>\n",
       "      <th>l1</th>\n",
       "      <th>l1_1_proba</th>\n",
       "      <th>l1_2_proba</th>\n",
       "    </tr>\n",
       "  </thead>\n",
       "  <tbody>\n",
       "    <tr>\n",
       "      <th>0</th>\n",
       "      <td>rep_0.npy</td>\n",
       "      <td>7399cfb9af2d43f49824b587a1ddc1da</td>\n",
       "      <td>1</td>\n",
       "      <td>0.993781</td>\n",
       "      <td>0.006219</td>\n",
       "    </tr>\n",
       "    <tr>\n",
       "      <th>1</th>\n",
       "      <td>rep_1.npy</td>\n",
       "      <td>9cca28e623e04026ba02717b54a544ea</td>\n",
       "      <td>1</td>\n",
       "      <td>0.993763</td>\n",
       "      <td>0.006237</td>\n",
       "    </tr>\n",
       "    <tr>\n",
       "      <th>2</th>\n",
       "      <td>rep_2.npy</td>\n",
       "      <td>6d931c46b3c74594aef188a40aef72c7</td>\n",
       "      <td>1</td>\n",
       "      <td>0.993769</td>\n",
       "      <td>0.006231</td>\n",
       "    </tr>\n",
       "    <tr>\n",
       "      <th>3</th>\n",
       "      <td>rep_3.npy</td>\n",
       "      <td>5ed944d5187648129975ef6dde781fc4</td>\n",
       "      <td>1</td>\n",
       "      <td>0.993785</td>\n",
       "      <td>0.006215</td>\n",
       "    </tr>\n",
       "    <tr>\n",
       "      <th>4</th>\n",
       "      <td>rep_4.npy</td>\n",
       "      <td>d2aad70624ff44a488797064da2c19a6</td>\n",
       "      <td>1</td>\n",
       "      <td>0.993627</td>\n",
       "      <td>0.006373</td>\n",
       "    </tr>\n",
       "    <tr>\n",
       "      <th>5</th>\n",
       "      <td>rep_5.npy</td>\n",
       "      <td>3c4cb4c887014d3ab3d290a2d12fa264</td>\n",
       "      <td>2</td>\n",
       "      <td>0.008095</td>\n",
       "      <td>0.991905</td>\n",
       "    </tr>\n",
       "    <tr>\n",
       "      <th>6</th>\n",
       "      <td>rep_6.npy</td>\n",
       "      <td>f7c45c140edf4cb28a1424a00037218d</td>\n",
       "      <td>1</td>\n",
       "      <td>0.994182</td>\n",
       "      <td>0.005818</td>\n",
       "    </tr>\n",
       "    <tr>\n",
       "      <th>7</th>\n",
       "      <td>rep_7.npy</td>\n",
       "      <td>0ac77582848b4d2d99d64138ebfa3814</td>\n",
       "      <td>1</td>\n",
       "      <td>0.993790</td>\n",
       "      <td>0.006210</td>\n",
       "    </tr>\n",
       "    <tr>\n",
       "      <th>8</th>\n",
       "      <td>rep_8.npy</td>\n",
       "      <td>1b327897f8424f2ebfb29e1a48efeb7a</td>\n",
       "      <td>2</td>\n",
       "      <td>0.007937</td>\n",
       "      <td>0.992063</td>\n",
       "    </tr>\n",
       "    <tr>\n",
       "      <th>9</th>\n",
       "      <td>rep_9.npy</td>\n",
       "      <td>daa63945e8674191bd0470bbdf3a95f8</td>\n",
       "      <td>2</td>\n",
       "      <td>0.008530</td>\n",
       "      <td>0.991470</td>\n",
       "    </tr>\n",
       "    <tr>\n",
       "      <th>10</th>\n",
       "      <td>rep_10.npy</td>\n",
       "      <td>5829a96ea796407ababf209cc53bb428</td>\n",
       "      <td>1</td>\n",
       "      <td>0.994210</td>\n",
       "      <td>0.005790</td>\n",
       "    </tr>\n",
       "    <tr>\n",
       "      <th>11</th>\n",
       "      <td>rep_11.npy</td>\n",
       "      <td>f8ae7b34376342c58580b31ab0b0ebe9</td>\n",
       "      <td>1</td>\n",
       "      <td>0.994214</td>\n",
       "      <td>0.005786</td>\n",
       "    </tr>\n",
       "    <tr>\n",
       "      <th>12</th>\n",
       "      <td>rep_12.npy</td>\n",
       "      <td>1d8cc82f9019499da9f37cdbae111aea</td>\n",
       "      <td>1</td>\n",
       "      <td>0.993325</td>\n",
       "      <td>0.006675</td>\n",
       "    </tr>\n",
       "    <tr>\n",
       "      <th>13</th>\n",
       "      <td>rep_13.npy</td>\n",
       "      <td>8f513bdf30954bd185a2d3e5bc569ece</td>\n",
       "      <td>1</td>\n",
       "      <td>0.993810</td>\n",
       "      <td>0.006190</td>\n",
       "    </tr>\n",
       "    <tr>\n",
       "      <th>14</th>\n",
       "      <td>rep_14.npy</td>\n",
       "      <td>1cb50f5dc69c4e45ace2a513eec49dc4</td>\n",
       "      <td>2</td>\n",
       "      <td>0.008072</td>\n",
       "      <td>0.991928</td>\n",
       "    </tr>\n",
       "    <tr>\n",
       "      <th>15</th>\n",
       "      <td>rep_15.npy</td>\n",
       "      <td>d9392ba8ab00467bac303845e8920183</td>\n",
       "      <td>2</td>\n",
       "      <td>0.007684</td>\n",
       "      <td>0.992316</td>\n",
       "    </tr>\n",
       "    <tr>\n",
       "      <th>16</th>\n",
       "      <td>rep_16.npy</td>\n",
       "      <td>3e54d2866f39404f9aefd82cef4f400f</td>\n",
       "      <td>1</td>\n",
       "      <td>0.994183</td>\n",
       "      <td>0.005817</td>\n",
       "    </tr>\n",
       "    <tr>\n",
       "      <th>17</th>\n",
       "      <td>rep_17.npy</td>\n",
       "      <td>47bbca1dcd0d4d109a76774cfbd6c488</td>\n",
       "      <td>2</td>\n",
       "      <td>0.007675</td>\n",
       "      <td>0.992325</td>\n",
       "    </tr>\n",
       "    <tr>\n",
       "      <th>18</th>\n",
       "      <td>rep_18.npy</td>\n",
       "      <td>2b7a4f42ed4844b2bdaef43b0c0b58cb</td>\n",
       "      <td>2</td>\n",
       "      <td>0.008894</td>\n",
       "      <td>0.991106</td>\n",
       "    </tr>\n",
       "    <tr>\n",
       "      <th>19</th>\n",
       "      <td>rep_19.npy</td>\n",
       "      <td>ad197e7524aa4e28ba576c705998de52</td>\n",
       "      <td>2</td>\n",
       "      <td>0.008078</td>\n",
       "      <td>0.991922</td>\n",
       "    </tr>\n",
       "    <tr>\n",
       "      <th>20</th>\n",
       "      <td>rep_20.npy</td>\n",
       "      <td>714797de61a24681a315134c77edf5a9</td>\n",
       "      <td>2</td>\n",
       "      <td>0.008087</td>\n",
       "      <td>0.991913</td>\n",
       "    </tr>\n",
       "    <tr>\n",
       "      <th>21</th>\n",
       "      <td>rep_21.npy</td>\n",
       "      <td>3cd8db4b44d54f3baefea965c584a932</td>\n",
       "      <td>2</td>\n",
       "      <td>0.008098</td>\n",
       "      <td>0.991902</td>\n",
       "    </tr>\n",
       "    <tr>\n",
       "      <th>22</th>\n",
       "      <td>rep_22.npy</td>\n",
       "      <td>33810ac56aa04a33bc052321f37cd1d2</td>\n",
       "      <td>2</td>\n",
       "      <td>0.007654</td>\n",
       "      <td>0.992346</td>\n",
       "    </tr>\n",
       "    <tr>\n",
       "      <th>23</th>\n",
       "      <td>rep_23.npy</td>\n",
       "      <td>edc57b9f6fa24d12ad40a1f5e09a9036</td>\n",
       "      <td>1</td>\n",
       "      <td>0.994233</td>\n",
       "      <td>0.005767</td>\n",
       "    </tr>\n",
       "    <tr>\n",
       "      <th>24</th>\n",
       "      <td>rep_24.npy</td>\n",
       "      <td>852bc7f7a04040fa974a52a8817685b0</td>\n",
       "      <td>1</td>\n",
       "      <td>0.993906</td>\n",
       "      <td>0.006094</td>\n",
       "    </tr>\n",
       "    <tr>\n",
       "      <th>25</th>\n",
       "      <td>rep_25.npy</td>\n",
       "      <td>1fff7a51353c4133bb7478860edf1fe4</td>\n",
       "      <td>1</td>\n",
       "      <td>0.994172</td>\n",
       "      <td>0.005828</td>\n",
       "    </tr>\n",
       "    <tr>\n",
       "      <th>26</th>\n",
       "      <td>rep_26.npy</td>\n",
       "      <td>6436abf9fbfc482da04cd2ce6b6c3428</td>\n",
       "      <td>2</td>\n",
       "      <td>0.007682</td>\n",
       "      <td>0.992318</td>\n",
       "    </tr>\n",
       "    <tr>\n",
       "      <th>27</th>\n",
       "      <td>rep_27.npy</td>\n",
       "      <td>6e654be41f5d4fc69d82c8d34c6703bf</td>\n",
       "      <td>2</td>\n",
       "      <td>0.007691</td>\n",
       "      <td>0.992309</td>\n",
       "    </tr>\n",
       "    <tr>\n",
       "      <th>28</th>\n",
       "      <td>rep_28.npy</td>\n",
       "      <td>167368d9f6f14027abd11ebb0ca2b0fd</td>\n",
       "      <td>2</td>\n",
       "      <td>0.008570</td>\n",
       "      <td>0.991430</td>\n",
       "    </tr>\n",
       "    <tr>\n",
       "      <th>29</th>\n",
       "      <td>rep_29.npy</td>\n",
       "      <td>3ed6ea794203446885d48344a4ac658b</td>\n",
       "      <td>2</td>\n",
       "      <td>0.008102</td>\n",
       "      <td>0.991898</td>\n",
       "    </tr>\n",
       "    <tr>\n",
       "      <th>30</th>\n",
       "      <td>rep_30.npy</td>\n",
       "      <td>e3672b9005104fb992052665ee4305a8</td>\n",
       "      <td>1</td>\n",
       "      <td>0.993884</td>\n",
       "      <td>0.006116</td>\n",
       "    </tr>\n",
       "    <tr>\n",
       "      <th>31</th>\n",
       "      <td>rep_31.npy</td>\n",
       "      <td>00352d6c1f8b4a10b06f7e10ecf7e64e</td>\n",
       "      <td>2</td>\n",
       "      <td>0.007527</td>\n",
       "      <td>0.992473</td>\n",
       "    </tr>\n",
       "    <tr>\n",
       "      <th>32</th>\n",
       "      <td>rep_32.npy</td>\n",
       "      <td>bde05c3b064349b79d0aa38951d62e8c</td>\n",
       "      <td>1</td>\n",
       "      <td>0.994188</td>\n",
       "      <td>0.005812</td>\n",
       "    </tr>\n",
       "    <tr>\n",
       "      <th>33</th>\n",
       "      <td>rep_33.npy</td>\n",
       "      <td>d65e1d9860d246269940475299c9b5d9</td>\n",
       "      <td>2</td>\n",
       "      <td>0.008534</td>\n",
       "      <td>0.991466</td>\n",
       "    </tr>\n",
       "    <tr>\n",
       "      <th>34</th>\n",
       "      <td>rep_34.npy</td>\n",
       "      <td>72a9599f5b334f8782572eae3c09f787</td>\n",
       "      <td>2</td>\n",
       "      <td>0.008112</td>\n",
       "      <td>0.991888</td>\n",
       "    </tr>\n",
       "    <tr>\n",
       "      <th>35</th>\n",
       "      <td>rep_35.npy</td>\n",
       "      <td>4181b7f9b0ca409cbcc3f305cfbebff6</td>\n",
       "      <td>1</td>\n",
       "      <td>0.993781</td>\n",
       "      <td>0.006219</td>\n",
       "    </tr>\n",
       "    <tr>\n",
       "      <th>36</th>\n",
       "      <td>rep_36.npy</td>\n",
       "      <td>367ea672650749b4ac6451e279f6f7b8</td>\n",
       "      <td>2</td>\n",
       "      <td>0.007684</td>\n",
       "      <td>0.992316</td>\n",
       "    </tr>\n",
       "    <tr>\n",
       "      <th>37</th>\n",
       "      <td>rep_37.npy</td>\n",
       "      <td>613359ba50754026b559640913815916</td>\n",
       "      <td>2</td>\n",
       "      <td>0.008086</td>\n",
       "      <td>0.991914</td>\n",
       "    </tr>\n",
       "    <tr>\n",
       "      <th>38</th>\n",
       "      <td>rep_38.npy</td>\n",
       "      <td>9718512a6c38471494fa9cff44499f7b</td>\n",
       "      <td>1</td>\n",
       "      <td>0.993823</td>\n",
       "      <td>0.006177</td>\n",
       "    </tr>\n",
       "    <tr>\n",
       "      <th>39</th>\n",
       "      <td>rep_39.npy</td>\n",
       "      <td>80dd944707354d7e823a2f29fc6e315b</td>\n",
       "      <td>1</td>\n",
       "      <td>0.993778</td>\n",
       "      <td>0.006222</td>\n",
       "    </tr>\n",
       "    <tr>\n",
       "      <th>40</th>\n",
       "      <td>rep_40.npy</td>\n",
       "      <td>db51136c33244abc827a063659444089</td>\n",
       "      <td>1</td>\n",
       "      <td>0.994222</td>\n",
       "      <td>0.005778</td>\n",
       "    </tr>\n",
       "    <tr>\n",
       "      <th>41</th>\n",
       "      <td>rep_41.npy</td>\n",
       "      <td>fca613b2b9e14628bb59d6ca1d82dcb8</td>\n",
       "      <td>1</td>\n",
       "      <td>0.993303</td>\n",
       "      <td>0.006697</td>\n",
       "    </tr>\n",
       "    <tr>\n",
       "      <th>42</th>\n",
       "      <td>rep_42.npy</td>\n",
       "      <td>4dff88b395c345b68d65ded59e246ca9</td>\n",
       "      <td>1</td>\n",
       "      <td>0.993759</td>\n",
       "      <td>0.006241</td>\n",
       "    </tr>\n",
       "    <tr>\n",
       "      <th>43</th>\n",
       "      <td>rep_43.npy</td>\n",
       "      <td>16f60d6c927747f3bfacbd08803aa66f</td>\n",
       "      <td>2</td>\n",
       "      <td>0.008097</td>\n",
       "      <td>0.991903</td>\n",
       "    </tr>\n",
       "    <tr>\n",
       "      <th>44</th>\n",
       "      <td>rep_44.npy</td>\n",
       "      <td>794f888a1ef5498889f288bf7f93fdf2</td>\n",
       "      <td>2</td>\n",
       "      <td>0.007668</td>\n",
       "      <td>0.992332</td>\n",
       "    </tr>\n",
       "    <tr>\n",
       "      <th>45</th>\n",
       "      <td>rep_45.npy</td>\n",
       "      <td>04626eff86c343dfb89fa19a44668aad</td>\n",
       "      <td>2</td>\n",
       "      <td>0.007685</td>\n",
       "      <td>0.992315</td>\n",
       "    </tr>\n",
       "    <tr>\n",
       "      <th>46</th>\n",
       "      <td>rep_46.npy</td>\n",
       "      <td>37f6449483fd47098960664f77130f7f</td>\n",
       "      <td>1</td>\n",
       "      <td>0.993321</td>\n",
       "      <td>0.006679</td>\n",
       "    </tr>\n",
       "    <tr>\n",
       "      <th>47</th>\n",
       "      <td>rep_47.npy</td>\n",
       "      <td>f8465a6bd02e48938d4e0b85c2de6ec4</td>\n",
       "      <td>2</td>\n",
       "      <td>0.007696</td>\n",
       "      <td>0.992304</td>\n",
       "    </tr>\n",
       "    <tr>\n",
       "      <th>48</th>\n",
       "      <td>rep_48.npy</td>\n",
       "      <td>03e52add5696407d981a42b1ed517019</td>\n",
       "      <td>2</td>\n",
       "      <td>0.008094</td>\n",
       "      <td>0.991906</td>\n",
       "    </tr>\n",
       "    <tr>\n",
       "      <th>49</th>\n",
       "      <td>rep_49.npy</td>\n",
       "      <td>e6d8962a051c4fd8859410b14b58739d</td>\n",
       "      <td>2</td>\n",
       "      <td>0.007687</td>\n",
       "      <td>0.992313</td>\n",
       "    </tr>\n",
       "  </tbody>\n",
       "</table>\n",
       "</div>"
      ],
      "text/plain": [
       "   repertoire_file                        example_id  l1  l1_1_proba  \\\n",
       "0        rep_0.npy  7399cfb9af2d43f49824b587a1ddc1da   1    0.993781   \n",
       "1        rep_1.npy  9cca28e623e04026ba02717b54a544ea   1    0.993763   \n",
       "2        rep_2.npy  6d931c46b3c74594aef188a40aef72c7   1    0.993769   \n",
       "3        rep_3.npy  5ed944d5187648129975ef6dde781fc4   1    0.993785   \n",
       "4        rep_4.npy  d2aad70624ff44a488797064da2c19a6   1    0.993627   \n",
       "5        rep_5.npy  3c4cb4c887014d3ab3d290a2d12fa264   2    0.008095   \n",
       "6        rep_6.npy  f7c45c140edf4cb28a1424a00037218d   1    0.994182   \n",
       "7        rep_7.npy  0ac77582848b4d2d99d64138ebfa3814   1    0.993790   \n",
       "8        rep_8.npy  1b327897f8424f2ebfb29e1a48efeb7a   2    0.007937   \n",
       "9        rep_9.npy  daa63945e8674191bd0470bbdf3a95f8   2    0.008530   \n",
       "10      rep_10.npy  5829a96ea796407ababf209cc53bb428   1    0.994210   \n",
       "11      rep_11.npy  f8ae7b34376342c58580b31ab0b0ebe9   1    0.994214   \n",
       "12      rep_12.npy  1d8cc82f9019499da9f37cdbae111aea   1    0.993325   \n",
       "13      rep_13.npy  8f513bdf30954bd185a2d3e5bc569ece   1    0.993810   \n",
       "14      rep_14.npy  1cb50f5dc69c4e45ace2a513eec49dc4   2    0.008072   \n",
       "15      rep_15.npy  d9392ba8ab00467bac303845e8920183   2    0.007684   \n",
       "16      rep_16.npy  3e54d2866f39404f9aefd82cef4f400f   1    0.994183   \n",
       "17      rep_17.npy  47bbca1dcd0d4d109a76774cfbd6c488   2    0.007675   \n",
       "18      rep_18.npy  2b7a4f42ed4844b2bdaef43b0c0b58cb   2    0.008894   \n",
       "19      rep_19.npy  ad197e7524aa4e28ba576c705998de52   2    0.008078   \n",
       "20      rep_20.npy  714797de61a24681a315134c77edf5a9   2    0.008087   \n",
       "21      rep_21.npy  3cd8db4b44d54f3baefea965c584a932   2    0.008098   \n",
       "22      rep_22.npy  33810ac56aa04a33bc052321f37cd1d2   2    0.007654   \n",
       "23      rep_23.npy  edc57b9f6fa24d12ad40a1f5e09a9036   1    0.994233   \n",
       "24      rep_24.npy  852bc7f7a04040fa974a52a8817685b0   1    0.993906   \n",
       "25      rep_25.npy  1fff7a51353c4133bb7478860edf1fe4   1    0.994172   \n",
       "26      rep_26.npy  6436abf9fbfc482da04cd2ce6b6c3428   2    0.007682   \n",
       "27      rep_27.npy  6e654be41f5d4fc69d82c8d34c6703bf   2    0.007691   \n",
       "28      rep_28.npy  167368d9f6f14027abd11ebb0ca2b0fd   2    0.008570   \n",
       "29      rep_29.npy  3ed6ea794203446885d48344a4ac658b   2    0.008102   \n",
       "30      rep_30.npy  e3672b9005104fb992052665ee4305a8   1    0.993884   \n",
       "31      rep_31.npy  00352d6c1f8b4a10b06f7e10ecf7e64e   2    0.007527   \n",
       "32      rep_32.npy  bde05c3b064349b79d0aa38951d62e8c   1    0.994188   \n",
       "33      rep_33.npy  d65e1d9860d246269940475299c9b5d9   2    0.008534   \n",
       "34      rep_34.npy  72a9599f5b334f8782572eae3c09f787   2    0.008112   \n",
       "35      rep_35.npy  4181b7f9b0ca409cbcc3f305cfbebff6   1    0.993781   \n",
       "36      rep_36.npy  367ea672650749b4ac6451e279f6f7b8   2    0.007684   \n",
       "37      rep_37.npy  613359ba50754026b559640913815916   2    0.008086   \n",
       "38      rep_38.npy  9718512a6c38471494fa9cff44499f7b   1    0.993823   \n",
       "39      rep_39.npy  80dd944707354d7e823a2f29fc6e315b   1    0.993778   \n",
       "40      rep_40.npy  db51136c33244abc827a063659444089   1    0.994222   \n",
       "41      rep_41.npy  fca613b2b9e14628bb59d6ca1d82dcb8   1    0.993303   \n",
       "42      rep_42.npy  4dff88b395c345b68d65ded59e246ca9   1    0.993759   \n",
       "43      rep_43.npy  16f60d6c927747f3bfacbd08803aa66f   2    0.008097   \n",
       "44      rep_44.npy  794f888a1ef5498889f288bf7f93fdf2   2    0.007668   \n",
       "45      rep_45.npy  04626eff86c343dfb89fa19a44668aad   2    0.007685   \n",
       "46      rep_46.npy  37f6449483fd47098960664f77130f7f   1    0.993321   \n",
       "47      rep_47.npy  f8465a6bd02e48938d4e0b85c2de6ec4   2    0.007696   \n",
       "48      rep_48.npy  03e52add5696407d981a42b1ed517019   2    0.008094   \n",
       "49      rep_49.npy  e6d8962a051c4fd8859410b14b58739d   2    0.007687   \n",
       "\n",
       "    l1_2_proba  \n",
       "0     0.006219  \n",
       "1     0.006237  \n",
       "2     0.006231  \n",
       "3     0.006215  \n",
       "4     0.006373  \n",
       "5     0.991905  \n",
       "6     0.005818  \n",
       "7     0.006210  \n",
       "8     0.992063  \n",
       "9     0.991470  \n",
       "10    0.005790  \n",
       "11    0.005786  \n",
       "12    0.006675  \n",
       "13    0.006190  \n",
       "14    0.991928  \n",
       "15    0.992316  \n",
       "16    0.005817  \n",
       "17    0.992325  \n",
       "18    0.991106  \n",
       "19    0.991922  \n",
       "20    0.991913  \n",
       "21    0.991902  \n",
       "22    0.992346  \n",
       "23    0.005767  \n",
       "24    0.006094  \n",
       "25    0.005828  \n",
       "26    0.992318  \n",
       "27    0.992309  \n",
       "28    0.991430  \n",
       "29    0.991898  \n",
       "30    0.006116  \n",
       "31    0.992473  \n",
       "32    0.005812  \n",
       "33    0.991466  \n",
       "34    0.991888  \n",
       "35    0.006219  \n",
       "36    0.992316  \n",
       "37    0.991914  \n",
       "38    0.006177  \n",
       "39    0.006222  \n",
       "40    0.005778  \n",
       "41    0.006697  \n",
       "42    0.006241  \n",
       "43    0.991903  \n",
       "44    0.992332  \n",
       "45    0.992315  \n",
       "46    0.006679  \n",
       "47    0.992304  \n",
       "48    0.991906  \n",
       "49    0.992313  "
      ]
     },
     "execution_count": 14,
     "metadata": {},
     "output_type": "execute_result"
    }
   ],
   "source": [
    "df"
   ]
  },
  {
   "cell_type": "code",
   "execution_count": 18,
   "metadata": {},
   "outputs": [
    {
     "data": {
      "text/plain": [
       "'C:\\\\Users\\\\karth\\\\Desktop\\\\PhD projects\\\\immuneML\\\\immuneML'"
      ]
     },
     "execution_count": 18,
     "metadata": {},
     "output_type": "execute_result"
    }
   ],
   "source": [
    "import os \n",
    "\n",
    "os.environ['PYTHONPATH']\n"
   ]
  },
  {
   "cell_type": "code",
   "execution_count": 19,
   "metadata": {},
   "outputs": [],
   "source": [
    "import sys\n",
    "sys.path.append('../')\n"
   ]
  },
  {
   "cell_type": "code",
   "execution_count": 15,
   "metadata": {},
   "outputs": [
    {
     "data": {
      "text/plain": [
       "<DaskLogisticRegression.DaskLogisticRegression at 0x20f73d03f70>"
      ]
     },
     "execution_count": 15,
     "metadata": {},
     "output_type": "execute_result"
    }
   ],
   "source": [
    "lr"
   ]
  },
  {
   "cell_type": "code",
   "execution_count": 5,
   "metadata": {},
   "outputs": [],
   "source": [
    "import dask\n",
    "import dask.array as da"
   ]
  },
  {
   "cell_type": "code",
   "execution_count": 6,
   "metadata": {},
   "outputs": [],
   "source": [
    "from dask_ml.datasets import make_classification\n"
   ]
  },
  {
   "cell_type": "code",
   "execution_count": 2,
   "metadata": {},
   "outputs": [],
   "source": [
    "from dask.distributed import Client, progress\n",
    "\n",
    "client = Client()"
   ]
  },
  {
   "cell_type": "code",
   "execution_count": 3,
   "metadata": {},
   "outputs": [
    {
     "data": {
      "text/html": [
       "<div>\n",
       "    <div style=\"width: 24px; height: 24px; background-color: #e1e1e1; border: 3px solid #9D9D9D; border-radius: 5px; position: absolute;\"> </div>\n",
       "    <div style=\"margin-left: 48px;\">\n",
       "        <h3 style=\"margin-bottom: 0px;\">Client</h3>\n",
       "        <p style=\"color: #9D9D9D; margin-bottom: 0px;\">Client-9ad88de8-dea7-11ec-84d8-9cb6d0fe1bec</p>\n",
       "        <table style=\"width: 100%; text-align: left;\">\n",
       "\n",
       "        <tr>\n",
       "        \n",
       "            <td style=\"text-align: left;\"><strong>Connection method:</strong> Cluster object</td>\n",
       "            <td style=\"text-align: left;\"><strong>Cluster type:</strong> distributed.LocalCluster</td>\n",
       "        \n",
       "        </tr>\n",
       "\n",
       "        \n",
       "            <tr>\n",
       "                <td style=\"text-align: left;\">\n",
       "                    <strong>Dashboard: </strong> <a href=\"http://127.0.0.1:8787/status\" target=\"_blank\">http://127.0.0.1:8787/status</a>\n",
       "                </td>\n",
       "                <td style=\"text-align: left;\"></td>\n",
       "            </tr>\n",
       "        \n",
       "\n",
       "        </table>\n",
       "\n",
       "        \n",
       "            <details>\n",
       "            <summary style=\"margin-bottom: 20px;\"><h3 style=\"display: inline;\">Cluster Info</h3></summary>\n",
       "            <div class=\"jp-RenderedHTMLCommon jp-RenderedHTML jp-mod-trusted jp-OutputArea-output\">\n",
       "    <div style=\"width: 24px; height: 24px; background-color: #e1e1e1; border: 3px solid #9D9D9D; border-radius: 5px; position: absolute;\">\n",
       "    </div>\n",
       "    <div style=\"margin-left: 48px;\">\n",
       "        <h3 style=\"margin-bottom: 0px; margin-top: 0px;\">LocalCluster</h3>\n",
       "        <p style=\"color: #9D9D9D; margin-bottom: 0px;\">27f50785</p>\n",
       "        <table style=\"width: 100%; text-align: left;\">\n",
       "            <tr>\n",
       "                <td style=\"text-align: left;\">\n",
       "                    <strong>Dashboard:</strong> <a href=\"http://127.0.0.1:8787/status\" target=\"_blank\">http://127.0.0.1:8787/status</a>\n",
       "                </td>\n",
       "                <td style=\"text-align: left;\">\n",
       "                    <strong>Workers:</strong> 4\n",
       "                </td>\n",
       "            </tr>\n",
       "            <tr>\n",
       "                <td style=\"text-align: left;\">\n",
       "                    <strong>Total threads:</strong> 8\n",
       "                </td>\n",
       "                <td style=\"text-align: left;\">\n",
       "                    <strong>Total memory:</strong> 15.86 GiB\n",
       "                </td>\n",
       "            </tr>\n",
       "            \n",
       "            <tr>\n",
       "    <td style=\"text-align: left;\"><strong>Status:</strong> running</td>\n",
       "    <td style=\"text-align: left;\"><strong>Using processes:</strong> True</td>\n",
       "</tr>\n",
       "\n",
       "            \n",
       "        </table>\n",
       "\n",
       "        <details>\n",
       "            <summary style=\"margin-bottom: 20px;\">\n",
       "                <h3 style=\"display: inline;\">Scheduler Info</h3>\n",
       "            </summary>\n",
       "\n",
       "            <div style=\"\">\n",
       "    <div>\n",
       "        <div style=\"width: 24px; height: 24px; background-color: #FFF7E5; border: 3px solid #FF6132; border-radius: 5px; position: absolute;\"> </div>\n",
       "        <div style=\"margin-left: 48px;\">\n",
       "            <h3 style=\"margin-bottom: 0px;\">Scheduler</h3>\n",
       "            <p style=\"color: #9D9D9D; margin-bottom: 0px;\">Scheduler-378ccdd3-8f73-4e20-a6d0-9069a3cab9f0</p>\n",
       "            <table style=\"width: 100%; text-align: left;\">\n",
       "                <tr>\n",
       "                    <td style=\"text-align: left;\">\n",
       "                        <strong>Comm:</strong> tcp://127.0.0.1:62226\n",
       "                    </td>\n",
       "                    <td style=\"text-align: left;\">\n",
       "                        <strong>Workers:</strong> 4\n",
       "                    </td>\n",
       "                </tr>\n",
       "                <tr>\n",
       "                    <td style=\"text-align: left;\">\n",
       "                        <strong>Dashboard:</strong> <a href=\"http://127.0.0.1:8787/status\" target=\"_blank\">http://127.0.0.1:8787/status</a>\n",
       "                    </td>\n",
       "                    <td style=\"text-align: left;\">\n",
       "                        <strong>Total threads:</strong> 8\n",
       "                    </td>\n",
       "                </tr>\n",
       "                <tr>\n",
       "                    <td style=\"text-align: left;\">\n",
       "                        <strong>Started:</strong> Just now\n",
       "                    </td>\n",
       "                    <td style=\"text-align: left;\">\n",
       "                        <strong>Total memory:</strong> 15.86 GiB\n",
       "                    </td>\n",
       "                </tr>\n",
       "            </table>\n",
       "        </div>\n",
       "    </div>\n",
       "\n",
       "    <details style=\"margin-left: 48px;\">\n",
       "        <summary style=\"margin-bottom: 20px;\">\n",
       "            <h3 style=\"display: inline;\">Workers</h3>\n",
       "        </summary>\n",
       "\n",
       "        \n",
       "        <div style=\"margin-bottom: 20px;\">\n",
       "            <div style=\"width: 24px; height: 24px; background-color: #DBF5FF; border: 3px solid #4CC9FF; border-radius: 5px; position: absolute;\"> </div>\n",
       "            <div style=\"margin-left: 48px;\">\n",
       "            <details>\n",
       "                <summary>\n",
       "                    <h4 style=\"margin-bottom: 0px; display: inline;\">Worker: 0</h4>\n",
       "                </summary>\n",
       "                <table style=\"width: 100%; text-align: left;\">\n",
       "                    <tr>\n",
       "                        <td style=\"text-align: left;\">\n",
       "                            <strong>Comm: </strong> tcp://127.0.0.1:62257\n",
       "                        </td>\n",
       "                        <td style=\"text-align: left;\">\n",
       "                            <strong>Total threads: </strong> 2\n",
       "                        </td>\n",
       "                    </tr>\n",
       "                    <tr>\n",
       "                        <td style=\"text-align: left;\">\n",
       "                            <strong>Dashboard: </strong> <a href=\"http://127.0.0.1:62260/status\" target=\"_blank\">http://127.0.0.1:62260/status</a>\n",
       "                        </td>\n",
       "                        <td style=\"text-align: left;\">\n",
       "                            <strong>Memory: </strong> 3.96 GiB\n",
       "                        </td>\n",
       "                    </tr>\n",
       "                    <tr>\n",
       "                        <td style=\"text-align: left;\">\n",
       "                            <strong>Nanny: </strong> tcp://127.0.0.1:62232\n",
       "                        </td>\n",
       "                        <td style=\"text-align: left;\"></td>\n",
       "                    </tr>\n",
       "                    <tr>\n",
       "                        <td colspan=\"2\" style=\"text-align: left;\">\n",
       "                            <strong>Local directory: </strong> c:\\Users\\karth\\Desktop\\PhD projects\\immuneML\\dev_immuneML\\immuneML\\immuneML\\ml_methods\\dask-worker-space\\worker-qrhzg0yl\n",
       "                        </td>\n",
       "                    </tr>\n",
       "\n",
       "                    \n",
       "\n",
       "                    \n",
       "\n",
       "                </table>\n",
       "            </details>\n",
       "            </div>\n",
       "        </div>\n",
       "        \n",
       "        <div style=\"margin-bottom: 20px;\">\n",
       "            <div style=\"width: 24px; height: 24px; background-color: #DBF5FF; border: 3px solid #4CC9FF; border-radius: 5px; position: absolute;\"> </div>\n",
       "            <div style=\"margin-left: 48px;\">\n",
       "            <details>\n",
       "                <summary>\n",
       "                    <h4 style=\"margin-bottom: 0px; display: inline;\">Worker: 1</h4>\n",
       "                </summary>\n",
       "                <table style=\"width: 100%; text-align: left;\">\n",
       "                    <tr>\n",
       "                        <td style=\"text-align: left;\">\n",
       "                            <strong>Comm: </strong> tcp://127.0.0.1:62253\n",
       "                        </td>\n",
       "                        <td style=\"text-align: left;\">\n",
       "                            <strong>Total threads: </strong> 2\n",
       "                        </td>\n",
       "                    </tr>\n",
       "                    <tr>\n",
       "                        <td style=\"text-align: left;\">\n",
       "                            <strong>Dashboard: </strong> <a href=\"http://127.0.0.1:62254/status\" target=\"_blank\">http://127.0.0.1:62254/status</a>\n",
       "                        </td>\n",
       "                        <td style=\"text-align: left;\">\n",
       "                            <strong>Memory: </strong> 3.96 GiB\n",
       "                        </td>\n",
       "                    </tr>\n",
       "                    <tr>\n",
       "                        <td style=\"text-align: left;\">\n",
       "                            <strong>Nanny: </strong> tcp://127.0.0.1:62230\n",
       "                        </td>\n",
       "                        <td style=\"text-align: left;\"></td>\n",
       "                    </tr>\n",
       "                    <tr>\n",
       "                        <td colspan=\"2\" style=\"text-align: left;\">\n",
       "                            <strong>Local directory: </strong> c:\\Users\\karth\\Desktop\\PhD projects\\immuneML\\dev_immuneML\\immuneML\\immuneML\\ml_methods\\dask-worker-space\\worker-xy0d8790\n",
       "                        </td>\n",
       "                    </tr>\n",
       "\n",
       "                    \n",
       "\n",
       "                    \n",
       "\n",
       "                </table>\n",
       "            </details>\n",
       "            </div>\n",
       "        </div>\n",
       "        \n",
       "        <div style=\"margin-bottom: 20px;\">\n",
       "            <div style=\"width: 24px; height: 24px; background-color: #DBF5FF; border: 3px solid #4CC9FF; border-radius: 5px; position: absolute;\"> </div>\n",
       "            <div style=\"margin-left: 48px;\">\n",
       "            <details>\n",
       "                <summary>\n",
       "                    <h4 style=\"margin-bottom: 0px; display: inline;\">Worker: 2</h4>\n",
       "                </summary>\n",
       "                <table style=\"width: 100%; text-align: left;\">\n",
       "                    <tr>\n",
       "                        <td style=\"text-align: left;\">\n",
       "                            <strong>Comm: </strong> tcp://127.0.0.1:62262\n",
       "                        </td>\n",
       "                        <td style=\"text-align: left;\">\n",
       "                            <strong>Total threads: </strong> 2\n",
       "                        </td>\n",
       "                    </tr>\n",
       "                    <tr>\n",
       "                        <td style=\"text-align: left;\">\n",
       "                            <strong>Dashboard: </strong> <a href=\"http://127.0.0.1:62263/status\" target=\"_blank\">http://127.0.0.1:62263/status</a>\n",
       "                        </td>\n",
       "                        <td style=\"text-align: left;\">\n",
       "                            <strong>Memory: </strong> 3.96 GiB\n",
       "                        </td>\n",
       "                    </tr>\n",
       "                    <tr>\n",
       "                        <td style=\"text-align: left;\">\n",
       "                            <strong>Nanny: </strong> tcp://127.0.0.1:62229\n",
       "                        </td>\n",
       "                        <td style=\"text-align: left;\"></td>\n",
       "                    </tr>\n",
       "                    <tr>\n",
       "                        <td colspan=\"2\" style=\"text-align: left;\">\n",
       "                            <strong>Local directory: </strong> c:\\Users\\karth\\Desktop\\PhD projects\\immuneML\\dev_immuneML\\immuneML\\immuneML\\ml_methods\\dask-worker-space\\worker-2mj03e0m\n",
       "                        </td>\n",
       "                    </tr>\n",
       "\n",
       "                    \n",
       "\n",
       "                    \n",
       "\n",
       "                </table>\n",
       "            </details>\n",
       "            </div>\n",
       "        </div>\n",
       "        \n",
       "        <div style=\"margin-bottom: 20px;\">\n",
       "            <div style=\"width: 24px; height: 24px; background-color: #DBF5FF; border: 3px solid #4CC9FF; border-radius: 5px; position: absolute;\"> </div>\n",
       "            <div style=\"margin-left: 48px;\">\n",
       "            <details>\n",
       "                <summary>\n",
       "                    <h4 style=\"margin-bottom: 0px; display: inline;\">Worker: 3</h4>\n",
       "                </summary>\n",
       "                <table style=\"width: 100%; text-align: left;\">\n",
       "                    <tr>\n",
       "                        <td style=\"text-align: left;\">\n",
       "                            <strong>Comm: </strong> tcp://127.0.0.1:62256\n",
       "                        </td>\n",
       "                        <td style=\"text-align: left;\">\n",
       "                            <strong>Total threads: </strong> 2\n",
       "                        </td>\n",
       "                    </tr>\n",
       "                    <tr>\n",
       "                        <td style=\"text-align: left;\">\n",
       "                            <strong>Dashboard: </strong> <a href=\"http://127.0.0.1:62258/status\" target=\"_blank\">http://127.0.0.1:62258/status</a>\n",
       "                        </td>\n",
       "                        <td style=\"text-align: left;\">\n",
       "                            <strong>Memory: </strong> 3.96 GiB\n",
       "                        </td>\n",
       "                    </tr>\n",
       "                    <tr>\n",
       "                        <td style=\"text-align: left;\">\n",
       "                            <strong>Nanny: </strong> tcp://127.0.0.1:62231\n",
       "                        </td>\n",
       "                        <td style=\"text-align: left;\"></td>\n",
       "                    </tr>\n",
       "                    <tr>\n",
       "                        <td colspan=\"2\" style=\"text-align: left;\">\n",
       "                            <strong>Local directory: </strong> c:\\Users\\karth\\Desktop\\PhD projects\\immuneML\\dev_immuneML\\immuneML\\immuneML\\ml_methods\\dask-worker-space\\worker-tuxadzd_\n",
       "                        </td>\n",
       "                    </tr>\n",
       "\n",
       "                    \n",
       "\n",
       "                    \n",
       "\n",
       "                </table>\n",
       "            </details>\n",
       "            </div>\n",
       "        </div>\n",
       "        \n",
       "\n",
       "    </details>\n",
       "</div>\n",
       "\n",
       "        </details>\n",
       "    </div>\n",
       "</div>\n",
       "            </details>\n",
       "        \n",
       "\n",
       "    </div>\n",
       "</div>"
      ],
      "text/plain": [
       "<Client: 'tcp://127.0.0.1:62226' processes=4 threads=8, memory=15.86 GiB>"
      ]
     },
     "execution_count": 3,
     "metadata": {},
     "output_type": "execute_result"
    }
   ],
   "source": [
    "client"
   ]
  },
  {
   "cell_type": "code",
   "execution_count": 8,
   "metadata": {},
   "outputs": [
    {
     "data": {
      "text/html": [
       "<table>\n",
       "    <tr>\n",
       "        <td>\n",
       "            <table>\n",
       "                <thead>\n",
       "                    <tr>\n",
       "                        <td> </td>\n",
       "                        <th> Array </th>\n",
       "                        <th> Chunk </th>\n",
       "                    </tr>\n",
       "                </thead>\n",
       "                <tbody>\n",
       "                    \n",
       "                    <tr>\n",
       "                        <th> Bytes </th>\n",
       "                        <td> 3.73 GiB </td>\n",
       "                        <td> 381.47 MiB </td>\n",
       "                    </tr>\n",
       "                    \n",
       "                    <tr>\n",
       "                        <th> Shape </th>\n",
       "                        <td> (5000000, 100) </td>\n",
       "                        <td> (500000, 100) </td>\n",
       "                    </tr>\n",
       "                    <tr>\n",
       "                        <th> Count </th>\n",
       "                        <td> 10 Tasks </td>\n",
       "                        <td> 10 Chunks </td>\n",
       "                    </tr>\n",
       "                    <tr>\n",
       "                    <th> Type </th>\n",
       "                    <td> float64 </td>\n",
       "                    <td> numpy.ndarray </td>\n",
       "                    </tr>\n",
       "                </tbody>\n",
       "            </table>\n",
       "        </td>\n",
       "        <td>\n",
       "        <svg width=\"75\" height=\"170\" style=\"stroke:rgb(0,0,0);stroke-width:1\" >\n",
       "\n",
       "  <!-- Horizontal lines -->\n",
       "  <line x1=\"0\" y1=\"0\" x2=\"25\" y2=\"0\" style=\"stroke-width:2\" />\n",
       "  <line x1=\"0\" y1=\"12\" x2=\"25\" y2=\"12\" />\n",
       "  <line x1=\"0\" y1=\"24\" x2=\"25\" y2=\"24\" />\n",
       "  <line x1=\"0\" y1=\"36\" x2=\"25\" y2=\"36\" />\n",
       "  <line x1=\"0\" y1=\"48\" x2=\"25\" y2=\"48\" />\n",
       "  <line x1=\"0\" y1=\"60\" x2=\"25\" y2=\"60\" />\n",
       "  <line x1=\"0\" y1=\"72\" x2=\"25\" y2=\"72\" />\n",
       "  <line x1=\"0\" y1=\"84\" x2=\"25\" y2=\"84\" />\n",
       "  <line x1=\"0\" y1=\"96\" x2=\"25\" y2=\"96\" />\n",
       "  <line x1=\"0\" y1=\"108\" x2=\"25\" y2=\"108\" />\n",
       "  <line x1=\"0\" y1=\"120\" x2=\"25\" y2=\"120\" style=\"stroke-width:2\" />\n",
       "\n",
       "  <!-- Vertical lines -->\n",
       "  <line x1=\"0\" y1=\"0\" x2=\"0\" y2=\"120\" style=\"stroke-width:2\" />\n",
       "  <line x1=\"25\" y1=\"0\" x2=\"25\" y2=\"120\" style=\"stroke-width:2\" />\n",
       "\n",
       "  <!-- Colored Rectangle -->\n",
       "  <polygon points=\"0.0,0.0 25.41261651458249,0.0 25.41261651458249,120.0 0.0,120.0\" style=\"fill:#ECB172A0;stroke-width:0\"/>\n",
       "\n",
       "  <!-- Text -->\n",
       "  <text x=\"12.706308\" y=\"140.000000\" font-size=\"1.0rem\" font-weight=\"100\" text-anchor=\"middle\" >100</text>\n",
       "  <text x=\"45.412617\" y=\"60.000000\" font-size=\"1.0rem\" font-weight=\"100\" text-anchor=\"middle\" transform=\"rotate(-90,45.412617,60.000000)\">5000000</text>\n",
       "</svg>\n",
       "        </td>\n",
       "    </tr>\n",
       "</table>"
      ],
      "text/plain": [
       "dask.array<normal, shape=(5000000, 100), dtype=float64, chunksize=(500000, 100), chunktype=numpy.ndarray>"
      ]
     },
     "execution_count": 8,
     "metadata": {},
     "output_type": "execute_result"
    }
   ],
   "source": [
    "n, d = 5000000, 100\n",
    "\n",
    "X, y = make_classification(n_samples=n, n_features=d,\n",
    "                           chunks=n // 10, flip_y=0.2)\n",
    "X"
   ]
  },
  {
   "cell_type": "code",
   "execution_count": 40,
   "metadata": {},
   "outputs": [],
   "source": [
    "lr = DaskLogisticRegression()\n"
   ]
  },
  {
   "cell_type": "code",
   "execution_count": 9,
   "metadata": {},
   "outputs": [
    {
     "data": {
      "text/html": [
       "<table>\n",
       "    <tr>\n",
       "        <td>\n",
       "            <table>\n",
       "                <thead>\n",
       "                    <tr>\n",
       "                        <td> </td>\n",
       "                        <th> Array </th>\n",
       "                        <th> Chunk </th>\n",
       "                    </tr>\n",
       "                </thead>\n",
       "                <tbody>\n",
       "                    \n",
       "                    <tr>\n",
       "                        <th> Bytes </th>\n",
       "                        <td> 3.35 GiB </td>\n",
       "                        <td> 343.32 MiB </td>\n",
       "                    </tr>\n",
       "                    \n",
       "                    <tr>\n",
       "                        <th> Shape </th>\n",
       "                        <td> (4500000, 100) </td>\n",
       "                        <td> (450000, 100) </td>\n",
       "                    </tr>\n",
       "                    <tr>\n",
       "                        <th> Count </th>\n",
       "                        <td> 70 Tasks </td>\n",
       "                        <td> 10 Chunks </td>\n",
       "                    </tr>\n",
       "                    <tr>\n",
       "                    <th> Type </th>\n",
       "                    <td> float64 </td>\n",
       "                    <td> numpy.ndarray </td>\n",
       "                    </tr>\n",
       "                </tbody>\n",
       "            </table>\n",
       "        </td>\n",
       "        <td>\n",
       "        <svg width=\"75\" height=\"170\" style=\"stroke:rgb(0,0,0);stroke-width:1\" >\n",
       "\n",
       "  <!-- Horizontal lines -->\n",
       "  <line x1=\"0\" y1=\"0\" x2=\"25\" y2=\"0\" style=\"stroke-width:2\" />\n",
       "  <line x1=\"0\" y1=\"12\" x2=\"25\" y2=\"12\" />\n",
       "  <line x1=\"0\" y1=\"24\" x2=\"25\" y2=\"24\" />\n",
       "  <line x1=\"0\" y1=\"36\" x2=\"25\" y2=\"36\" />\n",
       "  <line x1=\"0\" y1=\"48\" x2=\"25\" y2=\"48\" />\n",
       "  <line x1=\"0\" y1=\"60\" x2=\"25\" y2=\"60\" />\n",
       "  <line x1=\"0\" y1=\"72\" x2=\"25\" y2=\"72\" />\n",
       "  <line x1=\"0\" y1=\"84\" x2=\"25\" y2=\"84\" />\n",
       "  <line x1=\"0\" y1=\"96\" x2=\"25\" y2=\"96\" />\n",
       "  <line x1=\"0\" y1=\"108\" x2=\"25\" y2=\"108\" />\n",
       "  <line x1=\"0\" y1=\"120\" x2=\"25\" y2=\"120\" style=\"stroke-width:2\" />\n",
       "\n",
       "  <!-- Vertical lines -->\n",
       "  <line x1=\"0\" y1=\"0\" x2=\"0\" y2=\"120\" style=\"stroke-width:2\" />\n",
       "  <line x1=\"25\" y1=\"0\" x2=\"25\" y2=\"120\" style=\"stroke-width:2\" />\n",
       "\n",
       "  <!-- Colored Rectangle -->\n",
       "  <polygon points=\"0.0,0.0 25.41261651458249,0.0 25.41261651458249,120.0 0.0,120.0\" style=\"fill:#ECB172A0;stroke-width:0\"/>\n",
       "\n",
       "  <!-- Text -->\n",
       "  <text x=\"12.706308\" y=\"140.000000\" font-size=\"1.0rem\" font-weight=\"100\" text-anchor=\"middle\" >100</text>\n",
       "  <text x=\"45.412617\" y=\"60.000000\" font-size=\"1.0rem\" font-weight=\"100\" text-anchor=\"middle\" transform=\"rotate(-90,45.412617,60.000000)\">4500000</text>\n",
       "</svg>\n",
       "        </td>\n",
       "    </tr>\n",
       "</table>"
      ],
      "text/plain": [
       "dask.array<concatenate, shape=(4500000, 100), dtype=float64, chunksize=(450000, 100), chunktype=numpy.ndarray>"
      ]
     },
     "execution_count": 9,
     "metadata": {},
     "output_type": "execute_result"
    }
   ],
   "source": [
    "from dask_ml.model_selection import train_test_split\n",
    "X_train, X_test, y_train, y_test = train_test_split(X, y)\n",
    "X_train\n"
   ]
  },
  {
   "cell_type": "code",
   "execution_count": 10,
   "metadata": {},
   "outputs": [],
   "source": [
    "X_train, X_test, y_train, y_test = dask.persist(\n",
    "    X_train, X_test, y_train, y_test)\n"
   ]
  },
  {
   "cell_type": "code",
   "execution_count": 11,
   "metadata": {},
   "outputs": [
    {
     "data": {
      "text/plain": [
       "array([0, 1])"
      ]
     },
     "execution_count": 11,
     "metadata": {},
     "output_type": "execute_result"
    }
   ],
   "source": [
    "classes = da.unique(y_train).compute()\n",
    "classes"
   ]
  },
  {
   "cell_type": "code",
   "execution_count": 13,
   "metadata": {},
   "outputs": [
    {
     "data": {
      "text/html": [
       "<div>\n",
       "    <div style=\"width: 24px; height: 24px; background-color: #e1e1e1; border: 3px solid #9D9D9D; border-radius: 5px; position: absolute;\"> </div>\n",
       "    <div style=\"margin-left: 48px;\">\n",
       "        <h3 style=\"margin-bottom: 0px;\">Client</h3>\n",
       "        <p style=\"color: #9D9D9D; margin-bottom: 0px;\">Client-9ad88de8-dea7-11ec-84d8-9cb6d0fe1bec</p>\n",
       "        <table style=\"width: 100%; text-align: left;\">\n",
       "\n",
       "        <tr>\n",
       "        \n",
       "            <td style=\"text-align: left;\"><strong>Connection method:</strong> Cluster object</td>\n",
       "            <td style=\"text-align: left;\"><strong>Cluster type:</strong> distributed.LocalCluster</td>\n",
       "        \n",
       "        </tr>\n",
       "\n",
       "        \n",
       "            <tr>\n",
       "                <td style=\"text-align: left;\">\n",
       "                    <strong>Dashboard: </strong> <a href=\"http://127.0.0.1:8787/status\" target=\"_blank\">http://127.0.0.1:8787/status</a>\n",
       "                </td>\n",
       "                <td style=\"text-align: left;\"></td>\n",
       "            </tr>\n",
       "        \n",
       "\n",
       "        </table>\n",
       "\n",
       "        \n",
       "            <details>\n",
       "            <summary style=\"margin-bottom: 20px;\"><h3 style=\"display: inline;\">Cluster Info</h3></summary>\n",
       "            <div class=\"jp-RenderedHTMLCommon jp-RenderedHTML jp-mod-trusted jp-OutputArea-output\">\n",
       "    <div style=\"width: 24px; height: 24px; background-color: #e1e1e1; border: 3px solid #9D9D9D; border-radius: 5px; position: absolute;\">\n",
       "    </div>\n",
       "    <div style=\"margin-left: 48px;\">\n",
       "        <h3 style=\"margin-bottom: 0px; margin-top: 0px;\">LocalCluster</h3>\n",
       "        <p style=\"color: #9D9D9D; margin-bottom: 0px;\">27f50785</p>\n",
       "        <table style=\"width: 100%; text-align: left;\">\n",
       "            <tr>\n",
       "                <td style=\"text-align: left;\">\n",
       "                    <strong>Dashboard:</strong> <a href=\"http://127.0.0.1:8787/status\" target=\"_blank\">http://127.0.0.1:8787/status</a>\n",
       "                </td>\n",
       "                <td style=\"text-align: left;\">\n",
       "                    <strong>Workers:</strong> 4\n",
       "                </td>\n",
       "            </tr>\n",
       "            <tr>\n",
       "                <td style=\"text-align: left;\">\n",
       "                    <strong>Total threads:</strong> 8\n",
       "                </td>\n",
       "                <td style=\"text-align: left;\">\n",
       "                    <strong>Total memory:</strong> 15.86 GiB\n",
       "                </td>\n",
       "            </tr>\n",
       "            \n",
       "            <tr>\n",
       "    <td style=\"text-align: left;\"><strong>Status:</strong> running</td>\n",
       "    <td style=\"text-align: left;\"><strong>Using processes:</strong> True</td>\n",
       "</tr>\n",
       "\n",
       "            \n",
       "        </table>\n",
       "\n",
       "        <details>\n",
       "            <summary style=\"margin-bottom: 20px;\">\n",
       "                <h3 style=\"display: inline;\">Scheduler Info</h3>\n",
       "            </summary>\n",
       "\n",
       "            <div style=\"\">\n",
       "    <div>\n",
       "        <div style=\"width: 24px; height: 24px; background-color: #FFF7E5; border: 3px solid #FF6132; border-radius: 5px; position: absolute;\"> </div>\n",
       "        <div style=\"margin-left: 48px;\">\n",
       "            <h3 style=\"margin-bottom: 0px;\">Scheduler</h3>\n",
       "            <p style=\"color: #9D9D9D; margin-bottom: 0px;\">Scheduler-378ccdd3-8f73-4e20-a6d0-9069a3cab9f0</p>\n",
       "            <table style=\"width: 100%; text-align: left;\">\n",
       "                <tr>\n",
       "                    <td style=\"text-align: left;\">\n",
       "                        <strong>Comm:</strong> tcp://127.0.0.1:62226\n",
       "                    </td>\n",
       "                    <td style=\"text-align: left;\">\n",
       "                        <strong>Workers:</strong> 4\n",
       "                    </td>\n",
       "                </tr>\n",
       "                <tr>\n",
       "                    <td style=\"text-align: left;\">\n",
       "                        <strong>Dashboard:</strong> <a href=\"http://127.0.0.1:8787/status\" target=\"_blank\">http://127.0.0.1:8787/status</a>\n",
       "                    </td>\n",
       "                    <td style=\"text-align: left;\">\n",
       "                        <strong>Total threads:</strong> 8\n",
       "                    </td>\n",
       "                </tr>\n",
       "                <tr>\n",
       "                    <td style=\"text-align: left;\">\n",
       "                        <strong>Started:</strong> 1 minute ago\n",
       "                    </td>\n",
       "                    <td style=\"text-align: left;\">\n",
       "                        <strong>Total memory:</strong> 15.86 GiB\n",
       "                    </td>\n",
       "                </tr>\n",
       "            </table>\n",
       "        </div>\n",
       "    </div>\n",
       "\n",
       "    <details style=\"margin-left: 48px;\">\n",
       "        <summary style=\"margin-bottom: 20px;\">\n",
       "            <h3 style=\"display: inline;\">Workers</h3>\n",
       "        </summary>\n",
       "\n",
       "        \n",
       "        <div style=\"margin-bottom: 20px;\">\n",
       "            <div style=\"width: 24px; height: 24px; background-color: #DBF5FF; border: 3px solid #4CC9FF; border-radius: 5px; position: absolute;\"> </div>\n",
       "            <div style=\"margin-left: 48px;\">\n",
       "            <details>\n",
       "                <summary>\n",
       "                    <h4 style=\"margin-bottom: 0px; display: inline;\">Worker: 0</h4>\n",
       "                </summary>\n",
       "                <table style=\"width: 100%; text-align: left;\">\n",
       "                    <tr>\n",
       "                        <td style=\"text-align: left;\">\n",
       "                            <strong>Comm: </strong> tcp://127.0.0.1:62257\n",
       "                        </td>\n",
       "                        <td style=\"text-align: left;\">\n",
       "                            <strong>Total threads: </strong> 2\n",
       "                        </td>\n",
       "                    </tr>\n",
       "                    <tr>\n",
       "                        <td style=\"text-align: left;\">\n",
       "                            <strong>Dashboard: </strong> <a href=\"http://127.0.0.1:62260/status\" target=\"_blank\">http://127.0.0.1:62260/status</a>\n",
       "                        </td>\n",
       "                        <td style=\"text-align: left;\">\n",
       "                            <strong>Memory: </strong> 3.96 GiB\n",
       "                        </td>\n",
       "                    </tr>\n",
       "                    <tr>\n",
       "                        <td style=\"text-align: left;\">\n",
       "                            <strong>Nanny: </strong> tcp://127.0.0.1:62232\n",
       "                        </td>\n",
       "                        <td style=\"text-align: left;\"></td>\n",
       "                    </tr>\n",
       "                    <tr>\n",
       "                        <td colspan=\"2\" style=\"text-align: left;\">\n",
       "                            <strong>Local directory: </strong> c:\\Users\\karth\\Desktop\\PhD projects\\immuneML\\dev_immuneML\\immuneML\\immuneML\\ml_methods\\dask-worker-space\\worker-qrhzg0yl\n",
       "                        </td>\n",
       "                    </tr>\n",
       "\n",
       "                    \n",
       "\n",
       "                    \n",
       "\n",
       "                </table>\n",
       "            </details>\n",
       "            </div>\n",
       "        </div>\n",
       "        \n",
       "        <div style=\"margin-bottom: 20px;\">\n",
       "            <div style=\"width: 24px; height: 24px; background-color: #DBF5FF; border: 3px solid #4CC9FF; border-radius: 5px; position: absolute;\"> </div>\n",
       "            <div style=\"margin-left: 48px;\">\n",
       "            <details>\n",
       "                <summary>\n",
       "                    <h4 style=\"margin-bottom: 0px; display: inline;\">Worker: 1</h4>\n",
       "                </summary>\n",
       "                <table style=\"width: 100%; text-align: left;\">\n",
       "                    <tr>\n",
       "                        <td style=\"text-align: left;\">\n",
       "                            <strong>Comm: </strong> tcp://127.0.0.1:62253\n",
       "                        </td>\n",
       "                        <td style=\"text-align: left;\">\n",
       "                            <strong>Total threads: </strong> 2\n",
       "                        </td>\n",
       "                    </tr>\n",
       "                    <tr>\n",
       "                        <td style=\"text-align: left;\">\n",
       "                            <strong>Dashboard: </strong> <a href=\"http://127.0.0.1:62254/status\" target=\"_blank\">http://127.0.0.1:62254/status</a>\n",
       "                        </td>\n",
       "                        <td style=\"text-align: left;\">\n",
       "                            <strong>Memory: </strong> 3.96 GiB\n",
       "                        </td>\n",
       "                    </tr>\n",
       "                    <tr>\n",
       "                        <td style=\"text-align: left;\">\n",
       "                            <strong>Nanny: </strong> tcp://127.0.0.1:62230\n",
       "                        </td>\n",
       "                        <td style=\"text-align: left;\"></td>\n",
       "                    </tr>\n",
       "                    <tr>\n",
       "                        <td colspan=\"2\" style=\"text-align: left;\">\n",
       "                            <strong>Local directory: </strong> c:\\Users\\karth\\Desktop\\PhD projects\\immuneML\\dev_immuneML\\immuneML\\immuneML\\ml_methods\\dask-worker-space\\worker-xy0d8790\n",
       "                        </td>\n",
       "                    </tr>\n",
       "\n",
       "                    \n",
       "\n",
       "                    \n",
       "\n",
       "                </table>\n",
       "            </details>\n",
       "            </div>\n",
       "        </div>\n",
       "        \n",
       "        <div style=\"margin-bottom: 20px;\">\n",
       "            <div style=\"width: 24px; height: 24px; background-color: #DBF5FF; border: 3px solid #4CC9FF; border-radius: 5px; position: absolute;\"> </div>\n",
       "            <div style=\"margin-left: 48px;\">\n",
       "            <details>\n",
       "                <summary>\n",
       "                    <h4 style=\"margin-bottom: 0px; display: inline;\">Worker: 2</h4>\n",
       "                </summary>\n",
       "                <table style=\"width: 100%; text-align: left;\">\n",
       "                    <tr>\n",
       "                        <td style=\"text-align: left;\">\n",
       "                            <strong>Comm: </strong> tcp://127.0.0.1:62262\n",
       "                        </td>\n",
       "                        <td style=\"text-align: left;\">\n",
       "                            <strong>Total threads: </strong> 2\n",
       "                        </td>\n",
       "                    </tr>\n",
       "                    <tr>\n",
       "                        <td style=\"text-align: left;\">\n",
       "                            <strong>Dashboard: </strong> <a href=\"http://127.0.0.1:62263/status\" target=\"_blank\">http://127.0.0.1:62263/status</a>\n",
       "                        </td>\n",
       "                        <td style=\"text-align: left;\">\n",
       "                            <strong>Memory: </strong> 3.96 GiB\n",
       "                        </td>\n",
       "                    </tr>\n",
       "                    <tr>\n",
       "                        <td style=\"text-align: left;\">\n",
       "                            <strong>Nanny: </strong> tcp://127.0.0.1:62229\n",
       "                        </td>\n",
       "                        <td style=\"text-align: left;\"></td>\n",
       "                    </tr>\n",
       "                    <tr>\n",
       "                        <td colspan=\"2\" style=\"text-align: left;\">\n",
       "                            <strong>Local directory: </strong> c:\\Users\\karth\\Desktop\\PhD projects\\immuneML\\dev_immuneML\\immuneML\\immuneML\\ml_methods\\dask-worker-space\\worker-2mj03e0m\n",
       "                        </td>\n",
       "                    </tr>\n",
       "\n",
       "                    \n",
       "\n",
       "                    \n",
       "\n",
       "                </table>\n",
       "            </details>\n",
       "            </div>\n",
       "        </div>\n",
       "        \n",
       "        <div style=\"margin-bottom: 20px;\">\n",
       "            <div style=\"width: 24px; height: 24px; background-color: #DBF5FF; border: 3px solid #4CC9FF; border-radius: 5px; position: absolute;\"> </div>\n",
       "            <div style=\"margin-left: 48px;\">\n",
       "            <details>\n",
       "                <summary>\n",
       "                    <h4 style=\"margin-bottom: 0px; display: inline;\">Worker: 3</h4>\n",
       "                </summary>\n",
       "                <table style=\"width: 100%; text-align: left;\">\n",
       "                    <tr>\n",
       "                        <td style=\"text-align: left;\">\n",
       "                            <strong>Comm: </strong> tcp://127.0.0.1:62256\n",
       "                        </td>\n",
       "                        <td style=\"text-align: left;\">\n",
       "                            <strong>Total threads: </strong> 2\n",
       "                        </td>\n",
       "                    </tr>\n",
       "                    <tr>\n",
       "                        <td style=\"text-align: left;\">\n",
       "                            <strong>Dashboard: </strong> <a href=\"http://127.0.0.1:62258/status\" target=\"_blank\">http://127.0.0.1:62258/status</a>\n",
       "                        </td>\n",
       "                        <td style=\"text-align: left;\">\n",
       "                            <strong>Memory: </strong> 3.96 GiB\n",
       "                        </td>\n",
       "                    </tr>\n",
       "                    <tr>\n",
       "                        <td style=\"text-align: left;\">\n",
       "                            <strong>Nanny: </strong> tcp://127.0.0.1:62231\n",
       "                        </td>\n",
       "                        <td style=\"text-align: left;\"></td>\n",
       "                    </tr>\n",
       "                    <tr>\n",
       "                        <td colspan=\"2\" style=\"text-align: left;\">\n",
       "                            <strong>Local directory: </strong> c:\\Users\\karth\\Desktop\\PhD projects\\immuneML\\dev_immuneML\\immuneML\\immuneML\\ml_methods\\dask-worker-space\\worker-tuxadzd_\n",
       "                        </td>\n",
       "                    </tr>\n",
       "\n",
       "                    \n",
       "\n",
       "                    \n",
       "\n",
       "                </table>\n",
       "            </details>\n",
       "            </div>\n",
       "        </div>\n",
       "        \n",
       "\n",
       "    </details>\n",
       "</div>\n",
       "\n",
       "        </details>\n",
       "    </div>\n",
       "</div>\n",
       "            </details>\n",
       "        \n",
       "\n",
       "    </div>\n",
       "</div>"
      ],
      "text/plain": [
       "<Client: 'tcp://127.0.0.1:62226' processes=4 threads=8, memory=15.86 GiB>"
      ]
     },
     "execution_count": 13,
     "metadata": {},
     "output_type": "execute_result"
    }
   ],
   "source": [
    "client"
   ]
  },
  {
   "cell_type": "code",
   "execution_count": 12,
   "metadata": {},
   "outputs": [
    {
     "ename": "NameError",
     "evalue": "name 'label' is not defined",
     "output_type": "error",
     "traceback": [
      "\u001b[1;31m---------------------------------------------------------------------------\u001b[0m",
      "\u001b[1;31mNameError\u001b[0m                                 Traceback (most recent call last)",
      "\u001b[1;32mc:\\Users\\karth\\Desktop\\PhD projects\\immuneML\\dev_immuneML\\immuneML\\immuneML\\ml_methods\\Sklearn_jupyter.ipynb Cell 117'\u001b[0m in \u001b[0;36m<cell line: 1>\u001b[1;34m()\u001b[0m\n\u001b[1;32m----> <a href='vscode-notebook-cell:/c%3A/Users/karth/Desktop/PhD%20projects/immuneML/dev_immuneML/immuneML/immuneML/ml_methods/Sklearn_jupyter.ipynb#ch0000130?line=0'>1</a>\u001b[0m label\n",
      "\u001b[1;31mNameError\u001b[0m: name 'label' is not defined"
     ]
    }
   ],
   "source": [
    "label"
   ]
  },
  {
   "cell_type": "code",
   "execution_count": 14,
   "metadata": {},
   "outputs": [],
   "source": [
    "from sklearn.linear_model import LogisticRegression\n",
    "clr = LogisticRegression()\n"
   ]
  },
  {
   "cell_type": "code",
   "execution_count": 15,
   "metadata": {},
   "outputs": [],
   "source": [
    "import joblib"
   ]
  },
  {
   "cell_type": "code",
   "execution_count": 1,
   "metadata": {},
   "outputs": [
    {
     "ename": "NameError",
     "evalue": "name 'clr' is not defined",
     "output_type": "error",
     "traceback": [
      "\u001b[1;31m---------------------------------------------------------------------------\u001b[0m",
      "\u001b[1;31mNameError\u001b[0m                                 Traceback (most recent call last)",
      "\u001b[1;32mc:\\Users\\karth\\Desktop\\PhD projects\\immuneML\\dev_immuneML\\immuneML\\immuneML\\ml_methods\\Sklearn_jupyter.ipynb Cell 120'\u001b[0m in \u001b[0;36m<cell line: 1>\u001b[1;34m()\u001b[0m\n\u001b[1;32m----> <a href='vscode-notebook-cell:/c%3A/Users/karth/Desktop/PhD%20projects/immuneML/dev_immuneML/immuneML/immuneML/ml_methods/Sklearn_jupyter.ipynb#ch0000136?line=0'>1</a>\u001b[0m clr\n",
      "\u001b[1;31mNameError\u001b[0m: name 'clr' is not defined"
     ]
    }
   ],
   "source": [
    "clr"
   ]
  },
  {
   "cell_type": "code",
   "execution_count": 26,
   "metadata": {},
   "outputs": [],
   "source": [
    "import dask_ml.linear_model as dasklm\n"
   ]
  },
  {
   "cell_type": "code",
   "execution_count": 27,
   "metadata": {},
   "outputs": [],
   "source": [
    "lr = dasklm.LogisticRegression()"
   ]
  },
  {
   "cell_type": "code",
   "execution_count": 2,
   "metadata": {},
   "outputs": [
    {
     "ename": "NameError",
     "evalue": "name 'client' is not defined",
     "output_type": "error",
     "traceback": [
      "\u001b[1;31m---------------------------------------------------------------------------\u001b[0m",
      "\u001b[1;31mNameError\u001b[0m                                 Traceback (most recent call last)",
      "\u001b[1;32mc:\\Users\\karth\\Desktop\\PhD projects\\immuneML\\dev_immuneML\\immuneML\\immuneML\\ml_methods\\Sklearn_jupyter.ipynb Cell 124'\u001b[0m in \u001b[0;36m<cell line: 1>\u001b[1;34m()\u001b[0m\n\u001b[1;32m----> <a href='vscode-notebook-cell:/c%3A/Users/karth/Desktop/PhD%20projects/immuneML/dev_immuneML/immuneML/immuneML/ml_methods/Sklearn_jupyter.ipynb#ch0000141?line=0'>1</a>\u001b[0m client\n",
      "\u001b[1;31mNameError\u001b[0m: name 'client' is not defined"
     ]
    }
   ],
   "source": [
    "client"
   ]
  },
  {
   "cell_type": "code",
   "execution_count": 1,
   "metadata": {},
   "outputs": [
    {
     "ename": "NameError",
     "evalue": "name 'lr' is not defined",
     "output_type": "error",
     "traceback": [
      "\u001b[1;31m---------------------------------------------------------------------------\u001b[0m",
      "\u001b[1;31mNameError\u001b[0m                                 Traceback (most recent call last)",
      "\u001b[1;32mc:\\Users\\karth\\Desktop\\PhD projects\\immuneML\\dev_immuneML\\immuneML\\immuneML\\ml_methods\\Sklearn_jupyter.ipynb Cell 124'\u001b[0m in \u001b[0;36m<cell line: 1>\u001b[1;34m()\u001b[0m\n\u001b[1;32m----> <a href='vscode-notebook-cell:/c%3A/Users/karth/Desktop/PhD%20projects/immuneML/dev_immuneML/immuneML/immuneML/ml_methods/Sklearn_jupyter.ipynb#ch0000139?line=0'>1</a>\u001b[0m lr\u001b[39m.\u001b[39mfit(X_train, y_train)\n",
      "\u001b[1;31mNameError\u001b[0m: name 'lr' is not defined"
     ]
    }
   ],
   "source": [
    "lr.fit(X_train, y_train)"
   ]
  },
  {
   "cell_type": "code",
   "execution_count": 16,
   "metadata": {},
   "outputs": [
    {
     "name": "stderr",
     "output_type": "stream",
     "text": [
      "distributed.nanny - WARNING - Worker exceeded 95% memory budget. Restarting\n",
      "distributed.nanny - WARNING - Worker exceeded 95% memory budget. Restarting\n",
      "distributed.nanny - WARNING - Worker exceeded 95% memory budget. Restarting\n",
      "distributed.nanny - WARNING - Worker exceeded 95% memory budget. Restarting\n"
     ]
    },
    {
     "ename": "TypeError",
     "evalue": "'CancelledError' object is not iterable",
     "output_type": "error",
     "traceback": [
      "\u001b[1;31m---------------------------------------------------------------------------\u001b[0m",
      "\u001b[1;31mTypeError\u001b[0m                                 Traceback (most recent call last)",
      "\u001b[1;32mc:\\Users\\karth\\Desktop\\PhD projects\\immuneML\\dev_immuneML\\immuneML\\immuneML\\ml_methods\\Sklearn_jupyter.ipynb Cell 122'\u001b[0m in \u001b[0;36m<cell line: 1>\u001b[1;34m()\u001b[0m\n\u001b[0;32m      <a href='vscode-notebook-cell:/c%3A/Users/karth/Desktop/PhD%20projects/immuneML/dev_immuneML/immuneML/immuneML/ml_methods/Sklearn_jupyter.ipynb#ch0000129?line=0'>1</a>\u001b[0m \u001b[39mwith\u001b[39;00m joblib\u001b[39m.\u001b[39mparallel_backend(\u001b[39m\"\u001b[39m\u001b[39mdask\u001b[39m\u001b[39m\"\u001b[39m):\n\u001b[1;32m----> <a href='vscode-notebook-cell:/c%3A/Users/karth/Desktop/PhD%20projects/immuneML/dev_immuneML/immuneML/immuneML/ml_methods/Sklearn_jupyter.ipynb#ch0000129?line=3'>4</a>\u001b[0m     clr\u001b[39m.\u001b[39;49mfit(X_train, y_train)\n",
      "File \u001b[1;32mc:\\Users\\karth\\anaconda3\\envs\\test\\lib\\site-packages\\sklearn\\linear_model\\_logistic.py:1589\u001b[0m, in \u001b[0;36mLogisticRegression.fit\u001b[1;34m(self, X, y, sample_weight)\u001b[0m\n\u001b[0;32m   <a href='file:///c%3A/Users/karth/anaconda3/envs/test/lib/site-packages/sklearn/linear_model/_logistic.py?line=1586'>1587</a>\u001b[0m \u001b[39melse\u001b[39;00m:\n\u001b[0;32m   <a href='file:///c%3A/Users/karth/anaconda3/envs/test/lib/site-packages/sklearn/linear_model/_logistic.py?line=1587'>1588</a>\u001b[0m     prefer \u001b[39m=\u001b[39m \u001b[39m\"\u001b[39m\u001b[39mprocesses\u001b[39m\u001b[39m\"\u001b[39m\n\u001b[1;32m-> <a href='file:///c%3A/Users/karth/anaconda3/envs/test/lib/site-packages/sklearn/linear_model/_logistic.py?line=1588'>1589</a>\u001b[0m fold_coefs_ \u001b[39m=\u001b[39m Parallel(\n\u001b[0;32m   <a href='file:///c%3A/Users/karth/anaconda3/envs/test/lib/site-packages/sklearn/linear_model/_logistic.py?line=1589'>1590</a>\u001b[0m     n_jobs\u001b[39m=\u001b[39;49m\u001b[39mself\u001b[39;49m\u001b[39m.\u001b[39;49mn_jobs,\n\u001b[0;32m   <a href='file:///c%3A/Users/karth/anaconda3/envs/test/lib/site-packages/sklearn/linear_model/_logistic.py?line=1590'>1591</a>\u001b[0m     verbose\u001b[39m=\u001b[39;49m\u001b[39mself\u001b[39;49m\u001b[39m.\u001b[39;49mverbose,\n\u001b[0;32m   <a href='file:///c%3A/Users/karth/anaconda3/envs/test/lib/site-packages/sklearn/linear_model/_logistic.py?line=1591'>1592</a>\u001b[0m     \u001b[39m*\u001b[39;49m\u001b[39m*\u001b[39;49m_joblib_parallel_args(prefer\u001b[39m=\u001b[39;49mprefer),\n\u001b[0;32m   <a href='file:///c%3A/Users/karth/anaconda3/envs/test/lib/site-packages/sklearn/linear_model/_logistic.py?line=1592'>1593</a>\u001b[0m )(\n\u001b[0;32m   <a href='file:///c%3A/Users/karth/anaconda3/envs/test/lib/site-packages/sklearn/linear_model/_logistic.py?line=1593'>1594</a>\u001b[0m     path_func(\n\u001b[0;32m   <a href='file:///c%3A/Users/karth/anaconda3/envs/test/lib/site-packages/sklearn/linear_model/_logistic.py?line=1594'>1595</a>\u001b[0m         X,\n\u001b[0;32m   <a href='file:///c%3A/Users/karth/anaconda3/envs/test/lib/site-packages/sklearn/linear_model/_logistic.py?line=1595'>1596</a>\u001b[0m         y,\n\u001b[0;32m   <a href='file:///c%3A/Users/karth/anaconda3/envs/test/lib/site-packages/sklearn/linear_model/_logistic.py?line=1596'>1597</a>\u001b[0m         pos_class\u001b[39m=\u001b[39;49mclass_,\n\u001b[0;32m   <a href='file:///c%3A/Users/karth/anaconda3/envs/test/lib/site-packages/sklearn/linear_model/_logistic.py?line=1597'>1598</a>\u001b[0m         Cs\u001b[39m=\u001b[39;49m[C_],\n\u001b[0;32m   <a href='file:///c%3A/Users/karth/anaconda3/envs/test/lib/site-packages/sklearn/linear_model/_logistic.py?line=1598'>1599</a>\u001b[0m         l1_ratio\u001b[39m=\u001b[39;49m\u001b[39mself\u001b[39;49m\u001b[39m.\u001b[39;49ml1_ratio,\n\u001b[0;32m   <a href='file:///c%3A/Users/karth/anaconda3/envs/test/lib/site-packages/sklearn/linear_model/_logistic.py?line=1599'>1600</a>\u001b[0m         fit_intercept\u001b[39m=\u001b[39;49m\u001b[39mself\u001b[39;49m\u001b[39m.\u001b[39;49mfit_intercept,\n\u001b[0;32m   <a href='file:///c%3A/Users/karth/anaconda3/envs/test/lib/site-packages/sklearn/linear_model/_logistic.py?line=1600'>1601</a>\u001b[0m         tol\u001b[39m=\u001b[39;49m\u001b[39mself\u001b[39;49m\u001b[39m.\u001b[39;49mtol,\n\u001b[0;32m   <a href='file:///c%3A/Users/karth/anaconda3/envs/test/lib/site-packages/sklearn/linear_model/_logistic.py?line=1601'>1602</a>\u001b[0m         verbose\u001b[39m=\u001b[39;49m\u001b[39mself\u001b[39;49m\u001b[39m.\u001b[39;49mverbose,\n\u001b[0;32m   <a href='file:///c%3A/Users/karth/anaconda3/envs/test/lib/site-packages/sklearn/linear_model/_logistic.py?line=1602'>1603</a>\u001b[0m         solver\u001b[39m=\u001b[39;49msolver,\n\u001b[0;32m   <a href='file:///c%3A/Users/karth/anaconda3/envs/test/lib/site-packages/sklearn/linear_model/_logistic.py?line=1603'>1604</a>\u001b[0m         multi_class\u001b[39m=\u001b[39;49mmulti_class,\n\u001b[0;32m   <a href='file:///c%3A/Users/karth/anaconda3/envs/test/lib/site-packages/sklearn/linear_model/_logistic.py?line=1604'>1605</a>\u001b[0m         max_iter\u001b[39m=\u001b[39;49m\u001b[39mself\u001b[39;49m\u001b[39m.\u001b[39;49mmax_iter,\n\u001b[0;32m   <a href='file:///c%3A/Users/karth/anaconda3/envs/test/lib/site-packages/sklearn/linear_model/_logistic.py?line=1605'>1606</a>\u001b[0m         class_weight\u001b[39m=\u001b[39;49m\u001b[39mself\u001b[39;49m\u001b[39m.\u001b[39;49mclass_weight,\n\u001b[0;32m   <a href='file:///c%3A/Users/karth/anaconda3/envs/test/lib/site-packages/sklearn/linear_model/_logistic.py?line=1606'>1607</a>\u001b[0m         check_input\u001b[39m=\u001b[39;49m\u001b[39mFalse\u001b[39;49;00m,\n\u001b[0;32m   <a href='file:///c%3A/Users/karth/anaconda3/envs/test/lib/site-packages/sklearn/linear_model/_logistic.py?line=1607'>1608</a>\u001b[0m         random_state\u001b[39m=\u001b[39;49m\u001b[39mself\u001b[39;49m\u001b[39m.\u001b[39;49mrandom_state,\n\u001b[0;32m   <a href='file:///c%3A/Users/karth/anaconda3/envs/test/lib/site-packages/sklearn/linear_model/_logistic.py?line=1608'>1609</a>\u001b[0m         coef\u001b[39m=\u001b[39;49mwarm_start_coef_,\n\u001b[0;32m   <a href='file:///c%3A/Users/karth/anaconda3/envs/test/lib/site-packages/sklearn/linear_model/_logistic.py?line=1609'>1610</a>\u001b[0m         penalty\u001b[39m=\u001b[39;49mpenalty,\n\u001b[0;32m   <a href='file:///c%3A/Users/karth/anaconda3/envs/test/lib/site-packages/sklearn/linear_model/_logistic.py?line=1610'>1611</a>\u001b[0m         max_squared_sum\u001b[39m=\u001b[39;49mmax_squared_sum,\n\u001b[0;32m   <a href='file:///c%3A/Users/karth/anaconda3/envs/test/lib/site-packages/sklearn/linear_model/_logistic.py?line=1611'>1612</a>\u001b[0m         sample_weight\u001b[39m=\u001b[39;49msample_weight,\n\u001b[0;32m   <a href='file:///c%3A/Users/karth/anaconda3/envs/test/lib/site-packages/sklearn/linear_model/_logistic.py?line=1612'>1613</a>\u001b[0m     )\n\u001b[0;32m   <a href='file:///c%3A/Users/karth/anaconda3/envs/test/lib/site-packages/sklearn/linear_model/_logistic.py?line=1613'>1614</a>\u001b[0m     \u001b[39mfor\u001b[39;49;00m class_, warm_start_coef_ \u001b[39min\u001b[39;49;00m \u001b[39mzip\u001b[39;49m(classes_, warm_start_coef)\n\u001b[0;32m   <a href='file:///c%3A/Users/karth/anaconda3/envs/test/lib/site-packages/sklearn/linear_model/_logistic.py?line=1614'>1615</a>\u001b[0m )\n\u001b[0;32m   <a href='file:///c%3A/Users/karth/anaconda3/envs/test/lib/site-packages/sklearn/linear_model/_logistic.py?line=1616'>1617</a>\u001b[0m fold_coefs_, _, n_iter_ \u001b[39m=\u001b[39m \u001b[39mzip\u001b[39m(\u001b[39m*\u001b[39mfold_coefs_)\n\u001b[0;32m   <a href='file:///c%3A/Users/karth/anaconda3/envs/test/lib/site-packages/sklearn/linear_model/_logistic.py?line=1617'>1618</a>\u001b[0m \u001b[39mself\u001b[39m\u001b[39m.\u001b[39mn_iter_ \u001b[39m=\u001b[39m np\u001b[39m.\u001b[39masarray(n_iter_, dtype\u001b[39m=\u001b[39mnp\u001b[39m.\u001b[39mint32)[:, \u001b[39m0\u001b[39m]\n",
      "File \u001b[1;32mc:\\Users\\karth\\anaconda3\\envs\\test\\lib\\site-packages\\joblib\\parallel.py:1056\u001b[0m, in \u001b[0;36mParallel.__call__\u001b[1;34m(self, iterable)\u001b[0m\n\u001b[0;32m   <a href='file:///c%3A/Users/karth/anaconda3/envs/test/lib/site-packages/joblib/parallel.py?line=1052'>1053</a>\u001b[0m     \u001b[39mself\u001b[39m\u001b[39m.\u001b[39m_iterating \u001b[39m=\u001b[39m \u001b[39mFalse\u001b[39;00m\n\u001b[0;32m   <a href='file:///c%3A/Users/karth/anaconda3/envs/test/lib/site-packages/joblib/parallel.py?line=1054'>1055</a>\u001b[0m \u001b[39mwith\u001b[39;00m \u001b[39mself\u001b[39m\u001b[39m.\u001b[39m_backend\u001b[39m.\u001b[39mretrieval_context():\n\u001b[1;32m-> <a href='file:///c%3A/Users/karth/anaconda3/envs/test/lib/site-packages/joblib/parallel.py?line=1055'>1056</a>\u001b[0m     \u001b[39mself\u001b[39;49m\u001b[39m.\u001b[39;49mretrieve()\n\u001b[0;32m   <a href='file:///c%3A/Users/karth/anaconda3/envs/test/lib/site-packages/joblib/parallel.py?line=1056'>1057</a>\u001b[0m \u001b[39m# Make sure that we get a last message telling us we are done\u001b[39;00m\n\u001b[0;32m   <a href='file:///c%3A/Users/karth/anaconda3/envs/test/lib/site-packages/joblib/parallel.py?line=1057'>1058</a>\u001b[0m elapsed_time \u001b[39m=\u001b[39m time\u001b[39m.\u001b[39mtime() \u001b[39m-\u001b[39m \u001b[39mself\u001b[39m\u001b[39m.\u001b[39m_start_time\n",
      "File \u001b[1;32mc:\\Users\\karth\\anaconda3\\envs\\test\\lib\\site-packages\\joblib\\parallel.py:935\u001b[0m, in \u001b[0;36mParallel.retrieve\u001b[1;34m(self)\u001b[0m\n\u001b[0;32m    <a href='file:///c%3A/Users/karth/anaconda3/envs/test/lib/site-packages/joblib/parallel.py?line=932'>933</a>\u001b[0m \u001b[39mtry\u001b[39;00m:\n\u001b[0;32m    <a href='file:///c%3A/Users/karth/anaconda3/envs/test/lib/site-packages/joblib/parallel.py?line=933'>934</a>\u001b[0m     \u001b[39mif\u001b[39;00m \u001b[39mgetattr\u001b[39m(\u001b[39mself\u001b[39m\u001b[39m.\u001b[39m_backend, \u001b[39m'\u001b[39m\u001b[39msupports_timeout\u001b[39m\u001b[39m'\u001b[39m, \u001b[39mFalse\u001b[39;00m):\n\u001b[1;32m--> <a href='file:///c%3A/Users/karth/anaconda3/envs/test/lib/site-packages/joblib/parallel.py?line=934'>935</a>\u001b[0m         \u001b[39mself\u001b[39;49m\u001b[39m.\u001b[39;49m_output\u001b[39m.\u001b[39;49mextend(job\u001b[39m.\u001b[39;49mget(timeout\u001b[39m=\u001b[39;49m\u001b[39mself\u001b[39;49m\u001b[39m.\u001b[39;49mtimeout))\n\u001b[0;32m    <a href='file:///c%3A/Users/karth/anaconda3/envs/test/lib/site-packages/joblib/parallel.py?line=935'>936</a>\u001b[0m     \u001b[39melse\u001b[39;00m:\n\u001b[0;32m    <a href='file:///c%3A/Users/karth/anaconda3/envs/test/lib/site-packages/joblib/parallel.py?line=936'>937</a>\u001b[0m         \u001b[39mself\u001b[39m\u001b[39m.\u001b[39m_output\u001b[39m.\u001b[39mextend(job\u001b[39m.\u001b[39mget())\n",
      "\u001b[1;31mTypeError\u001b[0m: 'CancelledError' object is not iterable"
     ]
    },
    {
     "name": "stderr",
     "output_type": "stream",
     "text": [
      "distributed.nanny - WARNING - Restarting worker\n"
     ]
    }
   ],
   "source": [
    "with joblib.parallel_backend(\"dask\"):\n",
    "    \n",
    "\n",
    "    clr.fit(X_train, y_train)\n",
    "\n"
   ]
  },
  {
   "cell_type": "code",
   "execution_count": null,
   "metadata": {},
   "outputs": [],
   "source": []
  },
  {
   "cell_type": "code",
   "execution_count": 2,
   "metadata": {},
   "outputs": [
    {
     "name": "stdout",
     "output_type": "stream",
     "text": [
      "{'max_iter': 1000, 'solver': 'saga'}\n",
      "<bound method DaskSklearnMethod._get_model_filename of <DaskLogisticRegression.DaskLogisticRegression object at 0x000001CDD08021F0>>\n",
      "{'penalty': 'l2', 'dual': False, 'tol': 0.0001, 'C': 1.0, 'fit_intercept': True, 'intercept_scaling': 1, 'class_weight': None, 'random_state': None, 'solver': 'saga', 'max_iter': 1000, 'multi_class': 'auto', 'verbose': 0, 'warm_start': False, 'n_jobs': None, 'l1_ratio': None}\n",
      "DASK workflow\n"
     ]
    }
   ],
   "source": [
    "x = np.array([[1, 0, 0], [0, 1, 1], [1, 1, 1], [0, 1, 1]])\n",
    "y = {\"test\": np.array([1, 0, 2, 0])}\n",
    "\n",
    "lr = DaskLogisticRegression()\n",
    "lr.fit(EncodedData(x, y), Label(\"test\"))\n"
   ]
  },
  {
   "cell_type": "code",
   "execution_count": null,
   "metadata": {},
   "outputs": [],
   "source": []
  },
  {
   "cell_type": "code",
   "execution_count": 4,
   "metadata": {},
   "outputs": [
    {
     "name": "stdout",
     "output_type": "stream",
     "text": [
      "{'max_iter': 1000, 'solver': 'saga'}\n",
      "<bound method DaskSklearnMethod._get_model_filename of <DaskLogisticRegression.DaskLogisticRegression object at 0x000001CDD0A0B040>>\n",
      "{'penalty': 'l2', 'dual': False, 'tol': 0.0001, 'C': 1.0, 'fit_intercept': True, 'intercept_scaling': 1, 'class_weight': None, 'random_state': None, 'solver': 'saga', 'max_iter': 1000, 'multi_class': 'auto', 'verbose': 0, 'warm_start': False, 'n_jobs': None, 'l1_ratio': None}\n",
      "DASK workflow\n"
     ]
    }
   ],
   "source": [
    "x = np.array([[1, 0, 0], [0, 1, 1], [1, 1, 1], [0, 1, 1]])\n",
    "y = {\"test1\": [1, 0, 2, 0], \"test2\": [1, 0, 2, 0]}\n",
    "\n",
    "lr = DaskLogisticRegression()\n",
    "lr.fit(EncodedData(x, y), Label(\"test2\"))\n",
    "\n",
    "test_x = np.array([[0, 1, 0], [1, 0, 0]])\n",
    "y = lr.predict(EncodedData(test_x), Label(\"test2\"))\n"
   ]
  },
  {
   "cell_type": "code",
   "execution_count": 6,
   "metadata": {},
   "outputs": [
    {
     "ename": "AttributeError",
     "evalue": "'dict' object has no attribute '__dict__'",
     "output_type": "error",
     "traceback": [
      "\u001b[1;31m---------------------------------------------------------------------------\u001b[0m",
      "\u001b[1;31mAttributeError\u001b[0m                            Traceback (most recent call last)",
      "\u001b[1;32mc:\\Users\\karth\\Desktop\\PhD projects\\immuneML\\dev_immuneML\\immuneML\\immuneML\\ml_methods\\Sklearn_jupyter.ipynb Cell 102'\u001b[0m in \u001b[0;36m<cell line: 1>\u001b[1;34m()\u001b[0m\n\u001b[1;32m----> <a href='vscode-notebook-cell:/c%3A/Users/karth/Desktop/PhD%20projects/immuneML/dev_immuneML/immuneML/immuneML/ml_methods/Sklearn_jupyter.ipynb#ch0000103?line=0'>1</a>\u001b[0m y\u001b[39m.\u001b[39;49m\u001b[39m__dict__\u001b[39;49m\n",
      "\u001b[1;31mAttributeError\u001b[0m: 'dict' object has no attribute '__dict__'"
     ]
    }
   ],
   "source": []
  },
  {
   "cell_type": "code",
   "execution_count": 3,
   "metadata": {},
   "outputs": [
    {
     "name": "stdout",
     "output_type": "stream",
     "text": [
      "{'max_iter': 1000, 'solver': 'saga'}\n",
      "<bound method DaskSklearnMethod._get_model_filename of <DaskLogisticRegression.DaskLogisticRegression object at 0x000002643700FFA0>>\n",
      "{'param_distributions': {'max_iter': [1000]}, 'n_iter': 10, 'random_state': None, 'scoring': 'balanced_accuracy', 'estimator': LogisticRegression(max_iter=1000, solver='saga'), 'n_jobs': -1, 'refit': True, 'cv': 2, 'verbose': 0, 'pre_dispatch': '2*n_jobs', 'error_score': nan, 'return_train_score': False}\n",
      "DASK workflow\n"
     ]
    },
    {
     "name": "stderr",
     "output_type": "stream",
     "text": [
      "c:\\Users\\karth\\anaconda3\\envs\\test\\lib\\site-packages\\sklearn\\model_selection\\_search.py:292: UserWarning: The total space of parameters 1 is smaller than n_iter=10. Running 1 iterations. For exhaustive searches, use GridSearchCV.\n",
      "  warnings.warn(\n"
     ]
    },
    {
     "name": "stdout",
     "output_type": "stream",
     "text": [
      "LogisticRegression(max_iter=1000, solver='saga')\n"
     ]
    }
   ],
   "source": [
    "x = EncodedData(\n",
    "    np.array([[1, 0, 0], [0, 1, 1], [1, 1, 1], [0, 1, 1],\n",
    "             [1, 0, 0], [0, 1, 1], [1, 1, 1], [0, 1, 1]]),\n",
    "    {\"test1\": [1, 0, 2, 0, 1, 0, 2, 0], \"test2\": [1, 0, 2, 0, 1, 0, 2, 0]})\n",
    "\n",
    "lr = DaskLogisticRegression()\n",
    "lr.fit_by_cross_validation(x, number_of_splits=2, label=Label(\"test2\"))\n"
   ]
  },
  {
   "cell_type": "code",
   "execution_count": 1,
   "metadata": {},
   "outputs": [
    {
     "ename": "NameError",
     "evalue": "name 'client' is not defined",
     "output_type": "error",
     "traceback": [
      "\u001b[1;31m---------------------------------------------------------------------------\u001b[0m",
      "\u001b[1;31mNameError\u001b[0m                                 Traceback (most recent call last)",
      "\u001b[1;32mc:\\Users\\karth\\Desktop\\PhD projects\\immuneML\\dev_immuneML\\immuneML\\immuneML\\ml_methods\\Sklearn_jupyter.ipynb Cell 104'\u001b[0m in \u001b[0;36m<cell line: 1>\u001b[1;34m()\u001b[0m\n\u001b[1;32m----> <a href='vscode-notebook-cell:/c%3A/Users/karth/Desktop/PhD%20projects/immuneML/dev_immuneML/immuneML/immuneML/ml_methods/Sklearn_jupyter.ipynb#ch0000105?line=0'>1</a>\u001b[0m client\n",
      "\u001b[1;31mNameError\u001b[0m: name 'client' is not defined"
     ]
    }
   ],
   "source": [
    "client"
   ]
  },
  {
   "cell_type": "code",
   "execution_count": 2,
   "metadata": {},
   "outputs": [
    {
     "name": "stdout",
     "output_type": "stream",
     "text": [
      "{'max_iter': 1000, 'solver': 'saga'}\n",
      "<bound method DaskSklearnMethod._get_model_filename of <DaskLogisticRegression.DaskLogisticRegression object at 0x0000020F73D03F70>>\n",
      "{'penalty': 'l2', 'dual': False, 'tol': 0.0001, 'C': 1.0, 'fit_intercept': True, 'intercept_scaling': 1, 'class_weight': None, 'random_state': None, 'solver': 'saga', 'max_iter': 1000, 'multi_class': 'auto', 'verbose': 0, 'warm_start': False, 'n_jobs': None, 'l1_ratio': None}\n",
      "DASK workflow\n"
     ]
    }
   ],
   "source": [
    "x = np.array([[1, 0, 0], [0, 1, 1], [1, 1, 1], [0, 1, 1]])\n",
    "y = {\"default\": np.array([1, 0, 2, 0])}\n",
    "lr = DaskLogisticRegression()\n",
    "lr.fit(EncodedData(x, y), Label(\"default\"))\n",
    "\n",
    "path = EnvironmentSettings.root_path / \"test/tmp/lr/\"\n",
    "\n",
    "lr.store(path, [\"f1\", \"f2\", \"f3\"])\n"
   ]
  },
  {
   "cell_type": "code",
   "execution_count": 12,
   "metadata": {},
   "outputs": [],
   "source": [
    "path = path / \"6630e1ea3b9af75f894cd08ab4368127baac472767d446ec68b60ff06ee261bcd5c9ab0bcddd087ef035a1d0730725a49a02c94d7e5040a674b443b71b84dc56-dask_logistic_regression.pickle\"\n"
   ]
  },
  {
   "cell_type": "code",
   "execution_count": null,
   "metadata": {},
   "outputs": [],
   "source": []
  },
  {
   "cell_type": "code",
   "execution_count": 3,
   "metadata": {},
   "outputs": [
    {
     "data": {
      "text/plain": [
       "WindowsPath('C:/Users/karth/Desktop/PhD projects/immuneML/immuneML/test/tmp/lr')"
      ]
     },
     "execution_count": 3,
     "metadata": {},
     "output_type": "execute_result"
    }
   ],
   "source": [
    "path"
   ]
  },
  {
   "cell_type": "code",
   "execution_count": 19,
   "metadata": {},
   "outputs": [],
   "source": [
    "import DaskLogisticRegression"
   ]
  },
  {
   "cell_type": "code",
   "execution_count": 4,
   "metadata": {},
   "outputs": [
    {
     "name": "stdout",
     "output_type": "stream",
     "text": [
      "C:\\Users\\karth\\Desktop\\PhD projects\\immuneML\\immuneML\\test\\tmp\\lr\n"
     ]
    },
    {
     "ename": "ConstructorError",
     "evalue": "could not determine a constructor for the tag 'tag:yaml.org,2002:python/object/apply:numpy.core.multiarray.scalar'\n  in \"C:\\Users\\karth\\Desktop\\PhD projects\\immuneML\\immuneML\\test\\tmp\\lr\\dask_logistic_regression.yaml\", line 3, column 5",
     "output_type": "error",
     "traceback": [
      "\u001b[1;31m---------------------------------------------------------------------------\u001b[0m",
      "\u001b[1;31mConstructorError\u001b[0m                          Traceback (most recent call last)",
      "\u001b[1;32mc:\\Users\\karth\\Desktop\\PhD projects\\immuneML\\dev_immuneML\\immuneML\\immuneML\\ml_methods\\Sklearn_jupyter.ipynb Cell 110'\u001b[0m in \u001b[0;36m<cell line: 9>\u001b[1;34m()\u001b[0m\n\u001b[0;32m      <a href='vscode-notebook-cell:/c%3A/Users/karth/Desktop/PhD%20projects/immuneML/dev_immuneML/immuneML/immuneML/ml_methods/Sklearn_jupyter.ipynb#ch0000108?line=0'>1</a>\u001b[0m \u001b[39mprint\u001b[39m(path)\n\u001b[0;32m      <a href='vscode-notebook-cell:/c%3A/Users/karth/Desktop/PhD%20projects/immuneML/dev_immuneML/immuneML/immuneML/ml_methods/Sklearn_jupyter.ipynb#ch0000108?line=2'>3</a>\u001b[0m \u001b[39m# path = EnvironmentSettings.root_path / \"test/tmp/lr/\"\u001b[39;00m\n\u001b[0;32m      <a href='vscode-notebook-cell:/c%3A/Users/karth/Desktop/PhD%20projects/immuneML/dev_immuneML/immuneML/immuneML/ml_methods/Sklearn_jupyter.ipynb#ch0000108?line=3'>4</a>\u001b[0m \u001b[39m# PathBuilder.build(path)\u001b[39;00m\n\u001b[1;32m----> <a href='vscode-notebook-cell:/c%3A/Users/karth/Desktop/PhD%20projects/immuneML/dev_immuneML/immuneML/immuneML/ml_methods/Sklearn_jupyter.ipynb#ch0000108?line=8'>9</a>\u001b[0m lr\u001b[39m.\u001b[39;49mload(path)\n",
      "File \u001b[1;32mc:\\Users\\karth\\Desktop\\PhD projects\\immuneML\\dev_immuneML\\immuneML\\immuneML\\ml_methods\\DaskSklearnMethod.py:317\u001b[0m, in \u001b[0;36mDaskSklearnMethod.load\u001b[1;34m(self, path, details_path)\u001b[0m\n\u001b[0;32m    <a href='file:///c%3A/Users/karth/Desktop/PhD%20projects/immuneML/dev_immuneML/immuneML/immuneML/ml_methods/DaskSklearnMethod.py?line=314'>315</a>\u001b[0m \u001b[39mif\u001b[39;00m params_path\u001b[39m.\u001b[39mis_file():\n\u001b[0;32m    <a href='file:///c%3A/Users/karth/Desktop/PhD%20projects/immuneML/dev_immuneML/immuneML/immuneML/ml_methods/DaskSklearnMethod.py?line=315'>316</a>\u001b[0m     \u001b[39mwith\u001b[39;00m params_path\u001b[39m.\u001b[39mopen(\u001b[39m\"\u001b[39m\u001b[39mr\u001b[39m\u001b[39m\"\u001b[39m) \u001b[39mas\u001b[39;00m file:\n\u001b[1;32m--> <a href='file:///c%3A/Users/karth/Desktop/PhD%20projects/immuneML/dev_immuneML/immuneML/immuneML/ml_methods/DaskSklearnMethod.py?line=316'>317</a>\u001b[0m         desc \u001b[39m=\u001b[39m yaml\u001b[39m.\u001b[39;49msafe_load(file)\n\u001b[0;32m    <a href='file:///c%3A/Users/karth/Desktop/PhD%20projects/immuneML/dev_immuneML/immuneML/immuneML/ml_methods/DaskSklearnMethod.py?line=317'>318</a>\u001b[0m         \u001b[39mif\u001b[39;00m \u001b[39m\"\u001b[39m\u001b[39mlabel\u001b[39m\u001b[39m\"\u001b[39m \u001b[39min\u001b[39;00m desc:\n\u001b[0;32m    <a href='file:///c%3A/Users/karth/Desktop/PhD%20projects/immuneML/dev_immuneML/immuneML/immuneML/ml_methods/DaskSklearnMethod.py?line=318'>319</a>\u001b[0m             \u001b[39msetattr\u001b[39m(\u001b[39mself\u001b[39m, \u001b[39m\"\u001b[39m\u001b[39mlabel\u001b[39m\u001b[39m\"\u001b[39m, Label(\u001b[39m*\u001b[39m\u001b[39m*\u001b[39mdesc[\u001b[39m\"\u001b[39m\u001b[39mlabel\u001b[39m\u001b[39m\"\u001b[39m]))\n",
      "File \u001b[1;32mc:\\Users\\karth\\anaconda3\\envs\\test\\lib\\site-packages\\yaml\\__init__.py:125\u001b[0m, in \u001b[0;36msafe_load\u001b[1;34m(stream)\u001b[0m\n\u001b[0;32m    <a href='file:///c%3A/Users/karth/anaconda3/envs/test/lib/site-packages/yaml/__init__.py?line=116'>117</a>\u001b[0m \u001b[39mdef\u001b[39;00m \u001b[39msafe_load\u001b[39m(stream):\n\u001b[0;32m    <a href='file:///c%3A/Users/karth/anaconda3/envs/test/lib/site-packages/yaml/__init__.py?line=117'>118</a>\u001b[0m     \u001b[39m\"\"\"\u001b[39;00m\n\u001b[0;32m    <a href='file:///c%3A/Users/karth/anaconda3/envs/test/lib/site-packages/yaml/__init__.py?line=118'>119</a>\u001b[0m \u001b[39m    Parse the first YAML document in a stream\u001b[39;00m\n\u001b[0;32m    <a href='file:///c%3A/Users/karth/anaconda3/envs/test/lib/site-packages/yaml/__init__.py?line=119'>120</a>\u001b[0m \u001b[39m    and produce the corresponding Python object.\u001b[39;00m\n\u001b[1;32m   (...)\u001b[0m\n\u001b[0;32m    <a href='file:///c%3A/Users/karth/anaconda3/envs/test/lib/site-packages/yaml/__init__.py?line=122'>123</a>\u001b[0m \u001b[39m    to be safe for untrusted input.\u001b[39;00m\n\u001b[0;32m    <a href='file:///c%3A/Users/karth/anaconda3/envs/test/lib/site-packages/yaml/__init__.py?line=123'>124</a>\u001b[0m \u001b[39m    \"\"\"\u001b[39;00m\n\u001b[1;32m--> <a href='file:///c%3A/Users/karth/anaconda3/envs/test/lib/site-packages/yaml/__init__.py?line=124'>125</a>\u001b[0m     \u001b[39mreturn\u001b[39;00m load(stream, SafeLoader)\n",
      "File \u001b[1;32mc:\\Users\\karth\\anaconda3\\envs\\test\\lib\\site-packages\\yaml\\__init__.py:81\u001b[0m, in \u001b[0;36mload\u001b[1;34m(stream, Loader)\u001b[0m\n\u001b[0;32m     <a href='file:///c%3A/Users/karth/anaconda3/envs/test/lib/site-packages/yaml/__init__.py?line=78'>79</a>\u001b[0m loader \u001b[39m=\u001b[39m Loader(stream)\n\u001b[0;32m     <a href='file:///c%3A/Users/karth/anaconda3/envs/test/lib/site-packages/yaml/__init__.py?line=79'>80</a>\u001b[0m \u001b[39mtry\u001b[39;00m:\n\u001b[1;32m---> <a href='file:///c%3A/Users/karth/anaconda3/envs/test/lib/site-packages/yaml/__init__.py?line=80'>81</a>\u001b[0m     \u001b[39mreturn\u001b[39;00m loader\u001b[39m.\u001b[39;49mget_single_data()\n\u001b[0;32m     <a href='file:///c%3A/Users/karth/anaconda3/envs/test/lib/site-packages/yaml/__init__.py?line=81'>82</a>\u001b[0m \u001b[39mfinally\u001b[39;00m:\n\u001b[0;32m     <a href='file:///c%3A/Users/karth/anaconda3/envs/test/lib/site-packages/yaml/__init__.py?line=82'>83</a>\u001b[0m     loader\u001b[39m.\u001b[39mdispose()\n",
      "File \u001b[1;32mc:\\Users\\karth\\anaconda3\\envs\\test\\lib\\site-packages\\yaml\\constructor.py:51\u001b[0m, in \u001b[0;36mBaseConstructor.get_single_data\u001b[1;34m(self)\u001b[0m\n\u001b[0;32m     <a href='file:///c%3A/Users/karth/anaconda3/envs/test/lib/site-packages/yaml/constructor.py?line=48'>49</a>\u001b[0m node \u001b[39m=\u001b[39m \u001b[39mself\u001b[39m\u001b[39m.\u001b[39mget_single_node()\n\u001b[0;32m     <a href='file:///c%3A/Users/karth/anaconda3/envs/test/lib/site-packages/yaml/constructor.py?line=49'>50</a>\u001b[0m \u001b[39mif\u001b[39;00m node \u001b[39mis\u001b[39;00m \u001b[39mnot\u001b[39;00m \u001b[39mNone\u001b[39;00m:\n\u001b[1;32m---> <a href='file:///c%3A/Users/karth/anaconda3/envs/test/lib/site-packages/yaml/constructor.py?line=50'>51</a>\u001b[0m     \u001b[39mreturn\u001b[39;00m \u001b[39mself\u001b[39;49m\u001b[39m.\u001b[39;49mconstruct_document(node)\n\u001b[0;32m     <a href='file:///c%3A/Users/karth/anaconda3/envs/test/lib/site-packages/yaml/constructor.py?line=51'>52</a>\u001b[0m \u001b[39mreturn\u001b[39;00m \u001b[39mNone\u001b[39;00m\n",
      "File \u001b[1;32mc:\\Users\\karth\\anaconda3\\envs\\test\\lib\\site-packages\\yaml\\constructor.py:60\u001b[0m, in \u001b[0;36mBaseConstructor.construct_document\u001b[1;34m(self, node)\u001b[0m\n\u001b[0;32m     <a href='file:///c%3A/Users/karth/anaconda3/envs/test/lib/site-packages/yaml/constructor.py?line=57'>58</a>\u001b[0m     \u001b[39mself\u001b[39m\u001b[39m.\u001b[39mstate_generators \u001b[39m=\u001b[39m []\n\u001b[0;32m     <a href='file:///c%3A/Users/karth/anaconda3/envs/test/lib/site-packages/yaml/constructor.py?line=58'>59</a>\u001b[0m     \u001b[39mfor\u001b[39;00m generator \u001b[39min\u001b[39;00m state_generators:\n\u001b[1;32m---> <a href='file:///c%3A/Users/karth/anaconda3/envs/test/lib/site-packages/yaml/constructor.py?line=59'>60</a>\u001b[0m         \u001b[39mfor\u001b[39;00m dummy \u001b[39min\u001b[39;00m generator:\n\u001b[0;32m     <a href='file:///c%3A/Users/karth/anaconda3/envs/test/lib/site-packages/yaml/constructor.py?line=60'>61</a>\u001b[0m             \u001b[39mpass\u001b[39;00m\n\u001b[0;32m     <a href='file:///c%3A/Users/karth/anaconda3/envs/test/lib/site-packages/yaml/constructor.py?line=61'>62</a>\u001b[0m \u001b[39mself\u001b[39m\u001b[39m.\u001b[39mconstructed_objects \u001b[39m=\u001b[39m {}\n",
      "File \u001b[1;32mc:\\Users\\karth\\anaconda3\\envs\\test\\lib\\site-packages\\yaml\\constructor.py:413\u001b[0m, in \u001b[0;36mSafeConstructor.construct_yaml_map\u001b[1;34m(self, node)\u001b[0m\n\u001b[0;32m    <a href='file:///c%3A/Users/karth/anaconda3/envs/test/lib/site-packages/yaml/constructor.py?line=410'>411</a>\u001b[0m data \u001b[39m=\u001b[39m {}\n\u001b[0;32m    <a href='file:///c%3A/Users/karth/anaconda3/envs/test/lib/site-packages/yaml/constructor.py?line=411'>412</a>\u001b[0m \u001b[39myield\u001b[39;00m data\n\u001b[1;32m--> <a href='file:///c%3A/Users/karth/anaconda3/envs/test/lib/site-packages/yaml/constructor.py?line=412'>413</a>\u001b[0m value \u001b[39m=\u001b[39m \u001b[39mself\u001b[39;49m\u001b[39m.\u001b[39;49mconstruct_mapping(node)\n\u001b[0;32m    <a href='file:///c%3A/Users/karth/anaconda3/envs/test/lib/site-packages/yaml/constructor.py?line=413'>414</a>\u001b[0m data\u001b[39m.\u001b[39mupdate(value)\n",
      "File \u001b[1;32mc:\\Users\\karth\\anaconda3\\envs\\test\\lib\\site-packages\\yaml\\constructor.py:218\u001b[0m, in \u001b[0;36mSafeConstructor.construct_mapping\u001b[1;34m(self, node, deep)\u001b[0m\n\u001b[0;32m    <a href='file:///c%3A/Users/karth/anaconda3/envs/test/lib/site-packages/yaml/constructor.py?line=215'>216</a>\u001b[0m \u001b[39mif\u001b[39;00m \u001b[39misinstance\u001b[39m(node, MappingNode):\n\u001b[0;32m    <a href='file:///c%3A/Users/karth/anaconda3/envs/test/lib/site-packages/yaml/constructor.py?line=216'>217</a>\u001b[0m     \u001b[39mself\u001b[39m\u001b[39m.\u001b[39mflatten_mapping(node)\n\u001b[1;32m--> <a href='file:///c%3A/Users/karth/anaconda3/envs/test/lib/site-packages/yaml/constructor.py?line=217'>218</a>\u001b[0m \u001b[39mreturn\u001b[39;00m \u001b[39msuper\u001b[39;49m()\u001b[39m.\u001b[39;49mconstruct_mapping(node, deep\u001b[39m=\u001b[39;49mdeep)\n",
      "File \u001b[1;32mc:\\Users\\karth\\anaconda3\\envs\\test\\lib\\site-packages\\yaml\\constructor.py:139\u001b[0m, in \u001b[0;36mBaseConstructor.construct_mapping\u001b[1;34m(self, node, deep)\u001b[0m\n\u001b[0;32m    <a href='file:///c%3A/Users/karth/anaconda3/envs/test/lib/site-packages/yaml/constructor.py?line=136'>137</a>\u001b[0m mapping \u001b[39m=\u001b[39m {}\n\u001b[0;32m    <a href='file:///c%3A/Users/karth/anaconda3/envs/test/lib/site-packages/yaml/constructor.py?line=137'>138</a>\u001b[0m \u001b[39mfor\u001b[39;00m key_node, value_node \u001b[39min\u001b[39;00m node\u001b[39m.\u001b[39mvalue:\n\u001b[1;32m--> <a href='file:///c%3A/Users/karth/anaconda3/envs/test/lib/site-packages/yaml/constructor.py?line=138'>139</a>\u001b[0m     key \u001b[39m=\u001b[39m \u001b[39mself\u001b[39;49m\u001b[39m.\u001b[39;49mconstruct_object(key_node, deep\u001b[39m=\u001b[39;49mdeep)\n\u001b[0;32m    <a href='file:///c%3A/Users/karth/anaconda3/envs/test/lib/site-packages/yaml/constructor.py?line=139'>140</a>\u001b[0m     \u001b[39mif\u001b[39;00m \u001b[39mnot\u001b[39;00m \u001b[39misinstance\u001b[39m(key, collections\u001b[39m.\u001b[39mabc\u001b[39m.\u001b[39mHashable):\n\u001b[0;32m    <a href='file:///c%3A/Users/karth/anaconda3/envs/test/lib/site-packages/yaml/constructor.py?line=140'>141</a>\u001b[0m         \u001b[39mraise\u001b[39;00m ConstructorError(\u001b[39m\"\u001b[39m\u001b[39mwhile constructing a mapping\u001b[39m\u001b[39m\"\u001b[39m, node\u001b[39m.\u001b[39mstart_mark,\n\u001b[0;32m    <a href='file:///c%3A/Users/karth/anaconda3/envs/test/lib/site-packages/yaml/constructor.py?line=141'>142</a>\u001b[0m                 \u001b[39m\"\u001b[39m\u001b[39mfound unhashable key\u001b[39m\u001b[39m\"\u001b[39m, key_node\u001b[39m.\u001b[39mstart_mark)\n",
      "File \u001b[1;32mc:\\Users\\karth\\anaconda3\\envs\\test\\lib\\site-packages\\yaml\\constructor.py:100\u001b[0m, in \u001b[0;36mBaseConstructor.construct_object\u001b[1;34m(self, node, deep)\u001b[0m\n\u001b[0;32m     <a href='file:///c%3A/Users/karth/anaconda3/envs/test/lib/site-packages/yaml/constructor.py?line=97'>98</a>\u001b[0m             constructor \u001b[39m=\u001b[39m \u001b[39mself\u001b[39m\u001b[39m.\u001b[39m\u001b[39m__class__\u001b[39m\u001b[39m.\u001b[39mconstruct_mapping\n\u001b[0;32m     <a href='file:///c%3A/Users/karth/anaconda3/envs/test/lib/site-packages/yaml/constructor.py?line=98'>99</a>\u001b[0m \u001b[39mif\u001b[39;00m tag_suffix \u001b[39mis\u001b[39;00m \u001b[39mNone\u001b[39;00m:\n\u001b[1;32m--> <a href='file:///c%3A/Users/karth/anaconda3/envs/test/lib/site-packages/yaml/constructor.py?line=99'>100</a>\u001b[0m     data \u001b[39m=\u001b[39m constructor(\u001b[39mself\u001b[39;49m, node)\n\u001b[0;32m    <a href='file:///c%3A/Users/karth/anaconda3/envs/test/lib/site-packages/yaml/constructor.py?line=100'>101</a>\u001b[0m \u001b[39melse\u001b[39;00m:\n\u001b[0;32m    <a href='file:///c%3A/Users/karth/anaconda3/envs/test/lib/site-packages/yaml/constructor.py?line=101'>102</a>\u001b[0m     data \u001b[39m=\u001b[39m constructor(\u001b[39mself\u001b[39m, tag_suffix, node)\n",
      "File \u001b[1;32mc:\\Users\\karth\\anaconda3\\envs\\test\\lib\\site-packages\\yaml\\constructor.py:427\u001b[0m, in \u001b[0;36mSafeConstructor.construct_undefined\u001b[1;34m(self, node)\u001b[0m\n\u001b[0;32m    <a href='file:///c%3A/Users/karth/anaconda3/envs/test/lib/site-packages/yaml/constructor.py?line=425'>426</a>\u001b[0m \u001b[39mdef\u001b[39;00m \u001b[39mconstruct_undefined\u001b[39m(\u001b[39mself\u001b[39m, node):\n\u001b[1;32m--> <a href='file:///c%3A/Users/karth/anaconda3/envs/test/lib/site-packages/yaml/constructor.py?line=426'>427</a>\u001b[0m     \u001b[39mraise\u001b[39;00m ConstructorError(\u001b[39mNone\u001b[39;00m, \u001b[39mNone\u001b[39;00m,\n\u001b[0;32m    <a href='file:///c%3A/Users/karth/anaconda3/envs/test/lib/site-packages/yaml/constructor.py?line=427'>428</a>\u001b[0m             \u001b[39m\"\u001b[39m\u001b[39mcould not determine a constructor for the tag \u001b[39m\u001b[39m%r\u001b[39;00m\u001b[39m\"\u001b[39m \u001b[39m%\u001b[39m node\u001b[39m.\u001b[39mtag,\n\u001b[0;32m    <a href='file:///c%3A/Users/karth/anaconda3/envs/test/lib/site-packages/yaml/constructor.py?line=428'>429</a>\u001b[0m             node\u001b[39m.\u001b[39mstart_mark)\n",
      "\u001b[1;31mConstructorError\u001b[0m: could not determine a constructor for the tag 'tag:yaml.org,2002:python/object/apply:numpy.core.multiarray.scalar'\n  in \"C:\\Users\\karth\\Desktop\\PhD projects\\immuneML\\immuneML\\test\\tmp\\lr\\dask_logistic_regression.yaml\", line 3, column 5"
     ]
    }
   ],
   "source": [
    "  \n",
    "\n",
    "        \n",
    "\n",
    "        print(path)\n",
    "\n",
    "        # path = EnvironmentSettings.root_path / \"test/tmp/lr/\"\n",
    "        # PathBuilder.build(path)\n",
    "\n",
    "       \n",
    "\n",
    "        \n",
    "        lr.load(path)"
   ]
  },
  {
   "cell_type": "code",
   "execution_count": 6,
   "metadata": {},
   "outputs": [
    {
     "data": {
      "text/plain": [
       "WindowsPath('C:/Users/karth/Desktop/PhD projects/immuneML/immuneML/test/tmp/lr')"
      ]
     },
     "execution_count": 6,
     "metadata": {},
     "output_type": "execute_result"
    }
   ],
   "source": [
    "path"
   ]
  },
  {
   "cell_type": "code",
   "execution_count": 5,
   "metadata": {},
   "outputs": [
    {
     "data": {
      "text/plain": [
       "2"
      ]
     },
     "execution_count": 5,
     "metadata": {},
     "output_type": "execute_result"
    }
   ],
   "source": [
    "len(y[\"test2\"]) "
   ]
  },
  {
   "cell_type": "markdown",
   "metadata": {},
   "source": []
  }
 ],
 "metadata": {
  "interpreter": {
   "hash": "a64f21293159cd9c4e596ef7fd6c17a9c99d13712885c299cb3370e7a4d97830"
  },
  "kernelspec": {
   "display_name": "Python 3.8.12 ('test')",
   "language": "python",
   "name": "python3"
  },
  "language_info": {
   "codemirror_mode": {
    "name": "ipython",
    "version": 3
   },
   "file_extension": ".py",
   "mimetype": "text/x-python",
   "name": "python",
   "nbconvert_exporter": "python",
   "pygments_lexer": "ipython3",
   "version": "3.8.12"
  },
  "orig_nbformat": 4
 },
 "nbformat": 4,
 "nbformat_minor": 2
}
