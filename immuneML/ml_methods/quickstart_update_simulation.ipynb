{
 "cells": [
  {
   "cell_type": "markdown",
   "metadata": {},
   "source": [
    "### Run immumeML quickstart with Dask using the YAML specs"
   ]
  },
  {
   "cell_type": "code",
   "execution_count": 3,
   "metadata": {},
   "outputs": [],
   "source": [
    "import logging\n",
    "import os\n",
    "import shutil\n",
    "import sys\n",
    "import warnings\n",
    "from pathlib import Path\n",
    "\n",
    "import yaml\n",
    "\n",
    "from immuneML.app.ImmuneMLApp import ImmuneMLApp\n",
    "from immuneML.environment.EnvironmentSettings import EnvironmentSettings\n",
    "from immuneML.util.PathBuilder import PathBuilder\n"
   ]
  },
  {
   "cell_type": "markdown",
   "metadata": {},
   "source": [
    "#### Build path"
   ]
  },
  {
   "cell_type": "code",
   "execution_count": 6,
   "metadata": {},
   "outputs": [],
   "source": [
    "def build_path(path: str = None):\n",
    "    if path is None:\n",
    "        path = EnvironmentSettings.root_path / \"quickstart/\"\n",
    "        if os.path.isdir(path):\n",
    "            shutil.rmtree(path)\n",
    "        PathBuilder.build(path)\n",
    "    else:\n",
    "        path = PathBuilder.build(path)\n",
    "    return path\n"
   ]
  },
  {
   "cell_type": "code",
   "execution_count": 7,
   "metadata": {},
   "outputs": [],
   "source": [
    "path = build_path()"
   ]
  },
  {
   "cell_type": "code",
   "execution_count": 8,
   "metadata": {},
   "outputs": [
    {
     "data": {
      "text/plain": [
       "WindowsPath('C:/Users/karth/Desktop/PhD projects/immuneML/immuneML/quickstart')"
      ]
     },
     "execution_count": 8,
     "metadata": {},
     "output_type": "execute_result"
    }
   ],
   "source": [
    "path"
   ]
  },
  {
   "cell_type": "code",
   "execution_count": 213,
   "metadata": {},
   "outputs": [],
   "source": [
    "specs = {\n",
    "    \"definitions\": {\n",
    "        \"datasets\": {\n",
    "            \"my_synthetic_dataset\": {\"format\": \"RandomRepertoireDataset\", \"params\": {\"labels\": {}}}\n",
    "        },\n",
    "        \"motifs\": {\"my_motif\": {\"seed\": \"AA\", \"instantiation\": \"GappedKmer\"}},\n",
    "        \"signals\": {\"my_signal\": {\"motifs\": [\"my_motif\"], \"implanting\": \"HealthySequence\"}},\n",
    "        \"simulations\": {\"my_simulation\": {\"my_implantng\": {\"signals\": [\"my_signal\"], \"dataset_implanting_rate\": 0.5,\n",
    "                                                           \"repertoire_implanting_rate\": 0.1}}}\n",
    "    },\n",
    "    \"instructions\": {\"simulation_instruction\": {\"type\": \"Simulation\", \"dataset\": \"my_synthetic_dataset\", \"simulation\": \"my_simulation\",\n",
    "                                                \"export_formats\": [\"AIRR\"]}}\n",
    "}\n"
   ]
  },
  {
   "cell_type": "code",
   "execution_count": 11,
   "metadata": {},
   "outputs": [],
   "source": [
    "specs_file = path / \"simulation_specs.yaml\"\n",
    "with specs_file.open(\"w\") as file:\n",
    "    yaml.dump(specs, file)\n"
   ]
  },
  {
   "cell_type": "code",
   "execution_count": 12,
   "metadata": {},
   "outputs": [
    {
     "name": "stdout",
     "output_type": "stream",
     "text": [
      "2022-04-19 11:22:20.523200: Setting temporary cache path to ..\\..\\quickstart\\result\\cache\n",
      "2022-04-19 11:22:20.524198: ImmuneML: parsing the specification...\n",
      "\n",
      "2022-04-19 11:22:22.721248: Full specification is available at ..\\..\\quickstart\\result\\full_simulation_specs.yaml.\n",
      "\n",
      "2022-04-19 11:22:22.722249: ImmuneML: starting the analysis...\n",
      "\n",
      "2022-04-19 11:22:22.723249: Instruction 1/1 has started.\n"
     ]
    },
    {
     "name": "stderr",
     "output_type": "stream",
     "text": [
      "WARNING:root:Position weights are not defined. Randomly choosing position to implant motif_instance instead.\n",
      "WARNING:root:Position weights are not defined. Randomly choosing position to implant motif_instance instead.\n",
      "WARNING:root:Position weights are not defined. Randomly choosing position to implant motif_instance instead.\n",
      "WARNING:root:Position weights are not defined. Randomly choosing position to implant motif_instance instead.\n",
      "WARNING:root:Position weights are not defined. Randomly choosing position to implant motif_instance instead.\n",
      "WARNING:root:Position weights are not defined. Randomly choosing position to implant motif_instance instead.\n",
      "WARNING:root:Position weights are not defined. Randomly choosing position to implant motif_instance instead.\n",
      "WARNING:root:Position weights are not defined. Randomly choosing position to implant motif_instance instead.\n",
      "WARNING:root:Position weights are not defined. Randomly choosing position to implant motif_instance instead.\n",
      "WARNING:root:Position weights are not defined. Randomly choosing position to implant motif_instance instead.\n",
      "WARNING:root:Position weights are not defined. Randomly choosing position to implant motif_instance instead.\n",
      "WARNING:root:Position weights are not defined. Randomly choosing position to implant motif_instance instead.\n",
      "WARNING:root:Position weights are not defined. Randomly choosing position to implant motif_instance instead.\n",
      "WARNING:root:Position weights are not defined. Randomly choosing position to implant motif_instance instead.\n",
      "WARNING:root:Position weights are not defined. Randomly choosing position to implant motif_instance instead.\n",
      "WARNING:root:Position weights are not defined. Randomly choosing position to implant motif_instance instead.\n",
      "WARNING:root:Position weights are not defined. Randomly choosing position to implant motif_instance instead.\n",
      "WARNING:root:Position weights are not defined. Randomly choosing position to implant motif_instance instead.\n",
      "WARNING:root:Position weights are not defined. Randomly choosing position to implant motif_instance instead.\n",
      "WARNING:root:Position weights are not defined. Randomly choosing position to implant motif_instance instead.\n",
      "WARNING:root:Position weights are not defined. Randomly choosing position to implant motif_instance instead.\n",
      "WARNING:root:Position weights are not defined. Randomly choosing position to implant motif_instance instead.\n",
      "WARNING:root:Position weights are not defined. Randomly choosing position to implant motif_instance instead.\n",
      "WARNING:root:Position weights are not defined. Randomly choosing position to implant motif_instance instead.\n",
      "WARNING:root:Position weights are not defined. Randomly choosing position to implant motif_instance instead.\n",
      "WARNING:root:Position weights are not defined. Randomly choosing position to implant motif_instance instead.\n",
      "WARNING:root:Position weights are not defined. Randomly choosing position to implant motif_instance instead.\n",
      "WARNING:root:Position weights are not defined. Randomly choosing position to implant motif_instance instead.\n",
      "WARNING:root:Position weights are not defined. Randomly choosing position to implant motif_instance instead.\n",
      "WARNING:root:Position weights are not defined. Randomly choosing position to implant motif_instance instead.\n",
      "WARNING:root:Position weights are not defined. Randomly choosing position to implant motif_instance instead.\n",
      "WARNING:root:Position weights are not defined. Randomly choosing position to implant motif_instance instead.\n",
      "WARNING:root:Position weights are not defined. Randomly choosing position to implant motif_instance instead.\n",
      "WARNING:root:Position weights are not defined. Randomly choosing position to implant motif_instance instead.\n",
      "WARNING:root:Position weights are not defined. Randomly choosing position to implant motif_instance instead.\n",
      "WARNING:root:Position weights are not defined. Randomly choosing position to implant motif_instance instead.\n",
      "WARNING:root:Position weights are not defined. Randomly choosing position to implant motif_instance instead.\n",
      "WARNING:root:Position weights are not defined. Randomly choosing position to implant motif_instance instead.\n",
      "WARNING:root:Position weights are not defined. Randomly choosing position to implant motif_instance instead.\n",
      "WARNING:root:Position weights are not defined. Randomly choosing position to implant motif_instance instead.\n",
      "WARNING:root:Position weights are not defined. Randomly choosing position to implant motif_instance instead.\n",
      "WARNING:root:Position weights are not defined. Randomly choosing position to implant motif_instance instead.\n",
      "WARNING:root:Position weights are not defined. Randomly choosing position to implant motif_instance instead.\n",
      "WARNING:root:Position weights are not defined. Randomly choosing position to implant motif_instance instead.\n",
      "WARNING:root:Position weights are not defined. Randomly choosing position to implant motif_instance instead.\n",
      "WARNING:root:Position weights are not defined. Randomly choosing position to implant motif_instance instead.\n",
      "WARNING:root:Position weights are not defined. Randomly choosing position to implant motif_instance instead.\n",
      "WARNING:root:Position weights are not defined. Randomly choosing position to implant motif_instance instead.\n",
      "WARNING:root:Position weights are not defined. Randomly choosing position to implant motif_instance instead.\n",
      "WARNING:root:Position weights are not defined. Randomly choosing position to implant motif_instance instead.\n",
      "WARNING:root:Position weights are not defined. Randomly choosing position to implant motif_instance instead.\n",
      "WARNING:root:Position weights are not defined. Randomly choosing position to implant motif_instance instead.\n",
      "WARNING:root:Position weights are not defined. Randomly choosing position to implant motif_instance instead.\n",
      "WARNING:root:Position weights are not defined. Randomly choosing position to implant motif_instance instead.\n",
      "WARNING:root:Position weights are not defined. Randomly choosing position to implant motif_instance instead.\n",
      "WARNING:root:Position weights are not defined. Randomly choosing position to implant motif_instance instead.\n",
      "WARNING:root:Position weights are not defined. Randomly choosing position to implant motif_instance instead.\n",
      "WARNING:root:Position weights are not defined. Randomly choosing position to implant motif_instance instead.\n",
      "WARNING:root:Position weights are not defined. Randomly choosing position to implant motif_instance instead.\n",
      "WARNING:root:Position weights are not defined. Randomly choosing position to implant motif_instance instead.\n",
      "WARNING:root:Position weights are not defined. Randomly choosing position to implant motif_instance instead.\n",
      "WARNING:root:Position weights are not defined. Randomly choosing position to implant motif_instance instead.\n",
      "WARNING:root:Position weights are not defined. Randomly choosing position to implant motif_instance instead.\n",
      "WARNING:root:Position weights are not defined. Randomly choosing position to implant motif_instance instead.\n",
      "WARNING:root:Position weights are not defined. Randomly choosing position to implant motif_instance instead.\n",
      "WARNING:root:Position weights are not defined. Randomly choosing position to implant motif_instance instead.\n",
      "WARNING:root:Position weights are not defined. Randomly choosing position to implant motif_instance instead.\n",
      "WARNING:root:Position weights are not defined. Randomly choosing position to implant motif_instance instead.\n"
     ]
    },
    {
     "name": "stdout",
     "output_type": "stream",
     "text": [
      "2022-04-19 11:22:37.650383: Instruction 1/1 has finished.\n",
      "2022-04-19 11:22:37.685362: Generating HTML reports...\n",
      "2022-04-19 11:22:38.472894: HTML reports are generated.\n",
      "2022-04-19 11:22:38.476886: ImmuneML: finished analysis.\n",
      "\n"
     ]
    },
    {
     "data": {
      "text/plain": [
       "[SimulationState(signals=[<immuneML.simulation.implants.Signal.Signal object at 0x000001A56F5729D0>], simulation=<immuneML.simulation.Simulation.Simulation object at 0x000001A54B9E7400>, dataset=<immuneML.data_model.dataset.RepertoireDataset.RepertoireDataset object at 0x000001A54B8D1DF0>, formats=['AIRR'], paths={'my_synthetic_dataset': {'AIRR': WindowsPath('../../quickstart/result/simulation_instruction/exported_dataset/airr')}}, resulting_dataset=<immuneML.data_model.dataset.RepertoireDataset.RepertoireDataset object at 0x000001A56F7E6340>, result_path=WindowsPath('../../quickstart/result/simulation_instruction'), name='simulation_instruction')]"
      ]
     },
     "execution_count": 12,
     "metadata": {},
     "output_type": "execute_result"
    }
   ],
   "source": [
    "app = ImmuneMLApp(specs_file, path / \"result\")\n",
    "\n",
    "app.run()"
   ]
  },
  {
   "cell_type": "code",
   "execution_count": 177,
   "metadata": {},
   "outputs": [],
   "source": [
    "result1path = Path(path / \"result1\")\n"
   ]
  },
  {
   "cell_type": "code",
   "execution_count": 17,
   "metadata": {},
   "outputs": [],
   "source": [
    "spec1path = Path(path / \"simulation_specs.yaml\")\n"
   ]
  },
  {
   "cell_type": "code",
   "execution_count": 22,
   "metadata": {},
   "outputs": [],
   "source": [
    "import datetime\n",
    "import re\n",
    "from pathlib import Path\n",
    "\n",
    "import yaml\n",
    "from yaml import MarkedYAMLError\n"
   ]
  },
  {
   "cell_type": "code",
   "execution_count": 18,
   "metadata": {},
   "outputs": [],
   "source": [
    "with spec1path.open(\"r\") as file:\n",
    "    workflow_specification = yaml.safe_load(file)\n"
   ]
  },
  {
   "cell_type": "code",
   "execution_count": 19,
   "metadata": {},
   "outputs": [
    {
     "data": {
      "text/plain": [
       "{'definitions': {'datasets': {'my_synthetic_dataset': {'format': 'RandomRepertoireDataset',\n",
       "    'params': {'labels': {}}}},\n",
       "  'motifs': {'my_motif': {'instantiation': 'GappedKmer', 'seed': 'AA'}},\n",
       "  'signals': {'my_signal': {'implanting': 'HealthySequence',\n",
       "    'motifs': ['my_motif']}},\n",
       "  'simulations': {'my_simulation': {'my_implantng': {'dataset_implanting_rate': 0.5,\n",
       "     'repertoire_implanting_rate': 0.1,\n",
       "     'signals': ['my_signal']}}}},\n",
       " 'instructions': {'simulation_instruction': {'dataset': 'my_synthetic_dataset',\n",
       "   'export_formats': ['AIRR'],\n",
       "   'simulation': 'my_simulation',\n",
       "   'type': 'Simulation'}}}"
      ]
     },
     "execution_count": 19,
     "metadata": {},
     "output_type": "execute_result"
    }
   ],
   "source": [
    "workflow_specification"
   ]
  },
  {
   "cell_type": "code",
   "execution_count": 28,
   "metadata": {},
   "outputs": [],
   "source": [
    "def check_keys(specs: dict):\n",
    "    for i, key in enumerate(specs.keys()):\n",
    "        key_to_check = str(key)\n",
    "        print(i, key)\n",
    "        assert re.match(r'^[A-Za-z0-9_]+$', key_to_check), \\\n",
    "            f\"ImmuneMLParser: the keys in the specification can contain only letters, numbers and underscore. Error with key: {key}\"\n",
    "        if isinstance(specs[key], dict) and key not in [\"column_mapping\", \"metadata_column_mapping\"]:\n",
    "            check_keys(specs[key])\n"
   ]
  },
  {
   "cell_type": "code",
   "execution_count": 30,
   "metadata": {},
   "outputs": [
    {
     "name": "stdout",
     "output_type": "stream",
     "text": [
      "0 definitions\n",
      "0 datasets\n",
      "0 my_synthetic_dataset\n",
      "0 format\n",
      "1 params\n",
      "0 labels\n",
      "1 motifs\n",
      "0 my_motif\n",
      "0 instantiation\n",
      "1 seed\n",
      "2 signals\n",
      "0 my_signal\n",
      "0 implanting\n",
      "1 motifs\n",
      "3 simulations\n",
      "0 my_simulation\n",
      "0 my_implantng\n",
      "0 dataset_implanting_rate\n",
      "1 repertoire_implanting_rate\n",
      "2 signals\n",
      "1 instructions\n",
      "0 simulation_instruction\n",
      "0 dataset\n",
      "1 export_formats\n",
      "2 simulation\n",
      "3 type\n"
     ]
    }
   ],
   "source": [
    "check_keys(workflow_specification)"
   ]
  },
  {
   "cell_type": "markdown",
   "metadata": {},
   "source": [
    "### Definition parser"
   ]
  },
  {
   "cell_type": "code",
   "execution_count": 127,
   "metadata": {},
   "outputs": [],
   "source": [
    "from immuneML.dsl.symbol_table.SymbolTable import SymbolTable\n",
    "from immuneML.dsl.definition_parsers.MotifParser import MotifParser\n",
    "from immuneML.dsl.definition_parsers.SimulationParser import SimulationParser\n",
    "from immuneML.dsl.definition_parsers.SignalParser import SignalParser\n",
    "from immuneML.dsl.import_parsers.ImportParser import ImportParser\n",
    "from immuneML.dsl.definition_parsers.DefinitionParserOutput import DefinitionParserOutput\n",
    "from immuneML.dsl.definition_parsers.EncodingParser import EncodingParser\n",
    "from immuneML.dsl.definition_parsers.MLParser import MLParser\n",
    "from immuneML.dsl.definition_parsers.MotifParser import MotifParser\n",
    "from immuneML.dsl.definition_parsers.PreprocessingParser import PreprocessingParser\n",
    "from immuneML.dsl.definition_parsers.ReportParser import ReportParser\n",
    "from immuneML.dsl.definition_parsers.SignalParser import SignalParser\n",
    "from immuneML.dsl.definition_parsers.SimulationParser import SimulationParser\n",
    "from immuneML.util.ParameterValidator import ParameterValidator\n",
    "import copy\n",
    "from immuneML.util.ReflectionHandler import ReflectionHandler\n",
    "from immuneML.dsl.ObjectParser import ObjectParser\n",
    "from immuneML.dsl.DefaultParamsLoader import DefaultParamsLoader\n"
   ]
  },
  {
   "cell_type": "code",
   "execution_count": 41,
   "metadata": {},
   "outputs": [],
   "source": [
    "symbol_table = SymbolTable()\n"
   ]
  },
  {
   "cell_type": "code",
   "execution_count": 46,
   "metadata": {},
   "outputs": [],
   "source": [
    "def call_if_exists(key: str, method, specs: dict, symbol_table: SymbolTable):\n",
    "    if key in specs:\n",
    "            return method(specs[key], symbol_table)\n",
    "    else:\n",
    "            return symbol_table, {}"
   ]
  },
  {
   "cell_type": "code",
   "execution_count": 49,
   "metadata": {},
   "outputs": [
    {
     "data": {
      "text/plain": [
       "{'datasets': {'my_synthetic_dataset': {'format': 'RandomRepertoireDataset',\n",
       "   'params': {'labels': {}}}},\n",
       " 'motifs': {'my_motif': {'instantiation': 'GappedKmer', 'seed': 'AA'}},\n",
       " 'signals': {'my_signal': {'implanting': 'HealthySequence',\n",
       "   'motifs': ['my_motif']}},\n",
       " 'simulations': {'my_simulation': {'my_implantng': {'dataset_implanting_rate': 0.5,\n",
       "    'repertoire_implanting_rate': 0.1,\n",
       "    'signals': ['my_signal']}}}}"
      ]
     },
     "execution_count": 49,
     "metadata": {},
     "output_type": "execute_result"
    }
   ],
   "source": [
    "specs = workflow_specification[\"definitions\"]\n",
    "specs\n"
   ]
  },
  {
   "cell_type": "markdown",
   "metadata": {},
   "source": [
    "#### Motif parser"
   ]
  },
  {
   "cell_type": "code",
   "execution_count": 98,
   "metadata": {},
   "outputs": [],
   "source": [
    "from immuneML.simulation.motif_instantiation_strategy.MotifInstantiationStrategy import MotifInstantiationStrategy\n",
    "from immuneML.data_model.receptor.receptor_sequence.Chain import Chain\n",
    "from immuneML.simulation.implants.Motif import Motif\n"
   ]
  },
  {
   "cell_type": "code",
   "execution_count": 63,
   "metadata": {},
   "outputs": [],
   "source": [
    "motifs = specs[\"motifs\"]"
   ]
  },
  {
   "cell_type": "code",
   "execution_count": 65,
   "metadata": {},
   "outputs": [
    {
     "name": "stdout",
     "output_type": "stream",
     "text": [
      "my_motif\n"
     ]
    }
   ],
   "source": [
    "for key in motifs.keys():\n",
    "\n",
    "    print(key)\n",
    "\n",
    "\n",
    "\n"
   ]
  },
  {
   "cell_type": "code",
   "execution_count": 91,
   "metadata": {},
   "outputs": [
    {
     "ename": "AttributeError",
     "evalue": "'dict_keys' object has no attribute 'next'",
     "output_type": "error",
     "traceback": [
      "\u001b[1;31m---------------------------------------------------------------------------\u001b[0m",
      "\u001b[1;31mAttributeError\u001b[0m                            Traceback (most recent call last)",
      "Input \u001b[1;32mIn [91]\u001b[0m, in \u001b[0;36m<cell line: 1>\u001b[1;34m()\u001b[0m\n\u001b[1;32m----> 1\u001b[0m motifs\u001b[39m.\u001b[39;49mkeys()\u001b[39m.\u001b[39;49mnext()\n",
      "\u001b[1;31mAttributeError\u001b[0m: 'dict_keys' object has no attribute 'next'"
     ]
    }
   ],
   "source": [
    "motifs.keys()"
   ]
  },
  {
   "cell_type": "code",
   "execution_count": 66,
   "metadata": {},
   "outputs": [
    {
     "data": {
      "text/plain": [
       "{'instantiation': 'GappedKmer', 'seed': 'AA'}"
      ]
     },
     "execution_count": 66,
     "metadata": {},
     "output_type": "execute_result"
    }
   ],
   "source": [
    "motifs[\"my_motif\"]\n"
   ]
  },
  {
   "cell_type": "code",
   "execution_count": 108,
   "metadata": {},
   "outputs": [
    {
     "data": {
      "text/plain": [
       "{'instantiation': 'GappedKmer', 'seed': 'AA'}"
      ]
     },
     "execution_count": 108,
     "metadata": {},
     "output_type": "execute_result"
    }
   ],
   "source": [
    "motif_dict = copy.deepcopy(motifs[\"my_motif\"])\n",
    "motif_dict"
   ]
  },
  {
   "cell_type": "code",
   "execution_count": 109,
   "metadata": {},
   "outputs": [
    {
     "data": {
      "text/plain": [
       "['GappedKmer']"
      ]
     },
     "execution_count": 109,
     "metadata": {},
     "output_type": "execute_result"
    }
   ],
   "source": [
    "valid_values = ReflectionHandler.all_nonabstract_subclass_basic_names(\n",
    "    MotifInstantiationStrategy, \"Instantiation\", \"motif_instantiation_strategy/\")\n",
    "\n",
    "valid_values"
   ]
  },
  {
   "cell_type": "code",
   "execution_count": 110,
   "metadata": {},
   "outputs": [
    {
     "data": {
      "text/plain": [
       "<immuneML.simulation.motif_instantiation_strategy.GappedKmerInstantiation.GappedKmerInstantiation at 0x1a56f796190>"
      ]
     },
     "execution_count": 110,
     "metadata": {},
     "output_type": "execute_result"
    }
   ],
   "source": [
    "instantiation_object = ObjectParser.parse_object(motifs[\"my_motif\"][\"instantiation\"], valid_values, \"Instantiation\",\n",
    "                                                 \"motif_instantiation_strategy\", \"MotifParser\", \"my_motif\")\n",
    "\n",
    "instantiation_object"
   ]
  },
  {
   "cell_type": "code",
   "execution_count": 111,
   "metadata": {},
   "outputs": [],
   "source": [
    "motif_dict[\"instantiation\"] = instantiation_object\n",
    "motif_dict[\"identifier\"] = \"my_motif\"  # motifs.keys()\n"
   ]
  },
  {
   "cell_type": "code",
   "execution_count": 112,
   "metadata": {},
   "outputs": [],
   "source": [
    "if \"name_chain1\" in motifs[\"my_motif\"]:\n",
    "    motif_dict[\"name_chain1\"] = Chain[motifs[\"my_motif\"][\"name_chain1\"].upper()]\n"
   ]
  },
  {
   "cell_type": "code",
   "execution_count": 113,
   "metadata": {},
   "outputs": [
    {
     "data": {
      "text/plain": [
       "{'instantiation': <immuneML.simulation.motif_instantiation_strategy.GappedKmerInstantiation.GappedKmerInstantiation at 0x1a56f796190>,\n",
       " 'seed': 'AA',\n",
       " 'identifier': 'my_motif'}"
      ]
     },
     "execution_count": 113,
     "metadata": {},
     "output_type": "execute_result"
    }
   ],
   "source": [
    "motif_dict"
   ]
  },
  {
   "cell_type": "markdown",
   "metadata": {},
   "source": [
    "### Motif"
   ]
  },
  {
   "cell_type": "code",
   "execution_count": 114,
   "metadata": {},
   "outputs": [],
   "source": [
    "motif = Motif(**motif_dict)"
   ]
  },
  {
   "cell_type": "code",
   "execution_count": 115,
   "metadata": {},
   "outputs": [
    {
     "data": {
      "text/plain": [
       "Motif(identifier='my_motif', instantiation=<immuneML.simulation.motif_instantiation_strategy.GappedKmerInstantiation.GappedKmerInstantiation object at 0x000001A56F796190>, seed='AA', seed_chain1=None, name_chain1=None, seed_chain2=None, name_chain2=None)"
      ]
     },
     "execution_count": 115,
     "metadata": {},
     "output_type": "execute_result"
    }
   ],
   "source": [
    "motif"
   ]
  },
  {
   "cell_type": "code",
   "execution_count": 120,
   "metadata": {},
   "outputs": [
    {
     "name": "stderr",
     "output_type": "stream",
     "text": [
      "C:\\Users\\karth\\Desktop\\PhD projects\\immuneML\\immuneML\\immuneML\\dsl\\symbol_table\\SymbolTable.py:39: Warning: An item with the key my_motif was already set in the SymbolTable during parsing. If overwriting it was the intended behavior, please ignore this warning.\n",
      "  warnings.warn(\"An item with the key {} was already set in the SymbolTable during parsing. If overwriting \"\n"
     ]
    }
   ],
   "source": [
    "symbol_table.add(\"my_motif\", SymbolType.MOTIF , motif )\n"
   ]
  },
  {
   "cell_type": "code",
   "execution_count": 126,
   "metadata": {},
   "outputs": [
    {
     "data": {
      "text/plain": [
       "Motif(identifier='my_motif', instantiation=<immuneML.simulation.motif_instantiation_strategy.GappedKmerInstantiation.GappedKmerInstantiation object at 0x000001A56F796190>, seed='AA', seed_chain1=None, name_chain1=None, seed_chain2=None, name_chain2=None)"
      ]
     },
     "execution_count": 126,
     "metadata": {},
     "output_type": "execute_result"
    }
   ],
   "source": [
    "symbol_table.get(\"my_motif\")\n"
   ]
  },
  {
   "cell_type": "code",
   "execution_count": null,
   "metadata": {},
   "outputs": [],
   "source": []
  },
  {
   "cell_type": "code",
   "execution_count": 54,
   "metadata": {},
   "outputs": [],
   "source": [
    "from immuneML.dsl.symbol_table.SymbolType import SymbolType\n",
    "\n",
    "\n",
    "def parse_motifs(motifs: dict, symbol_table: SymbolTable):\n",
    "\n",
    "    valid_motif_keys = [\"seed\", \"instantiation\", \"seed_chain1\",\n",
    "          \"seed_chain2\", \"name_chain1\", \"name_chain2\"]\n",
    "    for key in motifs.keys():\n",
    "\n",
    "            ParameterValidator.assert_keys(motifs[key].keys(\n",
    "            ), valid_motif_keys, \"MotifParser\", key, exclusive=False)\n",
    "\n",
    "            motif = MotifParser._parse_motif(key, motifs[key])\n",
    "            symbol_table.add(key, SymbolType.MOTIF, motif)\n",
    "\n",
    "    return symbol_table, motifs\n",
    "\n",
    "\n",
    "def _parse_motif(key: str, motif_item: dict):\n",
    "\n",
    "        motif_dict = copy.deepcopy(motif_item)\n",
    "\n",
    "        valid_values = ReflectionHandler.all_nonabstract_subclass_basic_names(MotifInstantiationStrategy, \"Instantiation\", \"motif_instantiation_strategy/\")\n",
    "        instantiation_object = ObjectParser.parse_object(motif_item[\"instantiation\"], valid_values, \"Instantiation\",\n",
    "                                                         \"motif_instantiation_strategy\", \"MotifParser\", key)\n",
    "        motif_dict[\"instantiation\"] = instantiation_object\n",
    "        motif_dict[\"identifier\"] = key\n",
    "\n",
    "        if \"name_chain1\" in motif_item:\n",
    "            motif_dict[\"name_chain1\"] = Chain[motif_item[\"name_chain1\"].upper()]\n",
    "        if \"name_chain2\" in motif_item:\n",
    "            motif_dict[\"name_chain2\"] = Chain[motif_item[\"name_chain2\"].upper()]\n",
    "\n",
    "        assert \"seed\" in motif_dict or all(el in motif_dict for el in [\"name_chain1\", \"name_chain2\", \"seed_chain1\", \"seed_chain2\"]), \\\n",
    "            \"MotifParser: please check the documentation for motif definition. Either parameter `seed` has to be set (for simulation in single \" \\\n",
    "            \"chain data) or all of the parameters `name_chain1`, `name_chain2`, `seed_chain1`, `seed_chain2` (for simulation for paired chain data).\"\n",
    "\n",
    "        motif = Motif(**motif_dict)\n",
    "\n",
    "        return motif\n"
   ]
  },
  {
   "cell_type": "markdown",
   "metadata": {},
   "source": [
    "### Signal Parser"
   ]
  },
  {
   "cell_type": "code",
   "execution_count": 139,
   "metadata": {},
   "outputs": [],
   "source": [
    "from immuneML.simulation.implants.Signal import Signal\n"
   ]
  },
  {
   "cell_type": "code",
   "execution_count": 150,
   "metadata": {},
   "outputs": [
    {
     "data": {
      "text/plain": [
       "{'my_signal': {'implanting': 'HealthySequence', 'motifs': ['my_motif']}}"
      ]
     },
     "execution_count": 150,
     "metadata": {},
     "output_type": "execute_result"
    }
   ],
   "source": [
    "VALID_KEYS = [\"motifs\", \"implanting\"]\n",
    "signals = specs[\"signals\"]\n",
    "signals"
   ]
  },
  {
   "cell_type": "code",
   "execution_count": 156,
   "metadata": {},
   "outputs": [
    {
     "data": {
      "text/plain": [
       "{'implanting_computation': 'round', 'sequence_position_weights': None}"
      ]
     },
     "execution_count": 156,
     "metadata": {},
     "output_type": "execute_result"
    }
   ],
   "source": [
    "defaults = DefaultParamsLoader.load(\n",
    "    \"signal_implanting_strategy/\", 'HealthySequenceImplanting')\n",
    "\n",
    "defaults"
   ]
  },
  {
   "cell_type": "code",
   "execution_count": 146,
   "metadata": {},
   "outputs": [
    {
     "name": "stdout",
     "output_type": "stream",
     "text": [
      "my_signal {'implanting': 'HealthySequence', 'motifs': ['my_motif']}\n",
      "<immuneML.simulation.signal_implanting_strategy.HealthySequenceImplanting.HealthySequenceImplanting object at 0x000001A57017F4C0>\n",
      "['my_motif']\n",
      "[Motif(identifier='my_motif', instantiation=<immuneML.simulation.motif_instantiation_strategy.GappedKmerInstantiation.GappedKmerInstantiation object at 0x000001A56F796190>, seed='AA', seed_chain1=None, name_chain1=None, seed_chain2=None, name_chain2=None)]\n",
      "Signal id: my_signal; motifs: my_motif - AA\n",
      "Signal id: my_signal; motifs: my_motif - AA\n"
     ]
    },
    {
     "name": "stderr",
     "output_type": "stream",
     "text": [
      "C:\\Users\\karth\\Desktop\\PhD projects\\immuneML\\immuneML\\immuneML\\dsl\\symbol_table\\SymbolTable.py:39: Warning: An item with the key my_signal was already set in the SymbolTable during parsing. If overwriting it was the intended behavior, please ignore this warning.\n",
      "  warnings.warn(\"An item with the key {} was already set in the SymbolTable during parsing. If overwriting \"\n"
     ]
    }
   ],
   "source": [
    "for key, signal_spec in signals.items():\n",
    "    ParameterValidator.assert_keys_present(\n",
    "        signal_spec.keys(), SignalParser.VALID_KEYS, \"SignalParser\", key)\n",
    "\n",
    "    print(key, signal_spec)\n",
    "    \n",
    "    implanting_strategy = SignalParser._get_implanting_strategy(key, signal_spec)\n",
    "\n",
    "    print(implanting_strategy)\n",
    "\n",
    "    ParameterValidator.assert_keys(signal_spec[\"motifs\"], symbol_table.get_keys_by_type(SymbolType.MOTIF), \"SignalParser\",\n",
    "                                   f\"motifs in signal {key}\", False)\n",
    "               \n",
    "    print( symbol_table.get_keys_by_type(SymbolType.MOTIF))\n",
    "\n",
    "    signal_motifs = [symbol_table.get(motif_id)\n",
    "                     for motif_id in signal_spec[\"motifs\"]]\n",
    "\n",
    "    print(signal_motifs)\n",
    "\n",
    "\n",
    "    signal = Signal (key, signal_motifs, implanting_strategy)\n",
    "\n",
    "    print(signal)\n",
    "\n",
    "    symbol_table.add(key, SymbolType.SIGNAL, signal)\n",
    "\n",
    "    print(symbol_table.get(\"my_signal\"))\n",
    "\n"
   ]
  },
  {
   "cell_type": "code",
   "execution_count": null,
   "metadata": {},
   "outputs": [],
   "source": [
    "VALID_KEYS = [\"motifs\", \"implanting\"]\n",
    "def parse_signals(signals: dict, symbol_table: SymbolTable):\n",
    "\n",
    "    for key, signal_spec in signals.items():\n",
    "        ParameterValidator.assert_keys_present(\n",
    "            signal_spec.keys(), SignalParser.VALID_KEYS, \"SignalParser\", key)\n",
    "        implanting_strategy = SignalParser._get_implanting_strategy(\n",
    "            key, signal_spec)\n",
    "\n",
    "        ParameterValidator.assert_keys(signal_spec[\"motifs\"], symbol_table.get_keys_by_type(SymbolType.MOTIF), \"SignalParser\",\n",
    "                                       f\"motifs in signal {key}\", False)\n",
    "\n",
    "        signal_motifs = [symbol_table.get(\n",
    "            motif_id) for motif_id in signal_spec[\"motifs\"]]\n",
    "        signal = Signal(key, signal_motifs, implanting_strategy)\n",
    "        symbol_table.add(key, SymbolType.SIGNAL, signal)\n",
    "\n",
    "        return symbol_table, signals\n",
    "\n",
    "def _get_implanting_strategy(key: str, signal: dict) -> SignalImplantingStrategy:\n",
    "\n",
    "        valid_strategies = [cls[:-10] for cls in\n",
    "                            ReflectionHandler.discover_classes_by_partial_name(\"Implanting\", \"simulation/signal_implanting_strategy/\")]\n",
    "        ParameterValidator.assert_in_valid_list(\n",
    "            signal[\"implanting\"], valid_strategies, \"SignalParser\", key)\n",
    "\n",
    "        defaults = DefaultParamsLoader.load(\n",
    "            \"signal_implanting_strategy/\", f\"{signal['implanting']}Implanting\")\n",
    "        signal = {**defaults, **signal}\n",
    "\n",
    "        ParameterValidator.assert_keys_present(list(signal.keys()), [\n",
    "                                               \"motifs\", \"implanting\", \"sequence_position_weights\"], SignalParser.__name__, key)\n",
    "\n",
    "        implanting_comp = None\n",
    "        if 'implanting_computation' in signal:\n",
    "            implanting_comp = signal['implanting_computation'].lower()\n",
    "            ParameterValidator.assert_in_valid_list(implanting_comp, [el.name.lower() for el in ImplantingComputation], SignalParser.__name__,\n",
    "                                                    'implanting_computation')\n",
    "            implanting_comp = ImplantingComputation[implanting_comp.upper()]\n",
    "\n",
    "        implanting_strategy = ReflectionHandler.get_class_by_name(f\"{signal['implanting']}Implanting\")(GappedMotifImplanting(),\n",
    "                                                                                                       signal[\"sequence_position_weights\"],\n",
    "                                                                                                       implanting_comp)\n",
    "\n",
    "        return implanting_strategy\n",
    "\n",
    "\n",
    "    \n"
   ]
  },
  {
   "cell_type": "code",
   "execution_count": 144,
   "metadata": {},
   "outputs": [],
   "source": [
    "from immuneML.simulation.sequence_implanting.GappedMotifImplanting import GappedMotifImplanting\n",
    "from immuneML.simulation.signal_implanting_strategy.ImplantingComputation import ImplantingComputation\n",
    "from immuneML.simulation.signal_implanting_strategy.SignalImplantingStrategy import SignalImplantingStrategy\n"
   ]
  },
  {
   "cell_type": "code",
   "execution_count": 145,
   "metadata": {},
   "outputs": [],
   "source": [
    "def _get_implanting_strategy(key: str, signal: dict) -> SignalImplantingStrategy:\n",
    "\n",
    "    valid_strategies = [cls[:-10] for cls in\n",
    "                        ReflectionHandler.discover_classes_by_partial_name(\"Implanting\", \"simulation/signal_implanting_strategy/\")]\n",
    "    ParameterValidator.assert_in_valid_list(\n",
    "        signal[\"implanting\"], valid_strategies, \"SignalParser\", key)\n",
    "\n",
    "    defaults = DefaultParamsLoader.load(\n",
    "        \"signal_implanting_strategy/\", f\"{signal['implanting']}Implanting\")\n",
    "    signal = {**defaults, **signal}\n",
    "\n",
    "    ParameterValidator.assert_keys_present(list(signal.keys()), [\n",
    "          \"motifs\", \"implanting\", \"sequence_position_weights\"], SignalParser.__name__, key)\n",
    "\n",
    "    implanting_comp = None\n",
    "    if 'implanting_computation' in signal:\n",
    "            implanting_comp = signal['implanting_computation'].lower()\n",
    "            ParameterValidator.assert_in_valid_list(implanting_comp, [el.name.lower() for el in ImplantingComputation], SignalParser.__name__,\n",
    "                                                    'implanting_computation')\n",
    "            implanting_comp = ImplantingComputation[implanting_comp.upper()]\n",
    "\n",
    "    implanting_strategy = ReflectionHandler.get_class_by_name(f\"{signal['implanting']}Implanting\")(GappedMotifImplanting(),\n",
    "                                                                                                       signal[\"sequence_position_weights\"],\n",
    "                                                                                                       implanting_comp)\n",
    "\n",
    "    return implanting_strategy\n"
   ]
  },
  {
   "cell_type": "markdown",
   "metadata": {},
   "source": [
    "### Simulation parsers"
   ]
  },
  {
   "cell_type": "code",
   "execution_count": 161,
   "metadata": {},
   "outputs": [
    {
     "data": {
      "text/plain": [
       "{'my_simulation': {'my_implantng': {'dataset_implanting_rate': 0.5,\n",
       "   'repertoire_implanting_rate': 0.1,\n",
       "   'signals': ['my_signal']}}}"
      ]
     },
     "execution_count": 161,
     "metadata": {},
     "output_type": "execute_result"
    }
   ],
   "source": [
    "simulations = specs[\"simulations\"]\n",
    "simulations\n"
   ]
  },
  {
   "cell_type": "code",
   "execution_count": 168,
   "metadata": {},
   "outputs": [],
   "source": [
    "from immuneML.simulation.Implanting import Implanting\n",
    "from immuneML.simulation.Simulation import Simulation\n"
   ]
  },
  {
   "cell_type": "code",
   "execution_count": 171,
   "metadata": {},
   "outputs": [
    {
     "name": "stdout",
     "output_type": "stream",
     "text": [
      "my_simulation {'my_implantng': {'dataset_implanting_rate': 0.5, 'repertoire_implanting_rate': 0.1, 'signals': ['my_signal']}}\n",
      "{'dataset_implanting_rate': 0.5, 'repertoire_implanting_rate': 0.1, 'signals': ['my_signal']}\n",
      "appended {'dataset_implanting_rate': 0.5, 'repertoire_implanting_rate': 0.1, 'signals': ['my_signal']}\n",
      "test my_implantng:\n",
      " dataset_implanting_rate: 0.5, \n",
      "repertoire_implanting_rate: 0.1, \n",
      "signals: 'Signal id: my_signal; motifs: my_motif - AA'\n"
     ]
    }
   ],
   "source": [
    "for key,simulation in simulations.items():\n",
    "\n",
    "    print(key,simulation)\n",
    "\n",
    "    location = \"SimulationParser\"\n",
    "    valid_implanting_keys = [\"dataset_implanting_rate\",\n",
    "                             \"repertoire_implanting_rate\", \"signals\", \"is_noise\"]\n",
    "    implantings = []\n",
    "    for impl_key, implanting in simulation.items():\n",
    "\n",
    "\n",
    "        ParameterValidator.assert_keys(\n",
    "            implanting.keys(), valid_implanting_keys, location, impl_key, exclusive=False)\n",
    "\n",
    "        ParameterValidator.assert_keys(implanting[\"signals\"], symbol_table.get_keys_by_type(\n",
    "            SymbolType.SIGNAL), location, impl_key, False)\n",
    "\n",
    "        implanting_params = copy.deepcopy(implanting)\n",
    "\n",
    "        print(implanting_params)\n",
    "\n",
    "        implanting_params[\"signals\"] = [symbol_table.get(\n",
    "            signal) for signal in implanting[\"signals\"]]\n",
    "        implanting_params[\"name\"] = impl_key\n",
    "\n",
    "        implantings.append(Implanting(**implanting_params))\n",
    "\n",
    "        print(\"appended\" , implanting)\n",
    "\n",
    "    symbol_table.add(key, SymbolType.SIMULATION, Simulation(implantings))\n",
    "\n",
    "    print(\"test\", symbol_table.get(\"my_simulation\"))\n",
    "\n",
    "\n",
    "\n",
    "\n",
    "\n",
    "\n",
    "\n"
   ]
  },
  {
   "cell_type": "code",
   "execution_count": null,
   "metadata": {},
   "outputs": [],
   "source": [
    "\n",
    "ParameterValidator.assert_keys(\n",
    "    implanting.keys(), valid_implanting_keys, location, impl_key, exclusive=False)\n",
    "ParameterValidator.assert_keys(implanting[\"signals\"], symbol_table.get_keys_by_type(\n",
    "    SymbolType.SIGNAL), location, impl_key, False)\n"
   ]
  },
  {
   "cell_type": "markdown",
   "metadata": {},
   "source": [
    "#### Import parser"
   ]
  },
  {
   "cell_type": "code",
   "execution_count": 173,
   "metadata": {},
   "outputs": [
    {
     "data": {
      "text/plain": [
       "{'datasets': {'my_synthetic_dataset': {'format': 'RandomRepertoireDataset',\n",
       "   'params': {'labels': {}}}},\n",
       " 'motifs': {'my_motif': {'instantiation': 'GappedKmer', 'seed': 'AA'}},\n",
       " 'signals': {'my_signal': {'implanting': 'HealthySequence',\n",
       "   'motifs': ['my_motif']}},\n",
       " 'simulations': {'my_simulation': {'my_implantng': {'dataset_implanting_rate': 0.5,\n",
       "    'repertoire_implanting_rate': 0.1,\n",
       "    'signals': ['my_signal']}}}}"
      ]
     },
     "execution_count": 173,
     "metadata": {},
     "output_type": "execute_result"
    }
   ],
   "source": [
    "specs"
   ]
  },
  {
   "cell_type": "code",
   "execution_count": null,
   "metadata": {},
   "outputs": [],
   "source": []
  },
  {
   "cell_type": "code",
   "execution_count": 179,
   "metadata": {},
   "outputs": [],
   "source": [
    "from immuneML.IO.dataset_import.DataImport import DataImport\n"
   ]
  },
  {
   "cell_type": "code",
   "execution_count": 189,
   "metadata": {},
   "outputs": [
    {
     "name": "stdout",
     "output_type": "stream",
     "text": [
      "my_synthetic_dataset {'format': 'RandomRepertoireDataset', 'params': {'repertoire_count': 100, 'sequence_count_probabilities': {10: 0.5, 20: 0.5}, 'sequence_length_probabilities': {10: 0.5, 12: 0.5}, 'labels': {}, 'result_path': WindowsPath('C:/Users/karth/Desktop/PhD projects/immuneML/immuneML/quickstart/result1/datasets/my_synthetic_dataset')}} SymbolTable() C:\\Users\\karth\\Desktop\\PhD projects\\immuneML\\immuneML\\quickstart\\result1\n",
      "['ImmuneML', 'TenxGenomics', 'OLGA', 'RandomRepertoireDataset', 'ImmunoSEQSample', 'RandomSequenceDataset', 'SingleLineReceptor', 'AIRR', 'ImmunoSEQRearrangement', 'VDJdb', 'MiXCR', 'Generic', 'IReceptor', 'RandomReceptorDataset', 'IGoR']\n",
      "<class 'immuneML.IO.dataset_import.RandomRepertoireDatasetImport.RandomRepertoireDatasetImport'> {'repertoire_count': 100, 'sequence_count_probabilities': {10: 0.5, 20: 0.5}, 'sequence_length_probabilities': {10: 0.5, 12: 0.5}, 'labels': {}, 'result_path': WindowsPath('C:/Users/karth/Desktop/PhD projects/immuneML/immuneML/quickstart/result1/datasets/my_synthetic_dataset')}\n",
      "False\n",
      "<immuneML.data_model.dataset.RepertoireDataset.RepertoireDataset object at 0x000001A55BACBB80>\n",
      "<immuneML.data_model.dataset.RepertoireDataset.RepertoireDataset object at 0x000001A55BACBB80>\n"
     ]
    }
   ],
   "source": [
    "\n",
    "keyword = \"datasets\"\n",
    "valid_keys = [\"format\", \"params\"]\n",
    "workflow_specification = specs\n",
    "location = \"ImportParser\"\n",
    "for key in workflow_specification[keyword].keys():\n",
    "    print(key, workflow_specification[keyword]\n",
    "          [key],  symbol_table, result1path)\n",
    "\n",
    "    valid_formats = ReflectionHandler.all_nonabstract_subclass_basic_names(\n",
    "        DataImport, \"Import\", \"IO/dataset_import/\")\n",
    "\n",
    "    print(valid_formats)\n",
    "\n",
    "    ParameterValidator.assert_in_valid_list(\n",
    "        workflow_specification[keyword]\n",
    "        [key][\"format\"], valid_formats, location, \"format\")\n",
    "    \n",
    "    import_cls = ReflectionHandler.get_class_by_name(\n",
    "        \"{}Import\".format(workflow_specification[keyword]\n",
    "                          [key][\"format\"]))\n",
    "    params = ImportParser._prepare_params(workflow_specification[keyword]\n",
    "                                          [key], result1path, key)\n",
    "\n",
    "    print(import_cls, params)\n",
    "\n",
    "    print(\"is_repertoire\" in params)\n",
    "\n",
    "    dataset = import_cls.import_dataset(params, key)\n",
    "\n",
    "    dataset.name = key\n",
    "\n",
    "    print(dataset)\n",
    "\n",
    "\n",
    "    symbol_table.add(key, SymbolType.DATASET, dataset)\n",
    "\n",
    "    print(symbol_table.get(\"my_synthetic_dataset\"))\n",
    "\n",
    "\n",
    "\n",
    "\n",
    "\n",
    "\n",
    "\n",
    "\n",
    "\n",
    "\n",
    "\n",
    "\n",
    "\n",
    "\n",
    "\n"
   ]
  },
  {
   "cell_type": "code",
   "execution_count": 197,
   "metadata": {},
   "outputs": [
    {
     "data": {
      "text/plain": [
       "{'_items': {'my_motif': <immuneML.dsl.symbol_table.SymbolTableEntry.SymbolTableEntry at 0x1a5702c9ac0>,\n",
       "  'my_signal': <immuneML.dsl.symbol_table.SymbolTableEntry.SymbolTableEntry at 0x1a57040ef10>,\n",
       "  'my_simulation': <immuneML.dsl.symbol_table.SymbolTableEntry.SymbolTableEntry at 0x1a57040e3a0>,\n",
       "  'my_synthetic_dataset': <immuneML.dsl.symbol_table.SymbolTableEntry.SymbolTableEntry at 0x1a570187fa0>}}"
      ]
     },
     "execution_count": 197,
     "metadata": {},
     "output_type": "execute_result"
    }
   ],
   "source": [
    "symbol_table.__dict__"
   ]
  },
  {
   "cell_type": "code",
   "execution_count": 195,
   "metadata": {},
   "outputs": [],
   "source": [
    "from immuneML.dsl.definition_parsers.DefinitionParser import DefinitionParser\n"
   ]
  },
  {
   "cell_type": "code",
   "execution_count": 198,
   "metadata": {},
   "outputs": [
    {
     "data": {
      "text/plain": [
       "{'datasets': {'my_synthetic_dataset': {'format': 'RandomRepertoireDataset',\n",
       "   'params': {'repertoire_count': 100,\n",
       "    'sequence_count_probabilities': {10: 0.5, 20: 0.5},\n",
       "    'sequence_length_probabilities': {10: 0.5, 12: 0.5},\n",
       "    'labels': {},\n",
       "    'result_path': WindowsPath('C:/Users/karth/Desktop/PhD projects/immuneML/immuneML/quickstart/result1/datasets/my_synthetic_dataset')}}},\n",
       " 'motifs': {'my_motif': {'instantiation': 'GappedKmer', 'seed': 'AA'}},\n",
       " 'signals': {'my_signal': {'implanting': 'HealthySequence',\n",
       "   'motifs': ['my_motif']}},\n",
       " 'simulations': {'my_simulation': {'my_implantng': {'dataset_implanting_rate': 0.5,\n",
       "    'repertoire_implanting_rate': 0.1,\n",
       "    'signals': ['my_signal']}}}}"
      ]
     },
     "execution_count": 198,
     "metadata": {},
     "output_type": "execute_result"
    }
   ],
   "source": [
    "specs"
   ]
  },
  {
   "cell_type": "code",
   "execution_count": 196,
   "metadata": {},
   "outputs": [],
   "source": [
    "\n",
    "symbol_table, specs_preprocessing = DefinitionParser._call_if_exists(\n",
    "    PreprocessingParser.keyword, PreprocessingParser.parse, specs, symbol_table)\n",
    "symbol_table, specs_encoding = DefinitionParser._call_if_exists(\n",
    "    \"encodings\", EncodingParser.parse, specs, symbol_table)\n",
    "symbol_table, specs_ml = DefinitionParser._call_if_exists(\n",
    "    \"ml_methods\", MLParser.parse, specs, symbol_table)\n",
    "symbol_table, specs_report = DefinitionParser._call_if_exists(\n",
    "    \"reports\", ReportParser.parse_reports, specs, symbol_table)\n"
   ]
  },
  {
   "cell_type": "markdown",
   "metadata": {},
   "source": [
    "### Definition Parser create spec defs "
   ]
  },
  {
   "cell_type": "code",
   "execution_count": 199,
   "metadata": {},
   "outputs": [],
   "source": [
    "specs_import = specs[\"datasets\"]\n",
    "specs_simulation = specs[\"simulations\"]\n",
    "specs_motifs = specs[\"motifs\"]\n",
    "specs_signals = specs[\"signals\"]"
   ]
  },
  {
   "cell_type": "code",
   "execution_count": 201,
   "metadata": {},
   "outputs": [],
   "source": [
    "\n",
    "def create_specs_defs(specs_datasets: dict, simulation: dict, preprocessings: dict, motifs: dict, signals: dict,\n",
    "                       encodings: dict, ml_methods: dict, reports: dict):\n",
    "\n",
    "     return {\n",
    "         \"datasets\": specs_datasets, \"simulations\": simulation, PreprocessingParser.keyword: preprocessings, \"motifs\": motifs, \"signals\": signals,\n",
    "         \"encodings\": encodings, \"ml_methods\": ml_methods, \"reports\": reports\n",
    "     }\n",
    "\n",
    "\n",
    "\n",
    "specs_defs =create_specs_defs(specs_import, specs_simulation, specs_preprocessing, specs_motifs, specs_signals,\n",
    "                                                specs_encoding, specs_ml, specs_report)\n"
   ]
  },
  {
   "cell_type": "code",
   "execution_count": 202,
   "metadata": {},
   "outputs": [
    {
     "data": {
      "text/plain": [
       "{'datasets': {'my_synthetic_dataset': {'format': 'RandomRepertoireDataset',\n",
       "   'params': {'repertoire_count': 100,\n",
       "    'sequence_count_probabilities': {10: 0.5, 20: 0.5},\n",
       "    'sequence_length_probabilities': {10: 0.5, 12: 0.5},\n",
       "    'labels': {},\n",
       "    'result_path': WindowsPath('C:/Users/karth/Desktop/PhD projects/immuneML/immuneML/quickstart/result1/datasets/my_synthetic_dataset')}}},\n",
       " 'simulations': {'my_simulation': {'my_implantng': {'dataset_implanting_rate': 0.5,\n",
       "    'repertoire_implanting_rate': 0.1,\n",
       "    'signals': ['my_signal']}}},\n",
       " 'preprocessing_sequences': {},\n",
       " 'motifs': {'my_motif': {'instantiation': 'GappedKmer', 'seed': 'AA'}},\n",
       " 'signals': {'my_signal': {'implanting': 'HealthySequence',\n",
       "   'motifs': ['my_motif']}},\n",
       " 'encodings': {},\n",
       " 'ml_methods': {},\n",
       " 'reports': {}}"
      ]
     },
     "execution_count": 202,
     "metadata": {},
     "output_type": "execute_result"
    }
   ],
   "source": [
    "specs_defs"
   ]
  },
  {
   "cell_type": "markdown",
   "metadata": {},
   "source": [
    "### Definition parser output"
   ]
  },
  {
   "cell_type": "code",
   "execution_count": 203,
   "metadata": {},
   "outputs": [],
   "source": [
    "from immuneML.dsl.definition_parsers.DefinitionParserOutput import DefinitionParserOutput\n",
    "\n",
    "\n",
    "class DefinitionParserOutput:\n",
    "\n",
    "    def __init__(self, symbol_table: SymbolTable, specification: dict):\n",
    "        assert any(len(symbol_table.get_by_type(symbol_type)) > 0 for symbol_type in [t for t in SymbolType]), \\\n",
    "            \"DefinitionParserOutput: symbol table has not been populated by objects of any type.\"\n",
    "\n",
    "        self.symbol_table = symbol_table\n",
    "        self.specification = specification\n"
   ]
  },
  {
   "cell_type": "code",
   "execution_count": 212,
   "metadata": {},
   "outputs": [
    {
     "data": {
      "text/plain": [
       "{'datasets': {'my_synthetic_dataset': {'format': 'RandomRepertoireDataset',\n",
       "   'params': {'repertoire_count': 100,\n",
       "    'sequence_count_probabilities': {10: 0.5, 20: 0.5},\n",
       "    'sequence_length_probabilities': {10: 0.5, 12: 0.5},\n",
       "    'labels': {},\n",
       "    'result_path': WindowsPath('C:/Users/karth/Desktop/PhD projects/immuneML/immuneML/quickstart/result1/datasets/my_synthetic_dataset')}}},\n",
       " 'motifs': {'my_motif': {'instantiation': 'GappedKmer', 'seed': 'AA'}},\n",
       " 'signals': {'my_signal': {'implanting': 'HealthySequence',\n",
       "   'motifs': ['my_motif']}},\n",
       " 'simulations': {'my_simulation': {'my_implantng': {'dataset_implanting_rate': 0.5,\n",
       "    'repertoire_implanting_rate': 0.1,\n",
       "    'signals': ['my_signal']}}}}"
      ]
     },
     "execution_count": 212,
     "metadata": {},
     "output_type": "execute_result"
    }
   ],
   "source": [
    "workflow_specification"
   ]
  },
  {
   "cell_type": "code",
   "execution_count": 211,
   "metadata": {},
   "outputs": [
    {
     "data": {
      "text/plain": [
       "{'datasets': {'my_synthetic_dataset': {'format': 'RandomRepertoireDataset',\n",
       "   'params': {'repertoire_count': 100,\n",
       "    'sequence_count_probabilities': {10: 0.5, 20: 0.5},\n",
       "    'sequence_length_probabilities': {10: 0.5, 12: 0.5},\n",
       "    'labels': {},\n",
       "    'result_path': WindowsPath('C:/Users/karth/Desktop/PhD projects/immuneML/immuneML/quickstart/result1/datasets/my_synthetic_dataset')}}},\n",
       " 'motifs': {'my_motif': {'instantiation': 'GappedKmer', 'seed': 'AA'}},\n",
       " 'signals': {'my_signal': {'implanting': 'HealthySequence',\n",
       "   'motifs': ['my_motif']}},\n",
       " 'simulations': {'my_simulation': {'my_implantng': {'dataset_implanting_rate': 0.5,\n",
       "    'repertoire_implanting_rate': 0.1,\n",
       "    'signals': ['my_signal']}}}}"
      ]
     },
     "execution_count": 211,
     "metadata": {},
     "output_type": "execute_result"
    }
   ],
   "source": [
    "specs"
   ]
  },
  {
   "cell_type": "code",
   "execution_count": 214,
   "metadata": {},
   "outputs": [],
   "source": [
    "def_parser_output , specs_defs = DefinitionParserOutput(symbol_table=symbol_table,\n",
    "                       specification=specs), specs_defs\n"
   ]
  },
  {
   "cell_type": "code",
   "execution_count": 207,
   "metadata": {},
   "outputs": [
    {
     "data": {
      "text/plain": [
       "{'datasets': {'my_synthetic_dataset': {'format': 'RandomRepertoireDataset',\n",
       "   'params': {'repertoire_count': 100,\n",
       "    'sequence_count_probabilities': {10: 0.5, 20: 0.5},\n",
       "    'sequence_length_probabilities': {10: 0.5, 12: 0.5},\n",
       "    'labels': {},\n",
       "    'result_path': WindowsPath('C:/Users/karth/Desktop/PhD projects/immuneML/immuneML/quickstart/result1/datasets/my_synthetic_dataset')}}},\n",
       " 'simulations': {'my_simulation': {'my_implantng': {'dataset_implanting_rate': 0.5,\n",
       "    'repertoire_implanting_rate': 0.1,\n",
       "    'signals': ['my_signal']}}},\n",
       " 'preprocessing_sequences': {},\n",
       " 'motifs': {'my_motif': {'instantiation': 'GappedKmer', 'seed': 'AA'}},\n",
       " 'signals': {'my_signal': {'implanting': 'HealthySequence',\n",
       "   'motifs': ['my_motif']}},\n",
       " 'encodings': {},\n",
       " 'ml_methods': {},\n",
       " 'reports': {}}"
      ]
     },
     "execution_count": 207,
     "metadata": {},
     "output_type": "execute_result"
    }
   ],
   "source": [
    "specs_defs"
   ]
  },
  {
   "cell_type": "code",
   "execution_count": 208,
   "metadata": {},
   "outputs": [
    {
     "data": {
      "text/plain": [
       "{'_items': {'my_motif': <immuneML.dsl.symbol_table.SymbolTableEntry.SymbolTableEntry at 0x1a5702c9ac0>,\n",
       "  'my_signal': <immuneML.dsl.symbol_table.SymbolTableEntry.SymbolTableEntry at 0x1a57040ef10>,\n",
       "  'my_simulation': <immuneML.dsl.symbol_table.SymbolTableEntry.SymbolTableEntry at 0x1a57040e3a0>,\n",
       "  'my_synthetic_dataset': <immuneML.dsl.symbol_table.SymbolTableEntry.SymbolTableEntry at 0x1a570187fa0>}}"
      ]
     },
     "execution_count": 208,
     "metadata": {},
     "output_type": "execute_result"
    }
   ],
   "source": [
    "symbol_table.__dict__"
   ]
  },
  {
   "cell_type": "code",
   "execution_count": 209,
   "metadata": {},
   "outputs": [
    {
     "data": {
      "text/plain": [
       "{'datasets': {'my_synthetic_dataset': {'format': 'RandomRepertoireDataset',\n",
       "   'params': {'repertoire_count': 100,\n",
       "    'sequence_count_probabilities': {10: 0.5, 20: 0.5},\n",
       "    'sequence_length_probabilities': {10: 0.5, 12: 0.5},\n",
       "    'labels': {},\n",
       "    'result_path': WindowsPath('C:/Users/karth/Desktop/PhD projects/immuneML/immuneML/quickstart/result1/datasets/my_synthetic_dataset')}}},\n",
       " 'simulations': {'my_simulation': {'my_implantng': {'dataset_implanting_rate': 0.5,\n",
       "    'repertoire_implanting_rate': 0.1,\n",
       "    'signals': ['my_signal']}}},\n",
       " 'preprocessing_sequences': {},\n",
       " 'motifs': {'my_motif': {'instantiation': 'GappedKmer', 'seed': 'AA'}},\n",
       " 'signals': {'my_signal': {'implanting': 'HealthySequence',\n",
       "   'motifs': ['my_motif']}},\n",
       " 'encodings': {},\n",
       " 'ml_methods': {},\n",
       " 'reports': {}}"
      ]
     },
     "execution_count": 209,
     "metadata": {},
     "output_type": "execute_result"
    }
   ],
   "source": [
    "specs_defs"
   ]
  },
  {
   "cell_type": "code",
   "execution_count": 215,
   "metadata": {},
   "outputs": [
    {
     "data": {
      "text/plain": [
       "{'definitions': {'datasets': {'my_synthetic_dataset': {'format': 'RandomRepertoireDataset',\n",
       "    'params': {'labels': {}}}},\n",
       "  'motifs': {'my_motif': {'seed': 'AA', 'instantiation': 'GappedKmer'}},\n",
       "  'signals': {'my_signal': {'motifs': ['my_motif'],\n",
       "    'implanting': 'HealthySequence'}},\n",
       "  'simulations': {'my_simulation': {'my_implantng': {'signals': ['my_signal'],\n",
       "     'dataset_implanting_rate': 0.5,\n",
       "     'repertoire_implanting_rate': 0.1}}}},\n",
       " 'instructions': {'simulation_instruction': {'type': 'Simulation',\n",
       "   'dataset': 'my_synthetic_dataset',\n",
       "   'simulation': 'my_simulation',\n",
       "   'export_formats': ['AIRR']}}}"
      ]
     },
     "execution_count": 215,
     "metadata": {},
     "output_type": "execute_result"
    }
   ],
   "source": [
    "def_parser_output.specification"
   ]
  },
  {
   "cell_type": "code",
   "execution_count": 206,
   "metadata": {},
   "outputs": [
    {
     "data": {
      "text/plain": [
       "{'symbol_table': SymbolTable(),\n",
       " 'specification': {'datasets': {'my_synthetic_dataset': {'format': 'RandomRepertoireDataset',\n",
       "    'params': {'repertoire_count': 100,\n",
       "     'sequence_count_probabilities': {10: 0.5, 20: 0.5},\n",
       "     'sequence_length_probabilities': {10: 0.5, 12: 0.5},\n",
       "     'labels': {},\n",
       "     'result_path': WindowsPath('C:/Users/karth/Desktop/PhD projects/immuneML/immuneML/quickstart/result1/datasets/my_synthetic_dataset')}}},\n",
       "  'motifs': {'my_motif': {'instantiation': 'GappedKmer', 'seed': 'AA'}},\n",
       "  'signals': {'my_signal': {'implanting': 'HealthySequence',\n",
       "    'motifs': ['my_motif']}},\n",
       "  'simulations': {'my_simulation': {'my_implantng': {'dataset_implanting_rate': 0.5,\n",
       "     'repertoire_implanting_rate': 0.1,\n",
       "     'signals': ['my_signal']}}}}}"
      ]
     },
     "execution_count": 206,
     "metadata": {},
     "output_type": "execute_result"
    }
   ],
   "source": [
    "def_parser_output.__dict__"
   ]
  },
  {
   "cell_type": "markdown",
   "metadata": {},
   "source": [
    "### Instruction parsers"
   ]
  },
  {
   "cell_type": "code",
   "execution_count": 217,
   "metadata": {},
   "outputs": [],
   "source": [
    "keyword = \"instructions\""
   ]
  },
  {
   "cell_type": "code",
   "execution_count": 216,
   "metadata": {},
   "outputs": [],
   "source": [
    "specification = def_parser_output.specification\n",
    "symbol_table = def_parser_output.symbol_table"
   ]
  },
  {
   "cell_type": "code",
   "execution_count": 218,
   "metadata": {},
   "outputs": [
    {
     "data": {
      "text/plain": [
       "True"
      ]
     },
     "execution_count": 218,
     "metadata": {},
     "output_type": "execute_result"
    }
   ],
   "source": [
    "keyword in specification"
   ]
  },
  {
   "cell_type": "code",
   "execution_count": 219,
   "metadata": {},
   "outputs": [
    {
     "name": "stdout",
     "output_type": "stream",
     "text": [
      "simulation_instruction {'type': 'Simulation', 'dataset': 'my_synthetic_dataset', 'simulation': 'my_simulation', 'export_formats': ['AIRR']} SymbolTable() C:\\Users\\karth\\Desktop\\PhD projects\\immuneML\\immuneML\\quickstart\\result1\n"
     ]
    }
   ],
   "source": [
    "for key in specification[keyword]:\n",
    "\n",
    "    print(key, specification[keyword][key], symbol_table, result1path)\n",
    "\n",
    "    # specification[keyword][key] , symbol_table = parse_instruction(key, specification[keyword][key], symbol_table,result1path )\n"
   ]
  },
  {
   "cell_type": "code",
   "execution_count": 220,
   "metadata": {},
   "outputs": [],
   "source": [
    "valid_instructions = [\n",
    "    cls[:-6] for cls in ReflectionHandler.discover_classes_by_partial_name(\"Parser\", \"dsl/instruction_parsers/\")]\n"
   ]
  },
  {
   "cell_type": "code",
   "execution_count": 221,
   "metadata": {},
   "outputs": [
    {
     "data": {
      "text/plain": [
       "['DatasetExport',\n",
       " 'ExploratoryAnalysis',\n",
       " 'MLApplication',\n",
       " 'Simulation',\n",
       " 'Subsampling',\n",
       " 'TrainMLModel']"
      ]
     },
     "execution_count": 221,
     "metadata": {},
     "output_type": "execute_result"
    }
   ],
   "source": [
    "valid_instructions"
   ]
  },
  {
   "cell_type": "code",
   "execution_count": 227,
   "metadata": {},
   "outputs": [
    {
     "data": {
      "text/plain": [
       "'Simulation'"
      ]
     },
     "execution_count": 227,
     "metadata": {},
     "output_type": "execute_result"
    }
   ],
   "source": [
    "specification[keyword][key][\"type\"]\n"
   ]
  },
  {
   "cell_type": "code",
   "execution_count": 224,
   "metadata": {},
   "outputs": [
    {
     "data": {
      "text/plain": [
       "'simulation_instruction'"
      ]
     },
     "execution_count": 224,
     "metadata": {},
     "output_type": "execute_result"
    }
   ],
   "source": [
    "key"
   ]
  },
  {
   "cell_type": "code",
   "execution_count": 233,
   "metadata": {},
   "outputs": [],
   "source": [
    "path = \"instructions/\"\n",
    "class_name = 'Simulation'\n"
   ]
  },
  {
   "cell_type": "code",
   "execution_count": 234,
   "metadata": {},
   "outputs": [],
   "source": [
    "filepath = EnvironmentSettings.default_params_path / path / \\\n",
    "    f\"{DefaultParamsLoader.convert_to_snake_case(class_name)}_params.yaml\"\n"
   ]
  },
  {
   "cell_type": "code",
   "execution_count": 235,
   "metadata": {},
   "outputs": [
    {
     "data": {
      "text/plain": [
       "WindowsPath('C:/Users/karth/Desktop/PhD projects/immuneML/immuneML/immuneML/config/default_params/instructions/simulation_params.yaml')"
      ]
     },
     "execution_count": 235,
     "metadata": {},
     "output_type": "execute_result"
    }
   ],
   "source": [
    "filepath"
   ]
  },
  {
   "cell_type": "code",
   "execution_count": 236,
   "metadata": {},
   "outputs": [],
   "source": [
    "with filepath.open(\"r\") as file:\n",
    "    params = yaml.load(file, Loader=yaml.FullLoader)\n"
   ]
  },
  {
   "cell_type": "code",
   "execution_count": 237,
   "metadata": {},
   "outputs": [
    {
     "data": {
      "text/plain": [
       "{'export_formats': ['AIRR']}"
      ]
     },
     "execution_count": 237,
     "metadata": {},
     "output_type": "execute_result"
    }
   ],
   "source": [
    "params"
   ]
  },
  {
   "cell_type": "code",
   "execution_count": 225,
   "metadata": {},
   "outputs": [],
   "source": [
    "default_params = DefaultParamsLoader.load(\n",
    "    \"instructions/\", specification[keyword][key][\"type\"])\n"
   ]
  },
  {
   "cell_type": "code",
   "execution_count": 226,
   "metadata": {},
   "outputs": [
    {
     "data": {
      "text/plain": [
       "{'export_formats': ['AIRR']}"
      ]
     },
     "execution_count": 226,
     "metadata": {},
     "output_type": "execute_result"
    }
   ],
   "source": [
    "default_params"
   ]
  },
  {
   "cell_type": "code",
   "execution_count": 238,
   "metadata": {},
   "outputs": [],
   "source": [
    "instruction = {**default_params, **specification[keyword][key]}\n"
   ]
  },
  {
   "cell_type": "code",
   "execution_count": 264,
   "metadata": {},
   "outputs": [
    {
     "data": {
      "text/plain": [
       "{'export_formats': ['AIRR'],\n",
       " 'type': 'Simulation',\n",
       " 'dataset': 'my_synthetic_dataset',\n",
       " 'simulation': 'my_simulation'}"
      ]
     },
     "execution_count": 264,
     "metadata": {},
     "output_type": "execute_result"
    }
   ],
   "source": [
    "instruction"
   ]
  },
  {
   "cell_type": "code",
   "execution_count": 240,
   "metadata": {},
   "outputs": [],
   "source": [
    "parser = ReflectionHandler.get_class_by_name(\"{}Parser\".format(instruction[\"type\"]), \"instruction_parsers/\")()\n"
   ]
  },
  {
   "cell_type": "code",
   "execution_count": 243,
   "metadata": {},
   "outputs": [
    {
     "data": {
      "text/plain": [
       "immuneML.dsl.instruction_parsers.SimulationParser.SimulationParser"
      ]
     },
     "execution_count": 243,
     "metadata": {},
     "output_type": "execute_result"
    }
   ],
   "source": [
    "parser.__class__"
   ]
  },
  {
   "cell_type": "markdown",
   "metadata": {},
   "source": [
    "### Simulation parser"
   ]
  },
  {
   "cell_type": "code",
   "execution_count": 244,
   "metadata": {},
   "outputs": [],
   "source": [
    "from pathlib import Path\n",
    "\n",
    "from immuneML.IO.dataset_export.DataExporter import DataExporter\n",
    "from immuneML.dsl.symbol_table.SymbolTable import SymbolTable\n",
    "from immuneML.dsl.symbol_table.SymbolType import SymbolType\n",
    "from immuneML.util.ParameterValidator import ParameterValidator\n",
    "from immuneML.util.ReflectionHandler import ReflectionHandler\n",
    "from immuneML.workflows.instructions.SimulationInstruction import SimulationInstruction\n"
   ]
  },
  {
   "cell_type": "code",
   "execution_count": 245,
   "metadata": {},
   "outputs": [],
   "source": [
    "ParameterValidator.assert_keys(instruction.keys(), [\n",
    "                               \"dataset\", \"simulation\", \"type\", \"export_formats\"], \"SimulationParser\", 'simulation_instruction')\n"
   ]
  },
  {
   "cell_type": "code",
   "execution_count": 249,
   "metadata": {},
   "outputs": [],
   "source": [
    "def parse_exporters(instruction):\n",
    "    if instruction[\"export_formats\"] is not None:\n",
    "        class_path = \"dataset_export/\"\n",
    "        exporters = [ReflectionHandler.get_class_by_name(\n",
    "            f\"{item}Exporter\", class_path) for item in instruction[\"export_formats\"]]\n",
    "    else:\n",
    "            exporters = None\n",
    "\n",
    "    return exporters\n",
    "\n",
    "\n"
   ]
  },
  {
   "cell_type": "code",
   "execution_count": 250,
   "metadata": {},
   "outputs": [],
   "source": [
    "signals = [signal.item for signal in symbol_table.get_by_type(\n",
    "    SymbolType.SIGNAL)]\n",
    "\n",
    "simulation = symbol_table.get(instruction[\"simulation\"])\n",
    "\n",
    "dataset = symbol_table.get(instruction[\"dataset\"])\n",
    "\n",
    "exporters = parse_exporters(instruction)\n",
    "\n",
    "\n",
    "\n",
    "\n"
   ]
  },
  {
   "cell_type": "code",
   "execution_count": 251,
   "metadata": {},
   "outputs": [
    {
     "data": {
      "text/plain": [
       "[immuneML.IO.dataset_export.AIRRExporter.AIRRExporter]"
      ]
     },
     "execution_count": 251,
     "metadata": {},
     "output_type": "execute_result"
    }
   ],
   "source": [
    "exporters"
   ]
  },
  {
   "cell_type": "code",
   "execution_count": 252,
   "metadata": {},
   "outputs": [
    {
     "data": {
      "text/plain": [
       "(<immuneML.data_model.dataset.RepertoireDataset.RepertoireDataset at 0x1a55bacbb80>,\n",
       " <immuneML.simulation.Simulation.Simulation at 0x1a57040ed90>,\n",
       " [<immuneML.simulation.implants.Signal.Signal at 0x1a56f8dd6a0>])"
      ]
     },
     "execution_count": 252,
     "metadata": {},
     "output_type": "execute_result"
    }
   ],
   "source": [
    "dataset , simulation, signals"
   ]
  },
  {
   "cell_type": "code",
   "execution_count": null,
   "metadata": {},
   "outputs": [],
   "source": [
    "process = SimulationInstruction(\n",
    "    signals=signals, simulation=simulation, dataset=dataset, name='simulation_instruction', exporters=exporters)\n"
   ]
  },
  {
   "cell_type": "markdown",
   "metadata": {},
   "source": [
    "### Simulation instruction"
   ]
  },
  {
   "cell_type": "code",
   "execution_count": 257,
   "metadata": {},
   "outputs": [],
   "source": [
    "from immuneML.simulation.SimulationState import SimulationState\n",
    "from immuneML.workflows.steps.SignalImplanter import SignalImplanter\n"
   ]
  },
  {
   "cell_type": "code",
   "execution_count": 254,
   "metadata": {},
   "outputs": [],
   "source": [
    "state = SimulationState(signals, simulation, dataset,\n",
    "                        name='simulation_instruction')\n"
   ]
  },
  {
   "cell_type": "code",
   "execution_count": 255,
   "metadata": {},
   "outputs": [
    {
     "data": {
      "text/plain": [
       "{'signals': [<immuneML.simulation.implants.Signal.Signal at 0x1a56f8dd6a0>],\n",
       " 'simulation': <immuneML.simulation.Simulation.Simulation at 0x1a57040ed90>,\n",
       " 'dataset': <immuneML.data_model.dataset.RepertoireDataset.RepertoireDataset at 0x1a55bacbb80>,\n",
       " 'formats': None,\n",
       " 'paths': None,\n",
       " 'resulting_dataset': None,\n",
       " 'result_path': None,\n",
       " 'name': 'simulation_instruction'}"
      ]
     },
     "execution_count": 255,
     "metadata": {},
     "output_type": "execute_result"
    }
   ],
   "source": [
    "state.__dict__"
   ]
  },
  {
   "cell_type": "code",
   "execution_count": null,
   "metadata": {},
   "outputs": [],
   "source": []
  },
  {
   "cell_type": "code",
   "execution_count": 258,
   "metadata": {},
   "outputs": [
    {
     "name": "stderr",
     "output_type": "stream",
     "text": [
      "WARNING:root:Position weights are not defined. Randomly choosing position to implant motif_instance instead.\n",
      "WARNING:root:Position weights are not defined. Randomly choosing position to implant motif_instance instead.\n",
      "WARNING:root:Position weights are not defined. Randomly choosing position to implant motif_instance instead.\n",
      "WARNING:root:Position weights are not defined. Randomly choosing position to implant motif_instance instead.\n",
      "WARNING:root:Position weights are not defined. Randomly choosing position to implant motif_instance instead.\n",
      "WARNING:root:Position weights are not defined. Randomly choosing position to implant motif_instance instead.\n",
      "WARNING:root:Position weights are not defined. Randomly choosing position to implant motif_instance instead.\n",
      "WARNING:root:Position weights are not defined. Randomly choosing position to implant motif_instance instead.\n",
      "WARNING:root:Position weights are not defined. Randomly choosing position to implant motif_instance instead.\n",
      "WARNING:root:Position weights are not defined. Randomly choosing position to implant motif_instance instead.\n",
      "WARNING:root:Position weights are not defined. Randomly choosing position to implant motif_instance instead.\n",
      "WARNING:root:Position weights are not defined. Randomly choosing position to implant motif_instance instead.\n",
      "WARNING:root:Position weights are not defined. Randomly choosing position to implant motif_instance instead.\n",
      "WARNING:root:Position weights are not defined. Randomly choosing position to implant motif_instance instead.\n",
      "WARNING:root:Position weights are not defined. Randomly choosing position to implant motif_instance instead.\n",
      "WARNING:root:Position weights are not defined. Randomly choosing position to implant motif_instance instead.\n",
      "WARNING:root:Position weights are not defined. Randomly choosing position to implant motif_instance instead.\n",
      "WARNING:root:Position weights are not defined. Randomly choosing position to implant motif_instance instead.\n",
      "WARNING:root:Position weights are not defined. Randomly choosing position to implant motif_instance instead.\n",
      "WARNING:root:Position weights are not defined. Randomly choosing position to implant motif_instance instead.\n",
      "WARNING:root:Position weights are not defined. Randomly choosing position to implant motif_instance instead.\n",
      "WARNING:root:Position weights are not defined. Randomly choosing position to implant motif_instance instead.\n",
      "WARNING:root:Position weights are not defined. Randomly choosing position to implant motif_instance instead.\n",
      "WARNING:root:Position weights are not defined. Randomly choosing position to implant motif_instance instead.\n",
      "WARNING:root:Position weights are not defined. Randomly choosing position to implant motif_instance instead.\n",
      "WARNING:root:Position weights are not defined. Randomly choosing position to implant motif_instance instead.\n",
      "WARNING:root:Position weights are not defined. Randomly choosing position to implant motif_instance instead.\n",
      "WARNING:root:Position weights are not defined. Randomly choosing position to implant motif_instance instead.\n",
      "WARNING:root:Position weights are not defined. Randomly choosing position to implant motif_instance instead.\n",
      "WARNING:root:Position weights are not defined. Randomly choosing position to implant motif_instance instead.\n",
      "WARNING:root:Position weights are not defined. Randomly choosing position to implant motif_instance instead.\n",
      "WARNING:root:Position weights are not defined. Randomly choosing position to implant motif_instance instead.\n",
      "WARNING:root:Position weights are not defined. Randomly choosing position to implant motif_instance instead.\n",
      "WARNING:root:Position weights are not defined. Randomly choosing position to implant motif_instance instead.\n",
      "WARNING:root:Position weights are not defined. Randomly choosing position to implant motif_instance instead.\n",
      "WARNING:root:Position weights are not defined. Randomly choosing position to implant motif_instance instead.\n",
      "WARNING:root:Position weights are not defined. Randomly choosing position to implant motif_instance instead.\n",
      "WARNING:root:Position weights are not defined. Randomly choosing position to implant motif_instance instead.\n",
      "WARNING:root:Position weights are not defined. Randomly choosing position to implant motif_instance instead.\n",
      "WARNING:root:Position weights are not defined. Randomly choosing position to implant motif_instance instead.\n",
      "WARNING:root:Position weights are not defined. Randomly choosing position to implant motif_instance instead.\n",
      "WARNING:root:Position weights are not defined. Randomly choosing position to implant motif_instance instead.\n",
      "WARNING:root:Position weights are not defined. Randomly choosing position to implant motif_instance instead.\n",
      "WARNING:root:Position weights are not defined. Randomly choosing position to implant motif_instance instead.\n",
      "WARNING:root:Position weights are not defined. Randomly choosing position to implant motif_instance instead.\n",
      "WARNING:root:Position weights are not defined. Randomly choosing position to implant motif_instance instead.\n",
      "WARNING:root:Position weights are not defined. Randomly choosing position to implant motif_instance instead.\n",
      "WARNING:root:Position weights are not defined. Randomly choosing position to implant motif_instance instead.\n",
      "WARNING:root:Position weights are not defined. Randomly choosing position to implant motif_instance instead.\n",
      "WARNING:root:Position weights are not defined. Randomly choosing position to implant motif_instance instead.\n",
      "WARNING:root:Position weights are not defined. Randomly choosing position to implant motif_instance instead.\n",
      "WARNING:root:Position weights are not defined. Randomly choosing position to implant motif_instance instead.\n",
      "WARNING:root:Position weights are not defined. Randomly choosing position to implant motif_instance instead.\n",
      "WARNING:root:Position weights are not defined. Randomly choosing position to implant motif_instance instead.\n",
      "WARNING:root:Position weights are not defined. Randomly choosing position to implant motif_instance instead.\n",
      "WARNING:root:Position weights are not defined. Randomly choosing position to implant motif_instance instead.\n",
      "WARNING:root:Position weights are not defined. Randomly choosing position to implant motif_instance instead.\n",
      "WARNING:root:Position weights are not defined. Randomly choosing position to implant motif_instance instead.\n",
      "WARNING:root:Position weights are not defined. Randomly choosing position to implant motif_instance instead.\n",
      "WARNING:root:Position weights are not defined. Randomly choosing position to implant motif_instance instead.\n",
      "WARNING:root:Position weights are not defined. Randomly choosing position to implant motif_instance instead.\n",
      "WARNING:root:Position weights are not defined. Randomly choosing position to implant motif_instance instead.\n",
      "WARNING:root:Position weights are not defined. Randomly choosing position to implant motif_instance instead.\n",
      "WARNING:root:Position weights are not defined. Randomly choosing position to implant motif_instance instead.\n",
      "WARNING:root:Position weights are not defined. Randomly choosing position to implant motif_instance instead.\n",
      "WARNING:root:Position weights are not defined. Randomly choosing position to implant motif_instance instead.\n",
      "WARNING:root:Position weights are not defined. Randomly choosing position to implant motif_instance instead.\n",
      "WARNING:root:Position weights are not defined. Randomly choosing position to implant motif_instance instead.\n",
      "WARNING:root:Position weights are not defined. Randomly choosing position to implant motif_instance instead.\n",
      "WARNING:root:Position weights are not defined. Randomly choosing position to implant motif_instance instead.\n",
      "WARNING:root:Position weights are not defined. Randomly choosing position to implant motif_instance instead.\n",
      "WARNING:root:Position weights are not defined. Randomly choosing position to implant motif_instance instead.\n",
      "WARNING:root:Position weights are not defined. Randomly choosing position to implant motif_instance instead.\n",
      "WARNING:root:Position weights are not defined. Randomly choosing position to implant motif_instance instead.\n",
      "WARNING:root:Position weights are not defined. Randomly choosing position to implant motif_instance instead.\n",
      "WARNING:root:Position weights are not defined. Randomly choosing position to implant motif_instance instead.\n",
      "WARNING:root:Position weights are not defined. Randomly choosing position to implant motif_instance instead.\n",
      "WARNING:root:Position weights are not defined. Randomly choosing position to implant motif_instance instead.\n",
      "WARNING:root:Position weights are not defined. Randomly choosing position to implant motif_instance instead.\n"
     ]
    },
    {
     "data": {
      "text/plain": [
       "SimulationState(signals=[<immuneML.simulation.implants.Signal.Signal object at 0x000001A56F8DD6A0>], simulation=<immuneML.simulation.Simulation.Simulation object at 0x000001A57040ED90>, dataset=<immuneML.data_model.dataset.RepertoireDataset.RepertoireDataset object at 0x000001A55BACBB80>, formats=['AIRR'], paths={'my_synthetic_dataset': {'AIRR': WindowsPath('C:/Users/karth/Desktop/PhD projects/immuneML/immuneML/quickstart/result1/simulation_instruction/exported_dataset/airr')}}, resulting_dataset=<immuneML.data_model.dataset.RepertoireDataset.RepertoireDataset object at 0x000001A5704DA9A0>, result_path=WindowsPath('C:/Users/karth/Desktop/PhD projects/immuneML/immuneML/quickstart/result1/simulation_instruction'), name='simulation_instruction')"
      ]
     },
     "execution_count": 258,
     "metadata": {},
     "output_type": "execute_result"
    }
   ],
   "source": [
    "state.result_path = result1path / state.name\n",
    "\n",
    "state.resulting_dataset = SignalImplanter.run(state)\n",
    "\n",
    "def export_dataset():\n",
    "\n",
    "    dataset_name = state.resulting_dataset.name if state.resulting_dataset.name is not None else state.resulting_dataset.identifier\n",
    "\n",
    "    paths = {dataset_name : {}}\n",
    "\n",
    "    formats = []\n",
    "\n",
    "    if exporters is not None and len(exporters) > 0:\n",
    "\n",
    "        for exporter in exporters:\n",
    "\n",
    "            export_format = exporter.__name__[:-8]\n",
    "            path = state.result_path / \\\n",
    "                f\"exported_dataset/{exporter.__name__.replace('Exporter', '').lower()}/\"\n",
    "            exporter.export(state.resulting_dataset,\n",
    "                            path)\n",
    "\n",
    "            paths[dataset_name][export_format] = path\n",
    "\n",
    "            formats.append(export_format)\n",
    "        \n",
    "    state.paths = paths\n",
    "\n",
    "    state.formats = formats\n",
    "\n",
    "export_dataset()\n",
    "\n",
    "\n",
    "\n",
    "state\n",
    "\n",
    "\n",
    "\n",
    "\n",
    "\n",
    "\n",
    "            \n",
    "\n",
    "            \n",
    "\n",
    "\n",
    "\n",
    "\n",
    "\n",
    "\n",
    "\n",
    "\n",
    "\n",
    "\n"
   ]
  },
  {
   "cell_type": "code",
   "execution_count": 261,
   "metadata": {},
   "outputs": [
    {
     "data": {
      "text/plain": [
       "SimulationState(signals=[<immuneML.simulation.implants.Signal.Signal object at 0x000001A56F8DD6A0>], simulation=<immuneML.simulation.Simulation.Simulation object at 0x000001A57040ED90>, dataset=<immuneML.data_model.dataset.RepertoireDataset.RepertoireDataset object at 0x000001A55BACBB80>, formats=['AIRR'], paths={'my_synthetic_dataset': {'AIRR': WindowsPath('C:/Users/karth/Desktop/PhD projects/immuneML/immuneML/quickstart/result1/simulation_instruction/exported_dataset/airr')}}, resulting_dataset=<immuneML.data_model.dataset.RepertoireDataset.RepertoireDataset object at 0x000001A5704DA9A0>, result_path=WindowsPath('C:/Users/karth/Desktop/PhD projects/immuneML/immuneML/quickstart/result1/simulation_instruction'), name='simulation_instruction')"
      ]
     },
     "execution_count": 261,
     "metadata": {},
     "output_type": "execute_result"
    }
   ],
   "source": [
    "state"
   ]
  },
  {
   "cell_type": "code",
   "execution_count": 259,
   "metadata": {},
   "outputs": [],
   "source": [
    "instruction_object = state"
   ]
  },
  {
   "cell_type": "code",
   "execution_count": 262,
   "metadata": {},
   "outputs": [
    {
     "data": {
      "text/plain": [
       "SimulationState(signals=[<immuneML.simulation.implants.Signal.Signal object at 0x000001A56F8DD6A0>], simulation=<immuneML.simulation.Simulation.Simulation object at 0x000001A57040ED90>, dataset=<immuneML.data_model.dataset.RepertoireDataset.RepertoireDataset object at 0x000001A55BACBB80>, formats=['AIRR'], paths={'my_synthetic_dataset': {'AIRR': WindowsPath('C:/Users/karth/Desktop/PhD projects/immuneML/immuneML/quickstart/result1/simulation_instruction/exported_dataset/airr')}}, resulting_dataset=<immuneML.data_model.dataset.RepertoireDataset.RepertoireDataset object at 0x000001A5704DA9A0>, result_path=WindowsPath('C:/Users/karth/Desktop/PhD projects/immuneML/immuneML/quickstart/result1/simulation_instruction'), name='simulation_instruction')"
      ]
     },
     "execution_count": 262,
     "metadata": {},
     "output_type": "execute_result"
    }
   ],
   "source": [
    "instruction_object"
   ]
  },
  {
   "cell_type": "code",
   "execution_count": 263,
   "metadata": {},
   "outputs": [],
   "source": [
    "symbol_table.add('simulation_instruction' , SymbolType.INSTRUCTION, instruction_object)"
   ]
  },
  {
   "cell_type": "code",
   "execution_count": 265,
   "metadata": {},
   "outputs": [
    {
     "data": {
      "text/plain": [
       "{'export_formats': ['AIRR'],\n",
       " 'type': 'Simulation',\n",
       " 'dataset': 'my_synthetic_dataset',\n",
       " 'simulation': 'my_simulation'}"
      ]
     },
     "execution_count": 265,
     "metadata": {},
     "output_type": "execute_result"
    }
   ],
   "source": [
    "instruction"
   ]
  },
  {
   "cell_type": "code",
   "execution_count": null,
   "metadata": {},
   "outputs": [],
   "source": [
    "instruction_object = parser.parse('simulation_instruction' , instruction , symbol_table , result1path )\n"
   ]
  },
  {
   "cell_type": "markdown",
   "metadata": {},
   "source": [
    "### Output Parser"
   ]
  },
  {
   "cell_type": "code",
   "execution_count": 266,
   "metadata": {},
   "outputs": [
    {
     "data": {
      "text/plain": [
       "{'definitions': {'datasets': {'my_synthetic_dataset': {'format': 'RandomRepertoireDataset',\n",
       "    'params': {'labels': {}}}},\n",
       "  'motifs': {'my_motif': {'seed': 'AA', 'instantiation': 'GappedKmer'}},\n",
       "  'signals': {'my_signal': {'motifs': ['my_motif'],\n",
       "    'implanting': 'HealthySequence'}},\n",
       "  'simulations': {'my_simulation': {'my_implantng': {'signals': ['my_signal'],\n",
       "     'dataset_implanting_rate': 0.5,\n",
       "     'repertoire_implanting_rate': 0.1}}}},\n",
       " 'instructions': {'simulation_instruction': {'type': 'Simulation',\n",
       "   'dataset': 'my_synthetic_dataset',\n",
       "   'simulation': 'my_simulation',\n",
       "   'export_formats': ['AIRR']}}}"
      ]
     },
     "execution_count": 266,
     "metadata": {},
     "output_type": "execute_result"
    }
   ],
   "source": [
    "specs"
   ]
  },
  {
   "cell_type": "code",
   "execution_count": 267,
   "metadata": {},
   "outputs": [
    {
     "data": {
      "text/plain": [
       "{'_items': {'my_motif': <immuneML.dsl.symbol_table.SymbolTableEntry.SymbolTableEntry at 0x1a5702c9ac0>,\n",
       "  'my_signal': <immuneML.dsl.symbol_table.SymbolTableEntry.SymbolTableEntry at 0x1a57040ef10>,\n",
       "  'my_simulation': <immuneML.dsl.symbol_table.SymbolTableEntry.SymbolTableEntry at 0x1a57040e3a0>,\n",
       "  'my_synthetic_dataset': <immuneML.dsl.symbol_table.SymbolTableEntry.SymbolTableEntry at 0x1a570187fa0>,\n",
       "  'simulation_instruction': <immuneML.dsl.symbol_table.SymbolTableEntry.SymbolTableEntry at 0x1a570582160>}}"
      ]
     },
     "execution_count": 267,
     "metadata": {},
     "output_type": "execute_result"
    }
   ],
   "source": [
    "symbol_table.__dict__"
   ]
  },
  {
   "cell_type": "code",
   "execution_count": 270,
   "metadata": {},
   "outputs": [
    {
     "data": {
      "text/plain": [
       "{'format': 'HTML'}"
      ]
     },
     "execution_count": 270,
     "metadata": {},
     "output_type": "execute_result"
    }
   ],
   "source": [
    "def parse(specs, symbol_table):\n",
    "    if \"output\" in specs:\n",
    "        ParameterValidator.assert_keys(\n",
    "                specs[\"output\"], [\"format\"], \"OutputParser\", \"output\")\n",
    "        ParameterValidator.assert_in_valid_list(\n",
    "                specs[\"output\"][\"format\"], [\"HTML\"], \"OutputParser\", \"format\")\n",
    "    else:\n",
    "        specs[\"output\"] = {\"format\": \"HTML\"}\n",
    "        symbol_table.add(\"output\", SymbolType.OUTPUT, specs[\"output\"])\n",
    "\n",
    "    return specs[\"output\"]\n",
    "\n",
    "\n",
    "\n",
    "                \n",
    "parse(specs, symbol_table)"
   ]
  },
  {
   "cell_type": "code",
   "execution_count": 271,
   "metadata": {},
   "outputs": [
    {
     "data": {
      "text/plain": [
       "{'definitions': {'datasets': {'my_synthetic_dataset': {'format': 'RandomRepertoireDataset',\n",
       "    'params': {'labels': {}}}},\n",
       "  'motifs': {'my_motif': {'seed': 'AA', 'instantiation': 'GappedKmer'}},\n",
       "  'signals': {'my_signal': {'motifs': ['my_motif'],\n",
       "    'implanting': 'HealthySequence'}},\n",
       "  'simulations': {'my_simulation': {'my_implantng': {'signals': ['my_signal'],\n",
       "     'dataset_implanting_rate': 0.5,\n",
       "     'repertoire_implanting_rate': 0.1}}}},\n",
       " 'instructions': {'simulation_instruction': {'type': 'Simulation',\n",
       "   'dataset': 'my_synthetic_dataset',\n",
       "   'simulation': 'my_simulation',\n",
       "   'export_formats': ['AIRR']}},\n",
       " 'output': {'format': 'HTML'}}"
      ]
     },
     "execution_count": 271,
     "metadata": {},
     "output_type": "execute_result"
    }
   ],
   "source": [
    "specs"
   ]
  },
  {
   "cell_type": "markdown",
   "metadata": {},
   "source": [
    "### ImmuneML parser output specs"
   ]
  },
  {
   "cell_type": "code",
   "execution_count": 272,
   "metadata": {},
   "outputs": [],
   "source": [
    "from immuneML.dsl.ImmuneMLParser import ImmuneMLParser\n"
   ]
  },
  {
   "cell_type": "code",
   "execution_count": 273,
   "metadata": {},
   "outputs": [
    {
     "name": "stdout",
     "output_type": "stream",
     "text": [
      "2022-04-20 11:31:31.095886: Full specification is available at C:\\Users\\karth\\Desktop\\PhD projects\\immuneML\\immuneML\\quickstart\\result1\\full_simulation_specs.yaml.\n",
      "\n"
     ]
    }
   ],
   "source": [
    "path = ImmuneMLParser._output_specs(\n",
    "    spec1path, result1path, specs_defs, instruction, {'format': 'HTML'} )\n"
   ]
  },
  {
   "cell_type": "code",
   "execution_count": 274,
   "metadata": {},
   "outputs": [
    {
     "data": {
      "text/plain": [
       "{'_items': {'my_motif': <immuneML.dsl.symbol_table.SymbolTableEntry.SymbolTableEntry at 0x1a5702c9ac0>,\n",
       "  'my_signal': <immuneML.dsl.symbol_table.SymbolTableEntry.SymbolTableEntry at 0x1a57040ef10>,\n",
       "  'my_simulation': <immuneML.dsl.symbol_table.SymbolTableEntry.SymbolTableEntry at 0x1a57040e3a0>,\n",
       "  'my_synthetic_dataset': <immuneML.dsl.symbol_table.SymbolTableEntry.SymbolTableEntry at 0x1a570187fa0>,\n",
       "  'simulation_instruction': <immuneML.dsl.symbol_table.SymbolTableEntry.SymbolTableEntry at 0x1a570582160>,\n",
       "  'output': <immuneML.dsl.symbol_table.SymbolTableEntry.SymbolTableEntry at 0x1a570596d00>}}"
      ]
     },
     "execution_count": 274,
     "metadata": {},
     "output_type": "execute_result"
    }
   ],
   "source": [
    "symbol_table.__dict__"
   ]
  },
  {
   "cell_type": "code",
   "execution_count": 275,
   "metadata": {},
   "outputs": [
    {
     "data": {
      "text/plain": [
       "WindowsPath('C:/Users/karth/Desktop/PhD projects/immuneML/immuneML/quickstart/result1/full_simulation_specs.yaml')"
      ]
     },
     "execution_count": 275,
     "metadata": {},
     "output_type": "execute_result"
    }
   ],
   "source": [
    "path"
   ]
  },
  {
   "cell_type": "markdown",
   "metadata": {},
   "source": [
    "#### Sematic Model"
   ]
  },
  {
   "cell_type": "code",
   "execution_count": null,
   "metadata": {},
   "outputs": [],
   "source": [
    "from immuneML.dsl.semantic_model.SemanticModel import SemanticModel\n"
   ]
  },
  {
   "cell_type": "code",
   "execution_count": null,
   "metadata": {},
   "outputs": [],
   "source": [
    "\n",
    "instructions = symbol_table.get_by_type(SymbolType.INSTRUCTION)\n",
    "output = symbol_table.get(\"output\")\n",
    "model = SemanticModel(\n",
    "    [instruction.item for instruction in instructions],result_path, output)\n",
    "result = model.run()\n",
    "\n",
    "clear_cache()\n"
   ]
  },
  {
   "cell_type": "code",
   "execution_count": null,
   "metadata": {},
   "outputs": [],
   "source": [
    "import datetime\n",
    "from pathlib import Path\n",
    "\n",
    "from immuneML.util.ReflectionHandler import ReflectionHandler\n",
    "from immuneML.workflows.instructions.Instruction import Instruction\n",
    "\n",
    "\n",
    "class SemanticModel:\n",
    "\n",
    "    def __init__(self, instructions: list, result_path: Path, output=None):\n",
    "        assert all(isinstance(instruction, Instruction) for instruction in instructions), \\\n",
    "            \"SemanticModel: error occurred in parsing: check instruction definitions in the configuration file.\"\n",
    "        self.instructions = instructions\n",
    "        self.result_path = result_path\n",
    "        self.output = output\n",
    "\n",
    "    def run(self):\n",
    "        instruction_states = self.run_instructions()\n",
    "        if self.output is not None:\n",
    "            self.build_reports(instruction_states)\n",
    "        return instruction_states\n",
    "\n",
    "    def build_reports(self, instruction_states):\n",
    "        report_builder = self.make_report_builder()\n",
    "        print(\n",
    "            f\"{datetime.datetime.now()}: Generating {self.output['format']} reports...\", flush=True)\n",
    "        result_path = report_builder.build(\n",
    "            instruction_states, self.result_path)\n",
    "        print(\n",
    "            f\"{datetime.datetime.now()}: {self.output['format']} reports are generated.\", flush=True)\n",
    "        return result_path\n",
    "\n",
    "    def run_instructions(self) -> list:\n",
    "        instruction_states = []\n",
    "        for index, instruction in enumerate(self.instructions):\n",
    "            print(\"{}: Instruction {}/{} has started.\".format(datetime.datetime.now(),\n",
    "                  index+1, len(self.instructions)), flush=True)\n",
    "            result = instruction.run(result_path=self.result_path)\n",
    "            instruction_states.append(result)\n",
    "            print(\"{}: Instruction {}/{} has finished.\".format(datetime.datetime.now(),\n",
    "                  index+1, len(self.instructions)), flush=True)\n",
    "        return instruction_states\n",
    "\n",
    "    def make_report_builder(self):\n",
    "        report_builder = ReflectionHandler.get_class_by_name(\n",
    "            f\"{self.output['format']}Builder\", \"presentation/\")\n",
    "        return report_builder\n"
   ]
  },
  {
   "cell_type": "code",
   "execution_count": null,
   "metadata": {},
   "outputs": [],
   "source": []
  },
  {
   "cell_type": "code",
   "execution_count": null,
   "metadata": {},
   "outputs": [],
   "source": []
  },
  {
   "cell_type": "code",
   "execution_count": null,
   "metadata": {},
   "outputs": [],
   "source": []
  },
  {
   "cell_type": "code",
   "execution_count": null,
   "metadata": {},
   "outputs": [],
   "source": []
  },
  {
   "cell_type": "code",
   "execution_count": 47,
   "metadata": {},
   "outputs": [],
   "source": [
    "def parse(workflow_specification, symbol_table , result1path):\n",
    "    specs = workflow_specification[\"definitions\"]\n",
    "\n",
    "    symbol_table, specs_motifs = call_if_exists(\n",
    "        \"motifs\", MotifParser.parse_motifs, specs, symbol_table)\n",
    "\n",
    "    symbol_table, specs_signals = call_if_exists(\n",
    "        \"signals\", SignalParser.parse_signals, specs, symbol_table)\n",
    "\n",
    "    symbol_table, specs_simulation = call_if_exists(\n",
    "        \"simulations\", SimulationParser.parse_simulations, specs, symbol_table)\n",
    "\n",
    "    symbol_table, specs_preprocessing = call_if_exists(\n",
    "        PreprocessingParser.keyword, PreprocessingParser.parse, specs, symbol_table)\n",
    "        \n",
    "    symbol_table, specs_encoding = call_if_exists(\n",
    "        \"encodings\", EncodingParser.parse, specs, symbol_table)\n",
    "\n",
    "    symbol_table, specs_ml = call_if_exists(\n",
    "        \"ml_methods\", MLParser.parse, specs, symbol_table)\n",
    "\n",
    "    symbol_table, specs_report = call_if_exists(\n",
    "        \"reports\", ReportParser.parse_reports, specs, symbol_table)\n",
    "\n",
    "    symbol_table, specs_import = ImportParser.parse(\n",
    "        specs, symbol_table, result1path)\n"
   ]
  },
  {
   "cell_type": "code",
   "execution_count": 37,
   "metadata": {},
   "outputs": [],
   "source": []
  },
  {
   "cell_type": "code",
   "execution_count": 38,
   "metadata": {},
   "outputs": [
    {
     "data": {
      "text/plain": [
       "{'datasets': {'my_synthetic_dataset': {'format': 'RandomRepertoireDataset',\n",
       "   'params': {'labels': {}}}},\n",
       " 'motifs': {'my_motif': {'instantiation': 'GappedKmer', 'seed': 'AA'}},\n",
       " 'signals': {'my_signal': {'implanting': 'HealthySequence',\n",
       "   'motifs': ['my_motif']}},\n",
       " 'simulations': {'my_simulation': {'my_implantng': {'dataset_implanting_rate': 0.5,\n",
       "    'repertoire_implanting_rate': 0.1,\n",
       "    'signals': ['my_signal']}}}}"
      ]
     },
     "execution_count": 38,
     "metadata": {},
     "output_type": "execute_result"
    }
   ],
   "source": []
  },
  {
   "cell_type": "code",
   "execution_count": null,
   "metadata": {},
   "outputs": [],
   "source": []
  }
 ],
 "metadata": {
  "interpreter": {
   "hash": "1a28987eca5708c035ec285d3c097a97712b2aecd6610027640435f309d6605e"
  },
  "kernelspec": {
   "display_name": "Python 3.8.13 ('immuneml')",
   "language": "python",
   "name": "python3"
  },
  "language_info": {
   "codemirror_mode": {
    "name": "ipython",
    "version": 3
   },
   "file_extension": ".py",
   "mimetype": "text/x-python",
   "name": "python",
   "nbconvert_exporter": "python",
   "pygments_lexer": "ipython3",
   "version": "3.8.13"
  },
  "orig_nbformat": 4
 },
 "nbformat": 4,
 "nbformat_minor": 2
}
