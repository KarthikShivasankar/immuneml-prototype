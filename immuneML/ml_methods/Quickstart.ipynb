{
 "cells": [
  {
   "cell_type": "markdown",
   "metadata": {},
   "source": [
    "### Quickstart\n"
   ]
  },
  {
   "cell_type": "code",
   "execution_count": 39,
   "metadata": {},
   "outputs": [],
   "source": [
    "\n",
    "from immuneML.data_model.dataset.ReceptorDataset import ReceptorDataset\n",
    "from immuneML.data_model.dataset.RepertoireDataset import RepertoireDataset\n",
    "from immuneML.data_model.dataset.SequenceDataset import SequenceDataset\n",
    "from immuneML.environment.EnvironmentSettings import EnvironmentSettings\n",
    "from immuneML.simulation.dataset_generation.RandomDatasetGenerator import RandomDatasetGenerator"
   ]
  },
  {
   "cell_type": "code",
   "execution_count": 40,
   "metadata": {},
   "outputs": [],
   "source": [
    "from immuneML.caching.CacheType import CacheType\n",
    "from immuneML.data_model.receptor.receptor_sequence.ReceptorSequence import ReceptorSequence\n",
    "from immuneML.data_model.repertoire.Repertoire import Repertoire\n",
    "from immuneML.environment.Constants import Constants\n",
    "from immuneML.environment.EnvironmentSettings import EnvironmentSettings\n",
    "from immuneML.simulation.implants.Motif import Motif\n",
    "from immuneML.simulation.implants.Signal import Signal\n",
    "from immuneML.simulation.motif_instantiation_strategy.GappedKmerInstantiation import GappedKmerInstantiation\n",
    "from immuneML.simulation.sequence_implanting.GappedMotifImplanting import GappedMotifImplanting\n",
    "from immuneML.simulation.signal_implanting_strategy.HealthySequenceImplanting import HealthySequenceImplanting\n",
    "from immuneML.simulation.signal_implanting_strategy.ImplantingComputation import ImplantingComputation\n",
    "from immuneML.util.PathBuilder import PathBuilder\n"
   ]
  },
  {
   "cell_type": "code",
   "execution_count": 41,
   "metadata": {},
   "outputs": [],
   "source": [
    "path = EnvironmentSettings.tmp_test_path / \\\n",
    "    \"random_repertoire_dataset_generation/\"\n"
   ]
  },
  {
   "cell_type": "code",
   "execution_count": 42,
   "metadata": {},
   "outputs": [
    {
     "data": {
      "text/plain": [
       "WindowsPath('C:/Users/Karthik/.conda/envs/uni/lib/site-packages/test/tmp/random_repertoire_dataset_generation')"
      ]
     },
     "execution_count": 42,
     "metadata": {},
     "output_type": "execute_result"
    }
   ],
   "source": [
    "path"
   ]
  },
  {
   "cell_type": "code",
   "execution_count": 43,
   "metadata": {},
   "outputs": [],
   "source": [
    "dataset = RandomDatasetGenerator.generate_repertoire_dataset(repertoire_count=100,\n",
    "                                                             sequence_count_probabilities={\n",
    "                                                                 100: 0.5, 120: 0.5},\n",
    "                                                             sequence_length_probabilities={12: 0.33, 14: 0.33 , 15: 0.33}, labels={}, path=path)\n"
   ]
  },
  {
   "cell_type": "code",
   "execution_count": 16,
   "metadata": {},
   "outputs": [],
   "source": [
    "# implanting = HealthySequenceImplanting(\n",
    "#     GappedMotifImplanting(), implanting_computation=ImplantingComputation.ROUND)\n"
   ]
  },
  {
   "cell_type": "code",
   "execution_count": 17,
   "metadata": {},
   "outputs": [],
   "source": [
    "# signal = Signal(\"sig1\", [Motif(\n",
    "#     \"motif1\", GappedKmerInstantiation(), \"AA\")], implanting)\n"
   ]
  },
  {
   "cell_type": "code",
   "execution_count": null,
   "metadata": {},
   "outputs": [],
   "source": [
    "# signal"
   ]
  },
  {
   "cell_type": "code",
   "execution_count": null,
   "metadata": {},
   "outputs": [],
   "source": []
  },
  {
   "cell_type": "code",
   "execution_count": null,
   "metadata": {},
   "outputs": [],
   "source": [
    "# simulation = Simulation(implanting)"
   ]
  },
  {
   "cell_type": "code",
   "execution_count": null,
   "metadata": {},
   "outputs": [],
   "source": [
    "type(dataset)"
   ]
  },
  {
   "cell_type": "code",
   "execution_count": 44,
   "metadata": {},
   "outputs": [],
   "source": [
    "from immuneML.workflows.steps.SignalImplanter import SignalImplanter\n"
   ]
  },
  {
   "cell_type": "code",
   "execution_count": 45,
   "metadata": {},
   "outputs": [],
   "source": [
    "from immuneML.simulation.SimulationState import SimulationState\n"
   ]
  },
  {
   "cell_type": "code",
   "execution_count": 20,
   "metadata": {},
   "outputs": [
    {
     "ename": "NameError",
     "evalue": "name 'simulation' is not defined",
     "output_type": "error",
     "traceback": [
      "\u001b[1;31m---------------------------------------------------------------------------\u001b[0m",
      "\u001b[1;31mNameError\u001b[0m                                 Traceback (most recent call last)",
      "\u001b[1;32m~\\AppData\\Local\\Temp/ipykernel_13732/225945264.py\u001b[0m in \u001b[0;36m<module>\u001b[1;34m\u001b[0m\n\u001b[1;32m----> 1\u001b[1;33m \u001b[0mstate\u001b[0m \u001b[1;33m=\u001b[0m \u001b[0mSimulationState\u001b[0m\u001b[1;33m(\u001b[0m\u001b[0msignal\u001b[0m \u001b[1;33m,\u001b[0m \u001b[0msimulation\u001b[0m \u001b[1;33m,\u001b[0m \u001b[0mdataset\u001b[0m \u001b[1;33m,\u001b[0m \u001b[0mname\u001b[0m \u001b[1;33m=\u001b[0m \u001b[1;34m\"test\"\u001b[0m  \u001b[1;33m,\u001b[0m \u001b[0mresult_path\u001b[0m\u001b[1;33m=\u001b[0m \u001b[0mpath\u001b[0m\u001b[1;33m)\u001b[0m\u001b[1;33m\u001b[0m\u001b[1;33m\u001b[0m\u001b[0m\n\u001b[0m",
      "\u001b[1;31mNameError\u001b[0m: name 'simulation' is not defined"
     ]
    }
   ],
   "source": [
    "# state = SimulationState(signal , simulation , dataset , name = \"test\"  , result_path= path)"
   ]
  },
  {
   "cell_type": "code",
   "execution_count": 21,
   "metadata": {},
   "outputs": [
    {
     "ename": "NameError",
     "evalue": "name 'state' is not defined",
     "output_type": "error",
     "traceback": [
      "\u001b[1;31m---------------------------------------------------------------------------\u001b[0m",
      "\u001b[1;31mNameError\u001b[0m                                 Traceback (most recent call last)",
      "\u001b[1;32m~\\AppData\\Local\\Temp/ipykernel_13732/2367766122.py\u001b[0m in \u001b[0;36m<module>\u001b[1;34m\u001b[0m\n\u001b[1;32m----> 1\u001b[1;33m \u001b[0mstate\u001b[0m\u001b[1;33m\u001b[0m\u001b[1;33m\u001b[0m\u001b[0m\n\u001b[0m",
      "\u001b[1;31mNameError\u001b[0m: name 'state' is not defined"
     ]
    }
   ],
   "source": [
    "# state"
   ]
  },
  {
   "cell_type": "code",
   "execution_count": 22,
   "metadata": {},
   "outputs": [
    {
     "ename": "NameError",
     "evalue": "name 'state' is not defined",
     "output_type": "error",
     "traceback": [
      "\u001b[1;31m---------------------------------------------------------------------------\u001b[0m",
      "\u001b[1;31mNameError\u001b[0m                                 Traceback (most recent call last)",
      "\u001b[1;32m~\\AppData\\Local\\Temp/ipykernel_13732/1918386745.py\u001b[0m in \u001b[0;36m<module>\u001b[1;34m\u001b[0m\n\u001b[1;32m----> 1\u001b[1;33m \u001b[0mdataset\u001b[0m \u001b[1;33m=\u001b[0m \u001b[0mSignalImplanter\u001b[0m\u001b[1;33m.\u001b[0m\u001b[0mrun\u001b[0m\u001b[1;33m(\u001b[0m\u001b[0mstate\u001b[0m\u001b[1;33m)\u001b[0m\u001b[1;33m\u001b[0m\u001b[1;33m\u001b[0m\u001b[0m\n\u001b[0m",
      "\u001b[1;31mNameError\u001b[0m: name 'state' is not defined"
     ]
    }
   ],
   "source": [
    "# dataset = SignalImplanter.run(state)"
   ]
  },
  {
   "cell_type": "code",
   "execution_count": 46,
   "metadata": {},
   "outputs": [],
   "source": [
    "import logging\n",
    "import os\n",
    "import shutil\n",
    "import sys\n",
    "import warnings\n",
    "from pathlib import Path\n",
    "\n",
    "import yaml\n",
    "\n",
    "from immuneML.app.ImmuneMLApp import ImmuneMLApp\n",
    "from immuneML.environment.EnvironmentSettings import EnvironmentSettings\n",
    "from immuneML.util.PathBuilder import PathBuilder\n"
   ]
  },
  {
   "cell_type": "code",
   "execution_count": 180,
   "metadata": {},
   "outputs": [
    {
     "name": "stdout",
     "output_type": "stream",
     "text": [
      "2022-01-10 15:11:42.979304: Setting temporary cache path to ..\\..\\..\\..\\..\\.conda\\envs\\uni\\lib\\site-packages\\test\\tmp\\random_repertoire_dataset_generation\\result\\cache\n",
      "2022-01-10 15:11:42.979304: ImmuneML: parsing the specification...\n",
      "\n",
      "2022-01-10 15:11:43.952998: Full specification is available at ..\\..\\..\\..\\..\\.conda\\envs\\uni\\lib\\site-packages\\test\\tmp\\random_repertoire_dataset_generation\\result\\full_simulation_specs.yaml.\n",
      "\n",
      "2022-01-10 15:11:43.953643: ImmuneML: starting the analysis...\n",
      "\n",
      "2022-01-10 15:11:43.954170: Instruction 1/1 has started.\n"
     ]
    },
    {
     "name": "stderr",
     "output_type": "stream",
     "text": [
      "WARNING:root:Position weights are not defined. Randomly choosing position to implant motif_instance instead.\n",
      "WARNING:root:Position weights are not defined. Randomly choosing position to implant motif_instance instead.\n",
      "WARNING:root:Position weights are not defined. Randomly choosing position to implant motif_instance instead.\n",
      "WARNING:root:Position weights are not defined. Randomly choosing position to implant motif_instance instead.\n",
      "WARNING:root:Position weights are not defined. Randomly choosing position to implant motif_instance instead.\n",
      "WARNING:root:Position weights are not defined. Randomly choosing position to implant motif_instance instead.\n",
      "WARNING:root:Position weights are not defined. Randomly choosing position to implant motif_instance instead.\n",
      "WARNING:root:Position weights are not defined. Randomly choosing position to implant motif_instance instead.\n",
      "WARNING:root:Position weights are not defined. Randomly choosing position to implant motif_instance instead.\n",
      "WARNING:root:Position weights are not defined. Randomly choosing position to implant motif_instance instead.\n",
      "WARNING:root:Position weights are not defined. Randomly choosing position to implant motif_instance instead.\n",
      "WARNING:root:Position weights are not defined. Randomly choosing position to implant motif_instance instead.\n",
      "WARNING:root:Position weights are not defined. Randomly choosing position to implant motif_instance instead.\n",
      "WARNING:root:Position weights are not defined. Randomly choosing position to implant motif_instance instead.\n",
      "WARNING:root:Position weights are not defined. Randomly choosing position to implant motif_instance instead.\n",
      "WARNING:root:Position weights are not defined. Randomly choosing position to implant motif_instance instead.\n",
      "WARNING:root:Position weights are not defined. Randomly choosing position to implant motif_instance instead.\n",
      "WARNING:root:Position weights are not defined. Randomly choosing position to implant motif_instance instead.\n",
      "WARNING:root:Position weights are not defined. Randomly choosing position to implant motif_instance instead.\n",
      "WARNING:root:Position weights are not defined. Randomly choosing position to implant motif_instance instead.\n",
      "WARNING:root:Position weights are not defined. Randomly choosing position to implant motif_instance instead.\n",
      "WARNING:root:Position weights are not defined. Randomly choosing position to implant motif_instance instead.\n",
      "WARNING:root:Position weights are not defined. Randomly choosing position to implant motif_instance instead.\n",
      "WARNING:root:Position weights are not defined. Randomly choosing position to implant motif_instance instead.\n",
      "WARNING:root:Position weights are not defined. Randomly choosing position to implant motif_instance instead.\n",
      "WARNING:root:Position weights are not defined. Randomly choosing position to implant motif_instance instead.\n",
      "WARNING:root:Position weights are not defined. Randomly choosing position to implant motif_instance instead.\n",
      "WARNING:root:Position weights are not defined. Randomly choosing position to implant motif_instance instead.\n",
      "WARNING:root:Position weights are not defined. Randomly choosing position to implant motif_instance instead.\n",
      "WARNING:root:Position weights are not defined. Randomly choosing position to implant motif_instance instead.\n",
      "WARNING:root:Position weights are not defined. Randomly choosing position to implant motif_instance instead.\n",
      "WARNING:root:Position weights are not defined. Randomly choosing position to implant motif_instance instead.\n",
      "WARNING:root:Position weights are not defined. Randomly choosing position to implant motif_instance instead.\n",
      "WARNING:root:Position weights are not defined. Randomly choosing position to implant motif_instance instead.\n",
      "WARNING:root:Position weights are not defined. Randomly choosing position to implant motif_instance instead.\n",
      "WARNING:root:Position weights are not defined. Randomly choosing position to implant motif_instance instead.\n",
      "WARNING:root:Position weights are not defined. Randomly choosing position to implant motif_instance instead.\n",
      "WARNING:root:Position weights are not defined. Randomly choosing position to implant motif_instance instead.\n",
      "WARNING:root:Position weights are not defined. Randomly choosing position to implant motif_instance instead.\n",
      "WARNING:root:Position weights are not defined. Randomly choosing position to implant motif_instance instead.\n",
      "WARNING:root:Position weights are not defined. Randomly choosing position to implant motif_instance instead.\n",
      "WARNING:root:Position weights are not defined. Randomly choosing position to implant motif_instance instead.\n",
      "WARNING:root:Position weights are not defined. Randomly choosing position to implant motif_instance instead.\n",
      "WARNING:root:Position weights are not defined. Randomly choosing position to implant motif_instance instead.\n",
      "WARNING:root:Position weights are not defined. Randomly choosing position to implant motif_instance instead.\n",
      "WARNING:root:Position weights are not defined. Randomly choosing position to implant motif_instance instead.\n",
      "WARNING:root:Position weights are not defined. Randomly choosing position to implant motif_instance instead.\n",
      "WARNING:root:Position weights are not defined. Randomly choosing position to implant motif_instance instead.\n",
      "WARNING:root:Position weights are not defined. Randomly choosing position to implant motif_instance instead.\n",
      "WARNING:root:Position weights are not defined. Randomly choosing position to implant motif_instance instead.\n",
      "WARNING:root:Position weights are not defined. Randomly choosing position to implant motif_instance instead.\n",
      "WARNING:root:Position weights are not defined. Randomly choosing position to implant motif_instance instead.\n",
      "WARNING:root:Position weights are not defined. Randomly choosing position to implant motif_instance instead.\n",
      "WARNING:root:Position weights are not defined. Randomly choosing position to implant motif_instance instead.\n",
      "WARNING:root:Position weights are not defined. Randomly choosing position to implant motif_instance instead.\n",
      "WARNING:root:Position weights are not defined. Randomly choosing position to implant motif_instance instead.\n",
      "WARNING:root:Position weights are not defined. Randomly choosing position to implant motif_instance instead.\n",
      "WARNING:root:Position weights are not defined. Randomly choosing position to implant motif_instance instead.\n",
      "WARNING:root:Position weights are not defined. Randomly choosing position to implant motif_instance instead.\n",
      "WARNING:root:Position weights are not defined. Randomly choosing position to implant motif_instance instead.\n",
      "WARNING:root:Position weights are not defined. Randomly choosing position to implant motif_instance instead.\n",
      "WARNING:root:Position weights are not defined. Randomly choosing position to implant motif_instance instead.\n",
      "WARNING:root:Position weights are not defined. Randomly choosing position to implant motif_instance instead.\n",
      "WARNING:root:Position weights are not defined. Randomly choosing position to implant motif_instance instead.\n",
      "WARNING:root:Position weights are not defined. Randomly choosing position to implant motif_instance instead.\n",
      "WARNING:root:Position weights are not defined. Randomly choosing position to implant motif_instance instead.\n",
      "WARNING:root:Position weights are not defined. Randomly choosing position to implant motif_instance instead.\n",
      "WARNING:root:Position weights are not defined. Randomly choosing position to implant motif_instance instead.\n",
      "WARNING:root:Position weights are not defined. Randomly choosing position to implant motif_instance instead.\n",
      "WARNING:root:Position weights are not defined. Randomly choosing position to implant motif_instance instead.\n",
      "WARNING:root:Position weights are not defined. Randomly choosing position to implant motif_instance instead.\n",
      "WARNING:root:Position weights are not defined. Randomly choosing position to implant motif_instance instead.\n",
      "WARNING:root:Position weights are not defined. Randomly choosing position to implant motif_instance instead.\n",
      "WARNING:root:Position weights are not defined. Randomly choosing position to implant motif_instance instead.\n",
      "WARNING:root:Position weights are not defined. Randomly choosing position to implant motif_instance instead.\n",
      "WARNING:root:Position weights are not defined. Randomly choosing position to implant motif_instance instead.\n"
     ]
    },
    {
     "name": "stdout",
     "output_type": "stream",
     "text": [
      "2022-01-10 15:11:47.374348: Instruction 1/1 has finished.\n",
      "2022-01-10 15:11:47.386085: Generating HTML reports...\n",
      "2022-01-10 15:11:51.251251: HTML reports are generated.\n",
      "2022-01-10 15:11:51.252511: ImmuneML: finished analysis.\n",
      "\n",
      "immuneML quickstart: finished generating a synthetic dataset.\n"
     ]
    }
   ],
   "source": [
    "specs = {\n",
    "          \"definitions\": {\n",
    "               \"datasets\": {\n",
    "                    \"my_synthetic_dataset\": {\"format\": \"RandomRepertoireDataset\", \"params\": {\"labels\": {}}}\n",
    "                },\n",
    "               \"motifs\": {\"my_motif\": {\"seed\": \"AA\", \"instantiation\": \"GappedKmer\"}},\n",
    "                \"signals\": {\"my_signal\": {\"motifs\": [\"my_motif\"], \"implanting\": \"HealthySequence\"}},\n",
    "                \"simulations\": {\"my_simulation\": {\"my_implantng\": {\"signals\": [\"my_signal\"], \"dataset_implanting_rate\": 0.5,\n",
    "                                                                   \"repertoire_implanting_rate\": 0.1}}}\n",
    "               },\n",
    "           \"instructions\": {\"simulation_instruction\": {\"type\": \"Simulation\", \"dataset\": \"my_synthetic_dataset\", \"simulation\": \"my_simulation\",\n",
    "                                                       \"export_formats\": [\"AIRR\"]}}\n",
    "          }\n",
    "specs_file = path / \"simulation_specs.yaml\"\n",
    "with specs_file.open(\"w\") as file:\n",
    "    yaml.dump(specs, file)\n",
    "app = ImmuneMLApp(specs_file, path / \"result\")\n",
    "app.run()\n",
    "print(\"immuneML quickstart: finished generating a synthetic dataset.\")\n"
   ]
  },
  {
   "cell_type": "code",
   "execution_count": null,
   "metadata": {},
   "outputs": [],
   "source": [
    "dataset"
   ]
  },
  {
   "cell_type": "code",
   "execution_count": 47,
   "metadata": {},
   "outputs": [],
   "source": [
    "from immuneML.simulation.Implanting import Implanting\n",
    "from immuneML.simulation.Simulation import Simulation\n"
   ]
  },
  {
   "cell_type": "code",
   "execution_count": 48,
   "metadata": {},
   "outputs": [],
   "source": [
    "signal = Signal(\"sig1\", [Motif(\n",
    "    \"motif1\", GappedKmerInstantiation(), \"AA\")],   implanting_strategy=HealthySequenceImplanting(GappedMotifImplanting(), implanting_computation=ImplantingComputation.ROUND))\n"
   ]
  },
  {
   "cell_type": "code",
   "execution_count": 176,
   "metadata": {},
   "outputs": [],
   "source": [
    "simulation = Simulation([Implanting(dataset_implanting_rate=0.5,\n",
    "                        repertoire_implanting_rate=0.1, signals=[signal], name=\"i1\")])\n"
   ]
  },
  {
   "cell_type": "code",
   "execution_count": 177,
   "metadata": {},
   "outputs": [],
   "source": [
    "input_params = SimulationState(dataset=dataset, result_path=path,\n",
    "                               simulation=simulation, signals=[signal], formats=[\"AIRR\"])\n"
   ]
  },
  {
   "cell_type": "code",
   "execution_count": 179,
   "metadata": {},
   "outputs": [
    {
     "data": {
      "text/plain": [
       "100"
      ]
     },
     "execution_count": 179,
     "metadata": {},
     "output_type": "execute_result"
    }
   ],
   "source": [
    "len(new_dataset.get_example_ids())\n"
   ]
  },
  {
   "cell_type": "code",
   "execution_count": 178,
   "metadata": {},
   "outputs": [
    {
     "name": "stderr",
     "output_type": "stream",
     "text": [
      "WARNING:root:Position weights are not defined. Randomly choosing position to implant motif_instance instead.\n",
      "WARNING:root:Position weights are not defined. Randomly choosing position to implant motif_instance instead.\n",
      "WARNING:root:Position weights are not defined. Randomly choosing position to implant motif_instance instead.\n",
      "WARNING:root:Position weights are not defined. Randomly choosing position to implant motif_instance instead.\n",
      "WARNING:root:Position weights are not defined. Randomly choosing position to implant motif_instance instead.\n",
      "WARNING:root:Position weights are not defined. Randomly choosing position to implant motif_instance instead.\n",
      "WARNING:root:Position weights are not defined. Randomly choosing position to implant motif_instance instead.\n",
      "WARNING:root:Position weights are not defined. Randomly choosing position to implant motif_instance instead.\n",
      "WARNING:root:Position weights are not defined. Randomly choosing position to implant motif_instance instead.\n",
      "WARNING:root:Position weights are not defined. Randomly choosing position to implant motif_instance instead.\n",
      "WARNING:root:Position weights are not defined. Randomly choosing position to implant motif_instance instead.\n",
      "WARNING:root:Position weights are not defined. Randomly choosing position to implant motif_instance instead.\n",
      "WARNING:root:Position weights are not defined. Randomly choosing position to implant motif_instance instead.\n",
      "WARNING:root:Position weights are not defined. Randomly choosing position to implant motif_instance instead.\n",
      "WARNING:root:Position weights are not defined. Randomly choosing position to implant motif_instance instead.\n",
      "WARNING:root:Position weights are not defined. Randomly choosing position to implant motif_instance instead.\n",
      "WARNING:root:Position weights are not defined. Randomly choosing position to implant motif_instance instead.\n",
      "WARNING:root:Position weights are not defined. Randomly choosing position to implant motif_instance instead.\n",
      "WARNING:root:Position weights are not defined. Randomly choosing position to implant motif_instance instead.\n",
      "WARNING:root:Position weights are not defined. Randomly choosing position to implant motif_instance instead.\n",
      "WARNING:root:Position weights are not defined. Randomly choosing position to implant motif_instance instead.\n",
      "WARNING:root:Position weights are not defined. Randomly choosing position to implant motif_instance instead.\n",
      "WARNING:root:Position weights are not defined. Randomly choosing position to implant motif_instance instead.\n",
      "WARNING:root:Position weights are not defined. Randomly choosing position to implant motif_instance instead.\n",
      "WARNING:root:Position weights are not defined. Randomly choosing position to implant motif_instance instead.\n",
      "WARNING:root:Position weights are not defined. Randomly choosing position to implant motif_instance instead.\n",
      "WARNING:root:Position weights are not defined. Randomly choosing position to implant motif_instance instead.\n",
      "WARNING:root:Position weights are not defined. Randomly choosing position to implant motif_instance instead.\n",
      "WARNING:root:Position weights are not defined. Randomly choosing position to implant motif_instance instead.\n",
      "WARNING:root:Position weights are not defined. Randomly choosing position to implant motif_instance instead.\n",
      "WARNING:root:Position weights are not defined. Randomly choosing position to implant motif_instance instead.\n",
      "WARNING:root:Position weights are not defined. Randomly choosing position to implant motif_instance instead.\n",
      "WARNING:root:Position weights are not defined. Randomly choosing position to implant motif_instance instead.\n",
      "WARNING:root:Position weights are not defined. Randomly choosing position to implant motif_instance instead.\n",
      "WARNING:root:Position weights are not defined. Randomly choosing position to implant motif_instance instead.\n",
      "WARNING:root:Position weights are not defined. Randomly choosing position to implant motif_instance instead.\n",
      "WARNING:root:Position weights are not defined. Randomly choosing position to implant motif_instance instead.\n",
      "WARNING:root:Position weights are not defined. Randomly choosing position to implant motif_instance instead.\n",
      "WARNING:root:Position weights are not defined. Randomly choosing position to implant motif_instance instead.\n",
      "WARNING:root:Position weights are not defined. Randomly choosing position to implant motif_instance instead.\n",
      "WARNING:root:Position weights are not defined. Randomly choosing position to implant motif_instance instead.\n",
      "WARNING:root:Position weights are not defined. Randomly choosing position to implant motif_instance instead.\n",
      "WARNING:root:Position weights are not defined. Randomly choosing position to implant motif_instance instead.\n",
      "WARNING:root:Position weights are not defined. Randomly choosing position to implant motif_instance instead.\n",
      "WARNING:root:Position weights are not defined. Randomly choosing position to implant motif_instance instead.\n",
      "WARNING:root:Position weights are not defined. Randomly choosing position to implant motif_instance instead.\n",
      "WARNING:root:Position weights are not defined. Randomly choosing position to implant motif_instance instead.\n",
      "WARNING:root:Position weights are not defined. Randomly choosing position to implant motif_instance instead.\n",
      "WARNING:root:Position weights are not defined. Randomly choosing position to implant motif_instance instead.\n",
      "WARNING:root:Position weights are not defined. Randomly choosing position to implant motif_instance instead.\n",
      "WARNING:root:Position weights are not defined. Randomly choosing position to implant motif_instance instead.\n",
      "WARNING:root:Position weights are not defined. Randomly choosing position to implant motif_instance instead.\n",
      "WARNING:root:Position weights are not defined. Randomly choosing position to implant motif_instance instead.\n",
      "WARNING:root:Position weights are not defined. Randomly choosing position to implant motif_instance instead.\n",
      "WARNING:root:Position weights are not defined. Randomly choosing position to implant motif_instance instead.\n",
      "WARNING:root:Position weights are not defined. Randomly choosing position to implant motif_instance instead.\n",
      "WARNING:root:Position weights are not defined. Randomly choosing position to implant motif_instance instead.\n",
      "WARNING:root:Position weights are not defined. Randomly choosing position to implant motif_instance instead.\n",
      "WARNING:root:Position weights are not defined. Randomly choosing position to implant motif_instance instead.\n",
      "WARNING:root:Position weights are not defined. Randomly choosing position to implant motif_instance instead.\n",
      "WARNING:root:Position weights are not defined. Randomly choosing position to implant motif_instance instead.\n",
      "WARNING:root:Position weights are not defined. Randomly choosing position to implant motif_instance instead.\n",
      "WARNING:root:Position weights are not defined. Randomly choosing position to implant motif_instance instead.\n",
      "WARNING:root:Position weights are not defined. Randomly choosing position to implant motif_instance instead.\n",
      "WARNING:root:Position weights are not defined. Randomly choosing position to implant motif_instance instead.\n",
      "WARNING:root:Position weights are not defined. Randomly choosing position to implant motif_instance instead.\n",
      "WARNING:root:Position weights are not defined. Randomly choosing position to implant motif_instance instead.\n",
      "WARNING:root:Position weights are not defined. Randomly choosing position to implant motif_instance instead.\n",
      "WARNING:root:Position weights are not defined. Randomly choosing position to implant motif_instance instead.\n",
      "WARNING:root:Position weights are not defined. Randomly choosing position to implant motif_instance instead.\n",
      "WARNING:root:Position weights are not defined. Randomly choosing position to implant motif_instance instead.\n",
      "WARNING:root:Position weights are not defined. Randomly choosing position to implant motif_instance instead.\n",
      "WARNING:root:Position weights are not defined. Randomly choosing position to implant motif_instance instead.\n",
      "WARNING:root:Position weights are not defined. Randomly choosing position to implant motif_instance instead.\n",
      "WARNING:root:Position weights are not defined. Randomly choosing position to implant motif_instance instead.\n",
      "WARNING:root:Position weights are not defined. Randomly choosing position to implant motif_instance instead.\n",
      "WARNING:root:Position weights are not defined. Randomly choosing position to implant motif_instance instead.\n",
      "WARNING:root:Position weights are not defined. Randomly choosing position to implant motif_instance instead.\n",
      "WARNING:root:Position weights are not defined. Randomly choosing position to implant motif_instance instead.\n",
      "WARNING:root:Position weights are not defined. Randomly choosing position to implant motif_instance instead.\n",
      "WARNING:root:Position weights are not defined. Randomly choosing position to implant motif_instance instead.\n",
      "WARNING:root:Position weights are not defined. Randomly choosing position to implant motif_instance instead.\n",
      "WARNING:root:Position weights are not defined. Randomly choosing position to implant motif_instance instead.\n",
      "WARNING:root:Position weights are not defined. Randomly choosing position to implant motif_instance instead.\n",
      "WARNING:root:Position weights are not defined. Randomly choosing position to implant motif_instance instead.\n",
      "WARNING:root:Position weights are not defined. Randomly choosing position to implant motif_instance instead.\n",
      "WARNING:root:Position weights are not defined. Randomly choosing position to implant motif_instance instead.\n",
      "WARNING:root:Position weights are not defined. Randomly choosing position to implant motif_instance instead.\n",
      "WARNING:root:Position weights are not defined. Randomly choosing position to implant motif_instance instead.\n",
      "WARNING:root:Position weights are not defined. Randomly choosing position to implant motif_instance instead.\n",
      "WARNING:root:Position weights are not defined. Randomly choosing position to implant motif_instance instead.\n",
      "WARNING:root:Position weights are not defined. Randomly choosing position to implant motif_instance instead.\n",
      "WARNING:root:Position weights are not defined. Randomly choosing position to implant motif_instance instead.\n",
      "WARNING:root:Position weights are not defined. Randomly choosing position to implant motif_instance instead.\n",
      "WARNING:root:Position weights are not defined. Randomly choosing position to implant motif_instance instead.\n",
      "WARNING:root:Position weights are not defined. Randomly choosing position to implant motif_instance instead.\n",
      "WARNING:root:Position weights are not defined. Randomly choosing position to implant motif_instance instead.\n",
      "WARNING:root:Position weights are not defined. Randomly choosing position to implant motif_instance instead.\n",
      "WARNING:root:Position weights are not defined. Randomly choosing position to implant motif_instance instead.\n",
      "WARNING:root:Position weights are not defined. Randomly choosing position to implant motif_instance instead.\n",
      "WARNING:root:Position weights are not defined. Randomly choosing position to implant motif_instance instead.\n",
      "WARNING:root:Position weights are not defined. Randomly choosing position to implant motif_instance instead.\n",
      "WARNING:root:Position weights are not defined. Randomly choosing position to implant motif_instance instead.\n",
      "WARNING:root:Position weights are not defined. Randomly choosing position to implant motif_instance instead.\n",
      "WARNING:root:Position weights are not defined. Randomly choosing position to implant motif_instance instead.\n",
      "WARNING:root:Position weights are not defined. Randomly choosing position to implant motif_instance instead.\n",
      "WARNING:root:Position weights are not defined. Randomly choosing position to implant motif_instance instead.\n",
      "WARNING:root:Position weights are not defined. Randomly choosing position to implant motif_instance instead.\n",
      "WARNING:root:Position weights are not defined. Randomly choosing position to implant motif_instance instead.\n",
      "WARNING:root:Position weights are not defined. Randomly choosing position to implant motif_instance instead.\n",
      "WARNING:root:Position weights are not defined. Randomly choosing position to implant motif_instance instead.\n",
      "WARNING:root:Position weights are not defined. Randomly choosing position to implant motif_instance instead.\n",
      "WARNING:root:Position weights are not defined. Randomly choosing position to implant motif_instance instead.\n",
      "WARNING:root:Position weights are not defined. Randomly choosing position to implant motif_instance instead.\n",
      "WARNING:root:Position weights are not defined. Randomly choosing position to implant motif_instance instead.\n",
      "WARNING:root:Position weights are not defined. Randomly choosing position to implant motif_instance instead.\n",
      "WARNING:root:Position weights are not defined. Randomly choosing position to implant motif_instance instead.\n",
      "WARNING:root:Position weights are not defined. Randomly choosing position to implant motif_instance instead.\n",
      "WARNING:root:Position weights are not defined. Randomly choosing position to implant motif_instance instead.\n",
      "WARNING:root:Position weights are not defined. Randomly choosing position to implant motif_instance instead.\n",
      "WARNING:root:Position weights are not defined. Randomly choosing position to implant motif_instance instead.\n",
      "WARNING:root:Position weights are not defined. Randomly choosing position to implant motif_instance instead.\n",
      "WARNING:root:Position weights are not defined. Randomly choosing position to implant motif_instance instead.\n",
      "WARNING:root:Position weights are not defined. Randomly choosing position to implant motif_instance instead.\n",
      "WARNING:root:Position weights are not defined. Randomly choosing position to implant motif_instance instead.\n",
      "WARNING:root:Position weights are not defined. Randomly choosing position to implant motif_instance instead.\n",
      "WARNING:root:Position weights are not defined. Randomly choosing position to implant motif_instance instead.\n",
      "WARNING:root:Position weights are not defined. Randomly choosing position to implant motif_instance instead.\n",
      "WARNING:root:Position weights are not defined. Randomly choosing position to implant motif_instance instead.\n",
      "WARNING:root:Position weights are not defined. Randomly choosing position to implant motif_instance instead.\n",
      "WARNING:root:Position weights are not defined. Randomly choosing position to implant motif_instance instead.\n",
      "WARNING:root:Position weights are not defined. Randomly choosing position to implant motif_instance instead.\n",
      "WARNING:root:Position weights are not defined. Randomly choosing position to implant motif_instance instead.\n",
      "WARNING:root:Position weights are not defined. Randomly choosing position to implant motif_instance instead.\n",
      "WARNING:root:Position weights are not defined. Randomly choosing position to implant motif_instance instead.\n",
      "WARNING:root:Position weights are not defined. Randomly choosing position to implant motif_instance instead.\n",
      "WARNING:root:Position weights are not defined. Randomly choosing position to implant motif_instance instead.\n",
      "WARNING:root:Position weights are not defined. Randomly choosing position to implant motif_instance instead.\n",
      "WARNING:root:Position weights are not defined. Randomly choosing position to implant motif_instance instead.\n",
      "WARNING:root:Position weights are not defined. Randomly choosing position to implant motif_instance instead.\n",
      "WARNING:root:Position weights are not defined. Randomly choosing position to implant motif_instance instead.\n",
      "WARNING:root:Position weights are not defined. Randomly choosing position to implant motif_instance instead.\n",
      "WARNING:root:Position weights are not defined. Randomly choosing position to implant motif_instance instead.\n",
      "WARNING:root:Position weights are not defined. Randomly choosing position to implant motif_instance instead.\n",
      "WARNING:root:Position weights are not defined. Randomly choosing position to implant motif_instance instead.\n",
      "WARNING:root:Position weights are not defined. Randomly choosing position to implant motif_instance instead.\n",
      "WARNING:root:Position weights are not defined. Randomly choosing position to implant motif_instance instead.\n",
      "WARNING:root:Position weights are not defined. Randomly choosing position to implant motif_instance instead.\n",
      "WARNING:root:Position weights are not defined. Randomly choosing position to implant motif_instance instead.\n",
      "WARNING:root:Position weights are not defined. Randomly choosing position to implant motif_instance instead.\n",
      "WARNING:root:Position weights are not defined. Randomly choosing position to implant motif_instance instead.\n",
      "WARNING:root:Position weights are not defined. Randomly choosing position to implant motif_instance instead.\n",
      "WARNING:root:Position weights are not defined. Randomly choosing position to implant motif_instance instead.\n",
      "WARNING:root:Position weights are not defined. Randomly choosing position to implant motif_instance instead.\n",
      "WARNING:root:Position weights are not defined. Randomly choosing position to implant motif_instance instead.\n",
      "WARNING:root:Position weights are not defined. Randomly choosing position to implant motif_instance instead.\n",
      "WARNING:root:Position weights are not defined. Randomly choosing position to implant motif_instance instead.\n",
      "WARNING:root:Position weights are not defined. Randomly choosing position to implant motif_instance instead.\n",
      "WARNING:root:Position weights are not defined. Randomly choosing position to implant motif_instance instead.\n",
      "WARNING:root:Position weights are not defined. Randomly choosing position to implant motif_instance instead.\n",
      "WARNING:root:Position weights are not defined. Randomly choosing position to implant motif_instance instead.\n",
      "WARNING:root:Position weights are not defined. Randomly choosing position to implant motif_instance instead.\n",
      "WARNING:root:Position weights are not defined. Randomly choosing position to implant motif_instance instead.\n",
      "WARNING:root:Position weights are not defined. Randomly choosing position to implant motif_instance instead.\n",
      "WARNING:root:Position weights are not defined. Randomly choosing position to implant motif_instance instead.\n",
      "WARNING:root:Position weights are not defined. Randomly choosing position to implant motif_instance instead.\n",
      "WARNING:root:Position weights are not defined. Randomly choosing position to implant motif_instance instead.\n",
      "WARNING:root:Position weights are not defined. Randomly choosing position to implant motif_instance instead.\n",
      "WARNING:root:Position weights are not defined. Randomly choosing position to implant motif_instance instead.\n",
      "WARNING:root:Position weights are not defined. Randomly choosing position to implant motif_instance instead.\n",
      "WARNING:root:Position weights are not defined. Randomly choosing position to implant motif_instance instead.\n",
      "WARNING:root:Position weights are not defined. Randomly choosing position to implant motif_instance instead.\n",
      "WARNING:root:Position weights are not defined. Randomly choosing position to implant motif_instance instead.\n",
      "WARNING:root:Position weights are not defined. Randomly choosing position to implant motif_instance instead.\n",
      "WARNING:root:Position weights are not defined. Randomly choosing position to implant motif_instance instead.\n",
      "WARNING:root:Position weights are not defined. Randomly choosing position to implant motif_instance instead.\n",
      "WARNING:root:Position weights are not defined. Randomly choosing position to implant motif_instance instead.\n",
      "WARNING:root:Position weights are not defined. Randomly choosing position to implant motif_instance instead.\n",
      "WARNING:root:Position weights are not defined. Randomly choosing position to implant motif_instance instead.\n",
      "WARNING:root:Position weights are not defined. Randomly choosing position to implant motif_instance instead.\n",
      "WARNING:root:Position weights are not defined. Randomly choosing position to implant motif_instance instead.\n",
      "WARNING:root:Position weights are not defined. Randomly choosing position to implant motif_instance instead.\n",
      "WARNING:root:Position weights are not defined. Randomly choosing position to implant motif_instance instead.\n",
      "WARNING:root:Position weights are not defined. Randomly choosing position to implant motif_instance instead.\n",
      "WARNING:root:Position weights are not defined. Randomly choosing position to implant motif_instance instead.\n",
      "WARNING:root:Position weights are not defined. Randomly choosing position to implant motif_instance instead.\n",
      "WARNING:root:Position weights are not defined. Randomly choosing position to implant motif_instance instead.\n",
      "WARNING:root:Position weights are not defined. Randomly choosing position to implant motif_instance instead.\n",
      "WARNING:root:Position weights are not defined. Randomly choosing position to implant motif_instance instead.\n",
      "WARNING:root:Position weights are not defined. Randomly choosing position to implant motif_instance instead.\n",
      "WARNING:root:Position weights are not defined. Randomly choosing position to implant motif_instance instead.\n",
      "WARNING:root:Position weights are not defined. Randomly choosing position to implant motif_instance instead.\n",
      "WARNING:root:Position weights are not defined. Randomly choosing position to implant motif_instance instead.\n",
      "WARNING:root:Position weights are not defined. Randomly choosing position to implant motif_instance instead.\n",
      "WARNING:root:Position weights are not defined. Randomly choosing position to implant motif_instance instead.\n",
      "WARNING:root:Position weights are not defined. Randomly choosing position to implant motif_instance instead.\n",
      "WARNING:root:Position weights are not defined. Randomly choosing position to implant motif_instance instead.\n",
      "WARNING:root:Position weights are not defined. Randomly choosing position to implant motif_instance instead.\n",
      "WARNING:root:Position weights are not defined. Randomly choosing position to implant motif_instance instead.\n",
      "WARNING:root:Position weights are not defined. Randomly choosing position to implant motif_instance instead.\n",
      "WARNING:root:Position weights are not defined. Randomly choosing position to implant motif_instance instead.\n",
      "WARNING:root:Position weights are not defined. Randomly choosing position to implant motif_instance instead.\n",
      "WARNING:root:Position weights are not defined. Randomly choosing position to implant motif_instance instead.\n",
      "WARNING:root:Position weights are not defined. Randomly choosing position to implant motif_instance instead.\n",
      "WARNING:root:Position weights are not defined. Randomly choosing position to implant motif_instance instead.\n",
      "WARNING:root:Position weights are not defined. Randomly choosing position to implant motif_instance instead.\n",
      "WARNING:root:Position weights are not defined. Randomly choosing position to implant motif_instance instead.\n",
      "WARNING:root:Position weights are not defined. Randomly choosing position to implant motif_instance instead.\n",
      "WARNING:root:Position weights are not defined. Randomly choosing position to implant motif_instance instead.\n",
      "WARNING:root:Position weights are not defined. Randomly choosing position to implant motif_instance instead.\n",
      "WARNING:root:Position weights are not defined. Randomly choosing position to implant motif_instance instead.\n",
      "WARNING:root:Position weights are not defined. Randomly choosing position to implant motif_instance instead.\n",
      "WARNING:root:Position weights are not defined. Randomly choosing position to implant motif_instance instead.\n",
      "WARNING:root:Position weights are not defined. Randomly choosing position to implant motif_instance instead.\n",
      "WARNING:root:Position weights are not defined. Randomly choosing position to implant motif_instance instead.\n",
      "WARNING:root:Position weights are not defined. Randomly choosing position to implant motif_instance instead.\n",
      "WARNING:root:Position weights are not defined. Randomly choosing position to implant motif_instance instead.\n",
      "WARNING:root:Position weights are not defined. Randomly choosing position to implant motif_instance instead.\n",
      "WARNING:root:Position weights are not defined. Randomly choosing position to implant motif_instance instead.\n",
      "WARNING:root:Position weights are not defined. Randomly choosing position to implant motif_instance instead.\n",
      "WARNING:root:Position weights are not defined. Randomly choosing position to implant motif_instance instead.\n",
      "WARNING:root:Position weights are not defined. Randomly choosing position to implant motif_instance instead.\n",
      "WARNING:root:Position weights are not defined. Randomly choosing position to implant motif_instance instead.\n",
      "WARNING:root:Position weights are not defined. Randomly choosing position to implant motif_instance instead.\n",
      "WARNING:root:Position weights are not defined. Randomly choosing position to implant motif_instance instead.\n",
      "WARNING:root:Position weights are not defined. Randomly choosing position to implant motif_instance instead.\n",
      "WARNING:root:Position weights are not defined. Randomly choosing position to implant motif_instance instead.\n",
      "WARNING:root:Position weights are not defined. Randomly choosing position to implant motif_instance instead.\n",
      "WARNING:root:Position weights are not defined. Randomly choosing position to implant motif_instance instead.\n",
      "WARNING:root:Position weights are not defined. Randomly choosing position to implant motif_instance instead.\n",
      "WARNING:root:Position weights are not defined. Randomly choosing position to implant motif_instance instead.\n",
      "WARNING:root:Position weights are not defined. Randomly choosing position to implant motif_instance instead.\n",
      "WARNING:root:Position weights are not defined. Randomly choosing position to implant motif_instance instead.\n",
      "WARNING:root:Position weights are not defined. Randomly choosing position to implant motif_instance instead.\n",
      "WARNING:root:Position weights are not defined. Randomly choosing position to implant motif_instance instead.\n",
      "WARNING:root:Position weights are not defined. Randomly choosing position to implant motif_instance instead.\n",
      "WARNING:root:Position weights are not defined. Randomly choosing position to implant motif_instance instead.\n",
      "WARNING:root:Position weights are not defined. Randomly choosing position to implant motif_instance instead.\n",
      "WARNING:root:Position weights are not defined. Randomly choosing position to implant motif_instance instead.\n",
      "WARNING:root:Position weights are not defined. Randomly choosing position to implant motif_instance instead.\n",
      "WARNING:root:Position weights are not defined. Randomly choosing position to implant motif_instance instead.\n",
      "WARNING:root:Position weights are not defined. Randomly choosing position to implant motif_instance instead.\n",
      "WARNING:root:Position weights are not defined. Randomly choosing position to implant motif_instance instead.\n",
      "WARNING:root:Position weights are not defined. Randomly choosing position to implant motif_instance instead.\n",
      "WARNING:root:Position weights are not defined. Randomly choosing position to implant motif_instance instead.\n",
      "WARNING:root:Position weights are not defined. Randomly choosing position to implant motif_instance instead.\n",
      "WARNING:root:Position weights are not defined. Randomly choosing position to implant motif_instance instead.\n",
      "WARNING:root:Position weights are not defined. Randomly choosing position to implant motif_instance instead.\n",
      "WARNING:root:Position weights are not defined. Randomly choosing position to implant motif_instance instead.\n",
      "WARNING:root:Position weights are not defined. Randomly choosing position to implant motif_instance instead.\n",
      "WARNING:root:Position weights are not defined. Randomly choosing position to implant motif_instance instead.\n",
      "WARNING:root:Position weights are not defined. Randomly choosing position to implant motif_instance instead.\n",
      "WARNING:root:Position weights are not defined. Randomly choosing position to implant motif_instance instead.\n",
      "WARNING:root:Position weights are not defined. Randomly choosing position to implant motif_instance instead.\n",
      "WARNING:root:Position weights are not defined. Randomly choosing position to implant motif_instance instead.\n",
      "WARNING:root:Position weights are not defined. Randomly choosing position to implant motif_instance instead.\n",
      "WARNING:root:Position weights are not defined. Randomly choosing position to implant motif_instance instead.\n",
      "WARNING:root:Position weights are not defined. Randomly choosing position to implant motif_instance instead.\n",
      "WARNING:root:Position weights are not defined. Randomly choosing position to implant motif_instance instead.\n",
      "WARNING:root:Position weights are not defined. Randomly choosing position to implant motif_instance instead.\n",
      "WARNING:root:Position weights are not defined. Randomly choosing position to implant motif_instance instead.\n",
      "WARNING:root:Position weights are not defined. Randomly choosing position to implant motif_instance instead.\n",
      "WARNING:root:Position weights are not defined. Randomly choosing position to implant motif_instance instead.\n",
      "WARNING:root:Position weights are not defined. Randomly choosing position to implant motif_instance instead.\n",
      "WARNING:root:Position weights are not defined. Randomly choosing position to implant motif_instance instead.\n",
      "WARNING:root:Position weights are not defined. Randomly choosing position to implant motif_instance instead.\n",
      "WARNING:root:Position weights are not defined. Randomly choosing position to implant motif_instance instead.\n",
      "WARNING:root:Position weights are not defined. Randomly choosing position to implant motif_instance instead.\n",
      "WARNING:root:Position weights are not defined. Randomly choosing position to implant motif_instance instead.\n",
      "WARNING:root:Position weights are not defined. Randomly choosing position to implant motif_instance instead.\n",
      "WARNING:root:Position weights are not defined. Randomly choosing position to implant motif_instance instead.\n",
      "WARNING:root:Position weights are not defined. Randomly choosing position to implant motif_instance instead.\n",
      "WARNING:root:Position weights are not defined. Randomly choosing position to implant motif_instance instead.\n",
      "WARNING:root:Position weights are not defined. Randomly choosing position to implant motif_instance instead.\n",
      "WARNING:root:Position weights are not defined. Randomly choosing position to implant motif_instance instead.\n",
      "WARNING:root:Position weights are not defined. Randomly choosing position to implant motif_instance instead.\n",
      "WARNING:root:Position weights are not defined. Randomly choosing position to implant motif_instance instead.\n",
      "WARNING:root:Position weights are not defined. Randomly choosing position to implant motif_instance instead.\n",
      "WARNING:root:Position weights are not defined. Randomly choosing position to implant motif_instance instead.\n",
      "WARNING:root:Position weights are not defined. Randomly choosing position to implant motif_instance instead.\n",
      "WARNING:root:Position weights are not defined. Randomly choosing position to implant motif_instance instead.\n",
      "WARNING:root:Position weights are not defined. Randomly choosing position to implant motif_instance instead.\n",
      "WARNING:root:Position weights are not defined. Randomly choosing position to implant motif_instance instead.\n",
      "WARNING:root:Position weights are not defined. Randomly choosing position to implant motif_instance instead.\n",
      "WARNING:root:Position weights are not defined. Randomly choosing position to implant motif_instance instead.\n",
      "WARNING:root:Position weights are not defined. Randomly choosing position to implant motif_instance instead.\n",
      "WARNING:root:Position weights are not defined. Randomly choosing position to implant motif_instance instead.\n",
      "WARNING:root:Position weights are not defined. Randomly choosing position to implant motif_instance instead.\n",
      "WARNING:root:Position weights are not defined. Randomly choosing position to implant motif_instance instead.\n",
      "WARNING:root:Position weights are not defined. Randomly choosing position to implant motif_instance instead.\n",
      "WARNING:root:Position weights are not defined. Randomly choosing position to implant motif_instance instead.\n",
      "WARNING:root:Position weights are not defined. Randomly choosing position to implant motif_instance instead.\n",
      "WARNING:root:Position weights are not defined. Randomly choosing position to implant motif_instance instead.\n",
      "WARNING:root:Position weights are not defined. Randomly choosing position to implant motif_instance instead.\n",
      "WARNING:root:Position weights are not defined. Randomly choosing position to implant motif_instance instead.\n",
      "WARNING:root:Position weights are not defined. Randomly choosing position to implant motif_instance instead.\n",
      "WARNING:root:Position weights are not defined. Randomly choosing position to implant motif_instance instead.\n",
      "WARNING:root:Position weights are not defined. Randomly choosing position to implant motif_instance instead.\n",
      "WARNING:root:Position weights are not defined. Randomly choosing position to implant motif_instance instead.\n",
      "WARNING:root:Position weights are not defined. Randomly choosing position to implant motif_instance instead.\n",
      "WARNING:root:Position weights are not defined. Randomly choosing position to implant motif_instance instead.\n",
      "WARNING:root:Position weights are not defined. Randomly choosing position to implant motif_instance instead.\n",
      "WARNING:root:Position weights are not defined. Randomly choosing position to implant motif_instance instead.\n",
      "WARNING:root:Position weights are not defined. Randomly choosing position to implant motif_instance instead.\n",
      "WARNING:root:Position weights are not defined. Randomly choosing position to implant motif_instance instead.\n",
      "WARNING:root:Position weights are not defined. Randomly choosing position to implant motif_instance instead.\n",
      "WARNING:root:Position weights are not defined. Randomly choosing position to implant motif_instance instead.\n",
      "WARNING:root:Position weights are not defined. Randomly choosing position to implant motif_instance instead.\n",
      "WARNING:root:Position weights are not defined. Randomly choosing position to implant motif_instance instead.\n",
      "WARNING:root:Position weights are not defined. Randomly choosing position to implant motif_instance instead.\n",
      "WARNING:root:Position weights are not defined. Randomly choosing position to implant motif_instance instead.\n",
      "WARNING:root:Position weights are not defined. Randomly choosing position to implant motif_instance instead.\n",
      "WARNING:root:Position weights are not defined. Randomly choosing position to implant motif_instance instead.\n",
      "WARNING:root:Position weights are not defined. Randomly choosing position to implant motif_instance instead.\n",
      "WARNING:root:Position weights are not defined. Randomly choosing position to implant motif_instance instead.\n",
      "WARNING:root:Position weights are not defined. Randomly choosing position to implant motif_instance instead.\n",
      "WARNING:root:Position weights are not defined. Randomly choosing position to implant motif_instance instead.\n",
      "WARNING:root:Position weights are not defined. Randomly choosing position to implant motif_instance instead.\n",
      "WARNING:root:Position weights are not defined. Randomly choosing position to implant motif_instance instead.\n",
      "WARNING:root:Position weights are not defined. Randomly choosing position to implant motif_instance instead.\n",
      "WARNING:root:Position weights are not defined. Randomly choosing position to implant motif_instance instead.\n",
      "WARNING:root:Position weights are not defined. Randomly choosing position to implant motif_instance instead.\n",
      "WARNING:root:Position weights are not defined. Randomly choosing position to implant motif_instance instead.\n",
      "WARNING:root:Position weights are not defined. Randomly choosing position to implant motif_instance instead.\n",
      "WARNING:root:Position weights are not defined. Randomly choosing position to implant motif_instance instead.\n",
      "WARNING:root:Position weights are not defined. Randomly choosing position to implant motif_instance instead.\n",
      "WARNING:root:Position weights are not defined. Randomly choosing position to implant motif_instance instead.\n",
      "WARNING:root:Position weights are not defined. Randomly choosing position to implant motif_instance instead.\n",
      "WARNING:root:Position weights are not defined. Randomly choosing position to implant motif_instance instead.\n",
      "WARNING:root:Position weights are not defined. Randomly choosing position to implant motif_instance instead.\n",
      "WARNING:root:Position weights are not defined. Randomly choosing position to implant motif_instance instead.\n",
      "WARNING:root:Position weights are not defined. Randomly choosing position to implant motif_instance instead.\n",
      "WARNING:root:Position weights are not defined. Randomly choosing position to implant motif_instance instead.\n",
      "WARNING:root:Position weights are not defined. Randomly choosing position to implant motif_instance instead.\n",
      "WARNING:root:Position weights are not defined. Randomly choosing position to implant motif_instance instead.\n",
      "WARNING:root:Position weights are not defined. Randomly choosing position to implant motif_instance instead.\n",
      "WARNING:root:Position weights are not defined. Randomly choosing position to implant motif_instance instead.\n",
      "WARNING:root:Position weights are not defined. Randomly choosing position to implant motif_instance instead.\n",
      "WARNING:root:Position weights are not defined. Randomly choosing position to implant motif_instance instead.\n",
      "WARNING:root:Position weights are not defined. Randomly choosing position to implant motif_instance instead.\n",
      "WARNING:root:Position weights are not defined. Randomly choosing position to implant motif_instance instead.\n",
      "WARNING:root:Position weights are not defined. Randomly choosing position to implant motif_instance instead.\n",
      "WARNING:root:Position weights are not defined. Randomly choosing position to implant motif_instance instead.\n",
      "WARNING:root:Position weights are not defined. Randomly choosing position to implant motif_instance instead.\n",
      "WARNING:root:Position weights are not defined. Randomly choosing position to implant motif_instance instead.\n",
      "WARNING:root:Position weights are not defined. Randomly choosing position to implant motif_instance instead.\n",
      "WARNING:root:Position weights are not defined. Randomly choosing position to implant motif_instance instead.\n",
      "WARNING:root:Position weights are not defined. Randomly choosing position to implant motif_instance instead.\n",
      "WARNING:root:Position weights are not defined. Randomly choosing position to implant motif_instance instead.\n",
      "WARNING:root:Position weights are not defined. Randomly choosing position to implant motif_instance instead.\n",
      "WARNING:root:Position weights are not defined. Randomly choosing position to implant motif_instance instead.\n",
      "WARNING:root:Position weights are not defined. Randomly choosing position to implant motif_instance instead.\n",
      "WARNING:root:Position weights are not defined. Randomly choosing position to implant motif_instance instead.\n",
      "WARNING:root:Position weights are not defined. Randomly choosing position to implant motif_instance instead.\n",
      "WARNING:root:Position weights are not defined. Randomly choosing position to implant motif_instance instead.\n",
      "WARNING:root:Position weights are not defined. Randomly choosing position to implant motif_instance instead.\n",
      "WARNING:root:Position weights are not defined. Randomly choosing position to implant motif_instance instead.\n",
      "WARNING:root:Position weights are not defined. Randomly choosing position to implant motif_instance instead.\n",
      "WARNING:root:Position weights are not defined. Randomly choosing position to implant motif_instance instead.\n",
      "WARNING:root:Position weights are not defined. Randomly choosing position to implant motif_instance instead.\n",
      "WARNING:root:Position weights are not defined. Randomly choosing position to implant motif_instance instead.\n",
      "WARNING:root:Position weights are not defined. Randomly choosing position to implant motif_instance instead.\n",
      "WARNING:root:Position weights are not defined. Randomly choosing position to implant motif_instance instead.\n",
      "WARNING:root:Position weights are not defined. Randomly choosing position to implant motif_instance instead.\n",
      "WARNING:root:Position weights are not defined. Randomly choosing position to implant motif_instance instead.\n",
      "WARNING:root:Position weights are not defined. Randomly choosing position to implant motif_instance instead.\n",
      "WARNING:root:Position weights are not defined. Randomly choosing position to implant motif_instance instead.\n",
      "WARNING:root:Position weights are not defined. Randomly choosing position to implant motif_instance instead.\n",
      "WARNING:root:Position weights are not defined. Randomly choosing position to implant motif_instance instead.\n",
      "WARNING:root:Position weights are not defined. Randomly choosing position to implant motif_instance instead.\n",
      "WARNING:root:Position weights are not defined. Randomly choosing position to implant motif_instance instead.\n",
      "WARNING:root:Position weights are not defined. Randomly choosing position to implant motif_instance instead.\n",
      "WARNING:root:Position weights are not defined. Randomly choosing position to implant motif_instance instead.\n",
      "WARNING:root:Position weights are not defined. Randomly choosing position to implant motif_instance instead.\n",
      "WARNING:root:Position weights are not defined. Randomly choosing position to implant motif_instance instead.\n",
      "WARNING:root:Position weights are not defined. Randomly choosing position to implant motif_instance instead.\n",
      "WARNING:root:Position weights are not defined. Randomly choosing position to implant motif_instance instead.\n",
      "WARNING:root:Position weights are not defined. Randomly choosing position to implant motif_instance instead.\n",
      "WARNING:root:Position weights are not defined. Randomly choosing position to implant motif_instance instead.\n",
      "WARNING:root:Position weights are not defined. Randomly choosing position to implant motif_instance instead.\n",
      "WARNING:root:Position weights are not defined. Randomly choosing position to implant motif_instance instead.\n",
      "WARNING:root:Position weights are not defined. Randomly choosing position to implant motif_instance instead.\n",
      "WARNING:root:Position weights are not defined. Randomly choosing position to implant motif_instance instead.\n",
      "WARNING:root:Position weights are not defined. Randomly choosing position to implant motif_instance instead.\n",
      "WARNING:root:Position weights are not defined. Randomly choosing position to implant motif_instance instead.\n",
      "WARNING:root:Position weights are not defined. Randomly choosing position to implant motif_instance instead.\n",
      "WARNING:root:Position weights are not defined. Randomly choosing position to implant motif_instance instead.\n",
      "WARNING:root:Position weights are not defined. Randomly choosing position to implant motif_instance instead.\n",
      "WARNING:root:Position weights are not defined. Randomly choosing position to implant motif_instance instead.\n",
      "WARNING:root:Position weights are not defined. Randomly choosing position to implant motif_instance instead.\n",
      "WARNING:root:Position weights are not defined. Randomly choosing position to implant motif_instance instead.\n",
      "WARNING:root:Position weights are not defined. Randomly choosing position to implant motif_instance instead.\n",
      "WARNING:root:Position weights are not defined. Randomly choosing position to implant motif_instance instead.\n",
      "WARNING:root:Position weights are not defined. Randomly choosing position to implant motif_instance instead.\n",
      "WARNING:root:Position weights are not defined. Randomly choosing position to implant motif_instance instead.\n",
      "WARNING:root:Position weights are not defined. Randomly choosing position to implant motif_instance instead.\n",
      "WARNING:root:Position weights are not defined. Randomly choosing position to implant motif_instance instead.\n",
      "WARNING:root:Position weights are not defined. Randomly choosing position to implant motif_instance instead.\n",
      "WARNING:root:Position weights are not defined. Randomly choosing position to implant motif_instance instead.\n",
      "WARNING:root:Position weights are not defined. Randomly choosing position to implant motif_instance instead.\n",
      "WARNING:root:Position weights are not defined. Randomly choosing position to implant motif_instance instead.\n",
      "WARNING:root:Position weights are not defined. Randomly choosing position to implant motif_instance instead.\n",
      "WARNING:root:Position weights are not defined. Randomly choosing position to implant motif_instance instead.\n",
      "WARNING:root:Position weights are not defined. Randomly choosing position to implant motif_instance instead.\n",
      "WARNING:root:Position weights are not defined. Randomly choosing position to implant motif_instance instead.\n",
      "WARNING:root:Position weights are not defined. Randomly choosing position to implant motif_instance instead.\n",
      "WARNING:root:Position weights are not defined. Randomly choosing position to implant motif_instance instead.\n",
      "WARNING:root:Position weights are not defined. Randomly choosing position to implant motif_instance instead.\n",
      "WARNING:root:Position weights are not defined. Randomly choosing position to implant motif_instance instead.\n",
      "WARNING:root:Position weights are not defined. Randomly choosing position to implant motif_instance instead.\n",
      "WARNING:root:Position weights are not defined. Randomly choosing position to implant motif_instance instead.\n",
      "WARNING:root:Position weights are not defined. Randomly choosing position to implant motif_instance instead.\n",
      "WARNING:root:Position weights are not defined. Randomly choosing position to implant motif_instance instead.\n",
      "WARNING:root:Position weights are not defined. Randomly choosing position to implant motif_instance instead.\n",
      "WARNING:root:Position weights are not defined. Randomly choosing position to implant motif_instance instead.\n",
      "WARNING:root:Position weights are not defined. Randomly choosing position to implant motif_instance instead.\n",
      "WARNING:root:Position weights are not defined. Randomly choosing position to implant motif_instance instead.\n",
      "WARNING:root:Position weights are not defined. Randomly choosing position to implant motif_instance instead.\n",
      "WARNING:root:Position weights are not defined. Randomly choosing position to implant motif_instance instead.\n",
      "WARNING:root:Position weights are not defined. Randomly choosing position to implant motif_instance instead.\n",
      "WARNING:root:Position weights are not defined. Randomly choosing position to implant motif_instance instead.\n",
      "WARNING:root:Position weights are not defined. Randomly choosing position to implant motif_instance instead.\n",
      "WARNING:root:Position weights are not defined. Randomly choosing position to implant motif_instance instead.\n",
      "WARNING:root:Position weights are not defined. Randomly choosing position to implant motif_instance instead.\n",
      "WARNING:root:Position weights are not defined. Randomly choosing position to implant motif_instance instead.\n",
      "WARNING:root:Position weights are not defined. Randomly choosing position to implant motif_instance instead.\n",
      "WARNING:root:Position weights are not defined. Randomly choosing position to implant motif_instance instead.\n",
      "WARNING:root:Position weights are not defined. Randomly choosing position to implant motif_instance instead.\n",
      "WARNING:root:Position weights are not defined. Randomly choosing position to implant motif_instance instead.\n",
      "WARNING:root:Position weights are not defined. Randomly choosing position to implant motif_instance instead.\n",
      "WARNING:root:Position weights are not defined. Randomly choosing position to implant motif_instance instead.\n",
      "WARNING:root:Position weights are not defined. Randomly choosing position to implant motif_instance instead.\n",
      "WARNING:root:Position weights are not defined. Randomly choosing position to implant motif_instance instead.\n",
      "WARNING:root:Position weights are not defined. Randomly choosing position to implant motif_instance instead.\n",
      "WARNING:root:Position weights are not defined. Randomly choosing position to implant motif_instance instead.\n",
      "WARNING:root:Position weights are not defined. Randomly choosing position to implant motif_instance instead.\n",
      "WARNING:root:Position weights are not defined. Randomly choosing position to implant motif_instance instead.\n",
      "WARNING:root:Position weights are not defined. Randomly choosing position to implant motif_instance instead.\n",
      "WARNING:root:Position weights are not defined. Randomly choosing position to implant motif_instance instead.\n",
      "WARNING:root:Position weights are not defined. Randomly choosing position to implant motif_instance instead.\n",
      "WARNING:root:Position weights are not defined. Randomly choosing position to implant motif_instance instead.\n",
      "WARNING:root:Position weights are not defined. Randomly choosing position to implant motif_instance instead.\n",
      "WARNING:root:Position weights are not defined. Randomly choosing position to implant motif_instance instead.\n",
      "WARNING:root:Position weights are not defined. Randomly choosing position to implant motif_instance instead.\n",
      "WARNING:root:Position weights are not defined. Randomly choosing position to implant motif_instance instead.\n",
      "WARNING:root:Position weights are not defined. Randomly choosing position to implant motif_instance instead.\n",
      "WARNING:root:Position weights are not defined. Randomly choosing position to implant motif_instance instead.\n",
      "WARNING:root:Position weights are not defined. Randomly choosing position to implant motif_instance instead.\n",
      "WARNING:root:Position weights are not defined. Randomly choosing position to implant motif_instance instead.\n",
      "WARNING:root:Position weights are not defined. Randomly choosing position to implant motif_instance instead.\n",
      "WARNING:root:Position weights are not defined. Randomly choosing position to implant motif_instance instead.\n",
      "WARNING:root:Position weights are not defined. Randomly choosing position to implant motif_instance instead.\n",
      "WARNING:root:Position weights are not defined. Randomly choosing position to implant motif_instance instead.\n",
      "WARNING:root:Position weights are not defined. Randomly choosing position to implant motif_instance instead.\n",
      "WARNING:root:Position weights are not defined. Randomly choosing position to implant motif_instance instead.\n",
      "WARNING:root:Position weights are not defined. Randomly choosing position to implant motif_instance instead.\n",
      "WARNING:root:Position weights are not defined. Randomly choosing position to implant motif_instance instead.\n",
      "WARNING:root:Position weights are not defined. Randomly choosing position to implant motif_instance instead.\n",
      "WARNING:root:Position weights are not defined. Randomly choosing position to implant motif_instance instead.\n",
      "WARNING:root:Position weights are not defined. Randomly choosing position to implant motif_instance instead.\n",
      "WARNING:root:Position weights are not defined. Randomly choosing position to implant motif_instance instead.\n",
      "WARNING:root:Position weights are not defined. Randomly choosing position to implant motif_instance instead.\n",
      "WARNING:root:Position weights are not defined. Randomly choosing position to implant motif_instance instead.\n",
      "WARNING:root:Position weights are not defined. Randomly choosing position to implant motif_instance instead.\n",
      "WARNING:root:Position weights are not defined. Randomly choosing position to implant motif_instance instead.\n",
      "WARNING:root:Position weights are not defined. Randomly choosing position to implant motif_instance instead.\n",
      "WARNING:root:Position weights are not defined. Randomly choosing position to implant motif_instance instead.\n",
      "WARNING:root:Position weights are not defined. Randomly choosing position to implant motif_instance instead.\n",
      "WARNING:root:Position weights are not defined. Randomly choosing position to implant motif_instance instead.\n",
      "WARNING:root:Position weights are not defined. Randomly choosing position to implant motif_instance instead.\n",
      "WARNING:root:Position weights are not defined. Randomly choosing position to implant motif_instance instead.\n",
      "WARNING:root:Position weights are not defined. Randomly choosing position to implant motif_instance instead.\n",
      "WARNING:root:Position weights are not defined. Randomly choosing position to implant motif_instance instead.\n",
      "WARNING:root:Position weights are not defined. Randomly choosing position to implant motif_instance instead.\n",
      "WARNING:root:Position weights are not defined. Randomly choosing position to implant motif_instance instead.\n",
      "WARNING:root:Position weights are not defined. Randomly choosing position to implant motif_instance instead.\n",
      "WARNING:root:Position weights are not defined. Randomly choosing position to implant motif_instance instead.\n",
      "WARNING:root:Position weights are not defined. Randomly choosing position to implant motif_instance instead.\n",
      "WARNING:root:Position weights are not defined. Randomly choosing position to implant motif_instance instead.\n",
      "WARNING:root:Position weights are not defined. Randomly choosing position to implant motif_instance instead.\n",
      "WARNING:root:Position weights are not defined. Randomly choosing position to implant motif_instance instead.\n",
      "WARNING:root:Position weights are not defined. Randomly choosing position to implant motif_instance instead.\n",
      "WARNING:root:Position weights are not defined. Randomly choosing position to implant motif_instance instead.\n",
      "WARNING:root:Position weights are not defined. Randomly choosing position to implant motif_instance instead.\n",
      "WARNING:root:Position weights are not defined. Randomly choosing position to implant motif_instance instead.\n",
      "WARNING:root:Position weights are not defined. Randomly choosing position to implant motif_instance instead.\n",
      "WARNING:root:Position weights are not defined. Randomly choosing position to implant motif_instance instead.\n",
      "WARNING:root:Position weights are not defined. Randomly choosing position to implant motif_instance instead.\n",
      "WARNING:root:Position weights are not defined. Randomly choosing position to implant motif_instance instead.\n",
      "WARNING:root:Position weights are not defined. Randomly choosing position to implant motif_instance instead.\n",
      "WARNING:root:Position weights are not defined. Randomly choosing position to implant motif_instance instead.\n",
      "WARNING:root:Position weights are not defined. Randomly choosing position to implant motif_instance instead.\n",
      "WARNING:root:Position weights are not defined. Randomly choosing position to implant motif_instance instead.\n",
      "WARNING:root:Position weights are not defined. Randomly choosing position to implant motif_instance instead.\n",
      "WARNING:root:Position weights are not defined. Randomly choosing position to implant motif_instance instead.\n",
      "WARNING:root:Position weights are not defined. Randomly choosing position to implant motif_instance instead.\n",
      "WARNING:root:Position weights are not defined. Randomly choosing position to implant motif_instance instead.\n",
      "WARNING:root:Position weights are not defined. Randomly choosing position to implant motif_instance instead.\n",
      "WARNING:root:Position weights are not defined. Randomly choosing position to implant motif_instance instead.\n",
      "WARNING:root:Position weights are not defined. Randomly choosing position to implant motif_instance instead.\n",
      "WARNING:root:Position weights are not defined. Randomly choosing position to implant motif_instance instead.\n",
      "WARNING:root:Position weights are not defined. Randomly choosing position to implant motif_instance instead.\n",
      "WARNING:root:Position weights are not defined. Randomly choosing position to implant motif_instance instead.\n",
      "WARNING:root:Position weights are not defined. Randomly choosing position to implant motif_instance instead.\n",
      "WARNING:root:Position weights are not defined. Randomly choosing position to implant motif_instance instead.\n",
      "WARNING:root:Position weights are not defined. Randomly choosing position to implant motif_instance instead.\n",
      "WARNING:root:Position weights are not defined. Randomly choosing position to implant motif_instance instead.\n",
      "WARNING:root:Position weights are not defined. Randomly choosing position to implant motif_instance instead.\n",
      "WARNING:root:Position weights are not defined. Randomly choosing position to implant motif_instance instead.\n",
      "WARNING:root:Position weights are not defined. Randomly choosing position to implant motif_instance instead.\n",
      "WARNING:root:Position weights are not defined. Randomly choosing position to implant motif_instance instead.\n",
      "WARNING:root:Position weights are not defined. Randomly choosing position to implant motif_instance instead.\n",
      "WARNING:root:Position weights are not defined. Randomly choosing position to implant motif_instance instead.\n",
      "WARNING:root:Position weights are not defined. Randomly choosing position to implant motif_instance instead.\n",
      "WARNING:root:Position weights are not defined. Randomly choosing position to implant motif_instance instead.\n",
      "WARNING:root:Position weights are not defined. Randomly choosing position to implant motif_instance instead.\n",
      "WARNING:root:Position weights are not defined. Randomly choosing position to implant motif_instance instead.\n",
      "WARNING:root:Position weights are not defined. Randomly choosing position to implant motif_instance instead.\n",
      "WARNING:root:Position weights are not defined. Randomly choosing position to implant motif_instance instead.\n",
      "WARNING:root:Position weights are not defined. Randomly choosing position to implant motif_instance instead.\n",
      "WARNING:root:Position weights are not defined. Randomly choosing position to implant motif_instance instead.\n",
      "WARNING:root:Position weights are not defined. Randomly choosing position to implant motif_instance instead.\n",
      "WARNING:root:Position weights are not defined. Randomly choosing position to implant motif_instance instead.\n",
      "WARNING:root:Position weights are not defined. Randomly choosing position to implant motif_instance instead.\n",
      "WARNING:root:Position weights are not defined. Randomly choosing position to implant motif_instance instead.\n",
      "WARNING:root:Position weights are not defined. Randomly choosing position to implant motif_instance instead.\n",
      "WARNING:root:Position weights are not defined. Randomly choosing position to implant motif_instance instead.\n",
      "WARNING:root:Position weights are not defined. Randomly choosing position to implant motif_instance instead.\n",
      "WARNING:root:Position weights are not defined. Randomly choosing position to implant motif_instance instead.\n",
      "WARNING:root:Position weights are not defined. Randomly choosing position to implant motif_instance instead.\n",
      "WARNING:root:Position weights are not defined. Randomly choosing position to implant motif_instance instead.\n",
      "WARNING:root:Position weights are not defined. Randomly choosing position to implant motif_instance instead.\n",
      "WARNING:root:Position weights are not defined. Randomly choosing position to implant motif_instance instead.\n",
      "WARNING:root:Position weights are not defined. Randomly choosing position to implant motif_instance instead.\n",
      "WARNING:root:Position weights are not defined. Randomly choosing position to implant motif_instance instead.\n",
      "WARNING:root:Position weights are not defined. Randomly choosing position to implant motif_instance instead.\n",
      "WARNING:root:Position weights are not defined. Randomly choosing position to implant motif_instance instead.\n",
      "WARNING:root:Position weights are not defined. Randomly choosing position to implant motif_instance instead.\n",
      "WARNING:root:Position weights are not defined. Randomly choosing position to implant motif_instance instead.\n",
      "WARNING:root:Position weights are not defined. Randomly choosing position to implant motif_instance instead.\n",
      "WARNING:root:Position weights are not defined. Randomly choosing position to implant motif_instance instead.\n",
      "WARNING:root:Position weights are not defined. Randomly choosing position to implant motif_instance instead.\n",
      "WARNING:root:Position weights are not defined. Randomly choosing position to implant motif_instance instead.\n",
      "WARNING:root:Position weights are not defined. Randomly choosing position to implant motif_instance instead.\n"
     ]
    }
   ],
   "source": [
    "\n",
    "new_dataset = SignalImplanter.run(input_params)\n"
   ]
  },
  {
   "cell_type": "code",
   "execution_count": 52,
   "metadata": {},
   "outputs": [
    {
     "data": {
      "text/plain": [
       "WindowsPath('C:/Users/Karthik/.conda/envs/uni/lib/site-packages/test/tmp/random_repertoire_dataset_generation')"
      ]
     },
     "execution_count": 52,
     "metadata": {},
     "output_type": "execute_result"
    }
   ],
   "source": [
    "path"
   ]
  },
  {
   "cell_type": "code",
   "execution_count": 53,
   "metadata": {},
   "outputs": [],
   "source": [
    "import datetime\n",
    "from collections import Counter\n",
    "from pathlib import Path\n",
    "\n",
    "import pandas as pd\n",
    "\n",
    "from immuneML.IO.ml_method.MLExporter import MLExporter\n",
    "from immuneML.environment.LabelConfiguration import LabelConfiguration\n",
    "from immuneML.hyperparameter_optimization.config.SplitConfig import SplitConfig\n",
    "from immuneML.hyperparameter_optimization.config.SplitType import SplitType\n",
    "from immuneML.hyperparameter_optimization.core.HPAssessment import HPAssessment\n",
    "from immuneML.hyperparameter_optimization.core.HPUtil import HPUtil\n",
    "from immuneML.hyperparameter_optimization.states.TrainMLModelState import TrainMLModelState\n",
    "from immuneML.hyperparameter_optimization.strategy.HPOptimizationStrategy import HPOptimizationStrategy\n",
    "from immuneML.ml_metrics.Metric import Metric\n",
    "from immuneML.reports.train_ml_model_reports.TrainMLModelReport import TrainMLModelReport\n",
    "from immuneML.util.ReflectionHandler import ReflectionHandler\n",
    "from immuneML.workflows.instructions.Instruction import Instruction\n",
    "from immuneML.workflows.instructions.MLProcess import MLProcess\n",
    "from scripts.specification_util import update_docs_per_mapping\n"
   ]
  },
  {
   "cell_type": "code",
   "execution_count": 54,
   "metadata": {},
   "outputs": [],
   "source": [
    "import os\n",
    "import shutil\n",
    "from unittest import TestCase\n",
    "\n",
    "import numpy as np\n",
    "\n",
    "from immuneML.caching.CacheType import CacheType\n",
    "from immuneML.data_model.dataset.RepertoireDataset import RepertoireDataset\n",
    "from immuneML.data_model.encoded_data.EncodedData import EncodedData\n",
    "from immuneML.environment.Constants import Constants\n",
    "from immuneML.environment.EnvironmentSettings import EnvironmentSettings\n",
    "from immuneML.ml_methods.LogisticRegression import LogisticRegression\n",
    "from immuneML.workflows.steps.MLMethodTrainer import MLMethodTrainer\n",
    "from immuneML.workflows.steps.MLMethodTrainerParams import MLMethodTrainerParams\n"
   ]
  },
  {
   "cell_type": "code",
   "execution_count": 55,
   "metadata": {},
   "outputs": [],
   "source": [
    "from immuneML.encodings.kmer_frequency.KmerFrequencyEncoder import KmerFrequencyEncoder\n"
   ]
  },
  {
   "cell_type": "code",
   "execution_count": null,
   "metadata": {},
   "outputs": [],
   "source": [
    "# from immuneML.encodings.kmer_frequency.KmerFreqRepertoireEncoder import KmerFreqRepertoireEncoder"
   ]
  },
  {
   "cell_type": "code",
   "execution_count": 68,
   "metadata": {},
   "outputs": [],
   "source": [
    "ml_method = LogisticRegression({\"C\" : 0.1,\n",
    "                               \"penalty\": \"l1\",\n",
    "                               \"max_iter\": 200})\n",
    "\n",
    "dataset = new_dataset\n",
    "\n",
    "encoder = KmerFrequencyEncoder\n"
   ]
  },
  {
   "cell_type": "code",
   "execution_count": 326,
   "metadata": {},
   "outputs": [],
   "source": [
    "from immuneML.hyperparameter_optimization.HPSetting import HPSetting\n",
    "from immuneML.encodings.kmer_frequency.KmerFreqRepertoireEncoder import KmerFreqRepertoireEncoder\n",
    "from immuneML.encodings.kmer_frequency.KmerFrequencyEncoder import KmerFrequencyEncoder\n",
    "\n",
    "from immuneML.encodings.kmer_frequency.ReadsType import ReadsType\n",
    "from immuneML.encodings.kmer_frequency.sequence_encoding.SequenceEncodingType import SequenceEncodingType\n",
    "from immuneML.analysis.data_manipulation.NormalizationType import NormalizationType\n",
    "Hpsetting1 = HPSetting(encoder=KmerFrequencyEncoder, encoder_params={\"k\":2, \"reads\": ReadsType.UNIQUE, \"sequence_encoding\": SequenceEncodingType.GAPPED_KMER, \"normalization_type\" : NormalizationType.RELATIVE_FREQUENCY}, ml_method=LogisticRegression({\"C\": 0.1, \"penalty\": \"l1\", \"max_iter\": 200}), ml_params={}, preproc_sequence=[], encoder_name=\"e1\", ml_method_name=\"simpleLR\")\n"
   ]
  },
  {
   "cell_type": "code",
   "execution_count": 327,
   "metadata": {},
   "outputs": [],
   "source": [
    "Hpsetting2 = HPSetting(encoder=KmerFrequencyEncoder, encoder_params={\n",
    "                       \"k\": 2, \"reads\": ReadsType.UNIQUE, \"sequence_encoding\": SequenceEncodingType.GAPPED_KMER, \"normalization_type\": NormalizationType.RELATIVE_FREQUENCY}, ml_method=LogisticRegression({\"C\": 0.1, \"penalty\": \"l1\", \"max_iter\": 200}), ml_params={}, preproc_sequence=[], encoder_name=\"e2\", ml_method_name=\"simpleLR\")\n"
   ]
  },
  {
   "cell_type": "code",
   "execution_count": 110,
   "metadata": {},
   "outputs": [],
   "source": [
    "from immuneML.hyperparameter_optimization.core.HPUtil import HPUtil"
   ]
  },
  {
   "cell_type": "code",
   "execution_count": 64,
   "metadata": {},
   "outputs": [],
   "source": [
    "from immuneML.hyperparameter_optimization.strategy.GridSearch import GridSearch"
   ]
  },
  {
   "cell_type": "code",
   "execution_count": 102,
   "metadata": {},
   "outputs": [],
   "source": [
    "HPStrategy = GridSearch(hp_settings=[Hpsetting1,Hpsetting2])"
   ]
  },
  {
   "cell_type": "code",
   "execution_count": 118,
   "metadata": {},
   "outputs": [],
   "source": [
    "from immuneML.hyperparameter_optimization.config.ReportConfig import ReportConfig\n"
   ]
  },
  {
   "cell_type": "code",
   "execution_count": 127,
   "metadata": {},
   "outputs": [],
   "source": [
    "datasplits = {\n",
    "    \"SequenceLengthDistribution\": {\n",
    "        \"batch_size\": 3\n",
    "    }\n",
    "}\n"
   ]
  },
  {
   "cell_type": "code",
   "execution_count": 128,
   "metadata": {},
   "outputs": [
    {
     "data": {
      "text/plain": [
       "dict"
      ]
     },
     "execution_count": 128,
     "metadata": {},
     "output_type": "execute_result"
    }
   ],
   "source": [
    "type(datasplits)"
   ]
  },
  {
   "cell_type": "code",
   "execution_count": 129,
   "metadata": {},
   "outputs": [],
   "source": [
    "models1= {\"coef\": \"Coefficients\"}\n"
   ]
  },
  {
   "cell_type": "code",
   "execution_count": 130,
   "metadata": {},
   "outputs": [
    {
     "data": {
      "text/plain": [
       "dict"
      ]
     },
     "execution_count": 130,
     "metadata": {},
     "output_type": "execute_result"
    }
   ],
   "source": [
    "type(models1)"
   ]
  },
  {
   "cell_type": "code",
   "execution_count": 183,
   "metadata": {},
   "outputs": [],
   "source": [
    "reportconfig1 = ReportConfig(\n",
    "    data_splits= datasplits, models= models1)\n"
   ]
  },
  {
   "cell_type": "code",
   "execution_count": 184,
   "metadata": {},
   "outputs": [],
   "source": [
    "reportconfig2 = ReportConfig(\n",
    "    data_splits= datasplits)\n"
   ]
  },
  {
   "cell_type": "code",
   "execution_count": 185,
   "metadata": {},
   "outputs": [],
   "source": [
    "from immuneML.hyperparameter_optimization.config.SplitConfig import SplitConfig"
   ]
  },
  {
   "cell_type": "code",
   "execution_count": 193,
   "metadata": {},
   "outputs": [],
   "source": [
    "split_config_assesment = SplitConfig(split_strategy=SplitType.RANDOM,split_count= 1 , training_percentage= 0.7 , reports= reportconfig1 )"
   ]
  },
  {
   "cell_type": "code",
   "execution_count": 194,
   "metadata": {},
   "outputs": [],
   "source": [
    "split_config_selection = SplitConfig(\n",
    "    split_strategy=SplitType.RANDOM, split_count=1, training_percentage=.07, reports=reportconfig2)\n"
   ]
  },
  {
   "cell_type": "code",
   "execution_count": 136,
   "metadata": {},
   "outputs": [],
   "source": [
    "from immuneML.environment.LabelConfiguration import LabelConfiguration"
   ]
  },
  {
   "cell_type": "code",
   "execution_count": 138,
   "metadata": {},
   "outputs": [],
   "source": [
    "from immuneML.environment.Label import Label"
   ]
  },
  {
   "cell_type": "code",
   "execution_count": 140,
   "metadata": {},
   "outputs": [],
   "source": [
    "label = LabelConfiguration(labels = [Label(\"my_signal\")])"
   ]
  },
  {
   "cell_type": "code",
   "execution_count": 141,
   "metadata": {},
   "outputs": [],
   "source": [
    "from immuneML.ml_metrics.Metric import Metric"
   ]
  },
  {
   "cell_type": "code",
   "execution_count": 265,
   "metadata": {},
   "outputs": [],
   "source": [
    "metrics = Metric.ACCURACY"
   ]
  },
  {
   "cell_type": "code",
   "execution_count": 266,
   "metadata": {},
   "outputs": [
    {
     "data": {
      "text/plain": [
       "True"
      ]
     },
     "execution_count": 266,
     "metadata": {},
     "output_type": "execute_result"
    }
   ],
   "source": [
    "isinstance(metrics, Metric)"
   ]
  },
  {
   "cell_type": "code",
   "execution_count": 267,
   "metadata": {},
   "outputs": [
    {
     "data": {
      "text/plain": [
       "<enum 'Metric'>"
      ]
     },
     "execution_count": 267,
     "metadata": {},
     "output_type": "execute_result"
    }
   ],
   "source": [
    "type(metrics)"
   ]
  },
  {
   "cell_type": "code",
   "execution_count": 268,
   "metadata": {},
   "outputs": [],
   "source": [
    "optimisatization_metric = Metric.BALANCED_ACCURACY"
   ]
  },
  {
   "cell_type": "code",
   "execution_count": 260,
   "metadata": {},
   "outputs": [
    {
     "data": {
      "text/plain": [
       "<enum 'Metric'>"
      ]
     },
     "execution_count": 260,
     "metadata": {},
     "output_type": "execute_result"
    }
   ],
   "source": [
    "type(optimisatization_metric)"
   ]
  },
  {
   "cell_type": "code",
   "execution_count": 144,
   "metadata": {},
   "outputs": [],
   "source": [
    "from immuneML.reports.train_ml_model_reports.MLSettingsPerformance import MLSettingsPerformance\n",
    "\n",
    "\n",
    "\n",
    "reports = [MLSettingsPerformance]"
   ]
  },
  {
   "cell_type": "markdown",
   "metadata": {},
   "source": []
  },
  {
   "cell_type": "code",
   "execution_count": 161,
   "metadata": {},
   "outputs": [],
   "source": [
    "number_of_processes = 3\n",
    "\n",
    "refit_optimal_model = True\n"
   ]
  },
  {
   "cell_type": "code",
   "execution_count": 146,
   "metadata": {},
   "outputs": [],
   "source": [
    "from immuneML.workflows.instructions.TrainMLModelInstruction import TrainMLModelInstruction"
   ]
  },
  {
   "cell_type": "code",
   "execution_count": 147,
   "metadata": {},
   "outputs": [
    {
     "ename": "NameError",
     "evalue": "name 'TrainMLModelInstructions' is not defined",
     "output_type": "error",
     "traceback": [
      "\u001b[1;31m---------------------------------------------------------------------------\u001b[0m",
      "\u001b[1;31mNameError\u001b[0m                                 Traceback (most recent call last)",
      "\u001b[1;32m~\\AppData\\Local\\Temp/ipykernel_13732/1720958261.py\u001b[0m in \u001b[0;36m<module>\u001b[1;34m\u001b[0m\n\u001b[1;32m----> 1\u001b[1;33m \u001b[0mstate\u001b[0m \u001b[1;33m=\u001b[0m \u001b[0mTrainMLModelInstructions\u001b[0m\u001b[1;33m(\u001b[0m\u001b[1;33m)\u001b[0m\u001b[1;33m\u001b[0m\u001b[1;33m\u001b[0m\u001b[0m\n\u001b[0m",
      "\u001b[1;31mNameError\u001b[0m: name 'TrainMLModelInstructions' is not defined"
     ]
    }
   ],
   "source": [
    "state = TrainMLModelInstructions()"
   ]
  },
  {
   "cell_type": "markdown",
   "metadata": {},
   "source": [
    "# HP_split"
   ]
  },
  {
   "cell_type": "code",
   "execution_count": 199,
   "metadata": {},
   "outputs": [],
   "source": [
    "train_val_datasets , test_datasets  = HPUtil.split_data(new_dataset , split_config_assesment , path , label )"
   ]
  },
  {
   "cell_type": "code",
   "execution_count": 203,
   "metadata": {},
   "outputs": [
    {
     "data": {
      "text/plain": [
       "immuneML.data_model.dataset.RepertoireDataset.RepertoireDataset"
      ]
     },
     "execution_count": 203,
     "metadata": {},
     "output_type": "execute_result"
    }
   ],
   "source": [
    "type(new_dataset)"
   ]
  },
  {
   "cell_type": "code",
   "execution_count": 200,
   "metadata": {},
   "outputs": [],
   "source": [
    "nsplits = len(train_val_datasets)"
   ]
  },
  {
   "cell_type": "code",
   "execution_count": 202,
   "metadata": {},
   "outputs": [
    {
     "data": {
      "text/plain": [
       "1"
      ]
     },
     "execution_count": 202,
     "metadata": {},
     "output_type": "execute_result"
    }
   ],
   "source": [
    "nsplits"
   ]
  },
  {
   "cell_type": "code",
   "execution_count": 153,
   "metadata": {},
   "outputs": [
    {
     "data": {
      "text/plain": [
       "[<immuneML.data_model.dataset.RepertoireDataset.RepertoireDataset at 0x1cfe14b3e80>]"
      ]
     },
     "execution_count": 153,
     "metadata": {},
     "output_type": "execute_result"
    }
   ],
   "source": [
    "train_val_datasets"
   ]
  },
  {
   "cell_type": "code",
   "execution_count": 152,
   "metadata": {},
   "outputs": [
    {
     "data": {
      "text/plain": [
       "[<immuneML.data_model.dataset.RepertoireDataset.RepertoireDataset at 0x1cfe17a7370>]"
      ]
     },
     "execution_count": 152,
     "metadata": {},
     "output_type": "execute_result"
    }
   ],
   "source": [
    "test_datasets"
   ]
  },
  {
   "cell_type": "markdown",
   "metadata": {},
   "source": []
  },
  {
   "cell_type": "code",
   "execution_count": 155,
   "metadata": {},
   "outputs": [
    {
     "data": {
      "text/plain": [
       "<immuneML.data_model.dataset.RepertoireDataset.RepertoireDataset at 0x1cfe15b15b0>"
      ]
     },
     "execution_count": 155,
     "metadata": {},
     "output_type": "execute_result"
    }
   ],
   "source": [
    "dataset"
   ]
  },
  {
   "cell_type": "code",
   "execution_count": 158,
   "metadata": {},
   "outputs": [
    {
     "data": {
      "text/plain": [
       "[<immuneML.data_model.repertoire.Repertoire.Repertoire at 0x1cfe173b460>,\n",
       " <immuneML.data_model.repertoire.Repertoire.Repertoire at 0x1cfe173ba90>,\n",
       " <immuneML.data_model.repertoire.Repertoire.Repertoire at 0x1cfe16b38b0>,\n",
       " <immuneML.data_model.repertoire.Repertoire.Repertoire at 0x1cfe16b3c40>,\n",
       " <immuneML.data_model.repertoire.Repertoire.Repertoire at 0x1cfe16b3040>,\n",
       " <immuneML.data_model.repertoire.Repertoire.Repertoire at 0x1cfe14f8cd0>,\n",
       " <immuneML.data_model.repertoire.Repertoire.Repertoire at 0x1cfe1700610>,\n",
       " <immuneML.data_model.repertoire.Repertoire.Repertoire at 0x1cfe1734ac0>,\n",
       " <immuneML.data_model.repertoire.Repertoire.Repertoire at 0x1cfe16131f0>,\n",
       " <immuneML.data_model.repertoire.Repertoire.Repertoire at 0x1cfe16b5340>,\n",
       " <immuneML.data_model.repertoire.Repertoire.Repertoire at 0x1cfe16b3790>,\n",
       " <immuneML.data_model.repertoire.Repertoire.Repertoire at 0x1cfe1613640>,\n",
       " <immuneML.data_model.repertoire.Repertoire.Repertoire at 0x1cfe1618700>,\n",
       " <immuneML.data_model.repertoire.Repertoire.Repertoire at 0x1cfe168d760>,\n",
       " <immuneML.data_model.repertoire.Repertoire.Repertoire at 0x1cfe1618d90>,\n",
       " <immuneML.data_model.repertoire.Repertoire.Repertoire at 0x1cfe1603940>,\n",
       " <immuneML.data_model.repertoire.Repertoire.Repertoire at 0x1cfe1734d30>,\n",
       " <immuneML.data_model.repertoire.Repertoire.Repertoire at 0x1cfe160a250>,\n",
       " <immuneML.data_model.repertoire.Repertoire.Repertoire at 0x1cfe162f2e0>,\n",
       " <immuneML.data_model.repertoire.Repertoire.Repertoire at 0x1cfe1626490>,\n",
       " <immuneML.data_model.repertoire.Repertoire.Repertoire at 0x1cfe1632280>,\n",
       " <immuneML.data_model.repertoire.Repertoire.Repertoire at 0x1cfe1632d30>,\n",
       " <immuneML.data_model.repertoire.Repertoire.Repertoire at 0x1cfe14f8940>,\n",
       " <immuneML.data_model.repertoire.Repertoire.Repertoire at 0x1cfe1623d90>,\n",
       " <immuneML.data_model.repertoire.Repertoire.Repertoire at 0x1cfe177c490>,\n",
       " <immuneML.data_model.repertoire.Repertoire.Repertoire at 0x1cfe1528c10>,\n",
       " <immuneML.data_model.repertoire.Repertoire.Repertoire at 0x1cfe162f8e0>,\n",
       " <immuneML.data_model.repertoire.Repertoire.Repertoire at 0x1cfe177cbe0>,\n",
       " <immuneML.data_model.repertoire.Repertoire.Repertoire at 0x1cfe1752f40>,\n",
       " <immuneML.data_model.repertoire.Repertoire.Repertoire at 0x1cfe1752160>,\n",
       " <immuneML.data_model.repertoire.Repertoire.Repertoire at 0x1cfe175a220>,\n",
       " <immuneML.data_model.repertoire.Repertoire.Repertoire at 0x1cfe175abb0>,\n",
       " <immuneML.data_model.repertoire.Repertoire.Repertoire at 0x1cfe1753a30>,\n",
       " <immuneML.data_model.repertoire.Repertoire.Repertoire at 0x1cfe174a820>,\n",
       " <immuneML.data_model.repertoire.Repertoire.Repertoire at 0x1cfe176d2e0>,\n",
       " <immuneML.data_model.repertoire.Repertoire.Repertoire at 0x1cfe17527c0>,\n",
       " <immuneML.data_model.repertoire.Repertoire.Repertoire at 0x1cfe1632850>,\n",
       " <immuneML.data_model.repertoire.Repertoire.Repertoire at 0x1cfe1779910>,\n",
       " <immuneML.data_model.repertoire.Repertoire.Repertoire at 0x1cfe174a580>,\n",
       " <immuneML.data_model.repertoire.Repertoire.Repertoire at 0x1cfe1747af0>,\n",
       " <immuneML.data_model.repertoire.Repertoire.Repertoire at 0x1cfe15c4eb0>,\n",
       " <immuneML.data_model.repertoire.Repertoire.Repertoire at 0x1cfe17477f0>,\n",
       " <immuneML.data_model.repertoire.Repertoire.Repertoire at 0x1cfe162f4f0>,\n",
       " <immuneML.data_model.repertoire.Repertoire.Repertoire at 0x1cfe1623e20>,\n",
       " <immuneML.data_model.repertoire.Repertoire.Repertoire at 0x1cfe17a7550>,\n",
       " <immuneML.data_model.repertoire.Repertoire.Repertoire at 0x1cfe1747b50>,\n",
       " <immuneML.data_model.repertoire.Repertoire.Repertoire at 0x1cfe1747f40>,\n",
       " <immuneML.data_model.repertoire.Repertoire.Repertoire at 0x1cfe1632be0>,\n",
       " <immuneML.data_model.repertoire.Repertoire.Repertoire at 0x1cfe1747970>,\n",
       " <immuneML.data_model.repertoire.Repertoire.Repertoire at 0x1cfe179ac10>,\n",
       " <immuneML.data_model.repertoire.Repertoire.Repertoire at 0x1cfe176a790>,\n",
       " <immuneML.data_model.repertoire.Repertoire.Repertoire at 0x1cfe14e5df0>,\n",
       " <immuneML.data_model.repertoire.Repertoire.Repertoire at 0x1cfe1603a00>,\n",
       " <immuneML.data_model.repertoire.Repertoire.Repertoire at 0x1cfe14ed6a0>,\n",
       " <immuneML.data_model.repertoire.Repertoire.Repertoire at 0x1cfe1747250>,\n",
       " <immuneML.data_model.repertoire.Repertoire.Repertoire at 0x1cfe174a7f0>,\n",
       " <immuneML.data_model.repertoire.Repertoire.Repertoire at 0x1cfe150f9d0>,\n",
       " <immuneML.data_model.repertoire.Repertoire.Repertoire at 0x1cfe1747040>,\n",
       " <immuneML.data_model.repertoire.Repertoire.Repertoire at 0x1cfe14edb80>,\n",
       " <immuneML.data_model.repertoire.Repertoire.Repertoire at 0x1cfe1618e50>,\n",
       " <immuneML.data_model.repertoire.Repertoire.Repertoire at 0x1cfe1618790>,\n",
       " <immuneML.data_model.repertoire.Repertoire.Repertoire at 0x1cfe1618970>,\n",
       " <immuneML.data_model.repertoire.Repertoire.Repertoire at 0x1cfe1618160>,\n",
       " <immuneML.data_model.repertoire.Repertoire.Repertoire at 0x1cfe1618fa0>,\n",
       " <immuneML.data_model.repertoire.Repertoire.Repertoire at 0x1cfe1747df0>,\n",
       " <immuneML.data_model.repertoire.Repertoire.Repertoire at 0x1cfe1700130>,\n",
       " <immuneML.data_model.repertoire.Repertoire.Repertoire at 0x1cfe1752c10>,\n",
       " <immuneML.data_model.repertoire.Repertoire.Repertoire at 0x1cfe1747760>,\n",
       " <immuneML.data_model.repertoire.Repertoire.Repertoire at 0x1cfe176d190>,\n",
       " <immuneML.data_model.repertoire.Repertoire.Repertoire at 0x1cfe176d580>,\n",
       " <immuneML.data_model.repertoire.Repertoire.Repertoire at 0x1cfe1747a90>,\n",
       " <immuneML.data_model.repertoire.Repertoire.Repertoire at 0x1cfe176dee0>,\n",
       " <immuneML.data_model.repertoire.Repertoire.Repertoire at 0x1cfe1747100>,\n",
       " <immuneML.data_model.repertoire.Repertoire.Repertoire at 0x1cfe1618af0>,\n",
       " <immuneML.data_model.repertoire.Repertoire.Repertoire at 0x1cfe1747880>,\n",
       " <immuneML.data_model.repertoire.Repertoire.Repertoire at 0x1cfe15288e0>,\n",
       " <immuneML.data_model.repertoire.Repertoire.Repertoire at 0x1cfe1734dc0>,\n",
       " <immuneML.data_model.repertoire.Repertoire.Repertoire at 0x1cfe1747eb0>,\n",
       " <immuneML.data_model.repertoire.Repertoire.Repertoire at 0x1cfe1623700>,\n",
       " <immuneML.data_model.repertoire.Repertoire.Repertoire at 0x1cfe1747610>,\n",
       " <immuneML.data_model.repertoire.Repertoire.Repertoire at 0x1cfe1747ee0>,\n",
       " <immuneML.data_model.repertoire.Repertoire.Repertoire at 0x1cfe16234f0>,\n",
       " <immuneML.data_model.repertoire.Repertoire.Repertoire at 0x1cfe16232b0>,\n",
       " <immuneML.data_model.repertoire.Repertoire.Repertoire at 0x1cfe1747e20>,\n",
       " <immuneML.data_model.repertoire.Repertoire.Repertoire at 0x1cfe1623040>,\n",
       " <immuneML.data_model.repertoire.Repertoire.Repertoire at 0x1cfe177cf10>,\n",
       " <immuneML.data_model.repertoire.Repertoire.Repertoire at 0x1cfe1747850>,\n",
       " <immuneML.data_model.repertoire.Repertoire.Repertoire at 0x1cfe17470a0>,\n",
       " <immuneML.data_model.repertoire.Repertoire.Repertoire at 0x1cfe1747580>,\n",
       " <immuneML.data_model.repertoire.Repertoire.Repertoire at 0x1cfe1747be0>,\n",
       " <immuneML.data_model.repertoire.Repertoire.Repertoire at 0x1cfe177ce20>,\n",
       " <immuneML.data_model.repertoire.Repertoire.Repertoire at 0x1cfe1618a60>,\n",
       " <immuneML.data_model.repertoire.Repertoire.Repertoire at 0x1cfe177c790>,\n",
       " <immuneML.data_model.repertoire.Repertoire.Repertoire at 0x1cfe1718640>,\n",
       " <immuneML.data_model.repertoire.Repertoire.Repertoire at 0x1cfe1747160>,\n",
       " <immuneML.data_model.repertoire.Repertoire.Repertoire at 0x1cfe177cfa0>,\n",
       " <immuneML.data_model.repertoire.Repertoire.Repertoire at 0x1cfe1747d00>,\n",
       " <immuneML.data_model.repertoire.Repertoire.Repertoire at 0x1cfe177c400>,\n",
       " <immuneML.data_model.repertoire.Repertoire.Repertoire at 0x1cfe1626d90>,\n",
       " <immuneML.data_model.repertoire.Repertoire.Repertoire at 0x1cfe17476a0>]"
      ]
     },
     "execution_count": 158,
     "metadata": {},
     "output_type": "execute_result"
    }
   ],
   "source": [
    "new_dataset.get_data()"
   ]
  },
  {
   "cell_type": "code",
   "execution_count": 173,
   "metadata": {},
   "outputs": [
    {
     "data": {
      "text/plain": [
       "<immuneML.data_model.dataset.RepertoireDataset.RepertoireDataset at 0x1cfe15b15b0>"
      ]
     },
     "execution_count": 173,
     "metadata": {},
     "output_type": "execute_result"
    }
   ],
   "source": [
    "dataset"
   ]
  },
  {
   "cell_type": "code",
   "execution_count": 164,
   "metadata": {},
   "outputs": [],
   "source": [
    "state = TrainMLModelState(dataset=dataset, hp_strategy=HPStrategy, hp_settings=[Hpsetting1, Hpsetting2], assessment=split_config_assesment, selection=split_config_selection, metrics = metrics, optimization_metric = optimisatization_metric, label_configuration = label, path = path, refit_optimal_model= refit_optimal_model, number_of_processes= number_of_processes, reports={\"hrep\": MLSettingsPerformance})\n"
   ]
  },
  {
   "cell_type": "code",
   "execution_count": 165,
   "metadata": {},
   "outputs": [],
   "source": [
    "state.name"
   ]
  },
  {
   "cell_type": "code",
   "execution_count": 166,
   "metadata": {},
   "outputs": [
    {
     "data": {
      "text/plain": [
       "WindowsPath('C:/Users/Karthik/.conda/envs/uni/lib/site-packages/test/tmp/random_repertoire_dataset_generation')"
      ]
     },
     "execution_count": 166,
     "metadata": {},
     "output_type": "execute_result"
    }
   ],
   "source": [
    "state.path"
   ]
  },
  {
   "cell_type": "code",
   "execution_count": 167,
   "metadata": {},
   "outputs": [],
   "source": [
    "state = HPAssessment._create_root_path(state)"
   ]
  },
  {
   "cell_type": "code",
   "execution_count": null,
   "metadata": {},
   "outputs": [],
   "source": [
    "for index in range(n)"
   ]
  },
  {
   "cell_type": "code",
   "execution_count": 228,
   "metadata": {},
   "outputs": [],
   "source": [
    "train_val_datasets, test_datasets = HPUtil.split_data(\n",
    "    state.dataset, state.assessment, state.path, state.label_configuration)\n",
    "n_splits = len(train_val_datasets)\n"
   ]
  },
  {
   "cell_type": "code",
   "execution_count": 229,
   "metadata": {},
   "outputs": [
    {
     "data": {
      "text/plain": [
       "1"
      ]
     },
     "execution_count": 229,
     "metadata": {},
     "output_type": "execute_result"
    }
   ],
   "source": [
    "nsplits"
   ]
  },
  {
   "cell_type": "code",
   "execution_count": 230,
   "metadata": {},
   "outputs": [
    {
     "data": {
      "text/plain": [
       "<immuneML.data_model.dataset.RepertoireDataset.RepertoireDataset at 0x1cfe15b15b0>"
      ]
     },
     "execution_count": 230,
     "metadata": {},
     "output_type": "execute_result"
    }
   ],
   "source": [
    "dataset"
   ]
  },
  {
   "cell_type": "code",
   "execution_count": 171,
   "metadata": {},
   "outputs": [
    {
     "data": {
      "text/plain": [
       "immuneML.data_model.dataset.RepertoireDataset.RepertoireDataset"
      ]
     },
     "execution_count": 171,
     "metadata": {},
     "output_type": "execute_result"
    }
   ],
   "source": [
    "type(dataset)"
   ]
  },
  {
   "cell_type": "code",
   "execution_count": 231,
   "metadata": {},
   "outputs": [
    {
     "name": "stdout",
     "output_type": "stream",
     "text": [
      "2022-01-10 15:58:14.158784: Training ML model: running outer CV loop: started split 1/1.\n",
      "\n",
      "2022-01-10 15:58:14.174873: Hyperparameter optimization: running the inner loop of nested CV: selection for label my_signal (label 1 / 1).\n",
      "\n"
     ]
    },
    {
     "ename": "TypeError",
     "evalue": "'Metric' object is not iterable",
     "output_type": "error",
     "traceback": [
      "\u001b[1;31m---------------------------------------------------------------------------\u001b[0m",
      "\u001b[1;31mTypeError\u001b[0m                                 Traceback (most recent call last)",
      "\u001b[1;32m~\\AppData\\Local\\Temp/ipykernel_13732/1629415183.py\u001b[0m in \u001b[0;36m<module>\u001b[1;34m\u001b[0m\n\u001b[0;32m      1\u001b[0m \u001b[1;32mfor\u001b[0m \u001b[0mindex\u001b[0m \u001b[1;32min\u001b[0m \u001b[0mrange\u001b[0m\u001b[1;33m(\u001b[0m\u001b[0mn_splits\u001b[0m\u001b[1;33m)\u001b[0m\u001b[1;33m:\u001b[0m\u001b[1;33m\u001b[0m\u001b[1;33m\u001b[0m\u001b[0m\n\u001b[1;32m----> 2\u001b[1;33m             state = HPAssessment.run_assessment_split(\n\u001b[0m\u001b[0;32m      3\u001b[0m                 state, train_val_datasets[index], test_datasets[index], index, n_splits)\n",
      "\u001b[1;32m~\\.conda\\envs\\uni\\lib\\site-packages\\immuneML\\hyperparameter_optimization\\core\\HPAssessment.py\u001b[0m in \u001b[0;36mrun_assessment_split\u001b[1;34m(state, train_val_dataset, test_dataset, split_index, n_splits)\u001b[0m\n\u001b[0;32m     46\u001b[0m         \u001b[0mstate\u001b[0m\u001b[1;33m.\u001b[0m\u001b[0massessment_states\u001b[0m\u001b[1;33m.\u001b[0m\u001b[0mappend\u001b[0m\u001b[1;33m(\u001b[0m\u001b[0massessment_state\u001b[0m\u001b[1;33m)\u001b[0m\u001b[1;33m\u001b[0m\u001b[1;33m\u001b[0m\u001b[0m\n\u001b[0;32m     47\u001b[0m \u001b[1;33m\u001b[0m\u001b[0m\n\u001b[1;32m---> 48\u001b[1;33m         \u001b[0mstate\u001b[0m \u001b[1;33m=\u001b[0m \u001b[0mHPSelection\u001b[0m\u001b[1;33m.\u001b[0m\u001b[0mrun_selection\u001b[0m\u001b[1;33m(\u001b[0m\u001b[0mstate\u001b[0m\u001b[1;33m,\u001b[0m \u001b[0mtrain_val_dataset\u001b[0m\u001b[1;33m,\u001b[0m \u001b[0mcurrent_path\u001b[0m\u001b[1;33m,\u001b[0m \u001b[0msplit_index\u001b[0m\u001b[1;33m)\u001b[0m\u001b[1;33m\u001b[0m\u001b[1;33m\u001b[0m\u001b[0m\n\u001b[0m\u001b[0;32m     49\u001b[0m         \u001b[0mstate\u001b[0m \u001b[1;33m=\u001b[0m \u001b[0mHPAssessment\u001b[0m\u001b[1;33m.\u001b[0m\u001b[0mrun_assessment_split_per_label\u001b[0m\u001b[1;33m(\u001b[0m\u001b[0mstate\u001b[0m\u001b[1;33m,\u001b[0m \u001b[0msplit_index\u001b[0m\u001b[1;33m)\u001b[0m\u001b[1;33m\u001b[0m\u001b[1;33m\u001b[0m\u001b[0m\n\u001b[0;32m     50\u001b[0m \u001b[1;33m\u001b[0m\u001b[0m\n",
      "\u001b[1;32m~\\.conda\\envs\\uni\\lib\\site-packages\\immuneML\\hyperparameter_optimization\\core\\HPSelection.py\u001b[0m in \u001b[0;36mrun_selection\u001b[1;34m(state, train_val_dataset, current_path, split_index)\u001b[0m\n\u001b[0;32m     40\u001b[0m             \u001b[0mhp_setting\u001b[0m \u001b[1;33m=\u001b[0m \u001b[0mselection_state\u001b[0m\u001b[1;33m.\u001b[0m\u001b[0mhp_strategy\u001b[0m\u001b[1;33m.\u001b[0m\u001b[0mgenerate_next_setting\u001b[0m\u001b[1;33m(\u001b[0m\u001b[1;33m)\u001b[0m\u001b[1;33m\u001b[0m\u001b[1;33m\u001b[0m\u001b[0m\n\u001b[0;32m     41\u001b[0m             \u001b[1;32mwhile\u001b[0m \u001b[0mhp_setting\u001b[0m \u001b[1;32mis\u001b[0m \u001b[1;32mnot\u001b[0m \u001b[1;32mNone\u001b[0m\u001b[1;33m:\u001b[0m\u001b[1;33m\u001b[0m\u001b[1;33m\u001b[0m\u001b[0m\n\u001b[1;32m---> 42\u001b[1;33m                 performance = HPSelection.evaluate_hp_setting(state, hp_setting, train_datasets, val_datasets,\n\u001b[0m\u001b[0;32m     43\u001b[0m                                                               path, label, split_index)\n\u001b[0;32m     44\u001b[0m                 \u001b[0mhp_setting\u001b[0m \u001b[1;33m=\u001b[0m \u001b[0mselection_state\u001b[0m\u001b[1;33m.\u001b[0m\u001b[0mhp_strategy\u001b[0m\u001b[1;33m.\u001b[0m\u001b[0mgenerate_next_setting\u001b[0m\u001b[1;33m(\u001b[0m\u001b[0mhp_setting\u001b[0m\u001b[1;33m,\u001b[0m \u001b[0mperformance\u001b[0m\u001b[1;33m)\u001b[0m\u001b[1;33m\u001b[0m\u001b[1;33m\u001b[0m\u001b[0m\n",
      "\u001b[1;32m~\\.conda\\envs\\uni\\lib\\site-packages\\immuneML\\hyperparameter_optimization\\core\\HPSelection.py\u001b[0m in \u001b[0;36mevaluate_hp_setting\u001b[1;34m(state, hp_setting, train_datasets, val_datasets, current_path, label, assessment_split_index)\u001b[0m\n\u001b[0;32m     57\u001b[0m         \u001b[0mperformances\u001b[0m \u001b[1;33m=\u001b[0m \u001b[1;33m[\u001b[0m\u001b[1;33m]\u001b[0m\u001b[1;33m\u001b[0m\u001b[1;33m\u001b[0m\u001b[0m\n\u001b[0;32m     58\u001b[0m         \u001b[1;32mfor\u001b[0m \u001b[0mindex\u001b[0m \u001b[1;32min\u001b[0m \u001b[0mrange\u001b[0m\u001b[1;33m(\u001b[0m\u001b[0mstate\u001b[0m\u001b[1;33m.\u001b[0m\u001b[0mselection\u001b[0m\u001b[1;33m.\u001b[0m\u001b[0msplit_count\u001b[0m\u001b[1;33m)\u001b[0m\u001b[1;33m:\u001b[0m\u001b[1;33m\u001b[0m\u001b[1;33m\u001b[0m\u001b[0m\n\u001b[1;32m---> 59\u001b[1;33m             performance = HPSelection.run_setting(state, hp_setting, train_datasets[index], val_datasets[index], index + 1,\n\u001b[0m\u001b[0;32m     60\u001b[0m                                                   \u001b[0mcurrent_path\u001b[0m \u001b[1;33m/\u001b[0m \u001b[1;34mf\"split_{index + 1}\"\u001b[0m \u001b[1;33m/\u001b[0m \u001b[1;34mf\"{label}_{hp_setting.get_key()}\"\u001b[0m\u001b[1;33m,\u001b[0m\u001b[1;33m\u001b[0m\u001b[1;33m\u001b[0m\u001b[0m\n\u001b[0;32m     61\u001b[0m                                                   label, assessment_split_index)\n",
      "\u001b[1;32m~\\.conda\\envs\\uni\\lib\\site-packages\\immuneML\\hyperparameter_optimization\\core\\HPSelection.py\u001b[0m in \u001b[0;36mrun_setting\u001b[1;34m(state, hp_setting, train_dataset, val_dataset, split_index, current_path, label, assessment_index)\u001b[0m\n\u001b[0;32m     68\u001b[0m                     current_path: Path, label: str, assessment_index: int):\n\u001b[0;32m     69\u001b[0m \u001b[1;33m\u001b[0m\u001b[0m\n\u001b[1;32m---> 70\u001b[1;33m         hp_item = MLProcess(train_dataset=train_dataset, test_dataset=val_dataset, encoding_reports=state.selection.reports.encoding_reports.values(),\n\u001b[0m\u001b[0;32m     71\u001b[0m                             \u001b[0mlabel_config\u001b[0m\u001b[1;33m=\u001b[0m\u001b[0mLabelConfiguration\u001b[0m\u001b[1;33m(\u001b[0m\u001b[1;33m[\u001b[0m\u001b[0mstate\u001b[0m\u001b[1;33m.\u001b[0m\u001b[0mlabel_configuration\u001b[0m\u001b[1;33m.\u001b[0m\u001b[0mget_label_object\u001b[0m\u001b[1;33m(\u001b[0m\u001b[0mlabel\u001b[0m\u001b[1;33m)\u001b[0m\u001b[1;33m]\u001b[0m\u001b[1;33m)\u001b[0m\u001b[1;33m,\u001b[0m \u001b[0mreport_context\u001b[0m\u001b[1;33m=\u001b[0m\u001b[0mstate\u001b[0m\u001b[1;33m.\u001b[0m\u001b[0mcontext\u001b[0m\u001b[1;33m,\u001b[0m\u001b[1;33m\u001b[0m\u001b[1;33m\u001b[0m\u001b[0m\n\u001b[0;32m     72\u001b[0m                             \u001b[0mnumber_of_processes\u001b[0m\u001b[1;33m=\u001b[0m\u001b[0mstate\u001b[0m\u001b[1;33m.\u001b[0m\u001b[0mnumber_of_processes\u001b[0m\u001b[1;33m,\u001b[0m \u001b[0mmetrics\u001b[0m\u001b[1;33m=\u001b[0m\u001b[0mstate\u001b[0m\u001b[1;33m.\u001b[0m\u001b[0mmetrics\u001b[0m\u001b[1;33m,\u001b[0m \u001b[0moptimization_metric\u001b[0m\u001b[1;33m=\u001b[0m\u001b[0mstate\u001b[0m\u001b[1;33m.\u001b[0m\u001b[0moptimization_metric\u001b[0m\u001b[1;33m,\u001b[0m\u001b[1;33m\u001b[0m\u001b[1;33m\u001b[0m\u001b[0m\n",
      "\u001b[1;32m~\\.conda\\envs\\uni\\lib\\site-packages\\immuneML\\workflows\\instructions\\MLProcess.py\u001b[0m in \u001b[0;36m__init__\u001b[1;34m(self, train_dataset, test_dataset, label, metrics, optimization_metric, path, ml_reports, encoding_reports, data_reports, number_of_processes, label_config, report_context, hp_setting)\u001b[0m\n\u001b[0;32m     41\u001b[0m         \u001b[0mself\u001b[0m\u001b[1;33m.\u001b[0m\u001b[0mreport_path\u001b[0m \u001b[1;33m=\u001b[0m \u001b[0mPathBuilder\u001b[0m\u001b[1;33m.\u001b[0m\u001b[0mbuild\u001b[0m\u001b[1;33m(\u001b[0m\u001b[0mpath\u001b[0m \u001b[1;33m/\u001b[0m \u001b[1;34m\"reports\"\u001b[0m\u001b[1;33m)\u001b[0m \u001b[1;32mif\u001b[0m \u001b[0mpath\u001b[0m \u001b[1;32mis\u001b[0m \u001b[1;32mnot\u001b[0m \u001b[1;32mNone\u001b[0m \u001b[1;32melse\u001b[0m \u001b[1;32mNone\u001b[0m\u001b[1;33m\u001b[0m\u001b[1;33m\u001b[0m\u001b[0m\n\u001b[0;32m     42\u001b[0m         \u001b[0mself\u001b[0m\u001b[1;33m.\u001b[0m\u001b[0mnumber_of_processes\u001b[0m \u001b[1;33m=\u001b[0m \u001b[0mnumber_of_processes\u001b[0m\u001b[1;33m\u001b[0m\u001b[1;33m\u001b[0m\u001b[0m\n\u001b[1;32m---> 43\u001b[1;33m         \u001b[1;32massert\u001b[0m \u001b[0mall\u001b[0m\u001b[1;33m(\u001b[0m\u001b[1;33m[\u001b[0m\u001b[0misinstance\u001b[0m\u001b[1;33m(\u001b[0m\u001b[0mmetric\u001b[0m\u001b[1;33m,\u001b[0m \u001b[0mMetric\u001b[0m\u001b[1;33m)\u001b[0m \u001b[1;32mfor\u001b[0m \u001b[0mmetric\u001b[0m \u001b[1;32min\u001b[0m \u001b[0mmetrics\u001b[0m\u001b[1;33m]\u001b[0m\u001b[1;33m)\u001b[0m\u001b[1;33m,\u001b[0m\u001b[0;31m \u001b[0m\u001b[0;31m\\\u001b[0m\u001b[1;33m\u001b[0m\u001b[1;33m\u001b[0m\u001b[0m\n\u001b[0m\u001b[0;32m     44\u001b[0m             \u001b[1;34m\"MLProcess: metrics are not set to be an instance of Metric.\"\u001b[0m\u001b[1;33m\u001b[0m\u001b[1;33m\u001b[0m\u001b[0m\n\u001b[0;32m     45\u001b[0m         \u001b[0mself\u001b[0m\u001b[1;33m.\u001b[0m\u001b[0mmetrics\u001b[0m \u001b[1;33m=\u001b[0m \u001b[0mmetrics\u001b[0m\u001b[1;33m\u001b[0m\u001b[1;33m\u001b[0m\u001b[0m\n",
      "\u001b[1;31mTypeError\u001b[0m: 'Metric' object is not iterable"
     ]
    }
   ],
   "source": [
    "for index in range(n_splits):\n",
    "            state = HPAssessment.run_assessment_split(\n",
    "                state, train_val_datasets[index], test_datasets[index], index, n_splits)\n"
   ]
  },
  {
   "cell_type": "code",
   "execution_count": 192,
   "metadata": {},
   "outputs": [
    {
     "data": {
      "text/plain": [
       "100"
      ]
     },
     "execution_count": 192,
     "metadata": {},
     "output_type": "execute_result"
    }
   ],
   "source": [
    "dataset.get_example_count()"
   ]
  },
  {
   "cell_type": "code",
   "execution_count": 205,
   "metadata": {},
   "outputs": [
    {
     "data": {
      "text/plain": [
       "['4df51630949e4ac5a5bfdd7df177f3cc',\n",
       " 'ab7117b15aab418aac66d0dba2b99c3f',\n",
       " '24bf074070d74f83bee847b89f8d16d8',\n",
       " '88d0ce7c1e824a7397ed715ab8d3d7fc',\n",
       " 'd2d48977b5564453b235401a1dcf4889',\n",
       " '32aaa4e98042446b81cea0cbd216ca8b',\n",
       " 'd3117bd1c1d74740a83eeae008cf44bf',\n",
       " 'a7386e1a6ea44be5a946fe0264ddceb1',\n",
       " '382533976a3d4296957d7df113eddc81',\n",
       " '31473e71cc404de6b381cb0791fe2dc6',\n",
       " 'fa2798a74cfd4be081382b6cb98debb2',\n",
       " '4fc5b01637894bc9ae10955b0478ced0',\n",
       " 'ddb85fc4e2d44de0ac10542be2859ab6',\n",
       " 'a6a2c67aa2d54674ac91a6a7f41df062',\n",
       " '53e523765d784c09934023463fbdadb5',\n",
       " '0e7e24d4028446b6bfc9747fea41d189',\n",
       " '5007d8466e61475f80e162a17c98e7b3',\n",
       " '74dc7033fbf7483484ec38144190d420',\n",
       " 'ed6a157e361c4eca9d698c0d196bb616',\n",
       " '4f2e18ecbbad47ea8e9132493df5aa72',\n",
       " '8687799db6a8450aa7e303820dbf51ba',\n",
       " '2c00a3d91c7e4ba49675f508bffec4a6',\n",
       " 'e7fd1a9e09514c1e8c69776e2e3225a6',\n",
       " 'db7773ccc8ce4dc796f6ab92a51dc4df',\n",
       " '1c68132a41ff442fb7cbf8c5be0886fa',\n",
       " 'e45584eec7e34b168e7bd9895b6479a8',\n",
       " 'd72909c262e2441ea9ae3012fceba415',\n",
       " '90c2be374da5482c9449e9cd52600b6d',\n",
       " '8f68b7144e9e4c36b895747f7aa8f5ea',\n",
       " '9dba981a1c184e2aba60a372a9a31d71',\n",
       " '857451b1244b457d956e1f62711c66ac',\n",
       " '5c47f00e1d3f4f9f95868acbe3b4f8bf',\n",
       " 'c64492bc93824969b24bedf2efa0b8c2',\n",
       " '12f4068e2d424034b4a6fdd58fed3d06',\n",
       " '62a793aa6a0b46408caad4ff47688617',\n",
       " 'b4e8116a1b484163a195364488e16b26',\n",
       " '3fbeb4c20c8e4215a66f5d3e003c2c05',\n",
       " '9714dc966d7b4d7480ce51c8de09ab70',\n",
       " '7a0b8d8e1a1840bc8c4ef8ef5070f53b',\n",
       " 'd0f45eb0e83d439487698a101ba7636a',\n",
       " 'c9716b60edaa474bb8b3f00827b7d01f',\n",
       " 'f861dd7e390b404d9aa872311cea106d',\n",
       " '3a2061cd827b4df194972a6cc5c255e6',\n",
       " '8c26fb028339404399e6226819ea0dc1',\n",
       " '567f39aaf964417e984e60dd4b2c4eb2',\n",
       " 'bfddb3c7761e4561b28f8a8c8d4f9f43',\n",
       " '739615cea12d4c89bf27f22f09a79d0b',\n",
       " '5883cfac65ea42e69c15d9acbccc586e',\n",
       " 'd7aa4c9527394ac595cb2fc2ebd6eb5f',\n",
       " 'd77fb9140fbf44269d01cc9f1fa7c190',\n",
       " 'ed83064e23e649bebbd2b6fb2ef9502b',\n",
       " 'b0bc40c100ea46fc8a0282d5fb1d7df9',\n",
       " 'd2dc9ea292cd44f094baedc617af67c4',\n",
       " '58113a9248344cd9937a3aa2ac5ebe0d',\n",
       " 'db4592b020bb495a9e144dd97d4206c6',\n",
       " '0c9e32d98b1b4fd88791ac8521fd84c1',\n",
       " '4dffa1018f4a4559a747182b1d661cca',\n",
       " '496c3783f3e84c7e86a2067badf0f78e',\n",
       " 'd41528cfe370468a9cccfca35900721b',\n",
       " '64354f0c5cbb4242a60e986070a661d6',\n",
       " '9811fc8fd1d446e08b4b9e0dc7af96d2',\n",
       " '6c5e02a573454a5e8a7c221142fd2b0e',\n",
       " 'c436c630458e4a3cad819468d9c9e93b',\n",
       " '8eb60ef2b1444312a33e18141a56b602',\n",
       " 'c49d9c5d251f4a57b18ff98d5365ea1c',\n",
       " 'adf0b9d6779240968a777c471738be14',\n",
       " '1e0f87db21f943158c2bbfbcdc041811',\n",
       " 'eb43e623f79c4229ba173ae890b26d20',\n",
       " '600f5e62eabe4cd78f532b5741b9348f',\n",
       " 'e34025c4520045ccb6eba5a747e12d91',\n",
       " '3df4c2995ae84863b8133ffd16f963b4',\n",
       " '4324a817c72b468a9d1ecb2aeb448d4e',\n",
       " '343e15f56f87411f8177b084311c9d19',\n",
       " '4f88e01f4b874d81bbcfffd3b8246037',\n",
       " 'cb2370bf6b5c49e0a273a8cd80687173',\n",
       " '218c02496995457baa00bfba871ae4f9',\n",
       " '67693322bd4e4001b97c5a97f4e5121d',\n",
       " '9d135cb9d9794d43ac32c43a056cbe6b',\n",
       " '61704349fd94453a9baef8ba391346d6',\n",
       " 'd6cd653c7016436182dccdd86b29f23b',\n",
       " 'f40ed6fa6a6748e9908611c438cfc656',\n",
       " '9a5e190fbd924ac8ad11e80b4d486558',\n",
       " 'afbf56a83a6f4188972c2aa9eab55158',\n",
       " 'ab08b165fdaf4318a52aa252ab279417',\n",
       " '2194bd579bbb415eadb2df69dd7cc0e1',\n",
       " 'c850f0d5b6dd459a9b5aef4d7afff178',\n",
       " 'a4ca33f2bd374ac6876426ab1ea61a04',\n",
       " '60829acffafa4ba9943f1bd6dd4564df',\n",
       " '2562390a070b485eb9a08b442bb6aa49',\n",
       " '4ad2113f03054b66bf3424a33b058046',\n",
       " 'cf0b8dfed337475bbb78ba85693cd0b5',\n",
       " '8e6c6e09c3a74c50b941a63c5bfa5fdc',\n",
       " 'c527543d2a3649cebf75053b42b7c5c9',\n",
       " '202aa92f15d14daeb0c432c5e23050f4',\n",
       " '0a3ebe8c93cf460fb4d42a0bfa1f657c',\n",
       " 'b4406e162f164cd792a217370da6ccd6',\n",
       " '6a6ac6d2248e4dddb7ea40d3422d4edb',\n",
       " '362cb9ece11c4753bcf16e449989137c',\n",
       " 'd9f46c759a734d788638840be5db19b2',\n",
       " '05d6d2c7bade41ab9d6001866f8d09a2']"
      ]
     },
     "execution_count": 205,
     "metadata": {},
     "output_type": "execute_result"
    }
   ],
   "source": [
    "new_dataset.get_example_ids()"
   ]
  },
  {
   "cell_type": "code",
   "execution_count": 208,
   "metadata": {},
   "outputs": [
    {
     "data": {
      "text/plain": [
       "WindowsPath('C:/Users/Karthik/.conda/envs/uni/lib/site-packages/test/tmp/random_repertoire_dataset_generation/metadata.csv')"
      ]
     },
     "execution_count": 208,
     "metadata": {},
     "output_type": "execute_result"
    }
   ],
   "source": [
    "new_dataset.get"
   ]
  },
  {
   "cell_type": "code",
   "execution_count": 214,
   "metadata": {},
   "outputs": [],
   "source": [
    "import random"
   ]
  },
  {
   "cell_type": "code",
   "execution_count": 218,
   "metadata": {},
   "outputs": [],
   "source": [
    "training_percentage = 0.7"
   ]
  },
  {
   "cell_type": "code",
   "execution_count": 219,
   "metadata": {},
   "outputs": [],
   "source": [
    "\n",
    "train_count = int(dataset.get_example_count() * training_percentage)\n",
    "train_datasets, test_datasets = [], []\n"
   ]
  },
  {
   "cell_type": "code",
   "execution_count": 220,
   "metadata": {},
   "outputs": [],
   "source": [
    "indices = list(range(dataset.get_example_count()))\n",
    "random.shuffle(indices)\n",
    "train_index = indices[:train_count]\n",
    "test_index = indices[train_count:]\n"
   ]
  },
  {
   "cell_type": "code",
   "execution_count": 222,
   "metadata": {},
   "outputs": [
    {
     "data": {
      "text/plain": [
       "70"
      ]
     },
     "execution_count": 222,
     "metadata": {},
     "output_type": "execute_result"
    }
   ],
   "source": [
    "len(train_index)"
   ]
  },
  {
   "cell_type": "code",
   "execution_count": 210,
   "metadata": {},
   "outputs": [
    {
     "data": {
      "text/plain": [
       "[0,\n",
       " 1,\n",
       " 2,\n",
       " 3,\n",
       " 4,\n",
       " 5,\n",
       " 6,\n",
       " 7,\n",
       " 8,\n",
       " 9,\n",
       " 10,\n",
       " 11,\n",
       " 12,\n",
       " 13,\n",
       " 14,\n",
       " 15,\n",
       " 16,\n",
       " 17,\n",
       " 18,\n",
       " 19,\n",
       " 20,\n",
       " 21,\n",
       " 22,\n",
       " 23,\n",
       " 24,\n",
       " 25,\n",
       " 26,\n",
       " 27,\n",
       " 28,\n",
       " 29,\n",
       " 30,\n",
       " 31,\n",
       " 32,\n",
       " 33,\n",
       " 34,\n",
       " 35,\n",
       " 36,\n",
       " 37,\n",
       " 38,\n",
       " 39,\n",
       " 40,\n",
       " 41,\n",
       " 42,\n",
       " 43,\n",
       " 44,\n",
       " 45,\n",
       " 46,\n",
       " 47,\n",
       " 48,\n",
       " 49,\n",
       " 50,\n",
       " 51,\n",
       " 52,\n",
       " 53,\n",
       " 54,\n",
       " 55,\n",
       " 56,\n",
       " 57,\n",
       " 58,\n",
       " 59,\n",
       " 60,\n",
       " 61,\n",
       " 62,\n",
       " 63,\n",
       " 64,\n",
       " 65,\n",
       " 66,\n",
       " 67,\n",
       " 68,\n",
       " 69,\n",
       " 70,\n",
       " 71,\n",
       " 72,\n",
       " 73,\n",
       " 74,\n",
       " 75,\n",
       " 76,\n",
       " 77,\n",
       " 78,\n",
       " 79,\n",
       " 80,\n",
       " 81,\n",
       " 82,\n",
       " 83,\n",
       " 84,\n",
       " 85,\n",
       " 86,\n",
       " 87,\n",
       " 88,\n",
       " 89,\n",
       " 90,\n",
       " 91,\n",
       " 92,\n",
       " 93,\n",
       " 94,\n",
       " 95,\n",
       " 96,\n",
       " 97,\n",
       " 98,\n",
       " 99]"
      ]
     },
     "execution_count": 210,
     "metadata": {},
     "output_type": "execute_result"
    }
   ],
   "source": [
    "indices"
   ]
  },
  {
   "cell_type": "code",
   "execution_count": 225,
   "metadata": {},
   "outputs": [],
   "source": [
    "from immuneML.workflows.steps.data_splitter.Util import Util\n",
    "from immuneML.data_model.dataset.Dataset import Dataset"
   ]
  },
  {
   "cell_type": "code",
   "execution_count": 226,
   "metadata": {},
   "outputs": [
    {
     "ename": "TypeError",
     "evalue": "'NoneType' object is not subscriptable",
     "output_type": "error",
     "traceback": [
      "\u001b[1;31m---------------------------------------------------------------------------\u001b[0m",
      "\u001b[1;31mTypeError\u001b[0m                                 Traceback (most recent call last)",
      "\u001b[1;32m~\\AppData\\Local\\Temp/ipykernel_13732/958455682.py\u001b[0m in \u001b[0;36m<module>\u001b[1;34m\u001b[0m\n\u001b[0;32m      5\u001b[0m     \u001b[0mtrain_index\u001b[0m \u001b[1;33m=\u001b[0m \u001b[0mindices\u001b[0m\u001b[1;33m[\u001b[0m\u001b[1;33m:\u001b[0m\u001b[0mtrain_count\u001b[0m\u001b[1;33m]\u001b[0m\u001b[1;33m\u001b[0m\u001b[1;33m\u001b[0m\u001b[0m\n\u001b[0;32m      6\u001b[0m     \u001b[0mtest_index\u001b[0m \u001b[1;33m=\u001b[0m \u001b[0mindices\u001b[0m\u001b[1;33m[\u001b[0m\u001b[0mtrain_count\u001b[0m\u001b[1;33m:\u001b[0m\u001b[1;33m]\u001b[0m\u001b[1;33m\u001b[0m\u001b[1;33m\u001b[0m\u001b[0m\n\u001b[1;32m----> 7\u001b[1;33m     \u001b[0mtrain_dataset\u001b[0m \u001b[1;33m=\u001b[0m \u001b[0mUtil\u001b[0m\u001b[1;33m.\u001b[0m\u001b[0mmake_dataset\u001b[0m\u001b[1;33m(\u001b[0m\u001b[0mdataset\u001b[0m\u001b[1;33m,\u001b[0m \u001b[0mtrain_index\u001b[0m\u001b[1;33m,\u001b[0m \u001b[0minput_params\u001b[0m\u001b[1;33m,\u001b[0m \u001b[0mi\u001b[0m\u001b[1;33m,\u001b[0m \u001b[0mDataset\u001b[0m\u001b[1;33m.\u001b[0m\u001b[0mTRAIN\u001b[0m\u001b[1;33m)\u001b[0m\u001b[1;33m\u001b[0m\u001b[1;33m\u001b[0m\u001b[0m\n\u001b[0m\u001b[0;32m      8\u001b[0m     \u001b[0mtrain_datasets\u001b[0m\u001b[1;33m.\u001b[0m\u001b[0mappend\u001b[0m\u001b[1;33m(\u001b[0m\u001b[0mtrain_dataset\u001b[0m\u001b[1;33m)\u001b[0m\u001b[1;33m\u001b[0m\u001b[1;33m\u001b[0m\u001b[0m\n\u001b[0;32m      9\u001b[0m \u001b[1;33m\u001b[0m\u001b[0m\n",
      "\u001b[1;32m~\\.conda\\envs\\uni\\lib\\site-packages\\immuneML\\workflows\\steps\\data_splitter\\Util.py\u001b[0m in \u001b[0;36mmake_dataset\u001b[1;34m(dataset, indices, input_params, i, dataset_type)\u001b[0m\n\u001b[0;32m     14\u001b[0m     \u001b[1;33m@\u001b[0m\u001b[0mstaticmethod\u001b[0m\u001b[1;33m\u001b[0m\u001b[1;33m\u001b[0m\u001b[0m\n\u001b[0;32m     15\u001b[0m     \u001b[1;32mdef\u001b[0m \u001b[0mmake_dataset\u001b[0m\u001b[1;33m(\u001b[0m\u001b[0mdataset\u001b[0m\u001b[1;33m:\u001b[0m \u001b[0mDataset\u001b[0m\u001b[1;33m,\u001b[0m \u001b[0mindices\u001b[0m\u001b[1;33m,\u001b[0m \u001b[0minput_params\u001b[0m\u001b[1;33m:\u001b[0m \u001b[0mDataSplitterParams\u001b[0m\u001b[1;33m,\u001b[0m \u001b[0mi\u001b[0m\u001b[1;33m:\u001b[0m \u001b[0mint\u001b[0m\u001b[1;33m,\u001b[0m \u001b[0mdataset_type\u001b[0m\u001b[1;33m:\u001b[0m \u001b[0mstr\u001b[0m\u001b[1;33m)\u001b[0m\u001b[1;33m:\u001b[0m\u001b[1;33m\u001b[0m\u001b[1;33m\u001b[0m\u001b[0m\n\u001b[1;32m---> 16\u001b[1;33m         \u001b[0mpath\u001b[0m \u001b[1;33m=\u001b[0m \u001b[0mUtil\u001b[0m\u001b[1;33m.\u001b[0m\u001b[0mprepare_path\u001b[0m\u001b[1;33m(\u001b[0m\u001b[0minput_params\u001b[0m\u001b[1;33m,\u001b[0m \u001b[0mi\u001b[0m\u001b[1;33m)\u001b[0m\u001b[1;33m\u001b[0m\u001b[1;33m\u001b[0m\u001b[0m\n\u001b[0m\u001b[0;32m     17\u001b[0m         \u001b[0mnew_dataset\u001b[0m \u001b[1;33m=\u001b[0m \u001b[0mdataset\u001b[0m\u001b[1;33m.\u001b[0m\u001b[0mmake_subset\u001b[0m\u001b[1;33m(\u001b[0m\u001b[0mindices\u001b[0m\u001b[1;33m,\u001b[0m \u001b[0mpath\u001b[0m\u001b[1;33m,\u001b[0m \u001b[0mdataset_type\u001b[0m\u001b[1;33m)\u001b[0m\u001b[1;33m\u001b[0m\u001b[1;33m\u001b[0m\u001b[0m\n\u001b[0;32m     18\u001b[0m         \u001b[1;32mreturn\u001b[0m \u001b[0mnew_dataset\u001b[0m\u001b[1;33m\u001b[0m\u001b[1;33m\u001b[0m\u001b[0m\n",
      "\u001b[1;32m~\\.conda\\envs\\uni\\lib\\site-packages\\immuneML\\workflows\\steps\\data_splitter\\Util.py\u001b[0m in \u001b[0;36mprepare_path\u001b[1;34m(input_params, split_index)\u001b[0m\n\u001b[0;32m      8\u001b[0m     \u001b[1;33m@\u001b[0m\u001b[0mstaticmethod\u001b[0m\u001b[1;33m\u001b[0m\u001b[1;33m\u001b[0m\u001b[0m\n\u001b[0;32m      9\u001b[0m     \u001b[1;32mdef\u001b[0m \u001b[0mprepare_path\u001b[0m\u001b[1;33m(\u001b[0m\u001b[0minput_params\u001b[0m\u001b[1;33m:\u001b[0m \u001b[0mDataSplitterParams\u001b[0m\u001b[1;33m,\u001b[0m \u001b[0msplit_index\u001b[0m\u001b[1;33m:\u001b[0m \u001b[0mint\u001b[0m\u001b[1;33m)\u001b[0m \u001b[1;33m->\u001b[0m \u001b[0mstr\u001b[0m\u001b[1;33m:\u001b[0m\u001b[1;33m\u001b[0m\u001b[1;33m\u001b[0m\u001b[0m\n\u001b[1;32m---> 10\u001b[1;33m         \u001b[0mpath\u001b[0m \u001b[1;33m=\u001b[0m \u001b[0minput_params\u001b[0m\u001b[1;33m.\u001b[0m\u001b[0mpaths\u001b[0m\u001b[1;33m[\u001b[0m\u001b[0msplit_index\u001b[0m\u001b[1;33m]\u001b[0m \u001b[1;33m/\u001b[0m \u001b[1;34m\"datasets\"\u001b[0m\u001b[1;33m\u001b[0m\u001b[1;33m\u001b[0m\u001b[0m\n\u001b[0m\u001b[0;32m     11\u001b[0m         \u001b[0mPathBuilder\u001b[0m\u001b[1;33m.\u001b[0m\u001b[0mbuild\u001b[0m\u001b[1;33m(\u001b[0m\u001b[0mpath\u001b[0m\u001b[1;33m)\u001b[0m\u001b[1;33m\u001b[0m\u001b[1;33m\u001b[0m\u001b[0m\n\u001b[0;32m     12\u001b[0m         \u001b[1;32mreturn\u001b[0m \u001b[0mpath\u001b[0m\u001b[1;33m\u001b[0m\u001b[1;33m\u001b[0m\u001b[0m\n",
      "\u001b[1;31mTypeError\u001b[0m: 'NoneType' object is not subscriptable"
     ]
    }
   ],
   "source": [
    "for i in range(1):\n",
    "\n",
    "    indices = list(range(dataset.get_example_count()))\n",
    "    random.shuffle(indices)\n",
    "    train_index = indices[:train_count]\n",
    "    test_index = indices[train_count:]\n",
    "    train_dataset = Util.make_dataset(dataset, train_index, , i, Dataset.TRAIN)\n",
    "    train_datasets.append(train_dataset)\n",
    "\n",
    "    \n"
   ]
  },
  {
   "cell_type": "code",
   "execution_count": 227,
   "metadata": {},
   "outputs": [
    {
     "data": {
      "text/plain": [
       "'RepertoireDataset'"
      ]
     },
     "execution_count": 227,
     "metadata": {},
     "output_type": "execute_result"
    }
   ],
   "source": [
    "new_dataset.__class__.__name__"
   ]
  },
  {
   "cell_type": "code",
   "execution_count": null,
   "metadata": {},
   "outputs": [],
   "source": [
    "data"
   ]
  },
  {
   "cell_type": "code",
   "execution_count": null,
   "metadata": {},
   "outputs": [],
   "source": [
    "input_params = Data"
   ]
  },
  {
   "cell_type": "code",
   "execution_count": 232,
   "metadata": {},
   "outputs": [],
   "source": [
    "\n",
    "from immuneML.IO.dataset_export.AIRRExporter import AIRRExporter\n"
   ]
  },
  {
   "cell_type": "code",
   "execution_count": 233,
   "metadata": {},
   "outputs": [],
   "source": [
    "path_exported = path / \"exported\"\n"
   ]
  },
  {
   "cell_type": "code",
   "execution_count": 237,
   "metadata": {},
   "outputs": [
    {
     "data": {
      "text/plain": [
       "WindowsPath('C:/Users/Karthik/.conda/envs/uni/lib/site-packages/test/tmp/random_repertoire_dataset_generation/exported')"
      ]
     },
     "execution_count": 237,
     "metadata": {},
     "output_type": "execute_result"
    }
   ],
   "source": [
    "path_exported"
   ]
  },
  {
   "cell_type": "code",
   "execution_count": 238,
   "metadata": {},
   "outputs": [],
   "source": [
    "exported_dataset = AIRRExporter.export(new_dataset , path_exported)"
   ]
  },
  {
   "cell_type": "code",
   "execution_count": 240,
   "metadata": {},
   "outputs": [
    {
     "data": {
      "text/plain": [
       "NoneType"
      ]
     },
     "execution_count": 240,
     "metadata": {},
     "output_type": "execute_result"
    }
   ],
   "source": [
    "exported_dataset\n"
   ]
  },
  {
   "cell_type": "code",
   "execution_count": 236,
   "metadata": {},
   "outputs": [
    {
     "data": {
      "text/plain": [
       "NoneType"
      ]
     },
     "execution_count": 236,
     "metadata": {},
     "output_type": "execute_result"
    }
   ],
   "source": [
    "type(exported_dataset)"
   ]
  },
  {
   "cell_type": "code",
   "execution_count": 241,
   "metadata": {},
   "outputs": [],
   "source": [
    "from immuneML.IO.dataset_import.AIRRImport import AIRRImport\n"
   ]
  },
  {
   "cell_type": "code",
   "execution_count": 242,
   "metadata": {},
   "outputs": [],
   "source": [
    "column_mapping = {\n",
    "    \"junction\": \"sequences\",\n",
    "    \"junction_aa\": \"sequence_aas\",\n",
    "    \"v_call\": \"v_alleles\",\n",
    "    \"j_call\": \"j_alleles\",\n",
    "    \"locus\": \"chains\",\n",
    "    \"duplicate_count\": \"counts\",\n",
    "    \"sequence_id\": \"sequence_identifiers\"\n",
    "}\n"
   ]
  },
  {
   "cell_type": "code",
   "execution_count": 243,
   "metadata": {},
   "outputs": [],
   "source": [
    "params = {\"is_repertoire\": True, \"result_path\": path_exported / \"results\", \"path\": path_exported, \"metadata_file\": path_exported / \"metadata.csv\",\n",
    "          \"import_out_of_frame\": False, \"import_with_stop_codon\": False, \"import_illegal_characters\": False,\n",
    "          \"import_productive\": True, \"region_type\": \"IMGT_CDR3\", \"import_empty_nt_sequences\": True, \"import_empty_aa_sequences\": False,\n",
    "          \"column_mapping\": column_mapping,\n",
    "          \"separator\": \"\\t\"}\n"
   ]
  },
  {
   "cell_type": "code",
   "execution_count": 244,
   "metadata": {},
   "outputs": [],
   "source": [
    "dataset = AIRRImport.import_dataset(params, \"airr_repertoire_dataset\")\n"
   ]
  },
  {
   "cell_type": "code",
   "execution_count": 245,
   "metadata": {},
   "outputs": [],
   "source": [
    "train_val_datasets, test_datasets = HPUtil.split_data(\n",
    "    dataset, split_config_assesment, path_exported / \"train\", label)\n"
   ]
  },
  {
   "cell_type": "code",
   "execution_count": 246,
   "metadata": {},
   "outputs": [
    {
     "data": {
      "text/plain": [
       "1"
      ]
     },
     "execution_count": 246,
     "metadata": {},
     "output_type": "execute_result"
    }
   ],
   "source": []
  },
  {
   "cell_type": "code",
   "execution_count": 328,
   "metadata": {},
   "outputs": [],
   "source": [
    "import datetime\n",
    "from collections import Counter\n",
    "from pathlib import Path\n",
    "\n",
    "import pandas as pd\n",
    "\n",
    "from immuneML.IO.ml_method.MLExporter import MLExporter\n",
    "from immuneML.environment.LabelConfiguration import LabelConfiguration\n",
    "from immuneML.hyperparameter_optimization.config.SplitConfig import SplitConfig\n",
    "from immuneML.hyperparameter_optimization.config.SplitType import SplitType\n",
    "from immuneML.hyperparameter_optimization.core.HPAssessment import HPAssessment\n",
    "from immuneML.hyperparameter_optimization.core.HPUtil import HPUtil\n",
    "from immuneML.hyperparameter_optimization.states.TrainMLModelState import TrainMLModelState\n",
    "from immuneML.hyperparameter_optimization.strategy.HPOptimizationStrategy import HPOptimizationStrategy\n",
    "from immuneML.ml_metrics.Metric import Metric\n",
    "from immuneML.reports.train_ml_model_reports.TrainMLModelReport import TrainMLModelReport\n",
    "from immuneML.util.ReflectionHandler import ReflectionHandler\n",
    "from immuneML.workflows.instructions.Instruction import Instruction\n",
    "from immuneML.workflows.instructions.MLProcess import MLProcess\n"
   ]
  },
  {
   "cell_type": "code",
   "execution_count": 329,
   "metadata": {},
   "outputs": [],
   "source": [
    "state = TrainMLModelState(dataset=dataset, hp_strategy=HPStrategy, hp_settings=[Hpsetting1, Hpsetting2], assessment=split_config_assesment, selection=split_config_selection, metrics=set([metrics]),\n",
    "                          optimization_metric=optimisatization_metric, label_configuration=label, path=path, refit_optimal_model=refit_optimal_model, number_of_processes=number_of_processes, reports={\"hrep\": MLSettingsPerformance})\n"
   ]
  },
  {
   "cell_type": "code",
   "execution_count": 330,
   "metadata": {},
   "outputs": [
    {
     "data": {
      "text/plain": [
       "<enum 'Metric'>"
      ]
     },
     "execution_count": 330,
     "metadata": {},
     "output_type": "execute_result"
    }
   ],
   "source": [
    "type(metrics)"
   ]
  },
  {
   "cell_type": "code",
   "execution_count": 331,
   "metadata": {},
   "outputs": [
    {
     "name": "stdout",
     "output_type": "stream",
     "text": [
      "2022-01-10 17:31:39.194914: Training ML model: running outer CV loop: started split 1/1.\n",
      "\n",
      "2022-01-10 17:31:39.199833: Hyperparameter optimization: running the inner loop of nested CV: selection for label my_signal (label 1 / 1).\n",
      "\n",
      "2022-01-10 17:31:39.201830: Evaluating hyperparameter setting: e1_simpleLR...\n",
      "2022-01-10 17:31:39.202855: Encoding started...\n"
     ]
    },
    {
     "ename": "TypeError",
     "evalue": "encode() missing 1 required positional argument: 'params'",
     "output_type": "error",
     "traceback": [
      "\u001b[1;31m---------------------------------------------------------------------------\u001b[0m",
      "\u001b[1;31mTypeError\u001b[0m                                 Traceback (most recent call last)",
      "\u001b[1;32m~\\AppData\\Local\\Temp/ipykernel_13732/755747376.py\u001b[0m in \u001b[0;36m<module>\u001b[1;34m\u001b[0m\n\u001b[1;32m----> 1\u001b[1;33m \u001b[0mstate\u001b[0m \u001b[1;33m=\u001b[0m \u001b[0mHPAssessment\u001b[0m\u001b[1;33m.\u001b[0m\u001b[0mrun_assessment\u001b[0m\u001b[1;33m(\u001b[0m\u001b[0mstate\u001b[0m\u001b[1;33m)\u001b[0m\u001b[1;33m\u001b[0m\u001b[1;33m\u001b[0m\u001b[0m\n\u001b[0m",
      "\u001b[1;32m~\\.conda\\envs\\uni\\lib\\site-packages\\immuneML\\hyperparameter_optimization\\core\\HPAssessment.py\u001b[0m in \u001b[0;36mrun_assessment\u001b[1;34m(state)\u001b[0m\n\u001b[0;32m     25\u001b[0m \u001b[1;33m\u001b[0m\u001b[0m\n\u001b[0;32m     26\u001b[0m         \u001b[1;32mfor\u001b[0m \u001b[0mindex\u001b[0m \u001b[1;32min\u001b[0m \u001b[0mrange\u001b[0m\u001b[1;33m(\u001b[0m\u001b[0mn_splits\u001b[0m\u001b[1;33m)\u001b[0m\u001b[1;33m:\u001b[0m\u001b[1;33m\u001b[0m\u001b[1;33m\u001b[0m\u001b[0m\n\u001b[1;32m---> 27\u001b[1;33m             \u001b[0mstate\u001b[0m \u001b[1;33m=\u001b[0m \u001b[0mHPAssessment\u001b[0m\u001b[1;33m.\u001b[0m\u001b[0mrun_assessment_split\u001b[0m\u001b[1;33m(\u001b[0m\u001b[0mstate\u001b[0m\u001b[1;33m,\u001b[0m \u001b[0mtrain_val_datasets\u001b[0m\u001b[1;33m[\u001b[0m\u001b[0mindex\u001b[0m\u001b[1;33m]\u001b[0m\u001b[1;33m,\u001b[0m \u001b[0mtest_datasets\u001b[0m\u001b[1;33m[\u001b[0m\u001b[0mindex\u001b[0m\u001b[1;33m]\u001b[0m\u001b[1;33m,\u001b[0m \u001b[0mindex\u001b[0m\u001b[1;33m,\u001b[0m \u001b[0mn_splits\u001b[0m\u001b[1;33m)\u001b[0m\u001b[1;33m\u001b[0m\u001b[1;33m\u001b[0m\u001b[0m\n\u001b[0m\u001b[0;32m     28\u001b[0m \u001b[1;33m\u001b[0m\u001b[0m\n\u001b[0;32m     29\u001b[0m         \u001b[1;32mreturn\u001b[0m \u001b[0mstate\u001b[0m\u001b[1;33m\u001b[0m\u001b[1;33m\u001b[0m\u001b[0m\n",
      "\u001b[1;32m~\\.conda\\envs\\uni\\lib\\site-packages\\immuneML\\hyperparameter_optimization\\core\\HPAssessment.py\u001b[0m in \u001b[0;36mrun_assessment_split\u001b[1;34m(state, train_val_dataset, test_dataset, split_index, n_splits)\u001b[0m\n\u001b[0;32m     46\u001b[0m         \u001b[0mstate\u001b[0m\u001b[1;33m.\u001b[0m\u001b[0massessment_states\u001b[0m\u001b[1;33m.\u001b[0m\u001b[0mappend\u001b[0m\u001b[1;33m(\u001b[0m\u001b[0massessment_state\u001b[0m\u001b[1;33m)\u001b[0m\u001b[1;33m\u001b[0m\u001b[1;33m\u001b[0m\u001b[0m\n\u001b[0;32m     47\u001b[0m \u001b[1;33m\u001b[0m\u001b[0m\n\u001b[1;32m---> 48\u001b[1;33m         \u001b[0mstate\u001b[0m \u001b[1;33m=\u001b[0m \u001b[0mHPSelection\u001b[0m\u001b[1;33m.\u001b[0m\u001b[0mrun_selection\u001b[0m\u001b[1;33m(\u001b[0m\u001b[0mstate\u001b[0m\u001b[1;33m,\u001b[0m \u001b[0mtrain_val_dataset\u001b[0m\u001b[1;33m,\u001b[0m \u001b[0mcurrent_path\u001b[0m\u001b[1;33m,\u001b[0m \u001b[0msplit_index\u001b[0m\u001b[1;33m)\u001b[0m\u001b[1;33m\u001b[0m\u001b[1;33m\u001b[0m\u001b[0m\n\u001b[0m\u001b[0;32m     49\u001b[0m         \u001b[0mstate\u001b[0m \u001b[1;33m=\u001b[0m \u001b[0mHPAssessment\u001b[0m\u001b[1;33m.\u001b[0m\u001b[0mrun_assessment_split_per_label\u001b[0m\u001b[1;33m(\u001b[0m\u001b[0mstate\u001b[0m\u001b[1;33m,\u001b[0m \u001b[0msplit_index\u001b[0m\u001b[1;33m)\u001b[0m\u001b[1;33m\u001b[0m\u001b[1;33m\u001b[0m\u001b[0m\n\u001b[0;32m     50\u001b[0m \u001b[1;33m\u001b[0m\u001b[0m\n",
      "\u001b[1;32m~\\.conda\\envs\\uni\\lib\\site-packages\\immuneML\\hyperparameter_optimization\\core\\HPSelection.py\u001b[0m in \u001b[0;36mrun_selection\u001b[1;34m(state, train_val_dataset, current_path, split_index)\u001b[0m\n\u001b[0;32m     40\u001b[0m             \u001b[0mhp_setting\u001b[0m \u001b[1;33m=\u001b[0m \u001b[0mselection_state\u001b[0m\u001b[1;33m.\u001b[0m\u001b[0mhp_strategy\u001b[0m\u001b[1;33m.\u001b[0m\u001b[0mgenerate_next_setting\u001b[0m\u001b[1;33m(\u001b[0m\u001b[1;33m)\u001b[0m\u001b[1;33m\u001b[0m\u001b[1;33m\u001b[0m\u001b[0m\n\u001b[0;32m     41\u001b[0m             \u001b[1;32mwhile\u001b[0m \u001b[0mhp_setting\u001b[0m \u001b[1;32mis\u001b[0m \u001b[1;32mnot\u001b[0m \u001b[1;32mNone\u001b[0m\u001b[1;33m:\u001b[0m\u001b[1;33m\u001b[0m\u001b[1;33m\u001b[0m\u001b[0m\n\u001b[1;32m---> 42\u001b[1;33m                 performance = HPSelection.evaluate_hp_setting(state, hp_setting, train_datasets, val_datasets,\n\u001b[0m\u001b[0;32m     43\u001b[0m                                                               path, label, split_index)\n\u001b[0;32m     44\u001b[0m                 \u001b[0mhp_setting\u001b[0m \u001b[1;33m=\u001b[0m \u001b[0mselection_state\u001b[0m\u001b[1;33m.\u001b[0m\u001b[0mhp_strategy\u001b[0m\u001b[1;33m.\u001b[0m\u001b[0mgenerate_next_setting\u001b[0m\u001b[1;33m(\u001b[0m\u001b[0mhp_setting\u001b[0m\u001b[1;33m,\u001b[0m \u001b[0mperformance\u001b[0m\u001b[1;33m)\u001b[0m\u001b[1;33m\u001b[0m\u001b[1;33m\u001b[0m\u001b[0m\n",
      "\u001b[1;32m~\\.conda\\envs\\uni\\lib\\site-packages\\immuneML\\hyperparameter_optimization\\core\\HPSelection.py\u001b[0m in \u001b[0;36mevaluate_hp_setting\u001b[1;34m(state, hp_setting, train_datasets, val_datasets, current_path, label, assessment_split_index)\u001b[0m\n\u001b[0;32m     57\u001b[0m         \u001b[0mperformances\u001b[0m \u001b[1;33m=\u001b[0m \u001b[1;33m[\u001b[0m\u001b[1;33m]\u001b[0m\u001b[1;33m\u001b[0m\u001b[1;33m\u001b[0m\u001b[0m\n\u001b[0;32m     58\u001b[0m         \u001b[1;32mfor\u001b[0m \u001b[0mindex\u001b[0m \u001b[1;32min\u001b[0m \u001b[0mrange\u001b[0m\u001b[1;33m(\u001b[0m\u001b[0mstate\u001b[0m\u001b[1;33m.\u001b[0m\u001b[0mselection\u001b[0m\u001b[1;33m.\u001b[0m\u001b[0msplit_count\u001b[0m\u001b[1;33m)\u001b[0m\u001b[1;33m:\u001b[0m\u001b[1;33m\u001b[0m\u001b[1;33m\u001b[0m\u001b[0m\n\u001b[1;32m---> 59\u001b[1;33m             performance = HPSelection.run_setting(state, hp_setting, train_datasets[index], val_datasets[index], index + 1,\n\u001b[0m\u001b[0;32m     60\u001b[0m                                                   \u001b[0mcurrent_path\u001b[0m \u001b[1;33m/\u001b[0m \u001b[1;34mf\"split_{index + 1}\"\u001b[0m \u001b[1;33m/\u001b[0m \u001b[1;34mf\"{label}_{hp_setting.get_key()}\"\u001b[0m\u001b[1;33m,\u001b[0m\u001b[1;33m\u001b[0m\u001b[1;33m\u001b[0m\u001b[0m\n\u001b[0;32m     61\u001b[0m                                                   label, assessment_split_index)\n",
      "\u001b[1;32m~\\.conda\\envs\\uni\\lib\\site-packages\\immuneML\\hyperparameter_optimization\\core\\HPSelection.py\u001b[0m in \u001b[0;36mrun_setting\u001b[1;34m(state, hp_setting, train_dataset, val_dataset, split_index, current_path, label, assessment_index)\u001b[0m\n\u001b[0;32m     68\u001b[0m                     current_path: Path, label: str, assessment_index: int):\n\u001b[0;32m     69\u001b[0m \u001b[1;33m\u001b[0m\u001b[0m\n\u001b[1;32m---> 70\u001b[1;33m         hp_item = MLProcess(train_dataset=train_dataset, test_dataset=val_dataset, encoding_reports=state.selection.reports.encoding_reports.values(),\n\u001b[0m\u001b[0;32m     71\u001b[0m                             \u001b[0mlabel_config\u001b[0m\u001b[1;33m=\u001b[0m\u001b[0mLabelConfiguration\u001b[0m\u001b[1;33m(\u001b[0m\u001b[1;33m[\u001b[0m\u001b[0mstate\u001b[0m\u001b[1;33m.\u001b[0m\u001b[0mlabel_configuration\u001b[0m\u001b[1;33m.\u001b[0m\u001b[0mget_label_object\u001b[0m\u001b[1;33m(\u001b[0m\u001b[0mlabel\u001b[0m\u001b[1;33m)\u001b[0m\u001b[1;33m]\u001b[0m\u001b[1;33m)\u001b[0m\u001b[1;33m,\u001b[0m \u001b[0mreport_context\u001b[0m\u001b[1;33m=\u001b[0m\u001b[0mstate\u001b[0m\u001b[1;33m.\u001b[0m\u001b[0mcontext\u001b[0m\u001b[1;33m,\u001b[0m\u001b[1;33m\u001b[0m\u001b[1;33m\u001b[0m\u001b[0m\n\u001b[0;32m     72\u001b[0m                             \u001b[0mnumber_of_processes\u001b[0m\u001b[1;33m=\u001b[0m\u001b[0mstate\u001b[0m\u001b[1;33m.\u001b[0m\u001b[0mnumber_of_processes\u001b[0m\u001b[1;33m,\u001b[0m \u001b[0mmetrics\u001b[0m\u001b[1;33m=\u001b[0m\u001b[0mstate\u001b[0m\u001b[1;33m.\u001b[0m\u001b[0mmetrics\u001b[0m\u001b[1;33m,\u001b[0m \u001b[0moptimization_metric\u001b[0m\u001b[1;33m=\u001b[0m\u001b[0mstate\u001b[0m\u001b[1;33m.\u001b[0m\u001b[0moptimization_metric\u001b[0m\u001b[1;33m,\u001b[0m\u001b[1;33m\u001b[0m\u001b[1;33m\u001b[0m\u001b[0m\n",
      "\u001b[1;32m~\\.conda\\envs\\uni\\lib\\site-packages\\immuneML\\workflows\\instructions\\MLProcess.py\u001b[0m in \u001b[0;36mrun\u001b[1;34m(self, split_index)\u001b[0m\n\u001b[0;32m     71\u001b[0m                                                       self.report_context)\n\u001b[0;32m     72\u001b[0m \u001b[1;33m\u001b[0m\u001b[0m\n\u001b[1;32m---> 73\u001b[1;33m         encoded_train_dataset = HPUtil.encode_dataset(processed_dataset, self.hp_setting, self.path / \"encoded_datasets\", learn_model=True,\n\u001b[0m\u001b[0;32m     74\u001b[0m                                                       \u001b[0mcontext\u001b[0m\u001b[1;33m=\u001b[0m\u001b[0mself\u001b[0m\u001b[1;33m.\u001b[0m\u001b[0mreport_context\u001b[0m\u001b[1;33m,\u001b[0m \u001b[0mnumber_of_processes\u001b[0m\u001b[1;33m=\u001b[0m\u001b[0mself\u001b[0m\u001b[1;33m.\u001b[0m\u001b[0mnumber_of_processes\u001b[0m\u001b[1;33m,\u001b[0m\u001b[1;33m\u001b[0m\u001b[1;33m\u001b[0m\u001b[0m\n\u001b[0;32m     75\u001b[0m                                                       label_configuration=self.label_config)\n",
      "\u001b[1;32m~\\.conda\\envs\\uni\\lib\\site-packages\\immuneML\\hyperparameter_optimization\\core\\HPUtil.py\u001b[0m in \u001b[0;36mencode_dataset\u001b[1;34m(dataset, hp_setting, path, learn_model, context, number_of_processes, label_configuration, encode_labels)\u001b[0m\n\u001b[0;32m     91\u001b[0m         \u001b[0mPathBuilder\u001b[0m\u001b[1;33m.\u001b[0m\u001b[0mbuild\u001b[0m\u001b[1;33m(\u001b[0m\u001b[0mpath\u001b[0m\u001b[1;33m)\u001b[0m\u001b[1;33m\u001b[0m\u001b[1;33m\u001b[0m\u001b[0m\n\u001b[0;32m     92\u001b[0m \u001b[1;33m\u001b[0m\u001b[0m\n\u001b[1;32m---> 93\u001b[1;33m         encoded_dataset = DataEncoder.run(DataEncoderParams(\n\u001b[0m\u001b[0;32m     94\u001b[0m             \u001b[0mdataset\u001b[0m\u001b[1;33m=\u001b[0m\u001b[0mdataset\u001b[0m\u001b[1;33m,\u001b[0m\u001b[1;33m\u001b[0m\u001b[1;33m\u001b[0m\u001b[0m\n\u001b[0;32m     95\u001b[0m             \u001b[0mencoder\u001b[0m\u001b[1;33m=\u001b[0m\u001b[0mhp_setting\u001b[0m\u001b[1;33m.\u001b[0m\u001b[0mencoder\u001b[0m\u001b[1;33m,\u001b[0m\u001b[1;33m\u001b[0m\u001b[1;33m\u001b[0m\u001b[0m\n",
      "\u001b[1;32m~\\.conda\\envs\\uni\\lib\\site-packages\\immuneML\\workflows\\steps\\DataEncoder.py\u001b[0m in \u001b[0;36mrun\u001b[1;34m(input_params)\u001b[0m\n\u001b[0;32m     19\u001b[0m         \u001b[0mprint\u001b[0m\u001b[1;33m(\u001b[0m\u001b[1;34mf\"{datetime.datetime.now()}: Encoding started...\"\u001b[0m\u001b[1;33m)\u001b[0m\u001b[1;33m\u001b[0m\u001b[1;33m\u001b[0m\u001b[0m\n\u001b[0;32m     20\u001b[0m \u001b[1;33m\u001b[0m\u001b[0m\n\u001b[1;32m---> 21\u001b[1;33m         \u001b[0mencoded_dataset\u001b[0m \u001b[1;33m=\u001b[0m \u001b[0mencoder\u001b[0m\u001b[1;33m.\u001b[0m\u001b[0mencode\u001b[0m\u001b[1;33m(\u001b[0m\u001b[0mdataset\u001b[0m\u001b[1;33m,\u001b[0m \u001b[0mencoder_params\u001b[0m\u001b[1;33m)\u001b[0m\u001b[1;33m\u001b[0m\u001b[1;33m\u001b[0m\u001b[0m\n\u001b[0m\u001b[0;32m     22\u001b[0m \u001b[1;33m\u001b[0m\u001b[0m\n\u001b[0;32m     23\u001b[0m         \u001b[0mprint\u001b[0m\u001b[1;33m(\u001b[0m\u001b[1;34mf\"{datetime.datetime.now()}: Encoding finished.\"\u001b[0m\u001b[1;33m)\u001b[0m\u001b[1;33m\u001b[0m\u001b[1;33m\u001b[0m\u001b[0m\n",
      "\u001b[1;31mTypeError\u001b[0m: encode() missing 1 required positional argument: 'params'"
     ]
    }
   ],
   "source": [
    "state = HPAssessment.run_assessment(state)\n"
   ]
  },
  {
   "cell_type": "code",
   "execution_count": 271,
   "metadata": {},
   "outputs": [
    {
     "data": {
      "text/plain": [
       "<Metric.ACCURACY: 'accuracy_score'>"
      ]
     },
     "execution_count": 271,
     "metadata": {},
     "output_type": "execute_result"
    }
   ],
   "source": [
    "state.metrics"
   ]
  },
  {
   "cell_type": "code",
   "execution_count": 332,
   "metadata": {},
   "outputs": [
    {
     "data": {
      "text/plain": [
       "{'k': 2,\n",
       " 'reads': <ReadsType.UNIQUE: 'unique'>,\n",
       " 'sequence_encoding': <SequenceEncodingType.GAPPED_KMER: 'GappedKmerSequenceEncoder'>,\n",
       " 'normalization_type': <NormalizationType.RELATIVE_FREQUENCY: 'l1'>}"
      ]
     },
     "execution_count": 332,
     "metadata": {},
     "output_type": "execute_result"
    }
   ],
   "source": [
    "Hpsetting1.encoder_params"
   ]
  },
  {
   "cell_type": "code",
   "execution_count": 334,
   "metadata": {},
   "outputs": [
    {
     "data": {
      "text/plain": [
       "{'k': 2,\n",
       " 'reads': <ReadsType.UNIQUE: 'unique'>,\n",
       " 'sequence_encoding': <SequenceEncodingType.GAPPED_KMER: 'GappedKmerSequenceEncoder'>,\n",
       " 'normalization_type': <NormalizationType.RELATIVE_FREQUENCY: 'l1'>}"
      ]
     },
     "execution_count": 334,
     "metadata": {},
     "output_type": "execute_result"
    }
   ],
   "source": [
    "Hpsetting1.encoder_params"
   ]
  },
  {
   "cell_type": "code",
   "execution_count": 335,
   "metadata": {},
   "outputs": [
    {
     "data": {
      "text/plain": [
       "{'k': 2,\n",
       " 'reads': <ReadsType.UNIQUE: 'unique'>,\n",
       " 'sequence_encoding': <SequenceEncodingType.GAPPED_KMER: 'GappedKmerSequenceEncoder'>,\n",
       " 'normalization_type': <NormalizationType.RELATIVE_FREQUENCY: 'l1'>}"
      ]
     },
     "execution_count": 335,
     "metadata": {},
     "output_type": "execute_result"
    }
   ],
   "source": [
    "Hpsetting1.encoder_params"
   ]
  },
  {
   "cell_type": "code",
   "execution_count": 337,
   "metadata": {},
   "outputs": [
    {
     "data": {
      "text/plain": [
       "immuneML.encodings.kmer_frequency.KmerFrequencyEncoder.KmerFrequencyEncoder"
      ]
     },
     "execution_count": 337,
     "metadata": {},
     "output_type": "execute_result"
    }
   ],
   "source": [
    "Hpsetting1.encoder"
   ]
  },
  {
   "cell_type": "code",
   "execution_count": 341,
   "metadata": {},
   "outputs": [
    {
     "ename": "TypeError",
     "evalue": "_prepare_caching_params() missing 1 required positional argument: 'params'",
     "output_type": "error",
     "traceback": [
      "\u001b[1;31m---------------------------------------------------------------------------\u001b[0m",
      "\u001b[1;31mTypeError\u001b[0m                                 Traceback (most recent call last)",
      "\u001b[1;32m~\\AppData\\Local\\Temp/ipykernel_13732/3507288715.py\u001b[0m in \u001b[0;36m<module>\u001b[1;34m\u001b[0m\n\u001b[1;32m----> 1\u001b[1;33m \u001b[0mHpsetting1\u001b[0m\u001b[1;33m.\u001b[0m\u001b[0mencoder\u001b[0m\u001b[1;33m.\u001b[0m\u001b[0mencode\u001b[0m\u001b[1;33m(\u001b[0m\u001b[0mKmerFrequencyEncoder\u001b[0m \u001b[1;33m,\u001b[0m  \u001b[0mdataset\u001b[0m \u001b[1;33m=\u001b[0m \u001b[0mdataset\u001b[0m \u001b[1;33m,\u001b[0m \u001b[0mparams\u001b[0m \u001b[1;33m=\u001b[0m  \u001b[0mHpsetting1\u001b[0m\u001b[1;33m.\u001b[0m\u001b[0mencoder_params\u001b[0m\u001b[1;33m)\u001b[0m\u001b[1;33m\u001b[0m\u001b[1;33m\u001b[0m\u001b[0m\n\u001b[0m",
      "\u001b[1;32m~\\.conda\\envs\\uni\\lib\\site-packages\\immuneML\\encodings\\kmer_frequency\\KmerFrequencyEncoder.py\u001b[0m in \u001b[0;36mencode\u001b[1;34m(self, dataset, params)\u001b[0m\n\u001b[0;32m    163\u001b[0m     \u001b[1;32mdef\u001b[0m \u001b[0mencode\u001b[0m\u001b[1;33m(\u001b[0m\u001b[0mself\u001b[0m\u001b[1;33m,\u001b[0m \u001b[0mdataset\u001b[0m\u001b[1;33m,\u001b[0m \u001b[0mparams\u001b[0m\u001b[1;33m:\u001b[0m \u001b[0mEncoderParams\u001b[0m\u001b[1;33m)\u001b[0m\u001b[1;33m:\u001b[0m\u001b[1;33m\u001b[0m\u001b[1;33m\u001b[0m\u001b[0m\n\u001b[0;32m    164\u001b[0m \u001b[1;33m\u001b[0m\u001b[0m\n\u001b[1;32m--> 165\u001b[1;33m         \u001b[0mcache_params\u001b[0m \u001b[1;33m=\u001b[0m \u001b[0mself\u001b[0m\u001b[1;33m.\u001b[0m\u001b[0m_prepare_caching_params\u001b[0m\u001b[1;33m(\u001b[0m\u001b[0mdataset\u001b[0m\u001b[1;33m,\u001b[0m \u001b[0mparams\u001b[0m\u001b[1;33m)\u001b[0m\u001b[1;33m\u001b[0m\u001b[1;33m\u001b[0m\u001b[0m\n\u001b[0m\u001b[0;32m    166\u001b[0m \u001b[1;33m\u001b[0m\u001b[0m\n\u001b[0;32m    167\u001b[0m         \u001b[0mencoded_dataset\u001b[0m \u001b[1;33m=\u001b[0m \u001b[0mCacheHandler\u001b[0m\u001b[1;33m.\u001b[0m\u001b[0mmemo_by_params\u001b[0m\u001b[1;33m(\u001b[0m\u001b[0mcache_params\u001b[0m\u001b[1;33m,\u001b[0m \u001b[1;32mlambda\u001b[0m\u001b[1;33m:\u001b[0m \u001b[0mself\u001b[0m\u001b[1;33m.\u001b[0m\u001b[0m_encode_new_dataset\u001b[0m\u001b[1;33m(\u001b[0m\u001b[0mdataset\u001b[0m\u001b[1;33m,\u001b[0m \u001b[0mparams\u001b[0m\u001b[1;33m)\u001b[0m\u001b[1;33m)\u001b[0m\u001b[1;33m\u001b[0m\u001b[1;33m\u001b[0m\u001b[0m\n",
      "\u001b[1;31mTypeError\u001b[0m: _prepare_caching_params() missing 1 required positional argument: 'params'"
     ]
    }
   ],
   "source": [
    "Hpsetting1.encoder.encode(KmerFrequencyEncoder ,  dataset = dataset , params =  Hpsetting1.encoder_params)\n"
   ]
  },
  {
   "cell_type": "code",
   "execution_count": null,
   "metadata": {},
   "outputs": [],
   "source": [
    "%python "
   ]
  }
 ],
 "metadata": {
  "interpreter": {
   "hash": "aa08a4594b0e70cba90c7a9b037a7f904a29451ca700576c0039f57c1feaba5d"
  },
  "kernelspec": {
   "display_name": "Python 3.8.12 64-bit ('uni': conda)",
   "language": "python",
   "name": "python3"
  },
  "language_info": {
   "codemirror_mode": {
    "name": "ipython",
    "version": 3
   },
   "file_extension": ".py",
   "mimetype": "text/x-python",
   "name": "python",
   "nbconvert_exporter": "python",
   "pygments_lexer": "ipython3",
   "version": "3.8.12"
  },
  "orig_nbformat": 4
 },
 "nbformat": 4,
 "nbformat_minor": 2
}
