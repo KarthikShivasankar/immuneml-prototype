{
 "cells": [
  {
   "cell_type": "code",
   "execution_count": 2,
   "metadata": {},
   "outputs": [
    {
     "name": "stderr",
     "output_type": "stream",
     "text": [
      "c:\\Users\\karth\\anaconda3\\envs\\test\\lib\\site-packages\\tqdm\\auto.py:22: TqdmWarning: IProgress not found. Please update jupyter and ipywidgets. See https://ipywidgets.readthedocs.io/en/stable/user_install.html\n",
      "  from .autonotebook import tqdm as notebook_tqdm\n"
     ]
    }
   ],
   "source": [
    "import logging\n",
    "import os\n",
    "import shutil\n",
    "import sys\n",
    "import warnings\n",
    "from pathlib import Path\n",
    "\n",
    "import yaml\n",
    "\n",
    "from immuneML.app.ImmuneMLApp import ImmuneMLApp\n",
    "from immuneML.environment.EnvironmentSettings import EnvironmentSettings\n",
    "from immuneML.util.PathBuilder import PathBuilder\n"
   ]
  },
  {
   "cell_type": "code",
   "execution_count": 3,
   "metadata": {},
   "outputs": [],
   "source": [
    "def build_path(path: str = None):\n",
    "    if path is None:\n",
    "        path = EnvironmentSettings.root_path / \"quickstart/\"\n",
    "        if os.path.isdir(path):\n",
    "            shutil.rmtree(path)\n",
    "        PathBuilder.build(path)\n",
    "    else:\n",
    "        path = PathBuilder.build(path)\n",
    "    return path\n"
   ]
  },
  {
   "cell_type": "code",
   "execution_count": 4,
   "metadata": {},
   "outputs": [],
   "source": [
    "path = build_path()"
   ]
  },
  {
   "cell_type": "code",
   "execution_count": 5,
   "metadata": {},
   "outputs": [
    {
     "data": {
      "text/plain": [
       "WindowsPath('C:/Users/karth/Desktop/PhD projects/immuneML/immuneML/quickstart')"
      ]
     },
     "execution_count": 5,
     "metadata": {},
     "output_type": "execute_result"
    }
   ],
   "source": [
    "path"
   ]
  },
  {
   "cell_type": "code",
   "execution_count": 6,
   "metadata": {},
   "outputs": [],
   "source": [
    "specs = {\n",
    "    \"definitions\": {\n",
    "        \"datasets\": {\n",
    "            \"my_synthetic_dataset\": {\"format\": \"RandomRepertoireDataset\", \"params\": {\"labels\": {}}}\n",
    "        },\n",
    "        \"motifs\": {\"my_motif\": {\"seed\": \"AA\", \"instantiation\": \"GappedKmer\"}},\n",
    "        \"signals\": {\"my_signal\": {\"motifs\": [\"my_motif\"], \"implanting\": \"HealthySequence\"}},\n",
    "        \"simulations\": {\"my_simulation\": {\"my_implantng\": {\"signals\": [\"my_signal\"], \"dataset_implanting_rate\": 0.5,\n",
    "                                                           \"repertoire_implanting_rate\": 0.1}}}\n",
    "    },\n",
    "    \"instructions\": {\"simulation_instruction\": {\"type\": \"Simulation\", \"dataset\": \"my_synthetic_dataset\", \"simulation\": \"my_simulation\",\n",
    "                                                \"export_formats\": [\"AIRR\"]}}\n",
    "}\n"
   ]
  },
  {
   "cell_type": "code",
   "execution_count": 7,
   "metadata": {},
   "outputs": [],
   "source": [
    "specs_file = path / \"simulation_specs.yaml\"\n",
    "with specs_file.open(\"w\") as file:\n",
    "    yaml.dump(specs, file)\n"
   ]
  },
  {
   "cell_type": "code",
   "execution_count": 8,
   "metadata": {},
   "outputs": [
    {
     "name": "stdout",
     "output_type": "stream",
     "text": [
      "2022-05-24 11:10:12.848760: Setting temporary cache path to ..\\..\\..\\immuneML\\quickstart\\result\\cache\n",
      "2022-05-24 11:10:12.849760: ImmuneML: parsing the specification...\n",
      "\n",
      "2022-05-24 11:10:14.074323: Full specification is available at ..\\..\\..\\immuneML\\quickstart\\result\\full_simulation_specs.yaml.\n",
      "\n",
      "2022-05-24 11:10:14.075326: ImmuneML: starting the analysis...\n",
      "\n",
      "2022-05-24 11:10:14.076324: Instruction 1/1 has started.\n"
     ]
    },
    {
     "name": "stderr",
     "output_type": "stream",
     "text": [
      "WARNING:root:Position weights are not defined. Randomly choosing position to implant motif_instance instead.\n",
      "WARNING:root:Position weights are not defined. Randomly choosing position to implant motif_instance instead.\n",
      "WARNING:root:Position weights are not defined. Randomly choosing position to implant motif_instance instead.\n",
      "WARNING:root:Position weights are not defined. Randomly choosing position to implant motif_instance instead.\n",
      "WARNING:root:Position weights are not defined. Randomly choosing position to implant motif_instance instead.\n",
      "WARNING:root:Position weights are not defined. Randomly choosing position to implant motif_instance instead.\n",
      "WARNING:root:Position weights are not defined. Randomly choosing position to implant motif_instance instead.\n",
      "WARNING:root:Position weights are not defined. Randomly choosing position to implant motif_instance instead.\n",
      "WARNING:root:Position weights are not defined. Randomly choosing position to implant motif_instance instead.\n",
      "WARNING:root:Position weights are not defined. Randomly choosing position to implant motif_instance instead.\n",
      "WARNING:root:Position weights are not defined. Randomly choosing position to implant motif_instance instead.\n",
      "WARNING:root:Position weights are not defined. Randomly choosing position to implant motif_instance instead.\n",
      "WARNING:root:Position weights are not defined. Randomly choosing position to implant motif_instance instead.\n",
      "WARNING:root:Position weights are not defined. Randomly choosing position to implant motif_instance instead.\n",
      "WARNING:root:Position weights are not defined. Randomly choosing position to implant motif_instance instead.\n",
      "WARNING:root:Position weights are not defined. Randomly choosing position to implant motif_instance instead.\n",
      "WARNING:root:Position weights are not defined. Randomly choosing position to implant motif_instance instead.\n",
      "WARNING:root:Position weights are not defined. Randomly choosing position to implant motif_instance instead.\n",
      "WARNING:root:Position weights are not defined. Randomly choosing position to implant motif_instance instead.\n",
      "WARNING:root:Position weights are not defined. Randomly choosing position to implant motif_instance instead.\n",
      "WARNING:root:Position weights are not defined. Randomly choosing position to implant motif_instance instead.\n",
      "WARNING:root:Position weights are not defined. Randomly choosing position to implant motif_instance instead.\n",
      "WARNING:root:Position weights are not defined. Randomly choosing position to implant motif_instance instead.\n",
      "WARNING:root:Position weights are not defined. Randomly choosing position to implant motif_instance instead.\n",
      "WARNING:root:Position weights are not defined. Randomly choosing position to implant motif_instance instead.\n",
      "WARNING:root:Position weights are not defined. Randomly choosing position to implant motif_instance instead.\n",
      "WARNING:root:Position weights are not defined. Randomly choosing position to implant motif_instance instead.\n",
      "WARNING:root:Position weights are not defined. Randomly choosing position to implant motif_instance instead.\n",
      "WARNING:root:Position weights are not defined. Randomly choosing position to implant motif_instance instead.\n",
      "WARNING:root:Position weights are not defined. Randomly choosing position to implant motif_instance instead.\n",
      "WARNING:root:Position weights are not defined. Randomly choosing position to implant motif_instance instead.\n",
      "WARNING:root:Position weights are not defined. Randomly choosing position to implant motif_instance instead.\n",
      "WARNING:root:Position weights are not defined. Randomly choosing position to implant motif_instance instead.\n",
      "WARNING:root:Position weights are not defined. Randomly choosing position to implant motif_instance instead.\n",
      "WARNING:root:Position weights are not defined. Randomly choosing position to implant motif_instance instead.\n",
      "WARNING:root:Position weights are not defined. Randomly choosing position to implant motif_instance instead.\n",
      "WARNING:root:Position weights are not defined. Randomly choosing position to implant motif_instance instead.\n",
      "WARNING:root:Position weights are not defined. Randomly choosing position to implant motif_instance instead.\n",
      "WARNING:root:Position weights are not defined. Randomly choosing position to implant motif_instance instead.\n",
      "WARNING:root:Position weights are not defined. Randomly choosing position to implant motif_instance instead.\n",
      "WARNING:root:Position weights are not defined. Randomly choosing position to implant motif_instance instead.\n",
      "WARNING:root:Position weights are not defined. Randomly choosing position to implant motif_instance instead.\n",
      "WARNING:root:Position weights are not defined. Randomly choosing position to implant motif_instance instead.\n",
      "WARNING:root:Position weights are not defined. Randomly choosing position to implant motif_instance instead.\n",
      "WARNING:root:Position weights are not defined. Randomly choosing position to implant motif_instance instead.\n",
      "WARNING:root:Position weights are not defined. Randomly choosing position to implant motif_instance instead.\n",
      "WARNING:root:Position weights are not defined. Randomly choosing position to implant motif_instance instead.\n",
      "WARNING:root:Position weights are not defined. Randomly choosing position to implant motif_instance instead.\n",
      "WARNING:root:Position weights are not defined. Randomly choosing position to implant motif_instance instead.\n",
      "WARNING:root:Position weights are not defined. Randomly choosing position to implant motif_instance instead.\n",
      "WARNING:root:Position weights are not defined. Randomly choosing position to implant motif_instance instead.\n",
      "WARNING:root:Position weights are not defined. Randomly choosing position to implant motif_instance instead.\n",
      "WARNING:root:Position weights are not defined. Randomly choosing position to implant motif_instance instead.\n",
      "WARNING:root:Position weights are not defined. Randomly choosing position to implant motif_instance instead.\n",
      "WARNING:root:Position weights are not defined. Randomly choosing position to implant motif_instance instead.\n",
      "WARNING:root:Position weights are not defined. Randomly choosing position to implant motif_instance instead.\n",
      "WARNING:root:Position weights are not defined. Randomly choosing position to implant motif_instance instead.\n",
      "WARNING:root:Position weights are not defined. Randomly choosing position to implant motif_instance instead.\n",
      "WARNING:root:Position weights are not defined. Randomly choosing position to implant motif_instance instead.\n",
      "WARNING:root:Position weights are not defined. Randomly choosing position to implant motif_instance instead.\n",
      "WARNING:root:Position weights are not defined. Randomly choosing position to implant motif_instance instead.\n",
      "WARNING:root:Position weights are not defined. Randomly choosing position to implant motif_instance instead.\n",
      "WARNING:root:Position weights are not defined. Randomly choosing position to implant motif_instance instead.\n",
      "WARNING:root:Position weights are not defined. Randomly choosing position to implant motif_instance instead.\n",
      "WARNING:root:Position weights are not defined. Randomly choosing position to implant motif_instance instead.\n",
      "WARNING:root:Position weights are not defined. Randomly choosing position to implant motif_instance instead.\n",
      "WARNING:root:Position weights are not defined. Randomly choosing position to implant motif_instance instead.\n",
      "WARNING:root:Position weights are not defined. Randomly choosing position to implant motif_instance instead.\n",
      "WARNING:root:Position weights are not defined. Randomly choosing position to implant motif_instance instead.\n",
      "WARNING:root:Position weights are not defined. Randomly choosing position to implant motif_instance instead.\n",
      "WARNING:root:Position weights are not defined. Randomly choosing position to implant motif_instance instead.\n",
      "WARNING:root:Position weights are not defined. Randomly choosing position to implant motif_instance instead.\n",
      "WARNING:root:Position weights are not defined. Randomly choosing position to implant motif_instance instead.\n",
      "WARNING:root:Position weights are not defined. Randomly choosing position to implant motif_instance instead.\n",
      "WARNING:root:Position weights are not defined. Randomly choosing position to implant motif_instance instead.\n",
      "WARNING:root:Position weights are not defined. Randomly choosing position to implant motif_instance instead.\n",
      "WARNING:root:Position weights are not defined. Randomly choosing position to implant motif_instance instead.\n",
      "WARNING:root:Position weights are not defined. Randomly choosing position to implant motif_instance instead.\n"
     ]
    },
    {
     "name": "stdout",
     "output_type": "stream",
     "text": [
      "2022-05-24 11:10:24.283321: Instruction 1/1 has finished.\n",
      "2022-05-24 11:10:24.304320: Generating HTML reports...\n",
      "2022-05-24 11:10:24.810366: HTML reports are generated.\n",
      "2022-05-24 11:10:24.812365: ImmuneML: finished analysis.\n",
      "\n"
     ]
    },
    {
     "data": {
      "text/plain": [
       "[SimulationState(signals=[<immuneML.simulation.implants.Signal.Signal object at 0x0000027E0C48F880>], simulation=<immuneML.simulation.Simulation.Simulation object at 0x0000027E0C48F1C0>, dataset=<immuneML.data_model.dataset.RepertoireDataset.RepertoireDataset object at 0x0000027E0C7601C0>, formats=['AIRR'], paths={'my_synthetic_dataset': {'AIRR': WindowsPath('../../../immuneML/quickstart/result/simulation_instruction/exported_dataset/airr')}}, resulting_dataset=<immuneML.data_model.dataset.RepertoireDataset.RepertoireDataset object at 0x0000027E7336D820>, result_path=WindowsPath('../../../immuneML/quickstart/result/simulation_instruction'), name='simulation_instruction')]"
      ]
     },
     "execution_count": 8,
     "metadata": {},
     "output_type": "execute_result"
    }
   ],
   "source": [
    "app = ImmuneMLApp(specs_file, path / \"result\")\n",
    "\n",
    "app.run()\n"
   ]
  },
  {
   "cell_type": "code",
   "execution_count": 9,
   "metadata": {},
   "outputs": [],
   "source": [
    "path = EnvironmentSettings.root_path / \"quickstart/\"\n"
   ]
  },
  {
   "cell_type": "code",
   "execution_count": 10,
   "metadata": {},
   "outputs": [
    {
     "data": {
      "text/plain": [
       "WindowsPath('C:/Users/karth/Desktop/PhD projects/immuneML/immuneML/quickstart')"
      ]
     },
     "execution_count": 10,
     "metadata": {},
     "output_type": "execute_result"
    }
   ],
   "source": [
    "path"
   ]
  },
  {
   "cell_type": "code",
   "execution_count": 11,
   "metadata": {},
   "outputs": [],
   "source": [
    "specs = {\n",
    "    \"definitions\": {\n",
    "        \"datasets\": {\n",
    "            \"d1\": {\n",
    "                \"format\": \"AIRR\",\n",
    "                \"params\": {\n",
    "                    \"path\": str(path / \"result/simulation_instruction/exported_dataset/airr/\"),\n",
    "                    \"metadata_file\": str(path / \"result/simulation_instruction/exported_dataset/airr/metadata.csv\")\n",
    "                }\n",
    "            }\n",
    "        },\n",
    "        \"encodings\": {\n",
    "            \"e1\": {\n",
    "                \"KmerFrequency\": {\n",
    "                    \"k\": 3\n",
    "                }\n",
    "            },\n",
    "            \"e2\": {\n",
    "                \"KmerFrequency\": {\n",
    "                    \"k\": 2\n",
    "                }\n",
    "            }\n",
    "        },\n",
    "        \"ml_methods\": {\n",
    "            \"simpleLR\": {\n",
    "                \"LogisticRegression\": {\n",
    "                    \"C\": 0.1,\n",
    "                    \"penalty\": \"l1\",\n",
    "                    \"max_iter\": 200\n",
    "                }}\n",
    "        },\n",
    "        \"reports\": {\n",
    "            \"rep1\": {\n",
    "                \"SequenceLengthDistribution\": {\n",
    "                    \"batch_size\": 3\n",
    "                }\n",
    "            },\n",
    "            \"hprep\": \"MLSettingsPerformance\",\n",
    "            \"coef\": \"Coefficients\"\n",
    "        }\n",
    "    },\n",
    "    \"instructions\": {\n",
    "        \"machine_learning_instruction\": {\n",
    "            \"type\": \"TrainMLModel\",\n",
    "            \"settings\": [\n",
    "                {\n",
    "                    \"encoding\": \"e1\",\n",
    "                    \"ml_method\": \"simpleLR\"\n",
    "                },\n",
    "                {\n",
    "                    \"encoding\": \"e2\",\n",
    "                    \"ml_method\": \"simpleLR\"\n",
    "                }\n",
    "            ],\n",
    "            \"assessment\": {\n",
    "                \"split_strategy\": \"random\",\n",
    "                \"split_count\": 1,\n",
    "                \"training_percentage\": 0.7,\n",
    "                \"reports\": {\n",
    "                    \"data_splits\": [\"rep1\"],\n",
    "                    'models': [\"coef\"]\n",
    "                }\n",
    "            },\n",
    "            \"selection\": {\n",
    "                \"split_strategy\": \"random\",\n",
    "                \"split_count\": 1,\n",
    "                \"training_percentage\": 0.7,\n",
    "                \"reports\": {\n",
    "                    \"data_splits\": [\"rep1\"],\n",
    "                    \"models\": [],\n",
    "                }\n",
    "            },\n",
    "            \"labels\": [\"my_signal\"],\n",
    "            \"dataset\": \"d1\",\n",
    "            \"strategy\": \"GridSearch\",\n",
    "            \"metrics\": [\"accuracy\"],\n",
    "            \"reports\": [\"hprep\"],\n",
    "            \"number_of_processes\": 3,\n",
    "            \"optimization_metric\": \"balanced_accuracy\",\n",
    "            \"refit_optimal_model\": False\n",
    "        }\n",
    "    }\n",
    "}\n"
   ]
  },
  {
   "cell_type": "code",
   "execution_count": 12,
   "metadata": {},
   "outputs": [],
   "source": [
    "resultpath = path / \"machine_learning_analysis/result\"\n"
   ]
  },
  {
   "cell_type": "code",
   "execution_count": 13,
   "metadata": {},
   "outputs": [
    {
     "data": {
      "text/plain": [
       "WindowsPath('C:/Users/karth/Desktop/PhD projects/immuneML/immuneML/quickstart/machine_learning_analysis/result')"
      ]
     },
     "execution_count": 13,
     "metadata": {},
     "output_type": "execute_result"
    }
   ],
   "source": [
    "PathBuilder.build(resultpath)\n"
   ]
  },
  {
   "cell_type": "code",
   "execution_count": 14,
   "metadata": {},
   "outputs": [],
   "source": [
    "PathBuilder.build(path)\n",
    "specs_file = path / \"machine_learning_analysis/specs.yaml\"\n",
    "with specs_file.open(\"w\") as file:\n",
    "    yaml.dump(specs, file)\n"
   ]
  },
  {
   "cell_type": "code",
   "execution_count": 15,
   "metadata": {},
   "outputs": [
    {
     "data": {
      "text/plain": [
       "WindowsPath('C:/Users/karth/Desktop/PhD projects/immuneML/immuneML/quickstart/machine_learning_analysis/specs.yaml')"
      ]
     },
     "execution_count": 15,
     "metadata": {},
     "output_type": "execute_result"
    }
   ],
   "source": [
    "specs_file"
   ]
  },
  {
   "cell_type": "code",
   "execution_count": 16,
   "metadata": {},
   "outputs": [],
   "source": [
    "from immuneML.dsl.DefaultParamsLoader import DefaultParamsLoader\n",
    "from immuneML.environment.Constants import Constants\n",
    "from immuneML.caching.CacheType import CacheType\n"
   ]
  },
  {
   "cell_type": "code",
   "execution_count": 17,
   "metadata": {},
   "outputs": [
    {
     "name": "stdout",
     "output_type": "stream",
     "text": [
      "TrainMLModel\n",
      "{'reports': [], 'strategy': 'GridSearch', 'number_of_processes': 4, 'refit_optimal_model': False, 'metrics': [], 'assessment': {'split_strategy': 'random', 'split_count': 1, 'training_percentage': 0.7}, 'selection': {'split_strategy': 'random', 'split_count': 1, 'training_percentage': 0.7}}\n"
     ]
    }
   ],
   "source": [
    "for key in specs[\"instructions\"]:\n",
    "    default_params = DefaultParamsLoader.load(\n",
    "        \"instructions/\", specs[\"instructions\"][key][\"type\"])\n",
    "\n",
    "    print(specs[\"instructions\"][key][\"type\"])\n",
    "\n",
    "    print(default_params)\n"
   ]
  },
  {
   "cell_type": "code",
   "execution_count": 18,
   "metadata": {},
   "outputs": [],
   "source": [
    "from immuneML.util.ReflectionHandler import ReflectionHandler\n"
   ]
  },
  {
   "cell_type": "code",
   "execution_count": 19,
   "metadata": {},
   "outputs": [],
   "source": [
    "parser = ReflectionHandler.get_class_by_name(\"{}Parser\".format(\n",
    "    specs[\"instructions\"][key][\"type\"]), \"instruction_parsers/\")()\n"
   ]
  },
  {
   "cell_type": "code",
   "execution_count": 20,
   "metadata": {},
   "outputs": [
    {
     "data": {
      "text/plain": [
       "<immuneML.dsl.instruction_parsers.TrainMLModelParser.TrainMLModelParser at 0x27e0c760ac0>"
      ]
     },
     "execution_count": 20,
     "metadata": {},
     "output_type": "execute_result"
    }
   ],
   "source": [
    "parser"
   ]
  },
  {
   "cell_type": "code",
   "execution_count": 21,
   "metadata": {},
   "outputs": [],
   "source": [
    "\n",
    "from immuneML.dsl.ImmuneMLParser import ImmuneMLParser\n",
    "\n",
    "from immuneML.caching.CacheType import CacheType\n",
    "from immuneML.dsl.ImmuneMLParser import ImmuneMLParser\n",
    "from immuneML.dsl.semantic_model.SemanticModel import SemanticModel\n",
    "from immuneML.dsl.symbol_table.SymbolType import SymbolType\n",
    "from immuneML.environment.Constants import Constants\n",
    "from immuneML.environment.EnvironmentSettings import EnvironmentSettings\n",
    "from immuneML.util.PathBuilder import PathBuilder\n",
    "from immuneML.util.ReflectionHandler import ReflectionHandler\n"
   ]
  },
  {
   "cell_type": "code",
   "execution_count": 22,
   "metadata": {},
   "outputs": [],
   "source": [
    "from immuneML.ml_methods.LogisticRegression import LogisticRegression"
   ]
  },
  {
   "cell_type": "code",
   "execution_count": 23,
   "metadata": {},
   "outputs": [],
   "source": [
    "MLMethod = LogisticRegression()"
   ]
  },
  {
   "cell_type": "code",
   "execution_count": 24,
   "metadata": {},
   "outputs": [
    {
     "name": "stdout",
     "output_type": "stream",
     "text": [
      "2022-05-24 11:10:39.546129: Full specification is available at C:\\Users\\karth\\Desktop\\PhD projects\\immuneML\\immuneML\\quickstart\\machine_learning_analysis\\result\\full_specs.yaml.\n",
      "\n"
     ]
    }
   ],
   "source": [
    "symbol_table, specification_path = ImmuneMLParser.parse_yaml_file(\n",
    "    specs_file, resultpath)\n"
   ]
  },
  {
   "cell_type": "code",
   "execution_count": 25,
   "metadata": {},
   "outputs": [
    {
     "data": {
      "text/plain": [
       "WindowsPath('C:/Users/karth/Desktop/PhD projects/immuneML/immuneML/quickstart/machine_learning_analysis/result/full_specs.yaml')"
      ]
     },
     "execution_count": 25,
     "metadata": {},
     "output_type": "execute_result"
    }
   ],
   "source": [
    "specification_path"
   ]
  },
  {
   "cell_type": "code",
   "execution_count": 26,
   "metadata": {},
   "outputs": [
    {
     "data": {
      "text/plain": [
       "{'format': 'HTML'}"
      ]
     },
     "execution_count": 26,
     "metadata": {},
     "output_type": "execute_result"
    }
   ],
   "source": [
    "output = symbol_table.get(\"output\")\n",
    "output"
   ]
  },
  {
   "cell_type": "code",
   "execution_count": 27,
   "metadata": {},
   "outputs": [],
   "source": [
    "instructions = symbol_table.get_by_type(SymbolType.INSTRUCTION)\n"
   ]
  },
  {
   "cell_type": "code",
   "execution_count": null,
   "metadata": {},
   "outputs": [],
   "source": []
  },
  {
   "cell_type": "code",
   "execution_count": 28,
   "metadata": {},
   "outputs": [
    {
     "data": {
      "text/plain": [
       "{'symbol': 'machine_learning_instruction',\n",
       " 'symbol_type': <SymbolType.INSTRUCTION: 8>,\n",
       " 'item': <immuneML.workflows.instructions.TrainMLModelInstruction.TrainMLModelInstruction at 0x27e105b51c0>,\n",
       " 'config': None}"
      ]
     },
     "execution_count": 28,
     "metadata": {},
     "output_type": "execute_result"
    }
   ],
   "source": [
    "instructions[0].__dict__"
   ]
  },
  {
   "cell_type": "code",
   "execution_count": 29,
   "metadata": {},
   "outputs": [],
   "source": [
    "from immuneML.dsl.DefaultParamsLoader import DefaultParamsLoader\n"
   ]
  },
  {
   "cell_type": "code",
   "execution_count": 30,
   "metadata": {},
   "outputs": [],
   "source": [
    "for key in specs[\"instructions\"]:\n",
    "\n",
    "    key = key"
   ]
  },
  {
   "cell_type": "code",
   "execution_count": 31,
   "metadata": {},
   "outputs": [
    {
     "data": {
      "text/plain": [
       "'machine_learning_instruction'"
      ]
     },
     "execution_count": 31,
     "metadata": {},
     "output_type": "execute_result"
    }
   ],
   "source": [
    "key"
   ]
  },
  {
   "cell_type": "code",
   "execution_count": 32,
   "metadata": {},
   "outputs": [
    {
     "data": {
      "text/plain": [
       "{'reports': [],\n",
       " 'strategy': 'GridSearch',\n",
       " 'number_of_processes': 4,\n",
       " 'refit_optimal_model': False,\n",
       " 'metrics': [],\n",
       " 'assessment': {'split_strategy': 'random',\n",
       "  'split_count': 1,\n",
       "  'training_percentage': 0.7},\n",
       " 'selection': {'split_strategy': 'random',\n",
       "  'split_count': 1,\n",
       "  'training_percentage': 0.7}}"
      ]
     },
     "execution_count": 32,
     "metadata": {},
     "output_type": "execute_result"
    }
   ],
   "source": [
    "default_params = DefaultParamsLoader.load(\n",
    "    \"instructions/\", specs[\"instructions\"][key][\"type\"])\n",
    "\n",
    "default_params\n"
   ]
  },
  {
   "cell_type": "code",
   "execution_count": 33,
   "metadata": {},
   "outputs": [],
   "source": [
    "instruction = {**default_params, **specs[\"instructions\"][key]}\n"
   ]
  },
  {
   "cell_type": "code",
   "execution_count": 34,
   "metadata": {},
   "outputs": [
    {
     "data": {
      "text/plain": [
       "{'reports': ['hprep'],\n",
       " 'strategy': 'GridSearch',\n",
       " 'number_of_processes': 3,\n",
       " 'refit_optimal_model': False,\n",
       " 'metrics': ['accuracy'],\n",
       " 'assessment': {'split_strategy': 'random',\n",
       "  'split_count': 1,\n",
       "  'training_percentage': 0.7,\n",
       "  'reports': {'data_splits': ['rep1'], 'models': ['coef']}},\n",
       " 'selection': {'split_strategy': 'random',\n",
       "  'split_count': 1,\n",
       "  'training_percentage': 0.7,\n",
       "  'reports': {'data_splits': ['rep1'], 'models': []}},\n",
       " 'type': 'TrainMLModel',\n",
       " 'settings': [{'encoding': 'e1', 'ml_method': 'simpleLR'},\n",
       "  {'encoding': 'e2', 'ml_method': 'simpleLR'}],\n",
       " 'labels': ['my_signal'],\n",
       " 'dataset': 'd1',\n",
       " 'optimization_metric': 'balanced_accuracy'}"
      ]
     },
     "execution_count": 34,
     "metadata": {},
     "output_type": "execute_result"
    }
   ],
   "source": [
    "instruction"
   ]
  },
  {
   "cell_type": "code",
   "execution_count": 35,
   "metadata": {},
   "outputs": [
    {
     "data": {
      "text/plain": [
       "WindowsPath('C:/Users/karth/Desktop/PhD projects/immuneML/immuneML/quickstart/machine_learning_analysis/result')"
      ]
     },
     "execution_count": 35,
     "metadata": {},
     "output_type": "execute_result"
    }
   ],
   "source": [
    "resultpath"
   ]
  },
  {
   "cell_type": "code",
   "execution_count": 36,
   "metadata": {},
   "outputs": [],
   "source": [
    "parser = ReflectionHandler.get_class_by_name(\"{}Parser\".format(\n",
    "    specs[\"instructions\"][key][\"type\"]), \"instruction_parsers/\")()\n"
   ]
  },
  {
   "cell_type": "code",
   "execution_count": 37,
   "metadata": {},
   "outputs": [
    {
     "data": {
      "text/plain": [
       "<immuneML.dsl.instruction_parsers.TrainMLModelParser.TrainMLModelParser at 0x27e0c760190>"
      ]
     },
     "execution_count": 37,
     "metadata": {},
     "output_type": "execute_result"
    }
   ],
   "source": [
    "parser"
   ]
  },
  {
   "cell_type": "code",
   "execution_count": 38,
   "metadata": {},
   "outputs": [],
   "source": [
    "instructions_object = parser.parse(key, instruction , symbol_table, resultpath )"
   ]
  },
  {
   "cell_type": "code",
   "execution_count": 39,
   "metadata": {},
   "outputs": [
    {
     "data": {
      "text/plain": [
       "<immuneML.workflows.instructions.TrainMLModelInstruction.TrainMLModelInstruction at 0x27e105b6b50>"
      ]
     },
     "execution_count": 39,
     "metadata": {},
     "output_type": "execute_result"
    }
   ],
   "source": [
    "instructions_object"
   ]
  },
  {
   "cell_type": "code",
   "execution_count": 40,
   "metadata": {},
   "outputs": [
    {
     "data": {
      "text/plain": [
       "{'state': TrainMLModelState(dataset=<immuneML.data_model.dataset.RepertoireDataset.RepertoireDataset object at 0x0000027E105ADE80>, hp_strategy=<immuneML.hyperparameter_optimization.strategy.GridSearch.GridSearch object at 0x0000027E0C495DC0>, hp_settings=[<immuneML.hyperparameter_optimization.HPSetting.HPSetting object at 0x0000027E0C7D2820>, <immuneML.hyperparameter_optimization.HPSetting.HPSetting object at 0x0000027E0C48F6D0>], assessment=<immuneML.hyperparameter_optimization.config.SplitConfig.SplitConfig object at 0x0000027E0C495CD0>, selection=<immuneML.hyperparameter_optimization.config.SplitConfig.SplitConfig object at 0x0000027E0C3C1160>, metrics={<Metric.ACCURACY: 'accuracy_score'>}, optimization_metric=<Metric.BALANCED_ACCURACY: 'balanced_accuracy_score'>, label_configuration=<immuneML.environment.LabelConfiguration.LabelConfiguration object at 0x0000027E0C48FF70>, path=WindowsPath('C:/Users/karth/Desktop/PhD projects/immuneML/immuneML/analysis_runs/7445dd22466e58dfe647730a635b0547'), context={'dataset': <immuneML.data_model.dataset.RepertoireDataset.RepertoireDataset object at 0x0000027E105ADE80>}, number_of_processes=3, reports={'hprep': <immuneML.reports.train_ml_model_reports.MLSettingsPerformance.MLSettingsPerformance object at 0x0000027E0D6878B0>}, name='machine_learning_instruction', refit_optimal_model=False, optimal_hp_items={}, optimal_hp_item_paths={}, assessment_states=[], report_results=[])}"
      ]
     },
     "execution_count": 40,
     "metadata": {},
     "output_type": "execute_result"
    }
   ],
   "source": [
    "instructions_object.__dict__"
   ]
  },
  {
   "cell_type": "code",
   "execution_count": 41,
   "metadata": {},
   "outputs": [],
   "source": [
    "state = instructions_object.state"
   ]
  },
  {
   "cell_type": "code",
   "execution_count": 42,
   "metadata": {},
   "outputs": [
    {
     "data": {
      "text/plain": [
       "TrainMLModelState(dataset=<immuneML.data_model.dataset.RepertoireDataset.RepertoireDataset object at 0x0000027E105ADE80>, hp_strategy=<immuneML.hyperparameter_optimization.strategy.GridSearch.GridSearch object at 0x0000027E0C495DC0>, hp_settings=[<immuneML.hyperparameter_optimization.HPSetting.HPSetting object at 0x0000027E0C7D2820>, <immuneML.hyperparameter_optimization.HPSetting.HPSetting object at 0x0000027E0C48F6D0>], assessment=<immuneML.hyperparameter_optimization.config.SplitConfig.SplitConfig object at 0x0000027E0C495CD0>, selection=<immuneML.hyperparameter_optimization.config.SplitConfig.SplitConfig object at 0x0000027E0C3C1160>, metrics={<Metric.ACCURACY: 'accuracy_score'>}, optimization_metric=<Metric.BALANCED_ACCURACY: 'balanced_accuracy_score'>, label_configuration=<immuneML.environment.LabelConfiguration.LabelConfiguration object at 0x0000027E0C48FF70>, path=WindowsPath('C:/Users/karth/Desktop/PhD projects/immuneML/immuneML/analysis_runs/7445dd22466e58dfe647730a635b0547'), context={'dataset': <immuneML.data_model.dataset.RepertoireDataset.RepertoireDataset object at 0x0000027E105ADE80>}, number_of_processes=3, reports={'hprep': <immuneML.reports.train_ml_model_reports.MLSettingsPerformance.MLSettingsPerformance object at 0x0000027E0D6878B0>}, name='machine_learning_instruction', refit_optimal_model=False, optimal_hp_items={}, optimal_hp_item_paths={}, assessment_states=[], report_results=[])"
      ]
     },
     "execution_count": 42,
     "metadata": {},
     "output_type": "execute_result"
    }
   ],
   "source": [
    "state"
   ]
  },
  {
   "cell_type": "code",
   "execution_count": 43,
   "metadata": {},
   "outputs": [
    {
     "data": {
      "text/plain": [
       "['my_signal', 'subject_id', 'identifier', 'filename']"
      ]
     },
     "execution_count": 43,
     "metadata": {},
     "output_type": "execute_result"
    }
   ],
   "source": [
    "state.dataset.get_metadata_fields()"
   ]
  },
  {
   "cell_type": "code",
   "execution_count": 44,
   "metadata": {},
   "outputs": [
    {
     "data": {
      "text/plain": [
       "[WindowsPath('repertoires/1b0b00b15de940d29cb2b93785bf56b4.npy'),\n",
       " WindowsPath('repertoires/e9030a3054e74e809985664108993718.npy'),\n",
       " WindowsPath('repertoires/0141afbeefd4427b8ac6808637808210.npy'),\n",
       " WindowsPath('repertoires/7e7e75819126449dbc68b7e8e0bb44e1.npy'),\n",
       " WindowsPath('repertoires/534cb2c096bb456595925d170f899b3e.npy'),\n",
       " WindowsPath('repertoires/a67b0b669bcb44459be9d42c7c8e886d.npy'),\n",
       " WindowsPath('repertoires/53ccc6af09cd41a9aa21f59b1ee20aae.npy'),\n",
       " WindowsPath('repertoires/a8f621bc294a4497b0bb992af896e672.npy'),\n",
       " WindowsPath('repertoires/b65e572a12c749d29de7700f140fa455.npy'),\n",
       " WindowsPath('repertoires/4202c9f1332e41f1b23451dac71884dd.npy'),\n",
       " WindowsPath('repertoires/e2552214b84b4223b89d78c623accce7.npy'),\n",
       " WindowsPath('repertoires/8b58a4183132412d836656416bd9ba21.npy'),\n",
       " WindowsPath('repertoires/3d5d0a99e2f445ee837082d1c4742e13.npy'),\n",
       " WindowsPath('repertoires/78de5469429c4fa1a51a3a57a4958a98.npy'),\n",
       " WindowsPath('repertoires/d2752e8e0cf349b683d99f4b327186be.npy'),\n",
       " WindowsPath('repertoires/80461eaa375b4baebc4496c826f024cb.npy'),\n",
       " WindowsPath('repertoires/dc086370aa724984b52195c7cb759296.npy'),\n",
       " WindowsPath('repertoires/2a3f457bf14b486d9e7d9b09a9be47ac.npy'),\n",
       " WindowsPath('repertoires/5fffb8866c074ab29fde7a3b80b59eec.npy'),\n",
       " WindowsPath('repertoires/92b9795ccb2445c198211a63e7aa857f.npy'),\n",
       " WindowsPath('repertoires/042d5de09b2049d3b481cd939a5ec3ae.npy'),\n",
       " WindowsPath('repertoires/1129c66ff15b43f5b5836496d6e0fb42.npy'),\n",
       " WindowsPath('repertoires/67ae1b9ad1744a5cb3809fd54e6f9560.npy'),\n",
       " WindowsPath('repertoires/9a605c3ce1dc4ee2a8a40b2c2d82ac39.npy'),\n",
       " WindowsPath('repertoires/5d61c1e46f1f4a28808623f32b9ee6aa.npy'),\n",
       " WindowsPath('repertoires/39a928bffe314f70af2cda92a0e94d9e.npy'),\n",
       " WindowsPath('repertoires/b1bf9ce1ba1849d9a36aa045a3204cb9.npy'),\n",
       " WindowsPath('repertoires/a8fa20574be649d2b2b242cc289a35b3.npy'),\n",
       " WindowsPath('repertoires/ce8c4cda376e4593851d6f555e71b7e1.npy'),\n",
       " WindowsPath('repertoires/9d9e841898cb46e3929bd1e86a869572.npy'),\n",
       " WindowsPath('repertoires/b233c3e3849b47a5b01bf6ac06d3a612.npy'),\n",
       " WindowsPath('repertoires/0441753d5c2148008435cdd5798d8f22.npy'),\n",
       " WindowsPath('repertoires/1338b53c16bb4afb815aad4ac30d606a.npy'),\n",
       " WindowsPath('repertoires/a3f5e2361e5f45869cf2bb18e061d0f7.npy'),\n",
       " WindowsPath('repertoires/d7c11e093aee44baada6521c672ca126.npy'),\n",
       " WindowsPath('repertoires/48b394eb1b65491daa8f3a5eaf64e4c4.npy'),\n",
       " WindowsPath('repertoires/6685cad982a643d7908ab95700ac2ea9.npy'),\n",
       " WindowsPath('repertoires/174971dda024456c9d4cd07030e1c09c.npy'),\n",
       " WindowsPath('repertoires/3c559babf0854a8fa5882359c5b6451a.npy'),\n",
       " WindowsPath('repertoires/5b6b800a34ea45e0a667b251e868a127.npy'),\n",
       " WindowsPath('repertoires/230f2b59a504419cac718f0b50b51dde.npy'),\n",
       " WindowsPath('repertoires/a287e19cb4d74f16973c111225be30ef.npy'),\n",
       " WindowsPath('repertoires/b216b7fbecad4493aad4dcfb87713815.npy'),\n",
       " WindowsPath('repertoires/dd352b2b3ae147429c25762b5f591c71.npy'),\n",
       " WindowsPath('repertoires/79dca18a8d4b4bfd9d8dd73223af8e84.npy'),\n",
       " WindowsPath('repertoires/0def33e24668465b8b3745f75089f12d.npy'),\n",
       " WindowsPath('repertoires/3b5c00731c514c3d82b81ede58da0085.npy'),\n",
       " WindowsPath('repertoires/c0f3551380ab43ebbcbb3a940af91386.npy'),\n",
       " WindowsPath('repertoires/f18458773861488d9a7cbf5ac71a1ed3.npy'),\n",
       " WindowsPath('repertoires/a476688c246b4a8ca33bdea56cf1cef0.npy'),\n",
       " WindowsPath('repertoires/d542f5a8df474c28b8965a1e8357f66f.npy'),\n",
       " WindowsPath('repertoires/96c18bd7e7c441328c18b31e8db5e1f6.npy'),\n",
       " WindowsPath('repertoires/2895c054e86c4ed29fed845d78f46be5.npy'),\n",
       " WindowsPath('repertoires/252d6ac38234484dacdf2691555e1b60.npy'),\n",
       " WindowsPath('repertoires/929262ae60454481bae92ba23efe81b3.npy'),\n",
       " WindowsPath('repertoires/e2c53c4c529d48bcbff96e8b1a825329.npy'),\n",
       " WindowsPath('repertoires/a1779d7cc5c744e1a0151c6fb74ce8c3.npy'),\n",
       " WindowsPath('repertoires/8c99679dce3349ac99717cbada2fa894.npy'),\n",
       " WindowsPath('repertoires/7777c717844647488ef113e9f4f0037c.npy'),\n",
       " WindowsPath('repertoires/4f2a20615a204610bc74167c28b10922.npy'),\n",
       " WindowsPath('repertoires/32f32b893f6747a598c4e36da5cd3d2f.npy'),\n",
       " WindowsPath('repertoires/ef36f91fe1fc4c8ba2362d8f8ad8a478.npy'),\n",
       " WindowsPath('repertoires/6980eedfc3194b789b8d04d0b570321b.npy'),\n",
       " WindowsPath('repertoires/b16e2c088a1148b8b8d5da63fd988376.npy'),\n",
       " WindowsPath('repertoires/a8f9ccc311fa43e4bc1ea0a20feade60.npy'),\n",
       " WindowsPath('repertoires/3420f4e8a1644772a7898e2a3cb26bed.npy'),\n",
       " WindowsPath('repertoires/576a76f39da146368d1bff4185c7cbeb.npy'),\n",
       " WindowsPath('repertoires/232e97e618594e3ca32a403e834a69a4.npy'),\n",
       " WindowsPath('repertoires/27c42bca98f641259642d41ff2dc4562.npy'),\n",
       " WindowsPath('repertoires/60a973e97f2c4fd48d4b7aae952f4e28.npy'),\n",
       " WindowsPath('repertoires/470d3be3b67b44708eed547d7a42e6d1.npy'),\n",
       " WindowsPath('repertoires/fc62a4511edc4bbcafb598eaf7a1b6c4.npy'),\n",
       " WindowsPath('repertoires/4955431f9b1a4066ae015f65e8dbff51.npy'),\n",
       " WindowsPath('repertoires/f6cb5e4d567c45cb9f8da55d1a5f6f83.npy'),\n",
       " WindowsPath('repertoires/ea9798bd0d744648844d87289a9467c8.npy'),\n",
       " WindowsPath('repertoires/9ff73c54a15e47b7b523b5ee5b8435a1.npy'),\n",
       " WindowsPath('repertoires/5dac65eaa79946c68bd1f57c034ca997.npy'),\n",
       " WindowsPath('repertoires/39aae24a84964caca45a8bdbcbe0838f.npy'),\n",
       " WindowsPath('repertoires/1455f849374f445b8b661e8ba6e2ade9.npy'),\n",
       " WindowsPath('repertoires/af14f94a81ae414d986b49da257d4a92.npy'),\n",
       " WindowsPath('repertoires/14c64f2af9ca438fb4e95cfa123dc6d2.npy'),\n",
       " WindowsPath('repertoires/a49dce4b6e4e40588f18fb41e9374054.npy'),\n",
       " WindowsPath('repertoires/023dfc714a7845adbaa7e9bef4e756f8.npy'),\n",
       " WindowsPath('repertoires/11bcb674a19c48d69d530df9b99f819d.npy'),\n",
       " WindowsPath('repertoires/30157a0721564328a90369e81c99fe83.npy'),\n",
       " WindowsPath('repertoires/5e49e31849144a5c9e30f6ffe036b539.npy'),\n",
       " WindowsPath('repertoires/5d534a80ff0b4b148bcb90ef90d77523.npy'),\n",
       " WindowsPath('repertoires/7425ab1a27064a89a1e4143ed39f7d34.npy'),\n",
       " WindowsPath('repertoires/90f4a3b5975a45ef86e81295ec33f1a9.npy'),\n",
       " WindowsPath('repertoires/9c1c676dce954e9db1d6b733bcd9a78e.npy'),\n",
       " WindowsPath('repertoires/8e957cecf804477aad1799f0b8440d0e.npy'),\n",
       " WindowsPath('repertoires/956f811e877844e1aa081d91c9bf3ba7.npy'),\n",
       " WindowsPath('repertoires/7acb65b8ac754430bcb70bb3026eef42.npy'),\n",
       " WindowsPath('repertoires/dc0c8e9ee37c4cc5a1f976031d002191.npy'),\n",
       " WindowsPath('repertoires/d991bd8e3eb3496a9859d6dca0ab3a9a.npy'),\n",
       " WindowsPath('repertoires/f148da942b3b4978a9780d778f504240.npy'),\n",
       " WindowsPath('repertoires/aa4c5bcfc1a344b182511f6807b443d1.npy'),\n",
       " WindowsPath('repertoires/4768b610335548b98a65e811e69eaa16.npy'),\n",
       " WindowsPath('repertoires/3176d33742364c348703e054cc4eaebb.npy'),\n",
       " WindowsPath('repertoires/779604c9a42f449996bad2320b3052ee.npy')]"
      ]
     },
     "execution_count": 44,
     "metadata": {},
     "output_type": "execute_result"
    }
   ],
   "source": [
    "state.dataset.get_filenames()"
   ]
  },
  {
   "cell_type": "code",
   "execution_count": 45,
   "metadata": {},
   "outputs": [
    {
     "data": {
      "text/plain": [
       "[<immuneML.data_model.repertoire.Repertoire.Repertoire at 0x27e105b0f40>,\n",
       " <immuneML.data_model.repertoire.Repertoire.Repertoire at 0x27e105b0a90>,\n",
       " <immuneML.data_model.repertoire.Repertoire.Repertoire at 0x27e105b0ac0>,\n",
       " <immuneML.data_model.repertoire.Repertoire.Repertoire at 0x27e105b0bb0>,\n",
       " <immuneML.data_model.repertoire.Repertoire.Repertoire at 0x27e105b0400>,\n",
       " <immuneML.data_model.repertoire.Repertoire.Repertoire at 0x27e105b0850>,\n",
       " <immuneML.data_model.repertoire.Repertoire.Repertoire at 0x27e105b0520>,\n",
       " <immuneML.data_model.repertoire.Repertoire.Repertoire at 0x27e105b0610>,\n",
       " <immuneML.data_model.repertoire.Repertoire.Repertoire at 0x27e105b09a0>,\n",
       " <immuneML.data_model.repertoire.Repertoire.Repertoire at 0x27e105b0640>,\n",
       " <immuneML.data_model.repertoire.Repertoire.Repertoire at 0x27e105b0730>,\n",
       " <immuneML.data_model.repertoire.Repertoire.Repertoire at 0x27e105b0760>,\n",
       " <immuneML.data_model.repertoire.Repertoire.Repertoire at 0x27e105b0f10>,\n",
       " <immuneML.data_model.repertoire.Repertoire.Repertoire at 0x27e105b0be0>,\n",
       " <immuneML.data_model.repertoire.Repertoire.Repertoire at 0x27e105b0cd0>,\n",
       " <immuneML.data_model.repertoire.Repertoire.Repertoire at 0x27e105b0e20>,\n",
       " <immuneML.data_model.repertoire.Repertoire.Repertoire at 0x27e105b0970>,\n",
       " <immuneML.data_model.repertoire.Repertoire.Repertoire at 0x27e105b0d00>,\n",
       " <immuneML.data_model.repertoire.Repertoire.Repertoire at 0x27e105b0df0>,\n",
       " <immuneML.data_model.repertoire.Repertoire.Repertoire at 0x27e105b0880>,\n",
       " <immuneML.data_model.repertoire.Repertoire.Repertoire at 0x27e105b04f0>,\n",
       " <immuneML.data_model.repertoire.Repertoire.Repertoire at 0x27e105b0130>,\n",
       " <immuneML.data_model.repertoire.Repertoire.Repertoire at 0x27e105b0160>,\n",
       " <immuneML.data_model.repertoire.Repertoire.Repertoire at 0x27e105b02b0>,\n",
       " <immuneML.data_model.repertoire.Repertoire.Repertoire at 0x27e105b8760>,\n",
       " <immuneML.data_model.repertoire.Repertoire.Repertoire at 0x27e105b8070>,\n",
       " <immuneML.data_model.repertoire.Repertoire.Repertoire at 0x27e105b8be0>,\n",
       " <immuneML.data_model.repertoire.Repertoire.Repertoire at 0x27e105b8ac0>,\n",
       " <immuneML.data_model.repertoire.Repertoire.Repertoire at 0x27e105b8730>,\n",
       " <immuneML.data_model.repertoire.Repertoire.Repertoire at 0x27e105b8eb0>,\n",
       " <immuneML.data_model.repertoire.Repertoire.Repertoire at 0x27e105b8ee0>,\n",
       " <immuneML.data_model.repertoire.Repertoire.Repertoire at 0x27e105b8190>,\n",
       " <immuneML.data_model.repertoire.Repertoire.Repertoire at 0x27e105b81c0>,\n",
       " <immuneML.data_model.repertoire.Repertoire.Repertoire at 0x27e105b8df0>,\n",
       " <immuneML.data_model.repertoire.Repertoire.Repertoire at 0x27e105b8e20>,\n",
       " <immuneML.data_model.repertoire.Repertoire.Repertoire at 0x27e105b82b0>,\n",
       " <immuneML.data_model.repertoire.Repertoire.Repertoire at 0x27e105b8400>,\n",
       " <immuneML.data_model.repertoire.Repertoire.Repertoire at 0x27e105b8d60>,\n",
       " <immuneML.data_model.repertoire.Repertoire.Repertoire at 0x27e105b8d90>,\n",
       " <immuneML.data_model.repertoire.Repertoire.Repertoire at 0x27e105b80a0>,\n",
       " <immuneML.data_model.repertoire.Repertoire.Repertoire at 0x27e105b8bb0>,\n",
       " <immuneML.data_model.repertoire.Repertoire.Repertoire at 0x27e105b83d0>,\n",
       " <immuneML.data_model.repertoire.Repertoire.Repertoire at 0x27e105b8880>,\n",
       " <immuneML.data_model.repertoire.Repertoire.Repertoire at 0x27e105b84f0>,\n",
       " <immuneML.data_model.repertoire.Repertoire.Repertoire at 0x27e105b8520>,\n",
       " <immuneML.data_model.repertoire.Repertoire.Repertoire at 0x27e105b8f10>,\n",
       " <immuneML.data_model.repertoire.Repertoire.Repertoire at 0x27e105b8f40>,\n",
       " <immuneML.data_model.repertoire.Repertoire.Repertoire at 0x27e105b8610>,\n",
       " <immuneML.data_model.repertoire.Repertoire.Repertoire at 0x27e105b82e0>,\n",
       " <immuneML.data_model.repertoire.Repertoire.Repertoire at 0x27e105b8fd0>,\n",
       " <immuneML.data_model.repertoire.Repertoire.Repertoire at 0x27e105b8d00>,\n",
       " <immuneML.data_model.repertoire.Repertoire.Repertoire at 0x27e105b8a90>,\n",
       " <immuneML.data_model.repertoire.Repertoire.Repertoire at 0x27e105b8e80>,\n",
       " <immuneML.data_model.repertoire.Repertoire.Repertoire at 0x27e105b8f70>,\n",
       " <immuneML.data_model.repertoire.Repertoire.Repertoire at 0x27e105b8fa0>,\n",
       " <immuneML.data_model.repertoire.Repertoire.Repertoire at 0x27e105b8d30>,\n",
       " <immuneML.data_model.repertoire.Repertoire.Repertoire at 0x27e105b89a0>,\n",
       " <immuneML.data_model.repertoire.Repertoire.Repertoire at 0x27e105b8cd0>,\n",
       " <immuneML.data_model.repertoire.Repertoire.Repertoire at 0x27e105b8dc0>,\n",
       " <immuneML.data_model.repertoire.Repertoire.Repertoire at 0x27e105b8970>,\n",
       " <immuneML.data_model.repertoire.Repertoire.Repertoire at 0x27e105b8640>,\n",
       " <immuneML.data_model.repertoire.Repertoire.Repertoire at 0x27e105b8e50>,\n",
       " <immuneML.data_model.repertoire.Repertoire.Repertoire at 0x27e105b8850>,\n",
       " <immuneML.data_model.repertoire.Repertoire.Repertoire at 0x27e105d8040>,\n",
       " <immuneML.data_model.repertoire.Repertoire.Repertoire at 0x27e105d8070>,\n",
       " <immuneML.data_model.repertoire.Repertoire.Repertoire at 0x27e105d80a0>,\n",
       " <immuneML.data_model.repertoire.Repertoire.Repertoire at 0x27e105d80d0>,\n",
       " <immuneML.data_model.repertoire.Repertoire.Repertoire at 0x27e105d8100>,\n",
       " <immuneML.data_model.repertoire.Repertoire.Repertoire at 0x27e105d8130>,\n",
       " <immuneML.data_model.repertoire.Repertoire.Repertoire at 0x27e105d8160>,\n",
       " <immuneML.data_model.repertoire.Repertoire.Repertoire at 0x27e105d8190>,\n",
       " <immuneML.data_model.repertoire.Repertoire.Repertoire at 0x27e105d81c0>,\n",
       " <immuneML.data_model.repertoire.Repertoire.Repertoire at 0x27e105d81f0>,\n",
       " <immuneML.data_model.repertoire.Repertoire.Repertoire at 0x27e105d8220>,\n",
       " <immuneML.data_model.repertoire.Repertoire.Repertoire at 0x27e105d8250>,\n",
       " <immuneML.data_model.repertoire.Repertoire.Repertoire at 0x27e105b02e0>,\n",
       " <immuneML.data_model.repertoire.Repertoire.Repertoire at 0x27e105b03d0>,\n",
       " <immuneML.data_model.repertoire.Repertoire.Repertoire at 0x27e105d8280>,\n",
       " <immuneML.data_model.repertoire.Repertoire.Repertoire at 0x27e105d82b0>,\n",
       " <immuneML.data_model.repertoire.Repertoire.Repertoire at 0x27e105d82e0>,\n",
       " <immuneML.data_model.repertoire.Repertoire.Repertoire at 0x27e105d8310>,\n",
       " <immuneML.data_model.repertoire.Repertoire.Repertoire at 0x27e105d8340>,\n",
       " <immuneML.data_model.repertoire.Repertoire.Repertoire at 0x27e105d8370>,\n",
       " <immuneML.data_model.repertoire.Repertoire.Repertoire at 0x27e105d83a0>,\n",
       " <immuneML.data_model.repertoire.Repertoire.Repertoire at 0x27e105d83d0>,\n",
       " <immuneML.data_model.repertoire.Repertoire.Repertoire at 0x27e105d8400>,\n",
       " <immuneML.data_model.repertoire.Repertoire.Repertoire at 0x27e105d8430>,\n",
       " <immuneML.data_model.repertoire.Repertoire.Repertoire at 0x27e105d8460>,\n",
       " <immuneML.data_model.repertoire.Repertoire.Repertoire at 0x27e105d8490>,\n",
       " <immuneML.data_model.repertoire.Repertoire.Repertoire at 0x27e105d84c0>,\n",
       " <immuneML.data_model.repertoire.Repertoire.Repertoire at 0x27e105d84f0>,\n",
       " <immuneML.data_model.repertoire.Repertoire.Repertoire at 0x27e105d8520>,\n",
       " <immuneML.data_model.repertoire.Repertoire.Repertoire at 0x27e105d8550>,\n",
       " <immuneML.data_model.repertoire.Repertoire.Repertoire at 0x27e105d8580>,\n",
       " <immuneML.data_model.repertoire.Repertoire.Repertoire at 0x27e105d85b0>,\n",
       " <immuneML.data_model.repertoire.Repertoire.Repertoire at 0x27e105d85e0>,\n",
       " <immuneML.data_model.repertoire.Repertoire.Repertoire at 0x27e105d8610>,\n",
       " <immuneML.data_model.repertoire.Repertoire.Repertoire at 0x27e105d8640>,\n",
       " <immuneML.data_model.repertoire.Repertoire.Repertoire at 0x27e105d8670>,\n",
       " <immuneML.data_model.repertoire.Repertoire.Repertoire at 0x27e105d86a0>]"
      ]
     },
     "execution_count": 45,
     "metadata": {},
     "output_type": "execute_result"
    }
   ],
   "source": [
    "state.dataset.get_data()"
   ]
  },
  {
   "cell_type": "code",
   "execution_count": 46,
   "metadata": {},
   "outputs": [
    {
     "data": {
      "text/plain": [
       "<immuneML.hyperparameter_optimization.HPSetting.HPSetting at 0x27e0c7d2820>"
      ]
     },
     "execution_count": 46,
     "metadata": {},
     "output_type": "execute_result"
    }
   ],
   "source": [
    "state.hp_settings[0]"
   ]
  },
  {
   "cell_type": "code",
   "execution_count": 47,
   "metadata": {},
   "outputs": [
    {
     "data": {
      "text/plain": [
       "{'normalization_type': 'l2',\n",
       " 'reads': 'unique',\n",
       " 'sequence_encoding': 'continuous_kmer',\n",
       " 'scale_to_unit_variance': True,\n",
       " 'scale_to_zero_mean': False,\n",
       " 'k': 3,\n",
       " 'k_left': 1,\n",
       " 'k_right': 1,\n",
       " 'max_gap': 0,\n",
       " 'min_gap': 0,\n",
       " 'sequence_type': 'amino_acid',\n",
       " 'name': 'e1'}"
      ]
     },
     "execution_count": 47,
     "metadata": {},
     "output_type": "execute_result"
    }
   ],
   "source": [
    "state.hp_strategy.hp_settings['e1_simpleLR'].encoder_params"
   ]
  },
  {
   "cell_type": "code",
   "execution_count": 48,
   "metadata": {},
   "outputs": [
    {
     "data": {
      "text/plain": [
       "<immuneML.hyperparameter_optimization.strategy.GridSearch.GridSearch at 0x27e0c495dc0>"
      ]
     },
     "execution_count": 48,
     "metadata": {},
     "output_type": "execute_result"
    }
   ],
   "source": [
    "state.hp_strategy"
   ]
  },
  {
   "cell_type": "code",
   "execution_count": 49,
   "metadata": {},
   "outputs": [
    {
     "data": {
      "text/plain": [
       "<immuneML.encodings.kmer_frequency.KmerFreqRepertoireEncoder.KmerFreqRepertoireEncoder at 0x27e7450c340>"
      ]
     },
     "execution_count": 49,
     "metadata": {},
     "output_type": "execute_result"
    }
   ],
   "source": [
    "state.hp_strategy.hp_settings['e1_simpleLR'].encoder"
   ]
  },
  {
   "cell_type": "code",
   "execution_count": 50,
   "metadata": {},
   "outputs": [
    {
     "data": {
      "text/plain": [
       "{'model_selection_cv': False,\n",
       " 'model_selection_n_folds': -1,\n",
       " 'LogisticRegression': {'C': 0.1, 'max_iter': 200, 'penalty': 'l1'}}"
      ]
     },
     "execution_count": 50,
     "metadata": {},
     "output_type": "execute_result"
    }
   ],
   "source": [
    "state.hp_strategy.hp_settings['e1_simpleLR'].ml_params"
   ]
  },
  {
   "cell_type": "code",
   "execution_count": 51,
   "metadata": {},
   "outputs": [
    {
     "data": {
      "text/plain": [
       "<immuneML.ml_methods.LogisticRegression.LogisticRegression at 0x27e0d281070>"
      ]
     },
     "execution_count": 51,
     "metadata": {},
     "output_type": "execute_result"
    }
   ],
   "source": [
    "state.hp_strategy.hp_settings['e1_simpleLR'].ml_method"
   ]
  },
  {
   "cell_type": "code",
   "execution_count": 52,
   "metadata": {},
   "outputs": [
    {
     "data": {
      "text/plain": [
       "1"
      ]
     },
     "execution_count": 52,
     "metadata": {},
     "output_type": "execute_result"
    }
   ],
   "source": [
    "state.assessment.split_count"
   ]
  },
  {
   "cell_type": "code",
   "execution_count": 53,
   "metadata": {},
   "outputs": [
    {
     "data": {
      "text/plain": [
       "<SplitType.RANDOM: 2>"
      ]
     },
     "execution_count": 53,
     "metadata": {},
     "output_type": "execute_result"
    }
   ],
   "source": [
    "state.assessment.split_strategy"
   ]
  },
  {
   "cell_type": "code",
   "execution_count": 54,
   "metadata": {},
   "outputs": [
    {
     "data": {
      "text/plain": [
       "0.7"
      ]
     },
     "execution_count": 54,
     "metadata": {},
     "output_type": "execute_result"
    }
   ],
   "source": [
    "state.assessment.training_percentage"
   ]
  },
  {
   "cell_type": "code",
   "execution_count": 55,
   "metadata": {},
   "outputs": [
    {
     "data": {
      "text/plain": [
       "[]"
      ]
     },
     "execution_count": 55,
     "metadata": {},
     "output_type": "execute_result"
    }
   ],
   "source": [
    "state.assessment_states"
   ]
  },
  {
   "cell_type": "code",
   "execution_count": 56,
   "metadata": {},
   "outputs": [
    {
     "data": {
      "text/plain": [
       "<immuneML.reports.data_reports.SequenceLengthDistribution.SequenceLengthDistribution at 0x27e10592e80>"
      ]
     },
     "execution_count": 56,
     "metadata": {},
     "output_type": "execute_result"
    }
   ],
   "source": [
    "state.selection.reports.data_split_reports['rep1']"
   ]
  },
  {
   "cell_type": "code",
   "execution_count": 57,
   "metadata": {},
   "outputs": [],
   "source": [
    "\n",
    "instructions = symbol_table.get_by_type(SymbolType.INSTRUCTION)\n",
    "output = symbol_table.get(\"output\")\n"
   ]
  },
  {
   "cell_type": "code",
   "execution_count": 58,
   "metadata": {},
   "outputs": [
    {
     "data": {
      "text/plain": [
       "[<immuneML.dsl.symbol_table.SymbolTableEntry.SymbolTableEntry at 0x27e105b52e0>]"
      ]
     },
     "execution_count": 58,
     "metadata": {},
     "output_type": "execute_result"
    }
   ],
   "source": [
    "instructions"
   ]
  },
  {
   "cell_type": "code",
   "execution_count": 59,
   "metadata": {},
   "outputs": [
    {
     "data": {
      "text/plain": [
       "{'format': 'HTML'}"
      ]
     },
     "execution_count": 59,
     "metadata": {},
     "output_type": "execute_result"
    }
   ],
   "source": [
    "output"
   ]
  },
  {
   "cell_type": "code",
   "execution_count": 60,
   "metadata": {},
   "outputs": [
    {
     "name": "stderr",
     "output_type": "stream",
     "text": [
      "C:\\Users\\karth\\Desktop\\PhD projects\\immuneML\\immuneML\\immuneML\\dsl\\symbol_table\\SymbolTable.py:39: Warning: An item with the key machine_learning_instruction was already set in the SymbolTable during parsing. If overwriting it was the intended behavior, please ignore this warning.\n",
      "  warnings.warn(\"An item with the key {} was already set in the SymbolTable during parsing. If overwriting \"\n"
     ]
    }
   ],
   "source": [
    "symbol_table.add(key, SymbolType.INSTRUCTION, instructions_object)\n"
   ]
  },
  {
   "cell_type": "code",
   "execution_count": 61,
   "metadata": {},
   "outputs": [
    {
     "data": {
      "text/plain": [
       "TrainMLModelState(dataset=<immuneML.data_model.dataset.RepertoireDataset.RepertoireDataset object at 0x0000027E105ADE80>, hp_strategy=<immuneML.hyperparameter_optimization.strategy.GridSearch.GridSearch object at 0x0000027E0C495DC0>, hp_settings=[<immuneML.hyperparameter_optimization.HPSetting.HPSetting object at 0x0000027E0C7D2820>, <immuneML.hyperparameter_optimization.HPSetting.HPSetting object at 0x0000027E0C48F6D0>], assessment=<immuneML.hyperparameter_optimization.config.SplitConfig.SplitConfig object at 0x0000027E0C495CD0>, selection=<immuneML.hyperparameter_optimization.config.SplitConfig.SplitConfig object at 0x0000027E0C3C1160>, metrics={<Metric.ACCURACY: 'accuracy_score'>}, optimization_metric=<Metric.BALANCED_ACCURACY: 'balanced_accuracy_score'>, label_configuration=<immuneML.environment.LabelConfiguration.LabelConfiguration object at 0x0000027E0C48FF70>, path=WindowsPath('C:/Users/karth/Desktop/PhD projects/immuneML/immuneML/analysis_runs/7445dd22466e58dfe647730a635b0547'), context={'dataset': <immuneML.data_model.dataset.RepertoireDataset.RepertoireDataset object at 0x0000027E105ADE80>}, number_of_processes=3, reports={'hprep': <immuneML.reports.train_ml_model_reports.MLSettingsPerformance.MLSettingsPerformance object at 0x0000027E0D6878B0>}, name='machine_learning_instruction', refit_optimal_model=False, optimal_hp_items={}, optimal_hp_item_paths={}, assessment_states=[], report_results=[])"
      ]
     },
     "execution_count": 61,
     "metadata": {},
     "output_type": "execute_result"
    }
   ],
   "source": [
    "instructions_object.state"
   ]
  },
  {
   "cell_type": "code",
   "execution_count": 62,
   "metadata": {},
   "outputs": [],
   "source": [
    "specs[\"output\"] = {\"format\": \"HTML\"}\n"
   ]
  },
  {
   "cell_type": "code",
   "execution_count": 63,
   "metadata": {},
   "outputs": [
    {
     "name": "stderr",
     "output_type": "stream",
     "text": [
      "C:\\Users\\karth\\Desktop\\PhD projects\\immuneML\\immuneML\\immuneML\\dsl\\symbol_table\\SymbolTable.py:39: Warning: An item with the key output was already set in the SymbolTable during parsing. If overwriting it was the intended behavior, please ignore this warning.\n",
      "  warnings.warn(\"An item with the key {} was already set in the SymbolTable during parsing. If overwriting \"\n"
     ]
    }
   ],
   "source": [
    "symbol_table.add(\"output\", SymbolType.OUTPUT, specs[\"output\"])\n"
   ]
  },
  {
   "cell_type": "markdown",
   "metadata": {},
   "source": [
    "<h3> TrainMLModelInstruction </h3>"
   ]
  },
  {
   "cell_type": "code",
   "execution_count": 64,
   "metadata": {},
   "outputs": [
    {
     "data": {
      "text/plain": [
       "<immuneML.workflows.instructions.TrainMLModelInstruction.TrainMLModelInstruction at 0x27e105b6b50>"
      ]
     },
     "execution_count": 64,
     "metadata": {},
     "output_type": "execute_result"
    }
   ],
   "source": [
    "\n",
    "instructions_object\n",
    "# instructions_object.run(resultpath)\n"
   ]
  },
  {
   "cell_type": "code",
   "execution_count": 65,
   "metadata": {},
   "outputs": [
    {
     "data": {
      "text/plain": [
       "TrainMLModelState(dataset=<immuneML.data_model.dataset.RepertoireDataset.RepertoireDataset object at 0x0000027E105ADE80>, hp_strategy=<immuneML.hyperparameter_optimization.strategy.GridSearch.GridSearch object at 0x0000027E0C495DC0>, hp_settings=[<immuneML.hyperparameter_optimization.HPSetting.HPSetting object at 0x0000027E0C7D2820>, <immuneML.hyperparameter_optimization.HPSetting.HPSetting object at 0x0000027E0C48F6D0>], assessment=<immuneML.hyperparameter_optimization.config.SplitConfig.SplitConfig object at 0x0000027E0C495CD0>, selection=<immuneML.hyperparameter_optimization.config.SplitConfig.SplitConfig object at 0x0000027E0C3C1160>, metrics={<Metric.ACCURACY: 'accuracy_score'>}, optimization_metric=<Metric.BALANCED_ACCURACY: 'balanced_accuracy_score'>, label_configuration=<immuneML.environment.LabelConfiguration.LabelConfiguration object at 0x0000027E0C48FF70>, path=WindowsPath('C:/Users/karth/Desktop/PhD projects/immuneML/immuneML/analysis_runs/7445dd22466e58dfe647730a635b0547'), context={'dataset': <immuneML.data_model.dataset.RepertoireDataset.RepertoireDataset object at 0x0000027E105ADE80>}, number_of_processes=3, reports={'hprep': <immuneML.reports.train_ml_model_reports.MLSettingsPerformance.MLSettingsPerformance object at 0x0000027E0D6878B0>}, name='machine_learning_instruction', refit_optimal_model=False, optimal_hp_items={}, optimal_hp_item_paths={}, assessment_states=[], report_results=[])"
      ]
     },
     "execution_count": 65,
     "metadata": {},
     "output_type": "execute_result"
    }
   ],
   "source": [
    "state"
   ]
  },
  {
   "cell_type": "code",
   "execution_count": 66,
   "metadata": {},
   "outputs": [],
   "source": [
    "state.path = resultpath"
   ]
  },
  {
   "cell_type": "code",
   "execution_count": 67,
   "metadata": {},
   "outputs": [
    {
     "data": {
      "text/plain": [
       "TrainMLModelState(dataset=<immuneML.data_model.dataset.RepertoireDataset.RepertoireDataset object at 0x0000027E105ADE80>, hp_strategy=<immuneML.hyperparameter_optimization.strategy.GridSearch.GridSearch object at 0x0000027E0C495DC0>, hp_settings=[<immuneML.hyperparameter_optimization.HPSetting.HPSetting object at 0x0000027E0C7D2820>, <immuneML.hyperparameter_optimization.HPSetting.HPSetting object at 0x0000027E0C48F6D0>], assessment=<immuneML.hyperparameter_optimization.config.SplitConfig.SplitConfig object at 0x0000027E0C495CD0>, selection=<immuneML.hyperparameter_optimization.config.SplitConfig.SplitConfig object at 0x0000027E0C3C1160>, metrics={<Metric.ACCURACY: 'accuracy_score'>}, optimization_metric=<Metric.BALANCED_ACCURACY: 'balanced_accuracy_score'>, label_configuration=<immuneML.environment.LabelConfiguration.LabelConfiguration object at 0x0000027E0C48FF70>, path=WindowsPath('C:/Users/karth/Desktop/PhD projects/immuneML/immuneML/quickstart/machine_learning_analysis/result'), context={'dataset': <immuneML.data_model.dataset.RepertoireDataset.RepertoireDataset object at 0x0000027E105ADE80>}, number_of_processes=3, reports={'hprep': <immuneML.reports.train_ml_model_reports.MLSettingsPerformance.MLSettingsPerformance object at 0x0000027E0D6878B0>}, name='machine_learning_instruction', refit_optimal_model=False, optimal_hp_items={}, optimal_hp_item_paths={}, assessment_states=[], report_results=[])"
      ]
     },
     "execution_count": 67,
     "metadata": {},
     "output_type": "execute_result"
    }
   ],
   "source": [
    "state"
   ]
  },
  {
   "cell_type": "code",
   "execution_count": 68,
   "metadata": {},
   "outputs": [
    {
     "data": {
      "text/plain": [
       "3"
      ]
     },
     "execution_count": 68,
     "metadata": {},
     "output_type": "execute_result"
    }
   ],
   "source": [
    "state.number_of_processes"
   ]
  },
  {
   "cell_type": "markdown",
   "metadata": {},
   "source": [
    "<h3> Inject Dask Cluster or Client  object </h3>"
   ]
  },
  {
   "cell_type": "markdown",
   "metadata": {},
   "source": [
    "<h4> Perform Grid Search </h4>\n",
    "<ol> Tasks </ol>\n",
    "<li> Hyperparameter optimization\n",
    "- Grid Search\n",
    "- Joblib\n",
    "- Training with large data\n",
    "- Creating large data \n",
    "<li> Onnx \n",
    "<li> Prefect\n",
    "<li>Yaml to operations<li> H5py <li> parquet support\n",
    "<li> Weights and bias\n",
    "<li> Deepchecks"
   ]
  },
  {
   "cell_type": "code",
   "execution_count": 69,
   "metadata": {},
   "outputs": [
    {
     "data": {
      "text/plain": [
       "[WindowsPath('repertoires/1b0b00b15de940d29cb2b93785bf56b4.npy'),\n",
       " WindowsPath('repertoires/e9030a3054e74e809985664108993718.npy'),\n",
       " WindowsPath('repertoires/0141afbeefd4427b8ac6808637808210.npy'),\n",
       " WindowsPath('repertoires/7e7e75819126449dbc68b7e8e0bb44e1.npy'),\n",
       " WindowsPath('repertoires/534cb2c096bb456595925d170f899b3e.npy'),\n",
       " WindowsPath('repertoires/a67b0b669bcb44459be9d42c7c8e886d.npy'),\n",
       " WindowsPath('repertoires/53ccc6af09cd41a9aa21f59b1ee20aae.npy'),\n",
       " WindowsPath('repertoires/a8f621bc294a4497b0bb992af896e672.npy'),\n",
       " WindowsPath('repertoires/b65e572a12c749d29de7700f140fa455.npy'),\n",
       " WindowsPath('repertoires/4202c9f1332e41f1b23451dac71884dd.npy'),\n",
       " WindowsPath('repertoires/e2552214b84b4223b89d78c623accce7.npy'),\n",
       " WindowsPath('repertoires/8b58a4183132412d836656416bd9ba21.npy'),\n",
       " WindowsPath('repertoires/3d5d0a99e2f445ee837082d1c4742e13.npy'),\n",
       " WindowsPath('repertoires/78de5469429c4fa1a51a3a57a4958a98.npy'),\n",
       " WindowsPath('repertoires/d2752e8e0cf349b683d99f4b327186be.npy'),\n",
       " WindowsPath('repertoires/80461eaa375b4baebc4496c826f024cb.npy'),\n",
       " WindowsPath('repertoires/dc086370aa724984b52195c7cb759296.npy'),\n",
       " WindowsPath('repertoires/2a3f457bf14b486d9e7d9b09a9be47ac.npy'),\n",
       " WindowsPath('repertoires/5fffb8866c074ab29fde7a3b80b59eec.npy'),\n",
       " WindowsPath('repertoires/92b9795ccb2445c198211a63e7aa857f.npy'),\n",
       " WindowsPath('repertoires/042d5de09b2049d3b481cd939a5ec3ae.npy'),\n",
       " WindowsPath('repertoires/1129c66ff15b43f5b5836496d6e0fb42.npy'),\n",
       " WindowsPath('repertoires/67ae1b9ad1744a5cb3809fd54e6f9560.npy'),\n",
       " WindowsPath('repertoires/9a605c3ce1dc4ee2a8a40b2c2d82ac39.npy'),\n",
       " WindowsPath('repertoires/5d61c1e46f1f4a28808623f32b9ee6aa.npy'),\n",
       " WindowsPath('repertoires/39a928bffe314f70af2cda92a0e94d9e.npy'),\n",
       " WindowsPath('repertoires/b1bf9ce1ba1849d9a36aa045a3204cb9.npy'),\n",
       " WindowsPath('repertoires/a8fa20574be649d2b2b242cc289a35b3.npy'),\n",
       " WindowsPath('repertoires/ce8c4cda376e4593851d6f555e71b7e1.npy'),\n",
       " WindowsPath('repertoires/9d9e841898cb46e3929bd1e86a869572.npy'),\n",
       " WindowsPath('repertoires/b233c3e3849b47a5b01bf6ac06d3a612.npy'),\n",
       " WindowsPath('repertoires/0441753d5c2148008435cdd5798d8f22.npy'),\n",
       " WindowsPath('repertoires/1338b53c16bb4afb815aad4ac30d606a.npy'),\n",
       " WindowsPath('repertoires/a3f5e2361e5f45869cf2bb18e061d0f7.npy'),\n",
       " WindowsPath('repertoires/d7c11e093aee44baada6521c672ca126.npy'),\n",
       " WindowsPath('repertoires/48b394eb1b65491daa8f3a5eaf64e4c4.npy'),\n",
       " WindowsPath('repertoires/6685cad982a643d7908ab95700ac2ea9.npy'),\n",
       " WindowsPath('repertoires/174971dda024456c9d4cd07030e1c09c.npy'),\n",
       " WindowsPath('repertoires/3c559babf0854a8fa5882359c5b6451a.npy'),\n",
       " WindowsPath('repertoires/5b6b800a34ea45e0a667b251e868a127.npy'),\n",
       " WindowsPath('repertoires/230f2b59a504419cac718f0b50b51dde.npy'),\n",
       " WindowsPath('repertoires/a287e19cb4d74f16973c111225be30ef.npy'),\n",
       " WindowsPath('repertoires/b216b7fbecad4493aad4dcfb87713815.npy'),\n",
       " WindowsPath('repertoires/dd352b2b3ae147429c25762b5f591c71.npy'),\n",
       " WindowsPath('repertoires/79dca18a8d4b4bfd9d8dd73223af8e84.npy'),\n",
       " WindowsPath('repertoires/0def33e24668465b8b3745f75089f12d.npy'),\n",
       " WindowsPath('repertoires/3b5c00731c514c3d82b81ede58da0085.npy'),\n",
       " WindowsPath('repertoires/c0f3551380ab43ebbcbb3a940af91386.npy'),\n",
       " WindowsPath('repertoires/f18458773861488d9a7cbf5ac71a1ed3.npy'),\n",
       " WindowsPath('repertoires/a476688c246b4a8ca33bdea56cf1cef0.npy'),\n",
       " WindowsPath('repertoires/d542f5a8df474c28b8965a1e8357f66f.npy'),\n",
       " WindowsPath('repertoires/96c18bd7e7c441328c18b31e8db5e1f6.npy'),\n",
       " WindowsPath('repertoires/2895c054e86c4ed29fed845d78f46be5.npy'),\n",
       " WindowsPath('repertoires/252d6ac38234484dacdf2691555e1b60.npy'),\n",
       " WindowsPath('repertoires/929262ae60454481bae92ba23efe81b3.npy'),\n",
       " WindowsPath('repertoires/e2c53c4c529d48bcbff96e8b1a825329.npy'),\n",
       " WindowsPath('repertoires/a1779d7cc5c744e1a0151c6fb74ce8c3.npy'),\n",
       " WindowsPath('repertoires/8c99679dce3349ac99717cbada2fa894.npy'),\n",
       " WindowsPath('repertoires/7777c717844647488ef113e9f4f0037c.npy'),\n",
       " WindowsPath('repertoires/4f2a20615a204610bc74167c28b10922.npy'),\n",
       " WindowsPath('repertoires/32f32b893f6747a598c4e36da5cd3d2f.npy'),\n",
       " WindowsPath('repertoires/ef36f91fe1fc4c8ba2362d8f8ad8a478.npy'),\n",
       " WindowsPath('repertoires/6980eedfc3194b789b8d04d0b570321b.npy'),\n",
       " WindowsPath('repertoires/b16e2c088a1148b8b8d5da63fd988376.npy'),\n",
       " WindowsPath('repertoires/a8f9ccc311fa43e4bc1ea0a20feade60.npy'),\n",
       " WindowsPath('repertoires/3420f4e8a1644772a7898e2a3cb26bed.npy'),\n",
       " WindowsPath('repertoires/576a76f39da146368d1bff4185c7cbeb.npy'),\n",
       " WindowsPath('repertoires/232e97e618594e3ca32a403e834a69a4.npy'),\n",
       " WindowsPath('repertoires/27c42bca98f641259642d41ff2dc4562.npy'),\n",
       " WindowsPath('repertoires/60a973e97f2c4fd48d4b7aae952f4e28.npy'),\n",
       " WindowsPath('repertoires/470d3be3b67b44708eed547d7a42e6d1.npy'),\n",
       " WindowsPath('repertoires/fc62a4511edc4bbcafb598eaf7a1b6c4.npy'),\n",
       " WindowsPath('repertoires/4955431f9b1a4066ae015f65e8dbff51.npy'),\n",
       " WindowsPath('repertoires/f6cb5e4d567c45cb9f8da55d1a5f6f83.npy'),\n",
       " WindowsPath('repertoires/ea9798bd0d744648844d87289a9467c8.npy'),\n",
       " WindowsPath('repertoires/9ff73c54a15e47b7b523b5ee5b8435a1.npy'),\n",
       " WindowsPath('repertoires/5dac65eaa79946c68bd1f57c034ca997.npy'),\n",
       " WindowsPath('repertoires/39aae24a84964caca45a8bdbcbe0838f.npy'),\n",
       " WindowsPath('repertoires/1455f849374f445b8b661e8ba6e2ade9.npy'),\n",
       " WindowsPath('repertoires/af14f94a81ae414d986b49da257d4a92.npy'),\n",
       " WindowsPath('repertoires/14c64f2af9ca438fb4e95cfa123dc6d2.npy'),\n",
       " WindowsPath('repertoires/a49dce4b6e4e40588f18fb41e9374054.npy'),\n",
       " WindowsPath('repertoires/023dfc714a7845adbaa7e9bef4e756f8.npy'),\n",
       " WindowsPath('repertoires/11bcb674a19c48d69d530df9b99f819d.npy'),\n",
       " WindowsPath('repertoires/30157a0721564328a90369e81c99fe83.npy'),\n",
       " WindowsPath('repertoires/5e49e31849144a5c9e30f6ffe036b539.npy'),\n",
       " WindowsPath('repertoires/5d534a80ff0b4b148bcb90ef90d77523.npy'),\n",
       " WindowsPath('repertoires/7425ab1a27064a89a1e4143ed39f7d34.npy'),\n",
       " WindowsPath('repertoires/90f4a3b5975a45ef86e81295ec33f1a9.npy'),\n",
       " WindowsPath('repertoires/9c1c676dce954e9db1d6b733bcd9a78e.npy'),\n",
       " WindowsPath('repertoires/8e957cecf804477aad1799f0b8440d0e.npy'),\n",
       " WindowsPath('repertoires/956f811e877844e1aa081d91c9bf3ba7.npy'),\n",
       " WindowsPath('repertoires/7acb65b8ac754430bcb70bb3026eef42.npy'),\n",
       " WindowsPath('repertoires/dc0c8e9ee37c4cc5a1f976031d002191.npy'),\n",
       " WindowsPath('repertoires/d991bd8e3eb3496a9859d6dca0ab3a9a.npy'),\n",
       " WindowsPath('repertoires/f148da942b3b4978a9780d778f504240.npy'),\n",
       " WindowsPath('repertoires/aa4c5bcfc1a344b182511f6807b443d1.npy'),\n",
       " WindowsPath('repertoires/4768b610335548b98a65e811e69eaa16.npy'),\n",
       " WindowsPath('repertoires/3176d33742364c348703e054cc4eaebb.npy'),\n",
       " WindowsPath('repertoires/779604c9a42f449996bad2320b3052ee.npy')]"
      ]
     },
     "execution_count": 69,
     "metadata": {},
     "output_type": "execute_result"
    }
   ],
   "source": [
    "state.dataset.get_filenames()\n"
   ]
  },
  {
   "cell_type": "code",
   "execution_count": 70,
   "metadata": {},
   "outputs": [
    {
     "data": {
      "text/plain": [
       "<immuneML.data_model.dataset.RepertoireDataset.RepertoireDataset at 0x27e105ade80>"
      ]
     },
     "execution_count": 70,
     "metadata": {},
     "output_type": "execute_result"
    }
   ],
   "source": [
    "state.dataset"
   ]
  },
  {
   "cell_type": "code",
   "execution_count": 71,
   "metadata": {},
   "outputs": [
    {
     "data": {
      "text/plain": [
       "WindowsPath('C:/Users/karth/Desktop/PhD projects/immuneML/immuneML/quickstart/machine_learning_analysis/result/datasets/d1/d1_metadata.csv')"
      ]
     },
     "execution_count": 71,
     "metadata": {},
     "output_type": "execute_result"
    }
   ],
   "source": [
    "state.dataset.metadata_file"
   ]
  },
  {
   "cell_type": "code",
   "execution_count": 72,
   "metadata": {},
   "outputs": [],
   "source": [
    "import dask.dataframe as dd"
   ]
  },
  {
   "cell_type": "code",
   "execution_count": 73,
   "metadata": {},
   "outputs": [],
   "source": [
    "import pandas as pd"
   ]
  },
  {
   "cell_type": "code",
   "execution_count": 74,
   "metadata": {},
   "outputs": [],
   "source": [
    "metadata = pd.read_csv(state.dataset.metadata_file , header = 1)\n"
   ]
  },
  {
   "cell_type": "code",
   "execution_count": 75,
   "metadata": {},
   "outputs": [
    {
     "data": {
      "text/plain": [
       "<immuneML.environment.LabelConfiguration.LabelConfiguration at 0x27e0c48ff70>"
      ]
     },
     "execution_count": 75,
     "metadata": {},
     "output_type": "execute_result"
    }
   ],
   "source": [
    "state.label_configuration"
   ]
  },
  {
   "cell_type": "code",
   "execution_count": 76,
   "metadata": {},
   "outputs": [
    {
     "data": {
      "text/plain": [
       "WindowsPath('C:/Users/karth/Desktop/PhD projects/immuneML/immuneML/quickstart/machine_learning_analysis/result')"
      ]
     },
     "execution_count": 76,
     "metadata": {},
     "output_type": "execute_result"
    }
   ],
   "source": [
    "state.path"
   ]
  },
  {
   "cell_type": "code",
   "execution_count": 77,
   "metadata": {},
   "outputs": [
    {
     "data": {
      "text/plain": [
       "['51c59d7f79454b43b8198f0f48e02cc1',\n",
       " '3da090c00ae6471c974e9096305ece3a',\n",
       " 'a9416fa713f84c3b906552bfc582a66c',\n",
       " 'cb9af10cefd945a29fdcc8c87b5288b8',\n",
       " '8c7a1958e9ea4f2aaa16839d8f99aa84',\n",
       " 'b599141cbc3746c09bf992987114f146',\n",
       " 'daaa096d6af74b42ad9e0846f546ca0e',\n",
       " 'b0c510d0a0c04c5197b4b6bf26ac201f',\n",
       " '226da91152b84e158fedf77bf6b96799',\n",
       " '555fac30cd134c6e8ed9dbcd4dfd53ac',\n",
       " 'd0457289ff3b4b52b47f8fc953fa0e37',\n",
       " '01338a0a074043eb868168d4d6568cc5',\n",
       " 'e055f9dfe14942349c42343d25c45d47',\n",
       " '04d88a16fa19407fa87d2d745c84c900',\n",
       " '10f9a1936a2b41acbbc06910784a8246',\n",
       " '91cc39fdb05c46de9ded1d74607d67be',\n",
       " '78a5887553bc4d7ea6eb327b40d59cbd',\n",
       " 'a8fafcacb12e402bb1600c0ccbb03471',\n",
       " 'e4f69934a02b45c3851d8bd05e9d0e06',\n",
       " '5421d59fad2d4b1eb0d5d5e07c2280af',\n",
       " '30eefb5dd4e54de7a536c3029989b292',\n",
       " '51187592298b43469f27ed42f35867a4',\n",
       " 'a7075f452c024ae9882498ae95ed6b02',\n",
       " '7044a662daac46e5bc14668512ef7c6e',\n",
       " '735b3e21c3964a43bb86f72e35a9d308',\n",
       " '0463cd303472457292593403a4afbea1',\n",
       " 'def941375edf4306a2d572bb66c7525d',\n",
       " '70a215696d07461ebe1211f6c216ac05',\n",
       " '1fedfe768bc24f7a93756ef4cb7679ef',\n",
       " '4449f20decf84b4ba19ec7f12577dc92',\n",
       " 'b8c154148ee54e87bc000f5478928cf5',\n",
       " 'eededfb6d28c40d5b45baea7b894b594',\n",
       " 'e1528d5a598d4c44b76ec111b20ec3f0',\n",
       " '8556f177b6694d628b33fd0581f59d26',\n",
       " '4cd892511ab540e9bade8742433778df',\n",
       " '62458994a7764f49b7707d1619454038',\n",
       " '64bfa92b055f40ca8945cc47c20ffbf0',\n",
       " 'eee6a5e074b7499b82dcc1662b3fe48f',\n",
       " '9571093f37eb43b6b11fa502aaa37d16',\n",
       " '8543b9d3333347878e87c169a04de41b',\n",
       " '17be521ef486461c9255924666d8964f',\n",
       " '7be6d2861bab4b848bc0408ff7fe279d',\n",
       " '69a8da555646499f81c9cd0b55c71cee',\n",
       " 'ca68124864114ce486761ddb6c94ff63',\n",
       " '7c56b067c40f49e5a53849011626645b',\n",
       " '39ec7570e3464f2f8064e361295c41f9',\n",
       " '26923be283364b9da73d655bfe594778',\n",
       " '8a5ebd56400040539333125e4e37d519',\n",
       " '490084fdd15843ccbd25c657484361d3',\n",
       " '7ab1d8a445be4240a8a6dd714f80a351',\n",
       " 'de1427843f544bf2a8d5da4e917c0c89',\n",
       " '284d5eee65ed471c81d817c6e9be5f07',\n",
       " '61e979e5f056403dadefc2485cdf2a84',\n",
       " '1c1ad479476144389929d9f3f694a65b',\n",
       " 'd2e09aa921ad46bfa890fd485fc544be',\n",
       " '982ecb6a2f82426dbec9940326bbd4ee',\n",
       " '398cea6053614d9aad8816430f551e9e',\n",
       " '58700fe7aeb648e19c54a2194ee3209a',\n",
       " '1ccce1bbe3ba4e24a66921fe0110624e',\n",
       " '0358607a0732494ebda237635e08d9b1',\n",
       " '1f3a7c2caee9497ea0f117082bb52683',\n",
       " 'd7ec92f44a6d4500b7658c405da266b0',\n",
       " '4f810bc108a34d4483159c3afd07e2cb',\n",
       " '7c9973304be0404c8dc8a3c42affcb88',\n",
       " 'a6a7c6cd8e90484d94d62123b1f1e556',\n",
       " '3097d3ac52a44865be6d18afe92b65e2',\n",
       " 'cbf259a755cb4fcfb19e6fc1c1a44720',\n",
       " '1e7d170ba2654585baff8588a47e6cb4',\n",
       " 'e12aa7a6b4f744bf83db99c3656ebb7a',\n",
       " 'df7615bd07ce47e2ae55453c58634f47',\n",
       " '88b9dc08ce5b4819b683eeb2ec73d7e3',\n",
       " 'ac4eb726d33d4659874227e72cad48e3',\n",
       " 'f80d43e8fcca41458dc28c5aa759217a',\n",
       " '232687b2b99246bcb795644c56f3ca30',\n",
       " 'a7ba55e09572483b82207706ae11f9e8',\n",
       " '69002a8b61e4434bb76162c9940fe5bb',\n",
       " 'b24d1ba6cf4c494990c43ed1a5acdb41',\n",
       " 'af813166956a430bae7808a791bc816b',\n",
       " 'e4478ce0410a485591c2e5f2db29f48f',\n",
       " '8a5cafb83c9c4391a2ab9739b88be702',\n",
       " 'e8c9b27c6c4b42d49ef0ccabb2e4f023',\n",
       " '6ad4d02faa584ad4a251117289f2751c',\n",
       " '0004f02e71f746e9a7a52f6567b39bd7',\n",
       " '9586b82c68224485a085f190a2861f55',\n",
       " 'abf3f7ffb60e480284209b1ae7c6421f',\n",
       " '84b01f0681e843ae8487b16d3efbfeb3',\n",
       " 'df96545aefb542e69feccb7ad41e8bba',\n",
       " '991a10d6037d4fd29b2fbd0bd48bf5a3',\n",
       " '08726f04b8a04e9ca78d575e8213b51a',\n",
       " '5b808594475a49c29f73c145945b4b84',\n",
       " 'f8d141ffff8b4230934106f97eb0e99d',\n",
       " 'ee0537626e7a4e5cbfe60318f07a5e1f',\n",
       " '62b261a106f14e7693bdcc9c953e579e',\n",
       " '03b95e5ac225447a8aa592005d100551',\n",
       " '16b6be34760c42b695b6335d9ca89d8a',\n",
       " 'ed16409f8355430b9782437eda4de015',\n",
       " '12cfaaac4c7048afa5d4268374f37283',\n",
       " '94bbe9468fe346778be08763f8ca8b91',\n",
       " '60dd92cd1aa346dca7f36a73fea8c456',\n",
       " 'ca4aeb43b279431988631064cdbe8be5']"
      ]
     },
     "execution_count": 77,
     "metadata": {},
     "output_type": "execute_result"
    }
   ],
   "source": [
    "state.dataset.get_example_ids()"
   ]
  },
  {
   "cell_type": "code",
   "execution_count": 78,
   "metadata": {},
   "outputs": [],
   "source": [
    "encoder = state.hp_strategy.hp_settings['e1_simpleLR'].encoder"
   ]
  },
  {
   "cell_type": "code",
   "execution_count": 79,
   "metadata": {},
   "outputs": [],
   "source": [
    "ml_params = state.hp_strategy.hp_settings['e1_simpleLR'].ml_params"
   ]
  },
  {
   "cell_type": "code",
   "execution_count": 80,
   "metadata": {},
   "outputs": [],
   "source": [
    "encoder_params = state.hp_strategy.hp_settings['e1_simpleLR'].encoder_params"
   ]
  },
  {
   "cell_type": "code",
   "execution_count": 81,
   "metadata": {},
   "outputs": [],
   "source": [
    "label_config  = state.label_configuration"
   ]
  },
  {
   "cell_type": "code",
   "execution_count": 82,
   "metadata": {},
   "outputs": [],
   "source": [
    "label = label_config.get_label_object(\"my_signal\")"
   ]
  },
  {
   "cell_type": "code",
   "execution_count": 83,
   "metadata": {},
   "outputs": [
    {
     "data": {
      "text/plain": [
       "[False, True]"
      ]
     },
     "execution_count": 83,
     "metadata": {},
     "output_type": "execute_result"
    }
   ],
   "source": [
    "label.name\n",
    "label.values"
   ]
  },
  {
   "cell_type": "code",
   "execution_count": 84,
   "metadata": {},
   "outputs": [
    {
     "data": {
      "text/html": [
       "<div>\n",
       "<style scoped>\n",
       "    .dataframe tbody tr th:only-of-type {\n",
       "        vertical-align: middle;\n",
       "    }\n",
       "\n",
       "    .dataframe tbody tr th {\n",
       "        vertical-align: top;\n",
       "    }\n",
       "\n",
       "    .dataframe thead th {\n",
       "        text-align: right;\n",
       "    }\n",
       "</style>\n",
       "<table border=\"1\" class=\"dataframe\">\n",
       "  <thead>\n",
       "    <tr style=\"text-align: right;\">\n",
       "      <th></th>\n",
       "      <th>my_signal</th>\n",
       "      <th>subject_id</th>\n",
       "      <th>identifier</th>\n",
       "      <th>filename</th>\n",
       "    </tr>\n",
       "  </thead>\n",
       "  <tbody>\n",
       "    <tr>\n",
       "      <th>0</th>\n",
       "      <td>True</td>\n",
       "      <td>rep_0</td>\n",
       "      <td>51c59d7f79454b43b8198f0f48e02cc1</td>\n",
       "      <td>repertoires\\1b0b00b15de940d29cb2b93785bf56b4.npy</td>\n",
       "    </tr>\n",
       "    <tr>\n",
       "      <th>1</th>\n",
       "      <td>True</td>\n",
       "      <td>rep_1</td>\n",
       "      <td>3da090c00ae6471c974e9096305ece3a</td>\n",
       "      <td>repertoires\\e9030a3054e74e809985664108993718.npy</td>\n",
       "    </tr>\n",
       "    <tr>\n",
       "      <th>2</th>\n",
       "      <td>True</td>\n",
       "      <td>rep_2</td>\n",
       "      <td>a9416fa713f84c3b906552bfc582a66c</td>\n",
       "      <td>repertoires\\0141afbeefd4427b8ac6808637808210.npy</td>\n",
       "    </tr>\n",
       "    <tr>\n",
       "      <th>3</th>\n",
       "      <td>True</td>\n",
       "      <td>rep_3</td>\n",
       "      <td>cb9af10cefd945a29fdcc8c87b5288b8</td>\n",
       "      <td>repertoires\\7e7e75819126449dbc68b7e8e0bb44e1.npy</td>\n",
       "    </tr>\n",
       "    <tr>\n",
       "      <th>4</th>\n",
       "      <td>True</td>\n",
       "      <td>rep_4</td>\n",
       "      <td>8c7a1958e9ea4f2aaa16839d8f99aa84</td>\n",
       "      <td>repertoires\\534cb2c096bb456595925d170f899b3e.npy</td>\n",
       "    </tr>\n",
       "    <tr>\n",
       "      <th>...</th>\n",
       "      <td>...</td>\n",
       "      <td>...</td>\n",
       "      <td>...</td>\n",
       "      <td>...</td>\n",
       "    </tr>\n",
       "    <tr>\n",
       "      <th>95</th>\n",
       "      <td>False</td>\n",
       "      <td>rep_95</td>\n",
       "      <td>ed16409f8355430b9782437eda4de015</td>\n",
       "      <td>repertoires\\f148da942b3b4978a9780d778f504240.npy</td>\n",
       "    </tr>\n",
       "    <tr>\n",
       "      <th>96</th>\n",
       "      <td>False</td>\n",
       "      <td>rep_96</td>\n",
       "      <td>12cfaaac4c7048afa5d4268374f37283</td>\n",
       "      <td>repertoires\\aa4c5bcfc1a344b182511f6807b443d1.npy</td>\n",
       "    </tr>\n",
       "    <tr>\n",
       "      <th>97</th>\n",
       "      <td>False</td>\n",
       "      <td>rep_97</td>\n",
       "      <td>94bbe9468fe346778be08763f8ca8b91</td>\n",
       "      <td>repertoires\\4768b610335548b98a65e811e69eaa16.npy</td>\n",
       "    </tr>\n",
       "    <tr>\n",
       "      <th>98</th>\n",
       "      <td>False</td>\n",
       "      <td>rep_98</td>\n",
       "      <td>60dd92cd1aa346dca7f36a73fea8c456</td>\n",
       "      <td>repertoires\\3176d33742364c348703e054cc4eaebb.npy</td>\n",
       "    </tr>\n",
       "    <tr>\n",
       "      <th>99</th>\n",
       "      <td>False</td>\n",
       "      <td>rep_99</td>\n",
       "      <td>ca4aeb43b279431988631064cdbe8be5</td>\n",
       "      <td>repertoires\\779604c9a42f449996bad2320b3052ee.npy</td>\n",
       "    </tr>\n",
       "  </tbody>\n",
       "</table>\n",
       "<p>100 rows × 4 columns</p>\n",
       "</div>"
      ],
      "text/plain": [
       "    my_signal subject_id                        identifier  \\\n",
       "0        True      rep_0  51c59d7f79454b43b8198f0f48e02cc1   \n",
       "1        True      rep_1  3da090c00ae6471c974e9096305ece3a   \n",
       "2        True      rep_2  a9416fa713f84c3b906552bfc582a66c   \n",
       "3        True      rep_3  cb9af10cefd945a29fdcc8c87b5288b8   \n",
       "4        True      rep_4  8c7a1958e9ea4f2aaa16839d8f99aa84   \n",
       "..        ...        ...                               ...   \n",
       "95      False     rep_95  ed16409f8355430b9782437eda4de015   \n",
       "96      False     rep_96  12cfaaac4c7048afa5d4268374f37283   \n",
       "97      False     rep_97  94bbe9468fe346778be08763f8ca8b91   \n",
       "98      False     rep_98  60dd92cd1aa346dca7f36a73fea8c456   \n",
       "99      False     rep_99  ca4aeb43b279431988631064cdbe8be5   \n",
       "\n",
       "                                            filename  \n",
       "0   repertoires\\1b0b00b15de940d29cb2b93785bf56b4.npy  \n",
       "1   repertoires\\e9030a3054e74e809985664108993718.npy  \n",
       "2   repertoires\\0141afbeefd4427b8ac6808637808210.npy  \n",
       "3   repertoires\\7e7e75819126449dbc68b7e8e0bb44e1.npy  \n",
       "4   repertoires\\534cb2c096bb456595925d170f899b3e.npy  \n",
       "..                                               ...  \n",
       "95  repertoires\\f148da942b3b4978a9780d778f504240.npy  \n",
       "96  repertoires\\aa4c5bcfc1a344b182511f6807b443d1.npy  \n",
       "97  repertoires\\4768b610335548b98a65e811e69eaa16.npy  \n",
       "98  repertoires\\3176d33742364c348703e054cc4eaebb.npy  \n",
       "99  repertoires\\779604c9a42f449996bad2320b3052ee.npy  \n",
       "\n",
       "[100 rows x 4 columns]"
      ]
     },
     "execution_count": 84,
     "metadata": {},
     "output_type": "execute_result"
    }
   ],
   "source": [
    "metadata"
   ]
  },
  {
   "cell_type": "code",
   "execution_count": 85,
   "metadata": {},
   "outputs": [
    {
     "data": {
      "text/html": [
       "<div>\n",
       "<style scoped>\n",
       "    .dataframe tbody tr th:only-of-type {\n",
       "        vertical-align: middle;\n",
       "    }\n",
       "\n",
       "    .dataframe tbody tr th {\n",
       "        vertical-align: top;\n",
       "    }\n",
       "\n",
       "    .dataframe thead th {\n",
       "        text-align: right;\n",
       "    }\n",
       "</style>\n",
       "<table border=\"1\" class=\"dataframe\">\n",
       "  <thead>\n",
       "    <tr style=\"text-align: right;\">\n",
       "      <th></th>\n",
       "      <th>my_signal</th>\n",
       "      <th>subject_id</th>\n",
       "      <th>identifier</th>\n",
       "      <th>filename</th>\n",
       "    </tr>\n",
       "  </thead>\n",
       "  <tbody>\n",
       "    <tr>\n",
       "      <th>0</th>\n",
       "      <td>True</td>\n",
       "      <td>rep_0</td>\n",
       "      <td>51c59d7f79454b43b8198f0f48e02cc1</td>\n",
       "      <td>repertoires\\1b0b00b15de940d29cb2b93785bf56b4.npy</td>\n",
       "    </tr>\n",
       "    <tr>\n",
       "      <th>1</th>\n",
       "      <td>True</td>\n",
       "      <td>rep_1</td>\n",
       "      <td>3da090c00ae6471c974e9096305ece3a</td>\n",
       "      <td>repertoires\\e9030a3054e74e809985664108993718.npy</td>\n",
       "    </tr>\n",
       "    <tr>\n",
       "      <th>2</th>\n",
       "      <td>True</td>\n",
       "      <td>rep_2</td>\n",
       "      <td>a9416fa713f84c3b906552bfc582a66c</td>\n",
       "      <td>repertoires\\0141afbeefd4427b8ac6808637808210.npy</td>\n",
       "    </tr>\n",
       "    <tr>\n",
       "      <th>3</th>\n",
       "      <td>True</td>\n",
       "      <td>rep_3</td>\n",
       "      <td>cb9af10cefd945a29fdcc8c87b5288b8</td>\n",
       "      <td>repertoires\\7e7e75819126449dbc68b7e8e0bb44e1.npy</td>\n",
       "    </tr>\n",
       "    <tr>\n",
       "      <th>4</th>\n",
       "      <td>True</td>\n",
       "      <td>rep_4</td>\n",
       "      <td>8c7a1958e9ea4f2aaa16839d8f99aa84</td>\n",
       "      <td>repertoires\\534cb2c096bb456595925d170f899b3e.npy</td>\n",
       "    </tr>\n",
       "    <tr>\n",
       "      <th>...</th>\n",
       "      <td>...</td>\n",
       "      <td>...</td>\n",
       "      <td>...</td>\n",
       "      <td>...</td>\n",
       "    </tr>\n",
       "    <tr>\n",
       "      <th>95</th>\n",
       "      <td>False</td>\n",
       "      <td>rep_95</td>\n",
       "      <td>ed16409f8355430b9782437eda4de015</td>\n",
       "      <td>repertoires\\f148da942b3b4978a9780d778f504240.npy</td>\n",
       "    </tr>\n",
       "    <tr>\n",
       "      <th>96</th>\n",
       "      <td>False</td>\n",
       "      <td>rep_96</td>\n",
       "      <td>12cfaaac4c7048afa5d4268374f37283</td>\n",
       "      <td>repertoires\\aa4c5bcfc1a344b182511f6807b443d1.npy</td>\n",
       "    </tr>\n",
       "    <tr>\n",
       "      <th>97</th>\n",
       "      <td>False</td>\n",
       "      <td>rep_97</td>\n",
       "      <td>94bbe9468fe346778be08763f8ca8b91</td>\n",
       "      <td>repertoires\\4768b610335548b98a65e811e69eaa16.npy</td>\n",
       "    </tr>\n",
       "    <tr>\n",
       "      <th>98</th>\n",
       "      <td>False</td>\n",
       "      <td>rep_98</td>\n",
       "      <td>60dd92cd1aa346dca7f36a73fea8c456</td>\n",
       "      <td>repertoires\\3176d33742364c348703e054cc4eaebb.npy</td>\n",
       "    </tr>\n",
       "    <tr>\n",
       "      <th>99</th>\n",
       "      <td>False</td>\n",
       "      <td>rep_99</td>\n",
       "      <td>ca4aeb43b279431988631064cdbe8be5</td>\n",
       "      <td>repertoires\\779604c9a42f449996bad2320b3052ee.npy</td>\n",
       "    </tr>\n",
       "  </tbody>\n",
       "</table>\n",
       "<p>100 rows × 4 columns</p>\n",
       "</div>"
      ],
      "text/plain": [
       "    my_signal subject_id                        identifier  \\\n",
       "0        True      rep_0  51c59d7f79454b43b8198f0f48e02cc1   \n",
       "1        True      rep_1  3da090c00ae6471c974e9096305ece3a   \n",
       "2        True      rep_2  a9416fa713f84c3b906552bfc582a66c   \n",
       "3        True      rep_3  cb9af10cefd945a29fdcc8c87b5288b8   \n",
       "4        True      rep_4  8c7a1958e9ea4f2aaa16839d8f99aa84   \n",
       "..        ...        ...                               ...   \n",
       "95      False     rep_95  ed16409f8355430b9782437eda4de015   \n",
       "96      False     rep_96  12cfaaac4c7048afa5d4268374f37283   \n",
       "97      False     rep_97  94bbe9468fe346778be08763f8ca8b91   \n",
       "98      False     rep_98  60dd92cd1aa346dca7f36a73fea8c456   \n",
       "99      False     rep_99  ca4aeb43b279431988631064cdbe8be5   \n",
       "\n",
       "                                            filename  \n",
       "0   repertoires\\1b0b00b15de940d29cb2b93785bf56b4.npy  \n",
       "1   repertoires\\e9030a3054e74e809985664108993718.npy  \n",
       "2   repertoires\\0141afbeefd4427b8ac6808637808210.npy  \n",
       "3   repertoires\\7e7e75819126449dbc68b7e8e0bb44e1.npy  \n",
       "4   repertoires\\534cb2c096bb456595925d170f899b3e.npy  \n",
       "..                                               ...  \n",
       "95  repertoires\\f148da942b3b4978a9780d778f504240.npy  \n",
       "96  repertoires\\aa4c5bcfc1a344b182511f6807b443d1.npy  \n",
       "97  repertoires\\4768b610335548b98a65e811e69eaa16.npy  \n",
       "98  repertoires\\3176d33742364c348703e054cc4eaebb.npy  \n",
       "99  repertoires\\779604c9a42f449996bad2320b3052ee.npy  \n",
       "\n",
       "[100 rows x 4 columns]"
      ]
     },
     "execution_count": 85,
     "metadata": {},
     "output_type": "execute_result"
    }
   ],
   "source": [
    "metadata"
   ]
  },
  {
   "cell_type": "code",
   "execution_count": 86,
   "metadata": {},
   "outputs": [],
   "source": [
    "filename = metadata.filename"
   ]
  },
  {
   "cell_type": "code",
   "execution_count": 87,
   "metadata": {},
   "outputs": [],
   "source": [
    "signal = metadata.my_signal"
   ]
  },
  {
   "cell_type": "markdown",
   "metadata": {},
   "source": [
    "<h3> Split data and run Assessment"
   ]
  },
  {
   "cell_type": "code",
   "execution_count": 88,
   "metadata": {},
   "outputs": [],
   "source": [
    "from immuneML.hyperparameter_optimization.core.HPAssessment import HPAssessment\n"
   ]
  },
  {
   "cell_type": "code",
   "execution_count": 89,
   "metadata": {},
   "outputs": [],
   "source": [
    "state = HPAssessment._create_root_path(state)"
   ]
  },
  {
   "cell_type": "code",
   "execution_count": 90,
   "metadata": {},
   "outputs": [],
   "source": [
    "from immuneML.hyperparameter_optimization.core.HPUtil import HPUtil\n"
   ]
  },
  {
   "cell_type": "code",
   "execution_count": 91,
   "metadata": {},
   "outputs": [
    {
     "data": {
      "text/plain": [
       "TrainMLModelState(dataset=<immuneML.data_model.dataset.RepertoireDataset.RepertoireDataset object at 0x0000027E105ADE80>, hp_strategy=<immuneML.hyperparameter_optimization.strategy.GridSearch.GridSearch object at 0x0000027E0C495DC0>, hp_settings=[<immuneML.hyperparameter_optimization.HPSetting.HPSetting object at 0x0000027E0C7D2820>, <immuneML.hyperparameter_optimization.HPSetting.HPSetting object at 0x0000027E0C48F6D0>], assessment=<immuneML.hyperparameter_optimization.config.SplitConfig.SplitConfig object at 0x0000027E0C495CD0>, selection=<immuneML.hyperparameter_optimization.config.SplitConfig.SplitConfig object at 0x0000027E0C3C1160>, metrics={<Metric.ACCURACY: 'accuracy_score'>}, optimization_metric=<Metric.BALANCED_ACCURACY: 'balanced_accuracy_score'>, label_configuration=<immuneML.environment.LabelConfiguration.LabelConfiguration object at 0x0000027E0C48FF70>, path=WindowsPath('C:/Users/karth/Desktop/PhD projects/immuneML/immuneML/quickstart/machine_learning_analysis/result/machine_learning_instruction'), context={'dataset': <immuneML.data_model.dataset.RepertoireDataset.RepertoireDataset object at 0x0000027E105ADE80>}, number_of_processes=3, reports={'hprep': <immuneML.reports.train_ml_model_reports.MLSettingsPerformance.MLSettingsPerformance object at 0x0000027E0D6878B0>}, name='machine_learning_instruction', refit_optimal_model=False, optimal_hp_items={}, optimal_hp_item_paths={}, assessment_states=[], report_results=[])"
      ]
     },
     "execution_count": 91,
     "metadata": {},
     "output_type": "execute_result"
    }
   ],
   "source": [
    "state"
   ]
  },
  {
   "cell_type": "code",
   "execution_count": 92,
   "metadata": {},
   "outputs": [
    {
     "data": {
      "text/plain": [
       "WindowsPath('C:/Users/karth/Desktop/PhD projects/immuneML/immuneML/quickstart/machine_learning_analysis/result/machine_learning_instruction')"
      ]
     },
     "execution_count": 92,
     "metadata": {},
     "output_type": "execute_result"
    }
   ],
   "source": [
    "state.path"
   ]
  },
  {
   "cell_type": "code",
   "execution_count": 93,
   "metadata": {},
   "outputs": [],
   "source": [
    "train_val_datasets, test_datasets = HPUtil.split_data(\n",
    "    state.dataset, state.assessment, state.path, state.label_configuration)\n"
   ]
  },
  {
   "cell_type": "code",
   "execution_count": 94,
   "metadata": {},
   "outputs": [
    {
     "data": {
      "text/plain": [
       "{'encoded_data': None,\n",
       " 'identifier': '6567663e-db41-11ec-a23b-9cb6d0fe1bec',\n",
       " 'name': '6567663e-db41-11ec-a23b-9cb6d0fe1bec',\n",
       " 'labels': {'identifier': ['a3f5e2361e5f45869cf2bb18e061d0f7',\n",
       "   '60a973e97f2c4fd48d4b7aae952f4e28',\n",
       "   '32f32b893f6747a598c4e36da5cd3d2f',\n",
       "   '9d9e841898cb46e3929bd1e86a869572',\n",
       "   'd991bd8e3eb3496a9859d6dca0ab3a9a',\n",
       "   'dc086370aa724984b52195c7cb759296',\n",
       "   'fc62a4511edc4bbcafb598eaf7a1b6c4',\n",
       "   'e2552214b84b4223b89d78c623accce7',\n",
       "   '7777c717844647488ef113e9f4f0037c',\n",
       "   '78de5469429c4fa1a51a3a57a4958a98',\n",
       "   '27c42bca98f641259642d41ff2dc4562',\n",
       "   'e9030a3054e74e809985664108993718',\n",
       "   '5fffb8866c074ab29fde7a3b80b59eec',\n",
       "   '5d61c1e46f1f4a28808623f32b9ee6aa',\n",
       "   '96c18bd7e7c441328c18b31e8db5e1f6',\n",
       "   '8b58a4183132412d836656416bd9ba21',\n",
       "   'a1779d7cc5c744e1a0151c6fb74ce8c3',\n",
       "   '1129c66ff15b43f5b5836496d6e0fb42',\n",
       "   'a476688c246b4a8ca33bdea56cf1cef0',\n",
       "   'a67b0b669bcb44459be9d42c7c8e886d',\n",
       "   '1b0b00b15de940d29cb2b93785bf56b4',\n",
       "   'f18458773861488d9a7cbf5ac71a1ed3',\n",
       "   '53ccc6af09cd41a9aa21f59b1ee20aae',\n",
       "   '023dfc714a7845adbaa7e9bef4e756f8',\n",
       "   'a287e19cb4d74f16973c111225be30ef',\n",
       "   '1455f849374f445b8b661e8ba6e2ade9',\n",
       "   '67ae1b9ad1744a5cb3809fd54e6f9560',\n",
       "   '929262ae60454481bae92ba23efe81b3',\n",
       "   'ce8c4cda376e4593851d6f555e71b7e1',\n",
       "   '79dca18a8d4b4bfd9d8dd73223af8e84',\n",
       "   '0141afbeefd4427b8ac6808637808210',\n",
       "   '90f4a3b5975a45ef86e81295ec33f1a9',\n",
       "   'dd352b2b3ae147429c25762b5f591c71',\n",
       "   '4955431f9b1a4066ae015f65e8dbff51',\n",
       "   '9c1c676dce954e9db1d6b733bcd9a78e',\n",
       "   'a8fa20574be649d2b2b242cc289a35b3',\n",
       "   '6685cad982a643d7908ab95700ac2ea9',\n",
       "   '11bcb674a19c48d69d530df9b99f819d',\n",
       "   '39aae24a84964caca45a8bdbcbe0838f',\n",
       "   '174971dda024456c9d4cd07030e1c09c',\n",
       "   '470d3be3b67b44708eed547d7a42e6d1',\n",
       "   '0def33e24668465b8b3745f75089f12d',\n",
       "   '232e97e618594e3ca32a403e834a69a4',\n",
       "   '5e49e31849144a5c9e30f6ffe036b539',\n",
       "   '534cb2c096bb456595925d170f899b3e',\n",
       "   'b65e572a12c749d29de7700f140fa455',\n",
       "   'd542f5a8df474c28b8965a1e8357f66f',\n",
       "   'c0f3551380ab43ebbcbb3a940af91386',\n",
       "   'a8f621bc294a4497b0bb992af896e672',\n",
       "   '5dac65eaa79946c68bd1f57c034ca997',\n",
       "   '4202c9f1332e41f1b23451dac71884dd',\n",
       "   'b1bf9ce1ba1849d9a36aa045a3204cb9',\n",
       "   '3c559babf0854a8fa5882359c5b6451a',\n",
       "   '9a605c3ce1dc4ee2a8a40b2c2d82ac39',\n",
       "   'b16e2c088a1148b8b8d5da63fd988376',\n",
       "   'af14f94a81ae414d986b49da257d4a92',\n",
       "   '956f811e877844e1aa081d91c9bf3ba7',\n",
       "   '6980eedfc3194b789b8d04d0b570321b',\n",
       "   'aa4c5bcfc1a344b182511f6807b443d1',\n",
       "   '4f2a20615a204610bc74167c28b10922',\n",
       "   '779604c9a42f449996bad2320b3052ee',\n",
       "   '48b394eb1b65491daa8f3a5eaf64e4c4',\n",
       "   '7acb65b8ac754430bcb70bb3026eef42',\n",
       "   '252d6ac38234484dacdf2691555e1b60',\n",
       "   '2a3f457bf14b486d9e7d9b09a9be47ac',\n",
       "   '0441753d5c2148008435cdd5798d8f22',\n",
       "   'a8f9ccc311fa43e4bc1ea0a20feade60',\n",
       "   'dc0c8e9ee37c4cc5a1f976031d002191',\n",
       "   'f148da942b3b4978a9780d778f504240',\n",
       "   '7e7e75819126449dbc68b7e8e0bb44e1',\n",
       "   '8e957cecf804477aad1799f0b8440d0e',\n",
       "   '3d5d0a99e2f445ee837082d1c4742e13',\n",
       "   'ea9798bd0d744648844d87289a9467c8',\n",
       "   'b233c3e3849b47a5b01bf6ac06d3a612',\n",
       "   '4768b610335548b98a65e811e69eaa16',\n",
       "   '80461eaa375b4baebc4496c826f024cb',\n",
       "   'd7c11e093aee44baada6521c672ca126',\n",
       "   '8c99679dce3349ac99717cbada2fa894',\n",
       "   '39a928bffe314f70af2cda92a0e94d9e',\n",
       "   '30157a0721564328a90369e81c99fe83',\n",
       "   'd2752e8e0cf349b683d99f4b327186be',\n",
       "   'f6cb5e4d567c45cb9f8da55d1a5f6f83',\n",
       "   '5d534a80ff0b4b148bcb90ef90d77523',\n",
       "   '14c64f2af9ca438fb4e95cfa123dc6d2',\n",
       "   '7425ab1a27064a89a1e4143ed39f7d34',\n",
       "   'e2c53c4c529d48bcbff96e8b1a825329',\n",
       "   'a49dce4b6e4e40588f18fb41e9374054',\n",
       "   '576a76f39da146368d1bff4185c7cbeb',\n",
       "   '1338b53c16bb4afb815aad4ac30d606a',\n",
       "   '3176d33742364c348703e054cc4eaebb',\n",
       "   '92b9795ccb2445c198211a63e7aa857f',\n",
       "   'b216b7fbecad4493aad4dcfb87713815',\n",
       "   '2895c054e86c4ed29fed845d78f46be5',\n",
       "   '5b6b800a34ea45e0a667b251e868a127',\n",
       "   '042d5de09b2049d3b481cd939a5ec3ae',\n",
       "   'ef36f91fe1fc4c8ba2362d8f8ad8a478',\n",
       "   '3b5c00731c514c3d82b81ede58da0085',\n",
       "   '230f2b59a504419cac718f0b50b51dde',\n",
       "   '3420f4e8a1644772a7898e2a3cb26bed',\n",
       "   '9ff73c54a15e47b7b523b5ee5b8435a1'],\n",
       "  'my_signal': [False, True],\n",
       "  'subject_id': ['rep_3',\n",
       "   'rep_21',\n",
       "   'rep_54',\n",
       "   'rep_86',\n",
       "   'rep_26',\n",
       "   'rep_4',\n",
       "   'rep_45',\n",
       "   'rep_77',\n",
       "   'rep_55',\n",
       "   'rep_2',\n",
       "   'rep_30',\n",
       "   'rep_9',\n",
       "   'rep_59',\n",
       "   'rep_8',\n",
       "   'rep_72',\n",
       "   'rep_19',\n",
       "   'rep_5',\n",
       "   'rep_46',\n",
       "   'rep_64',\n",
       "   'rep_62',\n",
       "   'rep_25',\n",
       "   'rep_7',\n",
       "   'rep_37',\n",
       "   'rep_68',\n",
       "   'rep_79',\n",
       "   'rep_83',\n",
       "   'rep_60',\n",
       "   'rep_67',\n",
       "   'rep_82',\n",
       "   'rep_90',\n",
       "   'rep_50',\n",
       "   'rep_78',\n",
       "   'rep_76',\n",
       "   'rep_29',\n",
       "   'rep_0',\n",
       "   'rep_41',\n",
       "   'rep_27',\n",
       "   'rep_73',\n",
       "   'rep_36',\n",
       "   'rep_92',\n",
       "   'rep_32',\n",
       "   'rep_52',\n",
       "   'rep_61',\n",
       "   'rep_13',\n",
       "   'rep_31',\n",
       "   'rep_70',\n",
       "   'rep_58',\n",
       "   'rep_15',\n",
       "   'rep_75',\n",
       "   'rep_63',\n",
       "   'rep_91',\n",
       "   'rep_95',\n",
       "   'rep_18',\n",
       "   'rep_98',\n",
       "   'rep_11',\n",
       "   'rep_33',\n",
       "   'rep_94',\n",
       "   'rep_93',\n",
       "   'rep_88',\n",
       "   'rep_44',\n",
       "   'rep_16',\n",
       "   'rep_74',\n",
       "   'rep_22',\n",
       "   'rep_65',\n",
       "   'rep_56',\n",
       "   'rep_85',\n",
       "   'rep_1',\n",
       "   'rep_34',\n",
       "   'rep_69',\n",
       "   'rep_35',\n",
       "   'rep_84',\n",
       "   'rep_12',\n",
       "   'rep_42',\n",
       "   'rep_17',\n",
       "   'rep_14',\n",
       "   'rep_53',\n",
       "   'rep_20',\n",
       "   'rep_66',\n",
       "   'rep_57',\n",
       "   'rep_38',\n",
       "   'rep_81',\n",
       "   'rep_71',\n",
       "   'rep_97',\n",
       "   'rep_23',\n",
       "   'rep_24',\n",
       "   'rep_51',\n",
       "   'rep_89',\n",
       "   'rep_39',\n",
       "   'rep_43',\n",
       "   'rep_87',\n",
       "   'rep_96',\n",
       "   'rep_10',\n",
       "   'rep_49',\n",
       "   'rep_6',\n",
       "   'rep_48',\n",
       "   'rep_28',\n",
       "   'rep_80',\n",
       "   'rep_99',\n",
       "   'rep_47',\n",
       "   'rep_40']},\n",
       " 'metadata_file': WindowsPath('C:/Users/karth/Desktop/PhD projects/immuneML/immuneML/quickstart/machine_learning_analysis/result/machine_learning_instruction/split_1/datasets/train_metadata.csv'),\n",
       " 'metadata_fields': None,\n",
       " 'repertoire_ids': None,\n",
       " 'repertoires': [<immuneML.data_model.repertoire.Repertoire.Repertoire at 0x27e105d8670>,\n",
       "  <immuneML.data_model.repertoire.Repertoire.Repertoire at 0x27e105d8550>,\n",
       "  <immuneML.data_model.repertoire.Repertoire.Repertoire at 0x27e105b0610>,\n",
       "  <immuneML.data_model.repertoire.Repertoire.Repertoire at 0x27e105d8580>,\n",
       "  <immuneML.data_model.repertoire.Repertoire.Repertoire at 0x27e105d83a0>,\n",
       "  <immuneML.data_model.repertoire.Repertoire.Repertoire at 0x27e105d8490>,\n",
       "  <immuneML.data_model.repertoire.Repertoire.Repertoire at 0x27e105b8d30>,\n",
       "  <immuneML.data_model.repertoire.Repertoire.Repertoire at 0x27e105b8e50>,\n",
       "  <immuneML.data_model.repertoire.Repertoire.Repertoire at 0x27e105d84c0>,\n",
       "  <immuneML.data_model.repertoire.Repertoire.Repertoire at 0x27e105d8190>,\n",
       "  <immuneML.data_model.repertoire.Repertoire.Repertoire at 0x27e105d8250>,\n",
       "  <immuneML.data_model.repertoire.Repertoire.Repertoire at 0x27e105b0520>,\n",
       "  <immuneML.data_model.repertoire.Repertoire.Repertoire at 0x27e105b84f0>,\n",
       "  <immuneML.data_model.repertoire.Repertoire.Repertoire at 0x27e105d8370>,\n",
       "  <immuneML.data_model.repertoire.Repertoire.Repertoire at 0x27e105d8220>,\n",
       "  <immuneML.data_model.repertoire.Repertoire.Repertoire at 0x27e105d8400>,\n",
       "  <immuneML.data_model.repertoire.Repertoire.Repertoire at 0x27e105b8ac0>,\n",
       "  <immuneML.data_model.repertoire.Repertoire.Repertoire at 0x27e105b8970>,\n",
       "  <immuneML.data_model.repertoire.Repertoire.Repertoire at 0x27e105b8070>,\n",
       "  <immuneML.data_model.repertoire.Repertoire.Repertoire at 0x27e105b8e20>,\n",
       "  <immuneML.data_model.repertoire.Repertoire.Repertoire at 0x27e105d80a0>,\n",
       "  <immuneML.data_model.repertoire.Repertoire.Repertoire at 0x27e105b8ee0>,\n",
       "  <immuneML.data_model.repertoire.Repertoire.Repertoire at 0x27e105d8040>,\n",
       "  <immuneML.data_model.repertoire.Repertoire.Repertoire at 0x27e105b8df0>,\n",
       "  <immuneML.data_model.repertoire.Repertoire.Repertoire at 0x27e105b0d00>,\n",
       "  <immuneML.data_model.repertoire.Repertoire.Repertoire at 0x27e105b89a0>,\n",
       "  <immuneML.data_model.repertoire.Repertoire.Repertoire at 0x27e105b0df0>,\n",
       "  <immuneML.data_model.repertoire.Repertoire.Repertoire at 0x27e105b8730>,\n",
       "  <immuneML.data_model.repertoire.Repertoire.Repertoire at 0x27e105b09a0>,\n",
       "  <immuneML.data_model.repertoire.Repertoire.Repertoire at 0x27e105b8f10>,\n",
       "  <immuneML.data_model.repertoire.Repertoire.Repertoire at 0x27e105d86a0>,\n",
       "  <immuneML.data_model.repertoire.Repertoire.Repertoire at 0x27e105b0bb0>,\n",
       "  <immuneML.data_model.repertoire.Repertoire.Repertoire at 0x27e105b8880>,\n",
       "  <immuneML.data_model.repertoire.Repertoire.Repertoire at 0x27e105b8640>,\n",
       "  <immuneML.data_model.repertoire.Repertoire.Repertoire at 0x27e105b8610>,\n",
       "  <immuneML.data_model.repertoire.Repertoire.Repertoire at 0x27e105b0be0>,\n",
       "  <immuneML.data_model.repertoire.Repertoire.Repertoire at 0x27e105d84f0>,\n",
       "  <immuneML.data_model.repertoire.Repertoire.Repertoire at 0x27e105b02b0>,\n",
       "  <immuneML.data_model.repertoire.Repertoire.Repertoire at 0x27e105b8190>,\n",
       "  <immuneML.data_model.repertoire.Repertoire.Repertoire at 0x27e105d81f0>,\n",
       "  <immuneML.data_model.repertoire.Repertoire.Repertoire at 0x27e105b8f70>,\n",
       "  <immuneML.data_model.repertoire.Repertoire.Repertoire at 0x27e105b8eb0>,\n",
       "  <immuneML.data_model.repertoire.Repertoire.Repertoire at 0x27e105b81c0>,\n",
       "  <immuneML.data_model.repertoire.Repertoire.Repertoire at 0x27e105b8dc0>,\n",
       "  <immuneML.data_model.repertoire.Repertoire.Repertoire at 0x27e105b0f10>,\n",
       "  <immuneML.data_model.repertoire.Repertoire.Repertoire at 0x27e105b0f40>,\n",
       "  <immuneML.data_model.repertoire.Repertoire.Repertoire at 0x27e105d8640>,\n",
       "  <immuneML.data_model.repertoire.Repertoire.Repertoire at 0x27e105d85b0>,\n",
       "  <immuneML.data_model.repertoire.Repertoire.Repertoire at 0x27e105b0400>,\n",
       "  <immuneML.data_model.repertoire.Repertoire.Repertoire at 0x27e105d85e0>,\n",
       "  <immuneML.data_model.repertoire.Repertoire.Repertoire at 0x27e105b0760>,\n",
       "  <immuneML.data_model.repertoire.Repertoire.Repertoire at 0x27e105b80a0>,\n",
       "  <immuneML.data_model.repertoire.Repertoire.Repertoire at 0x27e105b0730>,\n",
       "  <immuneML.data_model.repertoire.Repertoire.Repertoire at 0x27e105d81c0>,\n",
       "  <immuneML.data_model.repertoire.Repertoire.Repertoire at 0x27e105b8850>,\n",
       "  <immuneML.data_model.repertoire.Repertoire.Repertoire at 0x27e105d8430>,\n",
       "  <immuneML.data_model.repertoire.Repertoire.Repertoire at 0x27e105b8400>,\n",
       "  <immuneML.data_model.repertoire.Repertoire.Repertoire at 0x27e105b0160>,\n",
       "  <immuneML.data_model.repertoire.Repertoire.Repertoire at 0x27e105b8fa0>,\n",
       "  <immuneML.data_model.repertoire.Repertoire.Repertoire at 0x27e105b8d00>,\n",
       "  <immuneML.data_model.repertoire.Repertoire.Repertoire at 0x27e105b0130>,\n",
       "  <immuneML.data_model.repertoire.Repertoire.Repertoire at 0x27e105b8e80>,\n",
       "  <immuneML.data_model.repertoire.Repertoire.Repertoire at 0x27e105d8520>,\n",
       "  <immuneML.data_model.repertoire.Repertoire.Repertoire at 0x27e105d8340>,\n",
       "  <immuneML.data_model.repertoire.Repertoire.Repertoire at 0x27e105d8160>,\n",
       "  <immuneML.data_model.repertoire.Repertoire.Repertoire at 0x27e105b0cd0>,\n",
       "  <immuneML.data_model.repertoire.Repertoire.Repertoire at 0x27e105d8610>,\n",
       "  <immuneML.data_model.repertoire.Repertoire.Repertoire at 0x27e105b8bb0>,\n",
       "  <immuneML.data_model.repertoire.Repertoire.Repertoire at 0x27e105d80d0>,\n",
       "  <immuneML.data_model.repertoire.Repertoire.Repertoire at 0x27e105d82e0>]}"
      ]
     },
     "execution_count": 94,
     "metadata": {},
     "output_type": "execute_result"
    }
   ],
   "source": [
    "train_val_datasets[0].__dict__"
   ]
  },
  {
   "cell_type": "code",
   "execution_count": 95,
   "metadata": {},
   "outputs": [
    {
     "data": {
      "text/plain": [
       "1"
      ]
     },
     "execution_count": 95,
     "metadata": {},
     "output_type": "execute_result"
    }
   ],
   "source": [
    "n_splits = len(train_val_datasets)\n",
    "n_splits"
   ]
  },
  {
   "cell_type": "code",
   "execution_count": 96,
   "metadata": {},
   "outputs": [
    {
     "data": {
      "text/plain": [
       "[<immuneML.data_model.dataset.RepertoireDataset.RepertoireDataset at 0x27e7450ce80>]"
      ]
     },
     "execution_count": 96,
     "metadata": {},
     "output_type": "execute_result"
    }
   ],
   "source": [
    "train_val_datasets"
   ]
  },
  {
   "cell_type": "code",
   "execution_count": 97,
   "metadata": {},
   "outputs": [],
   "source": [
    "def create_selection_path(current_path = state.path):\n",
    "    \n",
    "    sel_path = current_path / \\\n",
    "        f\"slection_{state.selection.split_strategy.name.lower()}\"\n",
    "        \n",
    "    PathBuilder.build(sel_path)\n",
    "    \n",
    "    return sel_path\n",
    "\n",
    "selection_path = create_selection_path()"
   ]
  },
  {
   "cell_type": "code",
   "execution_count": 98,
   "metadata": {},
   "outputs": [],
   "source": [
    "train_datasets , test_datasets = HPUtil.split_data(train_val_datasets[0] , state.selection , selection_path , state.label_configuration)"
   ]
  },
  {
   "cell_type": "code",
   "execution_count": 99,
   "metadata": {},
   "outputs": [],
   "source": [
    "train_dataset = train_datasets[0]\n",
    "\n",
    "test_dataset = test_datasets[0]"
   ]
  },
  {
   "cell_type": "code",
   "execution_count": 108,
   "metadata": {},
   "outputs": [],
   "source": [
    "hp_setting = state.hp_strategy.generate_next_setting()"
   ]
  },
  {
   "cell_type": "code",
   "execution_count": 109,
   "metadata": {},
   "outputs": [
    {
     "data": {
      "text/plain": [
       "<immuneML.hyperparameter_optimization.HPSetting.HPSetting at 0x27e138dca90>"
      ]
     },
     "execution_count": 109,
     "metadata": {},
     "output_type": "execute_result"
    }
   ],
   "source": [
    "hp_setting"
   ]
  },
  {
   "cell_type": "code",
   "execution_count": 110,
   "metadata": {},
   "outputs": [
    {
     "data": {
      "text/plain": [
       "WindowsPath('C:/Users/karth/Desktop/PhD projects/immuneML/immuneML/quickstart/machine_learning_analysis/result/machine_learning_instruction/slection_random')"
      ]
     },
     "execution_count": 110,
     "metadata": {},
     "output_type": "execute_result"
    }
   ],
   "source": [
    "selection_path"
   ]
  },
  {
   "cell_type": "markdown",
   "metadata": {},
   "source": [
    "<h3>Encode Dataset"
   ]
  },
  {
   "cell_type": "code",
   "execution_count": 111,
   "metadata": {},
   "outputs": [
    {
     "name": "stdout",
     "output_type": "stream",
     "text": [
      "2022-05-24 11:26:17.027438: Encoding started...\n",
      "2022-05-24 11:26:22.281437: Encoding finished.\n"
     ]
    }
   ],
   "source": [
    "encoded_train = HPUtil.encode_dataset(train_dataset, hp_setting , selection_path / \"encoded_dataset\" , learn_model = True , context = state.context, number_of_processes= state.number_of_processes , label_configuration=state.label_configuration)"
   ]
  },
  {
   "cell_type": "code",
   "execution_count": 116,
   "metadata": {},
   "outputs": [
    {
     "data": {
      "text/plain": [
       "<49x4597 sparse matrix of type '<class 'numpy.float64'>'\n",
       "\twith 6772 stored elements in Compressed Sparse Row format>"
      ]
     },
     "execution_count": 116,
     "metadata": {},
     "output_type": "execute_result"
    }
   ],
   "source": [
    "encoded_train.encoded_data.examples"
   ]
  },
  {
   "cell_type": "code",
   "execution_count": 169,
   "metadata": {},
   "outputs": [],
   "source": [
    "encoded_train_data = encoded_train.encoded_data"
   ]
  },
  {
   "cell_type": "code",
   "execution_count": 119,
   "metadata": {},
   "outputs": [],
   "source": [
    "from immuneML.ml_methods.util.Util import Util\n"
   ]
  },
  {
   "cell_type": "code",
   "execution_count": 170,
   "metadata": {},
   "outputs": [
    {
     "data": {
      "text/plain": [
       "[True,\n",
       " False,\n",
       " True,\n",
       " False,\n",
       " True,\n",
       " True,\n",
       " True,\n",
       " False,\n",
       " False,\n",
       " False,\n",
       " True,\n",
       " True,\n",
       " True,\n",
       " False,\n",
       " True,\n",
       " False,\n",
       " False,\n",
       " True,\n",
       " False,\n",
       " True,\n",
       " True,\n",
       " False,\n",
       " False,\n",
       " False,\n",
       " True,\n",
       " False,\n",
       " False,\n",
       " False,\n",
       " False,\n",
       " False,\n",
       " True,\n",
       " False,\n",
       " False,\n",
       " True,\n",
       " True,\n",
       " True,\n",
       " False,\n",
       " False,\n",
       " False,\n",
       " False,\n",
       " True,\n",
       " False,\n",
       " True,\n",
       " True,\n",
       " False,\n",
       " True,\n",
       " False,\n",
       " False,\n",
       " True]"
      ]
     },
     "execution_count": 170,
     "metadata": {},
     "output_type": "execute_result"
    }
   ],
   "source": [
    "encoded_train_data.labels[label.name]"
   ]
  },
  {
   "cell_type": "code",
   "execution_count": 168,
   "metadata": {},
   "outputs": [
    {
     "data": {
      "text/plain": [
       "<immuneML.data_model.dataset.RepertoireDataset.RepertoireDataset at 0x27e1114cb80>"
      ]
     },
     "execution_count": 168,
     "metadata": {},
     "output_type": "execute_result"
    }
   ],
   "source": []
  },
  {
   "cell_type": "code",
   "execution_count": 171,
   "metadata": {},
   "outputs": [],
   "source": [
    "class_mapping = Util.make_class_mapping(encoded_train_data.labels[label.name])\n"
   ]
  },
  {
   "cell_type": "code",
   "execution_count": 172,
   "metadata": {},
   "outputs": [
    {
     "data": {
      "text/plain": [
       "{0: False, 1: True}"
      ]
     },
     "execution_count": 172,
     "metadata": {},
     "output_type": "execute_result"
    }
   ],
   "source": [
    "class_mapping"
   ]
  },
  {
   "cell_type": "code",
   "execution_count": 173,
   "metadata": {},
   "outputs": [],
   "source": [
    "mapped_y = Util.map_to_new_class_values(encoded_train_data.labels[label.name] , class_mapping)"
   ]
  },
  {
   "cell_type": "code",
   "execution_count": 176,
   "metadata": {},
   "outputs": [
    {
     "data": {
      "text/plain": [
       "49"
      ]
     },
     "execution_count": 176,
     "metadata": {},
     "output_type": "execute_result"
    }
   ],
   "source": [
    "len(mapped_y)"
   ]
  },
  {
   "cell_type": "code",
   "execution_count": 177,
   "metadata": {},
   "outputs": [],
   "source": [
    "X_train = encoded_train.encoded_data.examples\n"
   ]
  },
  {
   "cell_type": "code",
   "execution_count": 178,
   "metadata": {},
   "outputs": [
    {
     "data": {
      "text/plain": [
       "<49x4597 sparse matrix of type '<class 'numpy.float64'>'\n",
       "\twith 6772 stored elements in Compressed Sparse Row format>"
      ]
     },
     "execution_count": 178,
     "metadata": {},
     "output_type": "execute_result"
    }
   ],
   "source": [
    "X_train"
   ]
  },
  {
   "cell_type": "markdown",
   "metadata": {},
   "source": [
    "<h3>Dask workflow"
   ]
  },
  {
   "cell_type": "code",
   "execution_count": 179,
   "metadata": {},
   "outputs": [
    {
     "name": "stderr",
     "output_type": "stream",
     "text": [
      "c:\\Users\\karth\\anaconda3\\envs\\test\\lib\\site-packages\\distributed\\node.py:180: UserWarning: Port 8787 is already in use.\n",
      "Perhaps you already have a cluster running?\n",
      "Hosting the HTTP server on port 60880 instead\n",
      "  warnings.warn(\n"
     ]
    },
    {
     "data": {
      "text/plain": [
       "'http://127.0.0.1:60880/status'"
      ]
     },
     "execution_count": 179,
     "metadata": {},
     "output_type": "execute_result"
    }
   ],
   "source": [
    "import dask.dataframe as dd\n",
    "import dask.array as da\n",
    "import dask.bag as db\n",
    "from dask.distributed import Client\n",
    "\n",
    "client = Client()\n",
    "client.dashboard_link\n"
   ]
  },
  {
   "cell_type": "code",
   "execution_count": 208,
   "metadata": {},
   "outputs": [
    {
     "data": {
      "text/plain": [
       "TrainMLModelState(dataset=<immuneML.data_model.dataset.RepertoireDataset.RepertoireDataset object at 0x0000027E105ADE80>, hp_strategy=<immuneML.hyperparameter_optimization.strategy.GridSearch.GridSearch object at 0x0000027E0C495DC0>, hp_settings=[<immuneML.hyperparameter_optimization.HPSetting.HPSetting object at 0x0000027E0C7D2820>, <immuneML.hyperparameter_optimization.HPSetting.HPSetting object at 0x0000027E0C48F6D0>], assessment=<immuneML.hyperparameter_optimization.config.SplitConfig.SplitConfig object at 0x0000027E0C495CD0>, selection=<immuneML.hyperparameter_optimization.config.SplitConfig.SplitConfig object at 0x0000027E0C3C1160>, metrics={<Metric.ACCURACY: 'accuracy_score'>}, optimization_metric=<Metric.BALANCED_ACCURACY: 'balanced_accuracy_score'>, label_configuration=<immuneML.environment.LabelConfiguration.LabelConfiguration object at 0x0000027E0C48FF70>, path=WindowsPath('C:/Users/karth/Desktop/PhD projects/immuneML/immuneML/quickstart/machine_learning_analysis/result/machine_learning_instruction'), context={'dataset': <immuneML.data_model.dataset.RepertoireDataset.RepertoireDataset object at 0x0000027E105ADE80>}, number_of_processes=3, reports={'hprep': <immuneML.reports.train_ml_model_reports.MLSettingsPerformance.MLSettingsPerformance object at 0x0000027E0D6878B0>}, name='machine_learning_instruction', refit_optimal_model=False, optimal_hp_items={}, optimal_hp_item_paths={}, assessment_states=[], report_results=[])"
      ]
     },
     "execution_count": 208,
     "metadata": {},
     "output_type": "execute_result"
    }
   ],
   "source": [
    "state"
   ]
  },
  {
   "cell_type": "code",
   "execution_count": 205,
   "metadata": {},
   "outputs": [],
   "source": [
    "state.DaskClient = client"
   ]
  },
  {
   "cell_type": "code",
   "execution_count": 207,
   "metadata": {},
   "outputs": [
    {
     "data": {
      "text/html": [
       "<div>\n",
       "    <div style=\"width: 24px; height: 24px; background-color: #e1e1e1; border: 3px solid #9D9D9D; border-radius: 5px; position: absolute;\"> </div>\n",
       "    <div style=\"margin-left: 48px;\">\n",
       "        <h3 style=\"margin-bottom: 0px;\">Client</h3>\n",
       "        <p style=\"color: #9D9D9D; margin-bottom: 0px;\">Client-2dbe7f06-db4a-11ec-983c-9cb6d0fe1bec</p>\n",
       "        <table style=\"width: 100%; text-align: left;\">\n",
       "\n",
       "        <tr>\n",
       "        \n",
       "            <td style=\"text-align: left;\"><strong>Connection method:</strong> Cluster object</td>\n",
       "            <td style=\"text-align: left;\"><strong>Cluster type:</strong> distributed.LocalCluster</td>\n",
       "        \n",
       "        </tr>\n",
       "\n",
       "        \n",
       "            <tr>\n",
       "                <td style=\"text-align: left;\">\n",
       "                    <strong>Dashboard: </strong> <a href=\"http://127.0.0.1:60880/status\" target=\"_blank\">http://127.0.0.1:60880/status</a>\n",
       "                </td>\n",
       "                <td style=\"text-align: left;\"></td>\n",
       "            </tr>\n",
       "        \n",
       "\n",
       "        </table>\n",
       "\n",
       "        \n",
       "            <details>\n",
       "            <summary style=\"margin-bottom: 20px;\"><h3 style=\"display: inline;\">Cluster Info</h3></summary>\n",
       "            <div class=\"jp-RenderedHTMLCommon jp-RenderedHTML jp-mod-trusted jp-OutputArea-output\">\n",
       "    <div style=\"width: 24px; height: 24px; background-color: #e1e1e1; border: 3px solid #9D9D9D; border-radius: 5px; position: absolute;\">\n",
       "    </div>\n",
       "    <div style=\"margin-left: 48px;\">\n",
       "        <h3 style=\"margin-bottom: 0px; margin-top: 0px;\">LocalCluster</h3>\n",
       "        <p style=\"color: #9D9D9D; margin-bottom: 0px;\">4770e46a</p>\n",
       "        <table style=\"width: 100%; text-align: left;\">\n",
       "            <tr>\n",
       "                <td style=\"text-align: left;\">\n",
       "                    <strong>Dashboard:</strong> <a href=\"http://127.0.0.1:60880/status\" target=\"_blank\">http://127.0.0.1:60880/status</a>\n",
       "                </td>\n",
       "                <td style=\"text-align: left;\">\n",
       "                    <strong>Workers:</strong> 4\n",
       "                </td>\n",
       "            </tr>\n",
       "            <tr>\n",
       "                <td style=\"text-align: left;\">\n",
       "                    <strong>Total threads:</strong> 8\n",
       "                </td>\n",
       "                <td style=\"text-align: left;\">\n",
       "                    <strong>Total memory:</strong> 15.86 GiB\n",
       "                </td>\n",
       "            </tr>\n",
       "            \n",
       "            <tr>\n",
       "    <td style=\"text-align: left;\"><strong>Status:</strong> running</td>\n",
       "    <td style=\"text-align: left;\"><strong>Using processes:</strong> True</td>\n",
       "</tr>\n",
       "\n",
       "            \n",
       "        </table>\n",
       "\n",
       "        <details>\n",
       "            <summary style=\"margin-bottom: 20px;\">\n",
       "                <h3 style=\"display: inline;\">Scheduler Info</h3>\n",
       "            </summary>\n",
       "\n",
       "            <div style=\"\">\n",
       "    <div>\n",
       "        <div style=\"width: 24px; height: 24px; background-color: #FFF7E5; border: 3px solid #FF6132; border-radius: 5px; position: absolute;\"> </div>\n",
       "        <div style=\"margin-left: 48px;\">\n",
       "            <h3 style=\"margin-bottom: 0px;\">Scheduler</h3>\n",
       "            <p style=\"color: #9D9D9D; margin-bottom: 0px;\">Scheduler-7bfbe147-555d-4370-83f0-2966ec8df1e8</p>\n",
       "            <table style=\"width: 100%; text-align: left;\">\n",
       "                <tr>\n",
       "                    <td style=\"text-align: left;\">\n",
       "                        <strong>Comm:</strong> tcp://127.0.0.1:60881\n",
       "                    </td>\n",
       "                    <td style=\"text-align: left;\">\n",
       "                        <strong>Workers:</strong> 4\n",
       "                    </td>\n",
       "                </tr>\n",
       "                <tr>\n",
       "                    <td style=\"text-align: left;\">\n",
       "                        <strong>Dashboard:</strong> <a href=\"http://127.0.0.1:60880/status\" target=\"_blank\">http://127.0.0.1:60880/status</a>\n",
       "                    </td>\n",
       "                    <td style=\"text-align: left;\">\n",
       "                        <strong>Total threads:</strong> 8\n",
       "                    </td>\n",
       "                </tr>\n",
       "                <tr>\n",
       "                    <td style=\"text-align: left;\">\n",
       "                        <strong>Started:</strong> 1 day ago\n",
       "                    </td>\n",
       "                    <td style=\"text-align: left;\">\n",
       "                        <strong>Total memory:</strong> 15.86 GiB\n",
       "                    </td>\n",
       "                </tr>\n",
       "            </table>\n",
       "        </div>\n",
       "    </div>\n",
       "\n",
       "    <details style=\"margin-left: 48px;\">\n",
       "        <summary style=\"margin-bottom: 20px;\">\n",
       "            <h3 style=\"display: inline;\">Workers</h3>\n",
       "        </summary>\n",
       "\n",
       "        \n",
       "        <div style=\"margin-bottom: 20px;\">\n",
       "            <div style=\"width: 24px; height: 24px; background-color: #DBF5FF; border: 3px solid #4CC9FF; border-radius: 5px; position: absolute;\"> </div>\n",
       "            <div style=\"margin-left: 48px;\">\n",
       "            <details>\n",
       "                <summary>\n",
       "                    <h4 style=\"margin-bottom: 0px; display: inline;\">Worker: 0</h4>\n",
       "                </summary>\n",
       "                <table style=\"width: 100%; text-align: left;\">\n",
       "                    <tr>\n",
       "                        <td style=\"text-align: left;\">\n",
       "                            <strong>Comm: </strong> tcp://127.0.0.1:60909\n",
       "                        </td>\n",
       "                        <td style=\"text-align: left;\">\n",
       "                            <strong>Total threads: </strong> 2\n",
       "                        </td>\n",
       "                    </tr>\n",
       "                    <tr>\n",
       "                        <td style=\"text-align: left;\">\n",
       "                            <strong>Dashboard: </strong> <a href=\"http://127.0.0.1:60913/status\" target=\"_blank\">http://127.0.0.1:60913/status</a>\n",
       "                        </td>\n",
       "                        <td style=\"text-align: left;\">\n",
       "                            <strong>Memory: </strong> 3.96 GiB\n",
       "                        </td>\n",
       "                    </tr>\n",
       "                    <tr>\n",
       "                        <td style=\"text-align: left;\">\n",
       "                            <strong>Nanny: </strong> tcp://127.0.0.1:60884\n",
       "                        </td>\n",
       "                        <td style=\"text-align: left;\"></td>\n",
       "                    </tr>\n",
       "                    <tr>\n",
       "                        <td colspan=\"2\" style=\"text-align: left;\">\n",
       "                            <strong>Local directory: </strong> c:\\Users\\karth\\Desktop\\PhD projects\\immuneML\\dev_immuneML\\immuneML\\Notebook\\dask-worker-space\\worker-iq48po05\n",
       "                        </td>\n",
       "                    </tr>\n",
       "\n",
       "                    \n",
       "\n",
       "                    \n",
       "\n",
       "                </table>\n",
       "            </details>\n",
       "            </div>\n",
       "        </div>\n",
       "        \n",
       "        <div style=\"margin-bottom: 20px;\">\n",
       "            <div style=\"width: 24px; height: 24px; background-color: #DBF5FF; border: 3px solid #4CC9FF; border-radius: 5px; position: absolute;\"> </div>\n",
       "            <div style=\"margin-left: 48px;\">\n",
       "            <details>\n",
       "                <summary>\n",
       "                    <h4 style=\"margin-bottom: 0px; display: inline;\">Worker: 1</h4>\n",
       "                </summary>\n",
       "                <table style=\"width: 100%; text-align: left;\">\n",
       "                    <tr>\n",
       "                        <td style=\"text-align: left;\">\n",
       "                            <strong>Comm: </strong> tcp://127.0.0.1:60908\n",
       "                        </td>\n",
       "                        <td style=\"text-align: left;\">\n",
       "                            <strong>Total threads: </strong> 2\n",
       "                        </td>\n",
       "                    </tr>\n",
       "                    <tr>\n",
       "                        <td style=\"text-align: left;\">\n",
       "                            <strong>Dashboard: </strong> <a href=\"http://127.0.0.1:60910/status\" target=\"_blank\">http://127.0.0.1:60910/status</a>\n",
       "                        </td>\n",
       "                        <td style=\"text-align: left;\">\n",
       "                            <strong>Memory: </strong> 3.96 GiB\n",
       "                        </td>\n",
       "                    </tr>\n",
       "                    <tr>\n",
       "                        <td style=\"text-align: left;\">\n",
       "                            <strong>Nanny: </strong> tcp://127.0.0.1:60886\n",
       "                        </td>\n",
       "                        <td style=\"text-align: left;\"></td>\n",
       "                    </tr>\n",
       "                    <tr>\n",
       "                        <td colspan=\"2\" style=\"text-align: left;\">\n",
       "                            <strong>Local directory: </strong> c:\\Users\\karth\\Desktop\\PhD projects\\immuneML\\dev_immuneML\\immuneML\\Notebook\\dask-worker-space\\worker-qp24ijsg\n",
       "                        </td>\n",
       "                    </tr>\n",
       "\n",
       "                    \n",
       "\n",
       "                    \n",
       "\n",
       "                </table>\n",
       "            </details>\n",
       "            </div>\n",
       "        </div>\n",
       "        \n",
       "        <div style=\"margin-bottom: 20px;\">\n",
       "            <div style=\"width: 24px; height: 24px; background-color: #DBF5FF; border: 3px solid #4CC9FF; border-radius: 5px; position: absolute;\"> </div>\n",
       "            <div style=\"margin-left: 48px;\">\n",
       "            <details>\n",
       "                <summary>\n",
       "                    <h4 style=\"margin-bottom: 0px; display: inline;\">Worker: 2</h4>\n",
       "                </summary>\n",
       "                <table style=\"width: 100%; text-align: left;\">\n",
       "                    <tr>\n",
       "                        <td style=\"text-align: left;\">\n",
       "                            <strong>Comm: </strong> tcp://127.0.0.1:60917\n",
       "                        </td>\n",
       "                        <td style=\"text-align: left;\">\n",
       "                            <strong>Total threads: </strong> 2\n",
       "                        </td>\n",
       "                    </tr>\n",
       "                    <tr>\n",
       "                        <td style=\"text-align: left;\">\n",
       "                            <strong>Dashboard: </strong> <a href=\"http://127.0.0.1:60918/status\" target=\"_blank\">http://127.0.0.1:60918/status</a>\n",
       "                        </td>\n",
       "                        <td style=\"text-align: left;\">\n",
       "                            <strong>Memory: </strong> 3.96 GiB\n",
       "                        </td>\n",
       "                    </tr>\n",
       "                    <tr>\n",
       "                        <td style=\"text-align: left;\">\n",
       "                            <strong>Nanny: </strong> tcp://127.0.0.1:60887\n",
       "                        </td>\n",
       "                        <td style=\"text-align: left;\"></td>\n",
       "                    </tr>\n",
       "                    <tr>\n",
       "                        <td colspan=\"2\" style=\"text-align: left;\">\n",
       "                            <strong>Local directory: </strong> c:\\Users\\karth\\Desktop\\PhD projects\\immuneML\\dev_immuneML\\immuneML\\Notebook\\dask-worker-space\\worker-s0dwsdcg\n",
       "                        </td>\n",
       "                    </tr>\n",
       "\n",
       "                    \n",
       "\n",
       "                    \n",
       "\n",
       "                </table>\n",
       "            </details>\n",
       "            </div>\n",
       "        </div>\n",
       "        \n",
       "        <div style=\"margin-bottom: 20px;\">\n",
       "            <div style=\"width: 24px; height: 24px; background-color: #DBF5FF; border: 3px solid #4CC9FF; border-radius: 5px; position: absolute;\"> </div>\n",
       "            <div style=\"margin-left: 48px;\">\n",
       "            <details>\n",
       "                <summary>\n",
       "                    <h4 style=\"margin-bottom: 0px; display: inline;\">Worker: 3</h4>\n",
       "                </summary>\n",
       "                <table style=\"width: 100%; text-align: left;\">\n",
       "                    <tr>\n",
       "                        <td style=\"text-align: left;\">\n",
       "                            <strong>Comm: </strong> tcp://127.0.0.1:60912\n",
       "                        </td>\n",
       "                        <td style=\"text-align: left;\">\n",
       "                            <strong>Total threads: </strong> 2\n",
       "                        </td>\n",
       "                    </tr>\n",
       "                    <tr>\n",
       "                        <td style=\"text-align: left;\">\n",
       "                            <strong>Dashboard: </strong> <a href=\"http://127.0.0.1:60915/status\" target=\"_blank\">http://127.0.0.1:60915/status</a>\n",
       "                        </td>\n",
       "                        <td style=\"text-align: left;\">\n",
       "                            <strong>Memory: </strong> 3.96 GiB\n",
       "                        </td>\n",
       "                    </tr>\n",
       "                    <tr>\n",
       "                        <td style=\"text-align: left;\">\n",
       "                            <strong>Nanny: </strong> tcp://127.0.0.1:60885\n",
       "                        </td>\n",
       "                        <td style=\"text-align: left;\"></td>\n",
       "                    </tr>\n",
       "                    <tr>\n",
       "                        <td colspan=\"2\" style=\"text-align: left;\">\n",
       "                            <strong>Local directory: </strong> c:\\Users\\karth\\Desktop\\PhD projects\\immuneML\\dev_immuneML\\immuneML\\Notebook\\dask-worker-space\\worker-jza0sdyr\n",
       "                        </td>\n",
       "                    </tr>\n",
       "\n",
       "                    \n",
       "\n",
       "                    \n",
       "\n",
       "                </table>\n",
       "            </details>\n",
       "            </div>\n",
       "        </div>\n",
       "        \n",
       "\n",
       "    </details>\n",
       "</div>\n",
       "\n",
       "        </details>\n",
       "    </div>\n",
       "</div>\n",
       "            </details>\n",
       "        \n",
       "\n",
       "    </div>\n",
       "</div>"
      ],
      "text/plain": [
       "<Client: 'tcp://127.0.0.1:60881' processes=4 threads=8, memory=15.86 GiB>"
      ]
     },
     "execution_count": 207,
     "metadata": {},
     "output_type": "execute_result"
    }
   ],
   "source": [
    "state.DaskClient"
   ]
  },
  {
   "cell_type": "code",
   "execution_count": null,
   "metadata": {},
   "outputs": [
    {
     "data": {
      "text/html": [
       "<div>\n",
       "    <div style=\"width: 24px; height: 24px; background-color: #e1e1e1; border: 3px solid #9D9D9D; border-radius: 5px; position: absolute;\"> </div>\n",
       "    <div style=\"margin-left: 48px;\">\n",
       "        <h3 style=\"margin-bottom: 0px;\">Client</h3>\n",
       "        <p style=\"color: #9D9D9D; margin-bottom: 0px;\">Client-c5eae938-db3f-11ec-bf78-9cb6d0fe1bec</p>\n",
       "        <table style=\"width: 100%; text-align: left;\">\n",
       "\n",
       "        <tr>\n",
       "        \n",
       "            <td style=\"text-align: left;\"><strong>Connection method:</strong> Cluster object</td>\n",
       "            <td style=\"text-align: left;\"><strong>Cluster type:</strong> distributed.LocalCluster</td>\n",
       "        \n",
       "        </tr>\n",
       "\n",
       "        \n",
       "            <tr>\n",
       "                <td style=\"text-align: left;\">\n",
       "                    <strong>Dashboard: </strong> <a href=\"http://127.0.0.1:8787/status\" target=\"_blank\">http://127.0.0.1:8787/status</a>\n",
       "                </td>\n",
       "                <td style=\"text-align: left;\"></td>\n",
       "            </tr>\n",
       "        \n",
       "\n",
       "        </table>\n",
       "\n",
       "        \n",
       "            <details>\n",
       "            <summary style=\"margin-bottom: 20px;\"><h3 style=\"display: inline;\">Cluster Info</h3></summary>\n",
       "            <div class=\"jp-RenderedHTMLCommon jp-RenderedHTML jp-mod-trusted jp-OutputArea-output\">\n",
       "    <div style=\"width: 24px; height: 24px; background-color: #e1e1e1; border: 3px solid #9D9D9D; border-radius: 5px; position: absolute;\">\n",
       "    </div>\n",
       "    <div style=\"margin-left: 48px;\">\n",
       "        <h3 style=\"margin-bottom: 0px; margin-top: 0px;\">LocalCluster</h3>\n",
       "        <p style=\"color: #9D9D9D; margin-bottom: 0px;\">fb42038b</p>\n",
       "        <table style=\"width: 100%; text-align: left;\">\n",
       "            <tr>\n",
       "                <td style=\"text-align: left;\">\n",
       "                    <strong>Dashboard:</strong> <a href=\"http://127.0.0.1:8787/status\" target=\"_blank\">http://127.0.0.1:8787/status</a>\n",
       "                </td>\n",
       "                <td style=\"text-align: left;\">\n",
       "                    <strong>Workers:</strong> 4\n",
       "                </td>\n",
       "            </tr>\n",
       "            <tr>\n",
       "                <td style=\"text-align: left;\">\n",
       "                    <strong>Total threads:</strong> 8\n",
       "                </td>\n",
       "                <td style=\"text-align: left;\">\n",
       "                    <strong>Total memory:</strong> 15.86 GiB\n",
       "                </td>\n",
       "            </tr>\n",
       "            \n",
       "            <tr>\n",
       "    <td style=\"text-align: left;\"><strong>Status:</strong> running</td>\n",
       "    <td style=\"text-align: left;\"><strong>Using processes:</strong> True</td>\n",
       "</tr>\n",
       "\n",
       "            \n",
       "        </table>\n",
       "\n",
       "        <details>\n",
       "            <summary style=\"margin-bottom: 20px;\">\n",
       "                <h3 style=\"display: inline;\">Scheduler Info</h3>\n",
       "            </summary>\n",
       "\n",
       "            <div style=\"\">\n",
       "    <div>\n",
       "        <div style=\"width: 24px; height: 24px; background-color: #FFF7E5; border: 3px solid #FF6132; border-radius: 5px; position: absolute;\"> </div>\n",
       "        <div style=\"margin-left: 48px;\">\n",
       "            <h3 style=\"margin-bottom: 0px;\">Scheduler</h3>\n",
       "            <p style=\"color: #9D9D9D; margin-bottom: 0px;\">Scheduler-5e9af1bc-359b-4503-adf7-480659cbc4ab</p>\n",
       "            <table style=\"width: 100%; text-align: left;\">\n",
       "                <tr>\n",
       "                    <td style=\"text-align: left;\">\n",
       "                        <strong>Comm:</strong> tcp://127.0.0.1:59837\n",
       "                    </td>\n",
       "                    <td style=\"text-align: left;\">\n",
       "                        <strong>Workers:</strong> 4\n",
       "                    </td>\n",
       "                </tr>\n",
       "                <tr>\n",
       "                    <td style=\"text-align: left;\">\n",
       "                        <strong>Dashboard:</strong> <a href=\"http://127.0.0.1:8787/status\" target=\"_blank\">http://127.0.0.1:8787/status</a>\n",
       "                    </td>\n",
       "                    <td style=\"text-align: left;\">\n",
       "                        <strong>Total threads:</strong> 8\n",
       "                    </td>\n",
       "                </tr>\n",
       "                <tr>\n",
       "                    <td style=\"text-align: left;\">\n",
       "                        <strong>Started:</strong> Just now\n",
       "                    </td>\n",
       "                    <td style=\"text-align: left;\">\n",
       "                        <strong>Total memory:</strong> 15.86 GiB\n",
       "                    </td>\n",
       "                </tr>\n",
       "            </table>\n",
       "        </div>\n",
       "    </div>\n",
       "\n",
       "    <details style=\"margin-left: 48px;\">\n",
       "        <summary style=\"margin-bottom: 20px;\">\n",
       "            <h3 style=\"display: inline;\">Workers</h3>\n",
       "        </summary>\n",
       "\n",
       "        \n",
       "        <div style=\"margin-bottom: 20px;\">\n",
       "            <div style=\"width: 24px; height: 24px; background-color: #DBF5FF; border: 3px solid #4CC9FF; border-radius: 5px; position: absolute;\"> </div>\n",
       "            <div style=\"margin-left: 48px;\">\n",
       "            <details>\n",
       "                <summary>\n",
       "                    <h4 style=\"margin-bottom: 0px; display: inline;\">Worker: 0</h4>\n",
       "                </summary>\n",
       "                <table style=\"width: 100%; text-align: left;\">\n",
       "                    <tr>\n",
       "                        <td style=\"text-align: left;\">\n",
       "                            <strong>Comm: </strong> tcp://127.0.0.1:59865\n",
       "                        </td>\n",
       "                        <td style=\"text-align: left;\">\n",
       "                            <strong>Total threads: </strong> 2\n",
       "                        </td>\n",
       "                    </tr>\n",
       "                    <tr>\n",
       "                        <td style=\"text-align: left;\">\n",
       "                            <strong>Dashboard: </strong> <a href=\"http://127.0.0.1:59869/status\" target=\"_blank\">http://127.0.0.1:59869/status</a>\n",
       "                        </td>\n",
       "                        <td style=\"text-align: left;\">\n",
       "                            <strong>Memory: </strong> 3.96 GiB\n",
       "                        </td>\n",
       "                    </tr>\n",
       "                    <tr>\n",
       "                        <td style=\"text-align: left;\">\n",
       "                            <strong>Nanny: </strong> tcp://127.0.0.1:59840\n",
       "                        </td>\n",
       "                        <td style=\"text-align: left;\"></td>\n",
       "                    </tr>\n",
       "                    <tr>\n",
       "                        <td colspan=\"2\" style=\"text-align: left;\">\n",
       "                            <strong>Local directory: </strong> c:\\Users\\karth\\Desktop\\PhD projects\\immuneML\\dev_immuneML\\immuneML\\Notebook\\dask-worker-space\\worker-k6ayyl70\n",
       "                        </td>\n",
       "                    </tr>\n",
       "\n",
       "                    \n",
       "\n",
       "                    \n",
       "\n",
       "                </table>\n",
       "            </details>\n",
       "            </div>\n",
       "        </div>\n",
       "        \n",
       "        <div style=\"margin-bottom: 20px;\">\n",
       "            <div style=\"width: 24px; height: 24px; background-color: #DBF5FF; border: 3px solid #4CC9FF; border-radius: 5px; position: absolute;\"> </div>\n",
       "            <div style=\"margin-left: 48px;\">\n",
       "            <details>\n",
       "                <summary>\n",
       "                    <h4 style=\"margin-bottom: 0px; display: inline;\">Worker: 1</h4>\n",
       "                </summary>\n",
       "                <table style=\"width: 100%; text-align: left;\">\n",
       "                    <tr>\n",
       "                        <td style=\"text-align: left;\">\n",
       "                            <strong>Comm: </strong> tcp://127.0.0.1:59866\n",
       "                        </td>\n",
       "                        <td style=\"text-align: left;\">\n",
       "                            <strong>Total threads: </strong> 2\n",
       "                        </td>\n",
       "                    </tr>\n",
       "                    <tr>\n",
       "                        <td style=\"text-align: left;\">\n",
       "                            <strong>Dashboard: </strong> <a href=\"http://127.0.0.1:59868/status\" target=\"_blank\">http://127.0.0.1:59868/status</a>\n",
       "                        </td>\n",
       "                        <td style=\"text-align: left;\">\n",
       "                            <strong>Memory: </strong> 3.96 GiB\n",
       "                        </td>\n",
       "                    </tr>\n",
       "                    <tr>\n",
       "                        <td style=\"text-align: left;\">\n",
       "                            <strong>Nanny: </strong> tcp://127.0.0.1:59842\n",
       "                        </td>\n",
       "                        <td style=\"text-align: left;\"></td>\n",
       "                    </tr>\n",
       "                    <tr>\n",
       "                        <td colspan=\"2\" style=\"text-align: left;\">\n",
       "                            <strong>Local directory: </strong> c:\\Users\\karth\\Desktop\\PhD projects\\immuneML\\dev_immuneML\\immuneML\\Notebook\\dask-worker-space\\worker-q9cet14p\n",
       "                        </td>\n",
       "                    </tr>\n",
       "\n",
       "                    \n",
       "\n",
       "                    \n",
       "\n",
       "                </table>\n",
       "            </details>\n",
       "            </div>\n",
       "        </div>\n",
       "        \n",
       "        <div style=\"margin-bottom: 20px;\">\n",
       "            <div style=\"width: 24px; height: 24px; background-color: #DBF5FF; border: 3px solid #4CC9FF; border-radius: 5px; position: absolute;\"> </div>\n",
       "            <div style=\"margin-left: 48px;\">\n",
       "            <details>\n",
       "                <summary>\n",
       "                    <h4 style=\"margin-bottom: 0px; display: inline;\">Worker: 2</h4>\n",
       "                </summary>\n",
       "                <table style=\"width: 100%; text-align: left;\">\n",
       "                    <tr>\n",
       "                        <td style=\"text-align: left;\">\n",
       "                            <strong>Comm: </strong> tcp://127.0.0.1:59873\n",
       "                        </td>\n",
       "                        <td style=\"text-align: left;\">\n",
       "                            <strong>Total threads: </strong> 2\n",
       "                        </td>\n",
       "                    </tr>\n",
       "                    <tr>\n",
       "                        <td style=\"text-align: left;\">\n",
       "                            <strong>Dashboard: </strong> <a href=\"http://127.0.0.1:59875/status\" target=\"_blank\">http://127.0.0.1:59875/status</a>\n",
       "                        </td>\n",
       "                        <td style=\"text-align: left;\">\n",
       "                            <strong>Memory: </strong> 3.96 GiB\n",
       "                        </td>\n",
       "                    </tr>\n",
       "                    <tr>\n",
       "                        <td style=\"text-align: left;\">\n",
       "                            <strong>Nanny: </strong> tcp://127.0.0.1:59843\n",
       "                        </td>\n",
       "                        <td style=\"text-align: left;\"></td>\n",
       "                    </tr>\n",
       "                    <tr>\n",
       "                        <td colspan=\"2\" style=\"text-align: left;\">\n",
       "                            <strong>Local directory: </strong> c:\\Users\\karth\\Desktop\\PhD projects\\immuneML\\dev_immuneML\\immuneML\\Notebook\\dask-worker-space\\worker-v0fbfgnt\n",
       "                        </td>\n",
       "                    </tr>\n",
       "\n",
       "                    \n",
       "\n",
       "                    \n",
       "\n",
       "                </table>\n",
       "            </details>\n",
       "            </div>\n",
       "        </div>\n",
       "        \n",
       "        <div style=\"margin-bottom: 20px;\">\n",
       "            <div style=\"width: 24px; height: 24px; background-color: #DBF5FF; border: 3px solid #4CC9FF; border-radius: 5px; position: absolute;\"> </div>\n",
       "            <div style=\"margin-left: 48px;\">\n",
       "            <details>\n",
       "                <summary>\n",
       "                    <h4 style=\"margin-bottom: 0px; display: inline;\">Worker: 3</h4>\n",
       "                </summary>\n",
       "                <table style=\"width: 100%; text-align: left;\">\n",
       "                    <tr>\n",
       "                        <td style=\"text-align: left;\">\n",
       "                            <strong>Comm: </strong> tcp://127.0.0.1:59867\n",
       "                        </td>\n",
       "                        <td style=\"text-align: left;\">\n",
       "                            <strong>Total threads: </strong> 2\n",
       "                        </td>\n",
       "                    </tr>\n",
       "                    <tr>\n",
       "                        <td style=\"text-align: left;\">\n",
       "                            <strong>Dashboard: </strong> <a href=\"http://127.0.0.1:59872/status\" target=\"_blank\">http://127.0.0.1:59872/status</a>\n",
       "                        </td>\n",
       "                        <td style=\"text-align: left;\">\n",
       "                            <strong>Memory: </strong> 3.96 GiB\n",
       "                        </td>\n",
       "                    </tr>\n",
       "                    <tr>\n",
       "                        <td style=\"text-align: left;\">\n",
       "                            <strong>Nanny: </strong> tcp://127.0.0.1:59841\n",
       "                        </td>\n",
       "                        <td style=\"text-align: left;\"></td>\n",
       "                    </tr>\n",
       "                    <tr>\n",
       "                        <td colspan=\"2\" style=\"text-align: left;\">\n",
       "                            <strong>Local directory: </strong> c:\\Users\\karth\\Desktop\\PhD projects\\immuneML\\dev_immuneML\\immuneML\\Notebook\\dask-worker-space\\worker-0t6mru2q\n",
       "                        </td>\n",
       "                    </tr>\n",
       "\n",
       "                    \n",
       "\n",
       "                    \n",
       "\n",
       "                </table>\n",
       "            </details>\n",
       "            </div>\n",
       "        </div>\n",
       "        \n",
       "\n",
       "    </details>\n",
       "</div>\n",
       "\n",
       "        </details>\n",
       "    </div>\n",
       "</div>\n",
       "            </details>\n",
       "        \n",
       "\n",
       "    </div>\n",
       "</div>"
      ],
      "text/plain": [
       "<Client: 'tcp://127.0.0.1:59837' processes=4 threads=8, memory=15.86 GiB>"
      ]
     },
     "execution_count": 103,
     "metadata": {},
     "output_type": "execute_result"
    }
   ],
   "source": [
    "client"
   ]
  },
  {
   "cell_type": "code",
   "execution_count": 180,
   "metadata": {},
   "outputs": [],
   "source": [
    "from sklearn.model_selection import GridSearchCV\n"
   ]
  },
  {
   "cell_type": "code",
   "execution_count": 181,
   "metadata": {},
   "outputs": [],
   "source": [
    "from sklearn.linear_model import LogisticRegression\n"
   ]
  },
  {
   "cell_type": "code",
   "execution_count": 182,
   "metadata": {},
   "outputs": [],
   "source": [
    "logreg = LogisticRegression()"
   ]
  },
  {
   "cell_type": "code",
   "execution_count": 190,
   "metadata": {},
   "outputs": [],
   "source": [
    "parameters = [{'penalty': ['none', 'elasticnet', 'l1', 'l2']},\n",
    "              {'C': [ 0.01, 0.1, 1, 10]}]\n",
    "\n",
    "\n",
    "grid_search = GridSearchCV(estimator=logreg,\n",
    "                           param_grid=parameters,\n",
    "                           cv=3,\n",
    "                           verbose=2, n_jobs=-1)\n",
    "\n",
    "\n"
   ]
  },
  {
   "cell_type": "code",
   "execution_count": 203,
   "metadata": {},
   "outputs": [
    {
     "data": {
      "text/plain": [
       "{'name': 'my_signal',\n",
       " 'values': [False, True],\n",
       " 'auxiliary_label_names': None,\n",
       " 'positive_class': True}"
      ]
     },
     "execution_count": 203,
     "metadata": {},
     "output_type": "execute_result"
    }
   ],
   "source": [
    "label.__dict__"
   ]
  },
  {
   "cell_type": "code",
   "execution_count": 192,
   "metadata": {},
   "outputs": [],
   "source": [
    "# ml_method = state.hp_settings[0].ml_method.fit(encoded_train.encoded_data , label )"
   ]
  },
  {
   "cell_type": "code",
   "execution_count": 193,
   "metadata": {},
   "outputs": [
    {
     "data": {
      "text/plain": [
       "['AAA',\n",
       " 'AAC',\n",
       " 'AAD',\n",
       " 'AAE',\n",
       " 'AAF',\n",
       " 'AAG',\n",
       " 'AAH',\n",
       " 'AAI',\n",
       " 'AAK',\n",
       " 'AAL',\n",
       " 'AAM',\n",
       " 'AAN',\n",
       " 'AAP',\n",
       " 'AAQ',\n",
       " 'AAR',\n",
       " 'AAS',\n",
       " 'AAT',\n",
       " 'AAW',\n",
       " 'AAY',\n",
       " 'ACA',\n",
       " 'ACC',\n",
       " 'ACD',\n",
       " 'ACE',\n",
       " 'ACI',\n",
       " 'ACN',\n",
       " 'ACP',\n",
       " 'ACQ',\n",
       " 'ACR',\n",
       " 'ACS',\n",
       " 'ACT',\n",
       " 'ACV',\n",
       " 'ADD',\n",
       " 'ADF',\n",
       " 'ADI',\n",
       " 'ADM',\n",
       " 'ADN',\n",
       " 'ADP',\n",
       " 'ADQ',\n",
       " 'ADS',\n",
       " 'ADT',\n",
       " 'ADV',\n",
       " 'AEC',\n",
       " 'AEE',\n",
       " 'AEF',\n",
       " 'AEH',\n",
       " 'AEK',\n",
       " 'AEN',\n",
       " 'AER',\n",
       " 'AES',\n",
       " 'AEV',\n",
       " 'AEW',\n",
       " 'AFC',\n",
       " 'AFD',\n",
       " 'AFE',\n",
       " 'AFH',\n",
       " 'AFI',\n",
       " 'AFK',\n",
       " 'AFL',\n",
       " 'AFM',\n",
       " 'AFN',\n",
       " 'AFR',\n",
       " 'AFS',\n",
       " 'AFV',\n",
       " 'AGA',\n",
       " 'AGC',\n",
       " 'AGE',\n",
       " 'AGF',\n",
       " 'AGG',\n",
       " 'AGH',\n",
       " 'AGI',\n",
       " 'AGK',\n",
       " 'AGN',\n",
       " 'AGT',\n",
       " 'AGW',\n",
       " 'AGY',\n",
       " 'AHD',\n",
       " 'AHE',\n",
       " 'AHF',\n",
       " 'AHK',\n",
       " 'AHL',\n",
       " 'AHM',\n",
       " 'AHS',\n",
       " 'AHV',\n",
       " 'AIA',\n",
       " 'AIC',\n",
       " 'AID',\n",
       " 'AIE',\n",
       " 'AIF',\n",
       " 'AIG',\n",
       " 'AII',\n",
       " 'AIL',\n",
       " 'AIN',\n",
       " 'AIP',\n",
       " 'AIQ',\n",
       " 'AIR',\n",
       " 'AIS',\n",
       " 'AIT',\n",
       " 'AIW',\n",
       " 'AKA',\n",
       " 'AKC',\n",
       " 'AKE',\n",
       " 'AKG',\n",
       " 'AKI',\n",
       " 'AKK',\n",
       " 'AKL',\n",
       " 'AKM',\n",
       " 'AKN',\n",
       " 'AKQ',\n",
       " 'AKR',\n",
       " 'AKS',\n",
       " 'AKV',\n",
       " 'ALA',\n",
       " 'ALD',\n",
       " 'ALF',\n",
       " 'ALK',\n",
       " 'ALL',\n",
       " 'ALM',\n",
       " 'ALP',\n",
       " 'ALQ',\n",
       " 'ALV',\n",
       " 'ALY',\n",
       " 'AMA',\n",
       " 'AMC',\n",
       " 'AMG',\n",
       " 'AMH',\n",
       " 'AMI',\n",
       " 'AMK',\n",
       " 'AMM',\n",
       " 'AMN',\n",
       " 'AMP',\n",
       " 'AMQ',\n",
       " 'AMT',\n",
       " 'AMV',\n",
       " 'ANA',\n",
       " 'AND',\n",
       " 'ANE',\n",
       " 'ANF',\n",
       " 'ANI',\n",
       " 'ANK',\n",
       " 'ANL',\n",
       " 'ANM',\n",
       " 'ANQ',\n",
       " 'ANT',\n",
       " 'ANV',\n",
       " 'ANW',\n",
       " 'ANY',\n",
       " 'APA',\n",
       " 'APC',\n",
       " 'APF',\n",
       " 'APG',\n",
       " 'APH',\n",
       " 'API',\n",
       " 'APK',\n",
       " 'APL',\n",
       " 'APN',\n",
       " 'APP',\n",
       " 'APQ',\n",
       " 'APS',\n",
       " 'APV',\n",
       " 'APW',\n",
       " 'AQC',\n",
       " 'AQD',\n",
       " 'AQE',\n",
       " 'AQG',\n",
       " 'AQH',\n",
       " 'AQI',\n",
       " 'AQN',\n",
       " 'AQQ',\n",
       " 'AQS',\n",
       " 'AQT',\n",
       " 'AQY',\n",
       " 'ARA',\n",
       " 'ARC',\n",
       " 'ARF',\n",
       " 'ARG',\n",
       " 'ARH',\n",
       " 'ARK',\n",
       " 'ARM',\n",
       " 'ARP',\n",
       " 'ARQ',\n",
       " 'ARR',\n",
       " 'ARS',\n",
       " 'ARV',\n",
       " 'ARY',\n",
       " 'ASA',\n",
       " 'ASD',\n",
       " 'ASG',\n",
       " 'ASH',\n",
       " 'ASK',\n",
       " 'ASL',\n",
       " 'ASM',\n",
       " 'ASQ',\n",
       " 'ASV',\n",
       " 'ASW',\n",
       " 'ATA',\n",
       " 'ATC',\n",
       " 'ATD',\n",
       " 'ATF',\n",
       " 'ATG',\n",
       " 'ATI',\n",
       " 'ATL',\n",
       " 'ATN',\n",
       " 'ATP',\n",
       " 'ATV',\n",
       " 'ATW',\n",
       " 'ATY',\n",
       " 'AVA',\n",
       " 'AVC',\n",
       " 'AVD',\n",
       " 'AVE',\n",
       " 'AVG',\n",
       " 'AVH',\n",
       " 'AVI',\n",
       " 'AVK',\n",
       " 'AVP',\n",
       " 'AVQ',\n",
       " 'AVW',\n",
       " 'AVY',\n",
       " 'AWA',\n",
       " 'AWC',\n",
       " 'AWD',\n",
       " 'AWE',\n",
       " 'AWI',\n",
       " 'AWL',\n",
       " 'AWM',\n",
       " 'AWN',\n",
       " 'AWS',\n",
       " 'AWV',\n",
       " 'AWW',\n",
       " 'AYA',\n",
       " 'AYE',\n",
       " 'AYF',\n",
       " 'AYH',\n",
       " 'AYK',\n",
       " 'AYL',\n",
       " 'AYM',\n",
       " 'AYN',\n",
       " 'AYP',\n",
       " 'AYR',\n",
       " 'AYT',\n",
       " 'AYV',\n",
       " 'AYW',\n",
       " 'AYY',\n",
       " 'CAA',\n",
       " 'CAH',\n",
       " 'CAI',\n",
       " 'CAK',\n",
       " 'CAL',\n",
       " 'CAN',\n",
       " 'CAP',\n",
       " 'CAQ',\n",
       " 'CAR',\n",
       " 'CAV',\n",
       " 'CAW',\n",
       " 'CCA',\n",
       " 'CCC',\n",
       " 'CCE',\n",
       " 'CCK',\n",
       " 'CCN',\n",
       " 'CCQ',\n",
       " 'CCV',\n",
       " 'CCY',\n",
       " 'CDA',\n",
       " 'CDD',\n",
       " 'CDE',\n",
       " 'CDH',\n",
       " 'CDK',\n",
       " 'CDM',\n",
       " 'CDN',\n",
       " 'CDP',\n",
       " 'CDS',\n",
       " 'CDT',\n",
       " 'CDY',\n",
       " 'CEC',\n",
       " 'CED',\n",
       " 'CEE',\n",
       " 'CEG',\n",
       " 'CEH',\n",
       " 'CEK',\n",
       " 'CEL',\n",
       " 'CEM',\n",
       " 'CEP',\n",
       " 'CEQ',\n",
       " 'CER',\n",
       " 'CES',\n",
       " 'CET',\n",
       " 'CEV',\n",
       " 'CEW',\n",
       " 'CFA',\n",
       " 'CFC',\n",
       " 'CFF',\n",
       " 'CFH',\n",
       " 'CFI',\n",
       " 'CFR',\n",
       " 'CFS',\n",
       " 'CFT',\n",
       " 'CFV',\n",
       " 'CFW',\n",
       " 'CFY',\n",
       " 'CGD',\n",
       " 'CGH',\n",
       " 'CGK',\n",
       " 'CGM',\n",
       " 'CGP',\n",
       " 'CGT',\n",
       " 'CGV',\n",
       " 'CHA',\n",
       " 'CHD',\n",
       " 'CHG',\n",
       " 'CHH',\n",
       " 'CHI',\n",
       " 'CHK',\n",
       " 'CHN',\n",
       " 'CHR',\n",
       " 'CHV',\n",
       " 'CHY',\n",
       " 'CIC',\n",
       " 'CID',\n",
       " 'CIF',\n",
       " 'CII',\n",
       " 'CIK',\n",
       " 'CIQ',\n",
       " 'CIR',\n",
       " 'CIS',\n",
       " 'CIT',\n",
       " 'CIV',\n",
       " 'CIW',\n",
       " 'CKA',\n",
       " 'CKE',\n",
       " 'CKF',\n",
       " 'CKG',\n",
       " 'CKI',\n",
       " 'CKK',\n",
       " 'CKM',\n",
       " 'CKN',\n",
       " 'CKP',\n",
       " 'CKQ',\n",
       " 'CKS',\n",
       " 'CKT',\n",
       " 'CKV',\n",
       " 'CKW',\n",
       " 'CKY',\n",
       " 'CLA',\n",
       " 'CLG',\n",
       " 'CLK',\n",
       " 'CLM',\n",
       " 'CLN',\n",
       " 'CLW',\n",
       " 'CLY',\n",
       " 'CMC',\n",
       " 'CMD',\n",
       " 'CME',\n",
       " 'CMI',\n",
       " 'CMK',\n",
       " 'CMM',\n",
       " 'CMQ',\n",
       " 'CMT',\n",
       " 'CNA',\n",
       " 'CNC',\n",
       " 'CND',\n",
       " 'CNF',\n",
       " 'CNG',\n",
       " 'CNH',\n",
       " 'CNI',\n",
       " 'CNM',\n",
       " 'CNN',\n",
       " 'CNP',\n",
       " 'CNR',\n",
       " 'CNS',\n",
       " 'CNV',\n",
       " 'CNY',\n",
       " 'CPC',\n",
       " 'CPD',\n",
       " 'CPE',\n",
       " 'CPG',\n",
       " 'CPH',\n",
       " 'CPI',\n",
       " 'CPP',\n",
       " 'CPQ',\n",
       " 'CPS',\n",
       " 'CPW',\n",
       " 'CQA',\n",
       " 'CQC',\n",
       " 'CQD',\n",
       " 'CQH',\n",
       " 'CQI',\n",
       " 'CQL',\n",
       " 'CQN',\n",
       " 'CQP',\n",
       " 'CQR',\n",
       " 'CQS',\n",
       " 'CQT',\n",
       " 'CQW',\n",
       " 'CQY',\n",
       " 'CRA',\n",
       " 'CRC',\n",
       " 'CRD',\n",
       " 'CRF',\n",
       " 'CRG',\n",
       " 'CRH',\n",
       " 'CRK',\n",
       " 'CRL',\n",
       " 'CRM',\n",
       " 'CRN',\n",
       " 'CRP',\n",
       " 'CRQ',\n",
       " 'CRS',\n",
       " 'CRT',\n",
       " 'CRY',\n",
       " 'CSD',\n",
       " 'CSE',\n",
       " 'CSG',\n",
       " 'CSH',\n",
       " 'CSM',\n",
       " 'CSN',\n",
       " 'CSP',\n",
       " 'CSR',\n",
       " 'CSV',\n",
       " 'CSY',\n",
       " 'CTA',\n",
       " 'CTH',\n",
       " 'CTK',\n",
       " 'CTL',\n",
       " 'CTM',\n",
       " 'CTQ',\n",
       " 'CTS',\n",
       " 'CTT',\n",
       " 'CTW',\n",
       " 'CVA',\n",
       " 'CVD',\n",
       " 'CVG',\n",
       " 'CVI',\n",
       " 'CVM',\n",
       " 'CVN',\n",
       " 'CVQ',\n",
       " 'CVR',\n",
       " 'CVS',\n",
       " 'CVT',\n",
       " 'CVV',\n",
       " 'CWG',\n",
       " 'CWH',\n",
       " 'CWL',\n",
       " 'CWM',\n",
       " 'CWN',\n",
       " 'CWP',\n",
       " 'CWS',\n",
       " 'CWV',\n",
       " 'CWY',\n",
       " 'CYF',\n",
       " 'CYI',\n",
       " 'CYK',\n",
       " 'CYM',\n",
       " 'CYP',\n",
       " 'CYR',\n",
       " 'CYT',\n",
       " 'CYV',\n",
       " 'CYW',\n",
       " 'CYY',\n",
       " 'DAA',\n",
       " 'DAC',\n",
       " 'DAD',\n",
       " 'DAE',\n",
       " 'DAF',\n",
       " 'DAH',\n",
       " 'DAI',\n",
       " 'DAM',\n",
       " 'DAP',\n",
       " 'DAQ',\n",
       " 'DAR',\n",
       " 'DAS',\n",
       " 'DAT',\n",
       " 'DAV',\n",
       " 'DAW',\n",
       " 'DAY',\n",
       " 'DCA',\n",
       " 'DCF',\n",
       " 'DCG',\n",
       " 'DCH',\n",
       " 'DCI',\n",
       " 'DCK',\n",
       " 'DCL',\n",
       " 'DCP',\n",
       " 'DCT',\n",
       " 'DCW',\n",
       " 'DCY',\n",
       " 'DDA',\n",
       " 'DDC',\n",
       " 'DDE',\n",
       " 'DDF',\n",
       " 'DDG',\n",
       " 'DDH',\n",
       " 'DDI',\n",
       " 'DDL',\n",
       " 'DDM',\n",
       " 'DDN',\n",
       " 'DDP',\n",
       " 'DDR',\n",
       " 'DDS',\n",
       " 'DDT',\n",
       " 'DDY',\n",
       " 'DEA',\n",
       " 'DEC',\n",
       " 'DED',\n",
       " 'DEF',\n",
       " 'DEH',\n",
       " 'DEI',\n",
       " 'DEK',\n",
       " 'DEL',\n",
       " 'DEM',\n",
       " 'DEN',\n",
       " 'DET',\n",
       " 'DEY',\n",
       " 'DFA',\n",
       " 'DFE',\n",
       " 'DFF',\n",
       " 'DFH',\n",
       " 'DFL',\n",
       " 'DFN',\n",
       " 'DFP',\n",
       " 'DFR',\n",
       " 'DFV',\n",
       " 'DFY',\n",
       " 'DGC',\n",
       " 'DGE',\n",
       " 'DGF',\n",
       " 'DGH',\n",
       " 'DGI',\n",
       " 'DGK',\n",
       " 'DGL',\n",
       " 'DGN',\n",
       " 'DGP',\n",
       " 'DGS',\n",
       " 'DGW',\n",
       " 'DHA',\n",
       " 'DHC',\n",
       " 'DHD',\n",
       " 'DHE',\n",
       " 'DHG',\n",
       " 'DHH',\n",
       " 'DHK',\n",
       " 'DHM',\n",
       " 'DHP',\n",
       " 'DHQ',\n",
       " 'DHT',\n",
       " 'DHV',\n",
       " 'DHW',\n",
       " 'DIA',\n",
       " 'DID',\n",
       " 'DIE',\n",
       " 'DIF',\n",
       " 'DIG',\n",
       " 'DII',\n",
       " 'DIK',\n",
       " 'DIM',\n",
       " 'DIN',\n",
       " 'DIP',\n",
       " 'DIQ',\n",
       " 'DIR',\n",
       " 'DIS',\n",
       " 'DIV',\n",
       " 'DIY',\n",
       " 'DKD',\n",
       " 'DKF',\n",
       " 'DKG',\n",
       " 'DKH',\n",
       " 'DKI',\n",
       " 'DKP',\n",
       " 'DKR',\n",
       " 'DKS',\n",
       " 'DKT',\n",
       " 'DKV',\n",
       " 'DKW',\n",
       " 'DKY',\n",
       " 'DLA',\n",
       " 'DLC',\n",
       " 'DLE',\n",
       " 'DLF',\n",
       " 'DLG',\n",
       " 'DLH',\n",
       " 'DLK',\n",
       " 'DLP',\n",
       " 'DLR',\n",
       " 'DLS',\n",
       " 'DLT',\n",
       " 'DLW',\n",
       " 'DLY',\n",
       " 'DMD',\n",
       " 'DME',\n",
       " 'DMK',\n",
       " 'DMM',\n",
       " 'DMN',\n",
       " 'DMQ',\n",
       " 'DMT',\n",
       " 'DMV',\n",
       " 'DMW',\n",
       " 'DND',\n",
       " 'DNG',\n",
       " 'DNH',\n",
       " 'DNI',\n",
       " 'DNK',\n",
       " 'DNL',\n",
       " 'DNM',\n",
       " 'DNN',\n",
       " 'DNP',\n",
       " 'DNQ',\n",
       " 'DNR',\n",
       " 'DNS',\n",
       " 'DNT',\n",
       " 'DNV',\n",
       " 'DNY',\n",
       " 'DPE',\n",
       " 'DPG',\n",
       " 'DPH',\n",
       " 'DPI',\n",
       " 'DPK',\n",
       " 'DPM',\n",
       " 'DPP',\n",
       " 'DPQ',\n",
       " 'DPR',\n",
       " 'DPV',\n",
       " 'DPW',\n",
       " 'DQA',\n",
       " 'DQE',\n",
       " 'DQF',\n",
       " 'DQI',\n",
       " 'DQK',\n",
       " 'DQP',\n",
       " 'DQQ',\n",
       " 'DQR',\n",
       " 'DQV',\n",
       " 'DQW',\n",
       " 'DRA',\n",
       " 'DRD',\n",
       " 'DRF',\n",
       " 'DRH',\n",
       " 'DRI',\n",
       " 'DRK',\n",
       " 'DRL',\n",
       " 'DRN',\n",
       " 'DRR',\n",
       " 'DRT',\n",
       " 'DRV',\n",
       " 'DSA',\n",
       " 'DSC',\n",
       " 'DSD',\n",
       " 'DSE',\n",
       " 'DSF',\n",
       " 'DSH',\n",
       " 'DSK',\n",
       " 'DSL',\n",
       " 'DSP',\n",
       " 'DSQ',\n",
       " 'DSS',\n",
       " 'DST',\n",
       " 'DSW',\n",
       " 'DSY',\n",
       " 'DTA',\n",
       " 'DTC',\n",
       " 'DTD',\n",
       " 'DTG',\n",
       " 'DTI',\n",
       " 'DTK',\n",
       " 'DTN',\n",
       " 'DTP',\n",
       " 'DTS',\n",
       " 'DTT',\n",
       " 'DTY',\n",
       " 'DVA',\n",
       " 'DVD',\n",
       " 'DVE',\n",
       " 'DVG',\n",
       " 'DVK',\n",
       " 'DVL',\n",
       " 'DVQ',\n",
       " 'DVS',\n",
       " 'DVT',\n",
       " 'DVV',\n",
       " 'DVW',\n",
       " 'DWA',\n",
       " 'DWC',\n",
       " 'DWD',\n",
       " 'DWE',\n",
       " 'DWI',\n",
       " 'DWK',\n",
       " 'DWL',\n",
       " 'DWM',\n",
       " 'DWR',\n",
       " 'DWT',\n",
       " 'DWW',\n",
       " 'DWY',\n",
       " 'DYD',\n",
       " 'DYG',\n",
       " 'DYI',\n",
       " 'DYK',\n",
       " 'DYL',\n",
       " 'DYP',\n",
       " 'DYR',\n",
       " 'DYS',\n",
       " 'DYT',\n",
       " 'EAA',\n",
       " 'EAF',\n",
       " 'EAG',\n",
       " 'EAH',\n",
       " 'EAI',\n",
       " 'EAN',\n",
       " 'EAP',\n",
       " 'EAQ',\n",
       " 'EAR',\n",
       " 'EAS',\n",
       " 'EAV',\n",
       " 'EAW',\n",
       " 'EAY',\n",
       " 'ECA',\n",
       " 'ECE',\n",
       " 'ECH',\n",
       " 'ECK',\n",
       " 'ECL',\n",
       " 'ECM',\n",
       " 'ECR',\n",
       " 'ECY',\n",
       " 'EDA',\n",
       " 'EDC',\n",
       " 'EDF',\n",
       " 'EDI',\n",
       " 'EDK',\n",
       " 'EDN',\n",
       " 'EDR',\n",
       " 'EDW',\n",
       " 'EDY',\n",
       " 'EEA',\n",
       " 'EEE',\n",
       " 'EEK',\n",
       " 'EEL',\n",
       " 'EEM',\n",
       " 'EEN',\n",
       " 'EER',\n",
       " 'EES',\n",
       " 'EET',\n",
       " 'EEV',\n",
       " 'EEW',\n",
       " 'EFA',\n",
       " 'EFC',\n",
       " 'EFG',\n",
       " 'EFH',\n",
       " 'EFK',\n",
       " 'EFL',\n",
       " 'EFM',\n",
       " 'EFN',\n",
       " 'EFP',\n",
       " 'EFR',\n",
       " 'EFS',\n",
       " 'EFT',\n",
       " 'EFV',\n",
       " 'EFW',\n",
       " 'EFY',\n",
       " 'EGA',\n",
       " 'EGD',\n",
       " 'EGE',\n",
       " 'EGF',\n",
       " 'EGH',\n",
       " 'EGK',\n",
       " 'EGM',\n",
       " 'EGN',\n",
       " 'EGR',\n",
       " 'EGS',\n",
       " 'EGT',\n",
       " 'EGV',\n",
       " 'EGW',\n",
       " 'EGY',\n",
       " 'EHC',\n",
       " 'EHD',\n",
       " 'EHE',\n",
       " 'EHK',\n",
       " 'EHL',\n",
       " 'EHN',\n",
       " 'EHQ',\n",
       " 'EHR',\n",
       " 'EHS',\n",
       " 'EHT',\n",
       " 'EHV',\n",
       " 'EHW',\n",
       " 'EHY',\n",
       " 'EIA',\n",
       " 'EIE',\n",
       " 'EIG',\n",
       " 'EIH',\n",
       " 'EIL',\n",
       " 'EIM',\n",
       " 'EIS',\n",
       " 'EIT',\n",
       " 'EIV',\n",
       " 'EIW',\n",
       " 'EIY',\n",
       " 'EKC',\n",
       " 'EKD',\n",
       " 'EKE',\n",
       " 'EKF',\n",
       " 'EKH',\n",
       " 'EKI',\n",
       " 'EKL',\n",
       " 'EKN',\n",
       " 'EKP',\n",
       " 'EKQ',\n",
       " 'EKR',\n",
       " 'EKS',\n",
       " 'EKV',\n",
       " 'ELC',\n",
       " 'ELF',\n",
       " 'ELG',\n",
       " 'ELI',\n",
       " 'ELK',\n",
       " 'ELM',\n",
       " 'ELN',\n",
       " 'ELQ',\n",
       " 'ELS',\n",
       " 'ELT',\n",
       " 'ELV',\n",
       " 'ELY',\n",
       " 'EMA',\n",
       " 'EMD',\n",
       " 'EME',\n",
       " 'EMF',\n",
       " 'EMK',\n",
       " 'EML',\n",
       " 'EMN',\n",
       " 'EMQ',\n",
       " 'EMR',\n",
       " 'EMV',\n",
       " 'EMY',\n",
       " 'ENA',\n",
       " 'END',\n",
       " 'ENH',\n",
       " 'ENL',\n",
       " 'ENM',\n",
       " 'ENN',\n",
       " 'ENR',\n",
       " 'ENT',\n",
       " 'ENW',\n",
       " 'ENY',\n",
       " 'EPC',\n",
       " 'EPE',\n",
       " 'EPG',\n",
       " 'EPI',\n",
       " 'EPK',\n",
       " 'EPN',\n",
       " 'EPP',\n",
       " 'EPS',\n",
       " 'EPT',\n",
       " 'EPV',\n",
       " 'EQA',\n",
       " 'EQC',\n",
       " 'EQD',\n",
       " 'EQE',\n",
       " 'EQF',\n",
       " 'EQK',\n",
       " 'EQN',\n",
       " 'EQP',\n",
       " 'EQQ',\n",
       " 'EQR',\n",
       " 'EQS',\n",
       " 'EQY',\n",
       " 'ERC',\n",
       " 'ERD',\n",
       " 'ERG',\n",
       " 'ERH',\n",
       " 'ERI',\n",
       " 'ERK',\n",
       " 'ERL',\n",
       " 'ERM',\n",
       " 'ERN',\n",
       " 'ERP',\n",
       " 'ERV',\n",
       " 'ERW',\n",
       " 'ESA',\n",
       " 'ESD',\n",
       " 'ESF',\n",
       " 'ESG',\n",
       " 'ESH',\n",
       " 'ESI',\n",
       " 'ESK',\n",
       " 'ESL',\n",
       " 'ESM',\n",
       " 'EST',\n",
       " 'ESV',\n",
       " 'ESW',\n",
       " 'ESY',\n",
       " 'ETC',\n",
       " 'ETD',\n",
       " 'ETE',\n",
       " 'ETG',\n",
       " 'ETH',\n",
       " 'ETN',\n",
       " 'ETP',\n",
       " 'ETS',\n",
       " 'ETT',\n",
       " 'ETW',\n",
       " 'EVA',\n",
       " 'EVC',\n",
       " 'EVE',\n",
       " 'EVF',\n",
       " 'EVH',\n",
       " 'EVK',\n",
       " 'EVM',\n",
       " 'EVS',\n",
       " 'EVT',\n",
       " 'EVW',\n",
       " 'EWD',\n",
       " 'EWE',\n",
       " 'EWG',\n",
       " 'EWH',\n",
       " 'EWK',\n",
       " 'EWQ',\n",
       " 'EWR',\n",
       " 'EWT',\n",
       " 'EWV',\n",
       " 'EWW',\n",
       " 'EYA',\n",
       " 'EYD',\n",
       " 'EYI',\n",
       " 'EYL',\n",
       " 'EYQ',\n",
       " 'EYR',\n",
       " 'EYS',\n",
       " 'EYV',\n",
       " 'EYW',\n",
       " 'FAA',\n",
       " 'FAD',\n",
       " 'FAE',\n",
       " 'FAF',\n",
       " 'FAH',\n",
       " 'FAI',\n",
       " 'FAK',\n",
       " 'FAL',\n",
       " 'FAP',\n",
       " 'FAQ',\n",
       " 'FAR',\n",
       " 'FAS',\n",
       " 'FAT',\n",
       " 'FAY',\n",
       " 'FCC',\n",
       " 'FCE',\n",
       " 'FCF',\n",
       " 'FCI',\n",
       " 'FCK',\n",
       " 'FCN',\n",
       " 'FCQ',\n",
       " 'FCR',\n",
       " 'FCT',\n",
       " 'FCW',\n",
       " 'FDC',\n",
       " 'FDD',\n",
       " 'FDE',\n",
       " 'FDH',\n",
       " 'FDI',\n",
       " 'FDK',\n",
       " 'FDV',\n",
       " 'FEC',\n",
       " 'FEE',\n",
       " 'FEF',\n",
       " 'FEN',\n",
       " 'FEQ',\n",
       " 'FES',\n",
       " 'FEW',\n",
       " 'FEY',\n",
       " 'FFC',\n",
       " 'FFG',\n",
       " 'FFH',\n",
       " 'FFI',\n",
       " 'FFM',\n",
       " 'FFN',\n",
       " 'FFP',\n",
       " 'FFR',\n",
       " 'FFT',\n",
       " 'FFV',\n",
       " 'FFW',\n",
       " 'FGE',\n",
       " 'FGF',\n",
       " 'FGG',\n",
       " 'FGH',\n",
       " 'FGN',\n",
       " 'FGP',\n",
       " 'FGT',\n",
       " 'FGW',\n",
       " 'FGY',\n",
       " 'FHA',\n",
       " 'FHC',\n",
       " 'FHE',\n",
       " 'FHF',\n",
       " 'FHH',\n",
       " 'FHI',\n",
       " 'FHK',\n",
       " 'FHL',\n",
       " 'FHM',\n",
       " 'FHP',\n",
       " 'FHR',\n",
       " 'FHS',\n",
       " 'FHV',\n",
       " 'FIA',\n",
       " 'FID',\n",
       " 'FIE',\n",
       " ...]"
      ]
     },
     "execution_count": 193,
     "metadata": {},
     "output_type": "execute_result"
    }
   ],
   "source": [
    "encoded_train.encoded_data.feature_names"
   ]
  },
  {
   "cell_type": "code",
   "execution_count": 194,
   "metadata": {},
   "outputs": [],
   "source": [
    "import joblib\n"
   ]
  },
  {
   "cell_type": "code",
   "execution_count": 195,
   "metadata": {},
   "outputs": [
    {
     "data": {
      "text/plain": [
       "<49x4597 sparse matrix of type '<class 'numpy.float64'>'\n",
       "\twith 6772 stored elements in Compressed Sparse Row format>"
      ]
     },
     "execution_count": 195,
     "metadata": {},
     "output_type": "execute_result"
    }
   ],
   "source": [
    "X_train"
   ]
  },
  {
   "cell_type": "code",
   "execution_count": 196,
   "metadata": {},
   "outputs": [
    {
     "name": "stdout",
     "output_type": "stream",
     "text": [
      "Fitting 3 folds for each of 8 candidates, totalling 24 fits\n",
      "CPU times: total: 578 ms\n",
      "Wall time: 802 ms\n"
     ]
    },
    {
     "name": "stderr",
     "output_type": "stream",
     "text": [
      "c:\\Users\\karth\\anaconda3\\envs\\test\\lib\\site-packages\\sklearn\\model_selection\\_validation.py:372: FitFailedWarning: \n",
      "6 fits failed out of a total of 24.\n",
      "The score on these train-test partitions for these parameters will be set to nan.\n",
      "If these failures are not expected, you can try to debug them by setting error_score='raise'.\n",
      "\n",
      "Below are more details about the failures:\n",
      "--------------------------------------------------------------------------------\n",
      "3 fits failed with the following error:\n",
      "Traceback (most recent call last):\n",
      "  File \"c:\\Users\\karth\\anaconda3\\envs\\test\\lib\\site-packages\\sklearn\\model_selection\\_validation.py\", line 680, in _fit_and_score\n",
      "    estimator.fit(X_train, y_train, **fit_params)\n",
      "  File \"c:\\Users\\karth\\anaconda3\\envs\\test\\lib\\site-packages\\sklearn\\linear_model\\_logistic.py\", line 1461, in fit\n",
      "    solver = _check_solver(self.solver, self.penalty, self.dual)\n",
      "  File \"c:\\Users\\karth\\anaconda3\\envs\\test\\lib\\site-packages\\sklearn\\linear_model\\_logistic.py\", line 447, in _check_solver\n",
      "    raise ValueError(\n",
      "ValueError: Solver lbfgs supports only 'l2' or 'none' penalties, got elasticnet penalty.\n",
      "\n",
      "--------------------------------------------------------------------------------\n",
      "3 fits failed with the following error:\n",
      "Traceback (most recent call last):\n",
      "  File \"c:\\Users\\karth\\anaconda3\\envs\\test\\lib\\site-packages\\sklearn\\model_selection\\_validation.py\", line 680, in _fit_and_score\n",
      "    estimator.fit(X_train, y_train, **fit_params)\n",
      "  File \"c:\\Users\\karth\\anaconda3\\envs\\test\\lib\\site-packages\\sklearn\\linear_model\\_logistic.py\", line 1461, in fit\n",
      "    solver = _check_solver(self.solver, self.penalty, self.dual)\n",
      "  File \"c:\\Users\\karth\\anaconda3\\envs\\test\\lib\\site-packages\\sklearn\\linear_model\\_logistic.py\", line 447, in _check_solver\n",
      "    raise ValueError(\n",
      "ValueError: Solver lbfgs supports only 'l2' or 'none' penalties, got l1 penalty.\n",
      "\n",
      "  warnings.warn(some_fits_failed_message, FitFailedWarning)\n",
      "c:\\Users\\karth\\anaconda3\\envs\\test\\lib\\site-packages\\sklearn\\model_selection\\_search.py:969: UserWarning: One or more of the test scores are non-finite: [0.52941176        nan        nan 0.55147059 0.55147059 0.55147059\n",
      " 0.55147059 0.55147059]\n",
      "  warnings.warn(\n"
     ]
    }
   ],
   "source": [
    "%%time\n",
    "with joblib.parallel_backend(\"dask\", scatter=[X_train, mapped_y]):\n",
    "    grid_search.fit(X_train, mapped_y)"
   ]
  },
  {
   "cell_type": "code",
   "execution_count": 197,
   "metadata": {},
   "outputs": [
    {
     "data": {
      "text/plain": [
       "({'penalty': 'l2'}, 0.551470588235294)"
      ]
     },
     "execution_count": 197,
     "metadata": {},
     "output_type": "execute_result"
    }
   ],
   "source": [
    "grid_search.best_params_, grid_search.best_score_"
   ]
  },
  {
   "cell_type": "code",
   "execution_count": 202,
   "metadata": {},
   "outputs": [
    {
     "data": {
      "text/plain": [
       "LogisticRegression()"
      ]
     },
     "execution_count": 202,
     "metadata": {},
     "output_type": "execute_result"
    }
   ],
   "source": [
    "grid_search.best_estimator_"
   ]
  },
  {
   "cell_type": "code",
   "execution_count": 198,
   "metadata": {},
   "outputs": [
    {
     "data": {
      "text/html": [
       "<div>\n",
       "<style scoped>\n",
       "    .dataframe tbody tr th:only-of-type {\n",
       "        vertical-align: middle;\n",
       "    }\n",
       "\n",
       "    .dataframe tbody tr th {\n",
       "        vertical-align: top;\n",
       "    }\n",
       "\n",
       "    .dataframe thead th {\n",
       "        text-align: right;\n",
       "    }\n",
       "</style>\n",
       "<table border=\"1\" class=\"dataframe\">\n",
       "  <thead>\n",
       "    <tr style=\"text-align: right;\">\n",
       "      <th></th>\n",
       "      <th>mean_fit_time</th>\n",
       "      <th>std_fit_time</th>\n",
       "      <th>mean_score_time</th>\n",
       "      <th>std_score_time</th>\n",
       "      <th>param_penalty</th>\n",
       "      <th>param_C</th>\n",
       "      <th>params</th>\n",
       "      <th>split0_test_score</th>\n",
       "      <th>split1_test_score</th>\n",
       "      <th>split2_test_score</th>\n",
       "      <th>mean_test_score</th>\n",
       "      <th>std_test_score</th>\n",
       "      <th>rank_test_score</th>\n",
       "    </tr>\n",
       "  </thead>\n",
       "  <tbody>\n",
       "    <tr>\n",
       "      <th>0</th>\n",
       "      <td>0.363006</td>\n",
       "      <td>0.010238</td>\n",
       "      <td>0.002660</td>\n",
       "      <td>0.000479</td>\n",
       "      <td>none</td>\n",
       "      <td>NaN</td>\n",
       "      <td>{'penalty': 'none'}</td>\n",
       "      <td>0.588235</td>\n",
       "      <td>0.6875</td>\n",
       "      <td>0.3125</td>\n",
       "      <td>0.529412</td>\n",
       "      <td>0.158643</td>\n",
       "      <td>6</td>\n",
       "    </tr>\n",
       "    <tr>\n",
       "      <th>1</th>\n",
       "      <td>0.001335</td>\n",
       "      <td>0.000470</td>\n",
       "      <td>0.000000</td>\n",
       "      <td>0.000000</td>\n",
       "      <td>elasticnet</td>\n",
       "      <td>NaN</td>\n",
       "      <td>{'penalty': 'elasticnet'}</td>\n",
       "      <td>NaN</td>\n",
       "      <td>NaN</td>\n",
       "      <td>NaN</td>\n",
       "      <td>NaN</td>\n",
       "      <td>NaN</td>\n",
       "      <td>7</td>\n",
       "    </tr>\n",
       "    <tr>\n",
       "      <th>2</th>\n",
       "      <td>0.002661</td>\n",
       "      <td>0.000947</td>\n",
       "      <td>0.000000</td>\n",
       "      <td>0.000000</td>\n",
       "      <td>l1</td>\n",
       "      <td>NaN</td>\n",
       "      <td>{'penalty': 'l1'}</td>\n",
       "      <td>NaN</td>\n",
       "      <td>NaN</td>\n",
       "      <td>NaN</td>\n",
       "      <td>NaN</td>\n",
       "      <td>NaN</td>\n",
       "      <td>8</td>\n",
       "    </tr>\n",
       "    <tr>\n",
       "      <th>3</th>\n",
       "      <td>0.472333</td>\n",
       "      <td>0.035368</td>\n",
       "      <td>0.001332</td>\n",
       "      <td>0.000469</td>\n",
       "      <td>l2</td>\n",
       "      <td>NaN</td>\n",
       "      <td>{'penalty': 'l2'}</td>\n",
       "      <td>0.529412</td>\n",
       "      <td>0.5625</td>\n",
       "      <td>0.5625</td>\n",
       "      <td>0.551471</td>\n",
       "      <td>0.015598</td>\n",
       "      <td>1</td>\n",
       "    </tr>\n",
       "    <tr>\n",
       "      <th>4</th>\n",
       "      <td>0.308664</td>\n",
       "      <td>0.005908</td>\n",
       "      <td>0.001666</td>\n",
       "      <td>0.000943</td>\n",
       "      <td>NaN</td>\n",
       "      <td>0.01</td>\n",
       "      <td>{'C': 0.01}</td>\n",
       "      <td>0.529412</td>\n",
       "      <td>0.5625</td>\n",
       "      <td>0.5625</td>\n",
       "      <td>0.551471</td>\n",
       "      <td>0.015598</td>\n",
       "      <td>1</td>\n",
       "    </tr>\n",
       "  </tbody>\n",
       "</table>\n",
       "</div>"
      ],
      "text/plain": [
       "   mean_fit_time  std_fit_time  mean_score_time  std_score_time param_penalty  \\\n",
       "0       0.363006      0.010238         0.002660        0.000479          none   \n",
       "1       0.001335      0.000470         0.000000        0.000000    elasticnet   \n",
       "2       0.002661      0.000947         0.000000        0.000000            l1   \n",
       "3       0.472333      0.035368         0.001332        0.000469            l2   \n",
       "4       0.308664      0.005908         0.001666        0.000943           NaN   \n",
       "\n",
       "  param_C                     params  split0_test_score  split1_test_score  \\\n",
       "0     NaN        {'penalty': 'none'}           0.588235             0.6875   \n",
       "1     NaN  {'penalty': 'elasticnet'}                NaN                NaN   \n",
       "2     NaN          {'penalty': 'l1'}                NaN                NaN   \n",
       "3     NaN          {'penalty': 'l2'}           0.529412             0.5625   \n",
       "4    0.01                {'C': 0.01}           0.529412             0.5625   \n",
       "\n",
       "   split2_test_score  mean_test_score  std_test_score  rank_test_score  \n",
       "0             0.3125         0.529412        0.158643                6  \n",
       "1                NaN              NaN             NaN                7  \n",
       "2                NaN              NaN             NaN                8  \n",
       "3             0.5625         0.551471        0.015598                1  \n",
       "4             0.5625         0.551471        0.015598                1  "
      ]
     },
     "execution_count": 198,
     "metadata": {},
     "output_type": "execute_result"
    }
   ],
   "source": [
    "pd.DataFrame(grid_search.cv_results_).head()\n"
   ]
  },
  {
   "cell_type": "code",
   "execution_count": 200,
   "metadata": {},
   "outputs": [
    {
     "data": {
      "text/plain": [
       "array([1, 0, 1, 0, 1])"
      ]
     },
     "execution_count": 200,
     "metadata": {},
     "output_type": "execute_result"
    }
   ],
   "source": [
    "grid_search.predict(X_train)[:5]\n"
   ]
  },
  {
   "cell_type": "code",
   "execution_count": 201,
   "metadata": {},
   "outputs": [
    {
     "data": {
      "text/plain": [
       "array([1, 0, 1, 0, 1])"
      ]
     },
     "execution_count": 201,
     "metadata": {},
     "output_type": "execute_result"
    }
   ],
   "source": [
    "mapped_y[:5]"
   ]
  },
  {
   "cell_type": "code",
   "execution_count": 199,
   "metadata": {},
   "outputs": [
    {
     "data": {
      "text/plain": [
       "1.0"
      ]
     },
     "execution_count": 199,
     "metadata": {},
     "output_type": "execute_result"
    }
   ],
   "source": [
    "grid_search.score(X_train, mapped_y)\n"
   ]
  },
  {
   "cell_type": "code",
   "execution_count": null,
   "metadata": {},
   "outputs": [
    {
     "name": "stdout",
     "output_type": "stream",
     "text": [
      "0 1\n",
      "2022-05-23 15:45:58.919902: Training ML model: running outer CV loop: started split 1/1.\n",
      "\n",
      "2022-05-23 15:45:59.057899: Hyperparameter optimization: running the inner loop of nested CV: selection for label my_signal (label 1 / 1).\n",
      "\n",
      "2022-05-23 15:45:59.168905: Evaluating hyperparameter setting: e1_simpleLR...\n",
      "2022-05-23 15:45:59.171901: Encoding started...\n",
      "2022-05-23 15:46:03.554422: Encoding finished.\n",
      "2022-05-23 15:46:03.556422: ML model training started...\n",
      "2022-05-23 15:46:04.029418: ML model training finished.\n",
      "2022-05-23 15:46:04.030419: Encoding started...\n",
      "2022-05-23 15:46:07.572459: Encoding finished.\n",
      "2022-05-23 15:46:07.588461: Completed hyperparameter setting e1_simpleLR.\n",
      "\n",
      "2022-05-23 15:46:07.591455: Evaluating hyperparameter setting: e2_simpleLR...\n",
      "2022-05-23 15:46:07.594463: Encoding started...\n",
      "2022-05-23 15:46:12.913201: Encoding finished.\n",
      "2022-05-23 15:46:12.913201: ML model training started...\n",
      "2022-05-23 15:46:13.054201: ML model training finished.\n",
      "2022-05-23 15:46:13.056201: Encoding started...\n",
      "2022-05-23 15:46:16.616201: Encoding finished.\n",
      "2022-05-23 15:46:16.625201: Completed hyperparameter setting e2_simpleLR.\n",
      "\n",
      "2022-05-23 15:46:19.859623: Hyperparameter optimization: running the inner loop of nested CV: completed selection for label my_signal (label 1 / 1).\n",
      "\n",
      "2022-05-23 15:46:19.860620: Training ML model: running the inner loop of nested CV: retrain models for label my_signal (label 1 / 1).\n",
      "\n",
      "2022-05-23 15:46:19.901327: Evaluating hyperparameter setting: e1_simpleLR...\n",
      "2022-05-23 15:46:19.907326: Encoding started...\n",
      "2022-05-23 15:46:23.634849: Encoding finished.\n",
      "2022-05-23 15:46:23.634849: ML model training started...\n"
     ]
    },
    {
     "name": "stderr",
     "output_type": "stream",
     "text": [
      "c:\\Users\\karth\\anaconda3\\envs\\test\\lib\\site-packages\\sklearn\\linear_model\\_sag.py:352: ConvergenceWarning:\n",
      "\n",
      "The max_iter was reached which means the coef_ did not converge\n",
      "\n"
     ]
    },
    {
     "name": "stdout",
     "output_type": "stream",
     "text": [
      "2022-05-23 15:46:24.220846: ML model training finished.\n",
      "2022-05-23 15:46:24.222847: Encoding started...\n",
      "2022-05-23 15:46:28.408949: Encoding finished.\n",
      "2022-05-23 15:46:28.570829: Completed hyperparameter setting e1_simpleLR.\n",
      "\n",
      "2022-05-23 15:46:28.573795: Evaluating hyperparameter setting: e2_simpleLR...\n",
      "2022-05-23 15:46:28.575796: Encoding started...\n",
      "2022-05-23 15:46:33.734347: Encoding finished.\n",
      "2022-05-23 15:46:33.734347: ML model training started...\n",
      "2022-05-23 15:46:33.823348: ML model training finished.\n",
      "2022-05-23 15:46:33.825348: Encoding started...\n",
      "2022-05-23 15:46:38.581927: Encoding finished.\n",
      "2022-05-23 15:46:38.692930: Completed hyperparameter setting e2_simpleLR.\n",
      "\n",
      "2022-05-23 15:46:38.693929: Training ML model: running the inner loop of nested CV: completed retraining models for label my_signal (label 1 / 1).\n",
      "\n",
      "2022-05-23 15:46:39.252930: Training ML model: running outer CV loop: finished split 1/1.\n",
      "\n"
     ]
    }
   ],
   "source": [
    "# for index in range(n_splits):\n",
    "    \n",
    "#     print(index , n_splits)\n",
    "#     state = HPAssessment.run_assessment_split(state, train_val_datasets[index], test_datasets[index], index, n_splits)\n",
    "    "
   ]
  },
  {
   "cell_type": "code",
   "execution_count": null,
   "metadata": {},
   "outputs": [
    {
     "ename": "NameError",
     "evalue": "name 'state' is not defined",
     "output_type": "error",
     "traceback": [
      "\u001b[1;31m---------------------------------------------------------------------------\u001b[0m",
      "\u001b[1;31mNameError\u001b[0m                                 Traceback (most recent call last)",
      "\u001b[1;32mc:\\Users\\karth\\Desktop\\PhD projects\\immuneML\\dev_immuneML\\immuneML\\Notebook\\quickstart_with_state.ipynb Cell 113'\u001b[0m in \u001b[0;36m<cell line: 1>\u001b[1;34m()\u001b[0m\n\u001b[1;32m----> <a href='vscode-notebook-cell:/c%3A/Users/karth/Desktop/PhD%20projects/immuneML/dev_immuneML/immuneML/Notebook/quickstart_with_state.ipynb#ch0000112?line=0'>1</a>\u001b[0m state\n",
      "\u001b[1;31mNameError\u001b[0m: name 'state' is not defined"
     ]
    }
   ],
   "source": [
    "state"
   ]
  },
  {
   "cell_type": "code",
   "execution_count": null,
   "metadata": {},
   "outputs": [
    {
     "data": {
      "text/plain": [
       "[<immuneML.data_model.dataset.RepertoireDataset.RepertoireDataset at 0x19527e05f70>]"
      ]
     },
     "execution_count": 230,
     "metadata": {},
     "output_type": "execute_result"
    }
   ],
   "source": [
    "train_val_datasets"
   ]
  },
  {
   "cell_type": "code",
   "execution_count": null,
   "metadata": {},
   "outputs": [
    {
     "data": {
      "text/plain": [
       "<immuneML.workflows.instructions.TrainMLModelInstruction.TrainMLModelInstruction at 0x19527e050d0>"
      ]
     },
     "execution_count": 232,
     "metadata": {},
     "output_type": "execute_result"
    }
   ],
   "source": [
    "instructions_object"
   ]
  },
  {
   "cell_type": "code",
   "execution_count": null,
   "metadata": {},
   "outputs": [
    {
     "data": {
      "text/plain": [
       "TrainMLModelState(dataset=<immuneML.data_model.dataset.RepertoireDataset.RepertoireDataset object at 0x0000019527DA19D0>, hp_strategy=<immuneML.hyperparameter_optimization.strategy.GridSearch.GridSearch object at 0x0000019527E05E50>, hp_settings=[<immuneML.hyperparameter_optimization.HPSetting.HPSetting object at 0x0000019524A40E20>, <immuneML.hyperparameter_optimization.HPSetting.HPSetting object at 0x0000019525897AC0>], assessment=<immuneML.hyperparameter_optimization.config.SplitConfig.SplitConfig object at 0x0000019527E05BB0>, selection=<immuneML.hyperparameter_optimization.config.SplitConfig.SplitConfig object at 0x0000019527E058E0>, metrics={<Metric.BALANCED_ACCURACY: 'balanced_accuracy_score'>, <Metric.ACCURACY: 'accuracy_score'>}, optimization_metric=<Metric.BALANCED_ACCURACY: 'balanced_accuracy_score'>, label_configuration=<immuneML.environment.LabelConfiguration.LabelConfiguration object at 0x00000195258978E0>, path=WindowsPath('C:/Users/karth/Desktop/PhD projects/immuneML/immuneML/quickstart/machine_learning_analysis/result/machine_learning_instruction'), context={'dataset': <immuneML.data_model.dataset.RepertoireDataset.RepertoireDataset object at 0x0000019527DA19D0>}, number_of_processes=3, reports={'hprep': <immuneML.reports.train_ml_model_reports.MLSettingsPerformance.MLSettingsPerformance object at 0x0000019524FC6FA0>}, name='machine_learning_instruction', refit_optimal_model=False, optimal_hp_items={}, optimal_hp_item_paths={}, assessment_states=[<immuneML.hyperparameter_optimization.states.HPAssessmentState.HPAssessmentState object at 0x00000195303B3580>], report_results=[])"
      ]
     },
     "execution_count": 233,
     "metadata": {},
     "output_type": "execute_result"
    }
   ],
   "source": [
    "state"
   ]
  },
  {
   "cell_type": "markdown",
   "metadata": {},
   "source": [
    "Create Selection path"
   ]
  },
  {
   "cell_type": "code",
   "execution_count": null,
   "metadata": {},
   "outputs": [
    {
     "data": {
      "text/plain": [
       "WindowsPath('C:/Users/karth/Desktop/PhD projects/immuneML/immuneML/quickstart/machine_learning_analysis/result/machine_learning_instruction')"
      ]
     },
     "execution_count": 235,
     "metadata": {},
     "output_type": "execute_result"
    }
   ],
   "source": [
    "state.path"
   ]
  },
  {
   "cell_type": "code",
   "execution_count": null,
   "metadata": {},
   "outputs": [],
   "source": []
  },
  {
   "cell_type": "code",
   "execution_count": null,
   "metadata": {},
   "outputs": [],
   "source": []
  },
  {
   "cell_type": "code",
   "execution_count": null,
   "metadata": {},
   "outputs": [
    {
     "data": {
      "text/plain": [
       "WindowsPath('C:/Users/karth/Desktop/PhD projects/immuneML/immuneML/quickstart/machine_learning_analysis/result/machine_learning_instruction/slection_random')"
      ]
     },
     "execution_count": 248,
     "metadata": {},
     "output_type": "execute_result"
    }
   ],
   "source": [
    "path"
   ]
  },
  {
   "cell_type": "code",
   "execution_count": null,
   "metadata": {},
   "outputs": [],
   "source": [
    "train_datasets , val_datasets = HPUtil.split_data(train_val_datasets[0], state.selection , path, state.label_configuration)"
   ]
  },
  {
   "cell_type": "code",
   "execution_count": null,
   "metadata": {},
   "outputs": [
    {
     "data": {
      "text/plain": [
       "{'encoded_data': None,\n",
       " 'identifier': 'a37b6c1e-da9d-11ec-aa5b-9cb6d0fe1bec',\n",
       " 'name': 'a37b6c1e-da9d-11ec-aa5b-9cb6d0fe1bec',\n",
       " 'labels': {'identifier': ['cccfb940720444989d09d7137603cf90',\n",
       "   '5f8820e20939495896eefc84221b4b46',\n",
       "   '2e8fceddbb67413da205330fee15d1a8',\n",
       "   '78fac66301534482aba5d89a35969d6c',\n",
       "   'e179bf7f6d1d438ba63f48bb52ec90d6',\n",
       "   'c5f02c99332049b1ab5d93574600efb3',\n",
       "   '6822f24fbdaf4d05b4682d86d360bec6',\n",
       "   '09057bbb03014176918a8fe95c65ec15',\n",
       "   'ba29f0a9fe6843638ff953b2731180ad',\n",
       "   'a202c923acbc46ef85e93cab675d8a32',\n",
       "   '3d5b6f81223a4739bc56e3980ceea591',\n",
       "   '27a932da250a4abb84e881d5acbe4e62',\n",
       "   '016fa8e9d6014857b62b934db610e248',\n",
       "   'ac0e5866a240492aa13309ceebb6b190',\n",
       "   '6eb171c7f07342978f4e07a37820dc90',\n",
       "   '71a93224d8de420b9cece7043f932317',\n",
       "   '77072fb76eb2465097c03951e0def51a',\n",
       "   '452a17b914f34120af1312ebca4a0b7c',\n",
       "   'bba37eb8cd614f60870be9abebe08b7e',\n",
       "   '7f53beef82304d8c97b2e668f23099ac',\n",
       "   '96862ec4c13949cbb4bf07f1cf3869fa',\n",
       "   '95f6cf386e2d4e0b85230e990d0aacc3',\n",
       "   'c9505a4651b24be98d3292a329af80b1',\n",
       "   'c9bb278aa6b541da810d856be3706b60',\n",
       "   'dcd798c023c241119592f8479fcaa7d0',\n",
       "   'dcff821ae6f9453fb5649ddce88df6b0',\n",
       "   '1470a1591c274b1b9ff829911b2cb910',\n",
       "   '3c8e6aa1df9649b59c861e688658fdf8',\n",
       "   'd183f45d6987493a8e1f12e98c3a67b8',\n",
       "   '6b73cde8cda9426bb1a42bf1579ec687',\n",
       "   '907d1c7200f347999687ea72f31bba0e',\n",
       "   '21fc99f36f334e2b90e97866ca764407',\n",
       "   'ac93e265e4ec482da61d980fbf292812',\n",
       "   'fc9fa7f48ae644b384684c288f6ae886',\n",
       "   '42493b78495844d8b76f448db91caaf4',\n",
       "   '60d850e64a824f418d29cc601d59fcd7',\n",
       "   '3c856eea70314463a10b0f96197e6b7a',\n",
       "   '501f5a392e28429a9a912c5907571125',\n",
       "   '0472d0ff883d45d79a76052536ef94c2',\n",
       "   'db6492e673724e11a3c9cd8ca8383459',\n",
       "   '7c0692fcff824034b8bea3d1b6a55a02',\n",
       "   'c12c7a26eaf446b58c920fe640779278',\n",
       "   '8a9bfb2fc4424d5caa0457fafeefe38d',\n",
       "   '7cc1a5fe0f4047d0a21c996e8305481e',\n",
       "   'b1c9c10380154aada0e6a4750b4c3767',\n",
       "   'f7c1195c709b41479ebe14261571d208',\n",
       "   '82cfae2777634c7c8c98e4a49ca9a641',\n",
       "   '199d8833100d4174a4114817d24f952c',\n",
       "   '3fa4b7a35d6749fd8bc69132e85f4485',\n",
       "   '8746f4100d724413935ec24723dd463d',\n",
       "   '37655c471d1342d89d802b2eb7beb587',\n",
       "   'ede8eb595f7c41ba875eab4e1ab70f7d',\n",
       "   '079ac03574cb45b3808aca822981c633',\n",
       "   '7d50e9fe46fc440da143b98244470cd4',\n",
       "   'e6075729615442dd946df51916f3964e',\n",
       "   'c0a88dbded0a4630b77afbe34a8f0369',\n",
       "   'f317ae6debd94049817e80270fb2a760',\n",
       "   '6a71ed165aa847bf91ccef8197188e39',\n",
       "   'cdf02e1335f248469512c40bf5d85253',\n",
       "   '568e8b499f75440b92816a8480258fd6',\n",
       "   '8885874bd43b42a6bef6b568435e22cc',\n",
       "   '459cd298144b4e789fd6a0c13ae75c6e',\n",
       "   'b25674f08fbf4023b3da36955a7dcc35',\n",
       "   '38fb1ea608394da780aa17bdfe9540f8',\n",
       "   '4b282375beba476f91470de987f31172',\n",
       "   '3e33506829d74550af1df5992ddc640a',\n",
       "   '4b1b9afe30af48e0b56d613d29d2f640',\n",
       "   'a42f747915f143d9935b5478265162e1',\n",
       "   '93ce7755c7f94c4a954945308a4abafe',\n",
       "   '2a1f0de7b3654f3a8c7beb48da001c12',\n",
       "   'd78e7e824be2444282f519e5f204bc8c',\n",
       "   'b6d25e97929747cfbeb4f845f69f1f68',\n",
       "   'ba87aa9f87f64b9cb4889d316098e6b5',\n",
       "   'f70689de9e6d483cad849889a538ceb3',\n",
       "   'ce9d18e4c5904c328dcb2f456f867ef9',\n",
       "   'a8f8bbd918384a589863351c412ca852',\n",
       "   '90efe1e2a3584568b602c3d88d26488f',\n",
       "   '9434840d836b424ab3005fc767008ceb',\n",
       "   '688d8b107ab24619a9732d7d40787bab',\n",
       "   '84432073ece54eee998003ee8f5dfb08',\n",
       "   '5fb3274e59ef499586ad0c4e6c5f5903',\n",
       "   'fea53f9a89284bb3a02d6dd5d6627816',\n",
       "   '92aa2bdd37044b358c6dbe489d2a2fc9',\n",
       "   'ce8b3b4f3fe0484788cd82ffe5ae01c9',\n",
       "   '950d56008fe04ab09eb8da8055508fea',\n",
       "   '8f07760f9c1f43209cd3872ab827562c',\n",
       "   '3c599ad18bf3415a9a4c672f4c24d001',\n",
       "   'dfbc0b7d9c47414b812e003bdcb17206',\n",
       "   '033dd7b61adf4a88b88f137de04caaa6',\n",
       "   'daa6b13e056d452b9f53501410f53700',\n",
       "   'd32b05e0af8d478db293f5d27d295ff4',\n",
       "   '871941f6b5c0442ca95eed0df929cc12',\n",
       "   '46b1d878eec14251920c4e2be89667a4',\n",
       "   '64a893905378488e97be172fd17af87f',\n",
       "   '02710ccfae5042a181133383a93e629c',\n",
       "   '010cd9a597d94f01b0e383443d3a0bc9',\n",
       "   '19b9ecb77397433fa515b67603476279',\n",
       "   'd0c2141e2ce14d76935d371b411da6cc',\n",
       "   '303864139a8b485b9bb36a6609fd5d84',\n",
       "   '7563f67d92954eaa989a796f76a9bfe8'],\n",
       "  'subject_id': ['rep_53',\n",
       "   'rep_65',\n",
       "   'rep_3',\n",
       "   'rep_85',\n",
       "   'rep_66',\n",
       "   'rep_11',\n",
       "   'rep_80',\n",
       "   'rep_35',\n",
       "   'rep_67',\n",
       "   'rep_17',\n",
       "   'rep_75',\n",
       "   'rep_97',\n",
       "   'rep_48',\n",
       "   'rep_91',\n",
       "   'rep_69',\n",
       "   'rep_38',\n",
       "   'rep_19',\n",
       "   'rep_40',\n",
       "   'rep_21',\n",
       "   'rep_2',\n",
       "   'rep_18',\n",
       "   'rep_6',\n",
       "   'rep_87',\n",
       "   'rep_70',\n",
       "   'rep_0',\n",
       "   'rep_60',\n",
       "   'rep_58',\n",
       "   'rep_83',\n",
       "   'rep_51',\n",
       "   'rep_74',\n",
       "   'rep_45',\n",
       "   'rep_24',\n",
       "   'rep_62',\n",
       "   'rep_37',\n",
       "   'rep_33',\n",
       "   'rep_64',\n",
       "   'rep_68',\n",
       "   'rep_26',\n",
       "   'rep_88',\n",
       "   'rep_81',\n",
       "   'rep_20',\n",
       "   'rep_36',\n",
       "   'rep_47',\n",
       "   'rep_25',\n",
       "   'rep_10',\n",
       "   'rep_72',\n",
       "   'rep_12',\n",
       "   'rep_32',\n",
       "   'rep_92',\n",
       "   'rep_5',\n",
       "   'rep_39',\n",
       "   'rep_49',\n",
       "   'rep_29',\n",
       "   'rep_84',\n",
       "   'rep_61',\n",
       "   'rep_59',\n",
       "   'rep_73',\n",
       "   'rep_9',\n",
       "   'rep_16',\n",
       "   'rep_54',\n",
       "   'rep_27',\n",
       "   'rep_79',\n",
       "   'rep_56',\n",
       "   'rep_22',\n",
       "   'rep_34',\n",
       "   'rep_82',\n",
       "   'rep_28',\n",
       "   'rep_99',\n",
       "   'rep_98',\n",
       "   'rep_76',\n",
       "   'rep_89',\n",
       "   'rep_95',\n",
       "   'rep_44',\n",
       "   'rep_57',\n",
       "   'rep_1',\n",
       "   'rep_4',\n",
       "   'rep_63',\n",
       "   'rep_96',\n",
       "   'rep_46',\n",
       "   'rep_86',\n",
       "   'rep_78',\n",
       "   'rep_7',\n",
       "   'rep_94',\n",
       "   'rep_31',\n",
       "   'rep_90',\n",
       "   'rep_43',\n",
       "   'rep_71',\n",
       "   'rep_15',\n",
       "   'rep_41',\n",
       "   'rep_77',\n",
       "   'rep_13',\n",
       "   'rep_50',\n",
       "   'rep_52',\n",
       "   'rep_93',\n",
       "   'rep_30',\n",
       "   'rep_42',\n",
       "   'rep_8',\n",
       "   'rep_23',\n",
       "   'rep_55',\n",
       "   'rep_14'],\n",
       "  'my_signal': [False, True]},\n",
       " 'metadata_file': WindowsPath('C:/Users/karth/Desktop/PhD projects/immuneML/immuneML/quickstart/machine_learning_analysis/result/machine_learning_instruction/split_1/datasets/train_metadata.csv'),\n",
       " 'metadata_fields': None,\n",
       " 'repertoire_ids': ['4f217682836d421a8bdb9da13be1e7cd',\n",
       "  'eeddac9f20974158bbda72604fbbd630',\n",
       "  '1b60c195e51b4ef5adf0baee82cab15f',\n",
       "  '1bf2a31be8324fc9a677826fd35d15c9',\n",
       "  'ea5b4c179eac46b29dd7df4c595ecd5a',\n",
       "  '3b4fc4b8e918440887fd4d1f29800f03',\n",
       "  '26982ea669744db59b2fa1fd483d0732',\n",
       "  '80f2a904b975462caa4a476cdf93f5d1',\n",
       "  '8c73e717d6f04da6913e4dfd9862805d',\n",
       "  '1f41603b6c3b4349815a5975c6b16bf6',\n",
       "  '6366e6a243bb493ba2aa6b8c04f353ae',\n",
       "  '16ca80b95a8645f693c9ef83212a5d1c',\n",
       "  '569bb831be5945ed9696441babbecfe2',\n",
       "  '45f2c0aa4ee34368af9b401f14e08327',\n",
       "  '35ae2b1260dc404480c092afc67e0e8e',\n",
       "  'a12cdbb9d646476d9ed0bb9050153f21',\n",
       "  '61ad196f2a2d4b8d9f178d749603d9a1',\n",
       "  '14f8ac9ca88f496dadf386fef211f943',\n",
       "  '8473774a0fbd442ba4751d494e2e4037',\n",
       "  '211697506a41434b8c1e403550219baa',\n",
       "  'aa035c56429a447bb41d0524666bf463',\n",
       "  '590605a44b2a40feac70c4686b54883a',\n",
       "  '8420bf49f77447d59b318a642776fe3a',\n",
       "  'f9fd55c734c3493fbe61fe90294fcb65',\n",
       "  'c898758689a1400ba26cbcf282cdb77a',\n",
       "  '71a4eb51488a437da7ca2b80962149e8',\n",
       "  '21302f03bbd1423892dce96799b8d191',\n",
       "  '2f821b56bda348448b5f690a00c1cbf7',\n",
       "  '9e14ee538adb4e228cab38d1f26efa81',\n",
       "  'e51458bfd7eb4d0b86382af9700fe860',\n",
       "  '27b9ea9b52064201bbb7c7ed2c8ca64d',\n",
       "  '750603d418b948b382d2794e0abe0a1a',\n",
       "  'f916aaa7964746549a63abd9ddfd9e13',\n",
       "  '0011c11cc7544782a1d21286f3818e1c',\n",
       "  'f192fbbe88d74219b9ee8fe058f05bfc',\n",
       "  'f9871c6f5b9e4d43bd35dcad2eb5c2b3',\n",
       "  '026d6c734c9c4add84b7f2c90bd0639e',\n",
       "  '5b65e25f697748049bfaec595b4e9eed',\n",
       "  'e84a1fabcd324f9180b9e9d2d2b41b4f',\n",
       "  'cdb2c20b30d749e59f2c531d1a978676',\n",
       "  '68ee96bdff2b45dbb0feb007f5462fb5',\n",
       "  '2e91702c2df44e149c7c9cd7ede20730',\n",
       "  '221ec1cbdb0b4a1ab0dd9028467f650d',\n",
       "  'fb36076f591b490bb7ceec7e12bf6a06',\n",
       "  '1e4d054637d0415cb3d96804a21b3ad0',\n",
       "  'b579750d0e304a7a94e230b169539d67',\n",
       "  '205329aa94b54910bc1965a5b8eb78f0',\n",
       "  'c8abda5cd68b43c7af951fdd6fc923c5',\n",
       "  '09b3f439a3fe407e8de0a690c5d98c6b',\n",
       "  '4c90c9dd77904c908b1948c175ef55f0',\n",
       "  'abeb8352df2146a2a574d228a512b9ed',\n",
       "  'd39f7489ef8b454ebe025e4215591372',\n",
       "  '8f253448918a494baa4f5724b80c6c83',\n",
       "  '6c7d42e8e8ba44088fc7edd46643c059',\n",
       "  'd64e4fe547054891bfd7126602dcf63a',\n",
       "  '0cb221fdf05a44c294652a2308e98a1c',\n",
       "  '7b11d9e61fa04a238d7032600e674944',\n",
       "  '93cf4082a7b04c58b0bac9f22b108f79',\n",
       "  '5605ead0c1a544ebb598eca9e07028bf',\n",
       "  '7528d0632a484f9e973bb9600747335b',\n",
       "  '707bcbb7d07d400585ab6c29fa74cd81',\n",
       "  '970114ddca4643b68b2cb81842bec4fb',\n",
       "  '92ca633be5514f4f933627ff91553286',\n",
       "  '3171467a738d41b697b8dc5f011c46f8',\n",
       "  '3915c313a95c4f5eb677e276fb0e44b4',\n",
       "  'adc9748686394e3d83877f7134062971',\n",
       "  '5af0b1ab1d7e41e283460c143bc5c1f2',\n",
       "  '820846040902441980d5c92c7485f4f5',\n",
       "  '91c731cb69b54226b9762d18db96f8bf',\n",
       "  '6e94ac80bf094c688cddcb6647d0141d'],\n",
       " 'repertoires': [<immuneML.data_model.repertoire.Repertoire.Repertoire at 0x19527dfe820>,\n",
       "  <immuneML.data_model.repertoire.Repertoire.Repertoire at 0x19527e115b0>,\n",
       "  <immuneML.data_model.repertoire.Repertoire.Repertoire at 0x19527e117f0>,\n",
       "  <immuneML.data_model.repertoire.Repertoire.Repertoire at 0x19527e222e0>,\n",
       "  <immuneML.data_model.repertoire.Repertoire.Repertoire at 0x19527e22760>,\n",
       "  <immuneML.data_model.repertoire.Repertoire.Repertoire at 0x19527e11910>,\n",
       "  <immuneML.data_model.repertoire.Repertoire.Repertoire at 0x19527e11130>,\n",
       "  <immuneML.data_model.repertoire.Repertoire.Repertoire at 0x19527e11490>,\n",
       "  <immuneML.data_model.repertoire.Repertoire.Repertoire at 0x19527e98070>,\n",
       "  <immuneML.data_model.repertoire.Repertoire.Repertoire at 0x19527e98460>,\n",
       "  <immuneML.data_model.repertoire.Repertoire.Repertoire at 0x19527e11d90>,\n",
       "  <immuneML.data_model.repertoire.Repertoire.Repertoire at 0x19527e98520>,\n",
       "  <immuneML.data_model.repertoire.Repertoire.Repertoire at 0x19527e227f0>,\n",
       "  <immuneML.data_model.repertoire.Repertoire.Repertoire at 0x19527e11370>,\n",
       "  <immuneML.data_model.repertoire.Repertoire.Repertoire at 0x19527e11dc0>,\n",
       "  <immuneML.data_model.repertoire.Repertoire.Repertoire at 0x19527e98100>,\n",
       "  <immuneML.data_model.repertoire.Repertoire.Repertoire at 0x19527e985e0>,\n",
       "  <immuneML.data_model.repertoire.Repertoire.Repertoire at 0x19527dfe280>,\n",
       "  <immuneML.data_model.repertoire.Repertoire.Repertoire at 0x19527dfe5e0>,\n",
       "  <immuneML.data_model.repertoire.Repertoire.Repertoire at 0x19527e98610>,\n",
       "  <immuneML.data_model.repertoire.Repertoire.Repertoire at 0x19527dfedc0>,\n",
       "  <immuneML.data_model.repertoire.Repertoire.Repertoire at 0x19527e11d30>,\n",
       "  <immuneML.data_model.repertoire.Repertoire.Repertoire at 0x195258426a0>,\n",
       "  <immuneML.data_model.repertoire.Repertoire.Repertoire at 0x19527e98040>,\n",
       "  <immuneML.data_model.repertoire.Repertoire.Repertoire at 0x19527e98550>,\n",
       "  <immuneML.data_model.repertoire.Repertoire.Repertoire at 0x19527dfefd0>,\n",
       "  <immuneML.data_model.repertoire.Repertoire.Repertoire at 0x19527e98640>,\n",
       "  <immuneML.data_model.repertoire.Repertoire.Repertoire at 0x19527dfe700>,\n",
       "  <immuneML.data_model.repertoire.Repertoire.Repertoire at 0x19527e982b0>,\n",
       "  <immuneML.data_model.repertoire.Repertoire.Repertoire at 0x19527e11eb0>,\n",
       "  <immuneML.data_model.repertoire.Repertoire.Repertoire at 0x19527e11700>,\n",
       "  <immuneML.data_model.repertoire.Repertoire.Repertoire at 0x19527e98280>,\n",
       "  <immuneML.data_model.repertoire.Repertoire.Repertoire at 0x19527e116d0>,\n",
       "  <immuneML.data_model.repertoire.Repertoire.Repertoire at 0x19527e22940>,\n",
       "  <immuneML.data_model.repertoire.Repertoire.Repertoire at 0x19527e22f40>,\n",
       "  <immuneML.data_model.repertoire.Repertoire.Repertoire at 0x19527e11160>,\n",
       "  <immuneML.data_model.repertoire.Repertoire.Repertoire at 0x19525842640>,\n",
       "  <immuneML.data_model.repertoire.Repertoire.Repertoire at 0x19527dfeee0>,\n",
       "  <immuneML.data_model.repertoire.Repertoire.Repertoire at 0x19527e11fa0>,\n",
       "  <immuneML.data_model.repertoire.Repertoire.Repertoire at 0x19527e11b80>,\n",
       "  <immuneML.data_model.repertoire.Repertoire.Repertoire at 0x19527e22730>,\n",
       "  <immuneML.data_model.repertoire.Repertoire.Repertoire at 0x19527e11e80>,\n",
       "  <immuneML.data_model.repertoire.Repertoire.Repertoire at 0x19527e981f0>,\n",
       "  <immuneML.data_model.repertoire.Repertoire.Repertoire at 0x19527dfe6d0>,\n",
       "  <immuneML.data_model.repertoire.Repertoire.Repertoire at 0x19527e11f40>,\n",
       "  <immuneML.data_model.repertoire.Repertoire.Repertoire at 0x19527dfe130>,\n",
       "  <immuneML.data_model.repertoire.Repertoire.Repertoire at 0x19527e98430>,\n",
       "  <immuneML.data_model.repertoire.Repertoire.Repertoire at 0x19527e98190>,\n",
       "  <immuneML.data_model.repertoire.Repertoire.Repertoire at 0x19527e985b0>,\n",
       "  <immuneML.data_model.repertoire.Repertoire.Repertoire at 0x19527e98670>,\n",
       "  <immuneML.data_model.repertoire.Repertoire.Repertoire at 0x19527e98340>,\n",
       "  <immuneML.data_model.repertoire.Repertoire.Repertoire at 0x19527e113a0>,\n",
       "  <immuneML.data_model.repertoire.Repertoire.Repertoire at 0x19527e981c0>,\n",
       "  <immuneML.data_model.repertoire.Repertoire.Repertoire at 0x19527e11250>,\n",
       "  <immuneML.data_model.repertoire.Repertoire.Repertoire at 0x19527e11f70>,\n",
       "  <immuneML.data_model.repertoire.Repertoire.Repertoire at 0x19527e98130>,\n",
       "  <immuneML.data_model.repertoire.Repertoire.Repertoire at 0x19527e11e50>,\n",
       "  <immuneML.data_model.repertoire.Repertoire.Repertoire at 0x19527dfe070>,\n",
       "  <immuneML.data_model.repertoire.Repertoire.Repertoire at 0x19527e984f0>,\n",
       "  <immuneML.data_model.repertoire.Repertoire.Repertoire at 0x19508d90a60>,\n",
       "  <immuneML.data_model.repertoire.Repertoire.Repertoire at 0x19527e984c0>,\n",
       "  <immuneML.data_model.repertoire.Repertoire.Repertoire at 0x19527e11040>,\n",
       "  <immuneML.data_model.repertoire.Repertoire.Repertoire at 0x19527e11bb0>,\n",
       "  <immuneML.data_model.repertoire.Repertoire.Repertoire at 0x19527e11ca0>,\n",
       "  <immuneML.data_model.repertoire.Repertoire.Repertoire at 0x19527e98220>,\n",
       "  <immuneML.data_model.repertoire.Repertoire.Repertoire at 0x19527e980d0>,\n",
       "  <immuneML.data_model.repertoire.Repertoire.Repertoire at 0x19527e98580>,\n",
       "  <immuneML.data_model.repertoire.Repertoire.Repertoire at 0x19527e11f10>,\n",
       "  <immuneML.data_model.repertoire.Repertoire.Repertoire at 0x19527e11be0>,\n",
       "  <immuneML.data_model.repertoire.Repertoire.Repertoire at 0x19527e11d60>]}"
      ]
     },
     "execution_count": 253,
     "metadata": {},
     "output_type": "execute_result"
    }
   ],
   "source": [
    "train_val_datasets[0].__dict__"
   ]
  },
  {
   "cell_type": "code",
   "execution_count": null,
   "metadata": {},
   "outputs": [
    {
     "data": {
      "text/plain": [
       "{'encoded_data': None,\n",
       " 'identifier': 'ad5fac06-da9e-11ec-a716-9cb6d0fe1bec',\n",
       " 'name': 'ad5fac06-da9e-11ec-a716-9cb6d0fe1bec',\n",
       " 'labels': {'identifier': ['cccfb940720444989d09d7137603cf90',\n",
       "   '5f8820e20939495896eefc84221b4b46',\n",
       "   '2e8fceddbb67413da205330fee15d1a8',\n",
       "   '78fac66301534482aba5d89a35969d6c',\n",
       "   'e179bf7f6d1d438ba63f48bb52ec90d6',\n",
       "   'c5f02c99332049b1ab5d93574600efb3',\n",
       "   '6822f24fbdaf4d05b4682d86d360bec6',\n",
       "   '09057bbb03014176918a8fe95c65ec15',\n",
       "   'ba29f0a9fe6843638ff953b2731180ad',\n",
       "   'a202c923acbc46ef85e93cab675d8a32',\n",
       "   '3d5b6f81223a4739bc56e3980ceea591',\n",
       "   '27a932da250a4abb84e881d5acbe4e62',\n",
       "   '016fa8e9d6014857b62b934db610e248',\n",
       "   'ac0e5866a240492aa13309ceebb6b190',\n",
       "   '6eb171c7f07342978f4e07a37820dc90',\n",
       "   '71a93224d8de420b9cece7043f932317',\n",
       "   '77072fb76eb2465097c03951e0def51a',\n",
       "   '452a17b914f34120af1312ebca4a0b7c',\n",
       "   'bba37eb8cd614f60870be9abebe08b7e',\n",
       "   '7f53beef82304d8c97b2e668f23099ac',\n",
       "   '96862ec4c13949cbb4bf07f1cf3869fa',\n",
       "   '95f6cf386e2d4e0b85230e990d0aacc3',\n",
       "   'c9505a4651b24be98d3292a329af80b1',\n",
       "   'c9bb278aa6b541da810d856be3706b60',\n",
       "   'dcd798c023c241119592f8479fcaa7d0',\n",
       "   'dcff821ae6f9453fb5649ddce88df6b0',\n",
       "   '1470a1591c274b1b9ff829911b2cb910',\n",
       "   '3c8e6aa1df9649b59c861e688658fdf8',\n",
       "   'd183f45d6987493a8e1f12e98c3a67b8',\n",
       "   '6b73cde8cda9426bb1a42bf1579ec687',\n",
       "   '907d1c7200f347999687ea72f31bba0e',\n",
       "   '21fc99f36f334e2b90e97866ca764407',\n",
       "   'ac93e265e4ec482da61d980fbf292812',\n",
       "   'fc9fa7f48ae644b384684c288f6ae886',\n",
       "   '42493b78495844d8b76f448db91caaf4',\n",
       "   '60d850e64a824f418d29cc601d59fcd7',\n",
       "   '3c856eea70314463a10b0f96197e6b7a',\n",
       "   '501f5a392e28429a9a912c5907571125',\n",
       "   '0472d0ff883d45d79a76052536ef94c2',\n",
       "   'db6492e673724e11a3c9cd8ca8383459',\n",
       "   '7c0692fcff824034b8bea3d1b6a55a02',\n",
       "   'c12c7a26eaf446b58c920fe640779278',\n",
       "   '8a9bfb2fc4424d5caa0457fafeefe38d',\n",
       "   '7cc1a5fe0f4047d0a21c996e8305481e',\n",
       "   'b1c9c10380154aada0e6a4750b4c3767',\n",
       "   'f7c1195c709b41479ebe14261571d208',\n",
       "   '82cfae2777634c7c8c98e4a49ca9a641',\n",
       "   '199d8833100d4174a4114817d24f952c',\n",
       "   '3fa4b7a35d6749fd8bc69132e85f4485',\n",
       "   '8746f4100d724413935ec24723dd463d',\n",
       "   '37655c471d1342d89d802b2eb7beb587',\n",
       "   'ede8eb595f7c41ba875eab4e1ab70f7d',\n",
       "   '079ac03574cb45b3808aca822981c633',\n",
       "   '7d50e9fe46fc440da143b98244470cd4',\n",
       "   'e6075729615442dd946df51916f3964e',\n",
       "   'c0a88dbded0a4630b77afbe34a8f0369',\n",
       "   'f317ae6debd94049817e80270fb2a760',\n",
       "   '6a71ed165aa847bf91ccef8197188e39',\n",
       "   'cdf02e1335f248469512c40bf5d85253',\n",
       "   '568e8b499f75440b92816a8480258fd6',\n",
       "   '8885874bd43b42a6bef6b568435e22cc',\n",
       "   '459cd298144b4e789fd6a0c13ae75c6e',\n",
       "   'b25674f08fbf4023b3da36955a7dcc35',\n",
       "   '38fb1ea608394da780aa17bdfe9540f8',\n",
       "   '4b282375beba476f91470de987f31172',\n",
       "   '3e33506829d74550af1df5992ddc640a',\n",
       "   '4b1b9afe30af48e0b56d613d29d2f640',\n",
       "   'a42f747915f143d9935b5478265162e1',\n",
       "   '93ce7755c7f94c4a954945308a4abafe',\n",
       "   '2a1f0de7b3654f3a8c7beb48da001c12',\n",
       "   'd78e7e824be2444282f519e5f204bc8c',\n",
       "   'b6d25e97929747cfbeb4f845f69f1f68',\n",
       "   'ba87aa9f87f64b9cb4889d316098e6b5',\n",
       "   'f70689de9e6d483cad849889a538ceb3',\n",
       "   'ce9d18e4c5904c328dcb2f456f867ef9',\n",
       "   'a8f8bbd918384a589863351c412ca852',\n",
       "   '90efe1e2a3584568b602c3d88d26488f',\n",
       "   '9434840d836b424ab3005fc767008ceb',\n",
       "   '688d8b107ab24619a9732d7d40787bab',\n",
       "   '84432073ece54eee998003ee8f5dfb08',\n",
       "   '5fb3274e59ef499586ad0c4e6c5f5903',\n",
       "   'fea53f9a89284bb3a02d6dd5d6627816',\n",
       "   '92aa2bdd37044b358c6dbe489d2a2fc9',\n",
       "   'ce8b3b4f3fe0484788cd82ffe5ae01c9',\n",
       "   '950d56008fe04ab09eb8da8055508fea',\n",
       "   '8f07760f9c1f43209cd3872ab827562c',\n",
       "   '3c599ad18bf3415a9a4c672f4c24d001',\n",
       "   'dfbc0b7d9c47414b812e003bdcb17206',\n",
       "   '033dd7b61adf4a88b88f137de04caaa6',\n",
       "   'daa6b13e056d452b9f53501410f53700',\n",
       "   'd32b05e0af8d478db293f5d27d295ff4',\n",
       "   '871941f6b5c0442ca95eed0df929cc12',\n",
       "   '46b1d878eec14251920c4e2be89667a4',\n",
       "   '64a893905378488e97be172fd17af87f',\n",
       "   '02710ccfae5042a181133383a93e629c',\n",
       "   '010cd9a597d94f01b0e383443d3a0bc9',\n",
       "   '19b9ecb77397433fa515b67603476279',\n",
       "   'd0c2141e2ce14d76935d371b411da6cc',\n",
       "   '303864139a8b485b9bb36a6609fd5d84',\n",
       "   '7563f67d92954eaa989a796f76a9bfe8'],\n",
       "  'subject_id': ['rep_53',\n",
       "   'rep_65',\n",
       "   'rep_3',\n",
       "   'rep_85',\n",
       "   'rep_66',\n",
       "   'rep_11',\n",
       "   'rep_80',\n",
       "   'rep_35',\n",
       "   'rep_67',\n",
       "   'rep_17',\n",
       "   'rep_75',\n",
       "   'rep_97',\n",
       "   'rep_48',\n",
       "   'rep_91',\n",
       "   'rep_69',\n",
       "   'rep_38',\n",
       "   'rep_19',\n",
       "   'rep_40',\n",
       "   'rep_21',\n",
       "   'rep_2',\n",
       "   'rep_18',\n",
       "   'rep_6',\n",
       "   'rep_87',\n",
       "   'rep_70',\n",
       "   'rep_0',\n",
       "   'rep_60',\n",
       "   'rep_58',\n",
       "   'rep_83',\n",
       "   'rep_51',\n",
       "   'rep_74',\n",
       "   'rep_45',\n",
       "   'rep_24',\n",
       "   'rep_62',\n",
       "   'rep_37',\n",
       "   'rep_33',\n",
       "   'rep_64',\n",
       "   'rep_68',\n",
       "   'rep_26',\n",
       "   'rep_88',\n",
       "   'rep_81',\n",
       "   'rep_20',\n",
       "   'rep_36',\n",
       "   'rep_47',\n",
       "   'rep_25',\n",
       "   'rep_10',\n",
       "   'rep_72',\n",
       "   'rep_12',\n",
       "   'rep_32',\n",
       "   'rep_92',\n",
       "   'rep_5',\n",
       "   'rep_39',\n",
       "   'rep_49',\n",
       "   'rep_29',\n",
       "   'rep_84',\n",
       "   'rep_61',\n",
       "   'rep_59',\n",
       "   'rep_73',\n",
       "   'rep_9',\n",
       "   'rep_16',\n",
       "   'rep_54',\n",
       "   'rep_27',\n",
       "   'rep_79',\n",
       "   'rep_56',\n",
       "   'rep_22',\n",
       "   'rep_34',\n",
       "   'rep_82',\n",
       "   'rep_28',\n",
       "   'rep_99',\n",
       "   'rep_98',\n",
       "   'rep_76',\n",
       "   'rep_89',\n",
       "   'rep_95',\n",
       "   'rep_44',\n",
       "   'rep_57',\n",
       "   'rep_1',\n",
       "   'rep_4',\n",
       "   'rep_63',\n",
       "   'rep_96',\n",
       "   'rep_46',\n",
       "   'rep_86',\n",
       "   'rep_78',\n",
       "   'rep_7',\n",
       "   'rep_94',\n",
       "   'rep_31',\n",
       "   'rep_90',\n",
       "   'rep_43',\n",
       "   'rep_71',\n",
       "   'rep_15',\n",
       "   'rep_41',\n",
       "   'rep_77',\n",
       "   'rep_13',\n",
       "   'rep_50',\n",
       "   'rep_52',\n",
       "   'rep_93',\n",
       "   'rep_30',\n",
       "   'rep_42',\n",
       "   'rep_8',\n",
       "   'rep_23',\n",
       "   'rep_55',\n",
       "   'rep_14'],\n",
       "  'my_signal': [False, True]},\n",
       " 'metadata_file': WindowsPath('C:/Users/karth/Desktop/PhD projects/immuneML/immuneML/quickstart/machine_learning_analysis/result/machine_learning_instruction/split_1/selection_random/split_1/datasets/test_metadata.csv'),\n",
       " 'metadata_fields': None,\n",
       " 'repertoire_ids': None,\n",
       " 'repertoires': [<immuneML.data_model.repertoire.Repertoire.Repertoire at 0x1954027b580>,\n",
       "  <immuneML.data_model.repertoire.Repertoire.Repertoire at 0x1954027b5b0>,\n",
       "  <immuneML.data_model.repertoire.Repertoire.Repertoire at 0x1954027b400>,\n",
       "  <immuneML.data_model.repertoire.Repertoire.Repertoire at 0x1954027b3d0>,\n",
       "  <immuneML.data_model.repertoire.Repertoire.Repertoire at 0x195402e06a0>,\n",
       "  <immuneML.data_model.repertoire.Repertoire.Repertoire at 0x195402e0610>,\n",
       "  <immuneML.data_model.repertoire.Repertoire.Repertoire at 0x195402e0130>,\n",
       "  <immuneML.data_model.repertoire.Repertoire.Repertoire at 0x195402e0d60>,\n",
       "  <immuneML.data_model.repertoire.Repertoire.Repertoire at 0x195402e09a0>,\n",
       "  <immuneML.data_model.repertoire.Repertoire.Repertoire at 0x195402e0910>,\n",
       "  <immuneML.data_model.repertoire.Repertoire.Repertoire at 0x195402e00d0>,\n",
       "  <immuneML.data_model.repertoire.Repertoire.Repertoire at 0x195402e0a30>,\n",
       "  <immuneML.data_model.repertoire.Repertoire.Repertoire at 0x195402e0670>,\n",
       "  <immuneML.data_model.repertoire.Repertoire.Repertoire at 0x195402e05b0>,\n",
       "  <immuneML.data_model.repertoire.Repertoire.Repertoire at 0x195402e0250>,\n",
       "  <immuneML.data_model.repertoire.Repertoire.Repertoire at 0x195402e0850>,\n",
       "  <immuneML.data_model.repertoire.Repertoire.Repertoire at 0x195402e0d90>,\n",
       "  <immuneML.data_model.repertoire.Repertoire.Repertoire at 0x195402e0100>,\n",
       "  <immuneML.data_model.repertoire.Repertoire.Repertoire at 0x195402e08b0>,\n",
       "  <immuneML.data_model.repertoire.Repertoire.Repertoire at 0x195402e0fd0>,\n",
       "  <immuneML.data_model.repertoire.Repertoire.Repertoire at 0x195402e0b80>]}"
      ]
     },
     "execution_count": 251,
     "metadata": {},
     "output_type": "execute_result"
    }
   ],
   "source": [
    "val_datasets[0].__dict__"
   ]
  },
  {
   "cell_type": "code",
   "execution_count": null,
   "metadata": {},
   "outputs": [
    {
     "data": {
      "text/plain": [
       "{'encoded_data': None,\n",
       " 'identifier': 'ad572082-da9e-11ec-b20b-9cb6d0fe1bec',\n",
       " 'name': 'ad572082-da9e-11ec-b20b-9cb6d0fe1bec',\n",
       " 'labels': {'identifier': ['cccfb940720444989d09d7137603cf90',\n",
       "   '5f8820e20939495896eefc84221b4b46',\n",
       "   '2e8fceddbb67413da205330fee15d1a8',\n",
       "   '78fac66301534482aba5d89a35969d6c',\n",
       "   'e179bf7f6d1d438ba63f48bb52ec90d6',\n",
       "   'c5f02c99332049b1ab5d93574600efb3',\n",
       "   '6822f24fbdaf4d05b4682d86d360bec6',\n",
       "   '09057bbb03014176918a8fe95c65ec15',\n",
       "   'ba29f0a9fe6843638ff953b2731180ad',\n",
       "   'a202c923acbc46ef85e93cab675d8a32',\n",
       "   '3d5b6f81223a4739bc56e3980ceea591',\n",
       "   '27a932da250a4abb84e881d5acbe4e62',\n",
       "   '016fa8e9d6014857b62b934db610e248',\n",
       "   'ac0e5866a240492aa13309ceebb6b190',\n",
       "   '6eb171c7f07342978f4e07a37820dc90',\n",
       "   '71a93224d8de420b9cece7043f932317',\n",
       "   '77072fb76eb2465097c03951e0def51a',\n",
       "   '452a17b914f34120af1312ebca4a0b7c',\n",
       "   'bba37eb8cd614f60870be9abebe08b7e',\n",
       "   '7f53beef82304d8c97b2e668f23099ac',\n",
       "   '96862ec4c13949cbb4bf07f1cf3869fa',\n",
       "   '95f6cf386e2d4e0b85230e990d0aacc3',\n",
       "   'c9505a4651b24be98d3292a329af80b1',\n",
       "   'c9bb278aa6b541da810d856be3706b60',\n",
       "   'dcd798c023c241119592f8479fcaa7d0',\n",
       "   'dcff821ae6f9453fb5649ddce88df6b0',\n",
       "   '1470a1591c274b1b9ff829911b2cb910',\n",
       "   '3c8e6aa1df9649b59c861e688658fdf8',\n",
       "   'd183f45d6987493a8e1f12e98c3a67b8',\n",
       "   '6b73cde8cda9426bb1a42bf1579ec687',\n",
       "   '907d1c7200f347999687ea72f31bba0e',\n",
       "   '21fc99f36f334e2b90e97866ca764407',\n",
       "   'ac93e265e4ec482da61d980fbf292812',\n",
       "   'fc9fa7f48ae644b384684c288f6ae886',\n",
       "   '42493b78495844d8b76f448db91caaf4',\n",
       "   '60d850e64a824f418d29cc601d59fcd7',\n",
       "   '3c856eea70314463a10b0f96197e6b7a',\n",
       "   '501f5a392e28429a9a912c5907571125',\n",
       "   '0472d0ff883d45d79a76052536ef94c2',\n",
       "   'db6492e673724e11a3c9cd8ca8383459',\n",
       "   '7c0692fcff824034b8bea3d1b6a55a02',\n",
       "   'c12c7a26eaf446b58c920fe640779278',\n",
       "   '8a9bfb2fc4424d5caa0457fafeefe38d',\n",
       "   '7cc1a5fe0f4047d0a21c996e8305481e',\n",
       "   'b1c9c10380154aada0e6a4750b4c3767',\n",
       "   'f7c1195c709b41479ebe14261571d208',\n",
       "   '82cfae2777634c7c8c98e4a49ca9a641',\n",
       "   '199d8833100d4174a4114817d24f952c',\n",
       "   '3fa4b7a35d6749fd8bc69132e85f4485',\n",
       "   '8746f4100d724413935ec24723dd463d',\n",
       "   '37655c471d1342d89d802b2eb7beb587',\n",
       "   'ede8eb595f7c41ba875eab4e1ab70f7d',\n",
       "   '079ac03574cb45b3808aca822981c633',\n",
       "   '7d50e9fe46fc440da143b98244470cd4',\n",
       "   'e6075729615442dd946df51916f3964e',\n",
       "   'c0a88dbded0a4630b77afbe34a8f0369',\n",
       "   'f317ae6debd94049817e80270fb2a760',\n",
       "   '6a71ed165aa847bf91ccef8197188e39',\n",
       "   'cdf02e1335f248469512c40bf5d85253',\n",
       "   '568e8b499f75440b92816a8480258fd6',\n",
       "   '8885874bd43b42a6bef6b568435e22cc',\n",
       "   '459cd298144b4e789fd6a0c13ae75c6e',\n",
       "   'b25674f08fbf4023b3da36955a7dcc35',\n",
       "   '38fb1ea608394da780aa17bdfe9540f8',\n",
       "   '4b282375beba476f91470de987f31172',\n",
       "   '3e33506829d74550af1df5992ddc640a',\n",
       "   '4b1b9afe30af48e0b56d613d29d2f640',\n",
       "   'a42f747915f143d9935b5478265162e1',\n",
       "   '93ce7755c7f94c4a954945308a4abafe',\n",
       "   '2a1f0de7b3654f3a8c7beb48da001c12',\n",
       "   'd78e7e824be2444282f519e5f204bc8c',\n",
       "   'b6d25e97929747cfbeb4f845f69f1f68',\n",
       "   'ba87aa9f87f64b9cb4889d316098e6b5',\n",
       "   'f70689de9e6d483cad849889a538ceb3',\n",
       "   'ce9d18e4c5904c328dcb2f456f867ef9',\n",
       "   'a8f8bbd918384a589863351c412ca852',\n",
       "   '90efe1e2a3584568b602c3d88d26488f',\n",
       "   '9434840d836b424ab3005fc767008ceb',\n",
       "   '688d8b107ab24619a9732d7d40787bab',\n",
       "   '84432073ece54eee998003ee8f5dfb08',\n",
       "   '5fb3274e59ef499586ad0c4e6c5f5903',\n",
       "   'fea53f9a89284bb3a02d6dd5d6627816',\n",
       "   '92aa2bdd37044b358c6dbe489d2a2fc9',\n",
       "   'ce8b3b4f3fe0484788cd82ffe5ae01c9',\n",
       "   '950d56008fe04ab09eb8da8055508fea',\n",
       "   '8f07760f9c1f43209cd3872ab827562c',\n",
       "   '3c599ad18bf3415a9a4c672f4c24d001',\n",
       "   'dfbc0b7d9c47414b812e003bdcb17206',\n",
       "   '033dd7b61adf4a88b88f137de04caaa6',\n",
       "   'daa6b13e056d452b9f53501410f53700',\n",
       "   'd32b05e0af8d478db293f5d27d295ff4',\n",
       "   '871941f6b5c0442ca95eed0df929cc12',\n",
       "   '46b1d878eec14251920c4e2be89667a4',\n",
       "   '64a893905378488e97be172fd17af87f',\n",
       "   '02710ccfae5042a181133383a93e629c',\n",
       "   '010cd9a597d94f01b0e383443d3a0bc9',\n",
       "   '19b9ecb77397433fa515b67603476279',\n",
       "   'd0c2141e2ce14d76935d371b411da6cc',\n",
       "   '303864139a8b485b9bb36a6609fd5d84',\n",
       "   '7563f67d92954eaa989a796f76a9bfe8'],\n",
       "  'subject_id': ['rep_53',\n",
       "   'rep_65',\n",
       "   'rep_3',\n",
       "   'rep_85',\n",
       "   'rep_66',\n",
       "   'rep_11',\n",
       "   'rep_80',\n",
       "   'rep_35',\n",
       "   'rep_67',\n",
       "   'rep_17',\n",
       "   'rep_75',\n",
       "   'rep_97',\n",
       "   'rep_48',\n",
       "   'rep_91',\n",
       "   'rep_69',\n",
       "   'rep_38',\n",
       "   'rep_19',\n",
       "   'rep_40',\n",
       "   'rep_21',\n",
       "   'rep_2',\n",
       "   'rep_18',\n",
       "   'rep_6',\n",
       "   'rep_87',\n",
       "   'rep_70',\n",
       "   'rep_0',\n",
       "   'rep_60',\n",
       "   'rep_58',\n",
       "   'rep_83',\n",
       "   'rep_51',\n",
       "   'rep_74',\n",
       "   'rep_45',\n",
       "   'rep_24',\n",
       "   'rep_62',\n",
       "   'rep_37',\n",
       "   'rep_33',\n",
       "   'rep_64',\n",
       "   'rep_68',\n",
       "   'rep_26',\n",
       "   'rep_88',\n",
       "   'rep_81',\n",
       "   'rep_20',\n",
       "   'rep_36',\n",
       "   'rep_47',\n",
       "   'rep_25',\n",
       "   'rep_10',\n",
       "   'rep_72',\n",
       "   'rep_12',\n",
       "   'rep_32',\n",
       "   'rep_92',\n",
       "   'rep_5',\n",
       "   'rep_39',\n",
       "   'rep_49',\n",
       "   'rep_29',\n",
       "   'rep_84',\n",
       "   'rep_61',\n",
       "   'rep_59',\n",
       "   'rep_73',\n",
       "   'rep_9',\n",
       "   'rep_16',\n",
       "   'rep_54',\n",
       "   'rep_27',\n",
       "   'rep_79',\n",
       "   'rep_56',\n",
       "   'rep_22',\n",
       "   'rep_34',\n",
       "   'rep_82',\n",
       "   'rep_28',\n",
       "   'rep_99',\n",
       "   'rep_98',\n",
       "   'rep_76',\n",
       "   'rep_89',\n",
       "   'rep_95',\n",
       "   'rep_44',\n",
       "   'rep_57',\n",
       "   'rep_1',\n",
       "   'rep_4',\n",
       "   'rep_63',\n",
       "   'rep_96',\n",
       "   'rep_46',\n",
       "   'rep_86',\n",
       "   'rep_78',\n",
       "   'rep_7',\n",
       "   'rep_94',\n",
       "   'rep_31',\n",
       "   'rep_90',\n",
       "   'rep_43',\n",
       "   'rep_71',\n",
       "   'rep_15',\n",
       "   'rep_41',\n",
       "   'rep_77',\n",
       "   'rep_13',\n",
       "   'rep_50',\n",
       "   'rep_52',\n",
       "   'rep_93',\n",
       "   'rep_30',\n",
       "   'rep_42',\n",
       "   'rep_8',\n",
       "   'rep_23',\n",
       "   'rep_55',\n",
       "   'rep_14'],\n",
       "  'my_signal': [False, True]},\n",
       " 'metadata_file': WindowsPath('C:/Users/karth/Desktop/PhD projects/immuneML/immuneML/quickstart/machine_learning_analysis/result/machine_learning_instruction/split_1/selection_random/split_1/datasets/train_metadata.csv'),\n",
       " 'metadata_fields': None,\n",
       " 'repertoire_ids': None,\n",
       " 'repertoires': [<immuneML.data_model.repertoire.Repertoire.Repertoire at 0x195402e09d0>,\n",
       "  <immuneML.data_model.repertoire.Repertoire.Repertoire at 0x195402e0940>,\n",
       "  <immuneML.data_model.repertoire.Repertoire.Repertoire at 0x195402e0580>,\n",
       "  <immuneML.data_model.repertoire.Repertoire.Repertoire at 0x195402e0cd0>,\n",
       "  <immuneML.data_model.repertoire.Repertoire.Repertoire at 0x195402e0e50>,\n",
       "  <immuneML.data_model.repertoire.Repertoire.Repertoire at 0x19527fcd400>,\n",
       "  <immuneML.data_model.repertoire.Repertoire.Repertoire at 0x19527fedee0>,\n",
       "  <immuneML.data_model.repertoire.Repertoire.Repertoire at 0x195413d9af0>,\n",
       "  <immuneML.data_model.repertoire.Repertoire.Repertoire at 0x195413d9820>,\n",
       "  <immuneML.data_model.repertoire.Repertoire.Repertoire at 0x195413d9460>,\n",
       "  <immuneML.data_model.repertoire.Repertoire.Repertoire at 0x195413d9c40>,\n",
       "  <immuneML.data_model.repertoire.Repertoire.Repertoire at 0x195413d9220>,\n",
       "  <immuneML.data_model.repertoire.Repertoire.Repertoire at 0x195413d9e50>,\n",
       "  <immuneML.data_model.repertoire.Repertoire.Repertoire at 0x195413d9ac0>,\n",
       "  <immuneML.data_model.repertoire.Repertoire.Repertoire at 0x195413d9490>,\n",
       "  <immuneML.data_model.repertoire.Repertoire.Repertoire at 0x195413d9880>,\n",
       "  <immuneML.data_model.repertoire.Repertoire.Repertoire at 0x195413d9f10>,\n",
       "  <immuneML.data_model.repertoire.Repertoire.Repertoire at 0x195413d9670>,\n",
       "  <immuneML.data_model.repertoire.Repertoire.Repertoire at 0x195413d9400>,\n",
       "  <immuneML.data_model.repertoire.Repertoire.Repertoire at 0x195413d9040>,\n",
       "  <immuneML.data_model.repertoire.Repertoire.Repertoire at 0x195413d9d30>,\n",
       "  <immuneML.data_model.repertoire.Repertoire.Repertoire at 0x195413d99a0>,\n",
       "  <immuneML.data_model.repertoire.Repertoire.Repertoire at 0x195413d9fa0>,\n",
       "  <immuneML.data_model.repertoire.Repertoire.Repertoire at 0x195413d9a90>,\n",
       "  <immuneML.data_model.repertoire.Repertoire.Repertoire at 0x195413d9130>,\n",
       "  <immuneML.data_model.repertoire.Repertoire.Repertoire at 0x195413d9f40>,\n",
       "  <immuneML.data_model.repertoire.Repertoire.Repertoire at 0x195413d9cd0>,\n",
       "  <immuneML.data_model.repertoire.Repertoire.Repertoire at 0x195413d9910>,\n",
       "  <immuneML.data_model.repertoire.Repertoire.Repertoire at 0x195413d9730>,\n",
       "  <immuneML.data_model.repertoire.Repertoire.Repertoire at 0x195413d90d0>,\n",
       "  <immuneML.data_model.repertoire.Repertoire.Repertoire at 0x195413d99d0>,\n",
       "  <immuneML.data_model.repertoire.Repertoire.Repertoire at 0x195413d84f0>,\n",
       "  <immuneML.data_model.repertoire.Repertoire.Repertoire at 0x195413d8df0>,\n",
       "  <immuneML.data_model.repertoire.Repertoire.Repertoire at 0x195413d8280>,\n",
       "  <immuneML.data_model.repertoire.Repertoire.Repertoire at 0x195413d8fa0>,\n",
       "  <immuneML.data_model.repertoire.Repertoire.Repertoire at 0x195413d80a0>,\n",
       "  <immuneML.data_model.repertoire.Repertoire.Repertoire at 0x195413d8610>,\n",
       "  <immuneML.data_model.repertoire.Repertoire.Repertoire at 0x195413d8730>,\n",
       "  <immuneML.data_model.repertoire.Repertoire.Repertoire at 0x195413d8c40>,\n",
       "  <immuneML.data_model.repertoire.Repertoire.Repertoire at 0x195413d8d60>,\n",
       "  <immuneML.data_model.repertoire.Repertoire.Repertoire at 0x195413d8460>,\n",
       "  <immuneML.data_model.repertoire.Repertoire.Repertoire at 0x195413d8af0>,\n",
       "  <immuneML.data_model.repertoire.Repertoire.Repertoire at 0x195413d8ca0>,\n",
       "  <immuneML.data_model.repertoire.Repertoire.Repertoire at 0x195413d8cd0>,\n",
       "  <immuneML.data_model.repertoire.Repertoire.Repertoire at 0x195413d8370>,\n",
       "  <immuneML.data_model.repertoire.Repertoire.Repertoire at 0x195413d83a0>,\n",
       "  <immuneML.data_model.repertoire.Repertoire.Repertoire at 0x195413d8b80>,\n",
       "  <immuneML.data_model.repertoire.Repertoire.Repertoire at 0x195402e0310>,\n",
       "  <immuneML.data_model.repertoire.Repertoire.Repertoire at 0x195402e0bb0>]}"
      ]
     },
     "execution_count": 247,
     "metadata": {},
     "output_type": "execute_result"
    }
   ],
   "source": [
    "train_datasets[0].__dict__"
   ]
  },
  {
   "cell_type": "code",
   "execution_count": null,
   "metadata": {},
   "outputs": [],
   "source": [
    "n_labels = state.label_configuration.get_label_count()"
   ]
  },
  {
   "cell_type": "code",
   "execution_count": null,
   "metadata": {},
   "outputs": [
    {
     "data": {
      "text/plain": [
       "1"
      ]
     },
     "execution_count": 260,
     "metadata": {},
     "output_type": "execute_result"
    }
   ],
   "source": [
    "n_labels"
   ]
  },
  {
   "cell_type": "code",
   "execution_count": null,
   "metadata": {},
   "outputs": [
    {
     "data": {
      "text/plain": [
       "0"
      ]
     },
     "execution_count": 256,
     "metadata": {},
     "output_type": "execute_result"
    }
   ],
   "source": [
    "index"
   ]
  },
  {
   "cell_type": "code",
   "execution_count": null,
   "metadata": {},
   "outputs": [
    {
     "data": {
      "text/plain": [
       "'my_signal'"
      ]
     },
     "execution_count": 264,
     "metadata": {},
     "output_type": "execute_result"
    }
   ],
   "source": [
    "label_config.get_label_object(\"my_signal\").name"
   ]
  },
  {
   "cell_type": "code",
   "execution_count": null,
   "metadata": {},
   "outputs": [],
   "source": [
    "from immuneML.hyperparameter_optimization.states.HPSelectionState import HPSelectionState\n"
   ]
  },
  {
   "cell_type": "code",
   "execution_count": null,
   "metadata": {},
   "outputs": [],
   "source": [
    "selection_state = HPSelectionState(train_datasets, val_datasets , path , state.hp_strategy)"
   ]
  },
  {
   "cell_type": "code",
   "execution_count": null,
   "metadata": {},
   "outputs": [
    {
     "data": {
      "text/plain": [
       "{'train_datasets': [<immuneML.data_model.dataset.RepertoireDataset.RepertoireDataset at 0x1953fb5f7f0>],\n",
       " 'val_datasets': [<immuneML.data_model.dataset.RepertoireDataset.RepertoireDataset at 0x1954027b670>],\n",
       " 'path': WindowsPath('C:/Users/karth/Desktop/PhD projects/immuneML/immuneML/quickstart/machine_learning_analysis/result/machine_learning_instruction/slection_random'),\n",
       " 'hp_strategy': <immuneML.hyperparameter_optimization.strategy.GridSearch.GridSearch at 0x1953fd9c700>,\n",
       " 'hp_items': {'e1_simpleLR': [], 'e2_simpleLR': []},\n",
       " 'train_data_reports': [],\n",
       " 'val_data_reports': [],\n",
       " 'data_reports': []}"
      ]
     },
     "execution_count": 268,
     "metadata": {},
     "output_type": "execute_result"
    }
   ],
   "source": [
    "selection_state.__dict__"
   ]
  },
  {
   "cell_type": "code",
   "execution_count": null,
   "metadata": {},
   "outputs": [],
   "source": [
    "state.assessment_states[index].label_states[label_config.get_label_object(\n",
    "    \"my_signal\").name].selection_state = selection_state\n"
   ]
  },
  {
   "cell_type": "code",
   "execution_count": null,
   "metadata": {},
   "outputs": [
    {
     "data": {
      "text/plain": [
       "TrainMLModelState(dataset=<immuneML.data_model.dataset.RepertoireDataset.RepertoireDataset object at 0x0000019527DA19D0>, hp_strategy=<immuneML.hyperparameter_optimization.strategy.GridSearch.GridSearch object at 0x0000019527E05E50>, hp_settings=[<immuneML.hyperparameter_optimization.HPSetting.HPSetting object at 0x0000019524A40E20>, <immuneML.hyperparameter_optimization.HPSetting.HPSetting object at 0x0000019525897AC0>], assessment=<immuneML.hyperparameter_optimization.config.SplitConfig.SplitConfig object at 0x0000019527E05BB0>, selection=<immuneML.hyperparameter_optimization.config.SplitConfig.SplitConfig object at 0x0000019527E058E0>, metrics={<Metric.BALANCED_ACCURACY: 'balanced_accuracy_score'>, <Metric.ACCURACY: 'accuracy_score'>}, optimization_metric=<Metric.BALANCED_ACCURACY: 'balanced_accuracy_score'>, label_configuration=<immuneML.environment.LabelConfiguration.LabelConfiguration object at 0x00000195258978E0>, path=WindowsPath('C:/Users/karth/Desktop/PhD projects/immuneML/immuneML/quickstart/machine_learning_analysis/result/machine_learning_instruction'), context={'dataset': <immuneML.data_model.dataset.RepertoireDataset.RepertoireDataset object at 0x0000019527DA19D0>}, number_of_processes=3, reports={'hprep': <immuneML.reports.train_ml_model_reports.MLSettingsPerformance.MLSettingsPerformance object at 0x0000019524FC6FA0>}, name='machine_learning_instruction', refit_optimal_model=False, optimal_hp_items={}, optimal_hp_item_paths={}, assessment_states=[<immuneML.hyperparameter_optimization.states.HPAssessmentState.HPAssessmentState object at 0x00000195303B3580>], report_results=[])"
      ]
     },
     "execution_count": 270,
     "metadata": {},
     "output_type": "execute_result"
    }
   ],
   "source": [
    "state"
   ]
  },
  {
   "cell_type": "code",
   "execution_count": null,
   "metadata": {},
   "outputs": [],
   "source": [
    "split_index = index + 1"
   ]
  },
  {
   "cell_type": "code",
   "execution_count": null,
   "metadata": {},
   "outputs": [],
   "source": [
    "from immuneML.workflows.instructions.MLProcess import MLProcess\n"
   ]
  },
  {
   "cell_type": "code",
   "execution_count": null,
   "metadata": {},
   "outputs": [],
   "source": [
    "hp_setting = selection_state.hp_strategy.generate_next_setting()"
   ]
  },
  {
   "cell_type": "code",
   "execution_count": null,
   "metadata": {},
   "outputs": [
    {
     "data": {
      "text/plain": [
       "<immuneML.hyperparameter_optimization.HPSetting.HPSetting at 0x1954028bf40>"
      ]
     },
     "execution_count": 288,
     "metadata": {},
     "output_type": "execute_result"
    }
   ],
   "source": [
    "hp_setting"
   ]
  },
  {
   "cell_type": "code",
   "execution_count": null,
   "metadata": {},
   "outputs": [
    {
     "name": "stdout",
     "output_type": "stream",
     "text": [
      "2022-05-24 06:03:53.440487: Evaluating hyperparameter setting: e1_simpleLR...\n",
      "2022-05-24 06:03:53.450484: Encoding started...\n",
      "2022-05-24 06:03:53.513482: Encoding finished.\n",
      "2022-05-24 06:03:53.513482: ML model training started...\n",
      "2022-05-24 06:03:54.653781: ML model training finished.\n",
      "2022-05-24 06:03:54.657967: Encoding started...\n",
      "2022-05-24 06:03:54.678778: Encoding finished.\n",
      "2022-05-24 06:03:54.692777: Completed hyperparameter setting e1_simpleLR.\n",
      "\n"
     ]
    }
   ],
   "source": [
    "hp_item = MLProcess(train_dataset=train_datasets[0], test_dataset=val_datasets[0], encoding_reports=state.selection.reports.encoding_reports.values(), label_config=LabelConfiguration([label]), report_context=state.context,\n",
    "                    number_of_processes=state.number_of_processes, metrics=state.metrics, optimization_metric=state.optimization_metric,\n",
    "                    ml_reports=state.selection.reports.model_reports.values(), label=label, path=path, hp_setting=hp_setting)\\\n",
    "    .run(split_index)\n"
   ]
  },
  {
   "cell_type": "code",
   "execution_count": null,
   "metadata": {},
   "outputs": [],
   "source": [
    "state.assessment_states[index].label_states[label_config.get_label_object(\n",
    "    \"my_signal\").name].selection_state.hp_items[hp_setting.get_key(\n",
    ")].append(hp_item)\n"
   ]
  },
  {
   "cell_type": "code",
   "execution_count": null,
   "metadata": {},
   "outputs": [],
   "source": [
    "performance = hp_item.performance[state.optimization_metric.name.lower(\n",
    ")] if hp_item.performance is not None else None\n"
   ]
  },
  {
   "cell_type": "code",
   "execution_count": null,
   "metadata": {},
   "outputs": [],
   "source": []
  },
  {
   "cell_type": "code",
   "execution_count": null,
   "metadata": {},
   "outputs": [
    {
     "ename": "NameError",
     "evalue": "name 'performance' is not defined",
     "output_type": "error",
     "traceback": [
      "\u001b[1;31m---------------------------------------------------------------------------\u001b[0m",
      "\u001b[1;31mNameError\u001b[0m                                 Traceback (most recent call last)",
      "\u001b[1;32mc:\\Users\\karth\\Desktop\\PhD projects\\immuneML\\dev_immuneML\\immuneML\\Notebook\\quickstart_with_state.ipynb Cell 136'\u001b[0m in \u001b[0;36m<cell line: 1>\u001b[1;34m()\u001b[0m\n\u001b[1;32m----> <a href='vscode-notebook-cell:/c%3A/Users/karth/Desktop/PhD%20projects/immuneML/dev_immuneML/immuneML/Notebook/quickstart_with_state.ipynb#ch0000135?line=0'>1</a>\u001b[0m performance\n",
      "\u001b[1;31mNameError\u001b[0m: name 'performance' is not defined"
     ]
    }
   ],
   "source": [
    "performance"
   ]
  },
  {
   "cell_type": "markdown",
   "metadata": {},
   "source": [
    "<h3> Load Npy files into paraquet format"
   ]
  },
  {
   "cell_type": "code",
   "execution_count": null,
   "metadata": {},
   "outputs": [
    {
     "ename": "AttributeError",
     "evalue": "'RepertoireDataset' object has no attribute 'get_'",
     "output_type": "error",
     "traceback": [
      "\u001b[1;31m---------------------------------------------------------------------------\u001b[0m",
      "\u001b[1;31mAttributeError\u001b[0m                            Traceback (most recent call last)",
      "\u001b[1;32mc:\\Users\\karth\\Desktop\\PhD projects\\immuneML\\dev_immuneML\\immuneML\\Notebook\\quickstart_with_state.ipynb Cell 116'\u001b[0m in \u001b[0;36m<cell line: 1>\u001b[1;34m()\u001b[0m\n\u001b[1;32m----> <a href='vscode-notebook-cell:/c%3A/Users/karth/Desktop/PhD%20projects/immuneML/dev_immuneML/immuneML/Notebook/quickstart_with_state.ipynb#ch0000073?line=0'>1</a>\u001b[0m train_datasets[\u001b[39m0\u001b[39;49m]\u001b[39m.\u001b[39;49mget_\n",
      "\u001b[1;31mAttributeError\u001b[0m: 'RepertoireDataset' object has no attribute 'get_'"
     ]
    }
   ],
   "source": []
  },
  {
   "cell_type": "code",
   "execution_count": null,
   "metadata": {},
   "outputs": [],
   "source": []
  },
  {
   "cell_type": "markdown",
   "metadata": {},
   "source": [
    "<h3> Load Npy files into h5py format"
   ]
  },
  {
   "cell_type": "code",
   "execution_count": null,
   "metadata": {},
   "outputs": [],
   "source": []
  },
  {
   "cell_type": "markdown",
   "metadata": {},
   "source": [
    "<h3> Split data into train and test"
   ]
  },
  {
   "cell_type": "code",
   "execution_count": null,
   "metadata": {},
   "outputs": [],
   "source": []
  },
  {
   "cell_type": "code",
   "execution_count": null,
   "metadata": {},
   "outputs": [],
   "source": []
  },
  {
   "cell_type": "markdown",
   "metadata": {},
   "source": [
    "<h3> Distributed Grid search using joblib"
   ]
  },
  {
   "cell_type": "code",
   "execution_count": null,
   "metadata": {},
   "outputs": [
    {
     "name": "stderr",
     "output_type": "stream",
     "text": [
      "c:\\Users\\karth\\anaconda3\\envs\\test\\lib\\site-packages\\distributed\\node.py:180: UserWarning: Port 8787 is already in use.\n",
      "Perhaps you already have a cluster running?\n",
      "Hosting the HTTP server on port 64643 instead\n",
      "  warnings.warn(\n"
     ]
    }
   ],
   "source": [
    "import joblib\n",
    "\n",
    "import dask.distributed\n",
    "\n",
    "c = dask.distributed.Client()"
   ]
  },
  {
   "cell_type": "code",
   "execution_count": null,
   "metadata": {},
   "outputs": [],
   "source": []
  },
  {
   "cell_type": "markdown",
   "metadata": {},
   "source": [
    "<h3> Distributed training using joblib"
   ]
  },
  {
   "cell_type": "code",
   "execution_count": null,
   "metadata": {},
   "outputs": [],
   "source": []
  },
  {
   "cell_type": "code",
   "execution_count": null,
   "metadata": {},
   "outputs": [],
   "source": []
  },
  {
   "cell_type": "code",
   "execution_count": null,
   "metadata": {},
   "outputs": [],
   "source": []
  },
  {
   "cell_type": "markdown",
   "metadata": {},
   "source": [
    "<h3> Testing "
   ]
  },
  {
   "cell_type": "markdown",
   "metadata": {},
   "source": []
  },
  {
   "cell_type": "code",
   "execution_count": null,
   "metadata": {},
   "outputs": [],
   "source": [
    "import os\n",
    "import shutil\n",
    "from unittest import TestCase\n",
    "\n",
    "import pandas as pd\n",
    "\n",
    "from immuneML.analysis.data_manipulation.NormalizationType import NormalizationType\n",
    "from immuneML.caching.CacheType import CacheType\n",
    "from immuneML.encodings.EncoderParams import EncoderParams\n",
    "from immuneML.encodings.kmer_frequency.KmerFreqRepertoireEncoder import KmerFreqRepertoireEncoder\n",
    "from immuneML.util.ReadsType import ReadsType\n",
    "from immuneML.encodings.kmer_frequency.sequence_encoding.SequenceEncodingType import SequenceEncodingType\n",
    "from immuneML.environment.Constants import Constants\n",
    "from immuneML.environment.EnvironmentSettings import EnvironmentSettings\n",
    "from immuneML.environment.Label import Label\n",
    "from immuneML.environment.LabelConfiguration import LabelConfiguration\n",
    "from immuneML.hyperparameter_optimization.HPSetting import HPSetting\n",
    "from immuneML.ml_methods.LogisticRegression import LogisticRegression\n",
    "from immuneML.simulation.dataset_generation.RandomDatasetGenerator import RandomDatasetGenerator\n",
    "from immuneML.util.PathBuilder import PathBuilder\n",
    "from immuneML.workflows.instructions.ml_model_application.MLApplicationInstruction import MLApplicationInstruction\n",
    "\n",
    "\n",
    "\n",
    "\n",
    "def setUp():\n",
    "    os.environ[Constants.CACHE_TYPE] = CacheType.TEST.name\n",
    "\n",
    "\n",
    "\n",
    "  \n",
    "        \n"
   ]
  },
  {
   "cell_type": "code",
   "execution_count": null,
   "metadata": {},
   "outputs": [
    {
     "data": {
      "text/plain": [
       "WindowsPath('C:/Users/karth/Desktop/PhD projects/immuneML/immuneML/test/tmp/mlapplicationtest')"
      ]
     },
     "execution_count": 149,
     "metadata": {},
     "output_type": "execute_result"
    }
   ],
   "source": [
    "path = EnvironmentSettings.tmp_test_path / \"mlapplicationtest/\"\n",
    "PathBuilder.build(path)\n",
    "\n",
    "path"
   ]
  },
  {
   "cell_type": "code",
   "execution_count": null,
   "metadata": {},
   "outputs": [],
   "source": [
    "\n",
    "dataset = RandomDatasetGenerator.generate_repertoire_dataset(\n",
    "    50, {5: 1}, {5: 1}, {\"l1\": {1: 0.5, 2: 0.5}}, path / 'dataset/')\n"
   ]
  },
  {
   "cell_type": "code",
   "execution_count": null,
   "metadata": {},
   "outputs": [],
   "source": [
    "ml_method = LogisticRegression()\n"
   ]
  },
  {
   "cell_type": "code",
   "execution_count": null,
   "metadata": {},
   "outputs": [],
   "source": [
    "encoder = KmerFreqRepertoireEncoder(NormalizationType.RELATIVE_FREQUENCY, ReadsType.UNIQUE, SequenceEncodingType.CONTINUOUS_KMER, 3,\n",
    "                                    scale_to_zero_mean=True, scale_to_unit_variance=True)"
   ]
  },
  {
   "cell_type": "code",
   "execution_count": null,
   "metadata": {},
   "outputs": [],
   "source": [
    "label = Label(\"l1\", [1, 2])\n",
    "label_config = LabelConfiguration([label])"
   ]
  },
  {
   "cell_type": "code",
   "execution_count": null,
   "metadata": {},
   "outputs": [
    {
     "name": "stderr",
     "output_type": "stream",
     "text": [
      "c:\\Users\\karth\\anaconda3\\envs\\test\\lib\\site-packages\\sklearn\\utils\\validation.py:593: FutureWarning: np.matrix usage is deprecated in 1.0 and will raise a TypeError in 1.2. Please convert to a numpy array with np.asarray. For more information see: https://numpy.org/doc/stable/reference/generated/numpy.matrix.html\n",
      "  warnings.warn(\n",
      "c:\\Users\\karth\\anaconda3\\envs\\test\\lib\\site-packages\\sklearn\\utils\\validation.py:593: FutureWarning: np.matrix usage is deprecated in 1.0 and will raise a TypeError in 1.2. Please convert to a numpy array with np.asarray. For more information see: https://numpy.org/doc/stable/reference/generated/numpy.matrix.html\n",
      "  warnings.warn(\n"
     ]
    }
   ],
   "source": [
    "enc_dataset = encoder.encode(dataset, EncoderParams(\n",
    "    result_path=path, label_config=label_config, filename=\"tmp_enc_dataset.pickle\", pool_size=4))"
   ]
  },
  {
   "cell_type": "code",
   "execution_count": null,
   "metadata": {},
   "outputs": [
    {
     "data": {
      "text/plain": [
       "WindowsPath('C:/Users/karth/Desktop/PhD projects/immuneML/immuneML/test/tmp/mlapplicationtest/dataset/metadata.csv')"
      ]
     },
     "execution_count": 164,
     "metadata": {},
     "output_type": "execute_result"
    }
   ],
   "source": [
    "enc_dataset.metadata_file"
   ]
  },
  {
   "cell_type": "code",
   "execution_count": null,
   "metadata": {},
   "outputs": [
    {
     "data": {
      "text/plain": [
       "[1, 2]"
      ]
     },
     "execution_count": 170,
     "metadata": {},
     "output_type": "execute_result"
    }
   ],
   "source": [
    "label.values"
   ]
  },
  {
   "cell_type": "code",
   "execution_count": null,
   "metadata": {},
   "outputs": [
    {
     "data": {
      "text/plain": [
       "array([[-0.14285714, -0.14285714, -0.14285714, ..., -0.14285714,\n",
       "        -0.14285714, -0.14285714],\n",
       "       [-0.14285714, -0.14285714, -0.14285714, ..., -0.14285714,\n",
       "        -0.14285714, -0.14285714],\n",
       "       [-0.14285714, -0.14285714, -0.14285714, ..., -0.14285714,\n",
       "        -0.14285714, -0.14285714],\n",
       "       ...,\n",
       "       [-0.14285714, -0.14285714, -0.14285714, ..., -0.14285714,\n",
       "        -0.14285714, -0.14285714],\n",
       "       [-0.14285714, -0.14285714, -0.14285714, ..., -0.14285714,\n",
       "        -0.14285714, -0.14285714],\n",
       "       [-0.14285714, -0.14285714, -0.14285714, ..., -0.14285714,\n",
       "        -0.14285714, -0.14285714]])"
      ]
     },
     "execution_count": 168,
     "metadata": {},
     "output_type": "execute_result"
    }
   ],
   "source": [
    "enc_dataset.encoded_data.examples"
   ]
  },
  {
   "cell_type": "code",
   "execution_count": null,
   "metadata": {},
   "outputs": [],
   "source": [
    "ml_method.fit(enc_dataset.encoded_data, label)\n"
   ]
  },
  {
   "cell_type": "code",
   "execution_count": null,
   "metadata": {},
   "outputs": [],
   "source": [
    "\n",
    "hp_setting = HPSetting(encoder, {\"normalization_type\": \"relative_frequency\", \"reads\": \"unique\", \"sequence_encoding\": \"continuous_kmer\",\n",
    "                                 \"k\": 3, \"scale_to_zero_mean\": True, \"scale_to_unit_variance\": True}, ml_method, {}, [], 'enc1', 'ml1')\n"
   ]
  },
  {
   "cell_type": "code",
   "execution_count": null,
   "metadata": {},
   "outputs": [],
   "source": [
    "\n",
    "PathBuilder.build(path / 'result/instr1/')\n",
    "\n",
    "ml_app = MLApplicationInstruction(\n",
    "    dataset, label_config, hp_setting, 4, \"instr1\")\n",
    "ml_app.run(path / 'result/')\n",
    "\n",
    "predictions_path = path / \"result/instr1/predictions.csv\"\n",
    "df = pd.read_csv(predictions_path)\n",
    "\n",
    "shutil.rmtree(path)\n"
   ]
  },
  {
   "cell_type": "code",
   "execution_count": null,
   "metadata": {},
   "outputs": [],
   "source": []
  }
 ],
 "metadata": {
  "interpreter": {
   "hash": "a64f21293159cd9c4e596ef7fd6c17a9c99d13712885c299cb3370e7a4d97830"
  },
  "kernelspec": {
   "display_name": "Python 3.8.12 ('test')",
   "language": "python",
   "name": "python3"
  },
  "language_info": {
   "codemirror_mode": {
    "name": "ipython",
    "version": 3
   },
   "file_extension": ".py",
   "mimetype": "text/x-python",
   "name": "python",
   "nbconvert_exporter": "python",
   "pygments_lexer": "ipython3",
   "version": "3.8.12"
  },
  "orig_nbformat": 4
 },
 "nbformat": 4,
 "nbformat_minor": 2
}
