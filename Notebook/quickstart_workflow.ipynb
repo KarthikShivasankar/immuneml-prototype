{
 "cells": [
  {
   "cell_type": "code",
   "execution_count": 24,
   "metadata": {},
   "outputs": [],
   "source": [
    "from immuneML.data_model.dataset.ReceptorDataset import ReceptorDataset\n",
    "from immuneML.data_model.dataset.RepertoireDataset import RepertoireDataset\n",
    "from immuneML.data_model.dataset.SequenceDataset import SequenceDataset\n",
    "from immuneML.environment.EnvironmentSettings import EnvironmentSettings\n",
    "from immuneML.simulation.dataset_generation.RandomDatasetGenerator import RandomDatasetGenerator\n"
   ]
  },
  {
   "cell_type": "code",
   "execution_count": 25,
   "metadata": {},
   "outputs": [],
   "source": [
    "path = EnvironmentSettings.tmp_test_path / \\\n",
    "    \"random_repertoire1_dataset_generation/\"\n"
   ]
  },
  {
   "cell_type": "code",
   "execution_count": null,
   "metadata": {},
   "outputs": [],
   "source": [
    "definitions:\n",
    "  datasets:\n",
    "    my_synthetic_dataset:\n",
    "      format: RandomRepertoireDataset\n",
    "      params:\n",
    "        labels: {}\n",
    "  motifs:\n",
    "    my_motif:\n",
    "      instantiation: GappedKmer\n",
    "      seed: AA\n",
    "  signals:\n",
    "    my_signal:\n",
    "      implanting: HealthySequence\n",
    "      motifs:\n",
    "      - my_motif\n",
    "  simulations:\n",
    "    my_simulation:\n",
    "      my_implantng:\n",
    "        dataset_implanting_rate: 0.5\n",
    "        repertoire_implanting_rate: 0.1\n",
    "        signals:\n",
    "        - my_signal\n",
    "instructions:\n",
    "  simulation_instruction:\n",
    "    dataset: my_synthetic_dataset\n",
    "    export_formats:\n",
    "    - AIRR\n",
    "    simulation: my_simulation\n",
    "    type: Simulation\n"
   ]
  },
  {
   "cell_type": "code",
   "execution_count": 26,
   "metadata": {},
   "outputs": [
    {
     "data": {
      "text/plain": [
       "WindowsPath('C:/Users/karth/Desktop/PhD projects/immuneML/immuneML/test/tmp/random_repertoire1_dataset_generation')"
      ]
     },
     "execution_count": 26,
     "metadata": {},
     "output_type": "execute_result"
    }
   ],
   "source": [
    "path"
   ]
  },
  {
   "cell_type": "code",
   "execution_count": 27,
   "metadata": {},
   "outputs": [],
   "source": [
    "dataset = RandomDatasetGenerator.generate_repertoire_dataset(repertoire_count=100,\n",
    "                                                             sequence_count_probabilities={\n",
    "                                                                 100: 0.5, 120: 0.5},\n",
    "                                                             sequence_length_probabilities={12: 0.33, 14: 0.33, 15: 0.33}, labels={}, path=path)\n"
   ]
  },
  {
   "cell_type": "code",
   "execution_count": 28,
   "metadata": {},
   "outputs": [
    {
     "data": {
      "text/plain": [
       "WindowsPath('C:/Users/karth/Desktop/PhD projects/immuneML/immuneML/test/tmp/random_repertoire1_dataset_generation')"
      ]
     },
     "execution_count": 28,
     "metadata": {},
     "output_type": "execute_result"
    }
   ],
   "source": [
    "path"
   ]
  },
  {
   "cell_type": "code",
   "execution_count": 29,
   "metadata": {},
   "outputs": [],
   "source": [
    "from immuneML.workflows.steps.SignalImplanter import SignalImplanter\n",
    "from immuneML.simulation.SimulationState import SimulationState\n",
    "from immuneML.simulation.Implanting import Implanting\n",
    "from immuneML.simulation.Simulation import Simulation\n",
    "\n",
    "from immuneML.simulation.implants.Motif import Motif\n",
    "from immuneML.simulation.implants.Signal import Signal\n",
    "from immuneML.simulation.motif_instantiation_strategy.GappedKmerInstantiation import GappedKmerInstantiation\n",
    "from immuneML.simulation.sequence_implanting.GappedMotifImplanting import GappedMotifImplanting\n",
    "from immuneML.simulation.signal_implanting_strategy.HealthySequenceImplanting import HealthySequenceImplanting\n",
    "from immuneML.simulation.signal_implanting_strategy.ImplantingComputation import ImplantingComputation\n"
   ]
  },
  {
   "cell_type": "code",
   "execution_count": 30,
   "metadata": {},
   "outputs": [],
   "source": [
    "result_path = path / \"simulation_data\"\n"
   ]
  },
  {
   "cell_type": "code",
   "execution_count": 31,
   "metadata": {},
   "outputs": [],
   "source": [
    "signal = Signal(\"my_signal\", [Motif(\n",
    "    \"my_motif\", GappedKmerInstantiation(), \"AA\")],   implanting_strategy=HealthySequenceImplanting(GappedMotifImplanting(), implanting_computation=ImplantingComputation.ROUND))\n"
   ]
  },
  {
   "cell_type": "code",
   "execution_count": 32,
   "metadata": {},
   "outputs": [],
   "source": [
    "simulation = Simulation([Implanting(dataset_implanting_rate=0.5,\n",
    "                        repertoire_implanting_rate=0.1, signals=[signal], name=\"my_simulation\")])\n"
   ]
  },
  {
   "cell_type": "code",
   "execution_count": 33,
   "metadata": {},
   "outputs": [],
   "source": [
    "input_params = SimulationState(dataset=dataset, result_path=result_path,\n",
    "                               simulation=simulation, signals=[signal], formats=[\"AIRR\"])\n"
   ]
  },
  {
   "cell_type": "code",
   "execution_count": 34,
   "metadata": {},
   "outputs": [
    {
     "name": "stderr",
     "output_type": "stream",
     "text": [
      "WARNING:root:Position weights are not defined. Randomly choosing position to implant motif_instance instead.\n",
      "WARNING:root:Position weights are not defined. Randomly choosing position to implant motif_instance instead.\n",
      "WARNING:root:Position weights are not defined. Randomly choosing position to implant motif_instance instead.\n",
      "WARNING:root:Position weights are not defined. Randomly choosing position to implant motif_instance instead.\n",
      "WARNING:root:Position weights are not defined. Randomly choosing position to implant motif_instance instead.\n",
      "WARNING:root:Position weights are not defined. Randomly choosing position to implant motif_instance instead.\n",
      "WARNING:root:Position weights are not defined. Randomly choosing position to implant motif_instance instead.\n",
      "WARNING:root:Position weights are not defined. Randomly choosing position to implant motif_instance instead.\n",
      "WARNING:root:Position weights are not defined. Randomly choosing position to implant motif_instance instead.\n",
      "WARNING:root:Position weights are not defined. Randomly choosing position to implant motif_instance instead.\n",
      "WARNING:root:Position weights are not defined. Randomly choosing position to implant motif_instance instead.\n",
      "WARNING:root:Position weights are not defined. Randomly choosing position to implant motif_instance instead.\n",
      "WARNING:root:Position weights are not defined. Randomly choosing position to implant motif_instance instead.\n",
      "WARNING:root:Position weights are not defined. Randomly choosing position to implant motif_instance instead.\n",
      "WARNING:root:Position weights are not defined. Randomly choosing position to implant motif_instance instead.\n",
      "WARNING:root:Position weights are not defined. Randomly choosing position to implant motif_instance instead.\n",
      "WARNING:root:Position weights are not defined. Randomly choosing position to implant motif_instance instead.\n",
      "WARNING:root:Position weights are not defined. Randomly choosing position to implant motif_instance instead.\n",
      "WARNING:root:Position weights are not defined. Randomly choosing position to implant motif_instance instead.\n",
      "WARNING:root:Position weights are not defined. Randomly choosing position to implant motif_instance instead.\n",
      "WARNING:root:Position weights are not defined. Randomly choosing position to implant motif_instance instead.\n",
      "WARNING:root:Position weights are not defined. Randomly choosing position to implant motif_instance instead.\n",
      "WARNING:root:Position weights are not defined. Randomly choosing position to implant motif_instance instead.\n",
      "WARNING:root:Position weights are not defined. Randomly choosing position to implant motif_instance instead.\n",
      "WARNING:root:Position weights are not defined. Randomly choosing position to implant motif_instance instead.\n",
      "WARNING:root:Position weights are not defined. Randomly choosing position to implant motif_instance instead.\n",
      "WARNING:root:Position weights are not defined. Randomly choosing position to implant motif_instance instead.\n",
      "WARNING:root:Position weights are not defined. Randomly choosing position to implant motif_instance instead.\n",
      "WARNING:root:Position weights are not defined. Randomly choosing position to implant motif_instance instead.\n",
      "WARNING:root:Position weights are not defined. Randomly choosing position to implant motif_instance instead.\n",
      "WARNING:root:Position weights are not defined. Randomly choosing position to implant motif_instance instead.\n",
      "WARNING:root:Position weights are not defined. Randomly choosing position to implant motif_instance instead.\n",
      "WARNING:root:Position weights are not defined. Randomly choosing position to implant motif_instance instead.\n",
      "WARNING:root:Position weights are not defined. Randomly choosing position to implant motif_instance instead.\n",
      "WARNING:root:Position weights are not defined. Randomly choosing position to implant motif_instance instead.\n",
      "WARNING:root:Position weights are not defined. Randomly choosing position to implant motif_instance instead.\n",
      "WARNING:root:Position weights are not defined. Randomly choosing position to implant motif_instance instead.\n",
      "WARNING:root:Position weights are not defined. Randomly choosing position to implant motif_instance instead.\n",
      "WARNING:root:Position weights are not defined. Randomly choosing position to implant motif_instance instead.\n",
      "WARNING:root:Position weights are not defined. Randomly choosing position to implant motif_instance instead.\n",
      "WARNING:root:Position weights are not defined. Randomly choosing position to implant motif_instance instead.\n",
      "WARNING:root:Position weights are not defined. Randomly choosing position to implant motif_instance instead.\n",
      "WARNING:root:Position weights are not defined. Randomly choosing position to implant motif_instance instead.\n",
      "WARNING:root:Position weights are not defined. Randomly choosing position to implant motif_instance instead.\n",
      "WARNING:root:Position weights are not defined. Randomly choosing position to implant motif_instance instead.\n",
      "WARNING:root:Position weights are not defined. Randomly choosing position to implant motif_instance instead.\n",
      "WARNING:root:Position weights are not defined. Randomly choosing position to implant motif_instance instead.\n",
      "WARNING:root:Position weights are not defined. Randomly choosing position to implant motif_instance instead.\n",
      "WARNING:root:Position weights are not defined. Randomly choosing position to implant motif_instance instead.\n",
      "WARNING:root:Position weights are not defined. Randomly choosing position to implant motif_instance instead.\n",
      "WARNING:root:Position weights are not defined. Randomly choosing position to implant motif_instance instead.\n",
      "WARNING:root:Position weights are not defined. Randomly choosing position to implant motif_instance instead.\n",
      "WARNING:root:Position weights are not defined. Randomly choosing position to implant motif_instance instead.\n",
      "WARNING:root:Position weights are not defined. Randomly choosing position to implant motif_instance instead.\n",
      "WARNING:root:Position weights are not defined. Randomly choosing position to implant motif_instance instead.\n",
      "WARNING:root:Position weights are not defined. Randomly choosing position to implant motif_instance instead.\n",
      "WARNING:root:Position weights are not defined. Randomly choosing position to implant motif_instance instead.\n",
      "WARNING:root:Position weights are not defined. Randomly choosing position to implant motif_instance instead.\n",
      "WARNING:root:Position weights are not defined. Randomly choosing position to implant motif_instance instead.\n",
      "WARNING:root:Position weights are not defined. Randomly choosing position to implant motif_instance instead.\n",
      "WARNING:root:Position weights are not defined. Randomly choosing position to implant motif_instance instead.\n",
      "WARNING:root:Position weights are not defined. Randomly choosing position to implant motif_instance instead.\n",
      "WARNING:root:Position weights are not defined. Randomly choosing position to implant motif_instance instead.\n",
      "WARNING:root:Position weights are not defined. Randomly choosing position to implant motif_instance instead.\n",
      "WARNING:root:Position weights are not defined. Randomly choosing position to implant motif_instance instead.\n",
      "WARNING:root:Position weights are not defined. Randomly choosing position to implant motif_instance instead.\n",
      "WARNING:root:Position weights are not defined. Randomly choosing position to implant motif_instance instead.\n",
      "WARNING:root:Position weights are not defined. Randomly choosing position to implant motif_instance instead.\n",
      "WARNING:root:Position weights are not defined. Randomly choosing position to implant motif_instance instead.\n",
      "WARNING:root:Position weights are not defined. Randomly choosing position to implant motif_instance instead.\n",
      "WARNING:root:Position weights are not defined. Randomly choosing position to implant motif_instance instead.\n",
      "WARNING:root:Position weights are not defined. Randomly choosing position to implant motif_instance instead.\n",
      "WARNING:root:Position weights are not defined. Randomly choosing position to implant motif_instance instead.\n",
      "WARNING:root:Position weights are not defined. Randomly choosing position to implant motif_instance instead.\n",
      "WARNING:root:Position weights are not defined. Randomly choosing position to implant motif_instance instead.\n",
      "WARNING:root:Position weights are not defined. Randomly choosing position to implant motif_instance instead.\n",
      "WARNING:root:Position weights are not defined. Randomly choosing position to implant motif_instance instead.\n",
      "WARNING:root:Position weights are not defined. Randomly choosing position to implant motif_instance instead.\n",
      "WARNING:root:Position weights are not defined. Randomly choosing position to implant motif_instance instead.\n",
      "WARNING:root:Position weights are not defined. Randomly choosing position to implant motif_instance instead.\n",
      "WARNING:root:Position weights are not defined. Randomly choosing position to implant motif_instance instead.\n",
      "WARNING:root:Position weights are not defined. Randomly choosing position to implant motif_instance instead.\n",
      "WARNING:root:Position weights are not defined. Randomly choosing position to implant motif_instance instead.\n",
      "WARNING:root:Position weights are not defined. Randomly choosing position to implant motif_instance instead.\n",
      "WARNING:root:Position weights are not defined. Randomly choosing position to implant motif_instance instead.\n",
      "WARNING:root:Position weights are not defined. Randomly choosing position to implant motif_instance instead.\n",
      "WARNING:root:Position weights are not defined. Randomly choosing position to implant motif_instance instead.\n",
      "WARNING:root:Position weights are not defined. Randomly choosing position to implant motif_instance instead.\n",
      "WARNING:root:Position weights are not defined. Randomly choosing position to implant motif_instance instead.\n",
      "WARNING:root:Position weights are not defined. Randomly choosing position to implant motif_instance instead.\n",
      "WARNING:root:Position weights are not defined. Randomly choosing position to implant motif_instance instead.\n",
      "WARNING:root:Position weights are not defined. Randomly choosing position to implant motif_instance instead.\n",
      "WARNING:root:Position weights are not defined. Randomly choosing position to implant motif_instance instead.\n",
      "WARNING:root:Position weights are not defined. Randomly choosing position to implant motif_instance instead.\n",
      "WARNING:root:Position weights are not defined. Randomly choosing position to implant motif_instance instead.\n",
      "WARNING:root:Position weights are not defined. Randomly choosing position to implant motif_instance instead.\n",
      "WARNING:root:Position weights are not defined. Randomly choosing position to implant motif_instance instead.\n",
      "WARNING:root:Position weights are not defined. Randomly choosing position to implant motif_instance instead.\n",
      "WARNING:root:Position weights are not defined. Randomly choosing position to implant motif_instance instead.\n",
      "WARNING:root:Position weights are not defined. Randomly choosing position to implant motif_instance instead.\n",
      "WARNING:root:Position weights are not defined. Randomly choosing position to implant motif_instance instead.\n",
      "WARNING:root:Position weights are not defined. Randomly choosing position to implant motif_instance instead.\n",
      "WARNING:root:Position weights are not defined. Randomly choosing position to implant motif_instance instead.\n",
      "WARNING:root:Position weights are not defined. Randomly choosing position to implant motif_instance instead.\n",
      "WARNING:root:Position weights are not defined. Randomly choosing position to implant motif_instance instead.\n",
      "WARNING:root:Position weights are not defined. Randomly choosing position to implant motif_instance instead.\n",
      "WARNING:root:Position weights are not defined. Randomly choosing position to implant motif_instance instead.\n",
      "WARNING:root:Position weights are not defined. Randomly choosing position to implant motif_instance instead.\n",
      "WARNING:root:Position weights are not defined. Randomly choosing position to implant motif_instance instead.\n",
      "WARNING:root:Position weights are not defined. Randomly choosing position to implant motif_instance instead.\n",
      "WARNING:root:Position weights are not defined. Randomly choosing position to implant motif_instance instead.\n",
      "WARNING:root:Position weights are not defined. Randomly choosing position to implant motif_instance instead.\n",
      "WARNING:root:Position weights are not defined. Randomly choosing position to implant motif_instance instead.\n",
      "WARNING:root:Position weights are not defined. Randomly choosing position to implant motif_instance instead.\n",
      "WARNING:root:Position weights are not defined. Randomly choosing position to implant motif_instance instead.\n",
      "WARNING:root:Position weights are not defined. Randomly choosing position to implant motif_instance instead.\n",
      "WARNING:root:Position weights are not defined. Randomly choosing position to implant motif_instance instead.\n",
      "WARNING:root:Position weights are not defined. Randomly choosing position to implant motif_instance instead.\n",
      "WARNING:root:Position weights are not defined. Randomly choosing position to implant motif_instance instead.\n",
      "WARNING:root:Position weights are not defined. Randomly choosing position to implant motif_instance instead.\n",
      "WARNING:root:Position weights are not defined. Randomly choosing position to implant motif_instance instead.\n",
      "WARNING:root:Position weights are not defined. Randomly choosing position to implant motif_instance instead.\n",
      "WARNING:root:Position weights are not defined. Randomly choosing position to implant motif_instance instead.\n",
      "WARNING:root:Position weights are not defined. Randomly choosing position to implant motif_instance instead.\n",
      "WARNING:root:Position weights are not defined. Randomly choosing position to implant motif_instance instead.\n",
      "WARNING:root:Position weights are not defined. Randomly choosing position to implant motif_instance instead.\n",
      "WARNING:root:Position weights are not defined. Randomly choosing position to implant motif_instance instead.\n",
      "WARNING:root:Position weights are not defined. Randomly choosing position to implant motif_instance instead.\n",
      "WARNING:root:Position weights are not defined. Randomly choosing position to implant motif_instance instead.\n",
      "WARNING:root:Position weights are not defined. Randomly choosing position to implant motif_instance instead.\n",
      "WARNING:root:Position weights are not defined. Randomly choosing position to implant motif_instance instead.\n",
      "WARNING:root:Position weights are not defined. Randomly choosing position to implant motif_instance instead.\n",
      "WARNING:root:Position weights are not defined. Randomly choosing position to implant motif_instance instead.\n",
      "WARNING:root:Position weights are not defined. Randomly choosing position to implant motif_instance instead.\n",
      "WARNING:root:Position weights are not defined. Randomly choosing position to implant motif_instance instead.\n",
      "WARNING:root:Position weights are not defined. Randomly choosing position to implant motif_instance instead.\n",
      "WARNING:root:Position weights are not defined. Randomly choosing position to implant motif_instance instead.\n",
      "WARNING:root:Position weights are not defined. Randomly choosing position to implant motif_instance instead.\n",
      "WARNING:root:Position weights are not defined. Randomly choosing position to implant motif_instance instead.\n",
      "WARNING:root:Position weights are not defined. Randomly choosing position to implant motif_instance instead.\n",
      "WARNING:root:Position weights are not defined. Randomly choosing position to implant motif_instance instead.\n",
      "WARNING:root:Position weights are not defined. Randomly choosing position to implant motif_instance instead.\n",
      "WARNING:root:Position weights are not defined. Randomly choosing position to implant motif_instance instead.\n",
      "WARNING:root:Position weights are not defined. Randomly choosing position to implant motif_instance instead.\n",
      "WARNING:root:Position weights are not defined. Randomly choosing position to implant motif_instance instead.\n",
      "WARNING:root:Position weights are not defined. Randomly choosing position to implant motif_instance instead.\n",
      "WARNING:root:Position weights are not defined. Randomly choosing position to implant motif_instance instead.\n",
      "WARNING:root:Position weights are not defined. Randomly choosing position to implant motif_instance instead.\n",
      "WARNING:root:Position weights are not defined. Randomly choosing position to implant motif_instance instead.\n",
      "WARNING:root:Position weights are not defined. Randomly choosing position to implant motif_instance instead.\n",
      "WARNING:root:Position weights are not defined. Randomly choosing position to implant motif_instance instead.\n",
      "WARNING:root:Position weights are not defined. Randomly choosing position to implant motif_instance instead.\n",
      "WARNING:root:Position weights are not defined. Randomly choosing position to implant motif_instance instead.\n",
      "WARNING:root:Position weights are not defined. Randomly choosing position to implant motif_instance instead.\n",
      "WARNING:root:Position weights are not defined. Randomly choosing position to implant motif_instance instead.\n",
      "WARNING:root:Position weights are not defined. Randomly choosing position to implant motif_instance instead.\n",
      "WARNING:root:Position weights are not defined. Randomly choosing position to implant motif_instance instead.\n",
      "WARNING:root:Position weights are not defined. Randomly choosing position to implant motif_instance instead.\n",
      "WARNING:root:Position weights are not defined. Randomly choosing position to implant motif_instance instead.\n",
      "WARNING:root:Position weights are not defined. Randomly choosing position to implant motif_instance instead.\n",
      "WARNING:root:Position weights are not defined. Randomly choosing position to implant motif_instance instead.\n",
      "WARNING:root:Position weights are not defined. Randomly choosing position to implant motif_instance instead.\n",
      "WARNING:root:Position weights are not defined. Randomly choosing position to implant motif_instance instead.\n",
      "WARNING:root:Position weights are not defined. Randomly choosing position to implant motif_instance instead.\n",
      "WARNING:root:Position weights are not defined. Randomly choosing position to implant motif_instance instead.\n",
      "WARNING:root:Position weights are not defined. Randomly choosing position to implant motif_instance instead.\n",
      "WARNING:root:Position weights are not defined. Randomly choosing position to implant motif_instance instead.\n",
      "WARNING:root:Position weights are not defined. Randomly choosing position to implant motif_instance instead.\n",
      "WARNING:root:Position weights are not defined. Randomly choosing position to implant motif_instance instead.\n",
      "WARNING:root:Position weights are not defined. Randomly choosing position to implant motif_instance instead.\n",
      "WARNING:root:Position weights are not defined. Randomly choosing position to implant motif_instance instead.\n",
      "WARNING:root:Position weights are not defined. Randomly choosing position to implant motif_instance instead.\n",
      "WARNING:root:Position weights are not defined. Randomly choosing position to implant motif_instance instead.\n",
      "WARNING:root:Position weights are not defined. Randomly choosing position to implant motif_instance instead.\n",
      "WARNING:root:Position weights are not defined. Randomly choosing position to implant motif_instance instead.\n",
      "WARNING:root:Position weights are not defined. Randomly choosing position to implant motif_instance instead.\n",
      "WARNING:root:Position weights are not defined. Randomly choosing position to implant motif_instance instead.\n",
      "WARNING:root:Position weights are not defined. Randomly choosing position to implant motif_instance instead.\n",
      "WARNING:root:Position weights are not defined. Randomly choosing position to implant motif_instance instead.\n",
      "WARNING:root:Position weights are not defined. Randomly choosing position to implant motif_instance instead.\n",
      "WARNING:root:Position weights are not defined. Randomly choosing position to implant motif_instance instead.\n",
      "WARNING:root:Position weights are not defined. Randomly choosing position to implant motif_instance instead.\n",
      "WARNING:root:Position weights are not defined. Randomly choosing position to implant motif_instance instead.\n",
      "WARNING:root:Position weights are not defined. Randomly choosing position to implant motif_instance instead.\n",
      "WARNING:root:Position weights are not defined. Randomly choosing position to implant motif_instance instead.\n",
      "WARNING:root:Position weights are not defined. Randomly choosing position to implant motif_instance instead.\n",
      "WARNING:root:Position weights are not defined. Randomly choosing position to implant motif_instance instead.\n",
      "WARNING:root:Position weights are not defined. Randomly choosing position to implant motif_instance instead.\n",
      "WARNING:root:Position weights are not defined. Randomly choosing position to implant motif_instance instead.\n",
      "WARNING:root:Position weights are not defined. Randomly choosing position to implant motif_instance instead.\n",
      "WARNING:root:Position weights are not defined. Randomly choosing position to implant motif_instance instead.\n",
      "WARNING:root:Position weights are not defined. Randomly choosing position to implant motif_instance instead.\n",
      "WARNING:root:Position weights are not defined. Randomly choosing position to implant motif_instance instead.\n",
      "WARNING:root:Position weights are not defined. Randomly choosing position to implant motif_instance instead.\n",
      "WARNING:root:Position weights are not defined. Randomly choosing position to implant motif_instance instead.\n",
      "WARNING:root:Position weights are not defined. Randomly choosing position to implant motif_instance instead.\n",
      "WARNING:root:Position weights are not defined. Randomly choosing position to implant motif_instance instead.\n",
      "WARNING:root:Position weights are not defined. Randomly choosing position to implant motif_instance instead.\n",
      "WARNING:root:Position weights are not defined. Randomly choosing position to implant motif_instance instead.\n",
      "WARNING:root:Position weights are not defined. Randomly choosing position to implant motif_instance instead.\n",
      "WARNING:root:Position weights are not defined. Randomly choosing position to implant motif_instance instead.\n",
      "WARNING:root:Position weights are not defined. Randomly choosing position to implant motif_instance instead.\n",
      "WARNING:root:Position weights are not defined. Randomly choosing position to implant motif_instance instead.\n",
      "WARNING:root:Position weights are not defined. Randomly choosing position to implant motif_instance instead.\n",
      "WARNING:root:Position weights are not defined. Randomly choosing position to implant motif_instance instead.\n",
      "WARNING:root:Position weights are not defined. Randomly choosing position to implant motif_instance instead.\n",
      "WARNING:root:Position weights are not defined. Randomly choosing position to implant motif_instance instead.\n",
      "WARNING:root:Position weights are not defined. Randomly choosing position to implant motif_instance instead.\n",
      "WARNING:root:Position weights are not defined. Randomly choosing position to implant motif_instance instead.\n",
      "WARNING:root:Position weights are not defined. Randomly choosing position to implant motif_instance instead.\n",
      "WARNING:root:Position weights are not defined. Randomly choosing position to implant motif_instance instead.\n",
      "WARNING:root:Position weights are not defined. Randomly choosing position to implant motif_instance instead.\n",
      "WARNING:root:Position weights are not defined. Randomly choosing position to implant motif_instance instead.\n",
      "WARNING:root:Position weights are not defined. Randomly choosing position to implant motif_instance instead.\n",
      "WARNING:root:Position weights are not defined. Randomly choosing position to implant motif_instance instead.\n",
      "WARNING:root:Position weights are not defined. Randomly choosing position to implant motif_instance instead.\n",
      "WARNING:root:Position weights are not defined. Randomly choosing position to implant motif_instance instead.\n",
      "WARNING:root:Position weights are not defined. Randomly choosing position to implant motif_instance instead.\n",
      "WARNING:root:Position weights are not defined. Randomly choosing position to implant motif_instance instead.\n",
      "WARNING:root:Position weights are not defined. Randomly choosing position to implant motif_instance instead.\n",
      "WARNING:root:Position weights are not defined. Randomly choosing position to implant motif_instance instead.\n",
      "WARNING:root:Position weights are not defined. Randomly choosing position to implant motif_instance instead.\n",
      "WARNING:root:Position weights are not defined. Randomly choosing position to implant motif_instance instead.\n",
      "WARNING:root:Position weights are not defined. Randomly choosing position to implant motif_instance instead.\n",
      "WARNING:root:Position weights are not defined. Randomly choosing position to implant motif_instance instead.\n",
      "WARNING:root:Position weights are not defined. Randomly choosing position to implant motif_instance instead.\n",
      "WARNING:root:Position weights are not defined. Randomly choosing position to implant motif_instance instead.\n",
      "WARNING:root:Position weights are not defined. Randomly choosing position to implant motif_instance instead.\n",
      "WARNING:root:Position weights are not defined. Randomly choosing position to implant motif_instance instead.\n",
      "WARNING:root:Position weights are not defined. Randomly choosing position to implant motif_instance instead.\n",
      "WARNING:root:Position weights are not defined. Randomly choosing position to implant motif_instance instead.\n",
      "WARNING:root:Position weights are not defined. Randomly choosing position to implant motif_instance instead.\n",
      "WARNING:root:Position weights are not defined. Randomly choosing position to implant motif_instance instead.\n",
      "WARNING:root:Position weights are not defined. Randomly choosing position to implant motif_instance instead.\n",
      "WARNING:root:Position weights are not defined. Randomly choosing position to implant motif_instance instead.\n",
      "WARNING:root:Position weights are not defined. Randomly choosing position to implant motif_instance instead.\n",
      "WARNING:root:Position weights are not defined. Randomly choosing position to implant motif_instance instead.\n",
      "WARNING:root:Position weights are not defined. Randomly choosing position to implant motif_instance instead.\n",
      "WARNING:root:Position weights are not defined. Randomly choosing position to implant motif_instance instead.\n",
      "WARNING:root:Position weights are not defined. Randomly choosing position to implant motif_instance instead.\n",
      "WARNING:root:Position weights are not defined. Randomly choosing position to implant motif_instance instead.\n",
      "WARNING:root:Position weights are not defined. Randomly choosing position to implant motif_instance instead.\n",
      "WARNING:root:Position weights are not defined. Randomly choosing position to implant motif_instance instead.\n",
      "WARNING:root:Position weights are not defined. Randomly choosing position to implant motif_instance instead.\n",
      "WARNING:root:Position weights are not defined. Randomly choosing position to implant motif_instance instead.\n",
      "WARNING:root:Position weights are not defined. Randomly choosing position to implant motif_instance instead.\n",
      "WARNING:root:Position weights are not defined. Randomly choosing position to implant motif_instance instead.\n",
      "WARNING:root:Position weights are not defined. Randomly choosing position to implant motif_instance instead.\n",
      "WARNING:root:Position weights are not defined. Randomly choosing position to implant motif_instance instead.\n",
      "WARNING:root:Position weights are not defined. Randomly choosing position to implant motif_instance instead.\n",
      "WARNING:root:Position weights are not defined. Randomly choosing position to implant motif_instance instead.\n",
      "WARNING:root:Position weights are not defined. Randomly choosing position to implant motif_instance instead.\n",
      "WARNING:root:Position weights are not defined. Randomly choosing position to implant motif_instance instead.\n",
      "WARNING:root:Position weights are not defined. Randomly choosing position to implant motif_instance instead.\n",
      "WARNING:root:Position weights are not defined. Randomly choosing position to implant motif_instance instead.\n",
      "WARNING:root:Position weights are not defined. Randomly choosing position to implant motif_instance instead.\n",
      "WARNING:root:Position weights are not defined. Randomly choosing position to implant motif_instance instead.\n",
      "WARNING:root:Position weights are not defined. Randomly choosing position to implant motif_instance instead.\n",
      "WARNING:root:Position weights are not defined. Randomly choosing position to implant motif_instance instead.\n",
      "WARNING:root:Position weights are not defined. Randomly choosing position to implant motif_instance instead.\n",
      "WARNING:root:Position weights are not defined. Randomly choosing position to implant motif_instance instead.\n",
      "WARNING:root:Position weights are not defined. Randomly choosing position to implant motif_instance instead.\n",
      "WARNING:root:Position weights are not defined. Randomly choosing position to implant motif_instance instead.\n",
      "WARNING:root:Position weights are not defined. Randomly choosing position to implant motif_instance instead.\n",
      "WARNING:root:Position weights are not defined. Randomly choosing position to implant motif_instance instead.\n",
      "WARNING:root:Position weights are not defined. Randomly choosing position to implant motif_instance instead.\n",
      "WARNING:root:Position weights are not defined. Randomly choosing position to implant motif_instance instead.\n",
      "WARNING:root:Position weights are not defined. Randomly choosing position to implant motif_instance instead.\n",
      "WARNING:root:Position weights are not defined. Randomly choosing position to implant motif_instance instead.\n",
      "WARNING:root:Position weights are not defined. Randomly choosing position to implant motif_instance instead.\n",
      "WARNING:root:Position weights are not defined. Randomly choosing position to implant motif_instance instead.\n",
      "WARNING:root:Position weights are not defined. Randomly choosing position to implant motif_instance instead.\n",
      "WARNING:root:Position weights are not defined. Randomly choosing position to implant motif_instance instead.\n",
      "WARNING:root:Position weights are not defined. Randomly choosing position to implant motif_instance instead.\n",
      "WARNING:root:Position weights are not defined. Randomly choosing position to implant motif_instance instead.\n",
      "WARNING:root:Position weights are not defined. Randomly choosing position to implant motif_instance instead.\n",
      "WARNING:root:Position weights are not defined. Randomly choosing position to implant motif_instance instead.\n",
      "WARNING:root:Position weights are not defined. Randomly choosing position to implant motif_instance instead.\n",
      "WARNING:root:Position weights are not defined. Randomly choosing position to implant motif_instance instead.\n",
      "WARNING:root:Position weights are not defined. Randomly choosing position to implant motif_instance instead.\n",
      "WARNING:root:Position weights are not defined. Randomly choosing position to implant motif_instance instead.\n",
      "WARNING:root:Position weights are not defined. Randomly choosing position to implant motif_instance instead.\n",
      "WARNING:root:Position weights are not defined. Randomly choosing position to implant motif_instance instead.\n",
      "WARNING:root:Position weights are not defined. Randomly choosing position to implant motif_instance instead.\n",
      "WARNING:root:Position weights are not defined. Randomly choosing position to implant motif_instance instead.\n",
      "WARNING:root:Position weights are not defined. Randomly choosing position to implant motif_instance instead.\n",
      "WARNING:root:Position weights are not defined. Randomly choosing position to implant motif_instance instead.\n",
      "WARNING:root:Position weights are not defined. Randomly choosing position to implant motif_instance instead.\n",
      "WARNING:root:Position weights are not defined. Randomly choosing position to implant motif_instance instead.\n",
      "WARNING:root:Position weights are not defined. Randomly choosing position to implant motif_instance instead.\n",
      "WARNING:root:Position weights are not defined. Randomly choosing position to implant motif_instance instead.\n",
      "WARNING:root:Position weights are not defined. Randomly choosing position to implant motif_instance instead.\n",
      "WARNING:root:Position weights are not defined. Randomly choosing position to implant motif_instance instead.\n",
      "WARNING:root:Position weights are not defined. Randomly choosing position to implant motif_instance instead.\n",
      "WARNING:root:Position weights are not defined. Randomly choosing position to implant motif_instance instead.\n",
      "WARNING:root:Position weights are not defined. Randomly choosing position to implant motif_instance instead.\n",
      "WARNING:root:Position weights are not defined. Randomly choosing position to implant motif_instance instead.\n",
      "WARNING:root:Position weights are not defined. Randomly choosing position to implant motif_instance instead.\n",
      "WARNING:root:Position weights are not defined. Randomly choosing position to implant motif_instance instead.\n",
      "WARNING:root:Position weights are not defined. Randomly choosing position to implant motif_instance instead.\n",
      "WARNING:root:Position weights are not defined. Randomly choosing position to implant motif_instance instead.\n",
      "WARNING:root:Position weights are not defined. Randomly choosing position to implant motif_instance instead.\n",
      "WARNING:root:Position weights are not defined. Randomly choosing position to implant motif_instance instead.\n",
      "WARNING:root:Position weights are not defined. Randomly choosing position to implant motif_instance instead.\n",
      "WARNING:root:Position weights are not defined. Randomly choosing position to implant motif_instance instead.\n",
      "WARNING:root:Position weights are not defined. Randomly choosing position to implant motif_instance instead.\n",
      "WARNING:root:Position weights are not defined. Randomly choosing position to implant motif_instance instead.\n",
      "WARNING:root:Position weights are not defined. Randomly choosing position to implant motif_instance instead.\n",
      "WARNING:root:Position weights are not defined. Randomly choosing position to implant motif_instance instead.\n",
      "WARNING:root:Position weights are not defined. Randomly choosing position to implant motif_instance instead.\n",
      "WARNING:root:Position weights are not defined. Randomly choosing position to implant motif_instance instead.\n",
      "WARNING:root:Position weights are not defined. Randomly choosing position to implant motif_instance instead.\n",
      "WARNING:root:Position weights are not defined. Randomly choosing position to implant motif_instance instead.\n",
      "WARNING:root:Position weights are not defined. Randomly choosing position to implant motif_instance instead.\n",
      "WARNING:root:Position weights are not defined. Randomly choosing position to implant motif_instance instead.\n",
      "WARNING:root:Position weights are not defined. Randomly choosing position to implant motif_instance instead.\n",
      "WARNING:root:Position weights are not defined. Randomly choosing position to implant motif_instance instead.\n",
      "WARNING:root:Position weights are not defined. Randomly choosing position to implant motif_instance instead.\n",
      "WARNING:root:Position weights are not defined. Randomly choosing position to implant motif_instance instead.\n",
      "WARNING:root:Position weights are not defined. Randomly choosing position to implant motif_instance instead.\n",
      "WARNING:root:Position weights are not defined. Randomly choosing position to implant motif_instance instead.\n",
      "WARNING:root:Position weights are not defined. Randomly choosing position to implant motif_instance instead.\n",
      "WARNING:root:Position weights are not defined. Randomly choosing position to implant motif_instance instead.\n",
      "WARNING:root:Position weights are not defined. Randomly choosing position to implant motif_instance instead.\n",
      "WARNING:root:Position weights are not defined. Randomly choosing position to implant motif_instance instead.\n",
      "WARNING:root:Position weights are not defined. Randomly choosing position to implant motif_instance instead.\n",
      "WARNING:root:Position weights are not defined. Randomly choosing position to implant motif_instance instead.\n",
      "WARNING:root:Position weights are not defined. Randomly choosing position to implant motif_instance instead.\n",
      "WARNING:root:Position weights are not defined. Randomly choosing position to implant motif_instance instead.\n",
      "WARNING:root:Position weights are not defined. Randomly choosing position to implant motif_instance instead.\n",
      "WARNING:root:Position weights are not defined. Randomly choosing position to implant motif_instance instead.\n",
      "WARNING:root:Position weights are not defined. Randomly choosing position to implant motif_instance instead.\n",
      "WARNING:root:Position weights are not defined. Randomly choosing position to implant motif_instance instead.\n",
      "WARNING:root:Position weights are not defined. Randomly choosing position to implant motif_instance instead.\n",
      "WARNING:root:Position weights are not defined. Randomly choosing position to implant motif_instance instead.\n",
      "WARNING:root:Position weights are not defined. Randomly choosing position to implant motif_instance instead.\n",
      "WARNING:root:Position weights are not defined. Randomly choosing position to implant motif_instance instead.\n",
      "WARNING:root:Position weights are not defined. Randomly choosing position to implant motif_instance instead.\n",
      "WARNING:root:Position weights are not defined. Randomly choosing position to implant motif_instance instead.\n",
      "WARNING:root:Position weights are not defined. Randomly choosing position to implant motif_instance instead.\n",
      "WARNING:root:Position weights are not defined. Randomly choosing position to implant motif_instance instead.\n",
      "WARNING:root:Position weights are not defined. Randomly choosing position to implant motif_instance instead.\n",
      "WARNING:root:Position weights are not defined. Randomly choosing position to implant motif_instance instead.\n",
      "WARNING:root:Position weights are not defined. Randomly choosing position to implant motif_instance instead.\n",
      "WARNING:root:Position weights are not defined. Randomly choosing position to implant motif_instance instead.\n",
      "WARNING:root:Position weights are not defined. Randomly choosing position to implant motif_instance instead.\n",
      "WARNING:root:Position weights are not defined. Randomly choosing position to implant motif_instance instead.\n",
      "WARNING:root:Position weights are not defined. Randomly choosing position to implant motif_instance instead.\n",
      "WARNING:root:Position weights are not defined. Randomly choosing position to implant motif_instance instead.\n",
      "WARNING:root:Position weights are not defined. Randomly choosing position to implant motif_instance instead.\n",
      "WARNING:root:Position weights are not defined. Randomly choosing position to implant motif_instance instead.\n",
      "WARNING:root:Position weights are not defined. Randomly choosing position to implant motif_instance instead.\n",
      "WARNING:root:Position weights are not defined. Randomly choosing position to implant motif_instance instead.\n",
      "WARNING:root:Position weights are not defined. Randomly choosing position to implant motif_instance instead.\n",
      "WARNING:root:Position weights are not defined. Randomly choosing position to implant motif_instance instead.\n",
      "WARNING:root:Position weights are not defined. Randomly choosing position to implant motif_instance instead.\n",
      "WARNING:root:Position weights are not defined. Randomly choosing position to implant motif_instance instead.\n",
      "WARNING:root:Position weights are not defined. Randomly choosing position to implant motif_instance instead.\n",
      "WARNING:root:Position weights are not defined. Randomly choosing position to implant motif_instance instead.\n",
      "WARNING:root:Position weights are not defined. Randomly choosing position to implant motif_instance instead.\n",
      "WARNING:root:Position weights are not defined. Randomly choosing position to implant motif_instance instead.\n",
      "WARNING:root:Position weights are not defined. Randomly choosing position to implant motif_instance instead.\n",
      "WARNING:root:Position weights are not defined. Randomly choosing position to implant motif_instance instead.\n",
      "WARNING:root:Position weights are not defined. Randomly choosing position to implant motif_instance instead.\n",
      "WARNING:root:Position weights are not defined. Randomly choosing position to implant motif_instance instead.\n",
      "WARNING:root:Position weights are not defined. Randomly choosing position to implant motif_instance instead.\n",
      "WARNING:root:Position weights are not defined. Randomly choosing position to implant motif_instance instead.\n",
      "WARNING:root:Position weights are not defined. Randomly choosing position to implant motif_instance instead.\n",
      "WARNING:root:Position weights are not defined. Randomly choosing position to implant motif_instance instead.\n",
      "WARNING:root:Position weights are not defined. Randomly choosing position to implant motif_instance instead.\n",
      "WARNING:root:Position weights are not defined. Randomly choosing position to implant motif_instance instead.\n",
      "WARNING:root:Position weights are not defined. Randomly choosing position to implant motif_instance instead.\n",
      "WARNING:root:Position weights are not defined. Randomly choosing position to implant motif_instance instead.\n",
      "WARNING:root:Position weights are not defined. Randomly choosing position to implant motif_instance instead.\n",
      "WARNING:root:Position weights are not defined. Randomly choosing position to implant motif_instance instead.\n",
      "WARNING:root:Position weights are not defined. Randomly choosing position to implant motif_instance instead.\n",
      "WARNING:root:Position weights are not defined. Randomly choosing position to implant motif_instance instead.\n",
      "WARNING:root:Position weights are not defined. Randomly choosing position to implant motif_instance instead.\n",
      "WARNING:root:Position weights are not defined. Randomly choosing position to implant motif_instance instead.\n",
      "WARNING:root:Position weights are not defined. Randomly choosing position to implant motif_instance instead.\n",
      "WARNING:root:Position weights are not defined. Randomly choosing position to implant motif_instance instead.\n",
      "WARNING:root:Position weights are not defined. Randomly choosing position to implant motif_instance instead.\n",
      "WARNING:root:Position weights are not defined. Randomly choosing position to implant motif_instance instead.\n",
      "WARNING:root:Position weights are not defined. Randomly choosing position to implant motif_instance instead.\n",
      "WARNING:root:Position weights are not defined. Randomly choosing position to implant motif_instance instead.\n",
      "WARNING:root:Position weights are not defined. Randomly choosing position to implant motif_instance instead.\n",
      "WARNING:root:Position weights are not defined. Randomly choosing position to implant motif_instance instead.\n",
      "WARNING:root:Position weights are not defined. Randomly choosing position to implant motif_instance instead.\n",
      "WARNING:root:Position weights are not defined. Randomly choosing position to implant motif_instance instead.\n",
      "WARNING:root:Position weights are not defined. Randomly choosing position to implant motif_instance instead.\n",
      "WARNING:root:Position weights are not defined. Randomly choosing position to implant motif_instance instead.\n",
      "WARNING:root:Position weights are not defined. Randomly choosing position to implant motif_instance instead.\n",
      "WARNING:root:Position weights are not defined. Randomly choosing position to implant motif_instance instead.\n",
      "WARNING:root:Position weights are not defined. Randomly choosing position to implant motif_instance instead.\n",
      "WARNING:root:Position weights are not defined. Randomly choosing position to implant motif_instance instead.\n",
      "WARNING:root:Position weights are not defined. Randomly choosing position to implant motif_instance instead.\n",
      "WARNING:root:Position weights are not defined. Randomly choosing position to implant motif_instance instead.\n",
      "WARNING:root:Position weights are not defined. Randomly choosing position to implant motif_instance instead.\n",
      "WARNING:root:Position weights are not defined. Randomly choosing position to implant motif_instance instead.\n",
      "WARNING:root:Position weights are not defined. Randomly choosing position to implant motif_instance instead.\n",
      "WARNING:root:Position weights are not defined. Randomly choosing position to implant motif_instance instead.\n",
      "WARNING:root:Position weights are not defined. Randomly choosing position to implant motif_instance instead.\n",
      "WARNING:root:Position weights are not defined. Randomly choosing position to implant motif_instance instead.\n",
      "WARNING:root:Position weights are not defined. Randomly choosing position to implant motif_instance instead.\n",
      "WARNING:root:Position weights are not defined. Randomly choosing position to implant motif_instance instead.\n",
      "WARNING:root:Position weights are not defined. Randomly choosing position to implant motif_instance instead.\n",
      "WARNING:root:Position weights are not defined. Randomly choosing position to implant motif_instance instead.\n",
      "WARNING:root:Position weights are not defined. Randomly choosing position to implant motif_instance instead.\n",
      "WARNING:root:Position weights are not defined. Randomly choosing position to implant motif_instance instead.\n",
      "WARNING:root:Position weights are not defined. Randomly choosing position to implant motif_instance instead.\n",
      "WARNING:root:Position weights are not defined. Randomly choosing position to implant motif_instance instead.\n",
      "WARNING:root:Position weights are not defined. Randomly choosing position to implant motif_instance instead.\n",
      "WARNING:root:Position weights are not defined. Randomly choosing position to implant motif_instance instead.\n",
      "WARNING:root:Position weights are not defined. Randomly choosing position to implant motif_instance instead.\n",
      "WARNING:root:Position weights are not defined. Randomly choosing position to implant motif_instance instead.\n",
      "WARNING:root:Position weights are not defined. Randomly choosing position to implant motif_instance instead.\n",
      "WARNING:root:Position weights are not defined. Randomly choosing position to implant motif_instance instead.\n",
      "WARNING:root:Position weights are not defined. Randomly choosing position to implant motif_instance instead.\n",
      "WARNING:root:Position weights are not defined. Randomly choosing position to implant motif_instance instead.\n",
      "WARNING:root:Position weights are not defined. Randomly choosing position to implant motif_instance instead.\n",
      "WARNING:root:Position weights are not defined. Randomly choosing position to implant motif_instance instead.\n",
      "WARNING:root:Position weights are not defined. Randomly choosing position to implant motif_instance instead.\n",
      "WARNING:root:Position weights are not defined. Randomly choosing position to implant motif_instance instead.\n",
      "WARNING:root:Position weights are not defined. Randomly choosing position to implant motif_instance instead.\n",
      "WARNING:root:Position weights are not defined. Randomly choosing position to implant motif_instance instead.\n",
      "WARNING:root:Position weights are not defined. Randomly choosing position to implant motif_instance instead.\n",
      "WARNING:root:Position weights are not defined. Randomly choosing position to implant motif_instance instead.\n",
      "WARNING:root:Position weights are not defined. Randomly choosing position to implant motif_instance instead.\n",
      "WARNING:root:Position weights are not defined. Randomly choosing position to implant motif_instance instead.\n",
      "WARNING:root:Position weights are not defined. Randomly choosing position to implant motif_instance instead.\n",
      "WARNING:root:Position weights are not defined. Randomly choosing position to implant motif_instance instead.\n",
      "WARNING:root:Position weights are not defined. Randomly choosing position to implant motif_instance instead.\n",
      "WARNING:root:Position weights are not defined. Randomly choosing position to implant motif_instance instead.\n",
      "WARNING:root:Position weights are not defined. Randomly choosing position to implant motif_instance instead.\n",
      "WARNING:root:Position weights are not defined. Randomly choosing position to implant motif_instance instead.\n",
      "WARNING:root:Position weights are not defined. Randomly choosing position to implant motif_instance instead.\n",
      "WARNING:root:Position weights are not defined. Randomly choosing position to implant motif_instance instead.\n",
      "WARNING:root:Position weights are not defined. Randomly choosing position to implant motif_instance instead.\n",
      "WARNING:root:Position weights are not defined. Randomly choosing position to implant motif_instance instead.\n",
      "WARNING:root:Position weights are not defined. Randomly choosing position to implant motif_instance instead.\n",
      "WARNING:root:Position weights are not defined. Randomly choosing position to implant motif_instance instead.\n",
      "WARNING:root:Position weights are not defined. Randomly choosing position to implant motif_instance instead.\n",
      "WARNING:root:Position weights are not defined. Randomly choosing position to implant motif_instance instead.\n",
      "WARNING:root:Position weights are not defined. Randomly choosing position to implant motif_instance instead.\n",
      "WARNING:root:Position weights are not defined. Randomly choosing position to implant motif_instance instead.\n",
      "WARNING:root:Position weights are not defined. Randomly choosing position to implant motif_instance instead.\n",
      "WARNING:root:Position weights are not defined. Randomly choosing position to implant motif_instance instead.\n",
      "WARNING:root:Position weights are not defined. Randomly choosing position to implant motif_instance instead.\n",
      "WARNING:root:Position weights are not defined. Randomly choosing position to implant motif_instance instead.\n",
      "WARNING:root:Position weights are not defined. Randomly choosing position to implant motif_instance instead.\n",
      "WARNING:root:Position weights are not defined. Randomly choosing position to implant motif_instance instead.\n",
      "WARNING:root:Position weights are not defined. Randomly choosing position to implant motif_instance instead.\n",
      "WARNING:root:Position weights are not defined. Randomly choosing position to implant motif_instance instead.\n",
      "WARNING:root:Position weights are not defined. Randomly choosing position to implant motif_instance instead.\n",
      "WARNING:root:Position weights are not defined. Randomly choosing position to implant motif_instance instead.\n",
      "WARNING:root:Position weights are not defined. Randomly choosing position to implant motif_instance instead.\n",
      "WARNING:root:Position weights are not defined. Randomly choosing position to implant motif_instance instead.\n",
      "WARNING:root:Position weights are not defined. Randomly choosing position to implant motif_instance instead.\n",
      "WARNING:root:Position weights are not defined. Randomly choosing position to implant motif_instance instead.\n",
      "WARNING:root:Position weights are not defined. Randomly choosing position to implant motif_instance instead.\n",
      "WARNING:root:Position weights are not defined. Randomly choosing position to implant motif_instance instead.\n",
      "WARNING:root:Position weights are not defined. Randomly choosing position to implant motif_instance instead.\n",
      "WARNING:root:Position weights are not defined. Randomly choosing position to implant motif_instance instead.\n",
      "WARNING:root:Position weights are not defined. Randomly choosing position to implant motif_instance instead.\n",
      "WARNING:root:Position weights are not defined. Randomly choosing position to implant motif_instance instead.\n",
      "WARNING:root:Position weights are not defined. Randomly choosing position to implant motif_instance instead.\n",
      "WARNING:root:Position weights are not defined. Randomly choosing position to implant motif_instance instead.\n",
      "WARNING:root:Position weights are not defined. Randomly choosing position to implant motif_instance instead.\n",
      "WARNING:root:Position weights are not defined. Randomly choosing position to implant motif_instance instead.\n",
      "WARNING:root:Position weights are not defined. Randomly choosing position to implant motif_instance instead.\n",
      "WARNING:root:Position weights are not defined. Randomly choosing position to implant motif_instance instead.\n",
      "WARNING:root:Position weights are not defined. Randomly choosing position to implant motif_instance instead.\n",
      "WARNING:root:Position weights are not defined. Randomly choosing position to implant motif_instance instead.\n",
      "WARNING:root:Position weights are not defined. Randomly choosing position to implant motif_instance instead.\n",
      "WARNING:root:Position weights are not defined. Randomly choosing position to implant motif_instance instead.\n",
      "WARNING:root:Position weights are not defined. Randomly choosing position to implant motif_instance instead.\n",
      "WARNING:root:Position weights are not defined. Randomly choosing position to implant motif_instance instead.\n",
      "WARNING:root:Position weights are not defined. Randomly choosing position to implant motif_instance instead.\n",
      "WARNING:root:Position weights are not defined. Randomly choosing position to implant motif_instance instead.\n",
      "WARNING:root:Position weights are not defined. Randomly choosing position to implant motif_instance instead.\n",
      "WARNING:root:Position weights are not defined. Randomly choosing position to implant motif_instance instead.\n",
      "WARNING:root:Position weights are not defined. Randomly choosing position to implant motif_instance instead.\n",
      "WARNING:root:Position weights are not defined. Randomly choosing position to implant motif_instance instead.\n",
      "WARNING:root:Position weights are not defined. Randomly choosing position to implant motif_instance instead.\n",
      "WARNING:root:Position weights are not defined. Randomly choosing position to implant motif_instance instead.\n",
      "WARNING:root:Position weights are not defined. Randomly choosing position to implant motif_instance instead.\n",
      "WARNING:root:Position weights are not defined. Randomly choosing position to implant motif_instance instead.\n",
      "WARNING:root:Position weights are not defined. Randomly choosing position to implant motif_instance instead.\n",
      "WARNING:root:Position weights are not defined. Randomly choosing position to implant motif_instance instead.\n",
      "WARNING:root:Position weights are not defined. Randomly choosing position to implant motif_instance instead.\n",
      "WARNING:root:Position weights are not defined. Randomly choosing position to implant motif_instance instead.\n",
      "WARNING:root:Position weights are not defined. Randomly choosing position to implant motif_instance instead.\n",
      "WARNING:root:Position weights are not defined. Randomly choosing position to implant motif_instance instead.\n",
      "WARNING:root:Position weights are not defined. Randomly choosing position to implant motif_instance instead.\n",
      "WARNING:root:Position weights are not defined. Randomly choosing position to implant motif_instance instead.\n",
      "WARNING:root:Position weights are not defined. Randomly choosing position to implant motif_instance instead.\n",
      "WARNING:root:Position weights are not defined. Randomly choosing position to implant motif_instance instead.\n",
      "WARNING:root:Position weights are not defined. Randomly choosing position to implant motif_instance instead.\n",
      "WARNING:root:Position weights are not defined. Randomly choosing position to implant motif_instance instead.\n",
      "WARNING:root:Position weights are not defined. Randomly choosing position to implant motif_instance instead.\n",
      "WARNING:root:Position weights are not defined. Randomly choosing position to implant motif_instance instead.\n",
      "WARNING:root:Position weights are not defined. Randomly choosing position to implant motif_instance instead.\n",
      "WARNING:root:Position weights are not defined. Randomly choosing position to implant motif_instance instead.\n",
      "WARNING:root:Position weights are not defined. Randomly choosing position to implant motif_instance instead.\n",
      "WARNING:root:Position weights are not defined. Randomly choosing position to implant motif_instance instead.\n",
      "WARNING:root:Position weights are not defined. Randomly choosing position to implant motif_instance instead.\n",
      "WARNING:root:Position weights are not defined. Randomly choosing position to implant motif_instance instead.\n",
      "WARNING:root:Position weights are not defined. Randomly choosing position to implant motif_instance instead.\n",
      "WARNING:root:Position weights are not defined. Randomly choosing position to implant motif_instance instead.\n",
      "WARNING:root:Position weights are not defined. Randomly choosing position to implant motif_instance instead.\n",
      "WARNING:root:Position weights are not defined. Randomly choosing position to implant motif_instance instead.\n",
      "WARNING:root:Position weights are not defined. Randomly choosing position to implant motif_instance instead.\n",
      "WARNING:root:Position weights are not defined. Randomly choosing position to implant motif_instance instead.\n",
      "WARNING:root:Position weights are not defined. Randomly choosing position to implant motif_instance instead.\n",
      "WARNING:root:Position weights are not defined. Randomly choosing position to implant motif_instance instead.\n",
      "WARNING:root:Position weights are not defined. Randomly choosing position to implant motif_instance instead.\n",
      "WARNING:root:Position weights are not defined. Randomly choosing position to implant motif_instance instead.\n",
      "WARNING:root:Position weights are not defined. Randomly choosing position to implant motif_instance instead.\n",
      "WARNING:root:Position weights are not defined. Randomly choosing position to implant motif_instance instead.\n",
      "WARNING:root:Position weights are not defined. Randomly choosing position to implant motif_instance instead.\n",
      "WARNING:root:Position weights are not defined. Randomly choosing position to implant motif_instance instead.\n",
      "WARNING:root:Position weights are not defined. Randomly choosing position to implant motif_instance instead.\n",
      "WARNING:root:Position weights are not defined. Randomly choosing position to implant motif_instance instead.\n",
      "WARNING:root:Position weights are not defined. Randomly choosing position to implant motif_instance instead.\n",
      "WARNING:root:Position weights are not defined. Randomly choosing position to implant motif_instance instead.\n",
      "WARNING:root:Position weights are not defined. Randomly choosing position to implant motif_instance instead.\n",
      "WARNING:root:Position weights are not defined. Randomly choosing position to implant motif_instance instead.\n",
      "WARNING:root:Position weights are not defined. Randomly choosing position to implant motif_instance instead.\n",
      "WARNING:root:Position weights are not defined. Randomly choosing position to implant motif_instance instead.\n",
      "WARNING:root:Position weights are not defined. Randomly choosing position to implant motif_instance instead.\n",
      "WARNING:root:Position weights are not defined. Randomly choosing position to implant motif_instance instead.\n",
      "WARNING:root:Position weights are not defined. Randomly choosing position to implant motif_instance instead.\n",
      "WARNING:root:Position weights are not defined. Randomly choosing position to implant motif_instance instead.\n",
      "WARNING:root:Position weights are not defined. Randomly choosing position to implant motif_instance instead.\n",
      "WARNING:root:Position weights are not defined. Randomly choosing position to implant motif_instance instead.\n",
      "WARNING:root:Position weights are not defined. Randomly choosing position to implant motif_instance instead.\n",
      "WARNING:root:Position weights are not defined. Randomly choosing position to implant motif_instance instead.\n",
      "WARNING:root:Position weights are not defined. Randomly choosing position to implant motif_instance instead.\n",
      "WARNING:root:Position weights are not defined. Randomly choosing position to implant motif_instance instead.\n",
      "WARNING:root:Position weights are not defined. Randomly choosing position to implant motif_instance instead.\n",
      "WARNING:root:Position weights are not defined. Randomly choosing position to implant motif_instance instead.\n",
      "WARNING:root:Position weights are not defined. Randomly choosing position to implant motif_instance instead.\n",
      "WARNING:root:Position weights are not defined. Randomly choosing position to implant motif_instance instead.\n",
      "WARNING:root:Position weights are not defined. Randomly choosing position to implant motif_instance instead.\n",
      "WARNING:root:Position weights are not defined. Randomly choosing position to implant motif_instance instead.\n",
      "WARNING:root:Position weights are not defined. Randomly choosing position to implant motif_instance instead.\n"
     ]
    }
   ],
   "source": [
    "new_dataset = SignalImplanter.run(input_params)\n"
   ]
  },
  {
   "cell_type": "code",
   "execution_count": 35,
   "metadata": {},
   "outputs": [],
   "source": [
    "from immuneML.IO.dataset_export.AIRRExporter import AIRRExporter\n"
   ]
  },
  {
   "cell_type": "code",
   "execution_count": 36,
   "metadata": {},
   "outputs": [],
   "source": [
    "path_exported = path / \"exported\"\n"
   ]
  },
  {
   "cell_type": "code",
   "execution_count": 37,
   "metadata": {},
   "outputs": [],
   "source": [
    "exported_dataset = AIRRExporter.export(new_dataset, path_exported)\n"
   ]
  },
  {
   "cell_type": "code",
   "execution_count": 38,
   "metadata": {},
   "outputs": [
    {
     "data": {
      "text/plain": [
       "WindowsPath('C:/Users/karth/Desktop/PhD projects/immuneML/immuneML/test/tmp/random_repertoire1_dataset_generation/exported')"
      ]
     },
     "execution_count": 38,
     "metadata": {},
     "output_type": "execute_result"
    }
   ],
   "source": [
    "path_exported"
   ]
  },
  {
   "cell_type": "code",
   "execution_count": 39,
   "metadata": {},
   "outputs": [
    {
     "data": {
      "text/plain": [
       "NoneType"
      ]
     },
     "execution_count": 39,
     "metadata": {},
     "output_type": "execute_result"
    }
   ],
   "source": [
    "type(exported_dataset)"
   ]
  },
  {
   "cell_type": "markdown",
   "metadata": {},
   "source": [
    "<h2> ML processs </h2>"
   ]
  },
  {
   "cell_type": "markdown",
   "metadata": {},
   "source": [
    "{'state': TrainMLModelState(dataset=<immuneML.data_model.dataset.RepertoireDataset.RepertoireDataset object at 0x0000023FF7526FA0>, hp_strategy=<immuneML.hyperparameter_optimization.strategy.GridSearch.GridSearch object at 0x0000023FF75009D0>, hp_settings=[<immuneML.hyperparameter_optimization.HPSetting.HPSetting object at 0x0000023FF55A9700>, <immuneML.hyperparameter_optimization.HPSetting.HPSetting object at 0x0000023FF3DF26D0>], assessment=<immuneML.hyperparameter_optimization.config.SplitConfig.SplitConfig object at 0x0000023FF7500DF0>, selection=<immuneML.hyperparameter_optimization.config.SplitConfig.SplitConfig object at 0x0000023FF75004F0>, metrics={<Metric.ACCURACY: 'accuracy_score'>}, optimization_metric=<Metric.BALANCED_ACCURACY: 'balanced_accuracy_score'>, label_configuration=<immuneML.environment.LabelConfiguration.LabelConfiguration object at 0x0000023FF75000D0>, path=WindowsPath('C:/Users/karth/Desktop/PhD projects/immuneML/immuneML/analysis_runs/7445dd22466e58dfe647730a635b0547'), context={'dataset': <immuneML.data_model.dataset.RepertoireDataset.RepertoireDataset object at 0x0000023FF7526FA0>}, number_of_processes=3, reports={'hprep': <immuneML.reports.train_ml_model_reports.MLSettingsPerformance.MLSettingsPerformance object at 0x0000023FF74A3A00>}, name='machine_learning_instruction', refit_optimal_model=False, optimal_hp_items={}, optimal_hp_item_paths={}, assessment_states=[], report_results=[])}"
   ]
  },
  {
   "cell_type": "code",
   "execution_count": 22,
   "metadata": {},
   "outputs": [],
   "source": [
    "specs = {\n",
    "    \"definitions\": {\n",
    "        \"datasets\": {\n",
    "            \"d1\": {\n",
    "                \"format\": \"AIRR\",\n",
    "                \"params\": {\n",
    "                    \"path\": str(path / \"result1/simulation_instruction/exported_dataset/airr/\"),\n",
    "                    \"metadata_file\": str(path / \"result1/simulation_instruction/exported_dataset/airr/metadata.csv\")\n",
    "                }\n",
    "            }\n",
    "        },\n",
    "        \"encodings\": {\n",
    "            \"e1\": {\n",
    "                \"KmerFrequency\": {\n",
    "                    \"k\": 3\n",
    "                }\n",
    "            },\n",
    "            \"e2\": {\n",
    "                \"KmerFrequency\": {\n",
    "                    \"k\": 2\n",
    "                }\n",
    "            }\n",
    "        },\n",
    "        \"ml_methods\": {\n",
    "            \"simpleLR\": {\n",
    "                \"LogisticRegression\": {\n",
    "                    \"C\": 0.1,\n",
    "                    \"penalty\": \"l1\",\n",
    "                    \"max_iter\": 200\n",
    "                }}\n",
    "        },\n",
    "        \"reports\": {\n",
    "            \"rep1\": {\n",
    "                \"SequenceLengthDistribution\": {\n",
    "                    \"batch_size\": 3\n",
    "                }\n",
    "            },\n",
    "            \"hprep\": \"MLSettingsPerformance\",\n",
    "            \"coef\": \"Coefficients\"\n",
    "        }\n",
    "    },\n",
    "    \"instructions\": {\n",
    "        \"machine_learning_instruction\": {\n",
    "            \"type\": \"TrainMLModel\",\n",
    "            \"settings\": [\n",
    "                {\n",
    "                    \"encoding\": \"e1\",\n",
    "                    \"ml_method\": \"simpleLR\"\n",
    "                },\n",
    "                {\n",
    "                    \"encoding\": \"e2\",\n",
    "                    \"ml_method\": \"simpleLR\"\n",
    "                }\n",
    "            ],\n",
    "            \"assessment\": {\n",
    "                \"split_strategy\": \"random\",\n",
    "                \"split_count\": 1,\n",
    "                \"training_percentage\": 0.7,\n",
    "                \"reports\": {\n",
    "                    \"data_splits\": [\"rep1\"],\n",
    "                    'models': [\"coef\"]\n",
    "                }\n",
    "            },\n",
    "            \"selection\": {\n",
    "                \"split_strategy\": \"random\",\n",
    "                \"split_count\": 1,\n",
    "                \"training_percentage\": 0.7,\n",
    "                \"reports\": {\n",
    "                    \"data_splits\": [\"rep1\"],\n",
    "                    \"models\": [],\n",
    "                }\n",
    "            },\n",
    "            \"labels\": [\"my_signal\"],\n",
    "            \"dataset\": \"d1\",\n",
    "            \"strategy\": \"GridSearch\",\n",
    "            \"metrics\": [\"accuracy\"],\n",
    "            \"reports\": [\"hprep\"],\n",
    "            \"number_of_processes\": 3,\n",
    "            \"optimization_metric\": \"balanced_accuracy\",\n",
    "            \"refit_optimal_model\": False\n",
    "        }\n",
    "    }\n",
    "}\n"
   ]
  },
  {
   "cell_type": "markdown",
   "metadata": {},
   "source": [
    "<h2> Run HPAssessment </h2>"
   ]
  },
  {
   "cell_type": "code",
   "execution_count": 40,
   "metadata": {},
   "outputs": [],
   "source": [
    "Ml_result_path = path / \"ML_result\"\n"
   ]
  },
  {
   "cell_type": "markdown",
   "metadata": {},
   "source": [
    "<h3>DatasetImport </h3>"
   ]
  },
  {
   "cell_type": "code",
   "execution_count": 17,
   "metadata": {},
   "outputs": [
    {
     "name": "stderr",
     "output_type": "stream",
     "text": [
      "c:\\Users\\karth\\anaconda3\\envs\\test\\lib\\site-packages\\tqdm\\auto.py:22: TqdmWarning: IProgress not found. Please update jupyter and ipywidgets. See https://ipywidgets.readthedocs.io/en/stable/user_install.html\n",
      "  from .autonotebook import tqdm as notebook_tqdm\n"
     ]
    }
   ],
   "source": []
  },
  {
   "cell_type": "code",
   "execution_count": 41,
   "metadata": {},
   "outputs": [],
   "source": [
    "from immuneML.IO.dataset_import.AIRRImport import AIRRImport\n"
   ]
  },
  {
   "cell_type": "code",
   "execution_count": 42,
   "metadata": {},
   "outputs": [],
   "source": [
    "column_mapping = {\n",
    "    \"junction\": \"sequences\",\n",
    "    \"junction_aa\": \"sequence_aas\",\n",
    "    \"v_call\": \"v_alleles\",\n",
    "    \"j_call\": \"j_alleles\",\n",
    "    \"locus\": \"chains\",\n",
    "    \"duplicate_count\": \"counts\",\n",
    "    \"sequence_id\": \"sequence_identifiers\"\n",
    "}\n"
   ]
  },
  {
   "cell_type": "code",
   "execution_count": 43,
   "metadata": {},
   "outputs": [],
   "source": [
    "params = {\"is_repertoire\": True, \"result_path\": Ml_result_path / \"results\", \"path\": path_exported, \"metadata_file\": path_exported / \"metadata.csv\",\n",
    "          \"import_out_of_frame\": False, \"import_with_stop_codon\": False, \"import_illegal_characters\": False,\n",
    "          \"import_productive\": True, \"region_type\": \"IMGT_CDR3\", \"import_empty_nt_sequences\": True, \"import_empty_aa_sequences\": False,\n",
    "          \"column_mapping\": column_mapping,\n",
    "          \"separator\": \"\\t\"}\n"
   ]
  },
  {
   "cell_type": "code",
   "execution_count": 44,
   "metadata": {},
   "outputs": [
    {
     "data": {
      "text/plain": [
       "{'is_repertoire': True,\n",
       " 'result_path': WindowsPath('C:/Users/karth/Desktop/PhD projects/immuneML/immuneML/test/tmp/random_repertoire1_dataset_generation/ML_result/results'),\n",
       " 'path': WindowsPath('C:/Users/karth/Desktop/PhD projects/immuneML/immuneML/test/tmp/random_repertoire1_dataset_generation/exported'),\n",
       " 'metadata_file': WindowsPath('C:/Users/karth/Desktop/PhD projects/immuneML/immuneML/test/tmp/random_repertoire1_dataset_generation/exported/metadata.csv'),\n",
       " 'import_out_of_frame': False,\n",
       " 'import_with_stop_codon': False,\n",
       " 'import_illegal_characters': False,\n",
       " 'import_productive': True,\n",
       " 'region_type': 'IMGT_CDR3',\n",
       " 'import_empty_nt_sequences': True,\n",
       " 'import_empty_aa_sequences': False,\n",
       " 'column_mapping': {'junction': 'sequences',\n",
       "  'junction_aa': 'sequence_aas',\n",
       "  'v_call': 'v_alleles',\n",
       "  'j_call': 'j_alleles',\n",
       "  'locus': 'chains',\n",
       "  'duplicate_count': 'counts',\n",
       "  'sequence_id': 'sequence_identifiers'},\n",
       " 'separator': '\\t'}"
      ]
     },
     "execution_count": 44,
     "metadata": {},
     "output_type": "execute_result"
    }
   ],
   "source": [
    "params"
   ]
  },
  {
   "cell_type": "code",
   "execution_count": 45,
   "metadata": {},
   "outputs": [],
   "source": [
    "dataset = AIRRImport.import_dataset(params, \"airr_repertoire_dataset_1\")\n"
   ]
  },
  {
   "cell_type": "code",
   "execution_count": 46,
   "metadata": {},
   "outputs": [
    {
     "data": {
      "text/plain": [
       "immuneML.data_model.dataset.RepertoireDataset.RepertoireDataset"
      ]
     },
     "execution_count": 46,
     "metadata": {},
     "output_type": "execute_result"
    }
   ],
   "source": [
    "type(dataset)"
   ]
  },
  {
   "cell_type": "markdown",
   "metadata": {},
   "source": []
  },
  {
   "cell_type": "markdown",
   "metadata": {},
   "source": [
    "<h3>Assessment</h3>"
   ]
  },
  {
   "cell_type": "code",
   "execution_count": 47,
   "metadata": {},
   "outputs": [],
   "source": [
    "from immuneML.hyperparameter_optimization.config.ReportConfig import ReportConfig\n"
   ]
  },
  {
   "cell_type": "code",
   "execution_count": 48,
   "metadata": {},
   "outputs": [],
   "source": [
    "datasplits = {\n",
    "    \"SequenceLengthDistribution\": {\n",
    "        \"batch_size\": 3\n",
    "    }\n",
    "}\n",
    "models1 = {\"coef\": \"Coefficients\"}\n"
   ]
  },
  {
   "cell_type": "code",
   "execution_count": 49,
   "metadata": {},
   "outputs": [],
   "source": [
    "reportconfig1 = ReportConfig(\n",
    "    data_splits=datasplits, models=models1)\n"
   ]
  },
  {
   "cell_type": "code",
   "execution_count": 50,
   "metadata": {},
   "outputs": [],
   "source": [
    "from immuneML.hyperparameter_optimization.config.SplitConfig import SplitConfig\n",
    "from immuneML.hyperparameter_optimization.config.SplitConfig import SplitType\n",
    "\n",
    "assessment = SplitConfig(\n",
    "    split_strategy=SplitType.RANDOM, split_count=1, training_percentage=0.7, reports=reportconfig1)\n"
   ]
  },
  {
   "cell_type": "markdown",
   "metadata": {},
   "source": [
    "<h3> Label configurator </h3>"
   ]
  },
  {
   "cell_type": "code",
   "execution_count": 51,
   "metadata": {},
   "outputs": [],
   "source": [
    "from immuneML.environment.LabelConfiguration import LabelConfiguration\n",
    "from immuneML.environment.Label import Label\n",
    "label_configuration = LabelConfiguration(labels=[Label(\"my_signal\")])\n"
   ]
  },
  {
   "cell_type": "markdown",
   "metadata": {},
   "source": [
    "<h3>Split Data </h3>"
   ]
  },
  {
   "cell_type": "code",
   "execution_count": 52,
   "metadata": {},
   "outputs": [
    {
     "name": "stderr",
     "output_type": "stream",
     "text": [
      "c:\\Users\\karth\\anaconda3\\envs\\test\\lib\\site-packages\\tqdm\\auto.py:22: TqdmWarning: IProgress not found. Please update jupyter and ipywidgets. See https://ipywidgets.readthedocs.io/en/stable/user_install.html\n",
      "  from .autonotebook import tqdm as notebook_tqdm\n"
     ]
    }
   ],
   "source": [
    "from immuneML.hyperparameter_optimization.core.HPUtil import HPUtil\n"
   ]
  },
  {
   "cell_type": "code",
   "execution_count": 53,
   "metadata": {},
   "outputs": [],
   "source": [
    "airr_data = Ml_result_path / \"results\""
   ]
  },
  {
   "cell_type": "code",
   "execution_count": 54,
   "metadata": {},
   "outputs": [],
   "source": [
    "train_val_datasets, test_datasets = HPUtil.split_data(dataset, assessment, airr_data, label_configuration )"
   ]
  },
  {
   "cell_type": "code",
   "execution_count": 55,
   "metadata": {},
   "outputs": [],
   "source": [
    "n_splits = len(train_val_datasets)\n"
   ]
  },
  {
   "cell_type": "code",
   "execution_count": 56,
   "metadata": {},
   "outputs": [
    {
     "data": {
      "text/plain": [
       "1"
      ]
     },
     "execution_count": 56,
     "metadata": {},
     "output_type": "execute_result"
    }
   ],
   "source": [
    "n_splits"
   ]
  },
  {
   "cell_type": "code",
   "execution_count": 57,
   "metadata": {},
   "outputs": [
    {
     "name": "stdout",
     "output_type": "stream",
     "text": [
      "<immuneML.data_model.dataset.RepertoireDataset.RepertoireDataset object at 0x000002B39C9B0760> <immuneML.data_model.dataset.RepertoireDataset.RepertoireDataset object at 0x000002B3AC9B16D0> 0 1\n"
     ]
    }
   ],
   "source": [
    "for index in range(n_splits):\n",
    "    print(train_val_datasets[index], test_datasets[index], index, n_splits)\n"
   ]
  },
  {
   "cell_type": "code",
   "execution_count": 58,
   "metadata": {},
   "outputs": [],
   "source": [
    "assesment_data = Ml_result_path / \"assesment\""
   ]
  },
  {
   "cell_type": "code",
   "execution_count": 59,
   "metadata": {},
   "outputs": [
    {
     "data": {
      "text/plain": [
       "WindowsPath('C:/Users/karth/Desktop/PhD projects/immuneML/immuneML/test/tmp/random_repertoire1_dataset_generation/ML_result/assesment')"
      ]
     },
     "execution_count": 59,
     "metadata": {},
     "output_type": "execute_result"
    }
   ],
   "source": [
    "assesment_data"
   ]
  },
  {
   "cell_type": "code",
   "execution_count": 60,
   "metadata": {},
   "outputs": [],
   "source": [
    "from immuneML.util.PathBuilder import PathBuilder\n"
   ]
  },
  {
   "cell_type": "code",
   "execution_count": 61,
   "metadata": {},
   "outputs": [
    {
     "data": {
      "text/plain": [
       "WindowsPath('C:/Users/karth/Desktop/PhD projects/immuneML/immuneML/test/tmp/random_repertoire1_dataset_generation/ML_result/assesment/split_1')"
      ]
     },
     "execution_count": 61,
     "metadata": {},
     "output_type": "execute_result"
    }
   ],
   "source": [
    "current_path = assesment_data / f\"split_{index + 1}\"\n",
    "PathBuilder.build(current_path)\n",
    "\n",
    "\n"
   ]
  },
  {
   "cell_type": "code",
   "execution_count": 62,
   "metadata": {},
   "outputs": [],
   "source": [
    "from immuneML.hyperparameter_optimization.states.HPAssessmentState import HPAssessmentState\n"
   ]
  },
  {
   "cell_type": "code",
   "execution_count": 63,
   "metadata": {},
   "outputs": [],
   "source": [
    "assessment_state = HPAssessmentState(\n",
    "    index, train_val_datasets[index], test_datasets[index], current_path,label_configuration)\n"
   ]
  },
  {
   "cell_type": "markdown",
   "metadata": {},
   "source": [
    "<h3> Evaluate HP settings </h3>"
   ]
  },
  {
   "cell_type": "code",
   "execution_count": 64,
   "metadata": {},
   "outputs": [
    {
     "data": {
      "text/plain": [
       "<immuneML.hyperparameter_optimization.states.HPAssessmentState.HPAssessmentState at 0x2b3b4fc1190>"
      ]
     },
     "execution_count": 64,
     "metadata": {},
     "output_type": "execute_result"
    }
   ],
   "source": [
    "assessment_state"
   ]
  },
  {
   "cell_type": "code",
   "execution_count": 65,
   "metadata": {},
   "outputs": [
    {
     "data": {
      "text/plain": [
       "WindowsPath('C:/Users/karth/Desktop/PhD projects/immuneML/immuneML/test/tmp/random_repertoire1_dataset_generation/ML_result/assesment/split_1')"
      ]
     },
     "execution_count": 65,
     "metadata": {},
     "output_type": "execute_result"
    }
   ],
   "source": [
    "current_path"
   ]
  },
  {
   "cell_type": "code",
   "execution_count": null,
   "metadata": {},
   "outputs": [],
   "source": [
    "from immuneML.hyperparameter_optimization.config.SplitConfig import SplitConfig\n"
   ]
  },
  {
   "cell_type": "code",
   "execution_count": 69,
   "metadata": {},
   "outputs": [
    {
     "data": {
      "text/plain": [
       "{'SequenceLengthDistribution': {'batch_size': 3}}"
      ]
     },
     "execution_count": 69,
     "metadata": {},
     "output_type": "execute_result"
    }
   ],
   "source": [
    "datasplits"
   ]
  },
  {
   "cell_type": "code",
   "execution_count": 68,
   "metadata": {},
   "outputs": [],
   "source": [
    "reportconfig2 = ReportConfig(\n",
    "    data_splits=datasplits)\n"
   ]
  },
  {
   "cell_type": "code",
   "execution_count": 70,
   "metadata": {},
   "outputs": [],
   "source": [
    "split_config_selection = SplitConfig(\n",
    "    split_strategy=SplitType.RANDOM, split_count=1, training_percentage=.07, reports=reportconfig2)\n"
   ]
  },
  {
   "cell_type": "code",
   "execution_count": 67,
   "metadata": {},
   "outputs": [
    {
     "data": {
      "text/plain": [
       "WindowsPath('C:/Users/karth/Desktop/PhD projects/immuneML/immuneML/test/tmp/random_repertoire1_dataset_generation/ML_result/assesment/split_1/selection_random')"
      ]
     },
     "execution_count": 67,
     "metadata": {},
     "output_type": "execute_result"
    }
   ],
   "source": [
    "selection_path = current_path / f\"selection_random\"\n",
    "PathBuilder.build(selection_path)"
   ]
  },
  {
   "cell_type": "code",
   "execution_count": 71,
   "metadata": {},
   "outputs": [
    {
     "data": {
      "text/plain": [
       "<SplitType.RANDOM: 2>"
      ]
     },
     "execution_count": 71,
     "metadata": {},
     "output_type": "execute_result"
    }
   ],
   "source": [
    "split_config_selection.split_strategy"
   ]
  },
  {
   "cell_type": "code",
   "execution_count": 72,
   "metadata": {},
   "outputs": [
    {
     "data": {
      "text/plain": [
       "0"
      ]
     },
     "execution_count": 72,
     "metadata": {},
     "output_type": "execute_result"
    }
   ],
   "source": [
    "index"
   ]
  },
  {
   "cell_type": "code",
   "execution_count": 74,
   "metadata": {},
   "outputs": [
    {
     "data": {
      "text/plain": [
       "<immuneML.data_model.dataset.RepertoireDataset.RepertoireDataset at 0x2b39c9b0760>"
      ]
     },
     "execution_count": 74,
     "metadata": {},
     "output_type": "execute_result"
    }
   ],
   "source": [
    "train_val_datasets[index]"
   ]
  },
  {
   "cell_type": "code",
   "execution_count": null,
   "metadata": {},
   "outputs": [],
   "source": [
    "split_config_selection"
   ]
  },
  {
   "cell_type": "code",
   "execution_count": 73,
   "metadata": {},
   "outputs": [
    {
     "data": {
      "text/plain": [
       "<immuneML.environment.LabelConfiguration.LabelConfiguration at 0x2b3ac9b5b50>"
      ]
     },
     "execution_count": 73,
     "metadata": {},
     "output_type": "execute_result"
    }
   ],
   "source": [
    "label_configuration"
   ]
  },
  {
   "cell_type": "code",
   "execution_count": 75,
   "metadata": {},
   "outputs": [],
   "source": [
    "train_datasets, val_datasets = HPUtil.split_data(\n",
    "    train_val_datasets[index],split_config_selection , selection_path, label_configuration)\n"
   ]
  },
  {
   "cell_type": "code",
   "execution_count": 76,
   "metadata": {},
   "outputs": [],
   "source": [
    "n_labels = label_configuration.get_label_count()"
   ]
  },
  {
   "cell_type": "code",
   "execution_count": 77,
   "metadata": {},
   "outputs": [
    {
     "data": {
      "text/plain": [
       "1"
      ]
     },
     "execution_count": 77,
     "metadata": {},
     "output_type": "execute_result"
    }
   ],
   "source": [
    "n_labels"
   ]
  },
  {
   "cell_type": "code",
   "execution_count": 114,
   "metadata": {},
   "outputs": [
    {
     "data": {
      "text/plain": [
       "<immuneML.data_model.dataset.RepertoireDataset.RepertoireDataset at 0x2b39c9b0760>"
      ]
     },
     "execution_count": 114,
     "metadata": {},
     "output_type": "execute_result"
    }
   ],
   "source": [
    "train_val_datasets[index]"
   ]
  },
  {
   "cell_type": "code",
   "execution_count": 78,
   "metadata": {},
   "outputs": [
    {
     "data": {
      "text/plain": [
       "[<immuneML.environment.Label.Label at 0x2b3ac9b50a0>]"
      ]
     },
     "execution_count": 78,
     "metadata": {},
     "output_type": "execute_result"
    }
   ],
   "source": [
    "label_configuration.get_label_objects()\n"
   ]
  },
  {
   "cell_type": "code",
   "execution_count": 80,
   "metadata": {},
   "outputs": [],
   "source": [
    "assessment_states = []"
   ]
  },
  {
   "cell_type": "code",
   "execution_count": 81,
   "metadata": {},
   "outputs": [],
   "source": [
    "assessment_states.append(assessment_state)"
   ]
  },
  {
   "cell_type": "code",
   "execution_count": 82,
   "metadata": {},
   "outputs": [
    {
     "data": {
      "text/plain": [
       "[<immuneML.hyperparameter_optimization.states.HPAssessmentState.HPAssessmentState at 0x2b3b4fc1190>]"
      ]
     },
     "execution_count": 82,
     "metadata": {},
     "output_type": "execute_result"
    }
   ],
   "source": [
    "assessment_states"
   ]
  },
  {
   "cell_type": "markdown",
   "metadata": {},
   "source": [
    "<h3> HP setting and Strategy </h3>"
   ]
  },
  {
   "cell_type": "code",
   "execution_count": 207,
   "metadata": {},
   "outputs": [],
   "source": [
    "from immuneML.encodings.kmer_frequency.KmerFrequencyEncoder import KmerFrequencyEncoder\n",
    "from immuneML.hyperparameter_optimization.HPSetting import HPSetting\n",
    "from immuneML.hyperparameter_optimization.strategy.GridSearch import GridSearch\n",
    "from immuneML.ml_methods.LogisticRegression import LogisticRegression\n",
    "\n",
    "from immuneML.hyperparameter_optimization.HPSetting import HPSetting\n",
    "from immuneML.encodings.kmer_frequency.KmerFreqRepertoireEncoder import KmerFreqRepertoireEncoder\n",
    "from immuneML.encodings.kmer_frequency.KmerFrequencyEncoder import KmerFrequencyEncoder\n",
    "\n",
    "from immuneML.encodings.kmer_frequency.sequence_encoding.SequenceEncodingType import SequenceEncodingType\n",
    "from immuneML.analysis.data_manipulation.NormalizationType import NormalizationType\n",
    "\n",
    "from immuneML.hyperparameter_optimization.HPSetting import HPSetting\n",
    "from immuneML.encodings.kmer_frequency.KmerFreqRepertoireEncoder import KmerFreqRepertoireEncoder\n",
    "from immuneML.encodings.kmer_frequency.KmerFrequencyEncoder import KmerFrequencyEncoder\n",
    "from immuneML.util.ReadsType import ReadsType\n",
    "\n",
    "from immuneML.encodings.kmer_frequency.sequence_encoding.SequenceEncodingType import SequenceEncodingType\n",
    "from immuneML.analysis.data_manipulation.NormalizationType import NormalizationType\n"
   ]
  },
  {
   "cell_type": "code",
   "execution_count": 208,
   "metadata": {},
   "outputs": [],
   "source": [
    "encoder1 = KmerFreqRepertoireEncoder(NormalizationType.RELATIVE_FREQUENCY, ReadsType.UNIQUE, SequenceEncodingType.CONTINUOUS_KMER, 3,\n",
    "                                    scale_to_zero_mean=True, scale_to_unit_variance=True)\n",
    "\n",
    "encoder2 = KmerFreqRepertoireEncoder(NormalizationType.RELATIVE_FREQUENCY, ReadsType.UNIQUE, SequenceEncodingType.CONTINUOUS_KMER, 2,\n",
    "                                            scale_to_zero_mean=True, scale_to_unit_variance=True)\n"
   ]
  },
  {
   "cell_type": "code",
   "execution_count": 248,
   "metadata": {},
   "outputs": [],
   "source": [
    "hp_setting1 = HPSetting(encoder1, encoder_params= {\"normalization_type\": \"relative_frequency\", \"reads\": \"unique\", \"sequence_encoding\": \"continuous_kmer\",\n",
    "                                                   \"k\": 3, \"scale_to_zero_mean\": True, \"scale_to_unit_variance\": True},  encoder_name=\"e1\", ml_method=LogisticRegression(\n",
    "    {\"C\": 0.1, \"penalty\": \"l1\", \"max_iter\": 200}), ml_params={\"model_selection_cv\": False, \"model_selection_n_folds\": -1}, ml_method_name=\"simpleLR\", preproc_sequence=[])\n",
    "hp_setting2 = HPSetting(encoder2, encoder_params={\"normalization_type\": \"relative_frequency\", \"reads\": \"unique\", \"sequence_encoding\": \"continuous_kmer\",\n",
    "                                                  \"k\": 2, \"scale_to_zero_mean\": True, \"scale_to_unit_variance\": True},  encoder_name=\"e2\", ml_method=LogisticRegression(\n",
    "    {\"C\": 0.1, \"penalty\": \"l1\", \"max_iter\": 200}), ml_params={\"model_selection_cv\": False, \"model_selection_n_folds\": -1}, ml_method_name=\"simpleLR\", preproc_sequence=[])\n"
   ]
  },
  {
   "cell_type": "code",
   "execution_count": 249,
   "metadata": {},
   "outputs": [],
   "source": [
    "# hp_settings = [HPSetting(encoder=KmerFreqRepertoireEncoder(reads=ReadsType.UNIQUE, sequence_encoding=SequenceEncodingType.GAPPED_KMER, normalization_type=NormalizationType.RELATIVE_FREQUENCY), encoder_params={\"k\": 3, \"reads\": ReadsType.UNIQUE, \"sequence_encoding\": SequenceEncodingType.GAPPED_KMER, \"normalization_type\": NormalizationType.RELATIVE_FREQUENCY}, encoder_name=\"e1\", ml_method=LogisticRegression(\n",
    "#     {\"C\": 0.1, \"penalty\": \"l1\", \"max_iter\": 200}),\n",
    "#                          ml_params={ }, ml_method_name=\"simpleLR\",\n",
    "#                          preproc_sequence=[]),\n",
    "#                HPSetting(encoder=KmerFrequencyEncoder(), encoder_params={\"normalization_type\": \"relative_frequency\", \"reads\": \"unique\", \"sequence_encoding\": \"continuous_kmer\",\n",
    "#                                                                        \"k\": 2, \"scale_to_zero_mean\": True, \"scale_to_unit_variance\": True}, encoder_name=\"e2\", ml_method=LogisticRegression(),\n",
    "#                          ml_params={}, ml_method_name=\"simpleLR\",\n",
    "#                          preproc_sequence=[])]\n",
    "\n",
    "\n",
    "hp_settings = [hp_setting1,hp_setting2]\n",
    "HPStrategy = GridSearch(hp_settings)\n"
   ]
  },
  {
   "cell_type": "code",
   "execution_count": 150,
   "metadata": {},
   "outputs": [
    {
     "data": {
      "text/plain": [
       "{'normalization_type': 'relative_frequency',\n",
       " 'reads': 'unique',\n",
       " 'sequence_encoding': 'continuous_kmer',\n",
       " 'k': 3,\n",
       " 'scale_to_zero_mean': True,\n",
       " 'scale_to_unit_variance': True}"
      ]
     },
     "execution_count": 150,
     "metadata": {},
     "output_type": "execute_result"
    }
   ],
   "source": []
  },
  {
   "cell_type": "code",
   "execution_count": 250,
   "metadata": {},
   "outputs": [],
   "source": [
    "from immuneML.hyperparameter_optimization.states.HPSelectionState import HPSelectionState\n"
   ]
  },
  {
   "cell_type": "code",
   "execution_count": 251,
   "metadata": {},
   "outputs": [],
   "source": [
    "number_of_processes = 3\n",
    "\n",
    "context = {'dataset': dataset}\n"
   ]
  },
  {
   "cell_type": "code",
   "execution_count": 252,
   "metadata": {},
   "outputs": [],
   "source": [
    "from immuneML.ml_metrics.Metric import Metric\n",
    "metrics = {Metric.ACCURACY}\n",
    "optimisatization_metric = Metric.BALANCED_ACCURACY"
   ]
  },
  {
   "cell_type": "code",
   "execution_count": 253,
   "metadata": {},
   "outputs": [
    {
     "data": {
      "text/plain": [
       "{<Metric.ACCURACY: 'accuracy_score'>}"
      ]
     },
     "execution_count": 253,
     "metadata": {},
     "output_type": "execute_result"
    }
   ],
   "source": [
    "metrics"
   ]
  },
  {
   "cell_type": "code",
   "execution_count": 254,
   "metadata": {},
   "outputs": [
    {
     "data": {
      "text/plain": [
       "<immuneML.environment.Label.Label at 0x2b3ac9b50a0>"
      ]
     },
     "execution_count": 254,
     "metadata": {},
     "output_type": "execute_result"
    }
   ],
   "source": [
    "label"
   ]
  },
  {
   "cell_type": "code",
   "execution_count": 255,
   "metadata": {},
   "outputs": [],
   "source": [
    "index1 = 0"
   ]
  },
  {
   "cell_type": "code",
   "execution_count": null,
   "metadata": {},
   "outputs": [],
   "source": []
  },
  {
   "cell_type": "code",
   "execution_count": 241,
   "metadata": {},
   "outputs": [],
   "source": [
    "\n",
    "def _set_paths(path):\n",
    "        if path is None:\n",
    "            raise RuntimeError(\n",
    "                \"MLProcess: path is not set, stopping execution...\")\n",
    "        ml_details_path = path / \"ml_details.yaml\"\n",
    "        ml_score_path = path / \"ml_score.csv\"\n",
    "        train_predictions_path = path / \"train_predictions.csv\"\n",
    "        test_predictions_path = path / \"test_predictions.csv\"\n",
    "        report_path = PathBuilder.build(path / \"reports\")\n"
   ]
  },
  {
   "cell_type": "code",
   "execution_count": 256,
   "metadata": {},
   "outputs": [],
   "source": [
    "ml_details_path = path / \"ml_details.yaml\"\n",
    "ml_score_path = path / \"ml_score.csv\"\n",
    "train_predictions_path = path / \"train_predictions.csv\"\n",
    "test_predictions_path = path / \"test_predictions.csv\"\n",
    "report_path = PathBuilder.build(path / \"reports\")\n"
   ]
  },
  {
   "cell_type": "code",
   "execution_count": 257,
   "metadata": {},
   "outputs": [
    {
     "data": {
      "text/plain": [
       "<immuneML.environment.Label.Label at 0x2b3ac9b50a0>"
      ]
     },
     "execution_count": 257,
     "metadata": {},
     "output_type": "execute_result"
    }
   ],
   "source": [
    "label"
   ]
  },
  {
   "cell_type": "code",
   "execution_count": 258,
   "metadata": {},
   "outputs": [],
   "source": [
    "def MLProcess(train_dataset=train_datasets[index1], test_dataset=val_datasets[index1], encoding_reports=split_config_selection.reports.encoding_reports.values(), label_config=LabelConfiguration([label]),report_context=context, number_of_processes=number_of_processes, metrics=metrics,\n",
    "            optimization_metric=optimisatization_metric, ml_reports=split_config_selection.reports.model_reports.values(), label=label, path=selection_path / f\"split_{index1 + 1}\" / f\"{label.name}_{hp_setting.get_key()}\", hp_setting=hp_setting):\n",
    "\n",
    "    print(f\"{datetime.datetime.now()}: Evaluating hyperparameter setting: {hp_setting}...\", flush=True)\n",
    "\n",
    "    PathBuilder.build(path)\n",
    "    _set_paths(path)\n",
    "    processed_dataset = HPUtil.preprocess_dataset(train_dataset, hp_setting.preproc_sequence, path / \"preprocessed_train_dataset\" , report_context) \n",
    "\n",
    "    type(processed_dataset)\n",
    "\n",
    "    encode_train_dataset = HPUtil.encode_dataset(processed_dataset, hp_setting, path /\"encoded_datasets\", learn_model= True, context = context, number_of_processes=number_of_processes, label_configuration=LabelConfiguration([label]) )\n",
    "\n",
    "    "
   ]
  },
  {
   "cell_type": "code",
   "execution_count": 259,
   "metadata": {},
   "outputs": [],
   "source": [
    "path=selection_path / f\"split_{index1 + 1}\" / f\"{label.name}_{hp_setting.get_key()}\""
   ]
  },
  {
   "cell_type": "code",
   "execution_count": 260,
   "metadata": {},
   "outputs": [],
   "source": [
    "processed_dataset = HPUtil.preprocess_dataset(\n",
    "    train_datasets[index1], hp_setting.preproc_sequence, path / \"preprocessed_train_dataset\", context)\n"
   ]
  },
  {
   "cell_type": "code",
   "execution_count": 261,
   "metadata": {},
   "outputs": [
    {
     "data": {
      "text/plain": [
       "[]"
      ]
     },
     "execution_count": 261,
     "metadata": {},
     "output_type": "execute_result"
    }
   ],
   "source": [
    "hp_setting.preproc_sequence"
   ]
  },
  {
   "cell_type": "code",
   "execution_count": 262,
   "metadata": {},
   "outputs": [
    {
     "ename": "NameError",
     "evalue": "name 'Data' is not defined",
     "output_type": "error",
     "traceback": [
      "\u001b[1;31m---------------------------------------------------------------------------\u001b[0m",
      "\u001b[1;31mNameError\u001b[0m                                 Traceback (most recent call last)",
      "Input \u001b[1;32mIn [262]\u001b[0m, in \u001b[0;36m<cell line: 1>\u001b[1;34m()\u001b[0m\n\u001b[1;32m----> 1\u001b[0m Data\n",
      "\u001b[1;31mNameError\u001b[0m: name 'Data' is not defined"
     ]
    }
   ],
   "source": [
    "Data"
   ]
  },
  {
   "cell_type": "code",
   "execution_count": null,
   "metadata": {},
   "outputs": [
    {
     "name": "stdout",
     "output_type": "stream",
     "text": [
      "2022-05-14 15:52:15.302251: Encoding started...\n",
      "2022-05-14 15:52:19.202251: Encoding finished.\n"
     ]
    },
    {
     "name": "stderr",
     "output_type": "stream",
     "text": [
      "c:\\Users\\karth\\anaconda3\\envs\\test\\lib\\site-packages\\sklearn\\utils\\validation.py:593: FutureWarning: np.matrix usage is deprecated in 1.0 and will raise a TypeError in 1.2. Please convert to a numpy array with np.asarray. For more information see: https://numpy.org/doc/stable/reference/generated/numpy.matrix.html\n",
      "  warnings.warn(\n",
      "c:\\Users\\karth\\anaconda3\\envs\\test\\lib\\site-packages\\sklearn\\utils\\validation.py:593: FutureWarning: np.matrix usage is deprecated in 1.0 and will raise a TypeError in 1.2. Please convert to a numpy array with np.asarray. For more information see: https://numpy.org/doc/stable/reference/generated/numpy.matrix.html\n",
      "  warnings.warn(\n"
     ]
    }
   ],
   "source": [
    "encode_train_dataset = HPUtil.encode_dataset(processed_dataset, hp_setting, path /\"encoded_datasets\", learn_model= True, context = context, number_of_processes=number_of_processes, label_configuration=LabelConfiguration([label]) )"
   ]
  },
  {
   "cell_type": "code",
   "execution_count": 279,
   "metadata": {},
   "outputs": [],
   "source": [
    "hp_setting.ml_params = {\"model_selection_cv\": False,\n",
    "                        \"model_selection_n_folds\": 0}\n"
   ]
  },
  {
   "cell_type": "code",
   "execution_count": 280,
   "metadata": {},
   "outputs": [
    {
     "data": {
      "text/plain": [
       "{'model_selection_cv': False, 'model_selection_n_folds': 0}"
      ]
     },
     "execution_count": 280,
     "metadata": {},
     "output_type": "execute_result"
    }
   ],
   "source": [
    "hp_setting.ml_params"
   ]
  },
  {
   "cell_type": "code",
   "execution_count": 281,
   "metadata": {},
   "outputs": [
    {
     "data": {
      "text/plain": [
       "<immuneML.ml_methods.LogisticRegression.LogisticRegression at 0x2b3b56339d0>"
      ]
     },
     "execution_count": 281,
     "metadata": {},
     "output_type": "execute_result"
    }
   ],
   "source": [
    "hp_setting.ml_method"
   ]
  },
  {
   "cell_type": "code",
   "execution_count": 289,
   "metadata": {},
   "outputs": [],
   "source": [
    "from immuneML.workflows.steps.MLMethodTrainer import MLMethodTrainer\n"
   ]
  },
  {
   "cell_type": "code",
   "execution_count": 290,
   "metadata": {},
   "outputs": [
    {
     "data": {
      "text/plain": [
       "<immuneML.ml_methods.LogisticRegression.LogisticRegression at 0x2b3b7f77340>"
      ]
     },
     "execution_count": 290,
     "metadata": {},
     "output_type": "execute_result"
    }
   ],
   "source": [
    "hp_setting.ml_method"
   ]
  },
  {
   "cell_type": "code",
   "execution_count": 292,
   "metadata": {},
   "outputs": [],
   "source": [
    "from immuneML.workflows.steps.MLMethodTrainerParams import MLMethodTrainerParams\n"
   ]
  },
  {
   "cell_type": "code",
   "execution_count": 294,
   "metadata": {},
   "outputs": [],
   "source": [
    "import copy\n"
   ]
  },
  {
   "cell_type": "code",
   "execution_count": 296,
   "metadata": {},
   "outputs": [],
   "source": [
    "input_params = MLMethodTrainerParams(\n",
    "    method=copy.deepcopy(hp_setting.ml_method),\n",
    "    result_path=path / \"ml_method\",\n",
    "\n",
    "    dataset=encode_train_dataset,\n",
    "\n",
    "    label=label,\n",
    "\n",
    "    train_predictions_path=train_predictions_path,\n",
    "\n",
    "    ml_details_path=ml_details_path,\n",
    "\n",
    "    model_selection_cv=hp_setting.ml_params[\"model_selection_cv\"],\n",
    "\n",
    "    model_selection_n_folds=hp_setting.ml_params[\"model_selection_n_folds\"],\n",
    "\n",
    "    cores_for_training=number_of_processes,\n",
    "\n",
    "    optimization_metric=optimisatization_metric.name.lower()\n",
    ")\n"
   ]
  },
  {
   "cell_type": "code",
   "execution_count": 305,
   "metadata": {},
   "outputs": [],
   "source": [
    "method = copy.deepcopy(input_params.method)"
   ]
  },
  {
   "cell_type": "code",
   "execution_count": 308,
   "metadata": {},
   "outputs": [],
   "source": [
    "method.result_path = input_params.result_path\n"
   ]
  },
  {
   "cell_type": "code",
   "execution_count": 2,
   "metadata": {},
   "outputs": [
    {
     "ename": "NameError",
     "evalue": "name 'method' is not defined",
     "output_type": "error",
     "traceback": [
      "\u001b[1;31m---------------------------------------------------------------------------\u001b[0m",
      "\u001b[1;31mNameError\u001b[0m                                 Traceback (most recent call last)",
      "\u001b[1;32mc:\\Users\\karth\\Desktop\\PhD projects\\immuneML\\dev_immuneML\\immuneML\\Notebook\\quickstart_workflow.ipynb Cell 105'\u001b[0m in \u001b[0;36m<cell line: 1>\u001b[1;34m()\u001b[0m\n\u001b[1;32m----> <a href='vscode-notebook-cell:/c%3A/Users/karth/Desktop/PhD%20projects/immuneML/dev_immuneML/immuneML/Notebook/quickstart_workflow.ipynb#ch0000104?line=0'>1</a>\u001b[0m method\u001b[39m.\u001b[39mresult_path\n",
      "\u001b[1;31mNameError\u001b[0m: name 'method' is not defined"
     ]
    }
   ],
   "source": [
    "method.result_path"
   ]
  },
  {
   "cell_type": "code",
   "execution_count": 310,
   "metadata": {},
   "outputs": [],
   "source": [
    "method.fit(input_params.dataset.encoded_data ,input_params.label,input_params.cores_for_training  )"
   ]
  },
  {
   "cell_type": "code",
   "execution_count": 312,
   "metadata": {},
   "outputs": [],
   "source": [
    "method.store(input_params.result_path, input_params.dataset.encoded_data.feature_names, input_params.ml_details_path)"
   ]
  },
  {
   "cell_type": "code",
   "execution_count": 1,
   "metadata": {},
   "outputs": [
    {
     "ename": "NameError",
     "evalue": "name 'method' is not defined",
     "output_type": "error",
     "traceback": [
      "\u001b[1;31m---------------------------------------------------------------------------\u001b[0m",
      "\u001b[1;31mNameError\u001b[0m                                 Traceback (most recent call last)",
      "\u001b[1;32mc:\\Users\\karth\\Desktop\\PhD projects\\immuneML\\dev_immuneML\\immuneML\\Notebook\\quickstart_workflow.ipynb Cell 108'\u001b[0m in \u001b[0;36m<cell line: 1>\u001b[1;34m()\u001b[0m\n\u001b[1;32m----> <a href='vscode-notebook-cell:/c%3A/Users/karth/Desktop/PhD%20projects/immuneML/dev_immuneML/immuneML/Notebook/quickstart_workflow.ipynb#ch0000125?line=0'>1</a>\u001b[0m method\n",
      "\u001b[1;31mNameError\u001b[0m: name 'method' is not defined"
     ]
    }
   ],
   "source": [
    "method"
   ]
  },
  {
   "cell_type": "code",
   "execution_count": 315,
   "metadata": {},
   "outputs": [],
   "source": [
    "classes = method.get_classes()"
   ]
  },
  {
   "cell_type": "code",
   "execution_count": 317,
   "metadata": {},
   "outputs": [
    {
     "data": {
      "text/plain": [
       "<function NoneType.__dir__(self, /)>"
      ]
     },
     "execution_count": 317,
     "metadata": {},
     "output_type": "execute_result"
    }
   ],
   "source": [
    "classes.__dir__"
   ]
  },
  {
   "cell_type": "code",
   "execution_count": 318,
   "metadata": {},
   "outputs": [
    {
     "ename": "TypeError",
     "evalue": "'NoneType' object is not iterable",
     "output_type": "error",
     "traceback": [
      "\u001b[1;31m---------------------------------------------------------------------------\u001b[0m",
      "\u001b[1;31mTypeError\u001b[0m                                 Traceback (most recent call last)",
      "Input \u001b[1;32mIn [318]\u001b[0m, in \u001b[0;36m<cell line: 1>\u001b[1;34m()\u001b[0m\n\u001b[1;32m----> 1\u001b[0m \u001b[39mfor\u001b[39;00m cls_index, \u001b[39mcls\u001b[39m  \u001b[39min\u001b[39;00m \u001b[39menumerate\u001b[39;49m(classes):\n\u001b[0;32m      2\u001b[0m     \u001b[39mprint\u001b[39m(cls_index, \u001b[39mcls\u001b[39m)\n",
      "\u001b[1;31mTypeError\u001b[0m: 'NoneType' object is not iterable"
     ]
    }
   ],
   "source": [
    "for cls_index, cls  in enumerate(classes):\n",
    "    print(cls_index, cls)"
   ]
  },
  {
   "cell_type": "code",
   "execution_count": 298,
   "metadata": {},
   "outputs": [
    {
     "data": {
      "text/plain": [
       "<immuneML.workflows.steps.MLMethodTrainerParams.MLMethodTrainerParams at 0x2b3ad4862b0>"
      ]
     },
     "execution_count": 298,
     "metadata": {},
     "output_type": "execute_result"
    }
   ],
   "source": [
    "method.result_path = input_params.result_path\n",
    "\n"
   ]
  },
  {
   "cell_type": "code",
   "execution_count": 299,
   "metadata": {},
   "outputs": [
    {
     "data": {
      "text/plain": [
       "<immuneML.data_model.encoded_data.EncodedData.EncodedData at 0x2b3b55d41f0>"
      ]
     },
     "execution_count": 299,
     "metadata": {},
     "output_type": "execute_result"
    }
   ],
   "source": [
    "input_params.dataset.encoded_data"
   ]
  },
  {
   "cell_type": "code",
   "execution_count": 300,
   "metadata": {},
   "outputs": [
    {
     "data": {
      "text/plain": [
       "<immuneML.environment.Label.Label at 0x2b3ac9b50a0>"
      ]
     },
     "execution_count": 300,
     "metadata": {},
     "output_type": "execute_result"
    }
   ],
   "source": [
    "input_params.label"
   ]
  },
  {
   "cell_type": "code",
   "execution_count": 301,
   "metadata": {},
   "outputs": [
    {
     "data": {
      "text/plain": [
       "3"
      ]
     },
     "execution_count": 301,
     "metadata": {},
     "output_type": "execute_result"
    }
   ],
   "source": [
    "input_params.cores_for_training"
   ]
  },
  {
   "cell_type": "code",
   "execution_count": 295,
   "metadata": {},
   "outputs": [
    {
     "name": "stdout",
     "output_type": "stream",
     "text": [
      "2022-05-14 16:20:36.279693: ML model training started...\n"
     ]
    },
    {
     "ename": "TypeError",
     "evalue": "'NoneType' object is not iterable",
     "output_type": "error",
     "traceback": [
      "\u001b[1;31m---------------------------------------------------------------------------\u001b[0m",
      "\u001b[1;31mTypeError\u001b[0m                                 Traceback (most recent call last)",
      "Input \u001b[1;32mIn [295]\u001b[0m, in \u001b[0;36m<cell line: 1>\u001b[1;34m()\u001b[0m\n\u001b[1;32m----> 1\u001b[0m method \u001b[39m=\u001b[39m MLMethodTrainer\u001b[39m.\u001b[39;49mrun(MLMethodTrainerParams(\n\u001b[0;32m      2\u001b[0m     method \u001b[39m=\u001b[39;49m copy\u001b[39m.\u001b[39;49mdeepcopy(hp_setting\u001b[39m.\u001b[39;49mml_method),\n\u001b[0;32m      3\u001b[0m     result_path\u001b[39m=\u001b[39;49m path \u001b[39m/\u001b[39;49m \u001b[39m\"\u001b[39;49m\u001b[39mml_method\u001b[39;49m\u001b[39m\"\u001b[39;49m ,\n\u001b[0;32m      4\u001b[0m \n\u001b[0;32m      5\u001b[0m     dataset \u001b[39m=\u001b[39;49m encode_train_dataset,\n\u001b[0;32m      6\u001b[0m \n\u001b[0;32m      7\u001b[0m     label \u001b[39m=\u001b[39;49m label ,\n\u001b[0;32m      8\u001b[0m \n\u001b[0;32m      9\u001b[0m     train_predictions_path \u001b[39m=\u001b[39;49m train_predictions_path,\n\u001b[0;32m     10\u001b[0m \n\u001b[0;32m     11\u001b[0m     ml_details_path \u001b[39m=\u001b[39;49m ml_details_path,\n\u001b[0;32m     12\u001b[0m \n\u001b[0;32m     13\u001b[0m     model_selection_cv \u001b[39m=\u001b[39;49m hp_setting\u001b[39m.\u001b[39;49mml_params[\u001b[39m\"\u001b[39;49m\u001b[39mmodel_selection_cv\u001b[39;49m\u001b[39m\"\u001b[39;49m],\n\u001b[0;32m     14\u001b[0m \n\u001b[0;32m     15\u001b[0m     model_selection_n_folds\u001b[39m=\u001b[39;49mhp_setting\u001b[39m.\u001b[39;49mml_params[\u001b[39m\"\u001b[39;49m\u001b[39mmodel_selection_n_folds\u001b[39;49m\u001b[39m\"\u001b[39;49m],\n\u001b[0;32m     16\u001b[0m \n\u001b[0;32m     17\u001b[0m     cores_for_training \u001b[39m=\u001b[39;49m number_of_processes,\n\u001b[0;32m     18\u001b[0m \n\u001b[0;32m     19\u001b[0m     optimization_metric\u001b[39m=\u001b[39;49m optimisatization_metric\u001b[39m.\u001b[39;49mname\u001b[39m.\u001b[39;49mlower()\n\u001b[0;32m     20\u001b[0m ))\n",
      "File \u001b[1;32m~\\Desktop\\PhD projects\\immuneML\\immuneML\\immuneML\\workflows\\steps\\MLMethodTrainer.py:19\u001b[0m, in \u001b[0;36mMLMethodTrainer.run\u001b[1;34m(input_params)\u001b[0m\n\u001b[0;32m     <a href='file:///c%3A/Users/karth/Desktop/PhD%20projects/immuneML/immuneML/immuneML/workflows/steps/MLMethodTrainer.py?line=15'>16</a>\u001b[0m \u001b[39mprint\u001b[39m(\u001b[39mf\u001b[39m\u001b[39m\"\u001b[39m\u001b[39m{\u001b[39;00mdatetime\u001b[39m.\u001b[39mdatetime\u001b[39m.\u001b[39mnow()\u001b[39m}\u001b[39;00m\u001b[39m: ML model training started...\u001b[39m\u001b[39m\"\u001b[39m, flush\u001b[39m=\u001b[39m\u001b[39mTrue\u001b[39;00m)\n\u001b[0;32m     <a href='file:///c%3A/Users/karth/Desktop/PhD%20projects/immuneML/immuneML/immuneML/workflows/steps/MLMethodTrainer.py?line=17'>18</a>\u001b[0m method \u001b[39m=\u001b[39m MLMethodTrainer\u001b[39m.\u001b[39m_fit_method(input_params)\n\u001b[1;32m---> <a href='file:///c%3A/Users/karth/Desktop/PhD%20projects/immuneML/immuneML/immuneML/workflows/steps/MLMethodTrainer.py?line=18'>19</a>\u001b[0m MLMethodTrainer\u001b[39m.\u001b[39;49mstore(method, input_params)\n\u001b[0;32m     <a href='file:///c%3A/Users/karth/Desktop/PhD%20projects/immuneML/immuneML/immuneML/workflows/steps/MLMethodTrainer.py?line=20'>21</a>\u001b[0m \u001b[39mprint\u001b[39m(\u001b[39mf\u001b[39m\u001b[39m\"\u001b[39m\u001b[39m{\u001b[39;00mdatetime\u001b[39m.\u001b[39mdatetime\u001b[39m.\u001b[39mnow()\u001b[39m}\u001b[39;00m\u001b[39m: ML model training finished.\u001b[39m\u001b[39m\"\u001b[39m, flush\u001b[39m=\u001b[39m\u001b[39mTrue\u001b[39;00m)\n\u001b[0;32m     <a href='file:///c%3A/Users/karth/Desktop/PhD%20projects/immuneML/immuneML/immuneML/workflows/steps/MLMethodTrainer.py?line=22'>23</a>\u001b[0m \u001b[39mreturn\u001b[39;00m method\n",
      "File \u001b[1;32m~\\Desktop\\PhD projects\\immuneML\\immuneML\\immuneML\\workflows\\steps\\MLMethodTrainer.py:52\u001b[0m, in \u001b[0;36mMLMethodTrainer.store\u001b[1;34m(method, input_params)\u001b[0m\n\u001b[0;32m     <a href='file:///c%3A/Users/karth/Desktop/PhD%20projects/immuneML/immuneML/immuneML/workflows/steps/MLMethodTrainer.py?line=46'>47</a>\u001b[0m df \u001b[39m=\u001b[39m pd\u001b[39m.\u001b[39mDataFrame({\u001b[39m\"\u001b[39m\u001b[39mexample_ids\u001b[39m\u001b[39m\"\u001b[39m: input_params\u001b[39m.\u001b[39mdataset\u001b[39m.\u001b[39mencoded_data\u001b[39m.\u001b[39mexample_ids,\n\u001b[0;32m     <a href='file:///c%3A/Users/karth/Desktop/PhD%20projects/immuneML/immuneML/immuneML/workflows/steps/MLMethodTrainer.py?line=47'>48</a>\u001b[0m                    \u001b[39mf\u001b[39m\u001b[39m\"\u001b[39m\u001b[39m{\u001b[39;00minput_params\u001b[39m.\u001b[39mlabel\u001b[39m.\u001b[39mname\u001b[39m}\u001b[39;00m\u001b[39m_predicted_class\u001b[39m\u001b[39m\"\u001b[39m: train_predictions[input_params\u001b[39m.\u001b[39mlabel\u001b[39m.\u001b[39mname],\n\u001b[0;32m     <a href='file:///c%3A/Users/karth/Desktop/PhD%20projects/immuneML/immuneML/immuneML/workflows/steps/MLMethodTrainer.py?line=48'>49</a>\u001b[0m                    \u001b[39mf\u001b[39m\u001b[39m\"\u001b[39m\u001b[39m{\u001b[39;00minput_params\u001b[39m.\u001b[39mlabel\u001b[39m.\u001b[39mname\u001b[39m}\u001b[39;00m\u001b[39m_true_class\u001b[39m\u001b[39m\"\u001b[39m: input_params\u001b[39m.\u001b[39mdataset\u001b[39m.\u001b[39mencoded_data\u001b[39m.\u001b[39mlabels[input_params\u001b[39m.\u001b[39mlabel\u001b[39m.\u001b[39mname]})\n\u001b[0;32m     <a href='file:///c%3A/Users/karth/Desktop/PhD%20projects/immuneML/immuneML/immuneML/workflows/steps/MLMethodTrainer.py?line=50'>51</a>\u001b[0m classes \u001b[39m=\u001b[39m method\u001b[39m.\u001b[39mget_classes()\n\u001b[1;32m---> <a href='file:///c%3A/Users/karth/Desktop/PhD%20projects/immuneML/immuneML/immuneML/workflows/steps/MLMethodTrainer.py?line=51'>52</a>\u001b[0m \u001b[39mfor\u001b[39;00m cls_index, \u001b[39mcls\u001b[39m \u001b[39min\u001b[39;00m \u001b[39menumerate\u001b[39;49m(classes):\n\u001b[0;32m     <a href='file:///c%3A/Users/karth/Desktop/PhD%20projects/immuneML/immuneML/immuneML/workflows/steps/MLMethodTrainer.py?line=52'>53</a>\u001b[0m     tmp \u001b[39m=\u001b[39m train_proba_predictions[input_params\u001b[39m.\u001b[39mlabel\u001b[39m.\u001b[39mname][:, cls_index] \u001b[39mif\u001b[39;00m train_proba_predictions \u001b[39mis\u001b[39;00m \u001b[39mnot\u001b[39;00m \u001b[39mNone\u001b[39;00m \u001b[39mand\u001b[39;00m train_proba_predictions[input_params\u001b[39m.\u001b[39mlabel\u001b[39m.\u001b[39mname] \u001b[39mis\u001b[39;00m \u001b[39mnot\u001b[39;00m \u001b[39mNone\u001b[39;00m \u001b[39melse\u001b[39;00m \u001b[39mNone\u001b[39;00m\n\u001b[0;32m     <a href='file:///c%3A/Users/karth/Desktop/PhD%20projects/immuneML/immuneML/immuneML/workflows/steps/MLMethodTrainer.py?line=53'>54</a>\u001b[0m     df[\u001b[39mf\u001b[39m\u001b[39m\"\u001b[39m\u001b[39m{\u001b[39;00minput_params\u001b[39m.\u001b[39mlabel\u001b[39m.\u001b[39mname\u001b[39m}\u001b[39;00m\u001b[39m_\u001b[39m\u001b[39m{\u001b[39;00m\u001b[39mcls\u001b[39m\u001b[39m}\u001b[39;00m\u001b[39m_proba\u001b[39m\u001b[39m\"\u001b[39m] \u001b[39m=\u001b[39m tmp\n",
      "\u001b[1;31mTypeError\u001b[0m: 'NoneType' object is not iterable"
     ]
    }
   ],
   "source": [
    "method = MLMethodTrainer.run(MLMethodTrainerParams(\n",
    "    method = copy.deepcopy(hp_setting.ml_method),\n",
    "    result_path= path / \"ml_method\" ,\n",
    "\n",
    "    dataset = encode_train_dataset,\n",
    "\n",
    "    label = label ,\n",
    "\n",
    "    train_predictions_path = train_predictions_path,\n",
    "\n",
    "    ml_details_path = ml_details_path,\n",
    "\n",
    "    model_selection_cv = hp_setting.ml_params[\"model_selection_cv\"],\n",
    "\n",
    "    model_selection_n_folds=hp_setting.ml_params[\"model_selection_n_folds\"],\n",
    "\n",
    "    cores_for_training = number_of_processes,\n",
    "\n",
    "    optimization_metric= optimisatization_metric.name.lower()\n",
    "))\n"
   ]
  },
  {
   "cell_type": "code",
   "execution_count": 282,
   "metadata": {},
   "outputs": [
    {
     "name": "stdout",
     "output_type": "stream",
     "text": [
      "2022-05-14 16:09:50.682230: ML model training started...\n"
     ]
    },
    {
     "ename": "TypeError",
     "evalue": "'NoneType' object is not iterable",
     "output_type": "error",
     "traceback": [
      "\u001b[1;31m---------------------------------------------------------------------------\u001b[0m",
      "\u001b[1;31mTypeError\u001b[0m                                 Traceback (most recent call last)",
      "Input \u001b[1;32mIn [282]\u001b[0m, in \u001b[0;36m<cell line: 1>\u001b[1;34m()\u001b[0m\n\u001b[1;32m----> 1\u001b[0m method \u001b[39m=\u001b[39m HPUtil\u001b[39m.\u001b[39;49mtrain_method(label , encode_train_dataset, hp_setting, path ,train_predictions_path, ml_details_path , number_of_processes, optimisatization_metric )\n",
      "File \u001b[1;32m~\\Desktop\\PhD projects\\immuneML\\immuneML\\immuneML\\hyperparameter_optimization\\core\\HPUtil.py:75\u001b[0m, in \u001b[0;36mHPUtil.train_method\u001b[1;34m(label, dataset, hp_setting, path, train_predictions_path, ml_details_path, cores_for_training, optimization_metric)\u001b[0m\n\u001b[0;32m     <a href='file:///c%3A/Users/karth/Desktop/PhD%20projects/immuneML/immuneML/immuneML/hyperparameter_optimization/core/HPUtil.py?line=72'>73</a>\u001b[0m \u001b[39m@staticmethod\u001b[39m\n\u001b[0;32m     <a href='file:///c%3A/Users/karth/Desktop/PhD%20projects/immuneML/immuneML/immuneML/hyperparameter_optimization/core/HPUtil.py?line=73'>74</a>\u001b[0m \u001b[39mdef\u001b[39;00m \u001b[39mtrain_method\u001b[39m(label: Label, dataset, hp_setting: HPSetting, path: Path, train_predictions_path, ml_details_path, cores_for_training, optimization_metric) \u001b[39m-\u001b[39m\u001b[39m>\u001b[39m MLMethod:\n\u001b[1;32m---> <a href='file:///c%3A/Users/karth/Desktop/PhD%20projects/immuneML/immuneML/immuneML/hyperparameter_optimization/core/HPUtil.py?line=74'>75</a>\u001b[0m     method \u001b[39m=\u001b[39m MLMethodTrainer\u001b[39m.\u001b[39;49mrun(MLMethodTrainerParams(\n\u001b[0;32m     <a href='file:///c%3A/Users/karth/Desktop/PhD%20projects/immuneML/immuneML/immuneML/hyperparameter_optimization/core/HPUtil.py?line=75'>76</a>\u001b[0m         method\u001b[39m=\u001b[39;49mcopy\u001b[39m.\u001b[39;49mdeepcopy(hp_setting\u001b[39m.\u001b[39;49mml_method),\n\u001b[0;32m     <a href='file:///c%3A/Users/karth/Desktop/PhD%20projects/immuneML/immuneML/immuneML/hyperparameter_optimization/core/HPUtil.py?line=76'>77</a>\u001b[0m         result_path\u001b[39m=\u001b[39;49mpath \u001b[39m/\u001b[39;49m \u001b[39m\"\u001b[39;49m\u001b[39mml_method\u001b[39;49m\u001b[39m\"\u001b[39;49m,\n\u001b[0;32m     <a href='file:///c%3A/Users/karth/Desktop/PhD%20projects/immuneML/immuneML/immuneML/hyperparameter_optimization/core/HPUtil.py?line=77'>78</a>\u001b[0m         dataset\u001b[39m=\u001b[39;49mdataset,\n\u001b[0;32m     <a href='file:///c%3A/Users/karth/Desktop/PhD%20projects/immuneML/immuneML/immuneML/hyperparameter_optimization/core/HPUtil.py?line=78'>79</a>\u001b[0m         label\u001b[39m=\u001b[39;49mlabel,\n\u001b[0;32m     <a href='file:///c%3A/Users/karth/Desktop/PhD%20projects/immuneML/immuneML/immuneML/hyperparameter_optimization/core/HPUtil.py?line=79'>80</a>\u001b[0m         train_predictions_path\u001b[39m=\u001b[39;49mtrain_predictions_path,\n\u001b[0;32m     <a href='file:///c%3A/Users/karth/Desktop/PhD%20projects/immuneML/immuneML/immuneML/hyperparameter_optimization/core/HPUtil.py?line=80'>81</a>\u001b[0m         ml_details_path\u001b[39m=\u001b[39;49mml_details_path,\n\u001b[0;32m     <a href='file:///c%3A/Users/karth/Desktop/PhD%20projects/immuneML/immuneML/immuneML/hyperparameter_optimization/core/HPUtil.py?line=81'>82</a>\u001b[0m         model_selection_cv\u001b[39m=\u001b[39;49mhp_setting\u001b[39m.\u001b[39;49mml_params[\u001b[39m\"\u001b[39;49m\u001b[39mmodel_selection_cv\u001b[39;49m\u001b[39m\"\u001b[39;49m],\n\u001b[0;32m     <a href='file:///c%3A/Users/karth/Desktop/PhD%20projects/immuneML/immuneML/immuneML/hyperparameter_optimization/core/HPUtil.py?line=82'>83</a>\u001b[0m         model_selection_n_folds\u001b[39m=\u001b[39;49mhp_setting\u001b[39m.\u001b[39;49mml_params[\u001b[39m\"\u001b[39;49m\u001b[39mmodel_selection_n_folds\u001b[39;49m\u001b[39m\"\u001b[39;49m],\n\u001b[0;32m     <a href='file:///c%3A/Users/karth/Desktop/PhD%20projects/immuneML/immuneML/immuneML/hyperparameter_optimization/core/HPUtil.py?line=83'>84</a>\u001b[0m         cores_for_training\u001b[39m=\u001b[39;49mcores_for_training,\n\u001b[0;32m     <a href='file:///c%3A/Users/karth/Desktop/PhD%20projects/immuneML/immuneML/immuneML/hyperparameter_optimization/core/HPUtil.py?line=84'>85</a>\u001b[0m         optimization_metric\u001b[39m=\u001b[39;49moptimization_metric\u001b[39m.\u001b[39;49mname\u001b[39m.\u001b[39;49mlower()\n\u001b[0;32m     <a href='file:///c%3A/Users/karth/Desktop/PhD%20projects/immuneML/immuneML/immuneML/hyperparameter_optimization/core/HPUtil.py?line=85'>86</a>\u001b[0m     ))\n\u001b[0;32m     <a href='file:///c%3A/Users/karth/Desktop/PhD%20projects/immuneML/immuneML/immuneML/hyperparameter_optimization/core/HPUtil.py?line=86'>87</a>\u001b[0m     \u001b[39mreturn\u001b[39;00m method\n",
      "File \u001b[1;32m~\\Desktop\\PhD projects\\immuneML\\immuneML\\immuneML\\workflows\\steps\\MLMethodTrainer.py:19\u001b[0m, in \u001b[0;36mMLMethodTrainer.run\u001b[1;34m(input_params)\u001b[0m\n\u001b[0;32m     <a href='file:///c%3A/Users/karth/Desktop/PhD%20projects/immuneML/immuneML/immuneML/workflows/steps/MLMethodTrainer.py?line=15'>16</a>\u001b[0m \u001b[39mprint\u001b[39m(\u001b[39mf\u001b[39m\u001b[39m\"\u001b[39m\u001b[39m{\u001b[39;00mdatetime\u001b[39m.\u001b[39mdatetime\u001b[39m.\u001b[39mnow()\u001b[39m}\u001b[39;00m\u001b[39m: ML model training started...\u001b[39m\u001b[39m\"\u001b[39m, flush\u001b[39m=\u001b[39m\u001b[39mTrue\u001b[39;00m)\n\u001b[0;32m     <a href='file:///c%3A/Users/karth/Desktop/PhD%20projects/immuneML/immuneML/immuneML/workflows/steps/MLMethodTrainer.py?line=17'>18</a>\u001b[0m method \u001b[39m=\u001b[39m MLMethodTrainer\u001b[39m.\u001b[39m_fit_method(input_params)\n\u001b[1;32m---> <a href='file:///c%3A/Users/karth/Desktop/PhD%20projects/immuneML/immuneML/immuneML/workflows/steps/MLMethodTrainer.py?line=18'>19</a>\u001b[0m MLMethodTrainer\u001b[39m.\u001b[39;49mstore(method, input_params)\n\u001b[0;32m     <a href='file:///c%3A/Users/karth/Desktop/PhD%20projects/immuneML/immuneML/immuneML/workflows/steps/MLMethodTrainer.py?line=20'>21</a>\u001b[0m \u001b[39mprint\u001b[39m(\u001b[39mf\u001b[39m\u001b[39m\"\u001b[39m\u001b[39m{\u001b[39;00mdatetime\u001b[39m.\u001b[39mdatetime\u001b[39m.\u001b[39mnow()\u001b[39m}\u001b[39;00m\u001b[39m: ML model training finished.\u001b[39m\u001b[39m\"\u001b[39m, flush\u001b[39m=\u001b[39m\u001b[39mTrue\u001b[39;00m)\n\u001b[0;32m     <a href='file:///c%3A/Users/karth/Desktop/PhD%20projects/immuneML/immuneML/immuneML/workflows/steps/MLMethodTrainer.py?line=22'>23</a>\u001b[0m \u001b[39mreturn\u001b[39;00m method\n",
      "File \u001b[1;32m~\\Desktop\\PhD projects\\immuneML\\immuneML\\immuneML\\workflows\\steps\\MLMethodTrainer.py:52\u001b[0m, in \u001b[0;36mMLMethodTrainer.store\u001b[1;34m(method, input_params)\u001b[0m\n\u001b[0;32m     <a href='file:///c%3A/Users/karth/Desktop/PhD%20projects/immuneML/immuneML/immuneML/workflows/steps/MLMethodTrainer.py?line=46'>47</a>\u001b[0m df \u001b[39m=\u001b[39m pd\u001b[39m.\u001b[39mDataFrame({\u001b[39m\"\u001b[39m\u001b[39mexample_ids\u001b[39m\u001b[39m\"\u001b[39m: input_params\u001b[39m.\u001b[39mdataset\u001b[39m.\u001b[39mencoded_data\u001b[39m.\u001b[39mexample_ids,\n\u001b[0;32m     <a href='file:///c%3A/Users/karth/Desktop/PhD%20projects/immuneML/immuneML/immuneML/workflows/steps/MLMethodTrainer.py?line=47'>48</a>\u001b[0m                    \u001b[39mf\u001b[39m\u001b[39m\"\u001b[39m\u001b[39m{\u001b[39;00minput_params\u001b[39m.\u001b[39mlabel\u001b[39m.\u001b[39mname\u001b[39m}\u001b[39;00m\u001b[39m_predicted_class\u001b[39m\u001b[39m\"\u001b[39m: train_predictions[input_params\u001b[39m.\u001b[39mlabel\u001b[39m.\u001b[39mname],\n\u001b[0;32m     <a href='file:///c%3A/Users/karth/Desktop/PhD%20projects/immuneML/immuneML/immuneML/workflows/steps/MLMethodTrainer.py?line=48'>49</a>\u001b[0m                    \u001b[39mf\u001b[39m\u001b[39m\"\u001b[39m\u001b[39m{\u001b[39;00minput_params\u001b[39m.\u001b[39mlabel\u001b[39m.\u001b[39mname\u001b[39m}\u001b[39;00m\u001b[39m_true_class\u001b[39m\u001b[39m\"\u001b[39m: input_params\u001b[39m.\u001b[39mdataset\u001b[39m.\u001b[39mencoded_data\u001b[39m.\u001b[39mlabels[input_params\u001b[39m.\u001b[39mlabel\u001b[39m.\u001b[39mname]})\n\u001b[0;32m     <a href='file:///c%3A/Users/karth/Desktop/PhD%20projects/immuneML/immuneML/immuneML/workflows/steps/MLMethodTrainer.py?line=50'>51</a>\u001b[0m classes \u001b[39m=\u001b[39m method\u001b[39m.\u001b[39mget_classes()\n\u001b[1;32m---> <a href='file:///c%3A/Users/karth/Desktop/PhD%20projects/immuneML/immuneML/immuneML/workflows/steps/MLMethodTrainer.py?line=51'>52</a>\u001b[0m \u001b[39mfor\u001b[39;00m cls_index, \u001b[39mcls\u001b[39m \u001b[39min\u001b[39;00m \u001b[39menumerate\u001b[39;49m(classes):\n\u001b[0;32m     <a href='file:///c%3A/Users/karth/Desktop/PhD%20projects/immuneML/immuneML/immuneML/workflows/steps/MLMethodTrainer.py?line=52'>53</a>\u001b[0m     tmp \u001b[39m=\u001b[39m train_proba_predictions[input_params\u001b[39m.\u001b[39mlabel\u001b[39m.\u001b[39mname][:, cls_index] \u001b[39mif\u001b[39;00m train_proba_predictions \u001b[39mis\u001b[39;00m \u001b[39mnot\u001b[39;00m \u001b[39mNone\u001b[39;00m \u001b[39mand\u001b[39;00m train_proba_predictions[input_params\u001b[39m.\u001b[39mlabel\u001b[39m.\u001b[39mname] \u001b[39mis\u001b[39;00m \u001b[39mnot\u001b[39;00m \u001b[39mNone\u001b[39;00m \u001b[39melse\u001b[39;00m \u001b[39mNone\u001b[39;00m\n\u001b[0;32m     <a href='file:///c%3A/Users/karth/Desktop/PhD%20projects/immuneML/immuneML/immuneML/workflows/steps/MLMethodTrainer.py?line=53'>54</a>\u001b[0m     df[\u001b[39mf\u001b[39m\u001b[39m\"\u001b[39m\u001b[39m{\u001b[39;00minput_params\u001b[39m.\u001b[39mlabel\u001b[39m.\u001b[39mname\u001b[39m}\u001b[39;00m\u001b[39m_\u001b[39m\u001b[39m{\u001b[39;00m\u001b[39mcls\u001b[39m\u001b[39m}\u001b[39;00m\u001b[39m_proba\u001b[39m\u001b[39m\"\u001b[39m] \u001b[39m=\u001b[39m tmp\n",
      "\u001b[1;31mTypeError\u001b[0m: 'NoneType' object is not iterable"
     ]
    }
   ],
   "source": [
    "method = HPUtil.train_method(label , encode_train_dataset, hp_setting, path ,train_predictions_path, ml_details_path , number_of_processes, optimisatization_metric )"
   ]
  },
  {
   "cell_type": "code",
   "execution_count": 263,
   "metadata": {},
   "outputs": [
    {
     "name": "stdout",
     "output_type": "stream",
     "text": [
      "2022-05-14 16:02:50.752743: Evaluating hyperparameter setting: e1_simpleLR...\n",
      "2022-05-14 16:02:50.754773: Encoding started...\n",
      "2022-05-14 16:02:50.790741: Encoding finished.\n"
     ]
    }
   ],
   "source": [
    "MLProcess()"
   ]
  },
  {
   "cell_type": "code",
   "execution_count": 234,
   "metadata": {},
   "outputs": [],
   "source": []
  },
  {
   "cell_type": "code",
   "execution_count": 283,
   "metadata": {},
   "outputs": [],
   "source": [
    "def evaluate_hp_setting(hp_setting,train_datasets, val_datasets, selection_path, label, index):\n",
    "    performances = []\n",
    "\n",
    "    for index1 in range(split_config_selection.split_count):\n",
    "\n",
    "        hp_item = MLProcess(\n",
    "            train_dataset=train_datasets[index1], test_dataset=val_datasets[index1], encoding_reports=split_config_selection.reports.encoding_reports.values(), label_config=LabelConfiguration([label]),\n",
    "            report_context=context, number_of_processes=number_of_processes, metrics=metrics,\n",
    "            optimization_metric=optimisatization_metric, ml_reports=split_config_selection.reports.model_reports.values(), label=label, path=selection_path / f\"split_{index1 + 1}\" / f\"{label.name}_{hp_setting.get_key()}\", hp_setting=hp_setting).run(index1 + 1)\n",
    "\n",
    "        assessment_states[index].label_states[label.name].selection_state.hp_items[hp_setting.get_key(\n",
    "        )].append(hp_item)\n",
    "\n",
    "        performance = hp_item.performance[optimisatization_metric.name.lower(\n",
    "        )] if hp_item.performance is not None else None\n",
    "\n",
    "        performance.append(performance)\n",
    "\n",
    "    return HPUtil.get_average_performance(performances)\n"
   ]
  },
  {
   "cell_type": "code",
   "execution_count": 284,
   "metadata": {},
   "outputs": [],
   "source": [
    "from immuneML.reports.ReportUtil import ReportUtil\n"
   ]
  },
  {
   "cell_type": "code",
   "execution_count": 285,
   "metadata": {},
   "outputs": [],
   "source": [
    "def run_selection_reports(dataset, train_datasets: list, val_datasets: list, selection_state: HPSelectionState):\n",
    "    path = selection_state.path\n",
    "    data_split_reports = split_config_selection.reports.data_split_reports.values()\n",
    "    for index in range(len(train_datasets)):\n",
    "        split_reports_path = path / f\"split_{index + 1}\"\n",
    "\n",
    "        selection_state.train_data_reports += ReportUtil.run_data_reports(train_datasets[index], data_split_reports,\n",
    "                                                                             split_reports_path / \"data_reports_train\",\n",
    "                                                                             number_of_processes, context)\n",
    "        selection_state.val_data_reports += ReportUtil.run_data_reports(val_datasets[index], data_split_reports,\n",
    "                                                                            split_reports_path / \"data_reports_test\",\n",
    "                                                                            number_of_processes, context)\n",
    "\n",
    "    data_reports = split_config_selection.reports.data_reports.values()\n",
    "    selection_state.data_reports = ReportUtil.run_data_reports(dataset, data_reports, path / \"reports\",\n",
    "                                                                number_of_processes, context)\n"
   ]
  },
  {
   "cell_type": "code",
   "execution_count": 286,
   "metadata": {},
   "outputs": [],
   "source": [
    "import datetime\n"
   ]
  },
  {
   "cell_type": "code",
   "execution_count": 287,
   "metadata": {},
   "outputs": [
    {
     "data": {
      "text/plain": [
       "0"
      ]
     },
     "execution_count": 287,
     "metadata": {},
     "output_type": "execute_result"
    }
   ],
   "source": [
    "index"
   ]
  },
  {
   "cell_type": "code",
   "execution_count": 288,
   "metadata": {},
   "outputs": [
    {
     "name": "stdout",
     "output_type": "stream",
     "text": [
      "2022-05-14 16:10:45.793016: Hyperparameter optimization: running the inner loop of nested CV: selection for label my_signal (label 1 / 1).\n",
      "\n",
      "2022-05-14 16:10:45.796015: Evaluating hyperparameter setting: e1_simpleLR...\n",
      "2022-05-14 16:10:45.798011: Encoding started...\n",
      "2022-05-14 16:10:45.841013: Encoding finished.\n"
     ]
    },
    {
     "ename": "AttributeError",
     "evalue": "'NoneType' object has no attribute 'run'",
     "output_type": "error",
     "traceback": [
      "\u001b[1;31m---------------------------------------------------------------------------\u001b[0m",
      "\u001b[1;31mAttributeError\u001b[0m                            Traceback (most recent call last)",
      "Input \u001b[1;32mIn [288]\u001b[0m, in \u001b[0;36m<cell line: 1>\u001b[1;34m()\u001b[0m\n\u001b[0;32m      9\u001b[0m hp_setting \u001b[39m=\u001b[39m selection_state\u001b[39m.\u001b[39mhp_strategy\u001b[39m.\u001b[39mgenerate_next_setting()\n\u001b[0;32m     10\u001b[0m \u001b[39mwhile\u001b[39;00m hp_setting \u001b[39mis\u001b[39;00m \u001b[39mnot\u001b[39;00m \u001b[39mNone\u001b[39;00m:\n\u001b[1;32m---> 11\u001b[0m      performance \u001b[39m=\u001b[39m evaluate_hp_setting( hp_setting, train_datasets, val_datasets, selection_path, label, index)\n\u001b[0;32m     12\u001b[0m      hp_setting \u001b[39m=\u001b[39m selection_state\u001b[39m.\u001b[39mhp_strategy\u001b[39m.\u001b[39mgenerate_next_setting(\n\u001b[0;32m     13\u001b[0m              hp_setting, performance)\n\u001b[0;32m     15\u001b[0m run_selection_reports(\n\u001b[0;32m     16\u001b[0m     train_val_datasets[index], train_datasets, val_datasets, selection_state)\n",
      "\u001b[1;32mc:\\Users\\karth\\Desktop\\PhD projects\\immuneML\\dev_immuneML\\immuneML\\Notebook\\quickstart_workflow.ipynb Cell 103'\u001b[0m in \u001b[0;36mevaluate_hp_setting\u001b[1;34m(hp_setting, train_datasets, val_datasets, selection_path, label, index)\u001b[0m\n\u001b[0;32m      <a href='vscode-notebook-cell:/c%3A/Users/karth/Desktop/PhD%20projects/immuneML/dev_immuneML/immuneML/Notebook/quickstart_workflow.ipynb#ch0000098?line=1'>2</a>\u001b[0m performances \u001b[39m=\u001b[39m []\n\u001b[0;32m      <a href='vscode-notebook-cell:/c%3A/Users/karth/Desktop/PhD%20projects/immuneML/dev_immuneML/immuneML/Notebook/quickstart_workflow.ipynb#ch0000098?line=3'>4</a>\u001b[0m \u001b[39mfor\u001b[39;00m index1 \u001b[39min\u001b[39;00m \u001b[39mrange\u001b[39m(split_config_selection\u001b[39m.\u001b[39msplit_count):\n\u001b[1;32m----> <a href='vscode-notebook-cell:/c%3A/Users/karth/Desktop/PhD%20projects/immuneML/dev_immuneML/immuneML/Notebook/quickstart_workflow.ipynb#ch0000098?line=5'>6</a>\u001b[0m     hp_item \u001b[39m=\u001b[39m MLProcess(\n\u001b[0;32m      <a href='vscode-notebook-cell:/c%3A/Users/karth/Desktop/PhD%20projects/immuneML/dev_immuneML/immuneML/Notebook/quickstart_workflow.ipynb#ch0000098?line=6'>7</a>\u001b[0m         train_dataset\u001b[39m=\u001b[39;49mtrain_datasets[index1], test_dataset\u001b[39m=\u001b[39;49mval_datasets[index1], encoding_reports\u001b[39m=\u001b[39;49msplit_config_selection\u001b[39m.\u001b[39;49mreports\u001b[39m.\u001b[39;49mencoding_reports\u001b[39m.\u001b[39;49mvalues(), label_config\u001b[39m=\u001b[39;49mLabelConfiguration([label]),\n\u001b[0;32m      <a href='vscode-notebook-cell:/c%3A/Users/karth/Desktop/PhD%20projects/immuneML/dev_immuneML/immuneML/Notebook/quickstart_workflow.ipynb#ch0000098?line=7'>8</a>\u001b[0m         report_context\u001b[39m=\u001b[39;49mcontext, number_of_processes\u001b[39m=\u001b[39;49mnumber_of_processes, metrics\u001b[39m=\u001b[39;49mmetrics,\n\u001b[0;32m      <a href='vscode-notebook-cell:/c%3A/Users/karth/Desktop/PhD%20projects/immuneML/dev_immuneML/immuneML/Notebook/quickstart_workflow.ipynb#ch0000098?line=8'>9</a>\u001b[0m         optimization_metric\u001b[39m=\u001b[39;49moptimisatization_metric, ml_reports\u001b[39m=\u001b[39;49msplit_config_selection\u001b[39m.\u001b[39;49mreports\u001b[39m.\u001b[39;49mmodel_reports\u001b[39m.\u001b[39;49mvalues(), label\u001b[39m=\u001b[39;49mlabel, path\u001b[39m=\u001b[39;49mselection_path \u001b[39m/\u001b[39;49m \u001b[39mf\u001b[39;49m\u001b[39m\"\u001b[39;49m\u001b[39msplit_\u001b[39;49m\u001b[39m{\u001b[39;49;00mindex1 \u001b[39m+\u001b[39;49m \u001b[39m1\u001b[39;49m\u001b[39m}\u001b[39;49;00m\u001b[39m\"\u001b[39;49m \u001b[39m/\u001b[39;49m \u001b[39mf\u001b[39;49m\u001b[39m\"\u001b[39;49m\u001b[39m{\u001b[39;49;00mlabel\u001b[39m.\u001b[39;49mname\u001b[39m}\u001b[39;49;00m\u001b[39m_\u001b[39;49m\u001b[39m{\u001b[39;49;00mhp_setting\u001b[39m.\u001b[39;49mget_key()\u001b[39m}\u001b[39;49;00m\u001b[39m\"\u001b[39;49m, hp_setting\u001b[39m=\u001b[39;49mhp_setting)\u001b[39m.\u001b[39;49mrun(index1 \u001b[39m+\u001b[39m \u001b[39m1\u001b[39m)\n\u001b[0;32m     <a href='vscode-notebook-cell:/c%3A/Users/karth/Desktop/PhD%20projects/immuneML/dev_immuneML/immuneML/Notebook/quickstart_workflow.ipynb#ch0000098?line=10'>11</a>\u001b[0m     assessment_states[index]\u001b[39m.\u001b[39mlabel_states[label\u001b[39m.\u001b[39mname]\u001b[39m.\u001b[39mselection_state\u001b[39m.\u001b[39mhp_items[hp_setting\u001b[39m.\u001b[39mget_key(\n\u001b[0;32m     <a href='vscode-notebook-cell:/c%3A/Users/karth/Desktop/PhD%20projects/immuneML/dev_immuneML/immuneML/Notebook/quickstart_workflow.ipynb#ch0000098?line=11'>12</a>\u001b[0m     )]\u001b[39m.\u001b[39mappend(hp_item)\n\u001b[0;32m     <a href='vscode-notebook-cell:/c%3A/Users/karth/Desktop/PhD%20projects/immuneML/dev_immuneML/immuneML/Notebook/quickstart_workflow.ipynb#ch0000098?line=13'>14</a>\u001b[0m     performance \u001b[39m=\u001b[39m hp_item\u001b[39m.\u001b[39mperformance[optimisatization_metric\u001b[39m.\u001b[39mname\u001b[39m.\u001b[39mlower(\n\u001b[0;32m     <a href='vscode-notebook-cell:/c%3A/Users/karth/Desktop/PhD%20projects/immuneML/dev_immuneML/immuneML/Notebook/quickstart_workflow.ipynb#ch0000098?line=14'>15</a>\u001b[0m     )] \u001b[39mif\u001b[39;00m hp_item\u001b[39m.\u001b[39mperformance \u001b[39mis\u001b[39;00m \u001b[39mnot\u001b[39;00m \u001b[39mNone\u001b[39;00m \u001b[39melse\u001b[39;00m \u001b[39mNone\u001b[39;00m\n",
      "\u001b[1;31mAttributeError\u001b[0m: 'NoneType' object has no attribute 'run'"
     ]
    }
   ],
   "source": [
    "for idx, label in enumerate(label_configuration.get_label_objects()):\n",
    "\n",
    "       print(f\"{datetime.datetime.now()}: Hyperparameter optimization: running the inner loop of nested CV: selection for label {label.name} \"\n",
    "              f\"(label {idx + 1} / {n_labels}).\\n\", flush=True)\n",
    "\n",
    "       selection_state = HPSelectionState(train_datasets, val_datasets, selection_path, HPStrategy)\n",
    "       assessment_states[index].label_states[label.name].selection_state = selection_state\n",
    "\n",
    "       hp_setting = selection_state.hp_strategy.generate_next_setting()\n",
    "       while hp_setting is not None:\n",
    "            performance = evaluate_hp_setting( hp_setting, train_datasets, val_datasets, selection_path, label, index)\n",
    "            hp_setting = selection_state.hp_strategy.generate_next_setting(\n",
    "                    hp_setting, performance)\n",
    "\n",
    "       run_selection_reports(\n",
    "           train_val_datasets[index], train_datasets, val_datasets, selection_state)\n",
    "\n",
    "       print(f\"{datetime.datetime.now()}: Hyperparameter optimization: running the inner loop of nested CV: completed selection for \"\n",
    "                  f\"label {label.name} (label {idx + 1} / {n_labels}).\\n\", flush=True)\n"
   ]
  },
  {
   "cell_type": "code",
   "execution_count": null,
   "metadata": {},
   "outputs": [],
   "source": []
  }
 ],
 "metadata": {
  "interpreter": {
   "hash": "a64f21293159cd9c4e596ef7fd6c17a9c99d13712885c299cb3370e7a4d97830"
  },
  "kernelspec": {
   "display_name": "Python 3.8.12 ('test')",
   "language": "python",
   "name": "python3"
  },
  "language_info": {
   "codemirror_mode": {
    "name": "ipython",
    "version": 3
   },
   "file_extension": ".py",
   "mimetype": "text/x-python",
   "name": "python",
   "nbconvert_exporter": "python",
   "pygments_lexer": "ipython3",
   "version": "3.8.12"
  },
  "orig_nbformat": 4
 },
 "nbformat": 4,
 "nbformat_minor": 2
}
