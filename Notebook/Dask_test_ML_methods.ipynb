{
 "cells": [
  {
   "cell_type": "code",
   "execution_count": 7,
   "metadata": {},
   "outputs": [
    {
     "ename": "ModuleNotFoundError",
     "evalue": "No module named 'immuneML.ml_methods.DaskLogisticRegression'",
     "output_type": "error",
     "traceback": [
      "\u001b[1;31m---------------------------------------------------------------------------\u001b[0m",
      "\u001b[1;31mModuleNotFoundError\u001b[0m                       Traceback (most recent call last)",
      "\u001b[1;32mc:\\Users\\karth\\Desktop\\PhD projects\\immuneML\\dev_immuneML\\immuneML\\Notebook\\Dask_test_ML_methods.ipynb Cell 1'\u001b[0m in \u001b[0;36m<cell line: 14>\u001b[1;34m()\u001b[0m\n\u001b[0;32m     <a href='vscode-notebook-cell:/c%3A/Users/karth/Desktop/PhD%20projects/immuneML/dev_immuneML/immuneML/Notebook/Dask_test_ML_methods.ipynb#ch0000000?line=11'>12</a>\u001b[0m \u001b[39mfrom\u001b[39;00m \u001b[39mimmuneML\u001b[39;00m\u001b[39m.\u001b[39;00m\u001b[39menvironment\u001b[39;00m\u001b[39m.\u001b[39;00m\u001b[39mEnvironmentSettings\u001b[39;00m \u001b[39mimport\u001b[39;00m EnvironmentSettings\n\u001b[0;32m     <a href='vscode-notebook-cell:/c%3A/Users/karth/Desktop/PhD%20projects/immuneML/dev_immuneML/immuneML/Notebook/Dask_test_ML_methods.ipynb#ch0000000?line=12'>13</a>\u001b[0m \u001b[39mfrom\u001b[39;00m \u001b[39mimmuneML\u001b[39;00m\u001b[39m.\u001b[39;00m\u001b[39menvironment\u001b[39;00m\u001b[39m.\u001b[39;00m\u001b[39mLabel\u001b[39;00m \u001b[39mimport\u001b[39;00m Label\n\u001b[1;32m---> <a href='vscode-notebook-cell:/c%3A/Users/karth/Desktop/PhD%20projects/immuneML/dev_immuneML/immuneML/Notebook/Dask_test_ML_methods.ipynb#ch0000000?line=13'>14</a>\u001b[0m \u001b[39mfrom\u001b[39;00m \u001b[39mimmuneML\u001b[39;00m\u001b[39m.\u001b[39;00m\u001b[39mml_methods\u001b[39;00m\u001b[39m.\u001b[39;00m\u001b[39mDaskLogisticRegression\u001b[39;00m \u001b[39mimport\u001b[39;00m DaskLogisticRegression\n\u001b[0;32m     <a href='vscode-notebook-cell:/c%3A/Users/karth/Desktop/PhD%20projects/immuneML/dev_immuneML/immuneML/Notebook/Dask_test_ML_methods.ipynb#ch0000000?line=14'>15</a>\u001b[0m \u001b[39mfrom\u001b[39;00m \u001b[39mimmuneML\u001b[39;00m\u001b[39m.\u001b[39;00m\u001b[39mutil\u001b[39;00m\u001b[39m.\u001b[39;00m\u001b[39mPathBuilder\u001b[39;00m \u001b[39mimport\u001b[39;00m PathBuilder\n",
      "\u001b[1;31mModuleNotFoundError\u001b[0m: No module named 'immuneML.ml_methods.DaskLogisticRegression'"
     ]
    }
   ],
   "source": [
    "import os\n",
    "import pickle\n",
    "import shutil\n",
    "from unittest import TestCase\n",
    "\n",
    "import numpy as np\n",
    "from sklearn.linear_model import LogisticRegression as SklearnLogisticRegression\n",
    "\n",
    "from immuneML.caching.CacheType import CacheType\n",
    "from immuneML.data_model.encoded_data.EncodedData import EncodedData\n",
    "from immuneML.environment.Constants import Constants\n",
    "from immuneML.environment.EnvironmentSettings import EnvironmentSettings\n",
    "from immuneML.environment.Label import Label\n",
    "from immuneML.ml_methods.DaskLogisticRegression import DaskLogisticRegression\n",
    "from immuneML.util.PathBuilder import PathBuilder\n"
   ]
  },
  {
   "cell_type": "code",
   "execution_count": 4,
   "metadata": {},
   "outputs": [
    {
     "ename": "AttributeError",
     "evalue": "module 'os' has no attribute 'env'",
     "output_type": "error",
     "traceback": [
      "\u001b[1;31m---------------------------------------------------------------------------\u001b[0m",
      "\u001b[1;31mAttributeError\u001b[0m                            Traceback (most recent call last)",
      "\u001b[1;32mc:\\Users\\karth\\Desktop\\PhD projects\\immuneML\\dev_immuneML\\immuneML\\Notebook\\Dask_test_ML_methods.ipynb Cell 2'\u001b[0m in \u001b[0;36m<cell line: 1>\u001b[1;34m()\u001b[0m\n\u001b[1;32m----> <a href='vscode-notebook-cell:/c%3A/Users/karth/Desktop/PhD%20projects/immuneML/dev_immuneML/immuneML/Notebook/Dask_test_ML_methods.ipynb#ch0000001?line=0'>1</a>\u001b[0m \u001b[39mprint\u001b[39m(os\u001b[39m.\u001b[39;49menv\u001b[39m.\u001b[39mPYTHONPATH)\n",
      "\u001b[1;31mAttributeError\u001b[0m: module 'os' has no attribute 'env'"
     ]
    }
   ],
   "source": [
    "print(os.env.PYTHONPATH)"
   ]
  },
  {
   "cell_type": "code",
   "execution_count": 6,
   "metadata": {},
   "outputs": [],
   "source": [
    "import sys\n",
    "sys.path.append('../')\n"
   ]
  },
  {
   "cell_type": "code",
   "execution_count": 8,
   "metadata": {},
   "outputs": [
    {
     "name": "stdout",
     "output_type": "stream",
     "text": [
      "['c:\\\\Users\\\\karth\\\\Desktop\\\\PhD projects\\\\immuneML\\\\dev_immuneML\\\\immuneML\\\\Notebook', 'C:\\\\Users\\\\karth\\\\Desktop\\\\PhD projects\\\\immuneML\\\\immuneML', 'c:\\\\Users\\\\karth\\\\anaconda3\\\\envs\\\\test\\\\python38.zip', 'c:\\\\Users\\\\karth\\\\anaconda3\\\\envs\\\\test\\\\DLLs', 'c:\\\\Users\\\\karth\\\\anaconda3\\\\envs\\\\test\\\\lib', 'c:\\\\Users\\\\karth\\\\anaconda3\\\\envs\\\\test', '', 'c:\\\\Users\\\\karth\\\\anaconda3\\\\envs\\\\test\\\\lib\\\\site-packages', 'c:\\\\users\\\\karth\\\\desktop\\\\phd projects\\\\immuneml\\\\dev_immuneml\\\\immuneml', 'c:\\\\Users\\\\karth\\\\anaconda3\\\\envs\\\\test\\\\lib\\\\site-packages\\\\win32', 'c:\\\\Users\\\\karth\\\\anaconda3\\\\envs\\\\test\\\\lib\\\\site-packages\\\\win32\\\\lib', 'c:\\\\Users\\\\karth\\\\anaconda3\\\\envs\\\\test\\\\lib\\\\site-packages\\\\Pythonwin', '../']\n"
     ]
    }
   ],
   "source": [
    "print(sys.path)"
   ]
  },
  {
   "cell_type": "code",
   "execution_count": null,
   "metadata": {},
   "outputs": [],
   "source": []
  }
 ],
 "metadata": {
  "interpreter": {
   "hash": "a64f21293159cd9c4e596ef7fd6c17a9c99d13712885c299cb3370e7a4d97830"
  },
  "kernelspec": {
   "display_name": "Python 3.8.12 ('test')",
   "language": "python",
   "name": "python3"
  },
  "language_info": {
   "codemirror_mode": {
    "name": "ipython",
    "version": 3
   },
   "file_extension": ".py",
   "mimetype": "text/x-python",
   "name": "python",
   "nbconvert_exporter": "python",
   "pygments_lexer": "ipython3",
   "version": "3.8.12"
  },
  "orig_nbformat": 4
 },
 "nbformat": 4,
 "nbformat_minor": 2
}
